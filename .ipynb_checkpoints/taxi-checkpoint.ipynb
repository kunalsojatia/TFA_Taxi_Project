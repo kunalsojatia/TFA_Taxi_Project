{
 "cells": [
  {
   "cell_type": "markdown",
   "id": "75ee76fc",
   "metadata": {},
   "source": [
    "# Getting Data from MTA Yellow Taxi"
   ]
  },
  {
   "cell_type": "code",
   "execution_count": 16,
   "id": "3b3e5a85",
   "metadata": {},
   "outputs": [],
   "source": [
    "import pandas as pd\n",
    "import requests\n",
    "import re\n",
    "from tqdm import tqdm\n",
    "import time\n",
    "import os\n",
    "import glob\n",
    "import math"
   ]
  },
  {
   "cell_type": "code",
   "execution_count": 285,
   "id": "4094eb6f",
   "metadata": {},
   "outputs": [],
   "source": [
    "\n",
    "from bs4 import BeautifulSoup\n",
    "  \n",
    "URL = \"https://www1.nyc.gov/site/tlc/about/tlc-trip-record-data.page\"\n",
    "r = requests.get(URL)\n",
    "  \n",
    "soup = BeautifulSoup(r.content, 'html5lib') \n",
    "# print(soup.prettify())"
   ]
  },
  {
   "cell_type": "code",
   "execution_count": 3,
   "id": "c52724c0",
   "metadata": {},
   "outputs": [],
   "source": [
    "soup = BeautifulSoup(r.content)\n",
    "table = soup.find_all('a',title=\"Yellow Taxi Trip Records\")"
   ]
  },
  {
   "cell_type": "code",
   "execution_count": 286,
   "id": "14573178",
   "metadata": {},
   "outputs": [],
   "source": [
    "# table"
   ]
  },
  {
   "cell_type": "code",
   "execution_count": 5,
   "id": "18b1ca53",
   "metadata": {},
   "outputs": [
    {
     "data": {
      "text/plain": [
       "bs4.element.ResultSet"
      ]
     },
     "execution_count": 5,
     "metadata": {},
     "output_type": "execute_result"
    }
   ],
   "source": [
    "type(table)"
   ]
  },
  {
   "cell_type": "code",
   "execution_count": 6,
   "id": "8478b85b",
   "metadata": {},
   "outputs": [],
   "source": [
    "\n",
    "links=[]\n",
    "for row in table:\n",
    "    match = re.search(r'href=[\\'\"]?([^\\'\" >]+)', str(row))\n",
    "    if match:\n",
    "        links.append(str(match.group(1)))"
   ]
  },
  {
   "cell_type": "code",
   "execution_count": 287,
   "id": "e390e5b5",
   "metadata": {},
   "outputs": [],
   "source": [
    "# links"
   ]
  },
  {
   "cell_type": "code",
   "execution_count": 8,
   "id": "b8989fa0",
   "metadata": {},
   "outputs": [],
   "source": [
    "pattern = r\"(?P<prefix>.*)(?P<tripdata>tripdata_)(?P<year>[0-9]{4})-(?P<month>[0-9]{2})(?P<rest>.*)\"\n",
    "newlinks=[]\n",
    "for eachlink in links:\n",
    "    match=re.search(pattern,eachlink)\n",
    "    year=int(match.group(\"year\"))\n",
    "    month=int(match.group(\"month\"))\n",
    "    \n",
    "    if (year>=2009) and (year<2015):\n",
    "        newlinks.append(eachlink)\n",
    "    elif (year==2015) and (month<=6):\n",
    "        newlinks.append(eachlink)"
   ]
  },
  {
   "cell_type": "code",
   "execution_count": 9,
   "id": "8522ef2b",
   "metadata": {
    "scrolled": true
   },
   "outputs": [
    {
     "data": {
      "text/plain": [
       "['https://s3.amazonaws.com/nyc-tlc/trip+data/yellow_tripdata_2015-01.csv',\n",
       " 'https://s3.amazonaws.com/nyc-tlc/trip+data/yellow_tripdata_2015-02.csv',\n",
       " 'https://s3.amazonaws.com/nyc-tlc/trip+data/yellow_tripdata_2015-03.csv',\n",
       " 'https://s3.amazonaws.com/nyc-tlc/trip+data/yellow_tripdata_2015-04.csv',\n",
       " 'https://s3.amazonaws.com/nyc-tlc/trip+data/yellow_tripdata_2015-05.csv',\n",
       " 'https://s3.amazonaws.com/nyc-tlc/trip+data/yellow_tripdata_2015-06.csv',\n",
       " 'https://s3.amazonaws.com/nyc-tlc/trip+data/yellow_tripdata_2014-01.csv',\n",
       " 'https://s3.amazonaws.com/nyc-tlc/trip+data/yellow_tripdata_2014-02.csv',\n",
       " 'https://s3.amazonaws.com/nyc-tlc/trip+data/yellow_tripdata_2014-03.csv',\n",
       " 'https://s3.amazonaws.com/nyc-tlc/trip+data/yellow_tripdata_2014-04.csv',\n",
       " 'https://s3.amazonaws.com/nyc-tlc/trip+data/yellow_tripdata_2014-05.csv',\n",
       " 'https://s3.amazonaws.com/nyc-tlc/trip+data/yellow_tripdata_2014-06.csv',\n",
       " 'https://s3.amazonaws.com/nyc-tlc/trip+data/yellow_tripdata_2014-07.csv',\n",
       " 'https://s3.amazonaws.com/nyc-tlc/trip+data/yellow_tripdata_2014-08.csv',\n",
       " 'https://s3.amazonaws.com/nyc-tlc/trip+data/yellow_tripdata_2014-09.csv',\n",
       " 'https://s3.amazonaws.com/nyc-tlc/trip+data/yellow_tripdata_2014-10.csv',\n",
       " 'https://s3.amazonaws.com/nyc-tlc/trip+data/yellow_tripdata_2014-11.csv',\n",
       " 'https://s3.amazonaws.com/nyc-tlc/trip+data/yellow_tripdata_2014-12.csv',\n",
       " 'https://s3.amazonaws.com/nyc-tlc/trip+data/yellow_tripdata_2013-01.csv',\n",
       " 'https://s3.amazonaws.com/nyc-tlc/trip+data/yellow_tripdata_2013-02.csv',\n",
       " 'https://s3.amazonaws.com/nyc-tlc/trip+data/yellow_tripdata_2013-03.csv',\n",
       " 'https://s3.amazonaws.com/nyc-tlc/trip+data/yellow_tripdata_2013-04.csv',\n",
       " 'https://s3.amazonaws.com/nyc-tlc/trip+data/yellow_tripdata_2013-05.csv',\n",
       " 'https://s3.amazonaws.com/nyc-tlc/trip+data/yellow_tripdata_2013-06.csv',\n",
       " 'https://s3.amazonaws.com/nyc-tlc/trip+data/yellow_tripdata_2013-07.csv',\n",
       " 'https://s3.amazonaws.com/nyc-tlc/trip+data/yellow_tripdata_2013-08.csv',\n",
       " 'https://s3.amazonaws.com/nyc-tlc/trip+data/yellow_tripdata_2013-09.csv',\n",
       " 'https://s3.amazonaws.com/nyc-tlc/trip+data/yellow_tripdata_2013-10.csv',\n",
       " 'https://s3.amazonaws.com/nyc-tlc/trip+data/yellow_tripdata_2013-11.csv',\n",
       " 'https://s3.amazonaws.com/nyc-tlc/trip+data/yellow_tripdata_2013-12.csv',\n",
       " 'https://s3.amazonaws.com/nyc-tlc/trip+data/yellow_tripdata_2012-01.csv',\n",
       " 'https://s3.amazonaws.com/nyc-tlc/trip+data/yellow_tripdata_2012-02.csv',\n",
       " 'https://s3.amazonaws.com/nyc-tlc/trip+data/yellow_tripdata_2012-03.csv',\n",
       " 'https://s3.amazonaws.com/nyc-tlc/trip+data/yellow_tripdata_2012-04.csv',\n",
       " 'https://s3.amazonaws.com/nyc-tlc/trip+data/yellow_tripdata_2012-05.csv',\n",
       " 'https://s3.amazonaws.com/nyc-tlc/trip+data/yellow_tripdata_2012-06.csv',\n",
       " 'https://s3.amazonaws.com/nyc-tlc/trip+data/yellow_tripdata_2012-07.csv',\n",
       " 'https://s3.amazonaws.com/nyc-tlc/trip+data/yellow_tripdata_2012-08.csv',\n",
       " 'https://s3.amazonaws.com/nyc-tlc/trip+data/yellow_tripdata_2012-09.csv',\n",
       " 'https://s3.amazonaws.com/nyc-tlc/trip+data/yellow_tripdata_2012-10.csv',\n",
       " 'https://s3.amazonaws.com/nyc-tlc/trip+data/yellow_tripdata_2012-11.csv',\n",
       " 'https://s3.amazonaws.com/nyc-tlc/trip+data/yellow_tripdata_2012-12.csv',\n",
       " 'https://s3.amazonaws.com/nyc-tlc/trip+data/yellow_tripdata_2011-01.csv',\n",
       " 'https://s3.amazonaws.com/nyc-tlc/trip+data/yellow_tripdata_2011-02.csv',\n",
       " 'https://s3.amazonaws.com/nyc-tlc/trip+data/yellow_tripdata_2011-03.csv',\n",
       " 'https://s3.amazonaws.com/nyc-tlc/trip+data/yellow_tripdata_2011-04.csv',\n",
       " 'https://s3.amazonaws.com/nyc-tlc/trip+data/yellow_tripdata_2011-05.csv',\n",
       " 'https://s3.amazonaws.com/nyc-tlc/trip+data/yellow_tripdata_2011-06.csv',\n",
       " 'https://s3.amazonaws.com/nyc-tlc/trip+data/yellow_tripdata_2011-07.csv',\n",
       " 'https://s3.amazonaws.com/nyc-tlc/trip+data/yellow_tripdata_2011-08.csv',\n",
       " 'https://s3.amazonaws.com/nyc-tlc/trip+data/yellow_tripdata_2011-09.csv',\n",
       " 'https://s3.amazonaws.com/nyc-tlc/trip+data/yellow_tripdata_2011-10.csv',\n",
       " 'https://s3.amazonaws.com/nyc-tlc/trip+data/yellow_tripdata_2011-11.csv',\n",
       " 'https://s3.amazonaws.com/nyc-tlc/trip+data/yellow_tripdata_2011-12.csv',\n",
       " 'https://s3.amazonaws.com/nyc-tlc/trip+data/yellow_tripdata_2010-01.csv',\n",
       " 'https://s3.amazonaws.com/nyc-tlc/trip+data/yellow_tripdata_2010-02.csv',\n",
       " 'https://s3.amazonaws.com/nyc-tlc/trip+data/yellow_tripdata_2010-03.csv',\n",
       " 'https://s3.amazonaws.com/nyc-tlc/trip+data/yellow_tripdata_2010-04.csv',\n",
       " 'https://s3.amazonaws.com/nyc-tlc/trip+data/yellow_tripdata_2010-05.csv',\n",
       " 'https://s3.amazonaws.com/nyc-tlc/trip+data/yellow_tripdata_2010-06.csv',\n",
       " 'https://s3.amazonaws.com/nyc-tlc/trip+data/yellow_tripdata_2010-07.csv',\n",
       " 'https://s3.amazonaws.com/nyc-tlc/trip+data/yellow_tripdata_2010-08.csv',\n",
       " 'https://s3.amazonaws.com/nyc-tlc/trip+data/yellow_tripdata_2010-09.csv',\n",
       " 'https://s3.amazonaws.com/nyc-tlc/trip+data/yellow_tripdata_2010-10.csv',\n",
       " 'https://s3.amazonaws.com/nyc-tlc/trip+data/yellow_tripdata_2010-11.csv',\n",
       " 'https://s3.amazonaws.com/nyc-tlc/trip+data/yellow_tripdata_2010-12.csv',\n",
       " 'https://s3.amazonaws.com/nyc-tlc/trip+data/yellow_tripdata_2009-01.csv',\n",
       " 'https://s3.amazonaws.com/nyc-tlc/trip+data/yellow_tripdata_2009-02.csv',\n",
       " 'https://s3.amazonaws.com/nyc-tlc/trip+data/yellow_tripdata_2009-03.csv',\n",
       " 'https://s3.amazonaws.com/nyc-tlc/trip+data/yellow_tripdata_2009-04.csv',\n",
       " 'https://s3.amazonaws.com/nyc-tlc/trip+data/yellow_tripdata_2009-05.csv',\n",
       " 'https://s3.amazonaws.com/nyc-tlc/trip+data/yellow_tripdata_2009-06.csv',\n",
       " 'https://s3.amazonaws.com/nyc-tlc/trip+data/yellow_tripdata_2009-07.csv',\n",
       " 'https://s3.amazonaws.com/nyc-tlc/trip+data/yellow_tripdata_2009-08.csv',\n",
       " 'https://s3.amazonaws.com/nyc-tlc/trip+data/yellow_tripdata_2009-09.csv',\n",
       " 'https://s3.amazonaws.com/nyc-tlc/trip+data/yellow_tripdata_2009-10.csv',\n",
       " 'https://s3.amazonaws.com/nyc-tlc/trip+data/yellow_tripdata_2009-11.csv',\n",
       " 'https://s3.amazonaws.com/nyc-tlc/trip+data/yellow_tripdata_2009-12.csv']"
      ]
     },
     "execution_count": 9,
     "metadata": {},
     "output_type": "execute_result"
    }
   ],
   "source": [
    "newlinks"
   ]
  },
  {
   "cell_type": "code",
   "execution_count": 10,
   "id": "70cf2cd0",
   "metadata": {},
   "outputs": [],
   "source": [
    "def download_file(url):\n",
    "    if not(os.path.exists(\"data\")):\n",
    "        os.mkdir(\"data\")\n",
    "    local_filename = url.split('/')[-1]\n",
    "    local_filename=\"C:\\\\Users\\\\Kunal\\\\Desktop\\\\TFA\\\\data\\\\\"+local_filename\n",
    "    with requests.get(url, stream=True) as r:\n",
    "        r.raise_for_status()\n",
    "        with open(local_filename, 'wb') as f:\n",
    "            for chunk in r.iter_content(chunk_size=8192): \n",
    "                f.write(chunk)\n",
    "    return local_filename"
   ]
  },
  {
   "cell_type": "code",
   "execution_count": null,
   "id": "43d1a70d",
   "metadata": {},
   "outputs": [],
   "source": []
  },
  {
   "cell_type": "code",
   "execution_count": 59,
   "id": "5135164c",
   "metadata": {},
   "outputs": [
    {
     "name": "stderr",
     "output_type": "stream",
     "text": [
      "100%|████████████████████████████████████████████████████████████████████████████████| 78/78 [1:31:52<00:00, 70.67s/it]\n"
     ]
    }
   ],
   "source": [
    "# #DO NOT RUN-----------------------------------------------------------\n",
    "# for i in tqdm(range(len(newlinks))):\n",
    "#     eachlink=newlinks[i]\n",
    "#     download_file(eachlink)\n",
    "    \n",
    "    "
   ]
  },
  {
   "cell_type": "code",
   "execution_count": 11,
   "id": "7c3f418b",
   "metadata": {},
   "outputs": [],
   "source": [
    "path = \"C:\\\\Users\\\\Kunal\\\\Desktop\\\\TFA\\\\data\"\n",
    "csv_files = glob.glob(os.path.join(path, \"*.csv\"))"
   ]
  },
  {
   "cell_type": "code",
   "execution_count": 25,
   "id": "ef11ea64",
   "metadata": {},
   "outputs": [],
   "source": [
    "subset=pd.read_csv(\"C:\\\\Users\\\\Kunal\\\\Desktop\\\\TFA\\\\start.csv\",on_bad_lines='skip')\n",
    "df=pd.DataFrame()\n",
    "mapping = {subset.columns[0]: 'vendor_name', \n",
    "           subset.columns[1]: 'Trip_Pickup_DateTime', \n",
    "           subset.columns[2]: 'Trip_Dropoff_DateTime', \n",
    "           subset.columns[3]: 'Passenger_Count',\n",
    "           subset.columns[4]:'Trip_Distance', \n",
    "           subset.columns[5]:'Start_Lon', \n",
    "           subset.columns[6]:'Start_Lat',\n",
    "           subset.columns[7]:'Rate_Code',\n",
    "           subset.columns[8]:'store_and_forward',\n",
    "           subset.columns[9]:'End_Lon',\n",
    "           subset.columns[10]:'End_Lat',\n",
    "           subset.columns[11]:'Payment_Type',\n",
    "           subset.columns[12]:'Fare_Amt',\n",
    "           subset.columns[13]:'surcharge',\n",
    "           subset.columns[14]:'mta_tax',\n",
    "           subset.columns[15]:'Tip_Amt',\n",
    "           subset.columns[16]:'Tolls_Amt',\n",
    "           subset.columns[17]:'Total_Amt'}"
   ]
  },
  {
   "cell_type": "code",
   "execution_count": 29,
   "id": "d5c826c1",
   "metadata": {},
   "outputs": [
    {
     "name": "stderr",
     "output_type": "stream",
     "text": [
      "100%|██████████████████████████████████████████████████████████████████████████████████| 78/78 [41:19<00:00, 31.79s/it]\n"
     ]
    }
   ],
   "source": [
    "masterdf=pd.DataFrame()\n",
    "for i in tqdm(range(len(csv_files))):\n",
    "#     print(csv_files[i])\n",
    "#     if(i<11):\n",
    "#         continue\n",
    "    df = df[0:0]   \n",
    "    df = pd.read_csv(csv_files[i],on_bad_lines='skip')\n",
    "    subset=df.sample(n=3000)\n",
    "    if len(subset.columns)>18:\n",
    "        subset=subset.drop(columns=[\"improvement_surcharge\"],errors='ignore')\n",
    "#         print(\"here\")\n",
    "    tempdf=subset\n",
    "    tempdf.columns=mapping\n",
    "    masterdf=masterdf.append(tempdf,ignore_index=True)\n",
    "    subset.to_csv(r\"C:\\Users\\Kunal\\Desktop\\TFA\\sample\\subset\" +str(i)+ \".csv\",index=False)"
   ]
  },
  {
   "cell_type": "code",
   "execution_count": 30,
   "id": "639a8c7a",
   "metadata": {},
   "outputs": [
    {
     "data": {
      "text/plain": [
       "234000"
      ]
     },
     "execution_count": 30,
     "metadata": {},
     "output_type": "execute_result"
    }
   ],
   "source": [
    "len(masterdf)"
   ]
  },
  {
   "cell_type": "code",
   "execution_count": 31,
   "id": "3d7e1db3",
   "metadata": {},
   "outputs": [],
   "source": [
    "masterdf.to_csv(\"masterdf.csv\",index=False)"
   ]
  },
  {
   "cell_type": "code",
   "execution_count": 22,
   "id": "991c3179",
   "metadata": {},
   "outputs": [],
   "source": [
    "masterdf.columns=['name', 'vendor_name', 'Trip_Pickup_DateTime',\n",
    "       'Trip_Dropoff_DateTime', 'Passenger_Count', 'Trip_Distance',\n",
    "       'Start_Lon', 'Start_Lat', 'Rate_Code', 'store_and_forward', 'End_Lon',\n",
    "       'End_Lat', 'Payment_Type', 'Fare_Amt', 'surcharge', 'mta_tax',\n",
    "       'Tip_Amt', 'Tolls_Amt']"
   ]
  },
  {
   "cell_type": "code",
   "execution_count": 23,
   "id": "01fc5dac",
   "metadata": {},
   "outputs": [
    {
     "data": {
      "text/plain": [
       "Index(['name', 'vendor_name', 'Trip_Pickup_DateTime', 'Trip_Dropoff_DateTime',\n",
       "       'Passenger_Count', 'Trip_Distance', 'Start_Lon', 'Start_Lat',\n",
       "       'Rate_Code', 'store_and_forward', 'End_Lon', 'End_Lat', 'Payment_Type',\n",
       "       'Fare_Amt', 'surcharge', 'mta_tax', 'Tip_Amt', 'Tolls_Amt'],\n",
       "      dtype='object')"
      ]
     },
     "execution_count": 23,
     "metadata": {},
     "output_type": "execute_result"
    }
   ],
   "source": [
    "masterdf.columns"
   ]
  },
  {
   "cell_type": "markdown",
   "id": "4f77b844",
   "metadata": {},
   "source": [
    "# Distance function"
   ]
  },
  {
   "cell_type": "markdown",
   "id": "e0562ff0",
   "metadata": {},
   "source": [
    "* Calculate distance between pickup and drop location using math module"
   ]
  },
  {
   "cell_type": "code",
   "execution_count": 34,
   "id": "c7e74dd4",
   "metadata": {},
   "outputs": [],
   "source": [
    "def distance(series):\n",
    "    lat1, lon1 = float(series[\"Start_Lat\"]),float(series[\"Start_Lon\"])\n",
    "    lat2, lon2 = float(series[\"End_Lat\"]),float(series[\"End_Lon\"])\n",
    "    radius = 6371  # km\n",
    "\n",
    "    dlat = math.radians(lat2 - lat1)\n",
    "    dlon = math.radians(lon2 - lon1)\n",
    "    a = (math.sin(dlat / 2) * math.sin(dlat / 2) +\n",
    "         math.cos(math.radians(lat1)) * math.cos(math.radians(lat2)) *\n",
    "         math.sin(dlon / 2) * math.sin(dlon / 2))\n",
    "    c = 2 * math.atan2(math.sqrt(a), math.sqrt(1 - a))\n",
    "    d = radius * c\n",
    "\n",
    "    return d"
   ]
  },
  {
   "cell_type": "markdown",
   "id": "f50b0f4b",
   "metadata": {},
   "source": [
    "# Outside Area Trip Removal Function "
   ]
  },
  {
   "cell_type": "markdown",
   "id": "0f727be8",
   "metadata": {},
   "source": [
    "* Remove trips that start and/or end outside of the latitude/longitude coordinate box: (40.560445, -74.242330) and (40.908524, -73.717047). "
   ]
  },
  {
   "cell_type": "code",
   "execution_count": 35,
   "id": "edaab556",
   "metadata": {},
   "outputs": [],
   "source": [
    "def outside(dataframe):\n",
    "    dataframe = dataframe[ (dataframe['Start_Lat'] >= 40.560445) & (dataframe['Start_Lat'] <= 40.908524)]\n",
    "    dataframe = dataframe[ (dataframe['End_Lat'] >= 40.560445) & (dataframe['End_Lat'] <= 40.908524)]\n",
    "    dataframe = dataframe[ (dataframe['Start_Lon'] >= -74.242330) & (dataframe['Start_Lon'] <= -73.717047)]\n",
    "    dataframe = dataframe[ (dataframe['End_Lon'] >= -74.242330) & (dataframe['End_Lon'] <= -73.717047)]\n",
    "    return dataframe\n",
    "    "
   ]
  },
  {
   "cell_type": "markdown",
   "id": "58c1d0a4",
   "metadata": {},
   "source": [
    "# Data Cleaning"
   ]
  },
  {
   "cell_type": "markdown",
   "id": "b3ed308a",
   "metadata": {},
   "source": [
    "-  __Yellow Taxi Data__"
   ]
  },
  {
   "cell_type": "code",
   "execution_count": 36,
   "id": "8d0d9ad9",
   "metadata": {
    "scrolled": true
   },
   "outputs": [
    {
     "name": "stderr",
     "output_type": "stream",
     "text": [
      "C:\\Users\\Kunal\\anaconda3\\lib\\site-packages\\IPython\\core\\interactiveshell.py:3444: DtypeWarning: Columns (0,8,11) have mixed types.Specify dtype option on import or set low_memory=False.\n",
      "  exec(code_obj, self.user_global_ns, self.user_ns)\n"
     ]
    }
   ],
   "source": [
    "yellowdf=pd.read_csv(\"masterdf.csv\")"
   ]
  },
  {
   "cell_type": "code",
   "execution_count": 37,
   "id": "121003b2",
   "metadata": {
    "scrolled": true
   },
   "outputs": [
    {
     "data": {
      "text/html": [
       "<div>\n",
       "<style scoped>\n",
       "    .dataframe tbody tr th:only-of-type {\n",
       "        vertical-align: middle;\n",
       "    }\n",
       "\n",
       "    .dataframe tbody tr th {\n",
       "        vertical-align: top;\n",
       "    }\n",
       "\n",
       "    .dataframe thead th {\n",
       "        text-align: right;\n",
       "    }\n",
       "</style>\n",
       "<table border=\"1\" class=\"dataframe\">\n",
       "  <thead>\n",
       "    <tr style=\"text-align: right;\">\n",
       "      <th></th>\n",
       "      <th>vendor_name</th>\n",
       "      <th>Trip_Pickup_DateTime</th>\n",
       "      <th>Trip_Dropoff_DateTime</th>\n",
       "      <th>Passenger_Count</th>\n",
       "      <th>Trip_Distance</th>\n",
       "      <th>Start_Lon</th>\n",
       "      <th>Start_Lat</th>\n",
       "      <th>Rate_Code</th>\n",
       "      <th>store_and_forward</th>\n",
       "      <th>End_Lon</th>\n",
       "      <th>End_Lat</th>\n",
       "      <th>Payment_Type</th>\n",
       "      <th>Fare_Amt</th>\n",
       "      <th>surcharge</th>\n",
       "      <th>mta_tax</th>\n",
       "      <th>Tip_Amt</th>\n",
       "      <th>Tolls_Amt</th>\n",
       "      <th>Total_Amt</th>\n",
       "    </tr>\n",
       "  </thead>\n",
       "  <tbody>\n",
       "    <tr>\n",
       "      <th>0</th>\n",
       "      <td>CMT</td>\n",
       "      <td>2009-01-13 07:54:28</td>\n",
       "      <td>2009-01-13 08:00:10</td>\n",
       "      <td>2</td>\n",
       "      <td>0.60</td>\n",
       "      <td>-73.961570</td>\n",
       "      <td>40.768545</td>\n",
       "      <td>NaN</td>\n",
       "      <td>NaN</td>\n",
       "      <td>-73.963642</td>\n",
       "      <td>40.774218</td>\n",
       "      <td>Cash</td>\n",
       "      <td>4.9</td>\n",
       "      <td>0.0</td>\n",
       "      <td>NaN</td>\n",
       "      <td>0.0</td>\n",
       "      <td>0.00</td>\n",
       "      <td>4.90</td>\n",
       "    </tr>\n",
       "    <tr>\n",
       "      <th>1</th>\n",
       "      <td>CMT</td>\n",
       "      <td>2009-01-22 09:02:19</td>\n",
       "      <td>2009-01-22 09:45:48</td>\n",
       "      <td>1</td>\n",
       "      <td>21.10</td>\n",
       "      <td>-73.914399</td>\n",
       "      <td>40.746171</td>\n",
       "      <td>NaN</td>\n",
       "      <td>NaN</td>\n",
       "      <td>-73.816812</td>\n",
       "      <td>40.703619</td>\n",
       "      <td>Cash</td>\n",
       "      <td>49.3</td>\n",
       "      <td>0.0</td>\n",
       "      <td>NaN</td>\n",
       "      <td>0.0</td>\n",
       "      <td>0.00</td>\n",
       "      <td>49.30</td>\n",
       "    </tr>\n",
       "    <tr>\n",
       "      <th>2</th>\n",
       "      <td>CMT</td>\n",
       "      <td>2009-01-23 23:52:45</td>\n",
       "      <td>2009-01-24 00:13:43</td>\n",
       "      <td>1</td>\n",
       "      <td>10.70</td>\n",
       "      <td>-73.874395</td>\n",
       "      <td>40.774010</td>\n",
       "      <td>NaN</td>\n",
       "      <td>NaN</td>\n",
       "      <td>-73.981739</td>\n",
       "      <td>40.765671</td>\n",
       "      <td>Cash</td>\n",
       "      <td>25.8</td>\n",
       "      <td>0.0</td>\n",
       "      <td>NaN</td>\n",
       "      <td>0.0</td>\n",
       "      <td>4.15</td>\n",
       "      <td>29.95</td>\n",
       "    </tr>\n",
       "    <tr>\n",
       "      <th>3</th>\n",
       "      <td>CMT</td>\n",
       "      <td>2009-01-06 18:34:58</td>\n",
       "      <td>2009-01-06 18:43:57</td>\n",
       "      <td>1</td>\n",
       "      <td>3.60</td>\n",
       "      <td>-73.957687</td>\n",
       "      <td>40.765477</td>\n",
       "      <td>NaN</td>\n",
       "      <td>NaN</td>\n",
       "      <td>-73.977345</td>\n",
       "      <td>40.729237</td>\n",
       "      <td>Credit</td>\n",
       "      <td>11.1</td>\n",
       "      <td>0.0</td>\n",
       "      <td>NaN</td>\n",
       "      <td>1.0</td>\n",
       "      <td>0.00</td>\n",
       "      <td>12.10</td>\n",
       "    </tr>\n",
       "    <tr>\n",
       "      <th>4</th>\n",
       "      <td>VTS</td>\n",
       "      <td>2009-01-02 09:52:00</td>\n",
       "      <td>2009-01-02 10:02:00</td>\n",
       "      <td>1</td>\n",
       "      <td>2.02</td>\n",
       "      <td>-74.000105</td>\n",
       "      <td>40.761962</td>\n",
       "      <td>NaN</td>\n",
       "      <td>NaN</td>\n",
       "      <td>-73.971110</td>\n",
       "      <td>40.759072</td>\n",
       "      <td>Credit</td>\n",
       "      <td>7.7</td>\n",
       "      <td>0.0</td>\n",
       "      <td>NaN</td>\n",
       "      <td>2.0</td>\n",
       "      <td>0.00</td>\n",
       "      <td>9.70</td>\n",
       "    </tr>\n",
       "  </tbody>\n",
       "</table>\n",
       "</div>"
      ],
      "text/plain": [
       "  vendor_name Trip_Pickup_DateTime Trip_Dropoff_DateTime  Passenger_Count  \\\n",
       "0         CMT  2009-01-13 07:54:28   2009-01-13 08:00:10                2   \n",
       "1         CMT  2009-01-22 09:02:19   2009-01-22 09:45:48                1   \n",
       "2         CMT  2009-01-23 23:52:45   2009-01-24 00:13:43                1   \n",
       "3         CMT  2009-01-06 18:34:58   2009-01-06 18:43:57                1   \n",
       "4         VTS  2009-01-02 09:52:00   2009-01-02 10:02:00                1   \n",
       "\n",
       "   Trip_Distance  Start_Lon  Start_Lat  Rate_Code store_and_forward  \\\n",
       "0           0.60 -73.961570  40.768545        NaN               NaN   \n",
       "1          21.10 -73.914399  40.746171        NaN               NaN   \n",
       "2          10.70 -73.874395  40.774010        NaN               NaN   \n",
       "3           3.60 -73.957687  40.765477        NaN               NaN   \n",
       "4           2.02 -74.000105  40.761962        NaN               NaN   \n",
       "\n",
       "     End_Lon    End_Lat Payment_Type  Fare_Amt  surcharge  mta_tax  Tip_Amt  \\\n",
       "0 -73.963642  40.774218         Cash       4.9        0.0      NaN      0.0   \n",
       "1 -73.816812  40.703619         Cash      49.3        0.0      NaN      0.0   \n",
       "2 -73.981739  40.765671         Cash      25.8        0.0      NaN      0.0   \n",
       "3 -73.977345  40.729237       Credit      11.1        0.0      NaN      1.0   \n",
       "4 -73.971110  40.759072       Credit       7.7        0.0      NaN      2.0   \n",
       "\n",
       "   Tolls_Amt  Total_Amt  \n",
       "0       0.00       4.90  \n",
       "1       0.00      49.30  \n",
       "2       4.15      29.95  \n",
       "3       0.00      12.10  \n",
       "4       0.00       9.70  "
      ]
     },
     "execution_count": 37,
     "metadata": {},
     "output_type": "execute_result"
    }
   ],
   "source": [
    "yellowdf.head()"
   ]
  },
  {
   "cell_type": "code",
   "execution_count": 38,
   "id": "77b67c29",
   "metadata": {},
   "outputs": [],
   "source": [
    "yellowdf[\"Date\"] = yellowdf[\"Trip_Pickup_DateTime\"].astype(\"datetime64\")"
   ]
  },
  {
   "cell_type": "code",
   "execution_count": 39,
   "id": "51df5157",
   "metadata": {},
   "outputs": [
    {
     "data": {
      "text/html": [
       "<div>\n",
       "<style scoped>\n",
       "    .dataframe tbody tr th:only-of-type {\n",
       "        vertical-align: middle;\n",
       "    }\n",
       "\n",
       "    .dataframe tbody tr th {\n",
       "        vertical-align: top;\n",
       "    }\n",
       "\n",
       "    .dataframe thead th {\n",
       "        text-align: right;\n",
       "    }\n",
       "</style>\n",
       "<table border=\"1\" class=\"dataframe\">\n",
       "  <thead>\n",
       "    <tr style=\"text-align: right;\">\n",
       "      <th></th>\n",
       "      <th>vendor_name</th>\n",
       "      <th>Trip_Pickup_DateTime</th>\n",
       "      <th>Trip_Dropoff_DateTime</th>\n",
       "      <th>Passenger_Count</th>\n",
       "      <th>Trip_Distance</th>\n",
       "      <th>Start_Lon</th>\n",
       "      <th>Start_Lat</th>\n",
       "      <th>Rate_Code</th>\n",
       "      <th>store_and_forward</th>\n",
       "      <th>End_Lon</th>\n",
       "      <th>End_Lat</th>\n",
       "      <th>Payment_Type</th>\n",
       "      <th>Fare_Amt</th>\n",
       "      <th>surcharge</th>\n",
       "      <th>mta_tax</th>\n",
       "      <th>Tip_Amt</th>\n",
       "      <th>Tolls_Amt</th>\n",
       "      <th>Total_Amt</th>\n",
       "      <th>Date</th>\n",
       "    </tr>\n",
       "  </thead>\n",
       "  <tbody>\n",
       "    <tr>\n",
       "      <th>0</th>\n",
       "      <td>CMT</td>\n",
       "      <td>2009-01-13 07:54:28</td>\n",
       "      <td>2009-01-13 08:00:10</td>\n",
       "      <td>2</td>\n",
       "      <td>0.60</td>\n",
       "      <td>-73.961570</td>\n",
       "      <td>40.768545</td>\n",
       "      <td>NaN</td>\n",
       "      <td>NaN</td>\n",
       "      <td>-73.963642</td>\n",
       "      <td>40.774218</td>\n",
       "      <td>Cash</td>\n",
       "      <td>4.9</td>\n",
       "      <td>0.0</td>\n",
       "      <td>NaN</td>\n",
       "      <td>0.0</td>\n",
       "      <td>0.00</td>\n",
       "      <td>4.90</td>\n",
       "      <td>2009-01-13 07:54:28</td>\n",
       "    </tr>\n",
       "    <tr>\n",
       "      <th>1</th>\n",
       "      <td>CMT</td>\n",
       "      <td>2009-01-22 09:02:19</td>\n",
       "      <td>2009-01-22 09:45:48</td>\n",
       "      <td>1</td>\n",
       "      <td>21.10</td>\n",
       "      <td>-73.914399</td>\n",
       "      <td>40.746171</td>\n",
       "      <td>NaN</td>\n",
       "      <td>NaN</td>\n",
       "      <td>-73.816812</td>\n",
       "      <td>40.703619</td>\n",
       "      <td>Cash</td>\n",
       "      <td>49.3</td>\n",
       "      <td>0.0</td>\n",
       "      <td>NaN</td>\n",
       "      <td>0.0</td>\n",
       "      <td>0.00</td>\n",
       "      <td>49.30</td>\n",
       "      <td>2009-01-22 09:02:19</td>\n",
       "    </tr>\n",
       "    <tr>\n",
       "      <th>2</th>\n",
       "      <td>CMT</td>\n",
       "      <td>2009-01-23 23:52:45</td>\n",
       "      <td>2009-01-24 00:13:43</td>\n",
       "      <td>1</td>\n",
       "      <td>10.70</td>\n",
       "      <td>-73.874395</td>\n",
       "      <td>40.774010</td>\n",
       "      <td>NaN</td>\n",
       "      <td>NaN</td>\n",
       "      <td>-73.981739</td>\n",
       "      <td>40.765671</td>\n",
       "      <td>Cash</td>\n",
       "      <td>25.8</td>\n",
       "      <td>0.0</td>\n",
       "      <td>NaN</td>\n",
       "      <td>0.0</td>\n",
       "      <td>4.15</td>\n",
       "      <td>29.95</td>\n",
       "      <td>2009-01-23 23:52:45</td>\n",
       "    </tr>\n",
       "    <tr>\n",
       "      <th>3</th>\n",
       "      <td>CMT</td>\n",
       "      <td>2009-01-06 18:34:58</td>\n",
       "      <td>2009-01-06 18:43:57</td>\n",
       "      <td>1</td>\n",
       "      <td>3.60</td>\n",
       "      <td>-73.957687</td>\n",
       "      <td>40.765477</td>\n",
       "      <td>NaN</td>\n",
       "      <td>NaN</td>\n",
       "      <td>-73.977345</td>\n",
       "      <td>40.729237</td>\n",
       "      <td>Credit</td>\n",
       "      <td>11.1</td>\n",
       "      <td>0.0</td>\n",
       "      <td>NaN</td>\n",
       "      <td>1.0</td>\n",
       "      <td>0.00</td>\n",
       "      <td>12.10</td>\n",
       "      <td>2009-01-06 18:34:58</td>\n",
       "    </tr>\n",
       "    <tr>\n",
       "      <th>4</th>\n",
       "      <td>VTS</td>\n",
       "      <td>2009-01-02 09:52:00</td>\n",
       "      <td>2009-01-02 10:02:00</td>\n",
       "      <td>1</td>\n",
       "      <td>2.02</td>\n",
       "      <td>-74.000105</td>\n",
       "      <td>40.761962</td>\n",
       "      <td>NaN</td>\n",
       "      <td>NaN</td>\n",
       "      <td>-73.971110</td>\n",
       "      <td>40.759072</td>\n",
       "      <td>Credit</td>\n",
       "      <td>7.7</td>\n",
       "      <td>0.0</td>\n",
       "      <td>NaN</td>\n",
       "      <td>2.0</td>\n",
       "      <td>0.00</td>\n",
       "      <td>9.70</td>\n",
       "      <td>2009-01-02 09:52:00</td>\n",
       "    </tr>\n",
       "  </tbody>\n",
       "</table>\n",
       "</div>"
      ],
      "text/plain": [
       "  vendor_name Trip_Pickup_DateTime Trip_Dropoff_DateTime  Passenger_Count  \\\n",
       "0         CMT  2009-01-13 07:54:28   2009-01-13 08:00:10                2   \n",
       "1         CMT  2009-01-22 09:02:19   2009-01-22 09:45:48                1   \n",
       "2         CMT  2009-01-23 23:52:45   2009-01-24 00:13:43                1   \n",
       "3         CMT  2009-01-06 18:34:58   2009-01-06 18:43:57                1   \n",
       "4         VTS  2009-01-02 09:52:00   2009-01-02 10:02:00                1   \n",
       "\n",
       "   Trip_Distance  Start_Lon  Start_Lat  Rate_Code store_and_forward  \\\n",
       "0           0.60 -73.961570  40.768545        NaN               NaN   \n",
       "1          21.10 -73.914399  40.746171        NaN               NaN   \n",
       "2          10.70 -73.874395  40.774010        NaN               NaN   \n",
       "3           3.60 -73.957687  40.765477        NaN               NaN   \n",
       "4           2.02 -74.000105  40.761962        NaN               NaN   \n",
       "\n",
       "     End_Lon    End_Lat Payment_Type  Fare_Amt  surcharge  mta_tax  Tip_Amt  \\\n",
       "0 -73.963642  40.774218         Cash       4.9        0.0      NaN      0.0   \n",
       "1 -73.816812  40.703619         Cash      49.3        0.0      NaN      0.0   \n",
       "2 -73.981739  40.765671         Cash      25.8        0.0      NaN      0.0   \n",
       "3 -73.977345  40.729237       Credit      11.1        0.0      NaN      1.0   \n",
       "4 -73.971110  40.759072       Credit       7.7        0.0      NaN      2.0   \n",
       "\n",
       "   Tolls_Amt  Total_Amt                Date  \n",
       "0       0.00       4.90 2009-01-13 07:54:28  \n",
       "1       0.00      49.30 2009-01-22 09:02:19  \n",
       "2       4.15      29.95 2009-01-23 23:52:45  \n",
       "3       0.00      12.10 2009-01-06 18:34:58  \n",
       "4       0.00       9.70 2009-01-02 09:52:00  "
      ]
     },
     "execution_count": 39,
     "metadata": {},
     "output_type": "execute_result"
    }
   ],
   "source": [
    "yellowdf.head()"
   ]
  },
  {
   "cell_type": "code",
   "execution_count": 40,
   "id": "7126ea22",
   "metadata": {},
   "outputs": [],
   "source": [
    "yellowdf[\"Distance\"]=yellowdf.apply(distance,axis=1)"
   ]
  },
  {
   "cell_type": "code",
   "execution_count": 41,
   "id": "26f9106a",
   "metadata": {
    "scrolled": true
   },
   "outputs": [
    {
     "data": {
      "text/plain": [
       "vendor_name                      object\n",
       "Trip_Pickup_DateTime             object\n",
       "Trip_Dropoff_DateTime            object\n",
       "Passenger_Count                   int64\n",
       "Trip_Distance                   float64\n",
       "Start_Lon                       float64\n",
       "Start_Lat                       float64\n",
       "Rate_Code                       float64\n",
       "store_and_forward                object\n",
       "End_Lon                         float64\n",
       "End_Lat                         float64\n",
       "Payment_Type                     object\n",
       "Fare_Amt                        float64\n",
       "surcharge                       float64\n",
       "mta_tax                         float64\n",
       "Tip_Amt                         float64\n",
       "Tolls_Amt                       float64\n",
       "Total_Amt                       float64\n",
       "Date                     datetime64[ns]\n",
       "Distance                        float64\n",
       "dtype: object"
      ]
     },
     "execution_count": 41,
     "metadata": {},
     "output_type": "execute_result"
    }
   ],
   "source": [
    "yellowdf.dtypes"
   ]
  },
  {
   "cell_type": "code",
   "execution_count": 42,
   "id": "ef63767f",
   "metadata": {},
   "outputs": [
    {
     "data": {
      "text/html": [
       "<div>\n",
       "<style scoped>\n",
       "    .dataframe tbody tr th:only-of-type {\n",
       "        vertical-align: middle;\n",
       "    }\n",
       "\n",
       "    .dataframe tbody tr th {\n",
       "        vertical-align: top;\n",
       "    }\n",
       "\n",
       "    .dataframe thead th {\n",
       "        text-align: right;\n",
       "    }\n",
       "</style>\n",
       "<table border=\"1\" class=\"dataframe\">\n",
       "  <thead>\n",
       "    <tr style=\"text-align: right;\">\n",
       "      <th></th>\n",
       "      <th>Trip_Pickup_DateTime</th>\n",
       "      <th>Start_Lon</th>\n",
       "      <th>Start_Lat</th>\n",
       "      <th>End_Lon</th>\n",
       "      <th>End_Lat</th>\n",
       "      <th>Tip_Amt</th>\n",
       "      <th>Total_Amt</th>\n",
       "      <th>Date</th>\n",
       "      <th>Distance</th>\n",
       "    </tr>\n",
       "  </thead>\n",
       "  <tbody>\n",
       "    <tr>\n",
       "      <th>0</th>\n",
       "      <td>2009-01-13 07:54:28</td>\n",
       "      <td>-73.961570</td>\n",
       "      <td>40.768545</td>\n",
       "      <td>-73.963642</td>\n",
       "      <td>40.774218</td>\n",
       "      <td>0.0</td>\n",
       "      <td>4.90</td>\n",
       "      <td>2009-01-13 07:54:28</td>\n",
       "      <td>0.654495</td>\n",
       "    </tr>\n",
       "    <tr>\n",
       "      <th>1</th>\n",
       "      <td>2009-01-22 09:02:19</td>\n",
       "      <td>-73.914399</td>\n",
       "      <td>40.746171</td>\n",
       "      <td>-73.816812</td>\n",
       "      <td>40.703619</td>\n",
       "      <td>0.0</td>\n",
       "      <td>49.30</td>\n",
       "      <td>2009-01-22 09:02:19</td>\n",
       "      <td>9.487619</td>\n",
       "    </tr>\n",
       "    <tr>\n",
       "      <th>2</th>\n",
       "      <td>2009-01-23 23:52:45</td>\n",
       "      <td>-73.874395</td>\n",
       "      <td>40.774010</td>\n",
       "      <td>-73.981739</td>\n",
       "      <td>40.765671</td>\n",
       "      <td>0.0</td>\n",
       "      <td>29.95</td>\n",
       "      <td>2009-01-23 23:52:45</td>\n",
       "      <td>9.087111</td>\n",
       "    </tr>\n",
       "    <tr>\n",
       "      <th>3</th>\n",
       "      <td>2009-01-06 18:34:58</td>\n",
       "      <td>-73.957687</td>\n",
       "      <td>40.765477</td>\n",
       "      <td>-73.977345</td>\n",
       "      <td>40.729237</td>\n",
       "      <td>1.0</td>\n",
       "      <td>12.10</td>\n",
       "      <td>2009-01-06 18:34:58</td>\n",
       "      <td>4.356703</td>\n",
       "    </tr>\n",
       "    <tr>\n",
       "      <th>4</th>\n",
       "      <td>2009-01-02 09:52:00</td>\n",
       "      <td>-74.000105</td>\n",
       "      <td>40.761962</td>\n",
       "      <td>-73.971110</td>\n",
       "      <td>40.759072</td>\n",
       "      <td>2.0</td>\n",
       "      <td>9.70</td>\n",
       "      <td>2009-01-02 09:52:00</td>\n",
       "      <td>2.463129</td>\n",
       "    </tr>\n",
       "  </tbody>\n",
       "</table>\n",
       "</div>"
      ],
      "text/plain": [
       "  Trip_Pickup_DateTime  Start_Lon  Start_Lat    End_Lon    End_Lat  Tip_Amt  \\\n",
       "0  2009-01-13 07:54:28 -73.961570  40.768545 -73.963642  40.774218      0.0   \n",
       "1  2009-01-22 09:02:19 -73.914399  40.746171 -73.816812  40.703619      0.0   \n",
       "2  2009-01-23 23:52:45 -73.874395  40.774010 -73.981739  40.765671      0.0   \n",
       "3  2009-01-06 18:34:58 -73.957687  40.765477 -73.977345  40.729237      1.0   \n",
       "4  2009-01-02 09:52:00 -74.000105  40.761962 -73.971110  40.759072      2.0   \n",
       "\n",
       "   Total_Amt                Date  Distance  \n",
       "0       4.90 2009-01-13 07:54:28  0.654495  \n",
       "1      49.30 2009-01-22 09:02:19  9.487619  \n",
       "2      29.95 2009-01-23 23:52:45  9.087111  \n",
       "3      12.10 2009-01-06 18:34:58  4.356703  \n",
       "4       9.70 2009-01-02 09:52:00  2.463129  "
      ]
     },
     "execution_count": 42,
     "metadata": {},
     "output_type": "execute_result"
    }
   ],
   "source": [
    "yellowdf.drop(columns=[\"vendor_name\",\"Passenger_Count\",\"Rate_Code\",\"store_and_forward\",\"Payment_Type\",\"Fare_Amt\",\"surcharge\",\"mta_tax\",\"Tolls_Amt\",\"Trip_Dropoff_DateTime\",\"Trip_Distance\"],errors=\"ignore\",inplace=True)\n",
    "yellowdf.head()"
   ]
  },
  {
   "cell_type": "code",
   "execution_count": null,
   "id": "1605c44b",
   "metadata": {},
   "outputs": [],
   "source": []
  },
  {
   "cell_type": "markdown",
   "id": "3d304a31",
   "metadata": {},
   "source": [
    "## Removing Rows with very high distance and 0 distance (outliers)"
   ]
  },
  {
   "cell_type": "code",
   "execution_count": 43,
   "id": "cfcaeda3",
   "metadata": {},
   "outputs": [
    {
     "name": "stdout",
     "output_type": "stream",
     "text": [
      "20.438946381021086\n",
      "234000\n"
     ]
    }
   ],
   "source": [
    "print(yellowdf[\"Distance\"].mean())\n",
    "print(len(yellowdf))"
   ]
  },
  {
   "cell_type": "code",
   "execution_count": 44,
   "id": "d482bdd1",
   "metadata": {},
   "outputs": [],
   "source": [
    "yellowdf = yellowdf[yellowdf['Distance'] <= 50]\n",
    "yellowdf = yellowdf[yellowdf['Distance'] != 0]"
   ]
  },
  {
   "cell_type": "code",
   "execution_count": 45,
   "id": "d8217ae5",
   "metadata": {},
   "outputs": [],
   "source": [
    "#removing trips with 0 longitude or 0 longitude\n",
    "\n",
    "yellowdf = yellowdf[yellowdf['Start_Lon'] != 0]\n",
    "yellowdf = yellowdf[yellowdf['Start_Lat'] != 0]\n",
    "yellowdf = yellowdf[yellowdf['End_Lon'] != 0]\n",
    "yellowdf = yellowdf[yellowdf['End_Lat'] != 0]\n",
    "\n",
    "#removing trips with 0 total amount\n",
    "\n",
    "yellowdf = yellowdf[yellowdf['Total_Amt'] != 0]"
   ]
  },
  {
   "cell_type": "markdown",
   "id": "11eec1c6",
   "metadata": {},
   "source": [
    "* Removing trips outside latitude/longitude box"
   ]
  },
  {
   "cell_type": "code",
   "execution_count": 46,
   "id": "278e1a1a",
   "metadata": {},
   "outputs": [],
   "source": [
    "yellowdf=outside(yellowdf)"
   ]
  },
  {
   "cell_type": "code",
   "execution_count": null,
   "id": "18d89006",
   "metadata": {},
   "outputs": [],
   "source": []
  },
  {
   "cell_type": "code",
   "execution_count": 47,
   "id": "702c43f1",
   "metadata": {},
   "outputs": [
    {
     "name": "stdout",
     "output_type": "stream",
     "text": [
      "3.344135578783831\n",
      "226373\n"
     ]
    }
   ],
   "source": [
    "print(yellowdf[\"Distance\"].mean())\n",
    "print(len(yellowdf))"
   ]
  },
  {
   "cell_type": "code",
   "execution_count": 48,
   "id": "e8d3a98c",
   "metadata": {},
   "outputs": [],
   "source": [
    "yellowdf=yellowdf.assign(Date=yellowdf.Date.dt.round('H'))"
   ]
  },
  {
   "cell_type": "markdown",
   "id": "6889beb5",
   "metadata": {},
   "source": [
    "# Importing Uber Data"
   ]
  },
  {
   "cell_type": "code",
   "execution_count": 49,
   "id": "e35a9136",
   "metadata": {},
   "outputs": [],
   "source": [
    "uberdf=pd.read_csv(\"uber_rides_sample.csv\")"
   ]
  },
  {
   "cell_type": "code",
   "execution_count": 50,
   "id": "678723f0",
   "metadata": {},
   "outputs": [
    {
     "data": {
      "text/html": [
       "<div>\n",
       "<style scoped>\n",
       "    .dataframe tbody tr th:only-of-type {\n",
       "        vertical-align: middle;\n",
       "    }\n",
       "\n",
       "    .dataframe tbody tr th {\n",
       "        vertical-align: top;\n",
       "    }\n",
       "\n",
       "    .dataframe thead th {\n",
       "        text-align: right;\n",
       "    }\n",
       "</style>\n",
       "<table border=\"1\" class=\"dataframe\">\n",
       "  <thead>\n",
       "    <tr style=\"text-align: right;\">\n",
       "      <th></th>\n",
       "      <th>Unnamed: 0</th>\n",
       "      <th>key</th>\n",
       "      <th>fare_amount</th>\n",
       "      <th>pickup_datetime</th>\n",
       "      <th>pickup_longitude</th>\n",
       "      <th>pickup_latitude</th>\n",
       "      <th>dropoff_longitude</th>\n",
       "      <th>dropoff_latitude</th>\n",
       "      <th>passenger_count</th>\n",
       "    </tr>\n",
       "  </thead>\n",
       "  <tbody>\n",
       "    <tr>\n",
       "      <th>0</th>\n",
       "      <td>24238194</td>\n",
       "      <td>2015-05-07 19:52:06.0000003</td>\n",
       "      <td>7.5</td>\n",
       "      <td>2015-05-07 19:52:06 UTC</td>\n",
       "      <td>-73.999817</td>\n",
       "      <td>40.738354</td>\n",
       "      <td>-73.999512</td>\n",
       "      <td>40.723217</td>\n",
       "      <td>1</td>\n",
       "    </tr>\n",
       "    <tr>\n",
       "      <th>1</th>\n",
       "      <td>27835199</td>\n",
       "      <td>2009-07-17 20:04:56.0000002</td>\n",
       "      <td>7.7</td>\n",
       "      <td>2009-07-17 20:04:56 UTC</td>\n",
       "      <td>-73.994355</td>\n",
       "      <td>40.728225</td>\n",
       "      <td>-73.994710</td>\n",
       "      <td>40.750325</td>\n",
       "      <td>1</td>\n",
       "    </tr>\n",
       "    <tr>\n",
       "      <th>2</th>\n",
       "      <td>44984355</td>\n",
       "      <td>2009-08-24 21:45:00.00000061</td>\n",
       "      <td>12.9</td>\n",
       "      <td>2009-08-24 21:45:00 UTC</td>\n",
       "      <td>-74.005043</td>\n",
       "      <td>40.740770</td>\n",
       "      <td>-73.962565</td>\n",
       "      <td>40.772647</td>\n",
       "      <td>1</td>\n",
       "    </tr>\n",
       "    <tr>\n",
       "      <th>3</th>\n",
       "      <td>25894730</td>\n",
       "      <td>2009-06-26 08:22:21.0000001</td>\n",
       "      <td>5.3</td>\n",
       "      <td>2009-06-26 08:22:21 UTC</td>\n",
       "      <td>-73.976124</td>\n",
       "      <td>40.790844</td>\n",
       "      <td>-73.965316</td>\n",
       "      <td>40.803349</td>\n",
       "      <td>3</td>\n",
       "    </tr>\n",
       "    <tr>\n",
       "      <th>4</th>\n",
       "      <td>17610152</td>\n",
       "      <td>2014-08-28 17:47:00.000000188</td>\n",
       "      <td>16.0</td>\n",
       "      <td>2014-08-28 17:47:00 UTC</td>\n",
       "      <td>-73.925023</td>\n",
       "      <td>40.744085</td>\n",
       "      <td>-73.973082</td>\n",
       "      <td>40.761247</td>\n",
       "      <td>5</td>\n",
       "    </tr>\n",
       "  </tbody>\n",
       "</table>\n",
       "</div>"
      ],
      "text/plain": [
       "   Unnamed: 0                            key  fare_amount  \\\n",
       "0    24238194    2015-05-07 19:52:06.0000003          7.5   \n",
       "1    27835199    2009-07-17 20:04:56.0000002          7.7   \n",
       "2    44984355   2009-08-24 21:45:00.00000061         12.9   \n",
       "3    25894730    2009-06-26 08:22:21.0000001          5.3   \n",
       "4    17610152  2014-08-28 17:47:00.000000188         16.0   \n",
       "\n",
       "           pickup_datetime  pickup_longitude  pickup_latitude  \\\n",
       "0  2015-05-07 19:52:06 UTC        -73.999817        40.738354   \n",
       "1  2009-07-17 20:04:56 UTC        -73.994355        40.728225   \n",
       "2  2009-08-24 21:45:00 UTC        -74.005043        40.740770   \n",
       "3  2009-06-26 08:22:21 UTC        -73.976124        40.790844   \n",
       "4  2014-08-28 17:47:00 UTC        -73.925023        40.744085   \n",
       "\n",
       "   dropoff_longitude  dropoff_latitude  passenger_count  \n",
       "0         -73.999512         40.723217                1  \n",
       "1         -73.994710         40.750325                1  \n",
       "2         -73.962565         40.772647                1  \n",
       "3         -73.965316         40.803349                3  \n",
       "4         -73.973082         40.761247                5  "
      ]
     },
     "execution_count": 50,
     "metadata": {},
     "output_type": "execute_result"
    }
   ],
   "source": [
    "uberdf.head()"
   ]
  },
  {
   "cell_type": "code",
   "execution_count": 51,
   "id": "82f12bf6",
   "metadata": {
    "scrolled": true
   },
   "outputs": [
    {
     "data": {
      "text/html": [
       "<div>\n",
       "<style scoped>\n",
       "    .dataframe tbody tr th:only-of-type {\n",
       "        vertical-align: middle;\n",
       "    }\n",
       "\n",
       "    .dataframe tbody tr th {\n",
       "        vertical-align: top;\n",
       "    }\n",
       "\n",
       "    .dataframe thead th {\n",
       "        text-align: right;\n",
       "    }\n",
       "</style>\n",
       "<table border=\"1\" class=\"dataframe\">\n",
       "  <thead>\n",
       "    <tr style=\"text-align: right;\">\n",
       "      <th></th>\n",
       "      <th>fare_amount</th>\n",
       "      <th>pickup_datetime</th>\n",
       "      <th>pickup_longitude</th>\n",
       "      <th>pickup_latitude</th>\n",
       "      <th>dropoff_longitude</th>\n",
       "      <th>dropoff_latitude</th>\n",
       "    </tr>\n",
       "  </thead>\n",
       "  <tbody>\n",
       "    <tr>\n",
       "      <th>0</th>\n",
       "      <td>7.5</td>\n",
       "      <td>2015-05-07 19:52:06 UTC</td>\n",
       "      <td>-73.999817</td>\n",
       "      <td>40.738354</td>\n",
       "      <td>-73.999512</td>\n",
       "      <td>40.723217</td>\n",
       "    </tr>\n",
       "    <tr>\n",
       "      <th>1</th>\n",
       "      <td>7.7</td>\n",
       "      <td>2009-07-17 20:04:56 UTC</td>\n",
       "      <td>-73.994355</td>\n",
       "      <td>40.728225</td>\n",
       "      <td>-73.994710</td>\n",
       "      <td>40.750325</td>\n",
       "    </tr>\n",
       "    <tr>\n",
       "      <th>2</th>\n",
       "      <td>12.9</td>\n",
       "      <td>2009-08-24 21:45:00 UTC</td>\n",
       "      <td>-74.005043</td>\n",
       "      <td>40.740770</td>\n",
       "      <td>-73.962565</td>\n",
       "      <td>40.772647</td>\n",
       "    </tr>\n",
       "    <tr>\n",
       "      <th>3</th>\n",
       "      <td>5.3</td>\n",
       "      <td>2009-06-26 08:22:21 UTC</td>\n",
       "      <td>-73.976124</td>\n",
       "      <td>40.790844</td>\n",
       "      <td>-73.965316</td>\n",
       "      <td>40.803349</td>\n",
       "    </tr>\n",
       "    <tr>\n",
       "      <th>4</th>\n",
       "      <td>16.0</td>\n",
       "      <td>2014-08-28 17:47:00 UTC</td>\n",
       "      <td>-73.925023</td>\n",
       "      <td>40.744085</td>\n",
       "      <td>-73.973082</td>\n",
       "      <td>40.761247</td>\n",
       "    </tr>\n",
       "  </tbody>\n",
       "</table>\n",
       "</div>"
      ],
      "text/plain": [
       "   fare_amount          pickup_datetime  pickup_longitude  pickup_latitude  \\\n",
       "0          7.5  2015-05-07 19:52:06 UTC        -73.999817        40.738354   \n",
       "1          7.7  2009-07-17 20:04:56 UTC        -73.994355        40.728225   \n",
       "2         12.9  2009-08-24 21:45:00 UTC        -74.005043        40.740770   \n",
       "3          5.3  2009-06-26 08:22:21 UTC        -73.976124        40.790844   \n",
       "4         16.0  2014-08-28 17:47:00 UTC        -73.925023        40.744085   \n",
       "\n",
       "   dropoff_longitude  dropoff_latitude  \n",
       "0         -73.999512         40.723217  \n",
       "1         -73.994710         40.750325  \n",
       "2         -73.962565         40.772647  \n",
       "3         -73.965316         40.803349  \n",
       "4         -73.973082         40.761247  "
      ]
     },
     "execution_count": 51,
     "metadata": {},
     "output_type": "execute_result"
    }
   ],
   "source": [
    "uberdf=uberdf.drop(columns=[\"Unnamed: 0\",\"passenger_count\",\"key\"],errors=\"ignore\")\n",
    "uberdf.head()"
   ]
  },
  {
   "cell_type": "code",
   "execution_count": 52,
   "id": "979a36b5",
   "metadata": {},
   "outputs": [
    {
     "data": {
      "text/html": [
       "<div>\n",
       "<style scoped>\n",
       "    .dataframe tbody tr th:only-of-type {\n",
       "        vertical-align: middle;\n",
       "    }\n",
       "\n",
       "    .dataframe tbody tr th {\n",
       "        vertical-align: top;\n",
       "    }\n",
       "\n",
       "    .dataframe thead th {\n",
       "        text-align: right;\n",
       "    }\n",
       "</style>\n",
       "<table border=\"1\" class=\"dataframe\">\n",
       "  <thead>\n",
       "    <tr style=\"text-align: right;\">\n",
       "      <th></th>\n",
       "      <th>Total_Amt</th>\n",
       "      <th>Trip_Pickup_DateTime</th>\n",
       "      <th>Start_Lon</th>\n",
       "      <th>Start_Lat</th>\n",
       "      <th>End_Lon</th>\n",
       "      <th>End_Lat</th>\n",
       "    </tr>\n",
       "  </thead>\n",
       "  <tbody>\n",
       "    <tr>\n",
       "      <th>0</th>\n",
       "      <td>7.5</td>\n",
       "      <td>2015-05-07 19:52:06 UTC</td>\n",
       "      <td>-73.999817</td>\n",
       "      <td>40.738354</td>\n",
       "      <td>-73.999512</td>\n",
       "      <td>40.723217</td>\n",
       "    </tr>\n",
       "    <tr>\n",
       "      <th>1</th>\n",
       "      <td>7.7</td>\n",
       "      <td>2009-07-17 20:04:56 UTC</td>\n",
       "      <td>-73.994355</td>\n",
       "      <td>40.728225</td>\n",
       "      <td>-73.994710</td>\n",
       "      <td>40.750325</td>\n",
       "    </tr>\n",
       "    <tr>\n",
       "      <th>2</th>\n",
       "      <td>12.9</td>\n",
       "      <td>2009-08-24 21:45:00 UTC</td>\n",
       "      <td>-74.005043</td>\n",
       "      <td>40.740770</td>\n",
       "      <td>-73.962565</td>\n",
       "      <td>40.772647</td>\n",
       "    </tr>\n",
       "    <tr>\n",
       "      <th>3</th>\n",
       "      <td>5.3</td>\n",
       "      <td>2009-06-26 08:22:21 UTC</td>\n",
       "      <td>-73.976124</td>\n",
       "      <td>40.790844</td>\n",
       "      <td>-73.965316</td>\n",
       "      <td>40.803349</td>\n",
       "    </tr>\n",
       "    <tr>\n",
       "      <th>4</th>\n",
       "      <td>16.0</td>\n",
       "      <td>2014-08-28 17:47:00 UTC</td>\n",
       "      <td>-73.925023</td>\n",
       "      <td>40.744085</td>\n",
       "      <td>-73.973082</td>\n",
       "      <td>40.761247</td>\n",
       "    </tr>\n",
       "  </tbody>\n",
       "</table>\n",
       "</div>"
      ],
      "text/plain": [
       "   Total_Amt     Trip_Pickup_DateTime  Start_Lon  Start_Lat    End_Lon  \\\n",
       "0        7.5  2015-05-07 19:52:06 UTC -73.999817  40.738354 -73.999512   \n",
       "1        7.7  2009-07-17 20:04:56 UTC -73.994355  40.728225 -73.994710   \n",
       "2       12.9  2009-08-24 21:45:00 UTC -74.005043  40.740770 -73.962565   \n",
       "3        5.3  2009-06-26 08:22:21 UTC -73.976124  40.790844 -73.965316   \n",
       "4       16.0  2014-08-28 17:47:00 UTC -73.925023  40.744085 -73.973082   \n",
       "\n",
       "     End_Lat  \n",
       "0  40.723217  \n",
       "1  40.750325  \n",
       "2  40.772647  \n",
       "3  40.803349  \n",
       "4  40.761247  "
      ]
     },
     "execution_count": 52,
     "metadata": {},
     "output_type": "execute_result"
    }
   ],
   "source": [
    "uberdf.rename(columns = {'pickup_latitude' : 'Start_Lat', \n",
    "                         'pickup_longitude' : 'Start_Lon', \n",
    "                         'dropoff_latitude' : 'End_Lat' ,\n",
    "                         'dropoff_longitude' : 'End_Lon' , \n",
    "                         'fare_amount' : 'Total_Amt',\n",
    "                         'pickup_datetime' : 'Trip_Pickup_DateTime'}, \n",
    "              inplace = True,errors=\"ignore\")\n",
    "uberdf.head()"
   ]
  },
  {
   "cell_type": "code",
   "execution_count": 53,
   "id": "e6d283d7",
   "metadata": {
    "scrolled": true
   },
   "outputs": [],
   "source": [
    "uberdf[\"Date\"] = uberdf[\"Trip_Pickup_DateTime\"].astype(\"datetime64\")"
   ]
  },
  {
   "cell_type": "code",
   "execution_count": 54,
   "id": "9c4ad9a2",
   "metadata": {},
   "outputs": [],
   "source": [
    "uberdf[\"Distance\"]=uberdf.apply(distance,axis=1)"
   ]
  },
  {
   "cell_type": "code",
   "execution_count": 55,
   "id": "150c7934",
   "metadata": {},
   "outputs": [
    {
     "data": {
      "text/html": [
       "<div>\n",
       "<style scoped>\n",
       "    .dataframe tbody tr th:only-of-type {\n",
       "        vertical-align: middle;\n",
       "    }\n",
       "\n",
       "    .dataframe tbody tr th {\n",
       "        vertical-align: top;\n",
       "    }\n",
       "\n",
       "    .dataframe thead th {\n",
       "        text-align: right;\n",
       "    }\n",
       "</style>\n",
       "<table border=\"1\" class=\"dataframe\">\n",
       "  <thead>\n",
       "    <tr style=\"text-align: right;\">\n",
       "      <th></th>\n",
       "      <th>Total_Amt</th>\n",
       "      <th>Trip_Pickup_DateTime</th>\n",
       "      <th>Start_Lon</th>\n",
       "      <th>Start_Lat</th>\n",
       "      <th>End_Lon</th>\n",
       "      <th>End_Lat</th>\n",
       "      <th>Date</th>\n",
       "      <th>Distance</th>\n",
       "    </tr>\n",
       "  </thead>\n",
       "  <tbody>\n",
       "    <tr>\n",
       "      <th>0</th>\n",
       "      <td>7.5</td>\n",
       "      <td>2015-05-07 19:52:06 UTC</td>\n",
       "      <td>-73.999817</td>\n",
       "      <td>40.738354</td>\n",
       "      <td>-73.999512</td>\n",
       "      <td>40.723217</td>\n",
       "      <td>2015-05-07 19:52:06</td>\n",
       "      <td>1.683323</td>\n",
       "    </tr>\n",
       "    <tr>\n",
       "      <th>1</th>\n",
       "      <td>7.7</td>\n",
       "      <td>2009-07-17 20:04:56 UTC</td>\n",
       "      <td>-73.994355</td>\n",
       "      <td>40.728225</td>\n",
       "      <td>-73.994710</td>\n",
       "      <td>40.750325</td>\n",
       "      <td>2009-07-17 20:04:56</td>\n",
       "      <td>2.457590</td>\n",
       "    </tr>\n",
       "    <tr>\n",
       "      <th>2</th>\n",
       "      <td>12.9</td>\n",
       "      <td>2009-08-24 21:45:00 UTC</td>\n",
       "      <td>-74.005043</td>\n",
       "      <td>40.740770</td>\n",
       "      <td>-73.962565</td>\n",
       "      <td>40.772647</td>\n",
       "      <td>2009-08-24 21:45:00</td>\n",
       "      <td>5.036377</td>\n",
       "    </tr>\n",
       "    <tr>\n",
       "      <th>3</th>\n",
       "      <td>5.3</td>\n",
       "      <td>2009-06-26 08:22:21 UTC</td>\n",
       "      <td>-73.976124</td>\n",
       "      <td>40.790844</td>\n",
       "      <td>-73.965316</td>\n",
       "      <td>40.803349</td>\n",
       "      <td>2009-06-26 08:22:21</td>\n",
       "      <td>1.661683</td>\n",
       "    </tr>\n",
       "    <tr>\n",
       "      <th>4</th>\n",
       "      <td>16.0</td>\n",
       "      <td>2014-08-28 17:47:00 UTC</td>\n",
       "      <td>-73.925023</td>\n",
       "      <td>40.744085</td>\n",
       "      <td>-73.973082</td>\n",
       "      <td>40.761247</td>\n",
       "      <td>2014-08-28 17:47:00</td>\n",
       "      <td>4.475450</td>\n",
       "    </tr>\n",
       "  </tbody>\n",
       "</table>\n",
       "</div>"
      ],
      "text/plain": [
       "   Total_Amt     Trip_Pickup_DateTime  Start_Lon  Start_Lat    End_Lon  \\\n",
       "0        7.5  2015-05-07 19:52:06 UTC -73.999817  40.738354 -73.999512   \n",
       "1        7.7  2009-07-17 20:04:56 UTC -73.994355  40.728225 -73.994710   \n",
       "2       12.9  2009-08-24 21:45:00 UTC -74.005043  40.740770 -73.962565   \n",
       "3        5.3  2009-06-26 08:22:21 UTC -73.976124  40.790844 -73.965316   \n",
       "4       16.0  2014-08-28 17:47:00 UTC -73.925023  40.744085 -73.973082   \n",
       "\n",
       "     End_Lat                Date  Distance  \n",
       "0  40.723217 2015-05-07 19:52:06  1.683323  \n",
       "1  40.750325 2009-07-17 20:04:56  2.457590  \n",
       "2  40.772647 2009-08-24 21:45:00  5.036377  \n",
       "3  40.803349 2009-06-26 08:22:21  1.661683  \n",
       "4  40.761247 2014-08-28 17:47:00  4.475450  "
      ]
     },
     "execution_count": 55,
     "metadata": {},
     "output_type": "execute_result"
    }
   ],
   "source": [
    "uberdf.head()"
   ]
  },
  {
   "cell_type": "code",
   "execution_count": 56,
   "id": "6561467c",
   "metadata": {
    "scrolled": true
   },
   "outputs": [
    {
     "data": {
      "text/plain": [
       "<AxesSubplot:xlabel='Date'>"
      ]
     },
     "execution_count": 56,
     "metadata": {},
     "output_type": "execute_result"
    },
    {
     "data": {
      "image/png": "[encoded data removed]",
      "text/plain": [
       "<Figure size 432x288 with 1 Axes>"
      ]
     },
     "metadata": {
      "needs_background": "light"
     },
     "output_type": "display_data"
    }
   ],
   "source": [
    "uberdf[\"Distance\"].groupby(uberdf[\"Date\"].dt.weekday).count().plot(kind=\"bar\")"
   ]
  },
  {
   "cell_type": "code",
   "execution_count": null,
   "id": "0ff0b10e",
   "metadata": {},
   "outputs": [],
   "source": []
  },
  {
   "cell_type": "markdown",
   "id": "63a7fbbc",
   "metadata": {},
   "source": [
    "## Removing Rows with very high distance and 0 distance (outliers)"
   ]
  },
  {
   "cell_type": "raw",
   "id": "d75ce492",
   "metadata": {},
   "source": []
  },
  {
   "cell_type": "code",
   "execution_count": 57,
   "id": "a6463ef4",
   "metadata": {},
   "outputs": [
    {
     "name": "stdout",
     "output_type": "stream",
     "text": [
      "20.855349825361202\n",
      "200000\n"
     ]
    }
   ],
   "source": [
    "print(uberdf[\"Distance\"].mean())\n",
    "print(len(uberdf))"
   ]
  },
  {
   "cell_type": "code",
   "execution_count": 58,
   "id": "5cad3d26",
   "metadata": {},
   "outputs": [],
   "source": [
    "uberdf = uberdf[uberdf['Distance'] <= 50]\n",
    "uberdf = uberdf[uberdf['Distance'] != 0]"
   ]
  },
  {
   "cell_type": "code",
   "execution_count": 59,
   "id": "4a0ab715",
   "metadata": {},
   "outputs": [],
   "source": [
    "#removing trips with 0 longitude or 0 longitude\n",
    "\n",
    "uberdf = uberdf[uberdf['Start_Lon'] != 0]\n",
    "uberdf = uberdf[uberdf['Start_Lat'] != 0]\n",
    "uberdf = uberdf[uberdf['End_Lon'] != 0]\n",
    "uberdf = uberdf[uberdf['End_Lat'] != 0]\n",
    "\n",
    "#removing trips with 0 total amount\n",
    "\n",
    "uberdf = uberdf[uberdf['Total_Amt'] != 0]"
   ]
  },
  {
   "cell_type": "markdown",
   "id": "ba9e32ef",
   "metadata": {},
   "source": [
    "* Removing trips outside latitude/longitude box"
   ]
  },
  {
   "cell_type": "code",
   "execution_count": 60,
   "id": "7e9cad3f",
   "metadata": {},
   "outputs": [],
   "source": [
    "uberdf=outside(uberdf)"
   ]
  },
  {
   "cell_type": "code",
   "execution_count": null,
   "id": "7672cc5c",
   "metadata": {},
   "outputs": [],
   "source": []
  },
  {
   "cell_type": "code",
   "execution_count": 61,
   "id": "97eac869",
   "metadata": {},
   "outputs": [
    {
     "name": "stdout",
     "output_type": "stream",
     "text": [
      "3.33772817297078\n",
      "193512\n"
     ]
    }
   ],
   "source": [
    "print(uberdf[\"Distance\"].mean())\n",
    "print(len(uberdf))"
   ]
  },
  {
   "cell_type": "code",
   "execution_count": 62,
   "id": "3a6df653",
   "metadata": {},
   "outputs": [],
   "source": [
    "uberdf=uberdf.assign(Date=uberdf.Date.dt.round('H'))"
   ]
  },
  {
   "cell_type": "markdown",
   "id": "882fcef2",
   "metadata": {},
   "source": [
    "# Creating dataframe combining yellow taxi and uber data"
   ]
  },
  {
   "cell_type": "code",
   "execution_count": 63,
   "id": "24f5c0eb",
   "metadata": {},
   "outputs": [],
   "source": [
    "#Adding a column 'Type' to identify whether Taxi was Uber or Yellow\n",
    "\n",
    "uberdf_flag=uberdf\n",
    "uberdf_flag[\"Type\"]=\"Uber\"\n",
    "\n",
    "yellowdf_flag=yellowdf\n",
    "yellowdf_flag[\"Type\"]=\"Yellow\"\n",
    "\n",
    "\n",
    "df_list = [uberdf_flag[['Total_Amt', 'Trip_Pickup_DateTime', 'Start_Lon', 'Start_Lat',\n",
    "       'End_Lon', 'End_Lat', 'Date', 'Distance','Type']],yellowdf_flag[['Total_Amt', 'Trip_Pickup_DateTime', 'Start_Lon', 'Start_Lat',\n",
    "       'End_Lon', 'End_Lat', 'Date', 'Distance','Type']]]\n",
    "tdf=pd.concat(df_list, ignore_index=True)"
   ]
  },
  {
   "cell_type": "code",
   "execution_count": 64,
   "id": "7efab17c",
   "metadata": {},
   "outputs": [],
   "source": [
    "tdf=tdf.assign(Date=tdf.Date.dt.round('H'))"
   ]
  },
  {
   "cell_type": "code",
   "execution_count": 65,
   "id": "06091717",
   "metadata": {},
   "outputs": [
    {
     "data": {
      "text/html": [
       "<div>\n",
       "<style scoped>\n",
       "    .dataframe tbody tr th:only-of-type {\n",
       "        vertical-align: middle;\n",
       "    }\n",
       "\n",
       "    .dataframe tbody tr th {\n",
       "        vertical-align: top;\n",
       "    }\n",
       "\n",
       "    .dataframe thead th {\n",
       "        text-align: right;\n",
       "    }\n",
       "</style>\n",
       "<table border=\"1\" class=\"dataframe\">\n",
       "  <thead>\n",
       "    <tr style=\"text-align: right;\">\n",
       "      <th></th>\n",
       "      <th>Total_Amt</th>\n",
       "      <th>Trip_Pickup_DateTime</th>\n",
       "      <th>Start_Lon</th>\n",
       "      <th>Start_Lat</th>\n",
       "      <th>End_Lon</th>\n",
       "      <th>End_Lat</th>\n",
       "      <th>Date</th>\n",
       "      <th>Distance</th>\n",
       "      <th>Type</th>\n",
       "    </tr>\n",
       "  </thead>\n",
       "  <tbody>\n",
       "    <tr>\n",
       "      <th>182274</th>\n",
       "      <td>22.00</td>\n",
       "      <td>2014-12-03 14:43:00 UTC</td>\n",
       "      <td>-73.979797</td>\n",
       "      <td>40.760687</td>\n",
       "      <td>-73.994457</td>\n",
       "      <td>40.729460</td>\n",
       "      <td>2014-12-03 15:00:00</td>\n",
       "      <td>3.685378</td>\n",
       "      <td>Uber</td>\n",
       "    </tr>\n",
       "    <tr>\n",
       "      <th>123006</th>\n",
       "      <td>9.00</td>\n",
       "      <td>2013-04-18 20:43:53 UTC</td>\n",
       "      <td>-73.993934</td>\n",
       "      <td>40.751434</td>\n",
       "      <td>-73.974479</td>\n",
       "      <td>40.755400</td>\n",
       "      <td>2013-04-18 21:00:00</td>\n",
       "      <td>1.697055</td>\n",
       "      <td>Uber</td>\n",
       "    </tr>\n",
       "    <tr>\n",
       "      <th>414940</th>\n",
       "      <td>18.36</td>\n",
       "      <td>2015-05-05 09:11:09</td>\n",
       "      <td>-73.979134</td>\n",
       "      <td>40.771702</td>\n",
       "      <td>-73.984444</td>\n",
       "      <td>40.756973</td>\n",
       "      <td>2015-05-05 09:00:00</td>\n",
       "      <td>1.697700</td>\n",
       "      <td>Yellow</td>\n",
       "    </tr>\n",
       "    <tr>\n",
       "      <th>321559</th>\n",
       "      <td>21.00</td>\n",
       "      <td>2012-09-29 20:50:49</td>\n",
       "      <td>-73.978449</td>\n",
       "      <td>40.777325</td>\n",
       "      <td>-74.004682</td>\n",
       "      <td>40.730444</td>\n",
       "      <td>2012-09-29 21:00:00</td>\n",
       "      <td>5.661914</td>\n",
       "      <td>Yellow</td>\n",
       "    </tr>\n",
       "    <tr>\n",
       "      <th>23213</th>\n",
       "      <td>10.00</td>\n",
       "      <td>2015-01-30 18:22:33 UTC</td>\n",
       "      <td>-73.980850</td>\n",
       "      <td>40.741760</td>\n",
       "      <td>-73.965752</td>\n",
       "      <td>40.762081</td>\n",
       "      <td>2015-01-30 18:00:00</td>\n",
       "      <td>2.592923</td>\n",
       "      <td>Uber</td>\n",
       "    </tr>\n",
       "    <tr>\n",
       "      <th>179347</th>\n",
       "      <td>15.00</td>\n",
       "      <td>2015-06-10 16:05:33 UTC</td>\n",
       "      <td>-74.013496</td>\n",
       "      <td>40.716763</td>\n",
       "      <td>-73.991295</td>\n",
       "      <td>40.751438</td>\n",
       "      <td>2015-06-10 16:00:00</td>\n",
       "      <td>4.285572</td>\n",
       "      <td>Uber</td>\n",
       "    </tr>\n",
       "    <tr>\n",
       "      <th>156497</th>\n",
       "      <td>14.00</td>\n",
       "      <td>2014-12-22 19:15:09 UTC</td>\n",
       "      <td>-74.004217</td>\n",
       "      <td>40.752524</td>\n",
       "      <td>-73.995087</td>\n",
       "      <td>40.725446</td>\n",
       "      <td>2014-12-22 19:00:00</td>\n",
       "      <td>3.107640</td>\n",
       "      <td>Uber</td>\n",
       "    </tr>\n",
       "    <tr>\n",
       "      <th>394365</th>\n",
       "      <td>7.50</td>\n",
       "      <td>2014-10-03 22:17:00</td>\n",
       "      <td>-74.001047</td>\n",
       "      <td>40.720137</td>\n",
       "      <td>-74.010465</td>\n",
       "      <td>40.729807</td>\n",
       "      <td>2014-10-03 22:00:00</td>\n",
       "      <td>1.336431</td>\n",
       "      <td>Yellow</td>\n",
       "    </tr>\n",
       "    <tr>\n",
       "      <th>227258</th>\n",
       "      <td>5.40</td>\n",
       "      <td>2009-12-11 12:46:00</td>\n",
       "      <td>-74.010052</td>\n",
       "      <td>40.720200</td>\n",
       "      <td>-74.004305</td>\n",
       "      <td>40.716557</td>\n",
       "      <td>2009-12-11 13:00:00</td>\n",
       "      <td>0.631411</td>\n",
       "      <td>Yellow</td>\n",
       "    </tr>\n",
       "    <tr>\n",
       "      <th>373459</th>\n",
       "      <td>32.00</td>\n",
       "      <td>2014-03-17 11:22:00</td>\n",
       "      <td>-73.988710</td>\n",
       "      <td>40.722280</td>\n",
       "      <td>-73.870875</td>\n",
       "      <td>40.773937</td>\n",
       "      <td>2014-03-17 11:00:00</td>\n",
       "      <td>11.468512</td>\n",
       "      <td>Yellow</td>\n",
       "    </tr>\n",
       "  </tbody>\n",
       "</table>\n",
       "</div>"
      ],
      "text/plain": [
       "        Total_Amt     Trip_Pickup_DateTime  Start_Lon  Start_Lat    End_Lon  \\\n",
       "182274      22.00  2014-12-03 14:43:00 UTC -73.979797  40.760687 -73.994457   \n",
       "123006       9.00  2013-04-18 20:43:53 UTC -73.993934  40.751434 -73.974479   \n",
       "414940      18.36      2015-05-05 09:11:09 -73.979134  40.771702 -73.984444   \n",
       "321559      21.00      2012-09-29 20:50:49 -73.978449  40.777325 -74.004682   \n",
       "23213       10.00  2015-01-30 18:22:33 UTC -73.980850  40.741760 -73.965752   \n",
       "179347      15.00  2015-06-10 16:05:33 UTC -74.013496  40.716763 -73.991295   \n",
       "156497      14.00  2014-12-22 19:15:09 UTC -74.004217  40.752524 -73.995087   \n",
       "394365       7.50      2014-10-03 22:17:00 -74.001047  40.720137 -74.010465   \n",
       "227258       5.40      2009-12-11 12:46:00 -74.010052  40.720200 -74.004305   \n",
       "373459      32.00      2014-03-17 11:22:00 -73.988710  40.722280 -73.870875   \n",
       "\n",
       "          End_Lat                Date   Distance    Type  \n",
       "182274  40.729460 2014-12-03 15:00:00   3.685378    Uber  \n",
       "123006  40.755400 2013-04-18 21:00:00   1.697055    Uber  \n",
       "414940  40.756973 2015-05-05 09:00:00   1.697700  Yellow  \n",
       "321559  40.730444 2012-09-29 21:00:00   5.661914  Yellow  \n",
       "23213   40.762081 2015-01-30 18:00:00   2.592923    Uber  \n",
       "179347  40.751438 2015-06-10 16:00:00   4.285572    Uber  \n",
       "156497  40.725446 2014-12-22 19:00:00   3.107640    Uber  \n",
       "394365  40.729807 2014-10-03 22:00:00   1.336431  Yellow  \n",
       "227258  40.716557 2009-12-11 13:00:00   0.631411  Yellow  \n",
       "373459  40.773937 2014-03-17 11:00:00  11.468512  Yellow  "
      ]
     },
     "execution_count": 65,
     "metadata": {},
     "output_type": "execute_result"
    }
   ],
   "source": [
    "tdf.sample(n=10)"
   ]
  },
  {
   "cell_type": "markdown",
   "id": "07719e49",
   "metadata": {},
   "source": [
    "# Weather Dataset"
   ]
  },
  {
   "cell_type": "markdown",
   "id": "ad3940fe",
   "metadata": {},
   "source": [
    "* Loading and processing weather dataset"
   ]
  },
  {
   "cell_type": "code",
   "execution_count": 66,
   "id": "82ee1923",
   "metadata": {},
   "outputs": [
    {
     "name": "stderr",
     "output_type": "stream",
     "text": [
      "C:\\Users\\Kunal\\anaconda3\\lib\\site-packages\\IPython\\core\\interactiveshell.py:3444: DtypeWarning: Columns (9,13) have mixed types.Specify dtype option on import or set low_memory=False.\n",
      "  exec(code_obj, self.user_global_ns, self.user_ns)\n",
      "C:\\Users\\Kunal\\anaconda3\\lib\\site-packages\\IPython\\core\\interactiveshell.py:3444: DtypeWarning: Columns (8,9,10,17) have mixed types.Specify dtype option on import or set low_memory=False.\n",
      "  exec(code_obj, self.user_global_ns, self.user_ns)\n",
      "C:\\Users\\Kunal\\anaconda3\\lib\\site-packages\\IPython\\core\\interactiveshell.py:3444: DtypeWarning: Columns (10) have mixed types.Specify dtype option on import or set low_memory=False.\n",
      "  exec(code_obj, self.user_global_ns, self.user_ns)\n",
      "C:\\Users\\Kunal\\anaconda3\\lib\\site-packages\\IPython\\core\\interactiveshell.py:3444: DtypeWarning: Columns (7,8,9,10,17,18,42,65) have mixed types.Specify dtype option on import or set low_memory=False.\n",
      "  exec(code_obj, self.user_global_ns, self.user_ns)\n",
      "C:\\Users\\Kunal\\anaconda3\\lib\\site-packages\\IPython\\core\\interactiveshell.py:3444: DtypeWarning: Columns (17,78) have mixed types.Specify dtype option on import or set low_memory=False.\n",
      "  exec(code_obj, self.user_global_ns, self.user_ns)\n",
      "C:\\Users\\Kunal\\anaconda3\\lib\\site-packages\\IPython\\core\\interactiveshell.py:3444: DtypeWarning: Columns (8,9,17,18,78) have mixed types.Specify dtype option on import or set low_memory=False.\n",
      "  exec(code_obj, self.user_global_ns, self.user_ns)\n",
      "C:\\Users\\Kunal\\anaconda3\\lib\\site-packages\\IPython\\core\\interactiveshell.py:3444: DtypeWarning: Columns (10,41,78) have mixed types.Specify dtype option on import or set low_memory=False.\n",
      "  exec(code_obj, self.user_global_ns, self.user_ns)\n"
     ]
    }
   ],
   "source": [
    "#Load all weather csv into one dataframe\n",
    "path = r'weather' \n",
    "all_files = glob.glob(path + \"/*.csv\")\n",
    "\n",
    "li = []\n",
    "\n",
    "for filename in all_files:\n",
    "    eachweatherdf = pd.read_csv(filename, index_col=None, header=0)\n",
    "    li.append(eachweatherdf)\n",
    "\n",
    "weatherdf = pd.concat(li, axis=0, ignore_index=True)"
   ]
  },
  {
   "cell_type": "code",
   "execution_count": 67,
   "id": "04f76a4a",
   "metadata": {},
   "outputs": [],
   "source": [
    "weatherdf[\"DATE\"]=weatherdf[\"DATE\"].astype(\"datetime64\")"
   ]
  },
  {
   "cell_type": "markdown",
   "id": "ffb684b7",
   "metadata": {},
   "source": [
    "* Removing Dates after 2015 June"
   ]
  },
  {
   "cell_type": "code",
   "execution_count": 68,
   "id": "96000177",
   "metadata": {},
   "outputs": [],
   "source": [
    "weatherdf = weatherdf[ (weatherdf['DATE'].dt.year < 2015) | (weatherdf['DATE'].dt.month <= 6) ]"
   ]
  },
  {
   "cell_type": "markdown",
   "id": "77f815c2",
   "metadata": {},
   "source": [
    "### Creating Dataframe with daily and hourly weather data"
   ]
  },
  {
   "cell_type": "code",
   "execution_count": 69,
   "id": "00cd190c",
   "metadata": {},
   "outputs": [
    {
     "name": "stderr",
     "output_type": "stream",
     "text": [
      "C:\\Users\\Kunal\\AppData\\Local\\Temp/ipykernel_3000/3935078564.py:3: SettingWithCopyWarning: \n",
      "A value is trying to be set on a copy of a slice from a DataFrame.\n",
      "Try using .loc[row_indexer,col_indexer] = value instead\n",
      "\n",
      "See the caveats in the documentation: https://pandas.pydata.org/pandas-docs/stable/user_guide/indexing.html#returning-a-view-versus-a-copy\n",
      "  dayweather['day'] = dayweather.DATE.dt.date\n"
     ]
    }
   ],
   "source": [
    "dayweather=pd.DataFrame()\n",
    "dayweather=weatherdf[weatherdf['HourlyDryBulbTemperature'].notna() & weatherdf['HourlyWindSpeed'].notna()]\n",
    "dayweather['day'] = dayweather.DATE.dt.date\n",
    "# dayweather.set_index(\"DATE\")"
   ]
  },
  {
   "cell_type": "code",
   "execution_count": 70,
   "id": "c4790ed3",
   "metadata": {},
   "outputs": [],
   "source": [
    "dayweather=dayweather[[\"DATE\",\"HourlyDryBulbTemperature\",\"HourlyWindSpeed\"]]\n",
    "dayweather['HourlyDryBulbTemperature']=pd.to_numeric(dayweather['HourlyDryBulbTemperature'], errors='coerce')\n",
    "dayweather['HourlyWindSpeed']=pd.to_numeric(dayweather['HourlyWindSpeed'], errors='coerce')\n",
    "dayweather.rename(columns={\"HourlyWindSpeed\":\"DailyAvgWindSpeed\",\"HourlyDryBulbTemperature\":\"DailyTemperature\"},inplace=True)"
   ]
  },
  {
   "cell_type": "code",
   "execution_count": 71,
   "id": "0b2ed843",
   "metadata": {},
   "outputs": [
    {
     "data": {
      "text/html": [
       "<div>\n",
       "<style scoped>\n",
       "    .dataframe tbody tr th:only-of-type {\n",
       "        vertical-align: middle;\n",
       "    }\n",
       "\n",
       "    .dataframe tbody tr th {\n",
       "        vertical-align: top;\n",
       "    }\n",
       "\n",
       "    .dataframe thead th {\n",
       "        text-align: right;\n",
       "    }\n",
       "</style>\n",
       "<table border=\"1\" class=\"dataframe\">\n",
       "  <thead>\n",
       "    <tr style=\"text-align: right;\">\n",
       "      <th></th>\n",
       "      <th>DATE</th>\n",
       "      <th>DailyTemperature</th>\n",
       "      <th>DailyAvgWindSpeed</th>\n",
       "    </tr>\n",
       "  </thead>\n",
       "  <tbody>\n",
       "    <tr>\n",
       "      <th>0</th>\n",
       "      <td>2009-01-01 00:51:00</td>\n",
       "      <td>18.0</td>\n",
       "      <td>18.0</td>\n",
       "    </tr>\n",
       "    <tr>\n",
       "      <th>1</th>\n",
       "      <td>2009-01-01 01:51:00</td>\n",
       "      <td>18.0</td>\n",
       "      <td>18.0</td>\n",
       "    </tr>\n",
       "    <tr>\n",
       "      <th>2</th>\n",
       "      <td>2009-01-01 02:51:00</td>\n",
       "      <td>18.0</td>\n",
       "      <td>18.0</td>\n",
       "    </tr>\n",
       "    <tr>\n",
       "      <th>3</th>\n",
       "      <td>2009-01-01 03:51:00</td>\n",
       "      <td>18.0</td>\n",
       "      <td>8.0</td>\n",
       "    </tr>\n",
       "    <tr>\n",
       "      <th>4</th>\n",
       "      <td>2009-01-01 04:51:00</td>\n",
       "      <td>18.0</td>\n",
       "      <td>11.0</td>\n",
       "    </tr>\n",
       "  </tbody>\n",
       "</table>\n",
       "</div>"
      ],
      "text/plain": [
       "                 DATE  DailyTemperature  DailyAvgWindSpeed\n",
       "0 2009-01-01 00:51:00              18.0               18.0\n",
       "1 2009-01-01 01:51:00              18.0               18.0\n",
       "2 2009-01-01 02:51:00              18.0               18.0\n",
       "3 2009-01-01 03:51:00              18.0                8.0\n",
       "4 2009-01-01 04:51:00              18.0               11.0"
      ]
     },
     "execution_count": 71,
     "metadata": {},
     "output_type": "execute_result"
    }
   ],
   "source": [
    "dayweather.head()"
   ]
  },
  {
   "cell_type": "code",
   "execution_count": 72,
   "id": "71f094a3",
   "metadata": {},
   "outputs": [],
   "source": [
    "daydf = dayweather.groupby([dayweather['DATE'].dt.date]).mean()"
   ]
  },
  {
   "cell_type": "code",
   "execution_count": 73,
   "id": "ac254d4e",
   "metadata": {},
   "outputs": [
    {
     "data": {
      "text/html": [
       "<div>\n",
       "<style scoped>\n",
       "    .dataframe tbody tr th:only-of-type {\n",
       "        vertical-align: middle;\n",
       "    }\n",
       "\n",
       "    .dataframe tbody tr th {\n",
       "        vertical-align: top;\n",
       "    }\n",
       "\n",
       "    .dataframe thead th {\n",
       "        text-align: right;\n",
       "    }\n",
       "</style>\n",
       "<table border=\"1\" class=\"dataframe\">\n",
       "  <thead>\n",
       "    <tr style=\"text-align: right;\">\n",
       "      <th></th>\n",
       "      <th>DailyTemperature</th>\n",
       "      <th>DailyAvgWindSpeed</th>\n",
       "    </tr>\n",
       "    <tr>\n",
       "      <th>DATE</th>\n",
       "      <th></th>\n",
       "      <th></th>\n",
       "    </tr>\n",
       "  </thead>\n",
       "  <tbody>\n",
       "    <tr>\n",
       "      <th>2009-06-07</th>\n",
       "      <td>72.250000</td>\n",
       "      <td>4.291667</td>\n",
       "    </tr>\n",
       "    <tr>\n",
       "      <th>2011-08-25</th>\n",
       "      <td>73.700000</td>\n",
       "      <td>5.875000</td>\n",
       "    </tr>\n",
       "    <tr>\n",
       "      <th>2012-06-04</th>\n",
       "      <td>57.594595</td>\n",
       "      <td>7.459459</td>\n",
       "    </tr>\n",
       "    <tr>\n",
       "      <th>2010-11-27</th>\n",
       "      <td>38.666667</td>\n",
       "      <td>9.625000</td>\n",
       "    </tr>\n",
       "    <tr>\n",
       "      <th>2012-04-10</th>\n",
       "      <td>52.083333</td>\n",
       "      <td>5.541667</td>\n",
       "    </tr>\n",
       "    <tr>\n",
       "      <th>2009-09-10</th>\n",
       "      <td>63.357143</td>\n",
       "      <td>12.535714</td>\n",
       "    </tr>\n",
       "    <tr>\n",
       "      <th>2010-04-11</th>\n",
       "      <td>63.041667</td>\n",
       "      <td>6.833333</td>\n",
       "    </tr>\n",
       "    <tr>\n",
       "      <th>2009-04-02</th>\n",
       "      <td>51.195122</td>\n",
       "      <td>4.878049</td>\n",
       "    </tr>\n",
       "    <tr>\n",
       "      <th>2013-06-17</th>\n",
       "      <td>74.652174</td>\n",
       "      <td>2.913043</td>\n",
       "    </tr>\n",
       "    <tr>\n",
       "      <th>2015-06-07</th>\n",
       "      <td>64.368421</td>\n",
       "      <td>3.842105</td>\n",
       "    </tr>\n",
       "  </tbody>\n",
       "</table>\n",
       "</div>"
      ],
      "text/plain": [
       "            DailyTemperature  DailyAvgWindSpeed\n",
       "DATE                                           \n",
       "2009-06-07         72.250000           4.291667\n",
       "2011-08-25         73.700000           5.875000\n",
       "2012-06-04         57.594595           7.459459\n",
       "2010-11-27         38.666667           9.625000\n",
       "2012-04-10         52.083333           5.541667\n",
       "2009-09-10         63.357143          12.535714\n",
       "2010-04-11         63.041667           6.833333\n",
       "2009-04-02         51.195122           4.878049\n",
       "2013-06-17         74.652174           2.913043\n",
       "2015-06-07         64.368421           3.842105"
      ]
     },
     "execution_count": 73,
     "metadata": {},
     "output_type": "execute_result"
    }
   ],
   "source": [
    "daydf.sample(10)"
   ]
  },
  {
   "cell_type": "markdown",
   "id": "4ecace62",
   "metadata": {},
   "source": [
    "### Hourly data"
   ]
  },
  {
   "cell_type": "code",
   "execution_count": 74,
   "id": "b23a219c",
   "metadata": {},
   "outputs": [],
   "source": [
    "hourweather=pd.DataFrame()\n",
    "hourweather=weatherdf\n",
    "hourweather['day'] = hourweather.DATE.dt.date\n",
    "# dayweather.set_index(\"DATE\")"
   ]
  },
  {
   "cell_type": "code",
   "execution_count": 75,
   "id": "7efbdd87",
   "metadata": {},
   "outputs": [
    {
     "name": "stderr",
     "output_type": "stream",
     "text": [
      "C:\\Users\\Kunal\\AppData\\Local\\Temp/ipykernel_3000/127846862.py:2: SettingWithCopyWarning: \n",
      "A value is trying to be set on a copy of a slice from a DataFrame.\n",
      "Try using .loc[row_indexer,col_indexer] = value instead\n",
      "\n",
      "See the caveats in the documentation: https://pandas.pydata.org/pandas-docs/stable/user_guide/indexing.html#returning-a-view-versus-a-copy\n",
      "  hourweather['HourlyDryBulbTemperature']=pd.to_numeric(hourweather['HourlyDryBulbTemperature'], errors='coerce')\n",
      "C:\\Users\\Kunal\\AppData\\Local\\Temp/ipykernel_3000/127846862.py:3: SettingWithCopyWarning: \n",
      "A value is trying to be set on a copy of a slice from a DataFrame.\n",
      "Try using .loc[row_indexer,col_indexer] = value instead\n",
      "\n",
      "See the caveats in the documentation: https://pandas.pydata.org/pandas-docs/stable/user_guide/indexing.html#returning-a-view-versus-a-copy\n",
      "  hourweather['HourlyWindSpeed']=pd.to_numeric(hourweather['HourlyWindSpeed'], errors='coerce')\n",
      "C:\\Users\\Kunal\\AppData\\Local\\Temp/ipykernel_3000/127846862.py:4: SettingWithCopyWarning: \n",
      "A value is trying to be set on a copy of a slice from a DataFrame.\n",
      "Try using .loc[row_indexer,col_indexer] = value instead\n",
      "\n",
      "See the caveats in the documentation: https://pandas.pydata.org/pandas-docs/stable/user_guide/indexing.html#returning-a-view-versus-a-copy\n",
      "  hourweather['HourlyPrecipitation']=pd.to_numeric(hourweather['HourlyPrecipitation'], errors='coerce')\n",
      "C:\\Users\\Kunal\\anaconda3\\lib\\site-packages\\pandas\\core\\frame.py:5039: SettingWithCopyWarning: \n",
      "A value is trying to be set on a copy of a slice from a DataFrame\n",
      "\n",
      "See the caveats in the documentation: https://pandas.pydata.org/pandas-docs/stable/user_guide/indexing.html#returning-a-view-versus-a-copy\n",
      "  return super().rename(\n"
     ]
    }
   ],
   "source": [
    "hourweather=hourweather[[\"DATE\",\"HourlyDryBulbTemperature\",\"HourlyWindSpeed\",\"HourlyPrecipitation\"]]\n",
    "hourweather['HourlyDryBulbTemperature']=pd.to_numeric(hourweather['HourlyDryBulbTemperature'], errors='coerce')\n",
    "hourweather['HourlyWindSpeed']=pd.to_numeric(hourweather['HourlyWindSpeed'], errors='coerce')\n",
    "hourweather['HourlyPrecipitation']=pd.to_numeric(hourweather['HourlyPrecipitation'], errors='coerce')\n",
    "hourweather.rename(columns={\"HourlyDryBulbTemperature\":\"HourlyTemperature\"},inplace=True)"
   ]
  },
  {
   "cell_type": "code",
   "execution_count": 76,
   "id": "abb0e7ef",
   "metadata": {},
   "outputs": [
    {
     "data": {
      "text/html": [
       "<div>\n",
       "<style scoped>\n",
       "    .dataframe tbody tr th:only-of-type {\n",
       "        vertical-align: middle;\n",
       "    }\n",
       "\n",
       "    .dataframe tbody tr th {\n",
       "        vertical-align: top;\n",
       "    }\n",
       "\n",
       "    .dataframe thead th {\n",
       "        text-align: right;\n",
       "    }\n",
       "</style>\n",
       "<table border=\"1\" class=\"dataframe\">\n",
       "  <thead>\n",
       "    <tr style=\"text-align: right;\">\n",
       "      <th></th>\n",
       "      <th>DATE</th>\n",
       "      <th>HourlyTemperature</th>\n",
       "      <th>HourlyWindSpeed</th>\n",
       "      <th>HourlyPrecipitation</th>\n",
       "    </tr>\n",
       "  </thead>\n",
       "  <tbody>\n",
       "    <tr>\n",
       "      <th>0</th>\n",
       "      <td>2009-01-01 00:51:00</td>\n",
       "      <td>18.0</td>\n",
       "      <td>18.0</td>\n",
       "      <td>NaN</td>\n",
       "    </tr>\n",
       "    <tr>\n",
       "      <th>1</th>\n",
       "      <td>2009-01-01 01:51:00</td>\n",
       "      <td>18.0</td>\n",
       "      <td>18.0</td>\n",
       "      <td>NaN</td>\n",
       "    </tr>\n",
       "    <tr>\n",
       "      <th>2</th>\n",
       "      <td>2009-01-01 02:51:00</td>\n",
       "      <td>18.0</td>\n",
       "      <td>18.0</td>\n",
       "      <td>NaN</td>\n",
       "    </tr>\n",
       "    <tr>\n",
       "      <th>3</th>\n",
       "      <td>2009-01-01 03:51:00</td>\n",
       "      <td>18.0</td>\n",
       "      <td>8.0</td>\n",
       "      <td>NaN</td>\n",
       "    </tr>\n",
       "    <tr>\n",
       "      <th>4</th>\n",
       "      <td>2009-01-01 04:51:00</td>\n",
       "      <td>18.0</td>\n",
       "      <td>11.0</td>\n",
       "      <td>NaN</td>\n",
       "    </tr>\n",
       "  </tbody>\n",
       "</table>\n",
       "</div>"
      ],
      "text/plain": [
       "                 DATE  HourlyTemperature  HourlyWindSpeed  HourlyPrecipitation\n",
       "0 2009-01-01 00:51:00               18.0             18.0                  NaN\n",
       "1 2009-01-01 01:51:00               18.0             18.0                  NaN\n",
       "2 2009-01-01 02:51:00               18.0             18.0                  NaN\n",
       "3 2009-01-01 03:51:00               18.0              8.0                  NaN\n",
       "4 2009-01-01 04:51:00               18.0             11.0                  NaN"
      ]
     },
     "execution_count": 76,
     "metadata": {},
     "output_type": "execute_result"
    }
   ],
   "source": [
    "hourweather.head()"
   ]
  },
  {
   "cell_type": "code",
   "execution_count": 77,
   "id": "956bc070",
   "metadata": {},
   "outputs": [],
   "source": [
    "hourweather=hourweather.assign(DATE=hourweather.DATE.dt.round('H'))"
   ]
  },
  {
   "cell_type": "code",
   "execution_count": 78,
   "id": "fdda6abf",
   "metadata": {},
   "outputs": [],
   "source": [
    "hourdf = hourweather.groupby([hourweather['DATE']]).mean()"
   ]
  },
  {
   "cell_type": "code",
   "execution_count": 79,
   "id": "83f57d5b",
   "metadata": {},
   "outputs": [
    {
     "data": {
      "text/html": [
       "<div>\n",
       "<style scoped>\n",
       "    .dataframe tbody tr th:only-of-type {\n",
       "        vertical-align: middle;\n",
       "    }\n",
       "\n",
       "    .dataframe tbody tr th {\n",
       "        vertical-align: top;\n",
       "    }\n",
       "\n",
       "    .dataframe thead th {\n",
       "        text-align: right;\n",
       "    }\n",
       "</style>\n",
       "<table border=\"1\" class=\"dataframe\">\n",
       "  <thead>\n",
       "    <tr style=\"text-align: right;\">\n",
       "      <th></th>\n",
       "      <th>HourlyTemperature</th>\n",
       "      <th>HourlyWindSpeed</th>\n",
       "      <th>HourlyPrecipitation</th>\n",
       "    </tr>\n",
       "    <tr>\n",
       "      <th>DATE</th>\n",
       "      <th></th>\n",
       "      <th></th>\n",
       "      <th></th>\n",
       "    </tr>\n",
       "  </thead>\n",
       "  <tbody>\n",
       "    <tr>\n",
       "      <th>2009-01-01 01:00:00</th>\n",
       "      <td>18.0</td>\n",
       "      <td>18.0</td>\n",
       "      <td>NaN</td>\n",
       "    </tr>\n",
       "    <tr>\n",
       "      <th>2009-01-01 02:00:00</th>\n",
       "      <td>18.0</td>\n",
       "      <td>18.0</td>\n",
       "      <td>NaN</td>\n",
       "    </tr>\n",
       "    <tr>\n",
       "      <th>2009-01-01 03:00:00</th>\n",
       "      <td>18.0</td>\n",
       "      <td>18.0</td>\n",
       "      <td>NaN</td>\n",
       "    </tr>\n",
       "    <tr>\n",
       "      <th>2009-01-01 04:00:00</th>\n",
       "      <td>18.0</td>\n",
       "      <td>8.0</td>\n",
       "      <td>NaN</td>\n",
       "    </tr>\n",
       "    <tr>\n",
       "      <th>2009-01-01 05:00:00</th>\n",
       "      <td>18.0</td>\n",
       "      <td>11.0</td>\n",
       "      <td>NaN</td>\n",
       "    </tr>\n",
       "  </tbody>\n",
       "</table>\n",
       "</div>"
      ],
      "text/plain": [
       "                     HourlyTemperature  HourlyWindSpeed  HourlyPrecipitation\n",
       "DATE                                                                        \n",
       "2009-01-01 01:00:00               18.0             18.0                  NaN\n",
       "2009-01-01 02:00:00               18.0             18.0                  NaN\n",
       "2009-01-01 03:00:00               18.0             18.0                  NaN\n",
       "2009-01-01 04:00:00               18.0              8.0                  NaN\n",
       "2009-01-01 05:00:00               18.0             11.0                  NaN"
      ]
     },
     "execution_count": 79,
     "metadata": {},
     "output_type": "execute_result"
    }
   ],
   "source": [
    "hourdf.head()"
   ]
  },
  {
   "cell_type": "code",
   "execution_count": 80,
   "id": "3039537f",
   "metadata": {},
   "outputs": [
    {
     "data": {
      "text/html": [
       "<div>\n",
       "<style scoped>\n",
       "    .dataframe tbody tr th:only-of-type {\n",
       "        vertical-align: middle;\n",
       "    }\n",
       "\n",
       "    .dataframe tbody tr th {\n",
       "        vertical-align: top;\n",
       "    }\n",
       "\n",
       "    .dataframe thead th {\n",
       "        text-align: right;\n",
       "    }\n",
       "</style>\n",
       "<table border=\"1\" class=\"dataframe\">\n",
       "  <thead>\n",
       "    <tr style=\"text-align: right;\">\n",
       "      <th></th>\n",
       "      <th>HourlyTemperature</th>\n",
       "      <th>HourlyWindSpeed</th>\n",
       "      <th>HourlyPrecipitation</th>\n",
       "    </tr>\n",
       "    <tr>\n",
       "      <th>DATE</th>\n",
       "      <th></th>\n",
       "      <th></th>\n",
       "      <th></th>\n",
       "    </tr>\n",
       "  </thead>\n",
       "  <tbody>\n",
       "    <tr>\n",
       "      <th>2014-04-15 06:00:00</th>\n",
       "      <td>59.0</td>\n",
       "      <td>10.666667</td>\n",
       "      <td>0.03</td>\n",
       "    </tr>\n",
       "    <tr>\n",
       "      <th>2013-06-11 23:00:00</th>\n",
       "      <td>70.0</td>\n",
       "      <td>3.000000</td>\n",
       "      <td>0.00</td>\n",
       "    </tr>\n",
       "    <tr>\n",
       "      <th>2014-03-23 06:00:00</th>\n",
       "      <td>39.0</td>\n",
       "      <td>8.000000</td>\n",
       "      <td>0.00</td>\n",
       "    </tr>\n",
       "    <tr>\n",
       "      <th>2011-01-25 00:00:00</th>\n",
       "      <td>25.0</td>\n",
       "      <td>0.000000</td>\n",
       "      <td>NaN</td>\n",
       "    </tr>\n",
       "    <tr>\n",
       "      <th>2014-11-20 09:00:00</th>\n",
       "      <td>38.0</td>\n",
       "      <td>5.000000</td>\n",
       "      <td>0.00</td>\n",
       "    </tr>\n",
       "    <tr>\n",
       "      <th>2011-07-03 02:00:00</th>\n",
       "      <td>72.0</td>\n",
       "      <td>7.000000</td>\n",
       "      <td>NaN</td>\n",
       "    </tr>\n",
       "    <tr>\n",
       "      <th>2010-02-14 02:00:00</th>\n",
       "      <td>28.0</td>\n",
       "      <td>7.000000</td>\n",
       "      <td>NaN</td>\n",
       "    </tr>\n",
       "    <tr>\n",
       "      <th>2009-10-06 07:00:00</th>\n",
       "      <td>52.0</td>\n",
       "      <td>5.000000</td>\n",
       "      <td>NaN</td>\n",
       "    </tr>\n",
       "    <tr>\n",
       "      <th>2014-04-19 00:00:00</th>\n",
       "      <td>42.0</td>\n",
       "      <td>5.000000</td>\n",
       "      <td>0.00</td>\n",
       "    </tr>\n",
       "    <tr>\n",
       "      <th>2013-05-06 05:00:00</th>\n",
       "      <td>49.0</td>\n",
       "      <td>5.000000</td>\n",
       "      <td>0.00</td>\n",
       "    </tr>\n",
       "  </tbody>\n",
       "</table>\n",
       "</div>"
      ],
      "text/plain": [
       "                     HourlyTemperature  HourlyWindSpeed  HourlyPrecipitation\n",
       "DATE                                                                        \n",
       "2014-04-15 06:00:00               59.0        10.666667                 0.03\n",
       "2013-06-11 23:00:00               70.0         3.000000                 0.00\n",
       "2014-03-23 06:00:00               39.0         8.000000                 0.00\n",
       "2011-01-25 00:00:00               25.0         0.000000                  NaN\n",
       "2014-11-20 09:00:00               38.0         5.000000                 0.00\n",
       "2011-07-03 02:00:00               72.0         7.000000                  NaN\n",
       "2010-02-14 02:00:00               28.0         7.000000                  NaN\n",
       "2009-10-06 07:00:00               52.0         5.000000                  NaN\n",
       "2014-04-19 00:00:00               42.0         5.000000                 0.00\n",
       "2013-05-06 05:00:00               49.0         5.000000                 0.00"
      ]
     },
     "execution_count": 80,
     "metadata": {},
     "output_type": "execute_result"
    }
   ],
   "source": [
    "hourdf.sample(10)"
   ]
  },
  {
   "cell_type": "code",
   "execution_count": null,
   "id": "08b742c3",
   "metadata": {},
   "outputs": [],
   "source": []
  },
  {
   "cell_type": "markdown",
   "id": "74469437",
   "metadata": {},
   "source": [
    "# Part 2 - SQL - Storing Data"
   ]
  },
  {
   "cell_type": "code",
   "execution_count": 81,
   "id": "73ec7ad3",
   "metadata": {},
   "outputs": [],
   "source": [
    "import sqlalchemy"
   ]
  },
  {
   "cell_type": "code",
   "execution_count": 82,
   "id": "d39ad5af",
   "metadata": {},
   "outputs": [],
   "source": [
    "# first create a connection - we'll create a new database \n",
    "from sqlalchemy import create_engine\n",
    "\n",
    "engine = create_engine(f\"sqlite:///f6.db\", echo=True)\n",
    "dbname=\"f6.db\""
   ]
  },
  {
   "cell_type": "code",
   "execution_count": 83,
   "id": "3b46fd27",
   "metadata": {},
   "outputs": [],
   "source": [
    "# changing the format of the log messages that sqlalchemy will\n",
    "# now print out, just for easier reading;\n",
    "# we also do this after we create an engine since the \n",
    "# logger doesn't exist beforehand\n",
    "import logging\n",
    "sqllogger = logging.getLogger(\"sqlalchemy.engine.Engine\")\n",
    "formatter = logging.Formatter(\"[sqlalchemy] %(message)s\")\n",
    "sqllogger.handlers[0].setFormatter(formatter)"
   ]
  },
  {
   "cell_type": "code",
   "execution_count": 84,
   "id": "fec32b4e",
   "metadata": {},
   "outputs": [
    {
     "name": "stdout",
     "output_type": "stream",
     "text": [
      "-- creates tables\n",
      "\n",
      "CREATE TABLE IF NOT EXISTS uber (\n",
      "\t\"index\" BIGINT, \n",
      "\t\"Total_Amt\" FLOAT, \n",
      "\t\"Trip_Pickup_DateTime\" TEXT, \n",
      "\t\"Start_Lon\" FLOAT, \n",
      "\t\"Start_Lat\" FLOAT, \n",
      "\t\"End_Lon\" FLOAT, \n",
      "\t\"End_Lat\" FLOAT, \n",
      "\t\"Date\" DATETIME, \n",
      "\t\"Distance\" FLOAT, \n",
      "\t\"Type\" TEXT\n",
      ");\n",
      "\n",
      "CREATE TABLE IF NOT EXISTS yellow (\n",
      "\t\"index\" BIGINT, \n",
      "\t\"Trip_Pickup_DateTime\" TEXT, \n",
      "\t\"Start_Lon\" FLOAT, \n",
      "\t\"Start_Lat\" FLOAT, \n",
      "\t\"End_Lon\" FLOAT, \n",
      "\t\"End_Lat\" FLOAT, \n",
      "\t\"Tip_Amt\" FLOAT,\n",
      "\t\"Total_Amt\" FLOAT, \n",
      "\t\"Date\" DATETIME, \n",
      "\t\"Distance\" FLOAT, \n",
      "\t\"Type\" TEXT\n",
      ");\n",
      "\n",
      "CREATE TABLE hourtable (\n",
      "\t\"DATE\" DATETIME, \n",
      "\t\"HourlyTemperature\" FLOAT, \n",
      "\t\"HourlyWindSpeed\" FLOAT, \n",
      "\t\"HourlyPrecipitation\" FLOAT\n",
      ");\n",
      "\n",
      "CREATE TABLE daytable (\n",
      "\t\"DATE\" DATE, \n",
      "\t\"DailyTemperature\" FLOAT, \n",
      "\t\"DailyAvgWindSpeed\" FLOAT\n",
      ");\n",
      "\n",
      "CREATE VIEW IF NOT EXISTS HurricaneSandy3 AS\n",
      "    SELECT Date,\n",
      "           Count( * ) Number_of_Rides\n",
      "      FROM (\n",
      "               SELECT Date,\n",
      "                      Distance\n",
      "                 FROM (\n",
      "                          SELECT Date,\n",
      "                                 Distance\n",
      "                            FROM uber\n",
      "                          UNION ALL\n",
      "                          SELECT Date,\n",
      "                                 Distance\n",
      "                            FROM yellow\n",
      "                      )\n",
      "                WHERE Date >= '2012-10-21' AND \n",
      "                      Date <= '2012-11-03'\n",
      "           )\n",
      "     GROUP BY Date;\n"
     ]
    },
    {
     "data": {
      "text/plain": [
       "<function TextIOWrapper.close()>"
      ]
     },
     "execution_count": 84,
     "metadata": {},
     "output_type": "execute_result"
    }
   ],
   "source": [
    "f=open(\"schema.sql\",\"r\")\n",
    "query=f.read()\n",
    "print(query)\n",
    "f.close"
   ]
  },
  {
   "cell_type": "code",
   "execution_count": 85,
   "id": "6548db62",
   "metadata": {},
   "outputs": [
    {
     "name": "stderr",
     "output_type": "stream",
     "text": [
      "Error: near line 30: table hourtable already exists\n",
      "Error: near line 37: table daytable already exists\n"
     ]
    }
   ],
   "source": [
    "!sqlite3 $dbname < schema.sql"
   ]
  },
  {
   "cell_type": "code",
   "execution_count": 113,
   "id": "09beab30",
   "metadata": {},
   "outputs": [
    {
     "name": "stdout",
     "output_type": "stream",
     "text": [
      "[sqlalchemy] PRAGMA main.table_info(\"uber\")\n",
      "[sqlalchemy] [raw sql] ()\n",
      "[sqlalchemy] BEGIN (implicit)\n",
      "[sqlalchemy] INSERT INTO uber (\"index\", \"Total_Amt\", \"Trip_Pickup_DateTime\", \"Start_Lon\", \"Start_Lat\", \"End_Lon\", \"End_Lat\", \"Date\", \"Distance\", \"Type\") VALUES (?, ?, ?, ?, ?, ?, ?, ?, ?, ?)\n",
      "[sqlalchemy] [generated in 0.99877s] ((0, 7.5, '2015-05-07 19:52:06 UTC', -73.99981689453125, 40.73835372924805, -73.99951171875, 40.72321701049805, '2015-05-07 20:00:00.000000', 1.6833227524029715, 'Uber'), (1, 7.7, '2009-07-17 20:04:56 UTC', -73.994355, 40.728225, -73.99471, 40.750325, '2009-07-17 20:00:00.000000', 2.4575898837790673, 'Uber'), (2, 12.9, '2009-08-24 21:45:00 UTC', -74.005043, 40.74077, -73.962565, 40.772647, '2009-08-24 22:00:00.000000', 5.036377190242826, 'Uber'), (3, 5.3, '2009-06-26 08:22:21 UTC', -73.976124, 40.790844, -73.965316, 40.803349, '2009-06-26 08:00:00.000000', 1.6616834584355225, 'Uber'), (4, 16.0, '2014-08-28 17:47:00 UTC', -73.925023, 40.744085, -73.97308199999999, 40.761247, '2014-08-28 18:00:00.000000', 4.475449963028309, 'Uber'), (6, 24.5, '2014-10-12 07:04:00 UTC', -73.96144699999999, 40.693965000000006, -73.871195, 40.774297, '2014-10-12 07:00:00.000000', 11.731014883538833, 'Uber'), (8, 9.7, '2012-02-17 09:32:00 UTC', -73.975187, 40.745767, -74.00272, 40.743537, '2012-02-17 10:00:00.000000', 2.332711009340228, 'Uber'), (9, 12.5, '2012-03-29 19:06:00 UTC', -74.001065, 40.741787, -73.96304, 40.775012, '2012-03-29 19:00:00.000000', 4.889416888104309, 'Uber')  ... displaying 10 of 193512 total bound parameter sets ...  (199998, 14.5, '2015-05-20 14:56:25 UTC', -73.99712371826173, 40.7254524230957, -73.98321533203125, 40.69541549682617, '2015-05-20 15:00:00.000000', 3.5397154517444913, 'Uber'), (199999, 14.1, '2010-05-15 04:08:00 UTC', -73.98439499999999, 40.720077, -73.985508, 40.768793, '2010-05-15 04:00:00.000000', 5.417783481057187, 'Uber'))\n",
      "[sqlalchemy] COMMIT\n"
     ]
    }
   ],
   "source": [
    "uberdf.to_sql(\"uber\",con=engine,if_exists='append')"
   ]
  },
  {
   "cell_type": "code",
   "execution_count": 114,
   "id": "2b145dbb",
   "metadata": {},
   "outputs": [
    {
     "name": "stdout",
     "output_type": "stream",
     "text": [
      "[sqlalchemy] PRAGMA main.table_info(\"yellow\")\n",
      "[sqlalchemy] [raw sql] ()\n",
      "[sqlalchemy] BEGIN (implicit)\n",
      "[sqlalchemy] INSERT INTO yellow (\"index\", \"Trip_Pickup_DateTime\", \"Start_Lon\", \"Start_Lat\", \"End_Lon\", \"End_Lat\", \"Tip_Amt\", \"Total_Amt\", \"Date\", \"Distance\", \"Type\") VALUES (?, ?, ?, ?, ?, ?, ?, ?, ?, ?, ?)\n",
      "[sqlalchemy] [generated in 1.39366s] ((0, '2009-01-13 07:54:28', -73.96156999999998, 40.768545, -73.96364199999998, 40.774218, 0.0, 4.9, '2009-01-13 08:00:00.000000', 0.654495481292893, 'Yellow'), (1, '2009-01-22 09:02:19', -73.914399, 40.746171, -73.816812, 40.703619, 0.0, 49.3, '2009-01-22 09:00:00.000000', 9.487618881241971, 'Yellow'), (2, '2009-01-23 23:52:45', -73.874395, 40.77401, -73.981739, 40.765671, 0.0, 29.95, '2009-01-24 00:00:00.000000', 9.087111076641122, 'Yellow'), (3, '2009-01-06 18:34:58', -73.957687, 40.765477, -73.977345, 40.729237, 1.0, 12.1, '2009-01-06 19:00:00.000000', 4.356703498069769, 'Yellow'), (4, '2009-01-02 09:52:00', -74.000105, 40.761962, -73.97110999999998, 40.759072, 2.0, 9.7, '2009-01-02 10:00:00.000000', 2.463129286514783, 'Yellow'), (5, '2009-01-08 08:35:00', -73.923145, 40.74386, -73.96824499999998, 40.7514, 2.0, 12.5, '2009-01-08 09:00:00.000000', 3.890651039766242, 'Yellow'), (6, '2009-01-31 05:49:00', -73.91029, 40.761565, -73.95053799999998, 40.777337, 0.0, 15.4, '2009-01-31 06:00:00.000000', 3.8162402191936495, 'Yellow'), (7, '2009-01-21 10:06:26', -74.010729, 40.714148, -74.010986, 40.714739, 4.87, 37.37, '2009-01-21 10:00:00.000000', 0.0691939293734059, 'Yellow')  ... displaying 10 of 226373 total bound parameter sets ...  (233998, '2015-06-05 23:37:25', -73.98947143554686, 40.75696563720703, -73.9832763671875, 40.77132415771485, 0.0, 7.8, '2015-06-06 00:00:00.000000', 1.6796822916581127, 'Yellow'), (233999, '2015-06-18 22:57:15', -73.99291229248048, 40.74864196777344, -73.94766235351561, 40.83001327514648, 4.96, 29.76, '2015-06-18 23:00:00.000000', 9.81732283412083, 'Yellow'))\n",
      "[sqlalchemy] COMMIT\n"
     ]
    }
   ],
   "source": [
    "yellowdf.to_sql(\"yellow\",con=engine,if_exists='append')"
   ]
  },
  {
   "cell_type": "code",
   "execution_count": 115,
   "id": "5c9d5d44",
   "metadata": {},
   "outputs": [
    {
     "name": "stdout",
     "output_type": "stream",
     "text": [
      "[sqlalchemy] PRAGMA main.table_info(\"hourweather\")\n",
      "[sqlalchemy] [raw sql] ()\n",
      "[sqlalchemy] BEGIN (implicit)\n",
      "[sqlalchemy] INSERT INTO hourweather (\"DATE\", \"HourlyTemperature\", \"HourlyWindSpeed\", \"HourlyPrecipitation\") VALUES (?, ?, ?, ?)\n",
      "[sqlalchemy] [generated in 0.17216s] (('2009-01-01 01:00:00.000000', 18.0, 18.0, None), ('2009-01-01 02:00:00.000000', 18.0, 18.0, None), ('2009-01-01 03:00:00.000000', 18.0, 18.0, None), ('2009-01-01 04:00:00.000000', 18.0, 8.0, None), ('2009-01-01 05:00:00.000000', 18.0, 11.0, None), ('2009-01-01 06:00:00.000000', 16.0, 18.0, None), ('2009-01-01 07:00:00.000000', 16.0, 14.0, None), ('2009-01-01 08:00:00.000000', 16.0, 8.0, None)  ... displaying 10 of 56048 total bound parameter sets ...  ('2015-06-30 23:00:00.000000', 74.0, 6.0, 0.0), ('2015-07-01 00:00:00.000000', 73.0, 6.0, 0.04))\n",
      "[sqlalchemy] COMMIT\n"
     ]
    }
   ],
   "source": [
    "hourdf.to_sql(\"hourweather\",con=engine,if_exists='append')"
   ]
  },
  {
   "cell_type": "code",
   "execution_count": 116,
   "id": "4c4babd9",
   "metadata": {},
   "outputs": [
    {
     "name": "stdout",
     "output_type": "stream",
     "text": [
      "[sqlalchemy] PRAGMA main.table_info(\"dayweather\")\n",
      "[sqlalchemy] [raw sql] ()\n",
      "[sqlalchemy] BEGIN (implicit)\n",
      "[sqlalchemy] INSERT INTO dayweather (\"DATE\", \"DailyTemperature\", \"DailyAvgWindSpeed\") VALUES (?, ?, ?)\n",
      "[sqlalchemy] [generated in 0.00560s] (('2009-01-01', 20.75, 11.041666666666666), ('2009-01-02', 31.322580645161292, 6.806451612903226), ('2009-01-03', 32.833333333333336, 9.875), ('2009-01-04', 33.888888888888886, 7.37037037037037), ('2009-01-05', 41.2962962962963, 6.925925925925926), ('2009-01-06', 32.62068965517241, 7.137931034482759), ('2009-01-07', 35.68421052631579, 9.842105263157896), ('2009-01-08', 34.80769230769231, 11.192307692307692)  ... displaying 10 of 2359 total bound parameter sets ...  ('2015-06-29', 70.68181818181819, 4.863636363636363), ('2015-06-30', 74.10714285714286, 5.25))\n",
      "[sqlalchemy] COMMIT\n"
     ]
    }
   ],
   "source": [
    "daydf.to_sql(\"dayweather\",con=engine,if_exists='append')"
   ]
  },
  {
   "cell_type": "markdown",
   "id": "decfe91b",
   "metadata": {},
   "source": [
    "# Part 3 - SQL Queries - Understanding Data"
   ]
  },
  {
   "cell_type": "code",
   "execution_count": null,
   "id": "1a7b9e11",
   "metadata": {},
   "outputs": [],
   "source": []
  },
  {
   "cell_type": "markdown",
   "id": "dad93379",
   "metadata": {},
   "source": [
    "### 1.   For 01-2009 through 06-2015, what hour of the day was the most popular to take a Yellow Taxi? The result should have 24 bins."
   ]
  },
  {
   "cell_type": "code",
   "execution_count": 90,
   "id": "94b1e8d1",
   "metadata": {},
   "outputs": [],
   "source": [
    "query1='''\n",
    "SELECT COUNT(*) total_yellow_rides, strftime('%H', Date) hour\n",
    "FROM yellow\n",
    "GROUP BY hour\n",
    "ORDER BY COUNT(*) DESC'''"
   ]
  },
  {
   "cell_type": "code",
   "execution_count": 91,
   "id": "151ad469",
   "metadata": {},
   "outputs": [],
   "source": [
    "f = open(\"sql/query1.sql\", \"w\")\n",
    "f.write(query1)\n",
    "f.close()"
   ]
  },
  {
   "cell_type": "code",
   "execution_count": 92,
   "id": "c8790234",
   "metadata": {},
   "outputs": [],
   "source": [
    "# !sqlite3 $dbname < sql/q1.sql"
   ]
  },
  {
   "cell_type": "code",
   "execution_count": 93,
   "id": "10d89d35",
   "metadata": {},
   "outputs": [
    {
     "name": "stdout",
     "output_type": "stream",
     "text": [
      "[sqlalchemy] \n",
      "SELECT COUNT(*) total_yellow_rides, strftime('%H', Date) hour\n",
      "FROM yellow\n",
      "GROUP BY hour\n",
      "ORDER BY COUNT(*) DESC\n",
      "[sqlalchemy] [raw sql] ()\n"
     ]
    },
    {
     "data": {
      "text/plain": [
       "[(14285, '19'),\n",
       " (13934, '20'),\n",
       " (12984, '21'),\n",
       " (12745, '22'),\n",
       " (12679, '18'),\n",
       " (12059, '23'),\n",
       " (11342, '15'),\n",
       " (11223, '14'),\n",
       " (11167, '12'),\n",
       " (10823, '13'),\n",
       " (10530, '09'),\n",
       " (10363, '10'),\n",
       " (10193, '16'),\n",
       " (10186, '00'),\n",
       " (10117, '11'),\n",
       " (9793, '17'),\n",
       " (9477, '08'),\n",
       " (7745, '01'),\n",
       " (6542, '07'),\n",
       " (5765, '02'),\n",
       " (4191, '03'),\n",
       " (3321, '04'),\n",
       " (2947, '06'),\n",
       " (1962, '05')]"
      ]
     },
     "execution_count": 93,
     "metadata": {},
     "output_type": "execute_result"
    }
   ],
   "source": [
    "engine.execute(query1).fetchall()"
   ]
  },
  {
   "cell_type": "code",
   "execution_count": 94,
   "id": "5546ed98",
   "metadata": {},
   "outputs": [],
   "source": [
    "f = open(\"sql/query1.sql\", \"w\")\n",
    "f.write(query1)\n",
    "f.close()"
   ]
  },
  {
   "cell_type": "markdown",
   "id": "92f00b94",
   "metadata": {},
   "source": [
    "### 2. For the same time frame, what day of the week was the most popular to take an Uber? The result should have 7 bins."
   ]
  },
  {
   "cell_type": "code",
   "execution_count": 95,
   "id": "a7b1e499",
   "metadata": {},
   "outputs": [],
   "source": [
    "query2='''\n",
    "SELECT COUNT(*) Total_Uber_Rides, strftime('%w', Date) Day_of_Week\n",
    "FROM uber\n",
    "GROUP BY Day_of_Week\n",
    "ORDER BY COUNT(*) DESC'''"
   ]
  },
  {
   "cell_type": "code",
   "execution_count": 96,
   "id": "60526b1d",
   "metadata": {
    "scrolled": true
   },
   "outputs": [],
   "source": [
    "\n",
    "# !sqlite3 $dbname < sql/q2.sql"
   ]
  },
  {
   "cell_type": "code",
   "execution_count": 97,
   "id": "505ed8a1",
   "metadata": {},
   "outputs": [
    {
     "name": "stdout",
     "output_type": "stream",
     "text": [
      "[sqlalchemy] \n",
      "SELECT COUNT(*) Total_Uber_Rides, strftime('%w', Date) Day_of_Week\n",
      "FROM uber\n",
      "GROUP BY Day_of_Week\n",
      "ORDER BY COUNT(*) DESC\n",
      "[sqlalchemy] [raw sql] ()\n"
     ]
    },
    {
     "data": {
      "text/plain": [
       "[(29759, '5'),\n",
       " (29227, '6'),\n",
       " (28923, '4'),\n",
       " (28028, '3'),\n",
       " (27133, '2'),\n",
       " (26071, '0'),\n",
       " (24371, '1')]"
      ]
     },
     "execution_count": 97,
     "metadata": {},
     "output_type": "execute_result"
    }
   ],
   "source": [
    "#day of week 0-6 with Sunday==0\n",
    "engine.execute(query2).fetchall()"
   ]
  },
  {
   "cell_type": "code",
   "execution_count": 98,
   "id": "147d1ae9",
   "metadata": {},
   "outputs": [],
   "source": [
    "f = open(\"sql/query2.sql\", \"w\")\n",
    "f.write(query2)\n",
    "f.close()"
   ]
  },
  {
   "cell_type": "markdown",
   "id": "1b4bf161",
   "metadata": {},
   "source": [
    "### 3.What is the 95% percentile of distance traveled for all hired trips during July 2013?"
   ]
  },
  {
   "cell_type": "code",
   "execution_count": 124,
   "id": "94891d43",
   "metadata": {},
   "outputs": [],
   "source": [
    "query3='''\n",
    "WITH p AS (\n",
    "    SELECT Distance,\n",
    "           NTILE(100) OVER (ORDER BY Distance) AS percentile_bucket\n",
    "      FROM (\n",
    "               SELECT Distance\n",
    "                 FROM uber\n",
    "                WHERE Date >= '2013-07' AND \n",
    "                      Date <= '2013-08'\n",
    "               UNION ALL\n",
    "               SELECT Distance\n",
    "                 FROM yellow\n",
    "                WHERE Date >= '2013-07' AND \n",
    "                      Date <= '2013-08'\n",
    "           )\n",
    ")\n",
    "SELECT MAX(Distance) AS Distance\n",
    "  FROM p\n",
    " WHERE percentile_bucket = 95;'''"
   ]
  },
  {
   "cell_type": "code",
   "execution_count": 125,
   "id": "c6fd1af0",
   "metadata": {},
   "outputs": [],
   "source": [
    "# !sqlite3 $dbname < sql/q3.sql"
   ]
  },
  {
   "cell_type": "code",
   "execution_count": 126,
   "id": "c27a3d03",
   "metadata": {},
   "outputs": [
    {
     "name": "stdout",
     "output_type": "stream",
     "text": [
      "[sqlalchemy] \n",
      "WITH p AS (\n",
      "    SELECT Distance,\n",
      "           NTILE(100) OVER (ORDER BY Distance) AS percentile_bucket\n",
      "      FROM (\n",
      "               SELECT Distance\n",
      "                 FROM uber\n",
      "                WHERE Date >= '2013-07' AND \n",
      "                      Date <= '2013-08'\n",
      "               UNION ALL\n",
      "               SELECT Distance\n",
      "                 FROM yellow\n",
      "                WHERE Date >= '2013-07' AND \n",
      "                      Date <= '2013-08'\n",
      "           )\n",
      ")\n",
      "SELECT MAX(Distance) AS Distance\n",
      "  FROM p\n",
      " WHERE percentile_bucket = 95;\n",
      "[sqlalchemy] [raw sql] ()\n"
     ]
    },
    {
     "data": {
      "text/plain": [
       "[(10.179511923885926,)]"
      ]
     },
     "execution_count": 126,
     "metadata": {},
     "output_type": "execute_result"
    }
   ],
   "source": [
    "#Dividing the data in 20 buckets with each having 5 %ile \n",
    "#The 19th bucket will correspond to 95 %ile\n",
    "engine.execute(query3).fetchall()"
   ]
  },
  {
   "cell_type": "code",
   "execution_count": 127,
   "id": "8088b91b",
   "metadata": {},
   "outputs": [],
   "source": [
    "f = open(\"sql/query3.sql\", \"w\")\n",
    "f.write(query3)\n",
    "f.close()"
   ]
  },
  {
   "cell_type": "markdown",
   "id": "8d81a405",
   "metadata": {},
   "source": [
    "### 4.What were the top 10 days with the highest number of hired rides for 2009, and what was the average distance for each day?"
   ]
  },
  {
   "cell_type": "code",
   "execution_count": 103,
   "id": "bccb768e",
   "metadata": {},
   "outputs": [],
   "source": [
    "query4='''\n",
    "Select COUNT(Distance) Rides,AVG(Distance) Average_Distance,strftime('%Y-%m-%d', Date) Date\n",
    "from (SELECT Distance,Date FROM uber WHERE strftime('%Y', Date) IN('2009') UNION ALL \n",
    "SELECT Distance,Date FROM yellow WHERE strftime('%Y', Date) IN('2009')) \n",
    "GROUP BY strftime('%Y-%m-%d', Date) ORDER BY Rides DESC LIMIT 10\n",
    "'''"
   ]
  },
  {
   "cell_type": "code",
   "execution_count": 104,
   "id": "129b287c",
   "metadata": {
    "scrolled": true
   },
   "outputs": [],
   "source": [
    "# !sqlite3 $dbname < sql/q4.sql"
   ]
  },
  {
   "cell_type": "code",
   "execution_count": 105,
   "id": "cb6bd462",
   "metadata": {},
   "outputs": [
    {
     "name": "stdout",
     "output_type": "stream",
     "text": [
      "[sqlalchemy] \n",
      "Select COUNT(Distance) Rides,AVG(Distance) Average_Distance,strftime('%Y-%m-%d', Date) Date\n",
      "from (SELECT Distance,Date FROM uber WHERE strftime('%Y', Date) IN('2009') UNION ALL \n",
      "SELECT Distance,Date FROM yellow WHERE strftime('%Y', Date) IN('2009')) \n",
      "GROUP BY strftime('%Y-%m-%d', Date) ORDER BY Rides DESC LIMIT 10\n",
      "\n",
      "[sqlalchemy] [raw sql] ()\n"
     ]
    },
    {
     "data": {
      "text/plain": [
       "[(259, 3.3600973680036885, '2009-12-11'),\n",
       " (232, 2.792622867915958, '2009-01-24'),\n",
       " (229, 3.0433766790373444, '2009-11-07'),\n",
       " (228, 2.6602590094018863, '2009-02-20'),\n",
       " (226, 2.459683685993068, '2009-02-12'),\n",
       " (225, 3.4167465702804254, '2009-11-06'),\n",
       " (223, 3.3236647207557257, '2009-09-12'),\n",
       " (222, 3.507321072353886, '2009-04-18'),\n",
       " (222, 2.943716124851853, '2009-01-09'),\n",
       " (221, 3.4108612558827947, '2009-07-09')]"
      ]
     },
     "execution_count": 105,
     "metadata": {},
     "output_type": "execute_result"
    }
   ],
   "source": [
    "engine.execute(query4).fetchall()"
   ]
  },
  {
   "cell_type": "code",
   "execution_count": 106,
   "id": "1dd8d94c",
   "metadata": {},
   "outputs": [],
   "source": [
    "f = open(\"sql/query4.sql\", \"w\")\n",
    "f.write(query4)\n",
    "f.close()"
   ]
  },
  {
   "cell_type": "code",
   "execution_count": null,
   "id": "3847108b",
   "metadata": {},
   "outputs": [],
   "source": []
  },
  {
   "cell_type": "markdown",
   "id": "022486b7",
   "metadata": {},
   "source": [
    "### 5. Which 10 days in 2014 were the windiest on average, and how many hired trips were made on those days?"
   ]
  },
  {
   "cell_type": "code",
   "execution_count": null,
   "id": "046c3019",
   "metadata": {},
   "outputs": [],
   "source": []
  },
  {
   "cell_type": "code",
   "execution_count": 107,
   "id": "d5075a8c",
   "metadata": {},
   "outputs": [],
   "source": [
    "query5='''\n",
    "SELECT COUNT(*) Number_of_Rides,Date as Windiest_Dates from (SELECT Distance,strftime('%Y-%m-%d', Date) Date from uber UNION ALL Select Distance,strftime('%Y-%m-%d', Date) Date from yellow) WHERE Date\n",
    "IN(SELECT strftime('%Y-%m-%d', Date) Day \n",
    "from dayweather ORDER BY DailyAvgWindSpeed DESC LIMIT 10) GROUP BY Date;\n",
    "'''"
   ]
  },
  {
   "cell_type": "code",
   "execution_count": 108,
   "id": "54b2c25c",
   "metadata": {
    "scrolled": true
   },
   "outputs": [],
   "source": [
    "# !sqlite3 $dbname < sql/q5.sql"
   ]
  },
  {
   "cell_type": "code",
   "execution_count": 109,
   "id": "f90ed20c",
   "metadata": {},
   "outputs": [
    {
     "name": "stdout",
     "output_type": "stream",
     "text": [
      "[sqlalchemy] \n",
      "SELECT COUNT(*) Number_of_Rides,Date as Windiest_Dates from (SELECT Distance,strftime('%Y-%m-%d', Date) Date from uber UNION ALL Select Distance,strftime('%Y-%m-%d', Date) Date from yellow) WHERE Date\n",
      "IN(SELECT strftime('%Y-%m-%d', Date) Day \n",
      "from dayweather ORDER BY DailyAvgWindSpeed DESC LIMIT 10) GROUP BY Date;\n",
      "\n",
      "[sqlalchemy] [raw sql] ()\n"
     ]
    },
    {
     "data": {
      "text/plain": [
       "[(220, '2009-04-04'),\n",
       " (198, '2009-11-13'),\n",
       " (106, '2010-02-06'),\n",
       " (254, '2010-03-13'),\n",
       " (24, '2010-12-27'),\n",
       " (237, '2011-02-19'),\n",
       " (181, '2012-02-25'),\n",
       " (44, '2012-10-29'),\n",
       " (158, '2012-12-26'),\n",
       " (195, '2013-03-06')]"
      ]
     },
     "execution_count": 109,
     "metadata": {},
     "output_type": "execute_result"
    }
   ],
   "source": [
    "engine.execute(query5).fetchall()"
   ]
  },
  {
   "cell_type": "code",
   "execution_count": 110,
   "id": "e67a2bc9",
   "metadata": {},
   "outputs": [],
   "source": [
    "f = open(\"sql/query5.sql\", \"w\")\n",
    "f.write(query5)\n",
    "f.close()"
   ]
  },
  {
   "cell_type": "markdown",
   "id": "9abfa5e7",
   "metadata": {},
   "source": [
    "### 6. During Hurricane Sandy in NYC (Oct 29-30, 2012), plus the week leading up and the week after, how many trips were taken each hour, and for each hour, how much precipitation did NYC receive and what was the sustained wind speed? There should be an entry for every single hour, even if no rides were taken, no precipitation was measured, or there was no wind."
   ]
  },
  {
   "cell_type": "code",
   "execution_count": null,
   "id": "90903de0",
   "metadata": {},
   "outputs": [],
   "source": []
  },
  {
   "cell_type": "markdown",
   "id": "0a29701e",
   "metadata": {},
   "source": [
    "\n",
    "\n",
    "query6='''\n",
    "SELECT strftime('%Y-%m-%d Hour %H', HurricaneSandy3.Date) Date_Hour,\n",
    "       Number_of_Rides,\n",
    "       hourweather.HourlyWindSpeed AS Sustained_Wind_Speed,\n",
    "       hourweather.HourlyPrecipitation AS Hourly_Precipitation\n",
    "  FROM HurricaneSandy3\n",
    "       LEFT JOIN\n",
    "       hourweather ON hourweather.DATE = HurricaneSandy3.Date;\n",
    "'''"
   ]
  },
  {
   "cell_type": "code",
   "execution_count": 122,
   "id": "05014061",
   "metadata": {},
   "outputs": [
    {
     "name": "stdout",
     "output_type": "stream",
     "text": [
      "[sqlalchemy] \n",
      "SELECT strftime('%Y-%m-%d Hour %H', HurricaneSandy3.Date) Date_Hour,\n",
      "       Number_of_Rides,\n",
      "       hourweather.HourlyWindSpeed AS Sustained_Wind_Speed,\n",
      "       hourweather.HourlyPrecipitation AS Hourly_Precipitation\n",
      "  FROM HurricaneSandy3\n",
      "       LEFT JOIN\n",
      "       hourweather ON hourweather.DATE = HurricaneSandy3.Date;\n",
      "\n",
      "[sqlalchemy] [raw sql] ()\n"
     ]
    },
    {
     "data": {
      "text/plain": [
       "[('2012-10-21 Hour 00', 26, None, 0.0),\n",
       " ('2012-10-21 Hour 00', 26, None, 0.0),\n",
       " ('2012-10-21 Hour 01', 34, 5.0, 0.0),\n",
       " ('2012-10-21 Hour 01', 34, 5.0, 0.0),\n",
       " ('2012-10-21 Hour 02', 28, 6.0, 0.0),\n",
       " ('2012-10-21 Hour 02', 28, 6.0, 0.0),\n",
       " ('2012-10-21 Hour 03', 14, 6.0, 0.0),\n",
       " ('2012-10-21 Hour 03', 14, 6.0, 0.0),\n",
       " ('2012-10-21 Hour 04', 10, 6.0, 0.0),\n",
       " ('2012-10-21 Hour 04', 10, 6.0, 0.0),\n",
       " ('2012-10-21 Hour 05', 4, 6.0, 0.0),\n",
       " ('2012-10-21 Hour 05', 4, 6.0, 0.0),\n",
       " ('2012-10-21 Hour 06', 2, 6.0, 0.0),\n",
       " ('2012-10-21 Hour 06', 2, 6.0, 0.0),\n",
       " ('2012-10-21 Hour 07', 6, 0.0, 0.0),\n",
       " ('2012-10-21 Hour 07', 6, 0.0, 0.0),\n",
       " ('2012-10-21 Hour 08', 4, 5.0, 0.0),\n",
       " ('2012-10-21 Hour 08', 4, 5.0, 0.0),\n",
       " ('2012-10-21 Hour 09', 8, 8.0, 0.0),\n",
       " ('2012-10-21 Hour 09', 8, 8.0, 0.0),\n",
       " ('2012-10-21 Hour 10', 6, 8.0, 0.0),\n",
       " ('2012-10-21 Hour 10', 6, 8.0, 0.0),\n",
       " ('2012-10-21 Hour 11', 26, 8.0, 0.0),\n",
       " ('2012-10-21 Hour 11', 26, 8.0, 0.0),\n",
       " ('2012-10-21 Hour 12', 16, 9.0, 0.0),\n",
       " ('2012-10-21 Hour 12', 16, 9.0, 0.0),\n",
       " ('2012-10-21 Hour 13', 20, None, 0.0),\n",
       " ('2012-10-21 Hour 13', 20, None, 0.0),\n",
       " ('2012-10-21 Hour 14', 22, 5.0, 0.0),\n",
       " ('2012-10-21 Hour 14', 22, 5.0, 0.0),\n",
       " ('2012-10-21 Hour 15', 20, 9.0, 0.0),\n",
       " ('2012-10-21 Hour 15', 20, 9.0, 0.0),\n",
       " ('2012-10-21 Hour 16', 22, 5.0, 0.0),\n",
       " ('2012-10-21 Hour 16', 22, 5.0, 0.0),\n",
       " ('2012-10-21 Hour 17', 14, None, 0.0),\n",
       " ('2012-10-21 Hour 17', 14, None, 0.0),\n",
       " ('2012-10-21 Hour 18', 22, 3.0, 0.0),\n",
       " ('2012-10-21 Hour 18', 22, 3.0, 0.0),\n",
       " ('2012-10-21 Hour 19', 24, 7.0, 0.0),\n",
       " ('2012-10-21 Hour 19', 24, 7.0, 0.0),\n",
       " ('2012-10-21 Hour 20', 20, 5.0, 0.0),\n",
       " ('2012-10-21 Hour 20', 20, 5.0, 0.0),\n",
       " ('2012-10-21 Hour 21', 12, 7.0, 0.0),\n",
       " ('2012-10-21 Hour 21', 12, 7.0, 0.0),\n",
       " ('2012-10-21 Hour 22', 10, 9.0, 0.0),\n",
       " ('2012-10-21 Hour 22', 10, 9.0, 0.0),\n",
       " ('2012-10-21 Hour 23', 8, 5.0, 0.0),\n",
       " ('2012-10-21 Hour 23', 8, 5.0, 0.0),\n",
       " ('2012-10-22 Hour 00', 8, 5.0, 0.0),\n",
       " ('2012-10-22 Hour 00', 8, 5.0, 0.0),\n",
       " ('2012-10-22 Hour 01', 2, 7.0, 0.0),\n",
       " ('2012-10-22 Hour 01', 2, 7.0, 0.0),\n",
       " ('2012-10-22 Hour 02', 4, 5.0, 0.0),\n",
       " ('2012-10-22 Hour 02', 4, 5.0, 0.0),\n",
       " ('2012-10-22 Hour 03', 4, 7.0, 0.0),\n",
       " ('2012-10-22 Hour 03', 4, 7.0, 0.0),\n",
       " ('2012-10-22 Hour 04', 4, 0.0, 0.0),\n",
       " ('2012-10-22 Hour 04', 4, 0.0, 0.0),\n",
       " ('2012-10-22 Hour 05', 2, 0.0, 0.0),\n",
       " ('2012-10-22 Hour 05', 2, 0.0, 0.0),\n",
       " ('2012-10-22 Hour 06', 6, 0.0, 0.0),\n",
       " ('2012-10-22 Hour 06', 6, 0.0, 0.0),\n",
       " ('2012-10-22 Hour 07', 14, 5.0, 0.0),\n",
       " ('2012-10-22 Hour 07', 14, 5.0, 0.0),\n",
       " ('2012-10-22 Hour 08', 18, 3.0, 0.0),\n",
       " ('2012-10-22 Hour 08', 18, 3.0, 0.0),\n",
       " ('2012-10-22 Hour 09', 14, 3.0, 0.0),\n",
       " ('2012-10-22 Hour 09', 14, 3.0, 0.0),\n",
       " ('2012-10-22 Hour 10', 8, 5.0, 0.0),\n",
       " ('2012-10-22 Hour 10', 8, 5.0, 0.0),\n",
       " ('2012-10-22 Hour 11', 10, None, 0.0),\n",
       " ('2012-10-22 Hour 11', 10, None, 0.0),\n",
       " ('2012-10-22 Hour 12', 24, None, 0.0),\n",
       " ('2012-10-22 Hour 12', 24, None, 0.0),\n",
       " ('2012-10-22 Hour 13', 14, 11.0, 0.0),\n",
       " ('2012-10-22 Hour 13', 14, 11.0, 0.0),\n",
       " ('2012-10-22 Hour 14', 24, None, 0.0),\n",
       " ('2012-10-22 Hour 14', 24, None, 0.0),\n",
       " ('2012-10-22 Hour 15', 14, 7.0, 0.0),\n",
       " ('2012-10-22 Hour 15', 14, 7.0, 0.0),\n",
       " ('2012-10-22 Hour 16', 14, 6.0, 0.0),\n",
       " ('2012-10-22 Hour 16', 14, 6.0, 0.0),\n",
       " ('2012-10-22 Hour 17', 14, 3.0, 0.0),\n",
       " ('2012-10-22 Hour 17', 14, 3.0, 0.0),\n",
       " ('2012-10-22 Hour 18', 28, 7.0, 0.0),\n",
       " ('2012-10-22 Hour 18', 28, 7.0, 0.0),\n",
       " ('2012-10-22 Hour 19', 20, 5.0, 0.0),\n",
       " ('2012-10-22 Hour 19', 20, 5.0, 0.0),\n",
       " ('2012-10-22 Hour 20', 12, 5.0, 0.0),\n",
       " ('2012-10-22 Hour 20', 12, 5.0, 0.0),\n",
       " ('2012-10-22 Hour 21', 20, 3.0, 0.0),\n",
       " ('2012-10-22 Hour 21', 20, 3.0, 0.0),\n",
       " ('2012-10-22 Hour 22', 18, 0.0, 0.0),\n",
       " ('2012-10-22 Hour 22', 18, 0.0, 0.0),\n",
       " ('2012-10-22 Hour 23', 8, 3.0, 0.0),\n",
       " ('2012-10-22 Hour 23', 8, 3.0, 0.0),\n",
       " ('2012-10-23 Hour 00', 8, 3.0, 0.0),\n",
       " ('2012-10-23 Hour 00', 8, 3.0, 0.0),\n",
       " ('2012-10-23 Hour 01', 2, 3.0, None),\n",
       " ('2012-10-23 Hour 01', 2, 3.0, None),\n",
       " ('2012-10-23 Hour 02', 2, 0.0, None),\n",
       " ('2012-10-23 Hour 02', 2, 0.0, None),\n",
       " ('2012-10-23 Hour 03', 2, 3.0, None),\n",
       " ('2012-10-23 Hour 03', 2, 3.0, None),\n",
       " ('2012-10-23 Hour 05', 2, 3.0, None),\n",
       " ('2012-10-23 Hour 05', 2, 3.0, None),\n",
       " ('2012-10-23 Hour 06', 12, 0.0, None),\n",
       " ('2012-10-23 Hour 06', 12, 0.0, None),\n",
       " ('2012-10-23 Hour 07', 16, 0.0, None),\n",
       " ('2012-10-23 Hour 07', 16, 0.0, None),\n",
       " ('2012-10-23 Hour 08', 44, 0.0, None),\n",
       " ('2012-10-23 Hour 08', 44, 0.0, None),\n",
       " ('2012-10-23 Hour 09', 20, 0.0, None),\n",
       " ('2012-10-23 Hour 09', 20, 0.0, None),\n",
       " ('2012-10-23 Hour 10', 16, 3.0, None),\n",
       " ('2012-10-23 Hour 10', 16, 3.0, None),\n",
       " ('2012-10-23 Hour 11', 28, 0.0, None),\n",
       " ('2012-10-23 Hour 11', 28, 0.0, None),\n",
       " ('2012-10-23 Hour 12', 30, 3.0, None),\n",
       " ('2012-10-23 Hour 12', 30, 3.0, None),\n",
       " ('2012-10-23 Hour 13', 12, 0.0, None),\n",
       " ('2012-10-23 Hour 13', 12, 0.0, None),\n",
       " ('2012-10-23 Hour 14', 30, None, None),\n",
       " ('2012-10-23 Hour 14', 30, None, None),\n",
       " ('2012-10-23 Hour 15', 22, None, None),\n",
       " ('2012-10-23 Hour 15', 22, None, None),\n",
       " ('2012-10-23 Hour 16', 24, None, None),\n",
       " ('2012-10-23 Hour 16', 24, None, None),\n",
       " ('2012-10-23 Hour 17', 16, 3.0, None),\n",
       " ('2012-10-23 Hour 17', 16, 3.0, None),\n",
       " ('2012-10-23 Hour 18', 30, None, None),\n",
       " ('2012-10-23 Hour 19', 22, 5.0, None),\n",
       " ('2012-10-23 Hour 19', 22, 5.0, None),\n",
       " ('2012-10-23 Hour 20', 22, 0.0, None),\n",
       " ('2012-10-23 Hour 20', 22, 0.0, None),\n",
       " ('2012-10-23 Hour 21', 30, 0.0, 0.02),\n",
       " ('2012-10-23 Hour 21', 30, 0.0, 0.02),\n",
       " ('2012-10-23 Hour 22', 20, 5.0, None),\n",
       " ('2012-10-23 Hour 22', 20, 5.0, None),\n",
       " ('2012-10-23 Hour 23', 20, 0.0, 0.01),\n",
       " ('2012-10-23 Hour 23', 20, 0.0, 0.01),\n",
       " ('2012-10-24 Hour 00', 4, 5.0, None),\n",
       " ('2012-10-24 Hour 00', 4, 5.0, None),\n",
       " ('2012-10-24 Hour 01', 2, 3.0, 0.0),\n",
       " ('2012-10-24 Hour 01', 2, 3.0, 0.0),\n",
       " ('2012-10-24 Hour 02', 4, 5.333333333333333, 0.0),\n",
       " ('2012-10-24 Hour 02', 4, 5.333333333333333, 0.0),\n",
       " ('2012-10-24 Hour 03', 8, 6.0, 0.0),\n",
       " ('2012-10-24 Hour 03', 8, 6.0, 0.0),\n",
       " ('2012-10-24 Hour 04', 2, 7.0, 0.0),\n",
       " ('2012-10-24 Hour 04', 2, 7.0, 0.0),\n",
       " ('2012-10-24 Hour 05', 4, 7.0, 0.0),\n",
       " ('2012-10-24 Hour 05', 4, 7.0, 0.0),\n",
       " ('2012-10-24 Hour 06', 2, 6.0, 0.0),\n",
       " ('2012-10-24 Hour 06', 2, 6.0, 0.0),\n",
       " ('2012-10-24 Hour 07', 8, 4.333333333333333, 0.0),\n",
       " ('2012-10-24 Hour 07', 8, 4.333333333333333, 0.0),\n",
       " ('2012-10-24 Hour 08', 10, 0.0, None),\n",
       " ('2012-10-24 Hour 08', 10, 0.0, None),\n",
       " ('2012-10-24 Hour 09', 10, 0.0, None),\n",
       " ('2012-10-24 Hour 09', 10, 0.0, None),\n",
       " ('2012-10-24 Hour 10', 22, 3.0, None),\n",
       " ('2012-10-24 Hour 10', 22, 3.0, None),\n",
       " ('2012-10-24 Hour 11', 12, 7.0, 0.0),\n",
       " ('2012-10-24 Hour 11', 12, 7.0, 0.0),\n",
       " ('2012-10-24 Hour 12', 16, 7.5, 0.0),\n",
       " ('2012-10-24 Hour 12', 16, 7.5, 0.0),\n",
       " ('2012-10-24 Hour 13', 26, 7.0, None),\n",
       " ('2012-10-24 Hour 13', 26, 7.0, None),\n",
       " ('2012-10-24 Hour 14', 14, 7.0, 0.0),\n",
       " ('2012-10-24 Hour 14', 14, 7.0, 0.0),\n",
       " ('2012-10-24 Hour 15', 8, 7.0, 0.0),\n",
       " ('2012-10-24 Hour 15', 8, 7.0, 0.0),\n",
       " ('2012-10-24 Hour 16', 12, 7.0, 0.0),\n",
       " ('2012-10-24 Hour 16', 12, 7.0, 0.0),\n",
       " ('2012-10-24 Hour 17', 16, 8.0, 0.0),\n",
       " ('2012-10-24 Hour 17', 16, 8.0, 0.0),\n",
       " ('2012-10-24 Hour 18', 26, 5.0, 0.0),\n",
       " ('2012-10-24 Hour 18', 26, 5.0, 0.0),\n",
       " ('2012-10-24 Hour 19', 20, 7.0, 0.0),\n",
       " ('2012-10-24 Hour 19', 20, 7.0, 0.0),\n",
       " ('2012-10-24 Hour 20', 40, 8.0, 0.0),\n",
       " ('2012-10-24 Hour 20', 40, 8.0, 0.0),\n",
       " ('2012-10-24 Hour 21', 30, 1.5, 0.0),\n",
       " ('2012-10-24 Hour 21', 30, 1.5, 0.0),\n",
       " ('2012-10-24 Hour 22', 18, 4.333333333333333, 0.0),\n",
       " ('2012-10-24 Hour 22', 18, 4.333333333333333, 0.0),\n",
       " ('2012-10-24 Hour 23', 20, 6.0, 0.0),\n",
       " ('2012-10-24 Hour 23', 20, 6.0, 0.0),\n",
       " ('2012-10-25 Hour 00', 24, 3.0, 0.0),\n",
       " ('2012-10-25 Hour 00', 24, 3.0, 0.0),\n",
       " ('2012-10-25 Hour 01', 14, 3.0, 0.0),\n",
       " ('2012-10-25 Hour 01', 14, 3.0, 0.0),\n",
       " ('2012-10-25 Hour 02', 6, 3.0, 0.0),\n",
       " ('2012-10-25 Hour 02', 6, 3.0, 0.0),\n",
       " ('2012-10-25 Hour 04', 4, 7.0, 0.0),\n",
       " ('2012-10-25 Hour 04', 4, 7.0, 0.0),\n",
       " ('2012-10-25 Hour 05', 4, 6.0, 0.0),\n",
       " ('2012-10-25 Hour 05', 4, 6.0, 0.0),\n",
       " ('2012-10-25 Hour 06', 6, 0.0, 0.0),\n",
       " ('2012-10-25 Hour 06', 6, 0.0, 0.0),\n",
       " ('2012-10-25 Hour 07', 8, 5.0, 0.0),\n",
       " ('2012-10-25 Hour 07', 8, 5.0, 0.0),\n",
       " ('2012-10-25 Hour 08', 24, 6.0, 0.0),\n",
       " ('2012-10-25 Hour 08', 24, 6.0, 0.0),\n",
       " ('2012-10-25 Hour 09', 20, 5.0, 0.0),\n",
       " ('2012-10-25 Hour 09', 20, 5.0, 0.0),\n",
       " ('2012-10-25 Hour 10', 14, 3.0, 0.0),\n",
       " ('2012-10-25 Hour 10', 14, 3.0, 0.0),\n",
       " ('2012-10-25 Hour 11', 24, 6.0, 0.0),\n",
       " ('2012-10-25 Hour 11', 24, 6.0, 0.0),\n",
       " ('2012-10-25 Hour 12', 30, 0.0, 0.0),\n",
       " ('2012-10-25 Hour 12', 30, 0.0, 0.0),\n",
       " ('2012-10-25 Hour 13', 10, 6.0, 0.0),\n",
       " ('2012-10-25 Hour 13', 10, 6.0, 0.0),\n",
       " ('2012-10-25 Hour 14', 30, 0.0, 0.0),\n",
       " ('2012-10-25 Hour 14', 30, 0.0, 0.0),\n",
       " ('2012-10-25 Hour 15', 8, 5.0, 0.0),\n",
       " ('2012-10-25 Hour 15', 8, 5.0, 0.0),\n",
       " ('2012-10-25 Hour 16', 8, 5.0, 0.0),\n",
       " ('2012-10-25 Hour 16', 8, 5.0, 0.0),\n",
       " ('2012-10-25 Hour 17', 8, 0.0, 0.0),\n",
       " ('2012-10-25 Hour 17', 8, 0.0, 0.0),\n",
       " ('2012-10-25 Hour 18', 18, 3.0, 0.0),\n",
       " ('2012-10-25 Hour 18', 18, 3.0, 0.0),\n",
       " ('2012-10-25 Hour 19', 20, 0.0, 0.0),\n",
       " ('2012-10-25 Hour 19', 20, 0.0, 0.0),\n",
       " ('2012-10-25 Hour 20', 40, 0.0, 0.0),\n",
       " ('2012-10-25 Hour 20', 40, 0.0, 0.0),\n",
       " ('2012-10-25 Hour 21', 26, 3.0, 0.0),\n",
       " ('2012-10-25 Hour 21', 26, 3.0, 0.0),\n",
       " ('2012-10-25 Hour 22', 28, 3.0, 0.0),\n",
       " ('2012-10-25 Hour 22', 28, 3.0, 0.0),\n",
       " ('2012-10-25 Hour 23', 18, 3.0, 0.0),\n",
       " ('2012-10-25 Hour 23', 18, 3.0, 0.0),\n",
       " ('2012-10-26 Hour 00', 12, 0.0, 0.0),\n",
       " ('2012-10-26 Hour 00', 12, 0.0, 0.0),\n",
       " ('2012-10-26 Hour 01', 8, 4.0, 0.0),\n",
       " ('2012-10-26 Hour 01', 8, 4.0, 0.0),\n",
       " ('2012-10-26 Hour 02', 12, 0.0, 0.0),\n",
       " ('2012-10-26 Hour 02', 12, 0.0, 0.0),\n",
       " ('2012-10-26 Hour 03', 10, 0.0, 0.0),\n",
       " ('2012-10-26 Hour 03', 10, 0.0, 0.0),\n",
       " ('2012-10-26 Hour 04', 6, 3.0, 0.0),\n",
       " ('2012-10-26 Hour 04', 6, 3.0, 0.0),\n",
       " ('2012-10-26 Hour 05', 4, 0.0, 0.0),\n",
       " ('2012-10-26 Hour 05', 4, 0.0, 0.0),\n",
       " ('2012-10-26 Hour 07', 12, 0.0, 0.0),\n",
       " ('2012-10-26 Hour 07', 12, 0.0, 0.0),\n",
       " ('2012-10-26 Hour 08', 14, 3.0, 0.0),\n",
       " ('2012-10-26 Hour 08', 14, 3.0, 0.0),\n",
       " ('2012-10-26 Hour 09', 14, 3.0, 0.0),\n",
       " ('2012-10-26 Hour 09', 14, 3.0, 0.0),\n",
       " ('2012-10-26 Hour 10', 16, 3.0, 0.0),\n",
       " ('2012-10-26 Hour 10', 16, 3.0, 0.0),\n",
       " ('2012-10-26 Hour 11', 20, 3.0, 0.0),\n",
       " ('2012-10-26 Hour 11', 20, 3.0, 0.0),\n",
       " ('2012-10-26 Hour 12', 14, 3.0, 0.0),\n",
       " ('2012-10-26 Hour 12', 14, 3.0, 0.0),\n",
       " ('2012-10-26 Hour 13', 18, 0.0, 0.0),\n",
       " ('2012-10-26 Hour 13', 18, 0.0, 0.0),\n",
       " ('2012-10-26 Hour 14', 20, 3.0, 0.0),\n",
       " ('2012-10-26 Hour 14', 20, 3.0, 0.0),\n",
       " ('2012-10-26 Hour 15', 22, 3.0, 0.0),\n",
       " ('2012-10-26 Hour 15', 22, 3.0, 0.0),\n",
       " ('2012-10-26 Hour 16', 12, 0.0, 0.0),\n",
       " ('2012-10-26 Hour 16', 12, 0.0, 0.0),\n",
       " ('2012-10-26 Hour 17', 14, 0.0, 0.0),\n",
       " ('2012-10-26 Hour 17', 14, 0.0, 0.0),\n",
       " ('2012-10-26 Hour 18', 18, 0.0, 0.0),\n",
       " ('2012-10-26 Hour 18', 18, 0.0, 0.0),\n",
       " ('2012-10-26 Hour 19', 32, 0.0, 0.0),\n",
       " ('2012-10-26 Hour 19', 32, 0.0, 0.0),\n",
       " ('2012-10-26 Hour 20', 30, 0.0, 0.0),\n",
       " ('2012-10-26 Hour 20', 30, 0.0, 0.0),\n",
       " ('2012-10-26 Hour 21', 18, 3.0, 0.0),\n",
       " ('2012-10-26 Hour 21', 18, 3.0, 0.0),\n",
       " ('2012-10-26 Hour 22', 34, 3.0, 0.0),\n",
       " ('2012-10-26 Hour 22', 34, 3.0, 0.0),\n",
       " ('2012-10-26 Hour 23', 30, 0.0, 0.0),\n",
       " ('2012-10-26 Hour 23', 30, 0.0, 0.0),\n",
       " ('2012-10-27 Hour 00', 14, 0.0, 0.0),\n",
       " ('2012-10-27 Hour 00', 14, 0.0, 0.0),\n",
       " ('2012-10-27 Hour 01', 30, 3.0, 0.0),\n",
       " ('2012-10-27 Hour 01', 30, 3.0, 0.0),\n",
       " ('2012-10-27 Hour 02', 18, 0.0, 0.0),\n",
       " ('2012-10-27 Hour 02', 18, 0.0, 0.0),\n",
       " ('2012-10-27 Hour 03', 16, 3.0, 0.0),\n",
       " ('2012-10-27 Hour 03', 16, 3.0, 0.0),\n",
       " ('2012-10-27 Hour 04', 8, 0.0, 0.0),\n",
       " ('2012-10-27 Hour 04', 8, 0.0, 0.0),\n",
       " ('2012-10-27 Hour 05', 4, 6.0, 0.0),\n",
       " ('2012-10-27 Hour 05', 4, 6.0, 0.0),\n",
       " ('2012-10-27 Hour 06', 2, 6.0, 0.0),\n",
       " ('2012-10-27 Hour 06', 2, 6.0, 0.0),\n",
       " ('2012-10-27 Hour 07', 10, 5.5, 0.0),\n",
       " ('2012-10-27 Hour 07', 10, 5.5, 0.0),\n",
       " ('2012-10-27 Hour 09', 8, 8.0, 0.0),\n",
       " ('2012-10-27 Hour 09', 8, 8.0, 0.0),\n",
       " ('2012-10-27 Hour 10', 12, 6.0, 0.0),\n",
       " ('2012-10-27 Hour 10', 12, 6.0, 0.0),\n",
       " ('2012-10-27 Hour 11', 8, 6.5, 0.0),\n",
       " ('2012-10-27 Hour 11', 8, 6.5, 0.0),\n",
       " ('2012-10-27 Hour 12', 22, 6.5, 0.0),\n",
       " ('2012-10-27 Hour 12', 22, 6.5, 0.0),\n",
       " ('2012-10-27 Hour 13', 20, 8.0, 0.0),\n",
       " ('2012-10-27 Hour 13', 20, 8.0, 0.0),\n",
       " ('2012-10-27 Hour 14', 8, 8.0, 0.0),\n",
       " ('2012-10-27 Hour 14', 8, 8.0, 0.0),\n",
       " ('2012-10-27 Hour 15', 14, 10.0, 0.0),\n",
       " ('2012-10-27 Hour 15', 14, 10.0, 0.0),\n",
       " ('2012-10-27 Hour 16', 14, 10.0, 0.0),\n",
       " ('2012-10-27 Hour 16', 14, 10.0, 0.0),\n",
       " ('2012-10-27 Hour 17', 20, 7.0, 0.0),\n",
       " ('2012-10-27 Hour 17', 20, 7.0, 0.0),\n",
       " ('2012-10-27 Hour 18', 38, 7.0, 0.0),\n",
       " ('2012-10-27 Hour 18', 38, 7.0, 0.0),\n",
       " ('2012-10-27 Hour 19', 20, 7.333333333333333, 0.0),\n",
       " ('2012-10-27 Hour 19', 20, 7.333333333333333, 0.0),\n",
       " ('2012-10-27 Hour 20', 24, 9.0, 0.0),\n",
       " ('2012-10-27 Hour 20', 24, 9.0, 0.0),\n",
       " ('2012-10-27 Hour 21', 36, 7.0, 0.0),\n",
       " ('2012-10-27 Hour 21', 36, 7.0, 0.0),\n",
       " ('2012-10-27 Hour 22', 20, 9.0, 0.0),\n",
       " ('2012-10-27 Hour 22', 20, 9.0, 0.0),\n",
       " ('2012-10-27 Hour 23', 36, 9.0, 0.0),\n",
       " ('2012-10-27 Hour 23', 36, 9.0, 0.0),\n",
       " ('2012-10-28 Hour 00', 32, 8.0, 0.0),\n",
       " ('2012-10-28 Hour 00', 32, 8.0, 0.0),\n",
       " ('2012-10-28 Hour 01', 26, 11.0, 0.0),\n",
       " ('2012-10-28 Hour 01', 26, 11.0, 0.0),\n",
       " ('2012-10-28 Hour 02', 26, 8.0, 0.0),\n",
       " ('2012-10-28 Hour 02', 26, 8.0, 0.0),\n",
       " ('2012-10-28 Hour 03', 20, 8.0, 0.0),\n",
       " ('2012-10-28 Hour 03', 20, 8.0, 0.0),\n",
       " ('2012-10-28 Hour 04', 20, 9.0, 0.0),\n",
       " ('2012-10-28 Hour 04', 20, 9.0, 0.0),\n",
       " ('2012-10-28 Hour 05', 8, 10.0, 0.0),\n",
       " ('2012-10-28 Hour 05', 8, 10.0, 0.0),\n",
       " ('2012-10-28 Hour 06', 6, 10.5, 0.0),\n",
       " ('2012-10-28 Hour 06', 6, 10.5, 0.0),\n",
       " ('2012-10-28 Hour 07', 4, 10.0, 0.0),\n",
       " ('2012-10-28 Hour 07', 4, 10.0, 0.0),\n",
       " ('2012-10-28 Hour 08', 6, 11.0, 0.0),\n",
       " ('2012-10-28 Hour 08', 6, 11.0, 0.0),\n",
       " ('2012-10-28 Hour 09', 8, 11.0, 0.0),\n",
       " ('2012-10-28 Hour 09', 8, 11.0, 0.0),\n",
       " ('2012-10-28 Hour 10', 18, 11.0, 0.0),\n",
       " ('2012-10-28 Hour 10', 18, 11.0, 0.0),\n",
       " ('2012-10-28 Hour 11', 24, 10.0, 0.0),\n",
       " ('2012-10-28 Hour 11', 24, 10.0, 0.0),\n",
       " ('2012-10-28 Hour 12', 22, 8.0, 0.0),\n",
       " ('2012-10-28 Hour 12', 22, 8.0, 0.0),\n",
       " ('2012-10-28 Hour 13', 20, 7.0, 0.0),\n",
       " ('2012-10-28 Hour 13', 20, 7.0, 0.0),\n",
       " ('2012-10-28 Hour 14', 14, 13.0, 0.0),\n",
       " ('2012-10-28 Hour 14', 14, 13.0, 0.0),\n",
       " ('2012-10-28 Hour 15', 24, 13.0, 0.0),\n",
       " ('2012-10-28 Hour 15', 24, 13.0, 0.0),\n",
       " ('2012-10-28 Hour 16', 16, 13.0, 0.0),\n",
       " ('2012-10-28 Hour 16', 16, 13.0, 0.0),\n",
       " ('2012-10-28 Hour 17', 24, 16.0, 0.0),\n",
       " ('2012-10-28 Hour 17', 24, 16.0, 0.0),\n",
       " ('2012-10-28 Hour 18', 14, 11.0, 0.0),\n",
       " ('2012-10-28 Hour 18', 14, 11.0, 0.0),\n",
       " ('2012-10-28 Hour 19', 16, 15.0, 0.0),\n",
       " ('2012-10-28 Hour 19', 16, 15.0, 0.0),\n",
       " ('2012-10-28 Hour 20', 10, 14.0, 0.0),\n",
       " ('2012-10-28 Hour 20', 10, 14.0, 0.0),\n",
       " ('2012-10-28 Hour 21', 8, 16.0, 0.0),\n",
       " ('2012-10-28 Hour 21', 8, 16.0, 0.0),\n",
       " ('2012-10-28 Hour 22', 14, 14.0, 0.0),\n",
       " ('2012-10-28 Hour 22', 14, 14.0, 0.0),\n",
       " ('2012-10-28 Hour 23', 10, 16.0, 0.0),\n",
       " ('2012-10-28 Hour 23', 10, 16.0, 0.0),\n",
       " ('2012-10-29 Hour 00', 2, 14.0, 0.0),\n",
       " ('2012-10-29 Hour 00', 2, 14.0, 0.0),\n",
       " ('2012-10-29 Hour 01', 2, 16.0, 0.0),\n",
       " ('2012-10-29 Hour 01', 2, 16.0, 0.0),\n",
       " ('2012-10-29 Hour 02', 2, 11.0, 0.0),\n",
       " ('2012-10-29 Hour 02', 2, 11.0, 0.0),\n",
       " ('2012-10-29 Hour 03', 2, 13.0, 0.0),\n",
       " ('2012-10-29 Hour 03', 2, 13.0, 0.0),\n",
       " ('2012-10-29 Hour 05', 2, 15.0, 0.0),\n",
       " ('2012-10-29 Hour 05', 2, 15.0, 0.0),\n",
       " ('2012-10-29 Hour 07', 4, 16.0, 0.02),\n",
       " ('2012-10-29 Hour 07', 4, 16.0, 0.02),\n",
       " ('2012-10-29 Hour 08', 8, 17.0, 0.02),\n",
       " ('2012-10-29 Hour 08', 8, 17.0, 0.02),\n",
       " ('2012-10-29 Hour 09', 10, 21.0, None),\n",
       " ('2012-10-29 Hour 09', 10, 21.0, None),\n",
       " ('2012-10-29 Hour 10', 2, 16.0, 0.0),\n",
       " ('2012-10-29 Hour 10', 2, 16.0, 0.0),\n",
       " ('2012-10-29 Hour 11', 6, 18.0, 0.015),\n",
       " ('2012-10-29 Hour 11', 6, 18.0, 0.015),\n",
       " ('2012-10-29 Hour 12', 14, 17.6, 0.035),\n",
       " ('2012-10-29 Hour 12', 14, 17.6, 0.035),\n",
       " ('2012-10-29 Hour 13', 4, 21.0, 0.055),\n",
       " ('2012-10-29 Hour 13', 4, 21.0, 0.055),\n",
       " ('2012-10-29 Hour 14', 6, 26.666666666666668, 0.03),\n",
       " ('2012-10-29 Hour 14', 6, 26.666666666666668, 0.03),\n",
       " ('2012-10-29 Hour 15', 4, 26.75, 0.03333333333333333),\n",
       " ('2012-10-29 Hour 15', 4, 26.75, 0.03333333333333333),\n",
       " ('2012-10-29 Hour 16', 4, 25.0, 0.09),\n",
       " ('2012-10-29 Hour 16', 4, 25.0, 0.09),\n",
       " ('2012-10-29 Hour 17', 4, 24.2, 0.078),\n",
       " ('2012-10-29 Hour 17', 4, 24.2, 0.078),\n",
       " ('2012-10-29 Hour 18', 6, 21.333333333333332, 0.049999999999999996),\n",
       " ('2012-10-29 Hour 18', 6, 21.333333333333332, 0.049999999999999996),\n",
       " ('2012-10-29 Hour 21', 4, 17.0, None),\n",
       " ('2012-10-29 Hour 21', 4, 17.0, None),\n",
       " ('2012-10-29 Hour 22', 2, 15.0, 0.0),\n",
       " ('2012-10-29 Hour 22', 2, 15.0, 0.0),\n",
       " ('2012-10-30 Hour 00', 2, 11.666666666666666, 0.075),\n",
       " ('2012-10-30 Hour 00', 2, 11.666666666666666, 0.075),\n",
       " ('2012-10-30 Hour 04', 2, 17.0, 0.04),\n",
       " ('2012-10-30 Hour 04', 2, 17.0, 0.04),\n",
       " ('2012-10-30 Hour 07', 2, 7.0, 0.01),\n",
       " ('2012-10-30 Hour 07', 2, 7.0, 0.01),\n",
       " ('2012-10-30 Hour 08', 2, 8.5, 0.030000000000000002),\n",
       " ('2012-10-30 Hour 08', 2, 8.5, 0.030000000000000002),\n",
       " ('2012-10-30 Hour 09', 4, None, 0.05),\n",
       " ('2012-10-30 Hour 09', 4, None, 0.05),\n",
       " ('2012-10-30 Hour 10', 6, 10.8, 0.039999999999999994),\n",
       " ('2012-10-30 Hour 10', 6, 10.8, 0.039999999999999994),\n",
       " ('2012-10-30 Hour 11', 18, 6.0, 0.02),\n",
       " ('2012-10-30 Hour 11', 18, 6.0, 0.02),\n",
       " ('2012-10-30 Hour 12', 8, 7.0, 0.0),\n",
       " ('2012-10-30 Hour 12', 8, 7.0, 0.0),\n",
       " ('2012-10-30 Hour 13', 10, 7.666666666666667, 0.0),\n",
       " ('2012-10-30 Hour 13', 10, 7.666666666666667, 0.0),\n",
       " ('2012-10-30 Hour 14', 6, 5.5, 0.0),\n",
       " ('2012-10-30 Hour 14', 6, 5.5, 0.0),\n",
       " ('2012-10-30 Hour 15', 12, None, None),\n",
       " ('2012-10-30 Hour 15', 12, None, None),\n",
       " ('2012-10-30 Hour 16', 6, 3.0, 0.01),\n",
       " ('2012-10-30 Hour 16', 6, 3.0, 0.01),\n",
       " ('2012-10-30 Hour 17', 8, 5.666666666666667, 0.01),\n",
       " ('2012-10-30 Hour 17', 8, 5.666666666666667, 0.01),\n",
       " ('2012-10-30 Hour 18', 12, 5.0, 0.0),\n",
       " ('2012-10-30 Hour 18', 12, 5.0, 0.0),\n",
       " ('2012-10-30 Hour 19', 18, 5.0, 0.0),\n",
       " ('2012-10-30 Hour 19', 18, 5.0, 0.0),\n",
       " ('2012-10-30 Hour 20', 8, 1.5, 0.0),\n",
       " ('2012-10-30 Hour 20', 8, 1.5, 0.0),\n",
       " ('2012-10-30 Hour 21', 6, 7.0, 0.0),\n",
       " ('2012-10-30 Hour 21', 6, 7.0, 0.0),\n",
       " ('2012-10-30 Hour 22', 10, 5.0, 0.0),\n",
       " ('2012-10-30 Hour 22', 10, 5.0, 0.0),\n",
       " ('2012-10-30 Hour 23', 10, 6.0, 0.0),\n",
       " ('2012-10-30 Hour 23', 10, 6.0, 0.0),\n",
       " ('2012-10-31 Hour 00', 4, 9.0, 0.0),\n",
       " ('2012-10-31 Hour 00', 4, 9.0, 0.0),\n",
       " ('2012-10-31 Hour 02', 4, 5.0, 0.01),\n",
       " ('2012-10-31 Hour 02', 4, 5.0, 0.01),\n",
       " ('2012-10-31 Hour 03', 4, 0.0, None),\n",
       " ('2012-10-31 Hour 03', 4, 0.0, None),\n",
       " ('2012-10-31 Hour 06', 8, 0.0, 0.0),\n",
       " ('2012-10-31 Hour 06', 8, 0.0, 0.0),\n",
       " ('2012-10-31 Hour 07', 14, 6.0, 0.0),\n",
       " ('2012-10-31 Hour 07', 14, 6.0, 0.0),\n",
       " ('2012-10-31 Hour 08', 2, 7.0, 0.0),\n",
       " ('2012-10-31 Hour 08', 2, 7.0, 0.0),\n",
       " ('2012-10-31 Hour 09', 8, 8.5, 0.0),\n",
       " ('2012-10-31 Hour 09', 8, 8.5, 0.0),\n",
       " ('2012-10-31 Hour 10', 10, 7.0, 0.0),\n",
       " ('2012-10-31 Hour 10', 10, 7.0, 0.0),\n",
       " ('2012-10-31 Hour 11', 18, 4.0, 0.0),\n",
       " ('2012-10-31 Hour 11', 18, 4.0, 0.0),\n",
       " ('2012-10-31 Hour 12', 14, 7.0, 0.0),\n",
       " ('2012-10-31 Hour 12', 14, 7.0, 0.0),\n",
       " ('2012-10-31 Hour 13', 6, 3.0, 0.0),\n",
       " ('2012-10-31 Hour 13', 6, 3.0, 0.0),\n",
       " ('2012-10-31 Hour 14', 16, 6.0, 0.0),\n",
       " ('2012-10-31 Hour 14', 16, 6.0, 0.0),\n",
       " ('2012-10-31 Hour 15', 16, 5.0, 0.0),\n",
       " ('2012-10-31 Hour 15', 16, 5.0, 0.0),\n",
       " ('2012-10-31 Hour 16', 10, 3.0, 0.0),\n",
       " ('2012-10-31 Hour 16', 10, 3.0, 0.0),\n",
       " ('2012-10-31 Hour 17', 20, 5.0, 0.0),\n",
       " ('2012-10-31 Hour 17', 20, 5.0, 0.0),\n",
       " ('2012-10-31 Hour 18', 12, 5.0, 0.0),\n",
       " ('2012-10-31 Hour 18', 12, 5.0, 0.0),\n",
       " ('2012-10-31 Hour 19', 12, 3.0, 0.0),\n",
       " ('2012-10-31 Hour 19', 12, 3.0, 0.0),\n",
       " ('2012-10-31 Hour 20', 12, 9.0, 0.0),\n",
       " ('2012-10-31 Hour 20', 12, 9.0, 0.0),\n",
       " ('2012-10-31 Hour 21', 12, 7.0, 0.0),\n",
       " ('2012-10-31 Hour 21', 12, 7.0, 0.0),\n",
       " ('2012-10-31 Hour 22', 16, 7.0, 0.0),\n",
       " ('2012-10-31 Hour 22', 16, 7.0, 0.0),\n",
       " ('2012-10-31 Hour 23', 6, 6.0, 0.0),\n",
       " ('2012-10-31 Hour 23', 6, 6.0, 0.0),\n",
       " ('2012-11-01 Hour 00', 2, 3.0, 0.0),\n",
       " ('2012-11-01 Hour 00', 2, 3.0, 0.0),\n",
       " ('2012-11-01 Hour 01', 8, 3.0, 0.0),\n",
       " ('2012-11-01 Hour 01', 8, 3.0, 0.0),\n",
       " ('2012-11-01 Hour 02', 2, 3.0, 0.0),\n",
       " ('2012-11-01 Hour 02', 2, 3.0, 0.0),\n",
       " ('2012-11-01 Hour 03', 4, 3.0, 0.0),\n",
       " ('2012-11-01 Hour 03', 4, 3.0, 0.0),\n",
       " ('2012-11-01 Hour 05', 6, 7.0, 0.0),\n",
       " ('2012-11-01 Hour 05', 6, 7.0, 0.0),\n",
       " ('2012-11-01 Hour 07', 6, 13.0, 0.0),\n",
       " ('2012-11-01 Hour 07', 6, 13.0, 0.0),\n",
       " ('2012-11-01 Hour 08', 4, None, 0.0),\n",
       " ('2012-11-01 Hour 08', 4, None, 0.0),\n",
       " ('2012-11-01 Hour 09', 10, 7.0, 0.0),\n",
       " ('2012-11-01 Hour 09', 10, 7.0, 0.0),\n",
       " ('2012-11-01 Hour 10', 12, 3.0, 0.0),\n",
       " ('2012-11-01 Hour 10', 12, 3.0, 0.0),\n",
       " ('2012-11-01 Hour 11', 12, 6.0, 0.0),\n",
       " ('2012-11-01 Hour 11', 12, 6.0, 0.0),\n",
       " ('2012-11-01 Hour 12', 26, 6.0, 0.0),\n",
       " ('2012-11-01 Hour 12', 26, 6.0, 0.0),\n",
       " ('2012-11-01 Hour 13', 14, 11.0, 0.0),\n",
       " ('2012-11-01 Hour 13', 14, 11.0, 0.0),\n",
       " ('2012-11-01 Hour 14', 12, 8.0, 0.0),\n",
       " ('2012-11-01 Hour 14', 12, 8.0, 0.0),\n",
       " ('2012-11-01 Hour 15', 8, 8.0, 0.0),\n",
       " ('2012-11-01 Hour 15', 8, 8.0, 0.0),\n",
       " ('2012-11-01 Hour 16', 8, None, 0.0),\n",
       " ('2012-11-01 Hour 16', 8, None, 0.0),\n",
       " ('2012-11-01 Hour 17', 14, 5.0, 0.0),\n",
       " ('2012-11-01 Hour 17', 14, 5.0, 0.0),\n",
       " ('2012-11-01 Hour 18', 10, 5.0, 0.0),\n",
       " ('2012-11-01 Hour 18', 10, 5.0, 0.0),\n",
       " ('2012-11-01 Hour 19', 24, 9.0, 0.0),\n",
       " ('2012-11-01 Hour 19', 24, 9.0, 0.0),\n",
       " ('2012-11-01 Hour 20', 10, 3.0, 0.0),\n",
       " ('2012-11-01 Hour 20', 10, 3.0, 0.0),\n",
       " ('2012-11-01 Hour 21', 16, 5.0, 0.0),\n",
       " ('2012-11-01 Hour 21', 16, 5.0, 0.0),\n",
       " ('2012-11-01 Hour 22', 4, 8.0, 0.0),\n",
       " ('2012-11-01 Hour 22', 4, 8.0, 0.0),\n",
       " ('2012-11-01 Hour 23', 14, 5.0, 0.0),\n",
       " ('2012-11-01 Hour 23', 14, 5.0, 0.0),\n",
       " ('2012-11-02 Hour 00', 14, 0.0, 0.0),\n",
       " ('2012-11-02 Hour 00', 14, 0.0, 0.0),\n",
       " ('2012-11-02 Hour 01', 8, 5.0, 0.0),\n",
       " ('2012-11-02 Hour 01', 8, 5.0, 0.0),\n",
       " ('2012-11-02 Hour 02', 2, 7.0, 0.0),\n",
       " ('2012-11-02 Hour 02', 2, 7.0, 0.0),\n",
       " ('2012-11-02 Hour 03', 4, 3.0, 0.0),\n",
       " ('2012-11-02 Hour 03', 4, 3.0, 0.0),\n",
       " ('2012-11-02 Hour 04', 2, 3.0, 0.0),\n",
       " ('2012-11-02 Hour 04', 2, 3.0, 0.0),\n",
       " ('2012-11-02 Hour 05', 6, 5.0, 0.0),\n",
       " ('2012-11-02 Hour 05', 6, 5.0, 0.0),\n",
       " ('2012-11-02 Hour 06', 4, 5.0, 0.0),\n",
       " ('2012-11-02 Hour 06', 4, 5.0, 0.0),\n",
       " ('2012-11-02 Hour 07', 2, 6.0, 0.0),\n",
       " ('2012-11-02 Hour 07', 2, 6.0, 0.0),\n",
       " ('2012-11-02 Hour 08', 18, None, 0.0),\n",
       " ('2012-11-02 Hour 08', 18, None, 0.0),\n",
       " ('2012-11-02 Hour 09', 10, 5.0, 0.0),\n",
       " ('2012-11-02 Hour 09', 10, 5.0, 0.0),\n",
       " ('2012-11-02 Hour 10', 4, 7.0, 0.0),\n",
       " ('2012-11-02 Hour 10', 4, 7.0, 0.0),\n",
       " ('2012-11-02 Hour 11', 8, 9.0, 0.0),\n",
       " ('2012-11-02 Hour 11', 8, 9.0, 0.0),\n",
       " ('2012-11-02 Hour 12', 14, 7.0, 0.0),\n",
       " ('2012-11-02 Hour 12', 14, 7.0, 0.0),\n",
       " ('2012-11-02 Hour 13', 10, 7.0, 0.0),\n",
       " ('2012-11-02 Hour 13', 10, 7.0, 0.0),\n",
       " ('2012-11-02 Hour 14', 14, 6.0, 0.0),\n",
       " ('2012-11-02 Hour 14', 14, 6.0, 0.0),\n",
       " ('2012-11-02 Hour 15', 14, 6.0, 0.0),\n",
       " ('2012-11-02 Hour 15', 14, 6.0, 0.0),\n",
       " ('2012-11-02 Hour 16', 10, 5.0, 0.0),\n",
       " ('2012-11-02 Hour 16', 10, 5.0, 0.0),\n",
       " ('2012-11-02 Hour 17', 16, 11.0, 0.0),\n",
       " ('2012-11-02 Hour 17', 16, 11.0, 0.0),\n",
       " ('2012-11-02 Hour 18', 8, 8.0, 0.0),\n",
       " ('2012-11-02 Hour 18', 8, 8.0, 0.0),\n",
       " ('2012-11-02 Hour 19', 18, 9.0, 0.0),\n",
       " ('2012-11-02 Hour 19', 18, 9.0, 0.0),\n",
       " ('2012-11-02 Hour 20', 16, 7.0, 0.0),\n",
       " ('2012-11-02 Hour 20', 16, 7.0, 0.0),\n",
       " ('2012-11-02 Hour 21', 18, 9.0, 0.0),\n",
       " ('2012-11-02 Hour 21', 18, 9.0, 0.0),\n",
       " ('2012-11-02 Hour 22', 18, 7.0, 0.0),\n",
       " ('2012-11-02 Hour 22', 18, 7.0, 0.0),\n",
       " ('2012-11-02 Hour 23', 14, 8.0, 0.0),\n",
       " ('2012-11-02 Hour 23', 14, 8.0, 0.0)]"
      ]
     },
     "execution_count": 122,
     "metadata": {},
     "output_type": "execute_result"
    }
   ],
   "source": [
    "engine.execute(queryonly).fetchall()"
   ]
  },
  {
   "cell_type": "code",
   "execution_count": 123,
   "id": "e2f7b56f",
   "metadata": {},
   "outputs": [],
   "source": [
    "f = open(\"sql/query6.sql\", \"w\")\n",
    "f.write(query5)\n",
    "f.close()"
   ]
  },
  {
   "cell_type": "code",
   "execution_count": null,
   "id": "09cd1aa0",
   "metadata": {},
   "outputs": [],
   "source": []
  }
 ],
 "metadata": {
  "kernelspec": {
   "display_name": "Python 3 (ipykernel)",
   "language": "python",
   "name": "python3"
  },
  "language_info": {
   "codemirror_mode": {
    "name": "ipython",
    "version": 3
   },
   "file_extension": ".py",
   "mimetype": "text/x-python",
   "name": "python",
   "nbconvert_exporter": "python",
   "pygments_lexer": "ipython3",
   "version": "3.9.7"
  }
 },
 "nbformat": 4,
 "nbformat_minor": 5
}
