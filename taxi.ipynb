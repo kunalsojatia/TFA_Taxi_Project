{
 "cells": [
  {
   "cell_type": "markdown",
   "id": "75ee76fc",
   "metadata": {},
   "source": [
    "# Group 13 - TFA Final Project"
   ]
  },
  {
   "cell_type": "code",
   "execution_count": null,
   "id": "0e4c51bc",
   "metadata": {},
   "outputs": [],
   "source": []
  },
  {
   "cell_type": "markdown",
   "id": "e1f5690c",
   "metadata": {},
   "source": [
    "### This project explores to analyze data for Uber and Yellow Taxi rides along with weather data to produce meaningful insights and visualisations"
   ]
  },
  {
   "cell_type": "markdown",
   "id": "11b06cd2",
   "metadata": {},
   "source": [
    "#### Importing all dependencies required for the project as follows "
   ]
  },
  {
   "cell_type": "code",
   "execution_count": 337,
   "id": "3b3e5a85",
   "metadata": {},
   "outputs": [],
   "source": [
    "import pandas as pd\n",
    "import requests\n",
    "import re\n",
    "from tqdm import tqdm\n",
    "import time\n",
    "import os\n",
    "import glob\n",
    "import math\n",
    "from keplergl import KeplerGl\n",
    "import matplotlib.pyplot as plt\n",
    "import seaborn as sns\n",
    "import numpy as np\n",
    "from bs4 import BeautifulSoup\n",
    "from sqlalchemy import create_engine\n",
    "import logging\n",
    "import pytest"
   ]
  },
  {
   "cell_type": "code",
   "execution_count": 338,
   "id": "91281b8d",
   "metadata": {},
   "outputs": [],
   "source": [
    "#Constants\n",
    "\n",
    "URL = \"https://www1.nyc.gov/site/tlc/about/tlc-trip-record-data.page\"\n",
    "pattern = r\"(?P<prefix>.*)(?P<tripdata>tripdata_)(?P<year>[0-9]{4})-(?P<month>[0-9]{2})(?P<rest>.*)\"\n",
    "\n",
    "newark_box=[-74.205780,40.661560,-74.146042,40.711833]\n",
    "laguardia_box=[-73.901854,40.754908,-73.847694,40.789443]\n",
    "jfk_box=[-73.839455,40.618057,-73.736458,40.679565]"
   ]
  },
  {
   "cell_type": "markdown",
   "id": "fc2a42c1",
   "metadata": {},
   "source": [
    "#### This line below generates a requirement.txt file with all the dependencies of the project"
   ]
  },
  {
   "cell_type": "code",
   "execution_count": 321,
   "id": "3efb1822",
   "metadata": {},
   "outputs": [],
   "source": [
    "!pip3 freeze > requirements.txt"
   ]
  },
  {
   "cell_type": "markdown",
   "id": "7802747b",
   "metadata": {},
   "source": [
    "# Part 1: Data Preprocessing"
   ]
  },
  {
   "cell_type": "markdown",
   "id": "415b3bf3",
   "metadata": {},
   "source": [
    "### Here we are trying to download all of the yellow taxi data from the URL provided. We will be using beautiful soup to scrape all the links for all yellow taxi ride data on the website and we will be further using regular expression to filter only the files which we need for the analysis between 2009 and mid of 2015."
   ]
  },
  {
   "cell_type": "code",
   "execution_count": 152,
   "id": "4094eb6f",
   "metadata": {},
   "outputs": [],
   "source": [
    "r = requests.get(URL)\n",
    "soup = BeautifulSoup(r.content, 'html5lib') "
   ]
  },
  {
   "cell_type": "code",
   "execution_count": 153,
   "id": "c52724c0",
   "metadata": {},
   "outputs": [],
   "source": [
    "soup = BeautifulSoup(r.content)\n",
    "table = soup.find_all('a',title=\"Yellow Taxi Trip Records\")"
   ]
  },
  {
   "cell_type": "code",
   "execution_count": 155,
   "id": "8478b85b",
   "metadata": {},
   "outputs": [],
   "source": [
    "links=[]\n",
    "for row in table:\n",
    "    match = re.search(r'href=[\\'\"]?([^\\'\" >]+)', str(row))\n",
    "    if match:\n",
    "        links.append(str(match.group(1)))"
   ]
  },
  {
   "cell_type": "code",
   "execution_count": 157,
   "id": "b8989fa0",
   "metadata": {},
   "outputs": [],
   "source": [
    "newlinks=[]\n",
    "for eachlink in links:\n",
    "    match=re.search(pattern,eachlink)\n",
    "    year=int(match.group(\"year\"))\n",
    "    month=int(match.group(\"month\"))\n",
    "    \n",
    "    if (year>=2009) and (year<2015):\n",
    "        newlinks.append(eachlink)\n",
    "    elif (year==2015) and (month<=6):\n",
    "        newlinks.append(eachlink)"
   ]
  },
  {
   "cell_type": "markdown",
   "id": "abc8e475",
   "metadata": {},
   "source": [
    "### These are the links we have successfully extracted after removing all the relevant details from each of the HTML table data elements. "
   ]
  },
  {
   "cell_type": "code",
   "execution_count": 159,
   "id": "8522ef2b",
   "metadata": {
    "scrolled": true
   },
   "outputs": [
    {
     "data": {
      "text/plain": [
       "['https://s3.amazonaws.com/nyc-tlc/trip+data/yellow_tripdata_2015-01.csv',\n",
       " 'https://s3.amazonaws.com/nyc-tlc/trip+data/yellow_tripdata_2015-02.csv',\n",
       " 'https://s3.amazonaws.com/nyc-tlc/trip+data/yellow_tripdata_2015-03.csv',\n",
       " 'https://s3.amazonaws.com/nyc-tlc/trip+data/yellow_tripdata_2015-04.csv',\n",
       " 'https://s3.amazonaws.com/nyc-tlc/trip+data/yellow_tripdata_2015-05.csv',\n",
       " 'https://s3.amazonaws.com/nyc-tlc/trip+data/yellow_tripdata_2015-06.csv',\n",
       " 'https://s3.amazonaws.com/nyc-tlc/trip+data/yellow_tripdata_2014-01.csv',\n",
       " 'https://s3.amazonaws.com/nyc-tlc/trip+data/yellow_tripdata_2014-02.csv',\n",
       " 'https://s3.amazonaws.com/nyc-tlc/trip+data/yellow_tripdata_2014-03.csv',\n",
       " 'https://s3.amazonaws.com/nyc-tlc/trip+data/yellow_tripdata_2014-04.csv',\n",
       " 'https://s3.amazonaws.com/nyc-tlc/trip+data/yellow_tripdata_2014-05.csv',\n",
       " 'https://s3.amazonaws.com/nyc-tlc/trip+data/yellow_tripdata_2014-06.csv',\n",
       " 'https://s3.amazonaws.com/nyc-tlc/trip+data/yellow_tripdata_2014-07.csv',\n",
       " 'https://s3.amazonaws.com/nyc-tlc/trip+data/yellow_tripdata_2014-08.csv',\n",
       " 'https://s3.amazonaws.com/nyc-tlc/trip+data/yellow_tripdata_2014-09.csv',\n",
       " 'https://s3.amazonaws.com/nyc-tlc/trip+data/yellow_tripdata_2014-10.csv',\n",
       " 'https://s3.amazonaws.com/nyc-tlc/trip+data/yellow_tripdata_2014-11.csv',\n",
       " 'https://s3.amazonaws.com/nyc-tlc/trip+data/yellow_tripdata_2014-12.csv',\n",
       " 'https://s3.amazonaws.com/nyc-tlc/trip+data/yellow_tripdata_2013-01.csv',\n",
       " 'https://s3.amazonaws.com/nyc-tlc/trip+data/yellow_tripdata_2013-02.csv',\n",
       " 'https://s3.amazonaws.com/nyc-tlc/trip+data/yellow_tripdata_2013-03.csv',\n",
       " 'https://s3.amazonaws.com/nyc-tlc/trip+data/yellow_tripdata_2013-04.csv',\n",
       " 'https://s3.amazonaws.com/nyc-tlc/trip+data/yellow_tripdata_2013-05.csv',\n",
       " 'https://s3.amazonaws.com/nyc-tlc/trip+data/yellow_tripdata_2013-06.csv',\n",
       " 'https://s3.amazonaws.com/nyc-tlc/trip+data/yellow_tripdata_2013-07.csv',\n",
       " 'https://s3.amazonaws.com/nyc-tlc/trip+data/yellow_tripdata_2013-08.csv',\n",
       " 'https://s3.amazonaws.com/nyc-tlc/trip+data/yellow_tripdata_2013-09.csv',\n",
       " 'https://s3.amazonaws.com/nyc-tlc/trip+data/yellow_tripdata_2013-10.csv',\n",
       " 'https://s3.amazonaws.com/nyc-tlc/trip+data/yellow_tripdata_2013-11.csv',\n",
       " 'https://s3.amazonaws.com/nyc-tlc/trip+data/yellow_tripdata_2013-12.csv',\n",
       " 'https://s3.amazonaws.com/nyc-tlc/trip+data/yellow_tripdata_2012-01.csv',\n",
       " 'https://s3.amazonaws.com/nyc-tlc/trip+data/yellow_tripdata_2012-02.csv',\n",
       " 'https://s3.amazonaws.com/nyc-tlc/trip+data/yellow_tripdata_2012-03.csv',\n",
       " 'https://s3.amazonaws.com/nyc-tlc/trip+data/yellow_tripdata_2012-04.csv',\n",
       " 'https://s3.amazonaws.com/nyc-tlc/trip+data/yellow_tripdata_2012-05.csv',\n",
       " 'https://s3.amazonaws.com/nyc-tlc/trip+data/yellow_tripdata_2012-06.csv',\n",
       " 'https://s3.amazonaws.com/nyc-tlc/trip+data/yellow_tripdata_2012-07.csv',\n",
       " 'https://s3.amazonaws.com/nyc-tlc/trip+data/yellow_tripdata_2012-08.csv',\n",
       " 'https://s3.amazonaws.com/nyc-tlc/trip+data/yellow_tripdata_2012-09.csv',\n",
       " 'https://s3.amazonaws.com/nyc-tlc/trip+data/yellow_tripdata_2012-10.csv',\n",
       " 'https://s3.amazonaws.com/nyc-tlc/trip+data/yellow_tripdata_2012-11.csv',\n",
       " 'https://s3.amazonaws.com/nyc-tlc/trip+data/yellow_tripdata_2012-12.csv',\n",
       " 'https://s3.amazonaws.com/nyc-tlc/trip+data/yellow_tripdata_2011-01.csv',\n",
       " 'https://s3.amazonaws.com/nyc-tlc/trip+data/yellow_tripdata_2011-02.csv',\n",
       " 'https://s3.amazonaws.com/nyc-tlc/trip+data/yellow_tripdata_2011-03.csv',\n",
       " 'https://s3.amazonaws.com/nyc-tlc/trip+data/yellow_tripdata_2011-04.csv',\n",
       " 'https://s3.amazonaws.com/nyc-tlc/trip+data/yellow_tripdata_2011-05.csv',\n",
       " 'https://s3.amazonaws.com/nyc-tlc/trip+data/yellow_tripdata_2011-06.csv',\n",
       " 'https://s3.amazonaws.com/nyc-tlc/trip+data/yellow_tripdata_2011-07.csv',\n",
       " 'https://s3.amazonaws.com/nyc-tlc/trip+data/yellow_tripdata_2011-08.csv',\n",
       " 'https://s3.amazonaws.com/nyc-tlc/trip+data/yellow_tripdata_2011-09.csv',\n",
       " 'https://s3.amazonaws.com/nyc-tlc/trip+data/yellow_tripdata_2011-10.csv',\n",
       " 'https://s3.amazonaws.com/nyc-tlc/trip+data/yellow_tripdata_2011-11.csv',\n",
       " 'https://s3.amazonaws.com/nyc-tlc/trip+data/yellow_tripdata_2011-12.csv',\n",
       " 'https://s3.amazonaws.com/nyc-tlc/trip+data/yellow_tripdata_2010-01.csv',\n",
       " 'https://s3.amazonaws.com/nyc-tlc/trip+data/yellow_tripdata_2010-02.csv',\n",
       " 'https://s3.amazonaws.com/nyc-tlc/trip+data/yellow_tripdata_2010-03.csv',\n",
       " 'https://s3.amazonaws.com/nyc-tlc/trip+data/yellow_tripdata_2010-04.csv',\n",
       " 'https://s3.amazonaws.com/nyc-tlc/trip+data/yellow_tripdata_2010-05.csv',\n",
       " 'https://s3.amazonaws.com/nyc-tlc/trip+data/yellow_tripdata_2010-06.csv',\n",
       " 'https://s3.amazonaws.com/nyc-tlc/trip+data/yellow_tripdata_2010-07.csv',\n",
       " 'https://s3.amazonaws.com/nyc-tlc/trip+data/yellow_tripdata_2010-08.csv',\n",
       " 'https://s3.amazonaws.com/nyc-tlc/trip+data/yellow_tripdata_2010-09.csv',\n",
       " 'https://s3.amazonaws.com/nyc-tlc/trip+data/yellow_tripdata_2010-10.csv',\n",
       " 'https://s3.amazonaws.com/nyc-tlc/trip+data/yellow_tripdata_2010-11.csv',\n",
       " 'https://s3.amazonaws.com/nyc-tlc/trip+data/yellow_tripdata_2010-12.csv',\n",
       " 'https://s3.amazonaws.com/nyc-tlc/trip+data/yellow_tripdata_2009-01.csv',\n",
       " 'https://s3.amazonaws.com/nyc-tlc/trip+data/yellow_tripdata_2009-02.csv',\n",
       " 'https://s3.amazonaws.com/nyc-tlc/trip+data/yellow_tripdata_2009-03.csv',\n",
       " 'https://s3.amazonaws.com/nyc-tlc/trip+data/yellow_tripdata_2009-04.csv',\n",
       " 'https://s3.amazonaws.com/nyc-tlc/trip+data/yellow_tripdata_2009-05.csv',\n",
       " 'https://s3.amazonaws.com/nyc-tlc/trip+data/yellow_tripdata_2009-06.csv',\n",
       " 'https://s3.amazonaws.com/nyc-tlc/trip+data/yellow_tripdata_2009-07.csv',\n",
       " 'https://s3.amazonaws.com/nyc-tlc/trip+data/yellow_tripdata_2009-08.csv',\n",
       " 'https://s3.amazonaws.com/nyc-tlc/trip+data/yellow_tripdata_2009-09.csv',\n",
       " 'https://s3.amazonaws.com/nyc-tlc/trip+data/yellow_tripdata_2009-10.csv',\n",
       " 'https://s3.amazonaws.com/nyc-tlc/trip+data/yellow_tripdata_2009-11.csv',\n",
       " 'https://s3.amazonaws.com/nyc-tlc/trip+data/yellow_tripdata_2009-12.csv']"
      ]
     },
     "execution_count": 159,
     "metadata": {},
     "output_type": "execute_result"
    }
   ],
   "source": [
    "newlinks"
   ]
  },
  {
   "cell_type": "markdown",
   "id": "4d65dd5c",
   "metadata": {},
   "source": [
    "### This function downloads any file to our local computer with the url link provided to it in the parameter. We have had to change the chunk size for writing the file because the csv files are huge and this is necessary for improving performance."
   ]
  },
  {
   "cell_type": "code",
   "execution_count": 10,
   "id": "70cf2cd0",
   "metadata": {},
   "outputs": [],
   "source": [
    "def download_file(url):\n",
    "    if not(os.path.exists(\"data\")):\n",
    "        os.mkdir(\"data\")\n",
    "    local_filename = url.split('/')[-1]\n",
    "    local_filename=\"data\\\\\"+local_filename\n",
    "    with requests.get(url, stream=True) as r:\n",
    "        r.raise_for_status()\n",
    "        with open(local_filename, 'wb') as f:\n",
    "            for chunk in r.iter_content(chunk_size=8192): \n",
    "                f.write(chunk)\n",
    "    return local_filename"
   ]
  },
  {
   "cell_type": "markdown",
   "id": "8002515c",
   "metadata": {},
   "source": [
    "### !!!!! The following block of code calls the download function for each of the links we had extracted. Please be warned that running this takes a lot of time and it will disturb all of the other code if only run partially as this will overwrite the existing csv files."
   ]
  },
  {
   "cell_type": "code",
   "execution_count": 59,
   "id": "5135164c",
   "metadata": {},
   "outputs": [
    {
     "name": "stderr",
     "output_type": "stream",
     "text": [
      "100%|████████████████████████████████████████████████████████████████████████████████| 78/78 [1:31:52<00:00, 70.67s/it]\n"
     ]
    }
   ],
   "source": [
    "# #DO NOT RUN-----------------------------------------------------------\n",
    "# for i in tqdm(range(len(newlinks))):\n",
    "#     eachlink=newlinks[i]\n",
    "#     download_file(eachlink)"
   ]
  },
  {
   "cell_type": "code",
   "execution_count": 144,
   "id": "7c3f418b",
   "metadata": {},
   "outputs": [],
   "source": [
    "path = \"data\"\n",
    "csv_files = glob.glob(os.path.join(path, \"*.csv\"))"
   ]
  },
  {
   "cell_type": "markdown",
   "id": "546fcb80",
   "metadata": {},
   "source": [
    "### Here we are setting the column names for our yello taxi data dataframe for better organization"
   ]
  },
  {
   "cell_type": "code",
   "execution_count": 145,
   "id": "ef11ea64",
   "metadata": {},
   "outputs": [],
   "source": [
    "subset=pd.read_csv(\"start.csv\",on_bad_lines='skip')\n",
    "df=pd.DataFrame()\n",
    "mapping = {subset.columns[0]: 'vendor_name', \n",
    "           subset.columns[1]: 'Trip_Pickup_DateTime', \n",
    "           subset.columns[2]: 'Trip_Dropoff_DateTime', \n",
    "           subset.columns[3]: 'Passenger_Count',\n",
    "           subset.columns[4]:'Trip_Distance', \n",
    "           subset.columns[5]:'Start_Lon', \n",
    "           subset.columns[6]:'Start_Lat',\n",
    "           subset.columns[7]:'Rate_Code',\n",
    "           subset.columns[8]:'store_and_forward',\n",
    "           subset.columns[9]:'End_Lon',\n",
    "           subset.columns[10]:'End_Lat',\n",
    "           subset.columns[11]:'Payment_Type',\n",
    "           subset.columns[12]:'Fare_Amt',\n",
    "           subset.columns[13]:'surcharge',\n",
    "           subset.columns[14]:'mta_tax',\n",
    "           subset.columns[15]:'Tip_Amt',\n",
    "           subset.columns[16]:'Tolls_Amt',\n",
    "           subset.columns[17]:'Total_Amt'}"
   ]
  },
  {
   "cell_type": "markdown",
   "id": "87488075",
   "metadata": {},
   "source": [
    "### We need to take the yellow taxi data in similar amount of rows compared to the Uber Data which has 200,000 rows. So we sample each of the monthly Yellow Taxi data to take 3000 rows from each so that the subset we have will have similar number of entries"
   ]
  },
  {
   "cell_type": "code",
   "execution_count": 29,
   "id": "d5c826c1",
   "metadata": {},
   "outputs": [
    {
     "name": "stderr",
     "output_type": "stream",
     "text": [
      "100%|██████████████████████████████████████████████████████████████████████████████████| 78/78 [41:19<00:00, 31.79s/it]\n"
     ]
    }
   ],
   "source": [
    "masterdf=pd.DataFrame()\n",
    "for i in tqdm(range(len(csv_files))):\n",
    "    df = df[0:0]   \n",
    "    df = pd.read_csv(csv_files[i],on_bad_lines='skip')\n",
    "    subset=df.sample(n=3000)\n",
    "    if len(subset.columns)>18:\n",
    "        subset=subset.drop(columns=[\"improvement_surcharge\"],errors='ignore')\n",
    "    tempdf=subset\n",
    "    tempdf.columns=mapping\n",
    "    masterdf=masterdf.append(tempdf,ignore_index=True)\n",
    "    subset.to_csv(r\"sample\\subset\" +str(i)+ \".csv\",index=False)"
   ]
  },
  {
   "cell_type": "code",
   "execution_count": 31,
   "id": "3d7e1db3",
   "metadata": {},
   "outputs": [],
   "source": [
    "masterdf.to_csv(\"masterdf.csv\",index=False)"
   ]
  },
  {
   "cell_type": "code",
   "execution_count": 22,
   "id": "991c3179",
   "metadata": {},
   "outputs": [],
   "source": [
    "masterdf.columns=['name', 'vendor_name', 'Trip_Pickup_DateTime',\n",
    "       'Trip_Dropoff_DateTime', 'Passenger_Count', 'Trip_Distance',\n",
    "       'Start_Lon', 'Start_Lat', 'Rate_Code', 'store_and_forward', 'End_Lon',\n",
    "       'End_Lat', 'Payment_Type', 'Fare_Amt', 'surcharge', 'mta_tax',\n",
    "       'Tip_Amt', 'Tolls_Amt']"
   ]
  },
  {
   "cell_type": "code",
   "execution_count": 23,
   "id": "01fc5dac",
   "metadata": {},
   "outputs": [
    {
     "data": {
      "text/plain": [
       "Index(['name', 'vendor_name', 'Trip_Pickup_DateTime', 'Trip_Dropoff_DateTime',\n",
       "       'Passenger_Count', 'Trip_Distance', 'Start_Lon', 'Start_Lat',\n",
       "       'Rate_Code', 'store_and_forward', 'End_Lon', 'End_Lat', 'Payment_Type',\n",
       "       'Fare_Amt', 'surcharge', 'mta_tax', 'Tip_Amt', 'Tolls_Amt'],\n",
       "      dtype='object')"
      ]
     },
     "execution_count": 23,
     "metadata": {},
     "output_type": "execute_result"
    }
   ],
   "source": [
    "masterdf.columns"
   ]
  },
  {
   "cell_type": "markdown",
   "id": "7e375972",
   "metadata": {},
   "source": [
    "### We are writing this sampled yellow taxi data locally as masterdf.csv so that we dont need to open and process and sample all of the large yellow taxi data everytime we run the rest of the code"
   ]
  },
  {
   "cell_type": "markdown",
   "id": "4f77b844",
   "metadata": {},
   "source": [
    "# Distance function"
   ]
  },
  {
   "cell_type": "markdown",
   "id": "e0562ff0",
   "metadata": {},
   "source": [
    "### Calculate distance between pickup and drop location using math module"
   ]
  },
  {
   "cell_type": "code",
   "execution_count": 368,
   "id": "c7e74dd4",
   "metadata": {},
   "outputs": [],
   "source": [
    "def distance(series):\n",
    "    \n",
    "    if series.isnull().all():\n",
    "        return False\n",
    "    \n",
    "    lat1, lon1 = float(series[\"Start_Lat\"]),float(series[\"Start_Lon\"])\n",
    "    lat2, lon2 = float(series[\"End_Lat\"]),float(series[\"End_Lon\"])\n",
    "    radius = 6371  # km\n",
    "\n",
    "    dlat = math.radians(lat2 - lat1)\n",
    "    dlon = math.radians(lon2 - lon1)\n",
    "    a = (math.sin(dlat / 2) * math.sin(dlat / 2) +\n",
    "         math.cos(math.radians(lat1)) * math.cos(math.radians(lat2)) *\n",
    "         math.sin(dlon / 2) * math.sin(dlon / 2))\n",
    "    c = 2 * math.atan2(math.sqrt(a), math.sqrt(1 - a))\n",
    "    d = radius * c\n",
    "\n",
    "    return d"
   ]
  },
  {
   "cell_type": "markdown",
   "id": "45589e90",
   "metadata": {},
   "source": [
    " ### Unit test that tests this distance calculation function. It tests whether the function breaks when it provides an empty series. Ideally it should return False"
   ]
  },
  {
   "cell_type": "code",
   "execution_count": 335,
   "id": "dc2dc987",
   "metadata": {},
   "outputs": [],
   "source": [
    "def test_distance():\n",
    "    \n",
    "    dist=distance([])\n",
    "    assert dist == False"
   ]
  },
  {
   "cell_type": "code",
   "execution_count": 336,
   "id": "8fac598f",
   "metadata": {},
   "outputs": [],
   "source": [
    "test_distance()"
   ]
  },
  {
   "cell_type": "markdown",
   "id": "f50b0f4b",
   "metadata": {},
   "source": [
    "# Outside Area Trip Removal Function "
   ]
  },
  {
   "cell_type": "markdown",
   "id": "0f727be8",
   "metadata": {},
   "source": [
    "### Remove trips that start and/or end outside of the latitude/longitude coordinate box: (40.560445, -74.242330) and (40.908524, -73.717047). "
   ]
  },
  {
   "cell_type": "code",
   "execution_count": 4,
   "id": "edaab556",
   "metadata": {},
   "outputs": [],
   "source": [
    "def outside(dataframe):\n",
    "    dataframe = dataframe[ (dataframe['Start_Lat'] >= 40.560445) & (dataframe['Start_Lat'] <= 40.908524)]\n",
    "    dataframe = dataframe[ (dataframe['End_Lat'] >= 40.560445) & (dataframe['End_Lat'] <= 40.908524)]\n",
    "    dataframe = dataframe[ (dataframe['Start_Lon'] >= -74.242330) & (dataframe['Start_Lon'] <= -73.717047)]\n",
    "    dataframe = dataframe[ (dataframe['End_Lon'] >= -74.242330) & (dataframe['End_Lon'] <= -73.717047)]\n",
    "    return dataframe"
   ]
  },
  {
   "cell_type": "markdown",
   "id": "58c1d0a4",
   "metadata": {},
   "source": [
    "# Data Cleaning"
   ]
  },
  {
   "cell_type": "markdown",
   "id": "b3ed308a",
   "metadata": {},
   "source": [
    "### Now we will be cleaning the yellow taxi data which we had downloaded and sampled earlier."
   ]
  },
  {
   "cell_type": "code",
   "execution_count": 5,
   "id": "8d0d9ad9",
   "metadata": {
    "scrolled": true
   },
   "outputs": [
    {
     "name": "stderr",
     "output_type": "stream",
     "text": [
      "C:\\Users\\Kunal\\AppData\\Local\\Temp\\ipykernel_14296\\2527313409.py:1: DtypeWarning: Columns (0,8,11) have mixed types. Specify dtype option on import or set low_memory=False.\n",
      "  yellowdf=pd.read_csv(\"masterdf.csv\")\n"
     ]
    }
   ],
   "source": [
    "yellowdf=pd.read_csv(\"masterdf.csv\")"
   ]
  },
  {
   "cell_type": "code",
   "execution_count": 6,
   "id": "121003b2",
   "metadata": {
    "scrolled": true
   },
   "outputs": [
    {
     "data": {
      "text/html": [
       "<div>\n",
       "<style scoped>\n",
       "    .dataframe tbody tr th:only-of-type {\n",
       "        vertical-align: middle;\n",
       "    }\n",
       "\n",
       "    .dataframe tbody tr th {\n",
       "        vertical-align: top;\n",
       "    }\n",
       "\n",
       "    .dataframe thead th {\n",
       "        text-align: right;\n",
       "    }\n",
       "</style>\n",
       "<table border=\"1\" class=\"dataframe\">\n",
       "  <thead>\n",
       "    <tr style=\"text-align: right;\">\n",
       "      <th></th>\n",
       "      <th>vendor_name</th>\n",
       "      <th>Trip_Pickup_DateTime</th>\n",
       "      <th>Trip_Dropoff_DateTime</th>\n",
       "      <th>Passenger_Count</th>\n",
       "      <th>Trip_Distance</th>\n",
       "      <th>Start_Lon</th>\n",
       "      <th>Start_Lat</th>\n",
       "      <th>Rate_Code</th>\n",
       "      <th>store_and_forward</th>\n",
       "      <th>End_Lon</th>\n",
       "      <th>End_Lat</th>\n",
       "      <th>Payment_Type</th>\n",
       "      <th>Fare_Amt</th>\n",
       "      <th>surcharge</th>\n",
       "      <th>mta_tax</th>\n",
       "      <th>Tip_Amt</th>\n",
       "      <th>Tolls_Amt</th>\n",
       "      <th>Total_Amt</th>\n",
       "    </tr>\n",
       "  </thead>\n",
       "  <tbody>\n",
       "    <tr>\n",
       "      <th>0</th>\n",
       "      <td>CMT</td>\n",
       "      <td>2009-01-13 07:54:28</td>\n",
       "      <td>2009-01-13 08:00:10</td>\n",
       "      <td>2</td>\n",
       "      <td>0.60</td>\n",
       "      <td>-73.961570</td>\n",
       "      <td>40.768545</td>\n",
       "      <td>NaN</td>\n",
       "      <td>NaN</td>\n",
       "      <td>-73.963642</td>\n",
       "      <td>40.774218</td>\n",
       "      <td>Cash</td>\n",
       "      <td>4.9</td>\n",
       "      <td>0.0</td>\n",
       "      <td>NaN</td>\n",
       "      <td>0.0</td>\n",
       "      <td>0.00</td>\n",
       "      <td>4.90</td>\n",
       "    </tr>\n",
       "    <tr>\n",
       "      <th>1</th>\n",
       "      <td>CMT</td>\n",
       "      <td>2009-01-22 09:02:19</td>\n",
       "      <td>2009-01-22 09:45:48</td>\n",
       "      <td>1</td>\n",
       "      <td>21.10</td>\n",
       "      <td>-73.914399</td>\n",
       "      <td>40.746171</td>\n",
       "      <td>NaN</td>\n",
       "      <td>NaN</td>\n",
       "      <td>-73.816812</td>\n",
       "      <td>40.703619</td>\n",
       "      <td>Cash</td>\n",
       "      <td>49.3</td>\n",
       "      <td>0.0</td>\n",
       "      <td>NaN</td>\n",
       "      <td>0.0</td>\n",
       "      <td>0.00</td>\n",
       "      <td>49.30</td>\n",
       "    </tr>\n",
       "    <tr>\n",
       "      <th>2</th>\n",
       "      <td>CMT</td>\n",
       "      <td>2009-01-23 23:52:45</td>\n",
       "      <td>2009-01-24 00:13:43</td>\n",
       "      <td>1</td>\n",
       "      <td>10.70</td>\n",
       "      <td>-73.874395</td>\n",
       "      <td>40.774010</td>\n",
       "      <td>NaN</td>\n",
       "      <td>NaN</td>\n",
       "      <td>-73.981739</td>\n",
       "      <td>40.765671</td>\n",
       "      <td>Cash</td>\n",
       "      <td>25.8</td>\n",
       "      <td>0.0</td>\n",
       "      <td>NaN</td>\n",
       "      <td>0.0</td>\n",
       "      <td>4.15</td>\n",
       "      <td>29.95</td>\n",
       "    </tr>\n",
       "    <tr>\n",
       "      <th>3</th>\n",
       "      <td>CMT</td>\n",
       "      <td>2009-01-06 18:34:58</td>\n",
       "      <td>2009-01-06 18:43:57</td>\n",
       "      <td>1</td>\n",
       "      <td>3.60</td>\n",
       "      <td>-73.957687</td>\n",
       "      <td>40.765477</td>\n",
       "      <td>NaN</td>\n",
       "      <td>NaN</td>\n",
       "      <td>-73.977345</td>\n",
       "      <td>40.729237</td>\n",
       "      <td>Credit</td>\n",
       "      <td>11.1</td>\n",
       "      <td>0.0</td>\n",
       "      <td>NaN</td>\n",
       "      <td>1.0</td>\n",
       "      <td>0.00</td>\n",
       "      <td>12.10</td>\n",
       "    </tr>\n",
       "    <tr>\n",
       "      <th>4</th>\n",
       "      <td>VTS</td>\n",
       "      <td>2009-01-02 09:52:00</td>\n",
       "      <td>2009-01-02 10:02:00</td>\n",
       "      <td>1</td>\n",
       "      <td>2.02</td>\n",
       "      <td>-74.000105</td>\n",
       "      <td>40.761962</td>\n",
       "      <td>NaN</td>\n",
       "      <td>NaN</td>\n",
       "      <td>-73.971110</td>\n",
       "      <td>40.759072</td>\n",
       "      <td>Credit</td>\n",
       "      <td>7.7</td>\n",
       "      <td>0.0</td>\n",
       "      <td>NaN</td>\n",
       "      <td>2.0</td>\n",
       "      <td>0.00</td>\n",
       "      <td>9.70</td>\n",
       "    </tr>\n",
       "  </tbody>\n",
       "</table>\n",
       "</div>"
      ],
      "text/plain": [
       "  vendor_name Trip_Pickup_DateTime Trip_Dropoff_DateTime  Passenger_Count  \\\n",
       "0         CMT  2009-01-13 07:54:28   2009-01-13 08:00:10                2   \n",
       "1         CMT  2009-01-22 09:02:19   2009-01-22 09:45:48                1   \n",
       "2         CMT  2009-01-23 23:52:45   2009-01-24 00:13:43                1   \n",
       "3         CMT  2009-01-06 18:34:58   2009-01-06 18:43:57                1   \n",
       "4         VTS  2009-01-02 09:52:00   2009-01-02 10:02:00                1   \n",
       "\n",
       "   Trip_Distance  Start_Lon  Start_Lat  Rate_Code store_and_forward  \\\n",
       "0           0.60 -73.961570  40.768545        NaN               NaN   \n",
       "1          21.10 -73.914399  40.746171        NaN               NaN   \n",
       "2          10.70 -73.874395  40.774010        NaN               NaN   \n",
       "3           3.60 -73.957687  40.765477        NaN               NaN   \n",
       "4           2.02 -74.000105  40.761962        NaN               NaN   \n",
       "\n",
       "     End_Lon    End_Lat Payment_Type  Fare_Amt  surcharge  mta_tax  Tip_Amt  \\\n",
       "0 -73.963642  40.774218         Cash       4.9        0.0      NaN      0.0   \n",
       "1 -73.816812  40.703619         Cash      49.3        0.0      NaN      0.0   \n",
       "2 -73.981739  40.765671         Cash      25.8        0.0      NaN      0.0   \n",
       "3 -73.977345  40.729237       Credit      11.1        0.0      NaN      1.0   \n",
       "4 -73.971110  40.759072       Credit       7.7        0.0      NaN      2.0   \n",
       "\n",
       "   Tolls_Amt  Total_Amt  \n",
       "0       0.00       4.90  \n",
       "1       0.00      49.30  \n",
       "2       4.15      29.95  \n",
       "3       0.00      12.10  \n",
       "4       0.00       9.70  "
      ]
     },
     "execution_count": 6,
     "metadata": {},
     "output_type": "execute_result"
    }
   ],
   "source": [
    "yellowdf.head()"
   ]
  },
  {
   "cell_type": "markdown",
   "id": "550809b5",
   "metadata": {},
   "source": [
    "## Clean Yellow Taxi: \n",
    "### We standardize the Date column to conform to datetime format so that it is easier for manipulations\n",
    "### We are now applying the distance function using the .apply() to our yellow taxi dataframe\n",
    "### We will drop all the irrelevant columns we dont need for our analysis in the sql or the visualization part\n",
    "### Removing Rows with very high distance and 0 distance (outliers)\n",
    "### Removing trips outside latitude/longitude box using the outside function defined as earlier\n",
    "### Rounding down the time to only Hour as this is the most granular data we need for further analysis"
   ]
  },
  {
   "cell_type": "code",
   "execution_count": 392,
   "id": "ec5e3d02",
   "metadata": {},
   "outputs": [],
   "source": [
    "def clean_yellow(yellowdf):\n",
    "    \n",
    "    yellowdf[\"Date\"] = yellowdf[\"Trip_Pickup_DateTime\"].astype(\"datetime64\")\n",
    "    yellowdf[\"Distance\"]=yellowdf.apply(distance,axis=1)\n",
    "    \n",
    "    yellowdf.drop(columns=[\"vendor_name\",\"Passenger_Count\",\"Rate_Code\",\"store_and_forward\",\"Payment_Type\",\"Fare_Amt\",\"surcharge\",\"mta_tax\",\"Tolls_Amt\",\"Trip_Dropoff_DateTime\",\"Trip_Distance\"],errors=\"ignore\",inplace=True)\n",
    "    \n",
    "    yellowdf = yellowdf[yellowdf['Distance'] <= 50]\n",
    "    yellowdf = yellowdf[yellowdf['Distance'] != 0]\n",
    "    \n",
    "    #removing trips with 0 longitude or 0 longitude\n",
    "\n",
    "    yellowdf = yellowdf[yellowdf['Start_Lon'] != 0]\n",
    "    yellowdf = yellowdf[yellowdf['Start_Lat'] != 0]\n",
    "    yellowdf = yellowdf[yellowdf['End_Lon'] != 0]\n",
    "    yellowdf = yellowdf[yellowdf['End_Lat'] != 0]\n",
    "\n",
    "    #removing trips with 0 total amount\n",
    "\n",
    "    yellowdf = yellowdf[yellowdf['Total_Amt'] != 0]\n",
    "    \n",
    "    yellowdf=outside(yellowdf)\n",
    "    \n",
    "    yellowdf=yellowdf.assign(Date=yellowdf.Date.dt.round('H'))\n",
    "    \n",
    "    return yellowdf"
   ]
  },
  {
   "cell_type": "markdown",
   "id": "e6b6aa97",
   "metadata": {},
   "source": [
    "### Calling the Clean Up Function"
   ]
  },
  {
   "cell_type": "code",
   "execution_count": 399,
   "id": "51df5157",
   "metadata": {},
   "outputs": [
    {
     "data": {
      "text/html": [
       "<div>\n",
       "<style scoped>\n",
       "    .dataframe tbody tr th:only-of-type {\n",
       "        vertical-align: middle;\n",
       "    }\n",
       "\n",
       "    .dataframe tbody tr th {\n",
       "        vertical-align: top;\n",
       "    }\n",
       "\n",
       "    .dataframe thead th {\n",
       "        text-align: right;\n",
       "    }\n",
       "</style>\n",
       "<table border=\"1\" class=\"dataframe\">\n",
       "  <thead>\n",
       "    <tr style=\"text-align: right;\">\n",
       "      <th></th>\n",
       "      <th>Trip_Pickup_DateTime</th>\n",
       "      <th>Start_Lon</th>\n",
       "      <th>Start_Lat</th>\n",
       "      <th>End_Lon</th>\n",
       "      <th>End_Lat</th>\n",
       "      <th>Tip_Amt</th>\n",
       "      <th>Total_Amt</th>\n",
       "      <th>Date</th>\n",
       "      <th>Distance</th>\n",
       "      <th>Type</th>\n",
       "    </tr>\n",
       "  </thead>\n",
       "  <tbody>\n",
       "    <tr>\n",
       "      <th>0</th>\n",
       "      <td>2009-01-13 07:54:28</td>\n",
       "      <td>-73.961570</td>\n",
       "      <td>40.768545</td>\n",
       "      <td>-73.963642</td>\n",
       "      <td>40.774218</td>\n",
       "      <td>0.0</td>\n",
       "      <td>4.90</td>\n",
       "      <td>2009-01-13 08:00:00</td>\n",
       "      <td>0.654495</td>\n",
       "      <td>Yellow</td>\n",
       "    </tr>\n",
       "    <tr>\n",
       "      <th>1</th>\n",
       "      <td>2009-01-22 09:02:19</td>\n",
       "      <td>-73.914399</td>\n",
       "      <td>40.746171</td>\n",
       "      <td>-73.816812</td>\n",
       "      <td>40.703619</td>\n",
       "      <td>0.0</td>\n",
       "      <td>49.30</td>\n",
       "      <td>2009-01-22 09:00:00</td>\n",
       "      <td>9.487619</td>\n",
       "      <td>Yellow</td>\n",
       "    </tr>\n",
       "    <tr>\n",
       "      <th>2</th>\n",
       "      <td>2009-01-23 23:52:45</td>\n",
       "      <td>-73.874395</td>\n",
       "      <td>40.774010</td>\n",
       "      <td>-73.981739</td>\n",
       "      <td>40.765671</td>\n",
       "      <td>0.0</td>\n",
       "      <td>29.95</td>\n",
       "      <td>2009-01-24 00:00:00</td>\n",
       "      <td>9.087111</td>\n",
       "      <td>Yellow</td>\n",
       "    </tr>\n",
       "    <tr>\n",
       "      <th>3</th>\n",
       "      <td>2009-01-06 18:34:58</td>\n",
       "      <td>-73.957687</td>\n",
       "      <td>40.765477</td>\n",
       "      <td>-73.977345</td>\n",
       "      <td>40.729237</td>\n",
       "      <td>1.0</td>\n",
       "      <td>12.10</td>\n",
       "      <td>2009-01-06 19:00:00</td>\n",
       "      <td>4.356703</td>\n",
       "      <td>Yellow</td>\n",
       "    </tr>\n",
       "    <tr>\n",
       "      <th>4</th>\n",
       "      <td>2009-01-02 09:52:00</td>\n",
       "      <td>-74.000105</td>\n",
       "      <td>40.761962</td>\n",
       "      <td>-73.971110</td>\n",
       "      <td>40.759072</td>\n",
       "      <td>2.0</td>\n",
       "      <td>9.70</td>\n",
       "      <td>2009-01-02 10:00:00</td>\n",
       "      <td>2.463129</td>\n",
       "      <td>Yellow</td>\n",
       "    </tr>\n",
       "  </tbody>\n",
       "</table>\n",
       "</div>"
      ],
      "text/plain": [
       "  Trip_Pickup_DateTime  Start_Lon  Start_Lat    End_Lon    End_Lat  Tip_Amt  \\\n",
       "0  2009-01-13 07:54:28 -73.961570  40.768545 -73.963642  40.774218      0.0   \n",
       "1  2009-01-22 09:02:19 -73.914399  40.746171 -73.816812  40.703619      0.0   \n",
       "2  2009-01-23 23:52:45 -73.874395  40.774010 -73.981739  40.765671      0.0   \n",
       "3  2009-01-06 18:34:58 -73.957687  40.765477 -73.977345  40.729237      1.0   \n",
       "4  2009-01-02 09:52:00 -74.000105  40.761962 -73.971110  40.759072      2.0   \n",
       "\n",
       "   Total_Amt                Date  Distance    Type  \n",
       "0       4.90 2009-01-13 08:00:00  0.654495  Yellow  \n",
       "1      49.30 2009-01-22 09:00:00  9.487619  Yellow  \n",
       "2      29.95 2009-01-24 00:00:00  9.087111  Yellow  \n",
       "3      12.10 2009-01-06 19:00:00  4.356703  Yellow  \n",
       "4       9.70 2009-01-02 10:00:00  2.463129  Yellow  "
      ]
     },
     "execution_count": 399,
     "metadata": {},
     "output_type": "execute_result"
    }
   ],
   "source": [
    "yellowdf=clean_yellow(yellowdf)\n",
    "yellowdf.head()"
   ]
  },
  {
   "cell_type": "code",
   "execution_count": 16,
   "id": "702c43f1",
   "metadata": {},
   "outputs": [
    {
     "name": "stdout",
     "output_type": "stream",
     "text": [
      "3.344135578783831\n",
      "226373\n"
     ]
    }
   ],
   "source": [
    "print(yellowdf[\"Distance\"].mean())\n",
    "print(len(yellowdf))"
   ]
  },
  {
   "cell_type": "markdown",
   "id": "6889beb5",
   "metadata": {},
   "source": [
    "# Importing Uber Data\n"
   ]
  },
  {
   "cell_type": "markdown",
   "id": "d5f2519c",
   "metadata": {},
   "source": [
    "### We are provided this data and we need to manually download and save it our machine and then we import into a dataframe"
   ]
  },
  {
   "cell_type": "code",
   "execution_count": 402,
   "id": "e35a9136",
   "metadata": {},
   "outputs": [],
   "source": [
    "uberdf=pd.read_csv(\"uber_rides_sample.csv\")"
   ]
  },
  {
   "cell_type": "code",
   "execution_count": 403,
   "id": "678723f0",
   "metadata": {},
   "outputs": [
    {
     "data": {
      "text/html": [
       "<div>\n",
       "<style scoped>\n",
       "    .dataframe tbody tr th:only-of-type {\n",
       "        vertical-align: middle;\n",
       "    }\n",
       "\n",
       "    .dataframe tbody tr th {\n",
       "        vertical-align: top;\n",
       "    }\n",
       "\n",
       "    .dataframe thead th {\n",
       "        text-align: right;\n",
       "    }\n",
       "</style>\n",
       "<table border=\"1\" class=\"dataframe\">\n",
       "  <thead>\n",
       "    <tr style=\"text-align: right;\">\n",
       "      <th></th>\n",
       "      <th>Unnamed: 0</th>\n",
       "      <th>key</th>\n",
       "      <th>fare_amount</th>\n",
       "      <th>pickup_datetime</th>\n",
       "      <th>pickup_longitude</th>\n",
       "      <th>pickup_latitude</th>\n",
       "      <th>dropoff_longitude</th>\n",
       "      <th>dropoff_latitude</th>\n",
       "      <th>passenger_count</th>\n",
       "    </tr>\n",
       "  </thead>\n",
       "  <tbody>\n",
       "    <tr>\n",
       "      <th>0</th>\n",
       "      <td>24238194</td>\n",
       "      <td>2015-05-07 19:52:06.0000003</td>\n",
       "      <td>7.5</td>\n",
       "      <td>2015-05-07 19:52:06 UTC</td>\n",
       "      <td>-73.999817</td>\n",
       "      <td>40.738354</td>\n",
       "      <td>-73.999512</td>\n",
       "      <td>40.723217</td>\n",
       "      <td>1</td>\n",
       "    </tr>\n",
       "    <tr>\n",
       "      <th>1</th>\n",
       "      <td>27835199</td>\n",
       "      <td>2009-07-17 20:04:56.0000002</td>\n",
       "      <td>7.7</td>\n",
       "      <td>2009-07-17 20:04:56 UTC</td>\n",
       "      <td>-73.994355</td>\n",
       "      <td>40.728225</td>\n",
       "      <td>-73.994710</td>\n",
       "      <td>40.750325</td>\n",
       "      <td>1</td>\n",
       "    </tr>\n",
       "    <tr>\n",
       "      <th>2</th>\n",
       "      <td>44984355</td>\n",
       "      <td>2009-08-24 21:45:00.00000061</td>\n",
       "      <td>12.9</td>\n",
       "      <td>2009-08-24 21:45:00 UTC</td>\n",
       "      <td>-74.005043</td>\n",
       "      <td>40.740770</td>\n",
       "      <td>-73.962565</td>\n",
       "      <td>40.772647</td>\n",
       "      <td>1</td>\n",
       "    </tr>\n",
       "    <tr>\n",
       "      <th>3</th>\n",
       "      <td>25894730</td>\n",
       "      <td>2009-06-26 08:22:21.0000001</td>\n",
       "      <td>5.3</td>\n",
       "      <td>2009-06-26 08:22:21 UTC</td>\n",
       "      <td>-73.976124</td>\n",
       "      <td>40.790844</td>\n",
       "      <td>-73.965316</td>\n",
       "      <td>40.803349</td>\n",
       "      <td>3</td>\n",
       "    </tr>\n",
       "    <tr>\n",
       "      <th>4</th>\n",
       "      <td>17610152</td>\n",
       "      <td>2014-08-28 17:47:00.000000188</td>\n",
       "      <td>16.0</td>\n",
       "      <td>2014-08-28 17:47:00 UTC</td>\n",
       "      <td>-73.925023</td>\n",
       "      <td>40.744085</td>\n",
       "      <td>-73.973082</td>\n",
       "      <td>40.761247</td>\n",
       "      <td>5</td>\n",
       "    </tr>\n",
       "  </tbody>\n",
       "</table>\n",
       "</div>"
      ],
      "text/plain": [
       "   Unnamed: 0                            key  fare_amount  \\\n",
       "0    24238194    2015-05-07 19:52:06.0000003          7.5   \n",
       "1    27835199    2009-07-17 20:04:56.0000002          7.7   \n",
       "2    44984355   2009-08-24 21:45:00.00000061         12.9   \n",
       "3    25894730    2009-06-26 08:22:21.0000001          5.3   \n",
       "4    17610152  2014-08-28 17:47:00.000000188         16.0   \n",
       "\n",
       "           pickup_datetime  pickup_longitude  pickup_latitude  \\\n",
       "0  2015-05-07 19:52:06 UTC        -73.999817        40.738354   \n",
       "1  2009-07-17 20:04:56 UTC        -73.994355        40.728225   \n",
       "2  2009-08-24 21:45:00 UTC        -74.005043        40.740770   \n",
       "3  2009-06-26 08:22:21 UTC        -73.976124        40.790844   \n",
       "4  2014-08-28 17:47:00 UTC        -73.925023        40.744085   \n",
       "\n",
       "   dropoff_longitude  dropoff_latitude  passenger_count  \n",
       "0         -73.999512         40.723217                1  \n",
       "1         -73.994710         40.750325                1  \n",
       "2         -73.962565         40.772647                1  \n",
       "3         -73.965316         40.803349                3  \n",
       "4         -73.973082         40.761247                5  "
      ]
     },
     "execution_count": 403,
     "metadata": {},
     "output_type": "execute_result"
    }
   ],
   "source": [
    "uberdf.head()"
   ]
  },
  {
   "cell_type": "markdown",
   "id": "91cc09b9",
   "metadata": {},
   "source": [
    "### Initial clean up:\n",
    "###  We rename the columns to have homogenous labels with the yellow taxi data\n",
    "### Dropping unnecessary columns\n",
    "### Calculating the distance with latitude/longitude using the function defined as earlier"
   ]
  },
  {
   "cell_type": "code",
   "execution_count": 404,
   "id": "5668b60b",
   "metadata": {},
   "outputs": [],
   "source": [
    "def initial_clean_uber(uberdf):\n",
    "    \n",
    "    uberdf=uberdf.drop(columns=[\"Unnamed: 0\",\"passenger_count\",\"key\"],errors=\"ignore\")\n",
    "\n",
    "    uberdf.rename(columns = {'pickup_latitude' : 'Start_Lat', \n",
    "                             'pickup_longitude' : 'Start_Lon', \n",
    "                             'dropoff_latitude' : 'End_Lat' ,\n",
    "                             'dropoff_longitude' : 'End_Lon' , \n",
    "                             'fare_amount' : 'Total_Amt',\n",
    "                             'pickup_datetime' : 'Trip_Pickup_DateTime'}, \n",
    "                  inplace = True,errors=\"ignore\")\n",
    "    uberdf[\"Date\"] = uberdf[\"Trip_Pickup_DateTime\"].astype(\"datetime64\")\n",
    "\n",
    "\n",
    "    uberdf[\"Distance\"]=uberdf.apply(distance,axis=1)\n",
    "\n",
    "    return uberdf"
   ]
  },
  {
   "cell_type": "markdown",
   "id": "b12c121a",
   "metadata": {},
   "source": [
    "### Calling the Clean Up Function"
   ]
  },
  {
   "cell_type": "code",
   "execution_count": 405,
   "id": "91ac6b68",
   "metadata": {},
   "outputs": [],
   "source": [
    "uberdf=initial_clean_uber(uberdf)"
   ]
  },
  {
   "cell_type": "code",
   "execution_count": 406,
   "id": "150c7934",
   "metadata": {},
   "outputs": [
    {
     "data": {
      "text/html": [
       "<div>\n",
       "<style scoped>\n",
       "    .dataframe tbody tr th:only-of-type {\n",
       "        vertical-align: middle;\n",
       "    }\n",
       "\n",
       "    .dataframe tbody tr th {\n",
       "        vertical-align: top;\n",
       "    }\n",
       "\n",
       "    .dataframe thead th {\n",
       "        text-align: right;\n",
       "    }\n",
       "</style>\n",
       "<table border=\"1\" class=\"dataframe\">\n",
       "  <thead>\n",
       "    <tr style=\"text-align: right;\">\n",
       "      <th></th>\n",
       "      <th>Total_Amt</th>\n",
       "      <th>Trip_Pickup_DateTime</th>\n",
       "      <th>Start_Lon</th>\n",
       "      <th>Start_Lat</th>\n",
       "      <th>End_Lon</th>\n",
       "      <th>End_Lat</th>\n",
       "      <th>Date</th>\n",
       "      <th>Distance</th>\n",
       "    </tr>\n",
       "  </thead>\n",
       "  <tbody>\n",
       "    <tr>\n",
       "      <th>0</th>\n",
       "      <td>7.5</td>\n",
       "      <td>2015-05-07 19:52:06 UTC</td>\n",
       "      <td>-73.999817</td>\n",
       "      <td>40.738354</td>\n",
       "      <td>-73.999512</td>\n",
       "      <td>40.723217</td>\n",
       "      <td>2015-05-07 19:52:06</td>\n",
       "      <td>1.683323</td>\n",
       "    </tr>\n",
       "    <tr>\n",
       "      <th>1</th>\n",
       "      <td>7.7</td>\n",
       "      <td>2009-07-17 20:04:56 UTC</td>\n",
       "      <td>-73.994355</td>\n",
       "      <td>40.728225</td>\n",
       "      <td>-73.994710</td>\n",
       "      <td>40.750325</td>\n",
       "      <td>2009-07-17 20:04:56</td>\n",
       "      <td>2.457590</td>\n",
       "    </tr>\n",
       "    <tr>\n",
       "      <th>2</th>\n",
       "      <td>12.9</td>\n",
       "      <td>2009-08-24 21:45:00 UTC</td>\n",
       "      <td>-74.005043</td>\n",
       "      <td>40.740770</td>\n",
       "      <td>-73.962565</td>\n",
       "      <td>40.772647</td>\n",
       "      <td>2009-08-24 21:45:00</td>\n",
       "      <td>5.036377</td>\n",
       "    </tr>\n",
       "    <tr>\n",
       "      <th>3</th>\n",
       "      <td>5.3</td>\n",
       "      <td>2009-06-26 08:22:21 UTC</td>\n",
       "      <td>-73.976124</td>\n",
       "      <td>40.790844</td>\n",
       "      <td>-73.965316</td>\n",
       "      <td>40.803349</td>\n",
       "      <td>2009-06-26 08:22:21</td>\n",
       "      <td>1.661683</td>\n",
       "    </tr>\n",
       "    <tr>\n",
       "      <th>4</th>\n",
       "      <td>16.0</td>\n",
       "      <td>2014-08-28 17:47:00 UTC</td>\n",
       "      <td>-73.925023</td>\n",
       "      <td>40.744085</td>\n",
       "      <td>-73.973082</td>\n",
       "      <td>40.761247</td>\n",
       "      <td>2014-08-28 17:47:00</td>\n",
       "      <td>4.475450</td>\n",
       "    </tr>\n",
       "  </tbody>\n",
       "</table>\n",
       "</div>"
      ],
      "text/plain": [
       "   Total_Amt     Trip_Pickup_DateTime  Start_Lon  Start_Lat    End_Lon  \\\n",
       "0        7.5  2015-05-07 19:52:06 UTC -73.999817  40.738354 -73.999512   \n",
       "1        7.7  2009-07-17 20:04:56 UTC -73.994355  40.728225 -73.994710   \n",
       "2       12.9  2009-08-24 21:45:00 UTC -74.005043  40.740770 -73.962565   \n",
       "3        5.3  2009-06-26 08:22:21 UTC -73.976124  40.790844 -73.965316   \n",
       "4       16.0  2014-08-28 17:47:00 UTC -73.925023  40.744085 -73.973082   \n",
       "\n",
       "     End_Lat                Date  Distance  \n",
       "0  40.723217 2015-05-07 19:52:06  1.683323  \n",
       "1  40.750325 2009-07-17 20:04:56  2.457590  \n",
       "2  40.772647 2009-08-24 21:45:00  5.036377  \n",
       "3  40.803349 2009-06-26 08:22:21  1.661683  \n",
       "4  40.761247 2014-08-28 17:47:00  4.475450  "
      ]
     },
     "execution_count": 406,
     "metadata": {},
     "output_type": "execute_result"
    }
   ],
   "source": [
    "uberdf.head()"
   ]
  },
  {
   "cell_type": "code",
   "execution_count": 407,
   "id": "6561467c",
   "metadata": {
    "scrolled": true
   },
   "outputs": [
    {
     "data": {
      "text/plain": [
       "<AxesSubplot:xlabel='Date'>"
      ]
     },
     "execution_count": 407,
     "metadata": {},
     "output_type": "execute_result"
    },
    {
     "data": {
      "image/png": "[encoded data removed]",
      "text/plain": [
       "<Figure size 432x288 with 1 Axes>"
      ]
     },
     "metadata": {
      "needs_background": "light"
     },
     "output_type": "display_data"
    }
   ],
   "source": [
    "uberdf[\"Distance\"].groupby(uberdf[\"Date\"].dt.weekday).count().plot(kind=\"bar\")"
   ]
  },
  {
   "cell_type": "markdown",
   "id": "63a7fbbc",
   "metadata": {},
   "source": [
    "## Removing Rows with very high distance and 0 distance (outliers)"
   ]
  },
  {
   "cell_type": "code",
   "execution_count": 26,
   "id": "a6463ef4",
   "metadata": {},
   "outputs": [
    {
     "name": "stdout",
     "output_type": "stream",
     "text": [
      "20.855349825361202\n",
      "200000\n"
     ]
    }
   ],
   "source": [
    "print(uberdf[\"Distance\"].mean())\n",
    "print(len(uberdf))"
   ]
  },
  {
   "cell_type": "code",
   "execution_count": 27,
   "id": "5cad3d26",
   "metadata": {},
   "outputs": [],
   "source": [
    "uberdf = uberdf[uberdf['Distance'] <= 50]\n",
    "uberdf = uberdf[uberdf['Distance'] != 0]"
   ]
  },
  {
   "cell_type": "code",
   "execution_count": 28,
   "id": "4a0ab715",
   "metadata": {},
   "outputs": [],
   "source": [
    "#removing trips with 0 longitude or 0 longitude\n",
    "\n",
    "uberdf = uberdf[uberdf['Start_Lon'] != 0]\n",
    "uberdf = uberdf[uberdf['Start_Lat'] != 0]\n",
    "uberdf = uberdf[uberdf['End_Lon'] != 0]\n",
    "uberdf = uberdf[uberdf['End_Lat'] != 0]\n",
    "\n",
    "#removing trips with 0 total amount\n",
    "\n",
    "uberdf = uberdf[uberdf['Total_Amt'] != 0]"
   ]
  },
  {
   "cell_type": "markdown",
   "id": "ba9e32ef",
   "metadata": {},
   "source": [
    "### Removing trips outside latitude/longitude box using the outside function defined as earlier"
   ]
  },
  {
   "cell_type": "code",
   "execution_count": 29,
   "id": "7e9cad3f",
   "metadata": {},
   "outputs": [],
   "source": [
    "uberdf=outside(uberdf)"
   ]
  },
  {
   "cell_type": "code",
   "execution_count": 30,
   "id": "97eac869",
   "metadata": {},
   "outputs": [
    {
     "name": "stdout",
     "output_type": "stream",
     "text": [
      "3.33772817297078\n",
      "193512\n"
     ]
    }
   ],
   "source": [
    "print(uberdf[\"Distance\"].mean())\n",
    "print(len(uberdf))"
   ]
  },
  {
   "cell_type": "code",
   "execution_count": 31,
   "id": "3a6df653",
   "metadata": {},
   "outputs": [],
   "source": [
    "uberdf=uberdf.assign(Date=uberdf.Date.dt.round('H'))"
   ]
  },
  {
   "cell_type": "markdown",
   "id": "882fcef2",
   "metadata": {},
   "source": [
    "# Creating dataframe combining yellow taxi and uber data"
   ]
  },
  {
   "cell_type": "markdown",
   "id": "db2804d2",
   "metadata": {},
   "source": [
    "#Adding a column 'Type' to identify whether Taxi was Uber or Yellow"
   ]
  },
  {
   "cell_type": "code",
   "execution_count": 32,
   "id": "24f5c0eb",
   "metadata": {},
   "outputs": [],
   "source": [
    "\n",
    "uberdf_flag=uberdf\n",
    "uberdf_flag[\"Type\"]=\"Uber\"\n",
    "\n",
    "yellowdf_flag=yellowdf\n",
    "yellowdf_flag[\"Type\"]=\"Yellow\"\n",
    "\n",
    "\n",
    "df_list = [uberdf_flag[['Total_Amt', 'Trip_Pickup_DateTime', 'Start_Lon', 'Start_Lat',\n",
    "       'End_Lon', 'End_Lat', 'Date', 'Distance','Type']],yellowdf_flag[['Total_Amt', 'Trip_Pickup_DateTime', 'Start_Lon', 'Start_Lat',\n",
    "       'End_Lon', 'End_Lat', 'Date', 'Distance','Type']]]\n",
    "tdf=pd.concat(df_list, ignore_index=True)"
   ]
  },
  {
   "cell_type": "code",
   "execution_count": 33,
   "id": "7efab17c",
   "metadata": {},
   "outputs": [],
   "source": [
    "tdf=tdf.assign(Date=tdf.Date.dt.round('H'))"
   ]
  },
  {
   "cell_type": "code",
   "execution_count": 34,
   "id": "06091717",
   "metadata": {},
   "outputs": [
    {
     "data": {
      "text/html": [
       "<div>\n",
       "<style scoped>\n",
       "    .dataframe tbody tr th:only-of-type {\n",
       "        vertical-align: middle;\n",
       "    }\n",
       "\n",
       "    .dataframe tbody tr th {\n",
       "        vertical-align: top;\n",
       "    }\n",
       "\n",
       "    .dataframe thead th {\n",
       "        text-align: right;\n",
       "    }\n",
       "</style>\n",
       "<table border=\"1\" class=\"dataframe\">\n",
       "  <thead>\n",
       "    <tr style=\"text-align: right;\">\n",
       "      <th></th>\n",
       "      <th>Total_Amt</th>\n",
       "      <th>Trip_Pickup_DateTime</th>\n",
       "      <th>Start_Lon</th>\n",
       "      <th>Start_Lat</th>\n",
       "      <th>End_Lon</th>\n",
       "      <th>End_Lat</th>\n",
       "      <th>Date</th>\n",
       "      <th>Distance</th>\n",
       "      <th>Type</th>\n",
       "    </tr>\n",
       "  </thead>\n",
       "  <tbody>\n",
       "    <tr>\n",
       "      <th>145973</th>\n",
       "      <td>4.1</td>\n",
       "      <td>2009-09-29 22:56:52 UTC</td>\n",
       "      <td>-73.965334</td>\n",
       "      <td>40.765928</td>\n",
       "      <td>-73.960260</td>\n",
       "      <td>40.773782</td>\n",
       "      <td>2009-09-29 23:00:00</td>\n",
       "      <td>0.972253</td>\n",
       "      <td>Uber</td>\n",
       "    </tr>\n",
       "    <tr>\n",
       "      <th>257953</th>\n",
       "      <td>6.6</td>\n",
       "      <td>2010-11-17 15:34:00</td>\n",
       "      <td>-73.944488</td>\n",
       "      <td>40.779852</td>\n",
       "      <td>-73.959953</td>\n",
       "      <td>40.779227</td>\n",
       "      <td>2010-11-17 16:00:00</td>\n",
       "      <td>1.304005</td>\n",
       "      <td>Yellow</td>\n",
       "    </tr>\n",
       "    <tr>\n",
       "      <th>353329</th>\n",
       "      <td>14.4</td>\n",
       "      <td>2013-08-23 09:10:00</td>\n",
       "      <td>-73.997657</td>\n",
       "      <td>40.724267</td>\n",
       "      <td>-74.005897</td>\n",
       "      <td>40.750435</td>\n",
       "      <td>2013-08-23 09:00:00</td>\n",
       "      <td>2.991424</td>\n",
       "      <td>Yellow</td>\n",
       "    </tr>\n",
       "    <tr>\n",
       "      <th>155559</th>\n",
       "      <td>5.5</td>\n",
       "      <td>2014-04-17 08:34:45 UTC</td>\n",
       "      <td>-73.974430</td>\n",
       "      <td>40.765025</td>\n",
       "      <td>-73.988988</td>\n",
       "      <td>40.771046</td>\n",
       "      <td>2014-04-17 09:00:00</td>\n",
       "      <td>1.396890</td>\n",
       "      <td>Uber</td>\n",
       "    </tr>\n",
       "    <tr>\n",
       "      <th>18940</th>\n",
       "      <td>4.5</td>\n",
       "      <td>2014-06-17 20:13:01 UTC</td>\n",
       "      <td>-73.992747</td>\n",
       "      <td>40.737438</td>\n",
       "      <td>-73.998364</td>\n",
       "      <td>40.733756</td>\n",
       "      <td>2014-06-17 20:00:00</td>\n",
       "      <td>0.625782</td>\n",
       "      <td>Uber</td>\n",
       "    </tr>\n",
       "    <tr>\n",
       "      <th>274531</th>\n",
       "      <td>50.3</td>\n",
       "      <td>2011-04-16 15:36:00</td>\n",
       "      <td>-73.786008</td>\n",
       "      <td>40.641705</td>\n",
       "      <td>-73.993593</td>\n",
       "      <td>40.745705</td>\n",
       "      <td>2011-04-16 16:00:00</td>\n",
       "      <td>20.976759</td>\n",
       "      <td>Yellow</td>\n",
       "    </tr>\n",
       "    <tr>\n",
       "      <th>82870</th>\n",
       "      <td>10.5</td>\n",
       "      <td>2011-03-10 16:07:00 UTC</td>\n",
       "      <td>-73.977813</td>\n",
       "      <td>40.773555</td>\n",
       "      <td>-73.949808</td>\n",
       "      <td>40.785433</td>\n",
       "      <td>2011-03-10 16:00:00</td>\n",
       "      <td>2.702722</td>\n",
       "      <td>Uber</td>\n",
       "    </tr>\n",
       "    <tr>\n",
       "      <th>68302</th>\n",
       "      <td>10.0</td>\n",
       "      <td>2013-06-28 00:37:00 UTC</td>\n",
       "      <td>-73.944922</td>\n",
       "      <td>40.779187</td>\n",
       "      <td>-73.978970</td>\n",
       "      <td>40.789387</td>\n",
       "      <td>2013-06-28 01:00:00</td>\n",
       "      <td>3.082852</td>\n",
       "      <td>Uber</td>\n",
       "    </tr>\n",
       "    <tr>\n",
       "      <th>143800</th>\n",
       "      <td>11.7</td>\n",
       "      <td>2011-08-10 21:15:10 UTC</td>\n",
       "      <td>-73.983374</td>\n",
       "      <td>40.760980</td>\n",
       "      <td>-74.009091</td>\n",
       "      <td>40.724253</td>\n",
       "      <td>2011-08-10 21:00:00</td>\n",
       "      <td>4.622977</td>\n",
       "      <td>Uber</td>\n",
       "    </tr>\n",
       "    <tr>\n",
       "      <th>320506</th>\n",
       "      <td>41.3</td>\n",
       "      <td>2012-08-12 21:01:29</td>\n",
       "      <td>-73.870624</td>\n",
       "      <td>40.773538</td>\n",
       "      <td>-73.998020</td>\n",
       "      <td>40.756593</td>\n",
       "      <td>2012-08-12 21:00:00</td>\n",
       "      <td>10.893264</td>\n",
       "      <td>Yellow</td>\n",
       "    </tr>\n",
       "  </tbody>\n",
       "</table>\n",
       "</div>"
      ],
      "text/plain": [
       "        Total_Amt     Trip_Pickup_DateTime  Start_Lon  Start_Lat    End_Lon  \\\n",
       "145973        4.1  2009-09-29 22:56:52 UTC -73.965334  40.765928 -73.960260   \n",
       "257953        6.6      2010-11-17 15:34:00 -73.944488  40.779852 -73.959953   \n",
       "353329       14.4      2013-08-23 09:10:00 -73.997657  40.724267 -74.005897   \n",
       "155559        5.5  2014-04-17 08:34:45 UTC -73.974430  40.765025 -73.988988   \n",
       "18940         4.5  2014-06-17 20:13:01 UTC -73.992747  40.737438 -73.998364   \n",
       "274531       50.3      2011-04-16 15:36:00 -73.786008  40.641705 -73.993593   \n",
       "82870        10.5  2011-03-10 16:07:00 UTC -73.977813  40.773555 -73.949808   \n",
       "68302        10.0  2013-06-28 00:37:00 UTC -73.944922  40.779187 -73.978970   \n",
       "143800       11.7  2011-08-10 21:15:10 UTC -73.983374  40.760980 -74.009091   \n",
       "320506       41.3      2012-08-12 21:01:29 -73.870624  40.773538 -73.998020   \n",
       "\n",
       "          End_Lat                Date   Distance    Type  \n",
       "145973  40.773782 2009-09-29 23:00:00   0.972253    Uber  \n",
       "257953  40.779227 2010-11-17 16:00:00   1.304005  Yellow  \n",
       "353329  40.750435 2013-08-23 09:00:00   2.991424  Yellow  \n",
       "155559  40.771046 2014-04-17 09:00:00   1.396890    Uber  \n",
       "18940   40.733756 2014-06-17 20:00:00   0.625782    Uber  \n",
       "274531  40.745705 2011-04-16 16:00:00  20.976759  Yellow  \n",
       "82870   40.785433 2011-03-10 16:00:00   2.702722    Uber  \n",
       "68302   40.789387 2013-06-28 01:00:00   3.082852    Uber  \n",
       "143800  40.724253 2011-08-10 21:00:00   4.622977    Uber  \n",
       "320506  40.756593 2012-08-12 21:00:00  10.893264  Yellow  "
      ]
     },
     "execution_count": 34,
     "metadata": {},
     "output_type": "execute_result"
    }
   ],
   "source": [
    "tdf.sample(n=10)"
   ]
  },
  {
   "cell_type": "markdown",
   "id": "07719e49",
   "metadata": {},
   "source": [
    "# Weather Dataset"
   ]
  },
  {
   "cell_type": "markdown",
   "id": "ad3940fe",
   "metadata": {},
   "source": [
    "### We are given the weather data but we need to programatically load each and every csv file "
   ]
  },
  {
   "cell_type": "code",
   "execution_count": 35,
   "id": "82ee1923",
   "metadata": {},
   "outputs": [
    {
     "name": "stderr",
     "output_type": "stream",
     "text": [
      "C:\\Users\\Kunal\\AppData\\Local\\Temp\\ipykernel_14296\\1334377732.py:8: DtypeWarning: Columns (9,13) have mixed types. Specify dtype option on import or set low_memory=False.\n",
      "  eachweatherdf = pd.read_csv(filename, index_col=None, header=0)\n",
      "C:\\Users\\Kunal\\AppData\\Local\\Temp\\ipykernel_14296\\1334377732.py:8: DtypeWarning: Columns (8,9,10,17) have mixed types. Specify dtype option on import or set low_memory=False.\n",
      "  eachweatherdf = pd.read_csv(filename, index_col=None, header=0)\n",
      "C:\\Users\\Kunal\\AppData\\Local\\Temp\\ipykernel_14296\\1334377732.py:8: DtypeWarning: Columns (10) have mixed types. Specify dtype option on import or set low_memory=False.\n",
      "  eachweatherdf = pd.read_csv(filename, index_col=None, header=0)\n",
      "C:\\Users\\Kunal\\AppData\\Local\\Temp\\ipykernel_14296\\1334377732.py:8: DtypeWarning: Columns (7,8,9,10,17,18,42,65) have mixed types. Specify dtype option on import or set low_memory=False.\n",
      "  eachweatherdf = pd.read_csv(filename, index_col=None, header=0)\n",
      "C:\\Users\\Kunal\\AppData\\Local\\Temp\\ipykernel_14296\\1334377732.py:8: DtypeWarning: Columns (17,78) have mixed types. Specify dtype option on import or set low_memory=False.\n",
      "  eachweatherdf = pd.read_csv(filename, index_col=None, header=0)\n",
      "C:\\Users\\Kunal\\AppData\\Local\\Temp\\ipykernel_14296\\1334377732.py:8: DtypeWarning: Columns (8,9,17,18,78) have mixed types. Specify dtype option on import or set low_memory=False.\n",
      "  eachweatherdf = pd.read_csv(filename, index_col=None, header=0)\n",
      "C:\\Users\\Kunal\\AppData\\Local\\Temp\\ipykernel_14296\\1334377732.py:8: DtypeWarning: Columns (10,41,78) have mixed types. Specify dtype option on import or set low_memory=False.\n",
      "  eachweatherdf = pd.read_csv(filename, index_col=None, header=0)\n"
     ]
    }
   ],
   "source": [
    "#Load all weather csv into one dataframe\n",
    "path = r'weather' \n",
    "all_files = glob.glob(path + \"/*.csv\")\n",
    "\n",
    "li = []\n",
    "\n",
    "for filename in all_files:\n",
    "    eachweatherdf = pd.read_csv(filename, index_col=None, header=0)\n",
    "    li.append(eachweatherdf)\n",
    "\n",
    "weatherdf = pd.concat(li, axis=0, ignore_index=True)"
   ]
  },
  {
   "cell_type": "code",
   "execution_count": 36,
   "id": "04f76a4a",
   "metadata": {},
   "outputs": [],
   "source": [
    "weatherdf[\"DATE\"]=weatherdf[\"DATE\"].astype(\"datetime64\")"
   ]
  },
  {
   "cell_type": "markdown",
   "id": "ffb684b7",
   "metadata": {},
   "source": [
    "### Removing Dates after 2015 June"
   ]
  },
  {
   "cell_type": "code",
   "execution_count": 37,
   "id": "96000177",
   "metadata": {},
   "outputs": [],
   "source": [
    "weatherdf = weatherdf[ (weatherdf['DATE'].dt.year < 2015) | (weatherdf['DATE'].dt.month <= 6) ]"
   ]
  },
  {
   "cell_type": "markdown",
   "id": "77f815c2",
   "metadata": {},
   "source": [
    "### Creating Dataframe with daily and hourly weather data"
   ]
  },
  {
   "cell_type": "code",
   "execution_count": 38,
   "id": "00cd190c",
   "metadata": {},
   "outputs": [
    {
     "name": "stderr",
     "output_type": "stream",
     "text": [
      "C:\\Users\\Kunal\\AppData\\Local\\Temp\\ipykernel_14296\\3935078564.py:3: SettingWithCopyWarning: \n",
      "A value is trying to be set on a copy of a slice from a DataFrame.\n",
      "Try using .loc[row_indexer,col_indexer] = value instead\n",
      "\n",
      "See the caveats in the documentation: https://pandas.pydata.org/pandas-docs/stable/user_guide/indexing.html#returning-a-view-versus-a-copy\n",
      "  dayweather['day'] = dayweather.DATE.dt.date\n"
     ]
    }
   ],
   "source": [
    "dayweather=pd.DataFrame()\n",
    "dayweather=weatherdf[weatherdf['HourlyDryBulbTemperature'].notna() & weatherdf['HourlyWindSpeed'].notna()]\n",
    "dayweather['day'] = dayweather.DATE.dt.date\n",
    "# dayweather.set_index(\"DATE\")"
   ]
  },
  {
   "cell_type": "code",
   "execution_count": 39,
   "id": "c4790ed3",
   "metadata": {},
   "outputs": [
    {
     "name": "stderr",
     "output_type": "stream",
     "text": [
      "C:\\Users\\Kunal\\AppData\\Local\\Temp\\ipykernel_14296\\1676369403.py:2: SettingWithCopyWarning: \n",
      "A value is trying to be set on a copy of a slice from a DataFrame.\n",
      "Try using .loc[row_indexer,col_indexer] = value instead\n",
      "\n",
      "See the caveats in the documentation: https://pandas.pydata.org/pandas-docs/stable/user_guide/indexing.html#returning-a-view-versus-a-copy\n",
      "  dayweather['HourlyDryBulbTemperature']=pd.to_numeric(dayweather['HourlyDryBulbTemperature'], errors='coerce')\n",
      "C:\\Users\\Kunal\\AppData\\Local\\Temp\\ipykernel_14296\\1676369403.py:3: SettingWithCopyWarning: \n",
      "A value is trying to be set on a copy of a slice from a DataFrame.\n",
      "Try using .loc[row_indexer,col_indexer] = value instead\n",
      "\n",
      "See the caveats in the documentation: https://pandas.pydata.org/pandas-docs/stable/user_guide/indexing.html#returning-a-view-versus-a-copy\n",
      "  dayweather['HourlyWindSpeed']=pd.to_numeric(dayweather['HourlyWindSpeed'], errors='coerce')\n",
      "C:\\Users\\Kunal\\AppData\\Local\\Temp\\ipykernel_14296\\1676369403.py:4: SettingWithCopyWarning: \n",
      "A value is trying to be set on a copy of a slice from a DataFrame\n",
      "\n",
      "See the caveats in the documentation: https://pandas.pydata.org/pandas-docs/stable/user_guide/indexing.html#returning-a-view-versus-a-copy\n",
      "  dayweather.rename(columns={\"HourlyWindSpeed\":\"DailyAvgWindSpeed\",\"HourlyDryBulbTemperature\":\"DailyTemperature\"},inplace=True)\n"
     ]
    }
   ],
   "source": [
    "dayweather=dayweather[[\"DATE\",\"HourlyDryBulbTemperature\",\"HourlyWindSpeed\"]]\n",
    "dayweather['HourlyDryBulbTemperature']=pd.to_numeric(dayweather['HourlyDryBulbTemperature'], errors='coerce')\n",
    "dayweather['HourlyWindSpeed']=pd.to_numeric(dayweather['HourlyWindSpeed'], errors='coerce')\n",
    "dayweather.rename(columns={\"HourlyWindSpeed\":\"DailyAvgWindSpeed\",\"HourlyDryBulbTemperature\":\"DailyTemperature\"},inplace=True)"
   ]
  },
  {
   "cell_type": "code",
   "execution_count": 40,
   "id": "0b2ed843",
   "metadata": {},
   "outputs": [
    {
     "data": {
      "text/html": [
       "<div>\n",
       "<style scoped>\n",
       "    .dataframe tbody tr th:only-of-type {\n",
       "        vertical-align: middle;\n",
       "    }\n",
       "\n",
       "    .dataframe tbody tr th {\n",
       "        vertical-align: top;\n",
       "    }\n",
       "\n",
       "    .dataframe thead th {\n",
       "        text-align: right;\n",
       "    }\n",
       "</style>\n",
       "<table border=\"1\" class=\"dataframe\">\n",
       "  <thead>\n",
       "    <tr style=\"text-align: right;\">\n",
       "      <th></th>\n",
       "      <th>DATE</th>\n",
       "      <th>DailyTemperature</th>\n",
       "      <th>DailyAvgWindSpeed</th>\n",
       "    </tr>\n",
       "  </thead>\n",
       "  <tbody>\n",
       "    <tr>\n",
       "      <th>0</th>\n",
       "      <td>2009-01-01 00:51:00</td>\n",
       "      <td>18.0</td>\n",
       "      <td>18.0</td>\n",
       "    </tr>\n",
       "    <tr>\n",
       "      <th>1</th>\n",
       "      <td>2009-01-01 01:51:00</td>\n",
       "      <td>18.0</td>\n",
       "      <td>18.0</td>\n",
       "    </tr>\n",
       "    <tr>\n",
       "      <th>2</th>\n",
       "      <td>2009-01-01 02:51:00</td>\n",
       "      <td>18.0</td>\n",
       "      <td>18.0</td>\n",
       "    </tr>\n",
       "    <tr>\n",
       "      <th>3</th>\n",
       "      <td>2009-01-01 03:51:00</td>\n",
       "      <td>18.0</td>\n",
       "      <td>8.0</td>\n",
       "    </tr>\n",
       "    <tr>\n",
       "      <th>4</th>\n",
       "      <td>2009-01-01 04:51:00</td>\n",
       "      <td>18.0</td>\n",
       "      <td>11.0</td>\n",
       "    </tr>\n",
       "  </tbody>\n",
       "</table>\n",
       "</div>"
      ],
      "text/plain": [
       "                 DATE  DailyTemperature  DailyAvgWindSpeed\n",
       "0 2009-01-01 00:51:00              18.0               18.0\n",
       "1 2009-01-01 01:51:00              18.0               18.0\n",
       "2 2009-01-01 02:51:00              18.0               18.0\n",
       "3 2009-01-01 03:51:00              18.0                8.0\n",
       "4 2009-01-01 04:51:00              18.0               11.0"
      ]
     },
     "execution_count": 40,
     "metadata": {},
     "output_type": "execute_result"
    }
   ],
   "source": [
    "dayweather.head()"
   ]
  },
  {
   "cell_type": "markdown",
   "id": "04ee3112",
   "metadata": {},
   "source": [
    "### Now we are creating a daily weather dataframe for the daily weather we will created from the use of the hourly weather data made available"
   ]
  },
  {
   "cell_type": "code",
   "execution_count": 41,
   "id": "71f094a3",
   "metadata": {},
   "outputs": [],
   "source": [
    "daydf = dayweather.groupby([dayweather['DATE'].dt.date]).mean()"
   ]
  },
  {
   "cell_type": "code",
   "execution_count": 42,
   "id": "ac254d4e",
   "metadata": {},
   "outputs": [
    {
     "data": {
      "text/html": [
       "<div>\n",
       "<style scoped>\n",
       "    .dataframe tbody tr th:only-of-type {\n",
       "        vertical-align: middle;\n",
       "    }\n",
       "\n",
       "    .dataframe tbody tr th {\n",
       "        vertical-align: top;\n",
       "    }\n",
       "\n",
       "    .dataframe thead th {\n",
       "        text-align: right;\n",
       "    }\n",
       "</style>\n",
       "<table border=\"1\" class=\"dataframe\">\n",
       "  <thead>\n",
       "    <tr style=\"text-align: right;\">\n",
       "      <th></th>\n",
       "      <th>DailyTemperature</th>\n",
       "      <th>DailyAvgWindSpeed</th>\n",
       "    </tr>\n",
       "    <tr>\n",
       "      <th>DATE</th>\n",
       "      <th></th>\n",
       "      <th></th>\n",
       "    </tr>\n",
       "  </thead>\n",
       "  <tbody>\n",
       "    <tr>\n",
       "      <th>2010-09-10</th>\n",
       "      <td>66.166667</td>\n",
       "      <td>5.625000</td>\n",
       "    </tr>\n",
       "    <tr>\n",
       "      <th>2011-01-21</th>\n",
       "      <td>27.105263</td>\n",
       "      <td>7.763158</td>\n",
       "    </tr>\n",
       "    <tr>\n",
       "      <th>2015-02-01</th>\n",
       "      <td>31.233333</td>\n",
       "      <td>3.933333</td>\n",
       "    </tr>\n",
       "    <tr>\n",
       "      <th>2010-11-06</th>\n",
       "      <td>45.000000</td>\n",
       "      <td>5.291667</td>\n",
       "    </tr>\n",
       "    <tr>\n",
       "      <th>2013-10-25</th>\n",
       "      <td>46.727273</td>\n",
       "      <td>5.090909</td>\n",
       "    </tr>\n",
       "    <tr>\n",
       "      <th>2014-07-06</th>\n",
       "      <td>76.333333</td>\n",
       "      <td>4.904762</td>\n",
       "    </tr>\n",
       "    <tr>\n",
       "      <th>2012-02-10</th>\n",
       "      <td>39.500000</td>\n",
       "      <td>6.083333</td>\n",
       "    </tr>\n",
       "    <tr>\n",
       "      <th>2012-09-10</th>\n",
       "      <td>64.043478</td>\n",
       "      <td>5.130435</td>\n",
       "    </tr>\n",
       "    <tr>\n",
       "      <th>2014-12-09</th>\n",
       "      <td>39.826923</td>\n",
       "      <td>11.269231</td>\n",
       "    </tr>\n",
       "    <tr>\n",
       "      <th>2009-06-30</th>\n",
       "      <td>69.813953</td>\n",
       "      <td>4.069767</td>\n",
       "    </tr>\n",
       "  </tbody>\n",
       "</table>\n",
       "</div>"
      ],
      "text/plain": [
       "            DailyTemperature  DailyAvgWindSpeed\n",
       "DATE                                           \n",
       "2010-09-10         66.166667           5.625000\n",
       "2011-01-21         27.105263           7.763158\n",
       "2015-02-01         31.233333           3.933333\n",
       "2010-11-06         45.000000           5.291667\n",
       "2013-10-25         46.727273           5.090909\n",
       "2014-07-06         76.333333           4.904762\n",
       "2012-02-10         39.500000           6.083333\n",
       "2012-09-10         64.043478           5.130435\n",
       "2014-12-09         39.826923          11.269231\n",
       "2009-06-30         69.813953           4.069767"
      ]
     },
     "execution_count": 42,
     "metadata": {},
     "output_type": "execute_result"
    }
   ],
   "source": [
    "daydf.sample(10)"
   ]
  },
  {
   "cell_type": "markdown",
   "id": "4ecace62",
   "metadata": {},
   "source": [
    "### Hourly data"
   ]
  },
  {
   "cell_type": "code",
   "execution_count": 43,
   "id": "b23a219c",
   "metadata": {},
   "outputs": [],
   "source": [
    "hourweather=pd.DataFrame()\n",
    "hourweather=weatherdf\n",
    "hourweather['day'] = hourweather.DATE.dt.date"
   ]
  },
  {
   "cell_type": "code",
   "execution_count": 44,
   "id": "7efbdd87",
   "metadata": {},
   "outputs": [
    {
     "name": "stderr",
     "output_type": "stream",
     "text": [
      "C:\\Users\\Kunal\\AppData\\Local\\Temp\\ipykernel_14296\\127846862.py:2: SettingWithCopyWarning: \n",
      "A value is trying to be set on a copy of a slice from a DataFrame.\n",
      "Try using .loc[row_indexer,col_indexer] = value instead\n",
      "\n",
      "See the caveats in the documentation: https://pandas.pydata.org/pandas-docs/stable/user_guide/indexing.html#returning-a-view-versus-a-copy\n",
      "  hourweather['HourlyDryBulbTemperature']=pd.to_numeric(hourweather['HourlyDryBulbTemperature'], errors='coerce')\n",
      "C:\\Users\\Kunal\\AppData\\Local\\Temp\\ipykernel_14296\\127846862.py:3: SettingWithCopyWarning: \n",
      "A value is trying to be set on a copy of a slice from a DataFrame.\n",
      "Try using .loc[row_indexer,col_indexer] = value instead\n",
      "\n",
      "See the caveats in the documentation: https://pandas.pydata.org/pandas-docs/stable/user_guide/indexing.html#returning-a-view-versus-a-copy\n",
      "  hourweather['HourlyWindSpeed']=pd.to_numeric(hourweather['HourlyWindSpeed'], errors='coerce')\n",
      "C:\\Users\\Kunal\\AppData\\Local\\Temp\\ipykernel_14296\\127846862.py:4: SettingWithCopyWarning: \n",
      "A value is trying to be set on a copy of a slice from a DataFrame.\n",
      "Try using .loc[row_indexer,col_indexer] = value instead\n",
      "\n",
      "See the caveats in the documentation: https://pandas.pydata.org/pandas-docs/stable/user_guide/indexing.html#returning-a-view-versus-a-copy\n",
      "  hourweather['HourlyPrecipitation']=pd.to_numeric(hourweather['HourlyPrecipitation'], errors='coerce')\n",
      "C:\\Users\\Kunal\\AppData\\Local\\Temp\\ipykernel_14296\\127846862.py:5: SettingWithCopyWarning: \n",
      "A value is trying to be set on a copy of a slice from a DataFrame\n",
      "\n",
      "See the caveats in the documentation: https://pandas.pydata.org/pandas-docs/stable/user_guide/indexing.html#returning-a-view-versus-a-copy\n",
      "  hourweather.rename(columns={\"HourlyDryBulbTemperature\":\"HourlyTemperature\"},inplace=True)\n"
     ]
    }
   ],
   "source": [
    "hourweather=hourweather[[\"DATE\",\"HourlyDryBulbTemperature\",\"HourlyWindSpeed\",\"HourlyPrecipitation\"]]\n",
    "hourweather['HourlyDryBulbTemperature']=pd.to_numeric(hourweather['HourlyDryBulbTemperature'], errors='coerce')\n",
    "hourweather['HourlyWindSpeed']=pd.to_numeric(hourweather['HourlyWindSpeed'], errors='coerce')\n",
    "hourweather['HourlyPrecipitation']=pd.to_numeric(hourweather['HourlyPrecipitation'], errors='coerce')\n",
    "hourweather.rename(columns={\"HourlyDryBulbTemperature\":\"HourlyTemperature\"},inplace=True)"
   ]
  },
  {
   "cell_type": "code",
   "execution_count": 45,
   "id": "abb0e7ef",
   "metadata": {},
   "outputs": [
    {
     "data": {
      "text/html": [
       "<div>\n",
       "<style scoped>\n",
       "    .dataframe tbody tr th:only-of-type {\n",
       "        vertical-align: middle;\n",
       "    }\n",
       "\n",
       "    .dataframe tbody tr th {\n",
       "        vertical-align: top;\n",
       "    }\n",
       "\n",
       "    .dataframe thead th {\n",
       "        text-align: right;\n",
       "    }\n",
       "</style>\n",
       "<table border=\"1\" class=\"dataframe\">\n",
       "  <thead>\n",
       "    <tr style=\"text-align: right;\">\n",
       "      <th></th>\n",
       "      <th>DATE</th>\n",
       "      <th>HourlyTemperature</th>\n",
       "      <th>HourlyWindSpeed</th>\n",
       "      <th>HourlyPrecipitation</th>\n",
       "    </tr>\n",
       "  </thead>\n",
       "  <tbody>\n",
       "    <tr>\n",
       "      <th>0</th>\n",
       "      <td>2009-01-01 00:51:00</td>\n",
       "      <td>18.0</td>\n",
       "      <td>18.0</td>\n",
       "      <td>NaN</td>\n",
       "    </tr>\n",
       "    <tr>\n",
       "      <th>1</th>\n",
       "      <td>2009-01-01 01:51:00</td>\n",
       "      <td>18.0</td>\n",
       "      <td>18.0</td>\n",
       "      <td>NaN</td>\n",
       "    </tr>\n",
       "    <tr>\n",
       "      <th>2</th>\n",
       "      <td>2009-01-01 02:51:00</td>\n",
       "      <td>18.0</td>\n",
       "      <td>18.0</td>\n",
       "      <td>NaN</td>\n",
       "    </tr>\n",
       "    <tr>\n",
       "      <th>3</th>\n",
       "      <td>2009-01-01 03:51:00</td>\n",
       "      <td>18.0</td>\n",
       "      <td>8.0</td>\n",
       "      <td>NaN</td>\n",
       "    </tr>\n",
       "    <tr>\n",
       "      <th>4</th>\n",
       "      <td>2009-01-01 04:51:00</td>\n",
       "      <td>18.0</td>\n",
       "      <td>11.0</td>\n",
       "      <td>NaN</td>\n",
       "    </tr>\n",
       "  </tbody>\n",
       "</table>\n",
       "</div>"
      ],
      "text/plain": [
       "                 DATE  HourlyTemperature  HourlyWindSpeed  HourlyPrecipitation\n",
       "0 2009-01-01 00:51:00               18.0             18.0                  NaN\n",
       "1 2009-01-01 01:51:00               18.0             18.0                  NaN\n",
       "2 2009-01-01 02:51:00               18.0             18.0                  NaN\n",
       "3 2009-01-01 03:51:00               18.0              8.0                  NaN\n",
       "4 2009-01-01 04:51:00               18.0             11.0                  NaN"
      ]
     },
     "execution_count": 45,
     "metadata": {},
     "output_type": "execute_result"
    }
   ],
   "source": [
    "hourweather.head()"
   ]
  },
  {
   "cell_type": "code",
   "execution_count": 46,
   "id": "956bc070",
   "metadata": {},
   "outputs": [],
   "source": [
    "hourweather=hourweather.assign(DATE=hourweather.DATE.dt.round('H'))"
   ]
  },
  {
   "cell_type": "code",
   "execution_count": 47,
   "id": "fdda6abf",
   "metadata": {},
   "outputs": [],
   "source": [
    "hourdf = hourweather.groupby([hourweather['DATE']]).mean()"
   ]
  },
  {
   "cell_type": "code",
   "execution_count": 48,
   "id": "83f57d5b",
   "metadata": {},
   "outputs": [
    {
     "data": {
      "text/html": [
       "<div>\n",
       "<style scoped>\n",
       "    .dataframe tbody tr th:only-of-type {\n",
       "        vertical-align: middle;\n",
       "    }\n",
       "\n",
       "    .dataframe tbody tr th {\n",
       "        vertical-align: top;\n",
       "    }\n",
       "\n",
       "    .dataframe thead th {\n",
       "        text-align: right;\n",
       "    }\n",
       "</style>\n",
       "<table border=\"1\" class=\"dataframe\">\n",
       "  <thead>\n",
       "    <tr style=\"text-align: right;\">\n",
       "      <th></th>\n",
       "      <th>HourlyTemperature</th>\n",
       "      <th>HourlyWindSpeed</th>\n",
       "      <th>HourlyPrecipitation</th>\n",
       "    </tr>\n",
       "    <tr>\n",
       "      <th>DATE</th>\n",
       "      <th></th>\n",
       "      <th></th>\n",
       "      <th></th>\n",
       "    </tr>\n",
       "  </thead>\n",
       "  <tbody>\n",
       "    <tr>\n",
       "      <th>2009-01-01 01:00:00</th>\n",
       "      <td>18.0</td>\n",
       "      <td>18.0</td>\n",
       "      <td>NaN</td>\n",
       "    </tr>\n",
       "    <tr>\n",
       "      <th>2009-01-01 02:00:00</th>\n",
       "      <td>18.0</td>\n",
       "      <td>18.0</td>\n",
       "      <td>NaN</td>\n",
       "    </tr>\n",
       "    <tr>\n",
       "      <th>2009-01-01 03:00:00</th>\n",
       "      <td>18.0</td>\n",
       "      <td>18.0</td>\n",
       "      <td>NaN</td>\n",
       "    </tr>\n",
       "    <tr>\n",
       "      <th>2009-01-01 04:00:00</th>\n",
       "      <td>18.0</td>\n",
       "      <td>8.0</td>\n",
       "      <td>NaN</td>\n",
       "    </tr>\n",
       "    <tr>\n",
       "      <th>2009-01-01 05:00:00</th>\n",
       "      <td>18.0</td>\n",
       "      <td>11.0</td>\n",
       "      <td>NaN</td>\n",
       "    </tr>\n",
       "  </tbody>\n",
       "</table>\n",
       "</div>"
      ],
      "text/plain": [
       "                     HourlyTemperature  HourlyWindSpeed  HourlyPrecipitation\n",
       "DATE                                                                        \n",
       "2009-01-01 01:00:00               18.0             18.0                  NaN\n",
       "2009-01-01 02:00:00               18.0             18.0                  NaN\n",
       "2009-01-01 03:00:00               18.0             18.0                  NaN\n",
       "2009-01-01 04:00:00               18.0              8.0                  NaN\n",
       "2009-01-01 05:00:00               18.0             11.0                  NaN"
      ]
     },
     "execution_count": 48,
     "metadata": {},
     "output_type": "execute_result"
    }
   ],
   "source": [
    "hourdf.head()"
   ]
  },
  {
   "cell_type": "code",
   "execution_count": 49,
   "id": "3039537f",
   "metadata": {},
   "outputs": [
    {
     "data": {
      "text/html": [
       "<div>\n",
       "<style scoped>\n",
       "    .dataframe tbody tr th:only-of-type {\n",
       "        vertical-align: middle;\n",
       "    }\n",
       "\n",
       "    .dataframe tbody tr th {\n",
       "        vertical-align: top;\n",
       "    }\n",
       "\n",
       "    .dataframe thead th {\n",
       "        text-align: right;\n",
       "    }\n",
       "</style>\n",
       "<table border=\"1\" class=\"dataframe\">\n",
       "  <thead>\n",
       "    <tr style=\"text-align: right;\">\n",
       "      <th></th>\n",
       "      <th>HourlyTemperature</th>\n",
       "      <th>HourlyWindSpeed</th>\n",
       "      <th>HourlyPrecipitation</th>\n",
       "    </tr>\n",
       "    <tr>\n",
       "      <th>DATE</th>\n",
       "      <th></th>\n",
       "      <th></th>\n",
       "      <th></th>\n",
       "    </tr>\n",
       "  </thead>\n",
       "  <tbody>\n",
       "    <tr>\n",
       "      <th>2011-09-27 03:00:00</th>\n",
       "      <td>72.0</td>\n",
       "      <td>0.000000</td>\n",
       "      <td>NaN</td>\n",
       "    </tr>\n",
       "    <tr>\n",
       "      <th>2014-11-05 22:00:00</th>\n",
       "      <td>57.0</td>\n",
       "      <td>0.000000</td>\n",
       "      <td>0.00</td>\n",
       "    </tr>\n",
       "    <tr>\n",
       "      <th>2013-01-31 20:00:00</th>\n",
       "      <td>33.0</td>\n",
       "      <td>13.000000</td>\n",
       "      <td>0.00</td>\n",
       "    </tr>\n",
       "    <tr>\n",
       "      <th>2013-05-24 17:00:00</th>\n",
       "      <td>49.0</td>\n",
       "      <td>8.333333</td>\n",
       "      <td>0.02</td>\n",
       "    </tr>\n",
       "    <tr>\n",
       "      <th>2012-08-23 05:00:00</th>\n",
       "      <td>69.0</td>\n",
       "      <td>3.000000</td>\n",
       "      <td>0.00</td>\n",
       "    </tr>\n",
       "    <tr>\n",
       "      <th>2010-03-07 20:00:00</th>\n",
       "      <td>54.0</td>\n",
       "      <td>8.000000</td>\n",
       "      <td>NaN</td>\n",
       "    </tr>\n",
       "    <tr>\n",
       "      <th>2014-03-17 09:00:00</th>\n",
       "      <td>24.0</td>\n",
       "      <td>11.000000</td>\n",
       "      <td>0.00</td>\n",
       "    </tr>\n",
       "    <tr>\n",
       "      <th>2014-11-09 23:00:00</th>\n",
       "      <td>48.0</td>\n",
       "      <td>0.000000</td>\n",
       "      <td>0.00</td>\n",
       "    </tr>\n",
       "    <tr>\n",
       "      <th>2010-05-06 06:00:00</th>\n",
       "      <td>64.0</td>\n",
       "      <td>7.000000</td>\n",
       "      <td>NaN</td>\n",
       "    </tr>\n",
       "    <tr>\n",
       "      <th>2010-02-09 07:00:00</th>\n",
       "      <td>28.0</td>\n",
       "      <td>9.000000</td>\n",
       "      <td>NaN</td>\n",
       "    </tr>\n",
       "  </tbody>\n",
       "</table>\n",
       "</div>"
      ],
      "text/plain": [
       "                     HourlyTemperature  HourlyWindSpeed  HourlyPrecipitation\n",
       "DATE                                                                        \n",
       "2011-09-27 03:00:00               72.0         0.000000                  NaN\n",
       "2014-11-05 22:00:00               57.0         0.000000                 0.00\n",
       "2013-01-31 20:00:00               33.0        13.000000                 0.00\n",
       "2013-05-24 17:00:00               49.0         8.333333                 0.02\n",
       "2012-08-23 05:00:00               69.0         3.000000                 0.00\n",
       "2010-03-07 20:00:00               54.0         8.000000                  NaN\n",
       "2014-03-17 09:00:00               24.0        11.000000                 0.00\n",
       "2014-11-09 23:00:00               48.0         0.000000                 0.00\n",
       "2010-05-06 06:00:00               64.0         7.000000                  NaN\n",
       "2010-02-09 07:00:00               28.0         9.000000                  NaN"
      ]
     },
     "execution_count": 49,
     "metadata": {},
     "output_type": "execute_result"
    }
   ],
   "source": [
    "hourdf.sample(10)"
   ]
  },
  {
   "cell_type": "code",
   "execution_count": null,
   "id": "08b742c3",
   "metadata": {},
   "outputs": [],
   "source": []
  },
  {
   "cell_type": "markdown",
   "id": "74469437",
   "metadata": {},
   "source": [
    "# Part 2 - SQL - Storing Data"
   ]
  },
  {
   "cell_type": "code",
   "execution_count": 311,
   "id": "d39ad5af",
   "metadata": {},
   "outputs": [],
   "source": [
    "# first create a connection - we'll create a new database \n",
    "engine = create_engine(f\"sqlite:///f3.db\", echo=True)\n",
    "dbname=\"f3.db\""
   ]
  },
  {
   "cell_type": "code",
   "execution_count": 312,
   "id": "3b46fd27",
   "metadata": {},
   "outputs": [],
   "source": [
    "# changing the format of the log messages that sqlalchemy will\n",
    "# now print out, just for easier reading;\n",
    "# we also do this after we create an engine since the \n",
    "# logger doesn't exist beforehand\n",
    "\n",
    "sqllogger = logging.getLogger(\"sqlalchemy.engine.Engine\")\n",
    "formatter = logging.Formatter(\"[sqlalchemy] %(message)s\")\n",
    "sqllogger.handlers[0].setFormatter(formatter)"
   ]
  },
  {
   "cell_type": "code",
   "execution_count": 313,
   "id": "fa385e0a",
   "metadata": {},
   "outputs": [],
   "source": [
    "create_uber='''CREATE TABLE IF NOT EXISTS uber (\n",
    "\"index\" BIGINT, \n",
    "\"Total_Amt\" FLOAT, \n",
    "\"Trip_Pickup_DateTime\" TEXT, \n",
    "\"Start_Lon\" FLOAT, \n",
    "\"Start_Lat\" FLOAT, \n",
    "\"End_Lon\" FLOAT, \n",
    "\"End_Lat\" FLOAT, \n",
    "\"Date\" DATETIME, \n",
    "\"Distance\" FLOAT, \n",
    "\"Type\" TEXT\n",
    ");\n",
    "\n",
    "'''\n",
    "create_yellow='''\n",
    "CREATE TABLE IF NOT EXISTS yellow (\n",
    "\"index\" BIGINT, \n",
    "\"Trip_Pickup_DateTime\" TEXT, \n",
    "\"Start_Lon\" FLOAT, \n",
    "\"Start_Lat\" FLOAT, \n",
    "\"End_Lon\" FLOAT, \n",
    "\"End_Lat\" FLOAT, \n",
    "\"Tip_Amt\" FLOAT,\n",
    "\"Total_Amt\" FLOAT, \n",
    "\"Date\" DATETIME, \n",
    "\"Distance\" FLOAT, \n",
    "\"Type\" TEXT\n",
    ");\n",
    "\n",
    "'''\n",
    "\n",
    "create_hour_weather='''CREATE TABLE hourtable (\n",
    "\"DATE\" DATETIME, \n",
    "\"HourlyTemperature\" FLOAT, \n",
    "\"HourlyWindSpeed\" FLOAT, \n",
    "\"HourlyPrecipitation\" FLOAT\n",
    ");\n",
    "\n",
    "'''\n",
    "create_day_weather='''CREATE TABLE daytable (\n",
    "\"DATE\" DATE, \n",
    "\"DailyTemperature\" FLOAT, \n",
    "\"DailyAvgWindSpeed\" FLOAT\n",
    ");\n",
    "\n",
    "'''\n",
    "\n",
    "\n",
    "create_view_sandy='''CREATE VIEW IF NOT EXISTS HurricaneSandy3 AS\n",
    "    SELECT Date,\n",
    "           Count( * ) Number_of_Rides\n",
    "      FROM (\n",
    "               SELECT Date,\n",
    "                      Distance\n",
    "                 FROM (\n",
    "                          SELECT Date,\n",
    "                                 Distance\n",
    "                            FROM uber\n",
    "                          UNION ALL\n",
    "                          SELECT Date,\n",
    "                                 Distance\n",
    "                            FROM yellow\n",
    "                      )\n",
    "                WHERE Date >= '2012-10-21' AND \n",
    "                      Date <= '2012-11-03'\n",
    "           )\n",
    "     GROUP BY Date;\n",
    "     \n",
    "     '''"
   ]
  },
  {
   "cell_type": "code",
   "execution_count": 314,
   "id": "ebc19896",
   "metadata": {},
   "outputs": [],
   "source": [
    "with open(\"schema.sql\", \"w\") as f:\n",
    "    f.write(create_uber)\n",
    "    f.write(create_yellow)\n",
    "    f.write(create_hour_weather)\n",
    "    f.write(create_day_weather)\n",
    "    f.write(create_view_sandy)"
   ]
  },
  {
   "cell_type": "code",
   "execution_count": 316,
   "id": "6548db62",
   "metadata": {},
   "outputs": [],
   "source": [
    "!sqlite3 $dbname < schema.sql"
   ]
  },
  {
   "cell_type": "markdown",
   "id": "6765956f",
   "metadata": {},
   "source": [
    "### We are now writing each of the dataframes we preprocessed in the earlier section to our database with the help of sql alcehmy. We have already created the tables in the database with the schema.sql file"
   ]
  },
  {
   "cell_type": "code",
   "execution_count": null,
   "id": "826ba8e7",
   "metadata": {},
   "outputs": [],
   "source": [
    "uberdf.to_sql(\"uber\",con=engine,if_exists='append')"
   ]
  },
  {
   "cell_type": "code",
   "execution_count": 318,
   "id": "2b145dbb",
   "metadata": {},
   "outputs": [
    {
     "name": "stdout",
     "output_type": "stream",
     "text": [
      "[sqlalchemy] PRAGMA main.table_info(\"yellow\")\n",
      "[sqlalchemy] [raw sql] ()\n",
      "[sqlalchemy] BEGIN (implicit)\n",
      "[sqlalchemy] INSERT INTO yellow (\"index\", \"Trip_Pickup_DateTime\", \"Start_Lon\", \"Start_Lat\", \"End_Lon\", \"End_Lat\", \"Tip_Amt\", \"Total_Amt\", \"Date\", \"Distance\", \"Type\") VALUES (?, ?, ?, ?, ?, ?, ?, ?, ?, ?, ?)\n",
      "[sqlalchemy] [generated in 3.50986s] ((0, '2009-01-13 07:54:28', -73.96156999999998, 40.768545, -73.96364199999998, 40.774218, 0.0, 4.9, '2009-01-13 08:00:00.000000', 0.654495481292893, 'Yellow'), (1, '2009-01-22 09:02:19', -73.914399, 40.746171, -73.816812, 40.703619, 0.0, 49.3, '2009-01-22 09:00:00.000000', 9.487618881241971, 'Yellow'), (2, '2009-01-23 23:52:45', -73.874395, 40.77401, -73.981739, 40.765671, 0.0, 29.95, '2009-01-24 00:00:00.000000', 9.087111076641122, 'Yellow'), (3, '2009-01-06 18:34:58', -73.957687, 40.765477, -73.977345, 40.729237, 1.0, 12.1, '2009-01-06 19:00:00.000000', 4.356703498069769, 'Yellow'), (4, '2009-01-02 09:52:00', -74.000105, 40.761962, -73.97110999999998, 40.759072, 2.0, 9.7, '2009-01-02 10:00:00.000000', 2.463129286514783, 'Yellow'), (5, '2009-01-08 08:35:00', -73.923145, 40.74386, -73.96824499999998, 40.7514, 2.0, 12.5, '2009-01-08 09:00:00.000000', 3.890651039766242, 'Yellow'), (6, '2009-01-31 05:49:00', -73.91029, 40.761565, -73.95053799999998, 40.777337, 0.0, 15.4, '2009-01-31 06:00:00.000000', 3.8162402191936495, 'Yellow'), (7, '2009-01-21 10:06:26', -74.010729, 40.714148, -74.010986, 40.714739, 4.87, 37.37, '2009-01-21 10:00:00.000000', 0.0691939293734059, 'Yellow')  ... displaying 10 of 226373 total bound parameter sets ...  (233998, '2015-06-05 23:37:25', -73.98947143554686, 40.75696563720703, -73.9832763671875, 40.77132415771485, 0.0, 7.8, '2015-06-06 00:00:00.000000', 1.6796822916581127, 'Yellow'), (233999, '2015-06-18 22:57:15', -73.99291229248048, 40.74864196777344, -73.94766235351561, 40.83001327514648, 4.96, 29.76, '2015-06-18 23:00:00.000000', 9.81732283412083, 'Yellow'))\n",
      "[sqlalchemy] COMMIT\n"
     ]
    },
    {
     "data": {
      "text/plain": [
       "226373"
      ]
     },
     "execution_count": 318,
     "metadata": {},
     "output_type": "execute_result"
    }
   ],
   "source": [
    "yellowdf.to_sql(\"yellow\",con=engine,if_exists='append')"
   ]
  },
  {
   "cell_type": "code",
   "execution_count": 319,
   "id": "5c9d5d44",
   "metadata": {},
   "outputs": [
    {
     "name": "stdout",
     "output_type": "stream",
     "text": [
      "[sqlalchemy] PRAGMA main.table_info(\"hourweather\")\n",
      "[sqlalchemy] [raw sql] ()\n",
      "[sqlalchemy] PRAGMA temp.table_info(\"hourweather\")\n",
      "[sqlalchemy] [raw sql] ()\n",
      "[sqlalchemy] BEGIN (implicit)\n",
      "[sqlalchemy] \n",
      "CREATE TABLE hourweather (\n",
      "\t\"DATE\" DATETIME, \n",
      "\t\"HourlyTemperature\" FLOAT, \n",
      "\t\"HourlyWindSpeed\" FLOAT, \n",
      "\t\"HourlyPrecipitation\" FLOAT\n",
      ")\n",
      "\n",
      "\n",
      "[sqlalchemy] [no key 0.00076s] ()\n",
      "[sqlalchemy] CREATE INDEX \"ix_hourweather_DATE\" ON hourweather (\"DATE\")\n",
      "[sqlalchemy] [no key 0.00091s] ()\n",
      "[sqlalchemy] COMMIT\n",
      "[sqlalchemy] BEGIN (implicit)\n",
      "[sqlalchemy] INSERT INTO hourweather (\"DATE\", \"HourlyTemperature\", \"HourlyWindSpeed\", \"HourlyPrecipitation\") VALUES (?, ?, ?, ?)\n",
      "[sqlalchemy] [generated in 0.45984s] (('2009-01-01 01:00:00.000000', 18.0, 18.0, None), ('2009-01-01 02:00:00.000000', 18.0, 18.0, None), ('2009-01-01 03:00:00.000000', 18.0, 18.0, None), ('2009-01-01 04:00:00.000000', 18.0, 8.0, None), ('2009-01-01 05:00:00.000000', 18.0, 11.0, None), ('2009-01-01 06:00:00.000000', 16.0, 18.0, None), ('2009-01-01 07:00:00.000000', 16.0, 14.0, None), ('2009-01-01 08:00:00.000000', 16.0, 8.0, None)  ... displaying 10 of 56048 total bound parameter sets ...  ('2015-06-30 23:00:00.000000', 74.0, 6.0, 0.0), ('2015-07-01 00:00:00.000000', 73.0, 6.0, 0.04))\n",
      "[sqlalchemy] COMMIT\n"
     ]
    },
    {
     "data": {
      "text/plain": [
       "56048"
      ]
     },
     "execution_count": 319,
     "metadata": {},
     "output_type": "execute_result"
    }
   ],
   "source": [
    "hourdf.to_sql(\"hourweather\",con=engine,if_exists='append')"
   ]
  },
  {
   "cell_type": "code",
   "execution_count": 320,
   "id": "4c4babd9",
   "metadata": {},
   "outputs": [
    {
     "name": "stdout",
     "output_type": "stream",
     "text": [
      "[sqlalchemy] PRAGMA main.table_info(\"dayweather\")\n",
      "[sqlalchemy] [raw sql] ()\n",
      "[sqlalchemy] PRAGMA temp.table_info(\"dayweather\")\n",
      "[sqlalchemy] [raw sql] ()\n",
      "[sqlalchemy] BEGIN (implicit)\n",
      "[sqlalchemy] \n",
      "CREATE TABLE dayweather (\n",
      "\t\"DATE\" DATE, \n",
      "\t\"DailyTemperature\" FLOAT, \n",
      "\t\"DailyAvgWindSpeed\" FLOAT\n",
      ")\n",
      "\n",
      "\n",
      "[sqlalchemy] [no key 0.00071s] ()\n",
      "[sqlalchemy] CREATE INDEX \"ix_dayweather_DATE\" ON dayweather (\"DATE\")\n",
      "[sqlalchemy] [no key 0.00089s] ()\n",
      "[sqlalchemy] COMMIT\n",
      "[sqlalchemy] BEGIN (implicit)\n",
      "[sqlalchemy] INSERT INTO dayweather (\"DATE\", \"DailyTemperature\", \"DailyAvgWindSpeed\") VALUES (?, ?, ?)\n",
      "[sqlalchemy] [generated in 0.01561s] (('2009-01-01', 20.75, 11.041666666666666), ('2009-01-02', 31.322580645161292, 6.806451612903226), ('2009-01-03', 32.833333333333336, 9.875), ('2009-01-04', 33.888888888888886, 7.37037037037037), ('2009-01-05', 41.2962962962963, 6.925925925925926), ('2009-01-06', 32.62068965517241, 7.137931034482759), ('2009-01-07', 35.68421052631579, 9.842105263157896), ('2009-01-08', 34.80769230769231, 11.192307692307692)  ... displaying 10 of 2359 total bound parameter sets ...  ('2015-06-29', 70.68181818181819, 4.863636363636363), ('2015-06-30', 74.10714285714286, 5.25))\n",
      "[sqlalchemy] COMMIT\n"
     ]
    },
    {
     "data": {
      "text/plain": [
       "2359"
      ]
     },
     "execution_count": 320,
     "metadata": {},
     "output_type": "execute_result"
    }
   ],
   "source": [
    "daydf.to_sql(\"dayweather\",con=engine,if_exists='append')"
   ]
  },
  {
   "cell_type": "markdown",
   "id": "decfe91b",
   "metadata": {},
   "source": [
    "# Part 3 - SQL Queries - Understanding Data"
   ]
  },
  {
   "cell_type": "markdown",
   "id": "17bb58cf",
   "metadata": {},
   "source": [
    "### This function executes the query and saves it in a file in the sql folder"
   ]
  },
  {
   "cell_type": "code",
   "execution_count": 271,
   "id": "1a7b9e11",
   "metadata": {},
   "outputs": [],
   "source": [
    "def execute_and_write_query(query,name):\n",
    "    \n",
    "    f=open(r\"sql\\query_\" +str(name)+ \".sql\",\"w\")\n",
    "    f.write(query)\n",
    "    f.close()\n",
    "    \n",
    "    return engine.execute(query).fetchall()"
   ]
  },
  {
   "cell_type": "markdown",
   "id": "dad93379",
   "metadata": {},
   "source": [
    "### 1.   For 01-2009 through 06-2015, what hour of the day was the most popular to take a Yellow Taxi? The result should have 24 bins."
   ]
  },
  {
   "cell_type": "code",
   "execution_count": 275,
   "id": "94b1e8d1",
   "metadata": {},
   "outputs": [],
   "source": [
    "query1='''\n",
    "SELECT  strftime('%H', Date) hour,COUNT(*) total_yellow_rides\n",
    "FROM yellow\n",
    "GROUP BY hour\n",
    "ORDER BY COUNT(*) DESC'''"
   ]
  },
  {
   "cell_type": "code",
   "execution_count": 276,
   "id": "ce83079e",
   "metadata": {},
   "outputs": [
    {
     "name": "stdout",
     "output_type": "stream",
     "text": [
      "[sqlalchemy] \n",
      "SELECT  strftime('%H', Date) hour,COUNT(*) total_yellow_rides\n",
      "FROM yellow\n",
      "GROUP BY hour\n",
      "ORDER BY COUNT(*) DESC\n",
      "[sqlalchemy] [raw sql] ()\n"
     ]
    },
    {
     "data": {
      "text/plain": [
       "[('19', 14285),\n",
       " ('20', 13934),\n",
       " ('21', 12984),\n",
       " ('22', 12745),\n",
       " ('18', 12679),\n",
       " ('23', 12059),\n",
       " ('15', 11342),\n",
       " ('14', 11223),\n",
       " ('12', 11167),\n",
       " ('13', 10823),\n",
       " ('09', 10530),\n",
       " ('10', 10363),\n",
       " ('16', 10193),\n",
       " ('00', 10186),\n",
       " ('11', 10117),\n",
       " ('17', 9793),\n",
       " ('08', 9477),\n",
       " ('01', 7745),\n",
       " ('07', 6542),\n",
       " ('02', 5765),\n",
       " ('03', 4191),\n",
       " ('04', 3321),\n",
       " ('06', 2947),\n",
       " ('05', 1962)]"
      ]
     },
     "execution_count": 276,
     "metadata": {},
     "output_type": "execute_result"
    }
   ],
   "source": [
    "execute_and_write_query(query1,\"1_Most_Popular_Hour\")"
   ]
  },
  {
   "cell_type": "markdown",
   "id": "92f00b94",
   "metadata": {},
   "source": [
    "### 2. For the same time frame, what day of the week was the most popular to take an Uber? The result should have 7 bins."
   ]
  },
  {
   "cell_type": "code",
   "execution_count": 282,
   "id": "a7b1e499",
   "metadata": {},
   "outputs": [],
   "source": [
    "query2='''\n",
    "SELECT COUNT(*) Total_Uber_Rides, strftime('%w', Date) Day_of_Week\n",
    "FROM uber\n",
    "GROUP BY Day_of_Week\n",
    "ORDER BY COUNT(*) DESC'''"
   ]
  },
  {
   "cell_type": "code",
   "execution_count": 283,
   "id": "d0290232",
   "metadata": {},
   "outputs": [
    {
     "name": "stdout",
     "output_type": "stream",
     "text": [
      "[sqlalchemy] \n",
      "SELECT COUNT(*) Total_Uber_Rides, strftime('%w', Date) Day_of_Week\n",
      "FROM uber\n",
      "GROUP BY Day_of_Week\n",
      "ORDER BY COUNT(*) DESC\n",
      "[sqlalchemy] [raw sql] ()\n"
     ]
    },
    {
     "data": {
      "text/plain": [
       "[(29759, '5'),\n",
       " (29227, '6'),\n",
       " (28923, '4'),\n",
       " (28028, '3'),\n",
       " (27133, '2'),\n",
       " (26071, '0'),\n",
       " (24371, '1')]"
      ]
     },
     "execution_count": 283,
     "metadata": {},
     "output_type": "execute_result"
    }
   ],
   "source": [
    "#0-6 represent days from Sunday to Saturday\n",
    "execute_and_write_query(query2,\"2_Most_Popular_Day_Uber\")"
   ]
  },
  {
   "cell_type": "markdown",
   "id": "1b4bf161",
   "metadata": {},
   "source": [
    "### 3.What is the 95% percentile of distance traveled for all hired trips during July 2013?"
   ]
  },
  {
   "cell_type": "code",
   "execution_count": 284,
   "id": "94891d43",
   "metadata": {},
   "outputs": [],
   "source": [
    "query3='''\n",
    "WITH p AS (\n",
    "    SELECT Distance,\n",
    "           NTILE(100) OVER (ORDER BY Distance) AS percentile_bucket\n",
    "      FROM (\n",
    "               SELECT Distance\n",
    "                 FROM uber\n",
    "                WHERE Date >= '2013-07' AND \n",
    "                      Date <= '2013-08'\n",
    "               UNION ALL\n",
    "               SELECT Distance\n",
    "                 FROM yellow\n",
    "                WHERE Date >= '2013-07' AND \n",
    "                      Date <= '2013-08'\n",
    "           )\n",
    ")\n",
    "SELECT MAX(Distance) AS Distance\n",
    "  FROM p\n",
    " WHERE percentile_bucket = 95;'''"
   ]
  },
  {
   "cell_type": "code",
   "execution_count": 285,
   "id": "c27a3d03",
   "metadata": {},
   "outputs": [
    {
     "name": "stdout",
     "output_type": "stream",
     "text": [
      "[sqlalchemy] \n",
      "WITH p AS (\n",
      "    SELECT Distance,\n",
      "           NTILE(100) OVER (ORDER BY Distance) AS percentile_bucket\n",
      "      FROM (\n",
      "               SELECT Distance\n",
      "                 FROM uber\n",
      "                WHERE Date >= '2013-07' AND \n",
      "                      Date <= '2013-08'\n",
      "               UNION ALL\n",
      "               SELECT Distance\n",
      "                 FROM yellow\n",
      "                WHERE Date >= '2013-07' AND \n",
      "                      Date <= '2013-08'\n",
      "           )\n",
      ")\n",
      "SELECT MAX(Distance) AS Distance\n",
      "  FROM p\n",
      " WHERE percentile_bucket = 95;\n",
      "[sqlalchemy] [raw sql] ()\n"
     ]
    },
    {
     "data": {
      "text/plain": [
       "[(10.21608572432051,)]"
      ]
     },
     "execution_count": 285,
     "metadata": {},
     "output_type": "execute_result"
    }
   ],
   "source": [
    "#Dividing the data in 20 buckets with each having 5 %ile \n",
    "#The 19th bucket will correspond to 95 %ile\n",
    "execute_and_write_query(query3,\"3_95_Percentile\")"
   ]
  },
  {
   "cell_type": "markdown",
   "id": "8d81a405",
   "metadata": {},
   "source": [
    "### 4.What were the top 10 days with the highest number of hired rides for 2009, and what was the average distance for each day?"
   ]
  },
  {
   "cell_type": "code",
   "execution_count": 286,
   "id": "bccb768e",
   "metadata": {},
   "outputs": [],
   "source": [
    "query4='''\n",
    "Select COUNT(Distance) Rides,AVG(Distance) Average_Distance,strftime('%Y-%m-%d', Date) Date\n",
    "from (SELECT Distance,Date FROM uber WHERE strftime('%Y', Date) IN('2009') UNION ALL \n",
    "SELECT Distance,Date FROM yellow WHERE strftime('%Y', Date) IN('2009')) \n",
    "GROUP BY strftime('%Y-%m-%d', Date) ORDER BY Rides DESC LIMIT 10\n",
    "'''"
   ]
  },
  {
   "cell_type": "code",
   "execution_count": 288,
   "id": "129b287c",
   "metadata": {
    "scrolled": true
   },
   "outputs": [
    {
     "name": "stdout",
     "output_type": "stream",
     "text": [
      "[sqlalchemy] \n",
      "Select COUNT(Distance) Rides,AVG(Distance) Average_Distance,strftime('%Y-%m-%d', Date) Date\n",
      "from (SELECT Distance,Date FROM uber WHERE strftime('%Y', Date) IN('2009') UNION ALL \n",
      "SELECT Distance,Date FROM yellow WHERE strftime('%Y', Date) IN('2009')) \n",
      "GROUP BY strftime('%Y-%m-%d', Date) ORDER BY Rides DESC LIMIT 10\n",
      "\n",
      "[sqlalchemy] [raw sql] ()\n"
     ]
    },
    {
     "data": {
      "text/plain": [
       "[(259, 3.3600973680036885, '2009-12-11'),\n",
       " (232, 2.792622867915958, '2009-01-24'),\n",
       " (229, 3.0433766790373444, '2009-11-07'),\n",
       " (228, 2.6602590094018863, '2009-02-20'),\n",
       " (226, 2.459683685993068, '2009-02-12'),\n",
       " (225, 3.4167465702804254, '2009-11-06'),\n",
       " (223, 3.3236647207557257, '2009-09-12'),\n",
       " (222, 3.507321072353886, '2009-04-18'),\n",
       " (222, 2.943716124851853, '2009-01-09'),\n",
       " (221, 3.4108612558827947, '2009-07-09')]"
      ]
     },
     "execution_count": 288,
     "metadata": {},
     "output_type": "execute_result"
    }
   ],
   "source": [
    "execute_and_write_query(query4,\"4_Average_Distance_2009\")"
   ]
  },
  {
   "cell_type": "markdown",
   "id": "022486b7",
   "metadata": {},
   "source": [
    "### 5. Which 10 days in 2014 were the windiest on average, and how many hired trips were made on those days?"
   ]
  },
  {
   "cell_type": "code",
   "execution_count": 291,
   "id": "d5075a8c",
   "metadata": {},
   "outputs": [],
   "source": [
    "query5='''\n",
    "SELECT COUNT(*) Number_of_Rides,Date as Windiest_Dates from (SELECT Distance,strftime('%Y-%m-%d', Date) Date from uber UNION ALL Select Distance,strftime('%Y-%m-%d', Date) Date from yellow) WHERE Date\n",
    "IN(SELECT strftime('%Y-%m-%d', Date) Day \n",
    "from dayweather ORDER BY DailyAvgWindSpeed DESC LIMIT 10) GROUP BY Date;\n",
    "'''"
   ]
  },
  {
   "cell_type": "code",
   "execution_count": 292,
   "id": "f90ed20c",
   "metadata": {},
   "outputs": [
    {
     "name": "stdout",
     "output_type": "stream",
     "text": [
      "[sqlalchemy] \n",
      "SELECT COUNT(*) Number_of_Rides,Date as Windiest_Dates from (SELECT Distance,strftime('%Y-%m-%d', Date) Date from uber UNION ALL Select Distance,strftime('%Y-%m-%d', Date) Date from yellow) WHERE Date\n",
      "IN(SELECT strftime('%Y-%m-%d', Date) Day \n",
      "from dayweather ORDER BY DailyAvgWindSpeed DESC LIMIT 10) GROUP BY Date;\n",
      "\n",
      "[sqlalchemy] [raw sql] ()\n"
     ]
    },
    {
     "data": {
      "text/plain": [
       "[(220, '2009-04-04'),\n",
       " (198, '2009-11-13'),\n",
       " (106, '2010-02-06'),\n",
       " (254, '2010-03-13'),\n",
       " (24, '2010-12-27'),\n",
       " (237, '2011-02-19'),\n",
       " (181, '2012-02-25'),\n",
       " (44, '2012-10-29'),\n",
       " (158, '2012-12-26'),\n",
       " (195, '2013-03-06')]"
      ]
     },
     "execution_count": 292,
     "metadata": {},
     "output_type": "execute_result"
    }
   ],
   "source": [
    "execute_and_write_query(query5,\"5_Windiest_Days\")"
   ]
  },
  {
   "cell_type": "markdown",
   "id": "9abfa5e7",
   "metadata": {},
   "source": [
    "### 6. During Hurricane Sandy in NYC (Oct 29-30, 2012), plus the week leading up and the week after, how many trips were taken each hour, and for each hour, how much precipitation did NYC receive and what was the sustained wind speed? There should be an entry for every single hour, even if no rides were taken, no precipitation was measured, or there was no wind."
   ]
  },
  {
   "cell_type": "markdown",
   "id": "562b9f85",
   "metadata": {},
   "source": [
    "- We use the VIEW HurricaneSandy3 we created earlier in the schema.sql which was as below\n",
    "\n",
    "``` mysql\n",
    "CREATE VIEW IF NOT EXISTS HurricaneSandy3 AS\n",
    "    SELECT Date,\n",
    "           Count( * ) Number_of_Rides\n",
    "      FROM (\n",
    "               SELECT Date,\n",
    "                      Distance\n",
    "                 FROM (\n",
    "                          SELECT Date,\n",
    "                                 Distance\n",
    "                            FROM uber\n",
    "                          UNION ALL\n",
    "                          SELECT Date,\n",
    "                                 Distance\n",
    "                            FROM yellow\n",
    "                      )\n",
    "                WHERE Date >= '2012-10-21' AND \n",
    "                      Date <= '2012-11-03'\n",
    "           )\n",
    "     GROUP BY Date;\n",
    "```"
   ]
  },
  {
   "cell_type": "code",
   "execution_count": 79,
   "id": "ac8c5f7e",
   "metadata": {},
   "outputs": [],
   "source": [
    "query6='''\n",
    "SELECT strftime('%Y-%m-%d Hour %H', HurricaneSandy3.Date) Date_Hour,\n",
    "       Number_of_Rides,\n",
    "       hourweather.HourlyWindSpeed AS Sustained_Wind_Speed,\n",
    "       hourweather.HourlyPrecipitation AS Hourly_Precipitation\n",
    "  FROM HurricaneSandy3\n",
    "       LEFT JOIN\n",
    "       hourweather ON hourweather.DATE = HurricaneSandy3.Date;\n",
    "'''"
   ]
  },
  {
   "cell_type": "code",
   "execution_count": 293,
   "id": "4b8a4d53",
   "metadata": {},
   "outputs": [
    {
     "name": "stdout",
     "output_type": "stream",
     "text": [
      "[sqlalchemy] \n",
      "SELECT strftime('%Y-%m-%d Hour %H', HurricaneSandy3.Date) Date_Hour,\n",
      "       Number_of_Rides,\n",
      "       hourweather.HourlyWindSpeed AS Sustained_Wind_Speed,\n",
      "       hourweather.HourlyPrecipitation AS Hourly_Precipitation\n",
      "  FROM HurricaneSandy3\n",
      "       LEFT JOIN\n",
      "       hourweather ON hourweather.DATE = HurricaneSandy3.Date;\n",
      "\n",
      "[sqlalchemy] [raw sql] ()\n"
     ]
    },
    {
     "data": {
      "text/plain": [
       "[('2012-10-21 Hour 00', 13, None, 0.0),\n",
       " ('2012-10-21 Hour 01', 17, 5.0, 0.0),\n",
       " ('2012-10-21 Hour 02', 14, 6.0, 0.0),\n",
       " ('2012-10-21 Hour 03', 7, 6.0, 0.0),\n",
       " ('2012-10-21 Hour 04', 5, 6.0, 0.0),\n",
       " ('2012-10-21 Hour 05', 2, 6.0, 0.0),\n",
       " ('2012-10-21 Hour 06', 1, 6.0, 0.0),\n",
       " ('2012-10-21 Hour 07', 3, 0.0, 0.0),\n",
       " ('2012-10-21 Hour 08', 2, 5.0, 0.0),\n",
       " ('2012-10-21 Hour 09', 4, 8.0, 0.0),\n",
       " ('2012-10-21 Hour 10', 3, 8.0, 0.0),\n",
       " ('2012-10-21 Hour 11', 13, 8.0, 0.0),\n",
       " ('2012-10-21 Hour 12', 8, 9.0, 0.0),\n",
       " ('2012-10-21 Hour 13', 10, None, 0.0),\n",
       " ('2012-10-21 Hour 14', 11, 5.0, 0.0),\n",
       " ('2012-10-21 Hour 15', 10, 9.0, 0.0),\n",
       " ('2012-10-21 Hour 16', 11, 5.0, 0.0),\n",
       " ('2012-10-21 Hour 17', 7, None, 0.0),\n",
       " ('2012-10-21 Hour 18', 11, 3.0, 0.0),\n",
       " ('2012-10-21 Hour 19', 12, 7.0, 0.0),\n",
       " ('2012-10-21 Hour 20', 10, 5.0, 0.0),\n",
       " ('2012-10-21 Hour 21', 6, 7.0, 0.0),\n",
       " ('2012-10-21 Hour 22', 5, 9.0, 0.0),\n",
       " ('2012-10-21 Hour 23', 4, 5.0, 0.0),\n",
       " ('2012-10-22 Hour 00', 4, 5.0, 0.0),\n",
       " ('2012-10-22 Hour 01', 1, 7.0, 0.0),\n",
       " ('2012-10-22 Hour 02', 2, 5.0, 0.0),\n",
       " ('2012-10-22 Hour 03', 2, 7.0, 0.0),\n",
       " ('2012-10-22 Hour 04', 2, 0.0, 0.0),\n",
       " ('2012-10-22 Hour 05', 1, 0.0, 0.0),\n",
       " ('2012-10-22 Hour 06', 3, 0.0, 0.0),\n",
       " ('2012-10-22 Hour 07', 7, 5.0, 0.0),\n",
       " ('2012-10-22 Hour 08', 9, 3.0, 0.0),\n",
       " ('2012-10-22 Hour 09', 7, 3.0, 0.0),\n",
       " ('2012-10-22 Hour 10', 4, 5.0, 0.0),\n",
       " ('2012-10-22 Hour 11', 5, None, 0.0),\n",
       " ('2012-10-22 Hour 12', 12, None, 0.0),\n",
       " ('2012-10-22 Hour 13', 7, 11.0, 0.0),\n",
       " ('2012-10-22 Hour 14', 12, None, 0.0),\n",
       " ('2012-10-22 Hour 15', 7, 7.0, 0.0),\n",
       " ('2012-10-22 Hour 16', 7, 6.0, 0.0),\n",
       " ('2012-10-22 Hour 17', 7, 3.0, 0.0),\n",
       " ('2012-10-22 Hour 18', 14, 7.0, 0.0),\n",
       " ('2012-10-22 Hour 19', 10, 5.0, 0.0),\n",
       " ('2012-10-22 Hour 20', 6, 5.0, 0.0),\n",
       " ('2012-10-22 Hour 21', 10, 3.0, 0.0),\n",
       " ('2012-10-22 Hour 22', 9, 0.0, 0.0),\n",
       " ('2012-10-22 Hour 23', 4, 3.0, 0.0),\n",
       " ('2012-10-23 Hour 00', 4, 3.0, 0.0),\n",
       " ('2012-10-23 Hour 01', 1, 3.0, None),\n",
       " ('2012-10-23 Hour 02', 1, 0.0, None),\n",
       " ('2012-10-23 Hour 03', 1, 3.0, None),\n",
       " ('2012-10-23 Hour 05', 1, 3.0, None),\n",
       " ('2012-10-23 Hour 06', 6, 0.0, None),\n",
       " ('2012-10-23 Hour 07', 8, 0.0, None),\n",
       " ('2012-10-23 Hour 08', 22, 0.0, None),\n",
       " ('2012-10-23 Hour 09', 10, 0.0, None),\n",
       " ('2012-10-23 Hour 10', 8, 3.0, None),\n",
       " ('2012-10-23 Hour 11', 14, 0.0, None),\n",
       " ('2012-10-23 Hour 12', 15, 3.0, None),\n",
       " ('2012-10-23 Hour 13', 6, 0.0, None),\n",
       " ('2012-10-23 Hour 14', 15, None, None),\n",
       " ('2012-10-23 Hour 15', 11, None, None),\n",
       " ('2012-10-23 Hour 16', 12, None, None),\n",
       " ('2012-10-23 Hour 17', 8, 3.0, None),\n",
       " ('2012-10-23 Hour 18', 15, None, None),\n",
       " ('2012-10-23 Hour 19', 11, 5.0, None),\n",
       " ('2012-10-23 Hour 20', 11, 0.0, None),\n",
       " ('2012-10-23 Hour 21', 15, 0.0, 0.02),\n",
       " ('2012-10-23 Hour 22', 10, 5.0, None),\n",
       " ('2012-10-23 Hour 23', 10, 0.0, 0.01),\n",
       " ('2012-10-24 Hour 00', 2, 5.0, None),\n",
       " ('2012-10-24 Hour 01', 1, 3.0, 0.0),\n",
       " ('2012-10-24 Hour 02', 2, 5.333333333333333, 0.0),\n",
       " ('2012-10-24 Hour 03', 4, 6.0, 0.0),\n",
       " ('2012-10-24 Hour 04', 1, 7.0, 0.0),\n",
       " ('2012-10-24 Hour 05', 2, 7.0, 0.0),\n",
       " ('2012-10-24 Hour 06', 1, 6.0, 0.0),\n",
       " ('2012-10-24 Hour 07', 4, 4.333333333333333, 0.0),\n",
       " ('2012-10-24 Hour 08', 5, 0.0, None),\n",
       " ('2012-10-24 Hour 09', 5, 0.0, None),\n",
       " ('2012-10-24 Hour 10', 11, 3.0, None),\n",
       " ('2012-10-24 Hour 11', 6, 7.0, 0.0),\n",
       " ('2012-10-24 Hour 12', 8, 7.5, 0.0),\n",
       " ('2012-10-24 Hour 13', 13, 7.0, None),\n",
       " ('2012-10-24 Hour 14', 7, 7.0, 0.0),\n",
       " ('2012-10-24 Hour 15', 4, 7.0, 0.0),\n",
       " ('2012-10-24 Hour 16', 6, 7.0, 0.0),\n",
       " ('2012-10-24 Hour 17', 8, 8.0, 0.0),\n",
       " ('2012-10-24 Hour 18', 13, 5.0, 0.0),\n",
       " ('2012-10-24 Hour 19', 10, 7.0, 0.0),\n",
       " ('2012-10-24 Hour 20', 20, 8.0, 0.0),\n",
       " ('2012-10-24 Hour 21', 15, 1.5, 0.0),\n",
       " ('2012-10-24 Hour 22', 9, 4.333333333333333, 0.0),\n",
       " ('2012-10-24 Hour 23', 10, 6.0, 0.0),\n",
       " ('2012-10-25 Hour 00', 12, 3.0, 0.0),\n",
       " ('2012-10-25 Hour 01', 7, 3.0, 0.0),\n",
       " ('2012-10-25 Hour 02', 3, 3.0, 0.0),\n",
       " ('2012-10-25 Hour 04', 2, 7.0, 0.0),\n",
       " ('2012-10-25 Hour 05', 2, 6.0, 0.0),\n",
       " ('2012-10-25 Hour 06', 3, 0.0, 0.0),\n",
       " ('2012-10-25 Hour 07', 4, 5.0, 0.0),\n",
       " ('2012-10-25 Hour 08', 12, 6.0, 0.0),\n",
       " ('2012-10-25 Hour 09', 10, 5.0, 0.0),\n",
       " ('2012-10-25 Hour 10', 7, 3.0, 0.0),\n",
       " ('2012-10-25 Hour 11', 12, 6.0, 0.0),\n",
       " ('2012-10-25 Hour 12', 15, 0.0, 0.0),\n",
       " ('2012-10-25 Hour 13', 5, 6.0, 0.0),\n",
       " ('2012-10-25 Hour 14', 15, 0.0, 0.0),\n",
       " ('2012-10-25 Hour 15', 4, 5.0, 0.0),\n",
       " ('2012-10-25 Hour 16', 4, 5.0, 0.0),\n",
       " ('2012-10-25 Hour 17', 4, 0.0, 0.0),\n",
       " ('2012-10-25 Hour 18', 9, 3.0, 0.0),\n",
       " ('2012-10-25 Hour 19', 10, 0.0, 0.0),\n",
       " ('2012-10-25 Hour 20', 20, 0.0, 0.0),\n",
       " ('2012-10-25 Hour 21', 13, 3.0, 0.0),\n",
       " ('2012-10-25 Hour 22', 14, 3.0, 0.0),\n",
       " ('2012-10-25 Hour 23', 9, 3.0, 0.0),\n",
       " ('2012-10-26 Hour 00', 6, 0.0, 0.0),\n",
       " ('2012-10-26 Hour 01', 4, 4.0, 0.0),\n",
       " ('2012-10-26 Hour 02', 6, 0.0, 0.0),\n",
       " ('2012-10-26 Hour 03', 5, 0.0, 0.0),\n",
       " ('2012-10-26 Hour 04', 3, 3.0, 0.0),\n",
       " ('2012-10-26 Hour 05', 2, 0.0, 0.0),\n",
       " ('2012-10-26 Hour 07', 6, 0.0, 0.0),\n",
       " ('2012-10-26 Hour 08', 7, 3.0, 0.0),\n",
       " ('2012-10-26 Hour 09', 7, 3.0, 0.0),\n",
       " ('2012-10-26 Hour 10', 8, 3.0, 0.0),\n",
       " ('2012-10-26 Hour 11', 10, 3.0, 0.0),\n",
       " ('2012-10-26 Hour 12', 7, 3.0, 0.0),\n",
       " ('2012-10-26 Hour 13', 9, 0.0, 0.0),\n",
       " ('2012-10-26 Hour 14', 10, 3.0, 0.0),\n",
       " ('2012-10-26 Hour 15', 11, 3.0, 0.0),\n",
       " ('2012-10-26 Hour 16', 6, 0.0, 0.0),\n",
       " ('2012-10-26 Hour 17', 7, 0.0, 0.0),\n",
       " ('2012-10-26 Hour 18', 9, 0.0, 0.0),\n",
       " ('2012-10-26 Hour 19', 16, 0.0, 0.0),\n",
       " ('2012-10-26 Hour 20', 15, 0.0, 0.0),\n",
       " ('2012-10-26 Hour 21', 9, 3.0, 0.0),\n",
       " ('2012-10-26 Hour 22', 17, 3.0, 0.0),\n",
       " ('2012-10-26 Hour 23', 15, 0.0, 0.0),\n",
       " ('2012-10-27 Hour 00', 7, 0.0, 0.0),\n",
       " ('2012-10-27 Hour 01', 15, 3.0, 0.0),\n",
       " ('2012-10-27 Hour 02', 9, 0.0, 0.0),\n",
       " ('2012-10-27 Hour 03', 8, 3.0, 0.0),\n",
       " ('2012-10-27 Hour 04', 4, 0.0, 0.0),\n",
       " ('2012-10-27 Hour 05', 2, 6.0, 0.0),\n",
       " ('2012-10-27 Hour 06', 1, 6.0, 0.0),\n",
       " ('2012-10-27 Hour 07', 5, 5.5, 0.0),\n",
       " ('2012-10-27 Hour 09', 4, 8.0, 0.0),\n",
       " ('2012-10-27 Hour 10', 6, 6.0, 0.0),\n",
       " ('2012-10-27 Hour 11', 4, 6.5, 0.0),\n",
       " ('2012-10-27 Hour 12', 11, 6.5, 0.0),\n",
       " ('2012-10-27 Hour 13', 10, 8.0, 0.0),\n",
       " ('2012-10-27 Hour 14', 4, 8.0, 0.0),\n",
       " ('2012-10-27 Hour 15', 7, 10.0, 0.0),\n",
       " ('2012-10-27 Hour 16', 7, 10.0, 0.0),\n",
       " ('2012-10-27 Hour 17', 10, 7.0, 0.0),\n",
       " ('2012-10-27 Hour 18', 19, 7.0, 0.0),\n",
       " ('2012-10-27 Hour 19', 10, 7.333333333333333, 0.0),\n",
       " ('2012-10-27 Hour 20', 12, 9.0, 0.0),\n",
       " ('2012-10-27 Hour 21', 18, 7.0, 0.0),\n",
       " ('2012-10-27 Hour 22', 10, 9.0, 0.0),\n",
       " ('2012-10-27 Hour 23', 18, 9.0, 0.0),\n",
       " ('2012-10-28 Hour 00', 16, 8.0, 0.0),\n",
       " ('2012-10-28 Hour 01', 13, 11.0, 0.0),\n",
       " ('2012-10-28 Hour 02', 13, 8.0, 0.0),\n",
       " ('2012-10-28 Hour 03', 10, 8.0, 0.0),\n",
       " ('2012-10-28 Hour 04', 10, 9.0, 0.0),\n",
       " ('2012-10-28 Hour 05', 4, 10.0, 0.0),\n",
       " ('2012-10-28 Hour 06', 3, 10.5, 0.0),\n",
       " ('2012-10-28 Hour 07', 2, 10.0, 0.0),\n",
       " ('2012-10-28 Hour 08', 3, 11.0, 0.0),\n",
       " ('2012-10-28 Hour 09', 4, 11.0, 0.0),\n",
       " ('2012-10-28 Hour 10', 9, 11.0, 0.0),\n",
       " ('2012-10-28 Hour 11', 12, 10.0, 0.0),\n",
       " ('2012-10-28 Hour 12', 11, 8.0, 0.0),\n",
       " ('2012-10-28 Hour 13', 10, 7.0, 0.0),\n",
       " ('2012-10-28 Hour 14', 7, 13.0, 0.0),\n",
       " ('2012-10-28 Hour 15', 12, 13.0, 0.0),\n",
       " ('2012-10-28 Hour 16', 8, 13.0, 0.0),\n",
       " ('2012-10-28 Hour 17', 12, 16.0, 0.0),\n",
       " ('2012-10-28 Hour 18', 7, 11.0, 0.0),\n",
       " ('2012-10-28 Hour 19', 8, 15.0, 0.0),\n",
       " ('2012-10-28 Hour 20', 5, 14.0, 0.0),\n",
       " ('2012-10-28 Hour 21', 4, 16.0, 0.0),\n",
       " ('2012-10-28 Hour 22', 7, 14.0, 0.0),\n",
       " ('2012-10-28 Hour 23', 5, 16.0, 0.0),\n",
       " ('2012-10-29 Hour 00', 1, 14.0, 0.0),\n",
       " ('2012-10-29 Hour 01', 1, 16.0, 0.0),\n",
       " ('2012-10-29 Hour 02', 1, 11.0, 0.0),\n",
       " ('2012-10-29 Hour 03', 1, 13.0, 0.0),\n",
       " ('2012-10-29 Hour 05', 1, 15.0, 0.0),\n",
       " ('2012-10-29 Hour 07', 2, 16.0, 0.02),\n",
       " ('2012-10-29 Hour 08', 4, 17.0, 0.02),\n",
       " ('2012-10-29 Hour 09', 5, 21.0, None),\n",
       " ('2012-10-29 Hour 10', 1, 16.0, 0.0),\n",
       " ('2012-10-29 Hour 11', 3, 18.0, 0.015),\n",
       " ('2012-10-29 Hour 12', 7, 17.6, 0.035),\n",
       " ('2012-10-29 Hour 13', 2, 21.0, 0.055),\n",
       " ('2012-10-29 Hour 14', 3, 26.666666666666668, 0.03),\n",
       " ('2012-10-29 Hour 15', 2, 26.75, 0.03333333333333333),\n",
       " ('2012-10-29 Hour 16', 2, 25.0, 0.09),\n",
       " ('2012-10-29 Hour 17', 2, 24.2, 0.078),\n",
       " ('2012-10-29 Hour 18', 3, 21.333333333333332, 0.049999999999999996),\n",
       " ('2012-10-29 Hour 21', 2, 17.0, None),\n",
       " ('2012-10-29 Hour 22', 1, 15.0, 0.0),\n",
       " ('2012-10-30 Hour 00', 1, 11.666666666666666, 0.075),\n",
       " ('2012-10-30 Hour 04', 1, 17.0, 0.04),\n",
       " ('2012-10-30 Hour 07', 1, 7.0, 0.01),\n",
       " ('2012-10-30 Hour 08', 1, 8.5, 0.030000000000000002),\n",
       " ('2012-10-30 Hour 09', 2, None, 0.05),\n",
       " ('2012-10-30 Hour 10', 3, 10.8, 0.039999999999999994),\n",
       " ('2012-10-30 Hour 11', 9, 6.0, 0.02),\n",
       " ('2012-10-30 Hour 12', 4, 7.0, 0.0),\n",
       " ('2012-10-30 Hour 13', 5, 7.666666666666667, 0.0),\n",
       " ('2012-10-30 Hour 14', 3, 5.5, 0.0),\n",
       " ('2012-10-30 Hour 15', 6, None, None),\n",
       " ('2012-10-30 Hour 16', 3, 3.0, 0.01),\n",
       " ('2012-10-30 Hour 17', 4, 5.666666666666667, 0.01),\n",
       " ('2012-10-30 Hour 18', 6, 5.0, 0.0),\n",
       " ('2012-10-30 Hour 19', 9, 5.0, 0.0),\n",
       " ('2012-10-30 Hour 20', 4, 1.5, 0.0),\n",
       " ('2012-10-30 Hour 21', 3, 7.0, 0.0),\n",
       " ('2012-10-30 Hour 22', 5, 5.0, 0.0),\n",
       " ('2012-10-30 Hour 23', 5, 6.0, 0.0),\n",
       " ('2012-10-31 Hour 00', 2, 9.0, 0.0),\n",
       " ('2012-10-31 Hour 02', 2, 5.0, 0.01),\n",
       " ('2012-10-31 Hour 03', 2, 0.0, None),\n",
       " ('2012-10-31 Hour 06', 4, 0.0, 0.0),\n",
       " ('2012-10-31 Hour 07', 7, 6.0, 0.0),\n",
       " ('2012-10-31 Hour 08', 1, 7.0, 0.0),\n",
       " ('2012-10-31 Hour 09', 4, 8.5, 0.0),\n",
       " ('2012-10-31 Hour 10', 5, 7.0, 0.0),\n",
       " ('2012-10-31 Hour 11', 9, 4.0, 0.0),\n",
       " ('2012-10-31 Hour 12', 7, 7.0, 0.0),\n",
       " ('2012-10-31 Hour 13', 3, 3.0, 0.0),\n",
       " ('2012-10-31 Hour 14', 8, 6.0, 0.0),\n",
       " ('2012-10-31 Hour 15', 8, 5.0, 0.0),\n",
       " ('2012-10-31 Hour 16', 5, 3.0, 0.0),\n",
       " ('2012-10-31 Hour 17', 10, 5.0, 0.0),\n",
       " ('2012-10-31 Hour 18', 6, 5.0, 0.0),\n",
       " ('2012-10-31 Hour 19', 6, 3.0, 0.0),\n",
       " ('2012-10-31 Hour 20', 6, 9.0, 0.0),\n",
       " ('2012-10-31 Hour 21', 6, 7.0, 0.0),\n",
       " ('2012-10-31 Hour 22', 8, 7.0, 0.0),\n",
       " ('2012-10-31 Hour 23', 3, 6.0, 0.0),\n",
       " ('2012-11-01 Hour 00', 1, 3.0, 0.0),\n",
       " ('2012-11-01 Hour 01', 4, 3.0, 0.0),\n",
       " ('2012-11-01 Hour 02', 1, 3.0, 0.0),\n",
       " ('2012-11-01 Hour 03', 2, 3.0, 0.0),\n",
       " ('2012-11-01 Hour 05', 3, 7.0, 0.0),\n",
       " ('2012-11-01 Hour 07', 3, 13.0, 0.0),\n",
       " ('2012-11-01 Hour 08', 2, None, 0.0),\n",
       " ('2012-11-01 Hour 09', 5, 7.0, 0.0),\n",
       " ('2012-11-01 Hour 10', 6, 3.0, 0.0),\n",
       " ('2012-11-01 Hour 11', 6, 6.0, 0.0),\n",
       " ('2012-11-01 Hour 12', 13, 6.0, 0.0),\n",
       " ('2012-11-01 Hour 13', 7, 11.0, 0.0),\n",
       " ('2012-11-01 Hour 14', 6, 8.0, 0.0),\n",
       " ('2012-11-01 Hour 15', 4, 8.0, 0.0),\n",
       " ('2012-11-01 Hour 16', 4, None, 0.0),\n",
       " ('2012-11-01 Hour 17', 7, 5.0, 0.0),\n",
       " ('2012-11-01 Hour 18', 5, 5.0, 0.0),\n",
       " ('2012-11-01 Hour 19', 12, 9.0, 0.0),\n",
       " ('2012-11-01 Hour 20', 5, 3.0, 0.0),\n",
       " ('2012-11-01 Hour 21', 8, 5.0, 0.0),\n",
       " ('2012-11-01 Hour 22', 2, 8.0, 0.0),\n",
       " ('2012-11-01 Hour 23', 7, 5.0, 0.0),\n",
       " ('2012-11-02 Hour 00', 7, 0.0, 0.0),\n",
       " ('2012-11-02 Hour 01', 4, 5.0, 0.0),\n",
       " ('2012-11-02 Hour 02', 1, 7.0, 0.0),\n",
       " ('2012-11-02 Hour 03', 2, 3.0, 0.0),\n",
       " ('2012-11-02 Hour 04', 1, 3.0, 0.0),\n",
       " ('2012-11-02 Hour 05', 3, 5.0, 0.0),\n",
       " ('2012-11-02 Hour 06', 2, 5.0, 0.0),\n",
       " ('2012-11-02 Hour 07', 1, 6.0, 0.0),\n",
       " ('2012-11-02 Hour 08', 9, None, 0.0),\n",
       " ('2012-11-02 Hour 09', 5, 5.0, 0.0),\n",
       " ('2012-11-02 Hour 10', 2, 7.0, 0.0),\n",
       " ('2012-11-02 Hour 11', 4, 9.0, 0.0),\n",
       " ('2012-11-02 Hour 12', 7, 7.0, 0.0),\n",
       " ('2012-11-02 Hour 13', 5, 7.0, 0.0),\n",
       " ('2012-11-02 Hour 14', 7, 6.0, 0.0),\n",
       " ('2012-11-02 Hour 15', 7, 6.0, 0.0),\n",
       " ('2012-11-02 Hour 16', 5, 5.0, 0.0),\n",
       " ('2012-11-02 Hour 17', 8, 11.0, 0.0),\n",
       " ('2012-11-02 Hour 18', 4, 8.0, 0.0),\n",
       " ('2012-11-02 Hour 19', 9, 9.0, 0.0),\n",
       " ('2012-11-02 Hour 20', 8, 7.0, 0.0),\n",
       " ('2012-11-02 Hour 21', 9, 9.0, 0.0),\n",
       " ('2012-11-02 Hour 22', 9, 7.0, 0.0),\n",
       " ('2012-11-02 Hour 23', 7, 8.0, 0.0)]"
      ]
     },
     "execution_count": 293,
     "metadata": {},
     "output_type": "execute_result"
    }
   ],
   "source": [
    "execute_and_write_query(query6,\"6_Hurricane_Sandy\")"
   ]
  },
  {
   "cell_type": "markdown",
   "id": "b1b6d5f0",
   "metadata": {},
   "source": [
    "# Part 4: Visualizing the Data"
   ]
  },
  {
   "cell_type": "markdown",
   "id": "53ac2903",
   "metadata": {},
   "source": [
    "### 1. Creating an appropriate visualization for 01-2009 through 06-2015, what hour of the day was the most popular to take a Yellow Taxi? The result should have 24 bins."
   ]
  },
  {
   "cell_type": "code",
   "execution_count": 262,
   "id": "9cacaca9",
   "metadata": {},
   "outputs": [],
   "source": [
    "query1='''\n",
    "SELECT  strftime('%H', Date) hour,COUNT(*) total_yellow_rides\n",
    "FROM yellow\n",
    "GROUP BY hour\n",
    "ORDER BY COUNT(*) DESC'''"
   ]
  },
  {
   "cell_type": "code",
   "execution_count": 263,
   "id": "ab5b7d11",
   "metadata": {},
   "outputs": [
    {
     "name": "stdout",
     "output_type": "stream",
     "text": [
      "[sqlalchemy] PRAGMA main.table_info(\"\n",
      "SELECT  strftime('%H', Date) hour,COUNT(*) total_yellow_rides\n",
      "FROM yellow\n",
      "GROUP BY hour\n",
      "ORDER BY COUNT(*) DESC\")\n",
      "[sqlalchemy] [raw sql] ()\n",
      "[sqlalchemy] PRAGMA temp.table_info(\"\n",
      "SELECT  strftime('%H', Date) hour,COUNT(*) total_yellow_rides\n",
      "FROM yellow\n",
      "GROUP BY hour\n",
      "ORDER BY COUNT(*) DESC\")\n",
      "[sqlalchemy] [raw sql] ()\n",
      "[sqlalchemy] \n",
      "SELECT  strftime('%H', Date) hour,COUNT(*) total_yellow_rides\n",
      "FROM yellow\n",
      "GROUP BY hour\n",
      "ORDER BY COUNT(*) DESC\n",
      "[sqlalchemy] [raw sql] ()\n"
     ]
    }
   ],
   "source": [
    "dfvis1=pd.read_sql(query1,con=engine)"
   ]
  },
  {
   "cell_type": "code",
   "execution_count": 264,
   "id": "510830bc",
   "metadata": {},
   "outputs": [],
   "source": [
    "def plot_visual_1(dfvis1):\n",
    "\n",
    "    fig, ax = plt.subplots(figsize=(15, 10))\n",
    "    hours = dfvis1[\"hour\"]\n",
    "    rides = dfvis1[\"total_yellow_rides\"]\n",
    "    ax.bar(hours,rides)\n",
    "    plt.xticks(fontsize=14)\n",
    "    plt.yticks(fontsize=14)\n",
    "    ax.set_xlabel('Hour',fontsize=18)\n",
    "    ax.set_ylabel('Number of Rides',fontsize=18)\n",
    "    ax.set_title(\"Bar Chart showing hours of the day with most yellow taxi rides in descending order\",fontsize=18)\n",
    "    plt.show()"
   ]
  },
  {
   "cell_type": "code",
   "execution_count": 265,
   "id": "2c2f6f83",
   "metadata": {},
   "outputs": [
    {
     "data": {
      "image/png": "[encoded data removed]",
      "text/plain": [
       "<Figure size 1080x720 with 1 Axes>"
      ]
     },
     "metadata": {
      "needs_background": "light"
     },
     "output_type": "display_data"
    }
   ],
   "source": [
    "plot_visual_1(dfvis1)"
   ]
  },
  {
   "cell_type": "markdown",
   "id": "3193b197",
   "metadata": {},
   "source": [
    "### 2. Create a visualization that shows the average distance traveled per month (regardless of year - so group by each month) for both taxis and Ubers combined. Include the 90% confidence interval around the mean in the visualization.\n"
   ]
  },
  {
   "cell_type": "code",
   "execution_count": 259,
   "id": "5439e889",
   "metadata": {},
   "outputs": [
    {
     "name": "stdout",
     "output_type": "stream",
     "text": [
      "[sqlalchemy] PRAGMA main.table_info(\"Select Distance,Date from uber\")\n",
      "[sqlalchemy] [raw sql] ()\n",
      "[sqlalchemy] PRAGMA temp.table_info(\"Select Distance,Date from uber\")\n",
      "[sqlalchemy] [raw sql] ()\n",
      "[sqlalchemy] Select Distance,Date from uber\n",
      "[sqlalchemy] [raw sql] ()\n",
      "[sqlalchemy] PRAGMA main.table_info(\"Select Distance,Date from yellow\")\n",
      "[sqlalchemy] [raw sql] ()\n",
      "[sqlalchemy] PRAGMA temp.table_info(\"Select Distance,Date from yellow\")\n",
      "[sqlalchemy] [raw sql] ()\n",
      "[sqlalchemy] Select Distance,Date from yellow\n",
      "[sqlalchemy] [raw sql] ()\n"
     ]
    },
    {
     "name": "stderr",
     "output_type": "stream",
     "text": [
      "C:\\Users\\Kunal\\AppData\\Local\\Temp\\ipykernel_14296\\3810796568.py:3: FutureWarning: The frame.append method is deprecated and will be removed from pandas in a future version. Use pandas.concat instead.\n",
      "  df_combined=df_uber.append(df_yellow)\n"
     ]
    }
   ],
   "source": [
    "df_uber=pd.read_sql(\"Select Distance,Date from uber\",con=engine)\n",
    "df_yellow=pd.read_sql(\"Select Distance,Date from yellow\",con=engine)\n",
    "df_combined=df_uber.append(df_yellow)"
   ]
  },
  {
   "cell_type": "code",
   "execution_count": 260,
   "id": "430efeec",
   "metadata": {},
   "outputs": [],
   "source": [
    "def plot_visual_2(df_combined):\n",
    "\n",
    "    \n",
    "    dfvis2=df_combined[[\"Distance\",\"Date\"]]\n",
    "\n",
    "    dfvis2[\"Date\"]=dfvis2[\"Date\"].astype('datetime64')\n",
    "    dfvis2=dfvis2[[\"Distance\",\"Date\"]].groupby(dfvis2.Date.dt.month).mean()\n",
    "\n",
    "    fig, ax = plt.subplots(figsize=(15, 10))\n",
    "    x = [\"Jan\", \"Feb\", \"Mar\", \"Apr\", \"May\", \"Jun\", \"Jul\", \"Aug\", \"Sep\", \"Oct\", \"Nov\", \"Dec\"]\n",
    "    y = dfvis2[\"Distance\"]\n",
    "    # Define the confidence interval\n",
    "    ci = 0.1 * np.std(y) / np.mean(y)\n",
    "    # Plot the sinus function\n",
    "    plt.plot(x, y,color='blue',label=\"Average Distance(mean)\")\n",
    "    # Plot the confidence interval\n",
    "    plt.fill_between(x, (y-ci), (y+ci), color='red', alpha=0.9,label=\"90% Confidence Interval from the Average\")\n",
    "\n",
    "    plt.xticks(fontsize=14)\n",
    "    plt.yticks(fontsize=14)\n",
    "    ax.set_xlabel('Month',fontsize=18)\n",
    "    ax.set_ylabel('Average Distance',fontsize=18)\n",
    "    ax.set_title(\"Average Distance for Each Month with 90% Confidence Interval\",fontsize=18)\n",
    "\n",
    "\n",
    "    plt.legend(loc=\"upper left\",fontsize=11)\n",
    "\n",
    "\n",
    "    plt.show()"
   ]
  },
  {
   "cell_type": "code",
   "execution_count": 261,
   "id": "e0ff85f2",
   "metadata": {},
   "outputs": [
    {
     "data": {
      "image/png": "[encoded data removed]",
      "text/plain": [
       "<Figure size 1080x720 with 1 Axes>"
      ]
     },
     "metadata": {
      "needs_background": "light"
     },
     "output_type": "display_data"
    }
   ],
   "source": [
    "plot_visual_2(df_combined)"
   ]
  },
  {
   "cell_type": "markdown",
   "id": "75c51327",
   "metadata": {},
   "source": [
    "### 3. Define three lat/long coordinate boxes around the three major New York airports: LGA, JFK, and EWR (you can use bboxfinder to help). Create a visualization that compares what day of the week was most popular for drop offs for each airport."
   ]
  },
  {
   "cell_type": "code",
   "execution_count": 247,
   "id": "2e2e06a4",
   "metadata": {},
   "outputs": [],
   "source": [
    "def inside_airport(dataframe,airport_box):\n",
    "    dataframe = dataframe[ (dataframe['End_Lat'] >= airport_box[1]) & (dataframe['End_Lat'] <= airport_box[3])]\n",
    "    dataframe = dataframe[ (dataframe['End_Lon'] >= airport_box[0]) & (dataframe['End_Lon'] <= airport_box[2])]\n",
    "    return dataframe"
   ]
  },
  {
   "cell_type": "code",
   "execution_count": 248,
   "id": "c681da8c",
   "metadata": {},
   "outputs": [],
   "source": [
    "def clean_airport_data(df_airport):\n",
    "    df_airport['Date']=df_airport['Date'].astype('datetime64')\n",
    "    df_airport=df_airport.groupby(df_airport.Date.dt.dayofweek).count()\n",
    "    df_airport[\"Day_Of_Week\"]=df_airport.index\n",
    "    df_airport[\"Count\"]=df_airport[\"Date\"]\n",
    "    df_airport.drop(columns=[\"Date\",\"Start_Lon\",\"Start_Lat\",\"End_Lon\",\"End_Lat\"],inplace=True)\n",
    "    return df_airport   "
   ]
  },
  {
   "cell_type": "code",
   "execution_count": 249,
   "id": "4525785b",
   "metadata": {},
   "outputs": [
    {
     "name": "stdout",
     "output_type": "stream",
     "text": [
      "[sqlalchemy] PRAGMA main.table_info(\"Select Date,Start_Lon,Start_Lat,End_Lon,End_Lat from uber\")\n",
      "[sqlalchemy] [raw sql] ()\n",
      "[sqlalchemy] PRAGMA temp.table_info(\"Select Date,Start_Lon,Start_Lat,End_Lon,End_Lat from uber\")\n",
      "[sqlalchemy] [raw sql] ()\n",
      "[sqlalchemy] Select Date,Start_Lon,Start_Lat,End_Lon,End_Lat from uber\n",
      "[sqlalchemy] [raw sql] ()\n",
      "[sqlalchemy] PRAGMA main.table_info(\"Select Date,Start_Lon,Start_Lat,End_Lon,End_Lat from yellow\")\n",
      "[sqlalchemy] [raw sql] ()\n",
      "[sqlalchemy] PRAGMA temp.table_info(\"Select Date,Start_Lon,Start_Lat,End_Lon,End_Lat from yellow\")\n",
      "[sqlalchemy] [raw sql] ()\n",
      "[sqlalchemy] Select Date,Start_Lon,Start_Lat,End_Lon,End_Lat from yellow\n",
      "[sqlalchemy] [raw sql] ()\n"
     ]
    },
    {
     "name": "stderr",
     "output_type": "stream",
     "text": [
      "C:\\Users\\Kunal\\AppData\\Local\\Temp\\ipykernel_14296\\575971554.py:3: FutureWarning: The frame.append method is deprecated and will be removed from pandas in a future version. Use pandas.concat instead.\n",
      "  df_combined=df_uber.append(df_yellow)\n"
     ]
    }
   ],
   "source": [
    "df_uber=pd.read_sql(\"Select Date,Start_Lon,Start_Lat,End_Lon,End_Lat from uber\",con=engine)\n",
    "df_yellow=pd.read_sql(\"Select Date,Start_Lon,Start_Lat,End_Lon,End_Lat from yellow\",con=engine)\n",
    "df_combined=df_uber.append(df_yellow)"
   ]
  },
  {
   "cell_type": "code",
   "execution_count": 253,
   "id": "7bc73588",
   "metadata": {},
   "outputs": [],
   "source": [
    "def plot_visual_3(df_combined):\n",
    "\n",
    "    \n",
    "    df_vis3_temp=df_combined\n",
    "    df_newark=inside_airport(df_vis3_temp,newark_box)\n",
    "    df_laguardia=inside_airport(df_vis3_temp,laguardia_box)\n",
    "    df_jfk=inside_airport(df_vis3_temp,jfk_box)\n",
    "\n",
    "    df_jfk=clean_airport_data(df_jfk)\n",
    "    df_newark=clean_airport_data(df_newark)\n",
    "    df_laguardia=clean_airport_data(df_laguardia)\n",
    "\n",
    "    tags = [\"Sun\",\"Mon\",\"Tue\",\"Wed\",\"Thu\",\"Fri\",\"Sat\"]\n",
    "    df = pd.DataFrame({\"Newark\": tuple(df_newark[\"Count\"]), \"Laguardia\": tuple(df_laguardia['Count']), \"JFK\": tuple(df_jfk['Count'])}, index=tags)\n",
    "    df.plot.bar(rot=0, figsize=(12, 5),xlabel='Day of Week', ylabel='Number of Rides', title='Daywise Number of Rides ending at each airport')\n",
    "    plt.tight_layout() \n",
    "    plt.show()"
   ]
  },
  {
   "cell_type": "code",
   "execution_count": 254,
   "id": "966566c0",
   "metadata": {},
   "outputs": [
    {
     "data": {
      "image/png": "[encoded data removed]",
      "text/plain": [
       "<Figure size 864x360 with 1 Axes>"
      ]
     },
     "metadata": {
      "needs_background": "light"
     },
     "output_type": "display_data"
    }
   ],
   "source": [
    "plot_visual_3(df_combined)"
   ]
  },
  {
   "cell_type": "markdown",
   "id": "a84331a2",
   "metadata": {},
   "source": [
    "### 4. Create a heatmap of all hired trips over a map of the area. Consider using KeplerGL or another library that helps generate geospatial visualizations.\n"
   ]
  },
  {
   "cell_type": "code",
   "execution_count": 101,
   "id": "870806e8",
   "metadata": {},
   "outputs": [],
   "source": [
    "# !pip install keplergl\n",
    "# !jupyter nbextension install --py --sys-prefix keplergl\n",
    "# !jupyter nbextension enable --py --sys-prefix keplergl"
   ]
  },
  {
   "cell_type": "code",
   "execution_count": 210,
   "id": "aa07aeb4",
   "metadata": {},
   "outputs": [
    {
     "data": {
      "text/plain": [
       "419885"
      ]
     },
     "execution_count": 210,
     "metadata": {},
     "output_type": "execute_result"
    }
   ],
   "source": [
    "len(df_combined)"
   ]
  },
  {
   "cell_type": "code",
   "execution_count": 211,
   "id": "b201b40d",
   "metadata": {},
   "outputs": [
    {
     "name": "stdout",
     "output_type": "stream",
     "text": [
      "[sqlalchemy] PRAGMA main.table_info(\"Select Date,Start_Lon,Start_Lat,End_Lon,End_Lat  from uber\")\n",
      "[sqlalchemy] [raw sql] ()\n",
      "[sqlalchemy] PRAGMA temp.table_info(\"Select Date,Start_Lon,Start_Lat,End_Lon,End_Lat  from uber\")\n",
      "[sqlalchemy] [raw sql] ()\n",
      "[sqlalchemy] Select Date,Start_Lon,Start_Lat,End_Lon,End_Lat  from uber\n",
      "[sqlalchemy] [raw sql] ()\n",
      "[sqlalchemy] PRAGMA main.table_info(\"Select Date,Start_Lon,Start_Lat,End_Lon,End_Lat  from yellow\")\n",
      "[sqlalchemy] [raw sql] ()\n",
      "[sqlalchemy] PRAGMA temp.table_info(\"Select Date,Start_Lon,Start_Lat,End_Lon,End_Lat  from yellow\")\n",
      "[sqlalchemy] [raw sql] ()\n",
      "[sqlalchemy] Select Date,Start_Lon,Start_Lat,End_Lon,End_Lat  from yellow\n",
      "[sqlalchemy] [raw sql] ()\n"
     ]
    },
    {
     "name": "stderr",
     "output_type": "stream",
     "text": [
      "C:\\Users\\Kunal\\AppData\\Local\\Temp\\ipykernel_14296\\2269989058.py:3: FutureWarning: The frame.append method is deprecated and will be removed from pandas in a future version. Use pandas.concat instead.\n",
      "  df_combined=df_uber.append(df_yellow)\n"
     ]
    }
   ],
   "source": [
    "df_uber=pd.read_sql(\"Select Date,Start_Lon,Start_Lat,End_Lon,End_Lat  from uber\",con=engine)\n",
    "df_yellow=pd.read_sql(\"Select Date,Start_Lon,Start_Lat,End_Lon,End_Lat  from yellow\",con=engine)\n",
    "df_combined=df_uber.append(df_yellow)"
   ]
  },
  {
   "cell_type": "code",
   "execution_count": 212,
   "id": "c81a8f83",
   "metadata": {},
   "outputs": [],
   "source": [
    "config1={'version': 'v1',\n",
    " 'config': {'visState': {'filters': [],\n",
    "   'layers': [{'id': '5ubthn',\n",
    "     'type': 'heatmap',\n",
    "     'config': {'dataId': 'New York City Taxi Trips',\n",
    "      'label': 'start',\n",
    "      'color': [18, 147, 154],\n",
    "      'highlightColor': [252, 242, 26, 255],\n",
    "      'columns': {'lat': 'Start_Lat', 'lng': 'Start_Lon'},\n",
    "      'isVisible': True,\n",
    "      'visConfig': {'opacity': 0.8,\n",
    "       'colorRange': {'name': 'Global Warming',\n",
    "        'type': 'sequential',\n",
    "        'category': 'Uber',\n",
    "        'colors': ['#5A1846',\n",
    "         '#900C3F',\n",
    "         '#C70039',\n",
    "         '#E3611C',\n",
    "         '#F1920E',\n",
    "         '#FFC300']},\n",
    "       'radius': 10},\n",
    "      'hidden': False,\n",
    "      'textLabel': [{'field': None,\n",
    "        'color': [255, 255, 255],\n",
    "        'size': 18,\n",
    "        'offset': [0, 0],\n",
    "        'anchor': 'start',\n",
    "        'alignment': 'center'}]},\n",
    "     'visualChannels': {'weightField': None, 'weightScale': 'linear'}},\n",
    "    {'id': '61sipgk',\n",
    "     'type': 'point',\n",
    "     'config': {'dataId': 'New York City Taxi Trips',\n",
    "      'label': 'end',\n",
    "      'color': [221, 178, 124],\n",
    "      'highlightColor': [252, 242, 26, 255],\n",
    "      'columns': {'lat': 'End_Lat', 'lng': 'End_Lon', 'altitude': None},\n",
    "      'isVisible': False,\n",
    "      'visConfig': {'radius': 10,\n",
    "       'fixedRadius': False,\n",
    "       'opacity': 0.8,\n",
    "       'outline': False,\n",
    "       'thickness': 2,\n",
    "       'strokeColor': None,\n",
    "       'colorRange': {'name': 'Global Warming',\n",
    "        'type': 'sequential',\n",
    "        'category': 'Uber',\n",
    "        'colors': ['#5A1846',\n",
    "         '#900C3F',\n",
    "         '#C70039',\n",
    "         '#E3611C',\n",
    "         '#F1920E',\n",
    "         '#FFC300']},\n",
    "       'strokeColorRange': {'name': 'Global Warming',\n",
    "        'type': 'sequential',\n",
    "        'category': 'Uber',\n",
    "        'colors': ['#5A1846',\n",
    "         '#900C3F',\n",
    "         '#C70039',\n",
    "         '#E3611C',\n",
    "         '#F1920E',\n",
    "         '#FFC300']},\n",
    "       'radiusRange': [0, 50],\n",
    "       'filled': True},\n",
    "      'hidden': False,\n",
    "      'textLabel': [{'field': None,\n",
    "        'color': [255, 255, 255],\n",
    "        'size': 18,\n",
    "        'offset': [0, 0],\n",
    "        'anchor': 'start',\n",
    "        'alignment': 'center'}]},\n",
    "     'visualChannels': {'colorField': None,\n",
    "      'colorScale': 'quantile',\n",
    "      'strokeColorField': None,\n",
    "      'strokeColorScale': 'quantile',\n",
    "      'sizeField': None,\n",
    "      'sizeScale': 'linear'}},\n",
    "    {'id': '1qcteg',\n",
    "     'type': 'arc',\n",
    "     'config': {'dataId': 'New York City Taxi Trips',\n",
    "      'label': 'start -> end arc',\n",
    "      'color': [146, 38, 198],\n",
    "      'highlightColor': [252, 242, 26, 255],\n",
    "      'columns': {'lat0': 'Start_Lat',\n",
    "       'lng0': 'Start_Lon',\n",
    "       'lat1': 'End_Lat',\n",
    "       'lng1': 'End_Lon'},\n",
    "      'isVisible': False,\n",
    "      'visConfig': {'opacity': 0.8,\n",
    "       'thickness': 2,\n",
    "       'colorRange': {'name': 'Global Warming',\n",
    "        'type': 'sequential',\n",
    "        'category': 'Uber',\n",
    "        'colors': ['#5A1846',\n",
    "         '#900C3F',\n",
    "         '#C70039',\n",
    "         '#E3611C',\n",
    "         '#F1920E',\n",
    "         '#FFC300']},\n",
    "       'sizeRange': [0, 10],\n",
    "       'targetColor': None},\n",
    "      'hidden': False,\n",
    "      'textLabel': [{'field': None,\n",
    "        'color': [255, 255, 255],\n",
    "        'size': 18,\n",
    "        'offset': [0, 0],\n",
    "        'anchor': 'start',\n",
    "        'alignment': 'center'}]},\n",
    "     'visualChannels': {'colorField': None,\n",
    "      'colorScale': 'quantile',\n",
    "      'sizeField': None,\n",
    "      'sizeScale': 'linear'}},\n",
    "    {'id': 'e57dwbw',\n",
    "     'type': 'line',\n",
    "     'config': {'dataId': 'New York City Taxi Trips',\n",
    "      'label': 'start -> end line',\n",
    "      'color': [136, 87, 44],\n",
    "      'highlightColor': [252, 242, 26, 255],\n",
    "      'columns': {'lat0': 'Start_Lat',\n",
    "       'lng0': 'Start_Lon',\n",
    "       'lat1': 'End_Lat',\n",
    "       'lng1': 'End_Lon',\n",
    "       'alt0': None,\n",
    "       'alt1': None},\n",
    "      'isVisible': False,\n",
    "      'visConfig': {'opacity': 0.8,\n",
    "       'thickness': 2,\n",
    "       'colorRange': {'name': 'Global Warming',\n",
    "        'type': 'sequential',\n",
    "        'category': 'Uber',\n",
    "        'colors': ['#5A1846',\n",
    "         '#900C3F',\n",
    "         '#C70039',\n",
    "         '#E3611C',\n",
    "         '#F1920E',\n",
    "         '#FFC300']},\n",
    "       'sizeRange': [0, 10],\n",
    "       'targetColor': None,\n",
    "       'elevationScale': 1},\n",
    "      'hidden': False,\n",
    "      'textLabel': [{'field': None,\n",
    "        'color': [255, 255, 255],\n",
    "        'size': 18,\n",
    "        'offset': [0, 0],\n",
    "        'anchor': 'start',\n",
    "        'alignment': 'center'}]},\n",
    "     'visualChannels': {'colorField': None,\n",
    "      'colorScale': 'quantile',\n",
    "      'sizeField': None,\n",
    "      'sizeScale': 'linear'}}],\n",
    "   'interactionConfig': {'tooltip': {'fieldsToShow': {'New York City Taxi Trips': [{'name': 'Date',\n",
    "        'format': None},\n",
    "       {'name': 'Start_Lon', 'format': None},\n",
    "       {'name': 'Start_Lat', 'format': None},\n",
    "       {'name': 'End_Lon', 'format': None},\n",
    "       {'name': 'End_Lat', 'format': None}]},\n",
    "     'compareMode': False,\n",
    "     'compareType': 'absolute',\n",
    "     'enabled': True},\n",
    "    'brush': {'size': 0.5, 'enabled': False},\n",
    "    'geocoder': {'enabled': False},\n",
    "    'coordinate': {'enabled': False}},\n",
    "   'layerBlending': 'normal',\n",
    "   'splitMaps': [],\n",
    "   'animationConfig': {'currentTime': None, 'speed': 1}},\n",
    "  'mapState': {'bearing': 0,\n",
    "   'dragRotate': False,\n",
    "   'latitude': 40.7535153683857,\n",
    "   'longitude': -73.92178320729087,\n",
    "   'pitch': 0,\n",
    "   'zoom': 11.273086327374635,\n",
    "   'isSplit': False},\n",
    "  'mapStyle': {'styleType': 'dark',\n",
    "   'topLayerGroups': {},\n",
    "   'visibleLayerGroups': {'label': True,\n",
    "    'road': True,\n",
    "    'border': False,\n",
    "    'building': True,\n",
    "    'water': True,\n",
    "    'land': True,\n",
    "    '3d building': False},\n",
    "   'threeDBuildingColor': [9.665468314072013,\n",
    "    17.18305478057247,\n",
    "    31.1442867897876],\n",
    "   'mapStyles': {}}}}"
   ]
  },
  {
   "cell_type": "code",
   "execution_count": 217,
   "id": "396ed800",
   "metadata": {},
   "outputs": [],
   "source": [
    "def plot_visual_4(config1,df_combined):\n",
    "\n",
    "    map_1 = KeplerGl(height=700,config=config1)\n",
    "    dfkepler=pd.read_csv(\"keplertestdata.csv\")\n",
    "    df_combined_sub=df_combined.sample(10000)\n",
    "    map_1.add_data(data=df_combined_sub,name='New York City Taxi Trips')\n",
    "    return map_1"
   ]
  },
  {
   "cell_type": "code",
   "execution_count": 218,
   "id": "318c3c8e",
   "metadata": {},
   "outputs": [
    {
     "name": "stdout",
     "output_type": "stream",
     "text": [
      "User Guide: https://docs.kepler.gl/docs/keplergl-jupyter\n"
     ]
    },
    {
     "data": {
      "application/vnd.jupyter.widget-view+json": {
       "model_id": "ea1482f6e24c4af4ab69a2e58301ccbc",
       "version_major": 2,
       "version_minor": 0
      },
      "text/plain": [
       "KeplerGl(config={'version': 'v1', 'config': {'visState': {'filters': [], 'layers': [{'id': '5ubthn', 'type': '…"
      ]
     },
     "metadata": {},
     "output_type": "display_data"
    }
   ],
   "source": [
    "plot_visual_4(config1,df_combined)"
   ]
  },
  {
   "cell_type": "markdown",
   "id": "89d788a3",
   "metadata": {},
   "source": [
    "### 5. Create a scatter plot that compares tip amount versus distance for Yellow Taxi rides. You may remove any outliers how you see fit."
   ]
  },
  {
   "cell_type": "code",
   "execution_count": 107,
   "id": "6f8ecb6b",
   "metadata": {},
   "outputs": [
    {
     "name": "stdout",
     "output_type": "stream",
     "text": [
      "[sqlalchemy] PRAGMA main.table_info(\"Select * from yellow\")\n",
      "[sqlalchemy] [raw sql] ()\n",
      "[sqlalchemy] PRAGMA temp.table_info(\"Select * from yellow\")\n",
      "[sqlalchemy] [raw sql] ()\n",
      "[sqlalchemy] Select * from yellow\n",
      "[sqlalchemy] [raw sql] ()\n"
     ]
    }
   ],
   "source": [
    "dfvis5=pd.read_sql(\"Select * from yellow\",con=engine)"
   ]
  },
  {
   "cell_type": "code",
   "execution_count": 208,
   "id": "344dc554",
   "metadata": {},
   "outputs": [],
   "source": [
    "def plot_visual_5(dfvis5):\n",
    "\n",
    "\n",
    "    dfvis5=dfvis5[dfvis5[\"Tip_Amt\"]!=0]\n",
    "    dfvis5=dfvis5[dfvis5[\"Tip_Amt\"]<=15]\n",
    "    dfvis5=dfvis5[dfvis5[\"Distance\"]!=0]\n",
    "    dfvis5=dfvis5[dfvis5[\"Distance\"] <= 25]\n",
    "    dfvis5=dfvis5\n",
    "\n",
    "    dfvis5sample=dfvis5\n",
    "    fig, ax = plt.subplots(figsize=(15, 10))\n",
    "    x = dfvis5sample[\"Distance\"]\n",
    "    y = dfvis5sample[\"Tip_Amt\"]\n",
    "\n",
    "    plt.xticks(fontsize=14)\n",
    "    plt.yticks(fontsize=14)\n",
    "    ax.set_xlabel('Distance(in km)',fontsize=18)\n",
    "    ax.set_ylabel('Tip Amount(in USD)',fontsize=18)\n",
    "    ax.set_title(\"Tip Amount v/s Distance\",fontsize=18)\n",
    "\n",
    "\n",
    "    plt.scatter(x, y)\n",
    "\n",
    "    plt.show()"
   ]
  },
  {
   "cell_type": "code",
   "execution_count": 209,
   "id": "f56b9638",
   "metadata": {},
   "outputs": [
    {
     "data": {
      "image/png": "[encoded data removed]",
      "text/plain": [
       "<Figure size 1080x720 with 1 Axes>"
      ]
     },
     "metadata": {
      "needs_background": "light"
     },
     "output_type": "display_data"
    }
   ],
   "source": [
    "plot_visual_5(dfvis5)"
   ]
  },
  {
   "cell_type": "markdown",
   "id": "5827ea01",
   "metadata": {},
   "source": [
    "### 6. Create another scatter plot that compares tip amount versus precipitation amount for Yellow Taxi rides. You may remove any outliers how you see fit."
   ]
  },
  {
   "cell_type": "code",
   "execution_count": 205,
   "id": "3564bca7",
   "metadata": {},
   "outputs": [
    {
     "name": "stdout",
     "output_type": "stream",
     "text": [
      "[sqlalchemy] PRAGMA main.table_info(\"Select * from yellow\")\n",
      "[sqlalchemy] [raw sql] ()\n",
      "[sqlalchemy] PRAGMA temp.table_info(\"Select * from yellow\")\n",
      "[sqlalchemy] [raw sql] ()\n",
      "[sqlalchemy] Select * from yellow\n",
      "[sqlalchemy] [raw sql] ()\n",
      "[sqlalchemy] PRAGMA main.table_info(\"Select * from hourweather\")\n",
      "[sqlalchemy] [raw sql] ()\n",
      "[sqlalchemy] PRAGMA temp.table_info(\"Select * from hourweather\")\n",
      "[sqlalchemy] [raw sql] ()\n",
      "[sqlalchemy] Select * from hourweather\n",
      "[sqlalchemy] [raw sql] ()\n"
     ]
    }
   ],
   "source": [
    "df_yellow=pd.read_sql(\"Select * from yellow\",con=engine)\n",
    "df_hourly=pd.read_sql(\"Select * from hourweather\",con=engine)"
   ]
  },
  {
   "cell_type": "code",
   "execution_count": 206,
   "id": "3d535d2a",
   "metadata": {},
   "outputs": [],
   "source": [
    "def plot_visual_6(df_yellow, df_hourly):\n",
    "\n",
    "    df_yellow=df_yellow[[\"Date\",\"Tip_Amt\",\"Distance\"]]\n",
    "    dfvis6 = pd.merge(df_yellow, df_hourly, how='inner', left_on = 'Date', right_on = 'DATE')\n",
    "    dfvis6=dfvis6[dfvis6[\"Tip_Amt\"]!=0]\n",
    "    dfvis6=dfvis6[dfvis6[\"HourlyPrecipitation\"]!=0]\n",
    "    dfvis6=dfvis6[dfvis6[\"HourlyPrecipitation\"]<=0.5]\n",
    "    dfvis6=dfvis6[dfvis6[\"Tip_Amt\"]<=15]\n",
    "    dfvis6=dfvis6[dfvis6[\"Distance\"]!=0]\n",
    "    dfvis6=dfvis6[dfvis6[\"Distance\"] <= 25]\n",
    "\n",
    "\n",
    "    dfvis6sample=dfvis6\n",
    "    fig, ax = plt.subplots(figsize=(15, 10))\n",
    "    x = dfvis6sample[\"HourlyPrecipitation\"]\n",
    "    y = dfvis6sample[\"Tip_Amt\"]\n",
    "\n",
    "    plt.xticks(fontsize=14)\n",
    "    plt.yticks(fontsize=14)\n",
    "    ax.set_xlabel('HourlyPrecipitation',fontsize=18)\n",
    "    ax.set_ylabel('Tip Amount',fontsize=18)\n",
    "    ax.set_title(\"Tip Amount v/s Hourly Precipitation\",fontsize=18)\n",
    "\n",
    "\n",
    "    plt.scatter(x, y)\n",
    "\n",
    "    plt.show()"
   ]
  },
  {
   "cell_type": "code",
   "execution_count": 207,
   "id": "86188705",
   "metadata": {},
   "outputs": [
    {
     "data": {
      "image/png": "[encoded data removed]",
      "text/plain": [
       "<Figure size 1080x720 with 1 Axes>"
      ]
     },
     "metadata": {
      "needs_background": "light"
     },
     "output_type": "display_data"
    }
   ],
   "source": [
    "plot_visual_6(df_yellow, df_hourly)"
   ]
  },
  {
   "cell_type": "markdown",
   "id": "41d250a8",
   "metadata": {},
   "source": [
    "### 7. Come up with 3 questions on your own that can be answered based on the data in the 4 tables. Create at least one visualization to answer each question. At least one visualization should require data from at least 3 tables.\n"
   ]
  },
  {
   "cell_type": "markdown",
   "id": "35a30d1d",
   "metadata": {},
   "source": [
    "### 7.1 Creating scatter plot that compares Total amount versus Distance for Uber Taxi rides."
   ]
  },
  {
   "cell_type": "code",
   "execution_count": 196,
   "id": "f9032bd8",
   "metadata": {},
   "outputs": [
    {
     "name": "stdout",
     "output_type": "stream",
     "text": [
      "[sqlalchemy] PRAGMA main.table_info(\"Select Distance,Total_Amt from uber\")\n",
      "[sqlalchemy] [raw sql] ()\n",
      "[sqlalchemy] PRAGMA temp.table_info(\"Select Distance,Total_Amt from uber\")\n",
      "[sqlalchemy] [raw sql] ()\n",
      "[sqlalchemy] Select Distance,Total_Amt from uber\n",
      "[sqlalchemy] [raw sql] ()\n"
     ]
    }
   ],
   "source": [
    "df_uber=pd.read_sql(\"Select Distance,Total_Amt from uber\",con=engine)"
   ]
  },
  {
   "cell_type": "code",
   "execution_count": 198,
   "id": "b7674be7",
   "metadata": {},
   "outputs": [],
   "source": [
    "def plot_visual_7_1(df_uber):\n",
    "    \n",
    "    df_uber=df_uber[df_uber[\"Total_Amt\"]!=0]\n",
    "    df_uber=df_uber[df_uber[\"Total_Amt\"]>=0]\n",
    "    df_uber=df_uber[df_uber[\"Total_Amt\"]<=100]\n",
    "\n",
    "    fig, ax = plt.subplots(figsize=(12, 10))\n",
    "    x = df_uber[\"Distance\"]\n",
    "    y = df_uber[\"Total_Amt\"]\n",
    "    plt.scatter(x, y)\n",
    "    plt.show()"
   ]
  },
  {
   "cell_type": "code",
   "execution_count": 199,
   "id": "72fb1902",
   "metadata": {},
   "outputs": [
    {
     "data": {
      "image/png": "[encoded data removed]",
      "text/plain": [
       "<Figure size 864x720 with 1 Axes>"
      ]
     },
     "metadata": {
      "needs_background": "light"
     },
     "output_type": "display_data"
    }
   ],
   "source": [
    "plot_visual_7_1(df_uber)"
   ]
  },
  {
   "cell_type": "markdown",
   "id": "2028b61d",
   "metadata": {},
   "source": [
    "### 7.2 Visualize growth of average taxi fares over the years"
   ]
  },
  {
   "cell_type": "code",
   "execution_count": 187,
   "id": "c944e7c4",
   "metadata": {},
   "outputs": [
    {
     "name": "stdout",
     "output_type": "stream",
     "text": [
      "[sqlalchemy] PRAGMA main.table_info(\"Select Date,Total_Amt from uber\")\n",
      "[sqlalchemy] [raw sql] ()\n",
      "[sqlalchemy] PRAGMA temp.table_info(\"Select Date,Total_Amt from uber\")\n",
      "[sqlalchemy] [raw sql] ()\n",
      "[sqlalchemy] Select Date,Total_Amt from uber\n",
      "[sqlalchemy] [raw sql] ()\n",
      "[sqlalchemy] PRAGMA main.table_info(\"Select Date,Total_Amt  from yellow\")\n",
      "[sqlalchemy] [raw sql] ()\n",
      "[sqlalchemy] PRAGMA temp.table_info(\"Select Date,Total_Amt  from yellow\")\n",
      "[sqlalchemy] [raw sql] ()\n",
      "[sqlalchemy] Select Date,Total_Amt  from yellow\n",
      "[sqlalchemy] [raw sql] ()\n"
     ]
    },
    {
     "name": "stderr",
     "output_type": "stream",
     "text": [
      "C:\\Users\\Kunal\\AppData\\Local\\Temp\\ipykernel_14296\\2669099056.py:3: FutureWarning: The frame.append method is deprecated and will be removed from pandas in a future version. Use pandas.concat instead.\n",
      "  df_combined=df_uber.append(df_yellow)\n"
     ]
    }
   ],
   "source": [
    "df_uber=pd.read_sql(\"Select Date,Total_Amt from uber\",con=engine)\n",
    "df_yellow=pd.read_sql(\"Select Date,Total_Amt  from yellow\",con=engine)\n",
    "df_combined=df_uber.append(df_yellow)"
   ]
  },
  {
   "cell_type": "code",
   "execution_count": 188,
   "id": "640fb6b6",
   "metadata": {},
   "outputs": [
    {
     "data": {
      "text/html": [
       "<div>\n",
       "<style scoped>\n",
       "    .dataframe tbody tr th:only-of-type {\n",
       "        vertical-align: middle;\n",
       "    }\n",
       "\n",
       "    .dataframe tbody tr th {\n",
       "        vertical-align: top;\n",
       "    }\n",
       "\n",
       "    .dataframe thead th {\n",
       "        text-align: right;\n",
       "    }\n",
       "</style>\n",
       "<table border=\"1\" class=\"dataframe\">\n",
       "  <thead>\n",
       "    <tr style=\"text-align: right;\">\n",
       "      <th></th>\n",
       "      <th>Date</th>\n",
       "      <th>Total_Amt</th>\n",
       "    </tr>\n",
       "  </thead>\n",
       "  <tbody>\n",
       "    <tr>\n",
       "      <th>0</th>\n",
       "      <td>2015-05-07 20:00:00.000000</td>\n",
       "      <td>7.5</td>\n",
       "    </tr>\n",
       "    <tr>\n",
       "      <th>1</th>\n",
       "      <td>2009-07-17 20:00:00.000000</td>\n",
       "      <td>7.7</td>\n",
       "    </tr>\n",
       "    <tr>\n",
       "      <th>2</th>\n",
       "      <td>2009-08-24 22:00:00.000000</td>\n",
       "      <td>12.9</td>\n",
       "    </tr>\n",
       "    <tr>\n",
       "      <th>3</th>\n",
       "      <td>2009-06-26 08:00:00.000000</td>\n",
       "      <td>5.3</td>\n",
       "    </tr>\n",
       "    <tr>\n",
       "      <th>4</th>\n",
       "      <td>2014-08-28 18:00:00.000000</td>\n",
       "      <td>16.0</td>\n",
       "    </tr>\n",
       "  </tbody>\n",
       "</table>\n",
       "</div>"
      ],
      "text/plain": [
       "                         Date  Total_Amt\n",
       "0  2015-05-07 20:00:00.000000        7.5\n",
       "1  2009-07-17 20:00:00.000000        7.7\n",
       "2  2009-08-24 22:00:00.000000       12.9\n",
       "3  2009-06-26 08:00:00.000000        5.3\n",
       "4  2014-08-28 18:00:00.000000       16.0"
      ]
     },
     "execution_count": 188,
     "metadata": {},
     "output_type": "execute_result"
    }
   ],
   "source": [
    "df_combined.head()"
   ]
  },
  {
   "cell_type": "code",
   "execution_count": 192,
   "id": "6241e63b",
   "metadata": {},
   "outputs": [],
   "source": [
    "def plot_visual_7_2(df_uber, df_yellow,df_combined):\n",
    "\n",
    "    df_uber[\"Date\"]=df_uber[\"Date\"].astype('datetime64')\n",
    "    df_uber=df_uber[[\"Date\",\"Total_Amt\"]].groupby(df_uber.Date.dt.year).mean()\n",
    "    df_uber[\"Date\"]=df_uber.index    \n",
    "\n",
    "    df_yellow[\"Date\"]=df_yellow[\"Date\"].astype('datetime64')\n",
    "    df_yellow=df_yellow[[\"Date\",\"Total_Amt\"]].groupby(df_yellow.Date.dt.year).mean()\n",
    "    df_yellow[\"Date\"]=df_yellow.index\n",
    "\n",
    "    fig, ax = plt.subplots(figsize=(12, 10))\n",
    "    plt.xticks(fontsize=14)\n",
    "    plt.yticks(fontsize=14)\n",
    "    ax.set_xlabel('Year',fontsize=18)\n",
    "    ax.set_ylabel('Average Total Amount',fontsize=18)\n",
    "    ax.set_title(\"Average Fare of Uber and Yellow Taxi over the years\",fontsize=18)\n",
    "    plt.plot(df_uber[\"Total_Amt\"],color='blue',label=\"Average Uber Fare\",alpha=1)\n",
    "    plt.plot(df_yellow[\"Total_Amt\"],color='yellow',label=\"Average Yellow Taxi Fare\",alpha=1)\n",
    "\n",
    "    plt.show()"
   ]
  },
  {
   "cell_type": "code",
   "execution_count": 193,
   "id": "f92a42ff",
   "metadata": {},
   "outputs": [
    {
     "data": {
      "image/png": "[encoded data removed]",
      "text/plain": [
       "<Figure size 864x720 with 1 Axes>"
      ]
     },
     "metadata": {
      "needs_background": "light"
     },
     "output_type": "display_data"
    }
   ],
   "source": [
    "plot_visual_7_2(df_uber, df_yellow,df_combined)"
   ]
  },
  {
   "cell_type": "markdown",
   "id": "ff151e5f",
   "metadata": {},
   "source": [
    "### 7.3 Pie Chart describing Percentage of total Uber and Yellow Taxi Rides according to temperature in 30 degree increments"
   ]
  },
  {
   "cell_type": "markdown",
   "id": "6061bb49",
   "metadata": {},
   "source": [
    "- This visualization uses data from 3 tables"
   ]
  },
  {
   "cell_type": "code",
   "execution_count": 186,
   "id": "6ff59246",
   "metadata": {},
   "outputs": [
    {
     "name": "stdout",
     "output_type": "stream",
     "text": [
      "[sqlalchemy] PRAGMA main.table_info(\"Select Date,Distance from uber\")\n",
      "[sqlalchemy] [raw sql] ()\n",
      "[sqlalchemy] PRAGMA temp.table_info(\"Select Date,Distance from uber\")\n",
      "[sqlalchemy] [raw sql] ()\n",
      "[sqlalchemy] Select Date,Distance from uber\n",
      "[sqlalchemy] [raw sql] ()\n",
      "[sqlalchemy] PRAGMA main.table_info(\"Select Date,Distance from yellow\")\n",
      "[sqlalchemy] [raw sql] ()\n",
      "[sqlalchemy] PRAGMA temp.table_info(\"Select Date,Distance from yellow\")\n",
      "[sqlalchemy] [raw sql] ()\n",
      "[sqlalchemy] Select Date,Distance from yellow\n",
      "[sqlalchemy] [raw sql] ()\n",
      "[sqlalchemy] PRAGMA main.table_info(\"Select * from dayweather\")\n",
      "[sqlalchemy] [raw sql] ()\n",
      "[sqlalchemy] PRAGMA temp.table_info(\"Select * from dayweather\")\n",
      "[sqlalchemy] [raw sql] ()\n",
      "[sqlalchemy] Select * from dayweather\n",
      "[sqlalchemy] [raw sql] ()\n"
     ]
    },
    {
     "name": "stderr",
     "output_type": "stream",
     "text": [
      "C:\\Users\\Kunal\\AppData\\Local\\Temp\\ipykernel_14296\\2950781132.py:5: FutureWarning: The frame.append method is deprecated and will be removed from pandas in a future version. Use pandas.concat instead.\n",
      "  df_combined=df_uber.append(df_yellow)\n"
     ]
    }
   ],
   "source": [
    "df_uber=pd.read_sql(\"Select Date,Distance from uber\",con=engine)\n",
    "df_yellow=pd.read_sql(\"Select Date,Distance from yellow\",con=engine)\n",
    "df_daily=pd.read_sql(\"Select * from dayweather\",con=engine)\n",
    "\n",
    "df_combined=df_uber.append(df_yellow)"
   ]
  },
  {
   "cell_type": "code",
   "execution_count": 184,
   "id": "08a316fb",
   "metadata": {},
   "outputs": [],
   "source": [
    "def plot_visual_7_3(df_daily,df_combined):\n",
    "\n",
    "    df_combined[\"Date\"]=df_combined[\"Date\"].astype('datetime64')\n",
    "    df_combined=df_combined[[\"Date\",\"Distance\"]].groupby(df_combined.Date.dt.date).count()\n",
    "    df_combined[\"Date\"]=df_combined.index\n",
    "    df_combined[\"Date\"]=df_combined[\"Date\"].astype('datetime64')\n",
    "\n",
    "    df_combined.reset_index(drop=True,inplace=True)\n",
    "    df_daily[\"DATE\"]=df_daily[\"DATE\"].astype('datetime64')\n",
    "    df_daily.drop(columns=[\"DailyAvgWindSpeed\"],inplace=True)\n",
    "    df_daily = pd.merge(df_daily, df_combined, how='inner', left_on = 'DATE', right_on = 'Date')    \n",
    "    df_daily.rename(columns={\"Distance\":\"Count\"},inplace=True) \n",
    "    df_daily.drop(columns=[\"DATE\"],inplace=True)    \n",
    "    \n",
    "    \n",
    "    \n",
    "    df_0to30=df_daily[(df_daily[\"DailyTemperature\"]>=0) & (df_daily[\"DailyTemperature\"]<=30)]\n",
    "    df_30to60=df_daily[(df_daily[\"DailyTemperature\"]>=30) & (df_daily[\"DailyTemperature\"]<=60)]\n",
    "    df_60to90=df_daily[(df_daily[\"DailyTemperature\"]>=60) & (df_daily[\"DailyTemperature\"]<=90)]    \n",
    "    fig, ax = plt.subplots(figsize=(12, 10))\n",
    "    temp = ['0 to 30 degrees', '30 to 60 degrees', '60 to 90 degrees']\n",
    "    data = [len(df_0to30),len(df_30to60),len(df_60to90)]\n",
    "    plt.pie(data, labels = temp,autopct='%1.2f%%',textprops={'fontsize': 18})\n",
    "    plt.title(\"Percentage of total Uber and Yellow Taxi Rides according to temperature in 30 degree increments\", fontsize=18)\n",
    "    \n",
    "    plt.show()"
   ]
  },
  {
   "cell_type": "code",
   "execution_count": 185,
   "id": "855c9a5a",
   "metadata": {},
   "outputs": [
    {
     "data": {
      "image/png": "[encoded data removed]",
      "text/plain": [
       "<Figure size 864x720 with 1 Axes>"
      ]
     },
     "metadata": {},
     "output_type": "display_data"
    }
   ],
   "source": [
    "plot_visual_7_3(df_daily,df_combined)"
   ]
  }
 ],
 "metadata": {
  "kernelspec": {
   "display_name": "Python 3 (ipykernel)",
   "language": "python",
   "name": "python3"
  },
  "language_info": {
   "codemirror_mode": {
    "name": "ipython",
    "version": 3
   },
   "file_extension": ".py",
   "mimetype": "text/x-python",
   "name": "python",
   "nbconvert_exporter": "python",
   "pygments_lexer": "ipython3",
   "version": "3.9.7"
  }
 },
 "nbformat": 4,
 "nbformat_minor": 5
}
