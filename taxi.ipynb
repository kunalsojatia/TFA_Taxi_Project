{
 "cells": [
  {
   "cell_type": "markdown",
   "id": "75ee76fc",
   "metadata": {},
   "source": [
    "# Group 13 - TFA Final Project"
   ]
  },
  {
   "cell_type": "markdown",
   "id": "1d8af0b1",
   "metadata": {},
   "source": [
    "## Team Members:\n",
    "### Kunal Sojatia UNI: ks3865\n",
    "### Juan Daniel Sidauruk UNI: js6027"
   ]
  },
  {
   "cell_type": "markdown",
   "id": "e24a0c6c",
   "metadata": {},
   "source": [
    "# Project Objectives: \n",
    "#### Extract meaningful insights and produce informative visualizations by leveraging historical data of Uber and Yellow Taxi rides in New York City during a time period of between Jan 2009 and Jun 2015 along with incorporating the local weather data pertaining to those rides. \n",
    "#### Some of those information are such as but not limited to:\n",
    "\n",
    "`Insights:` \n",
    "1. Hour of the day when it was most popular to take a Yellow Taxi between Jan of 2009 and Jun of 2015\n",
    "2. Day of the week when it was the most popular to take an Uber between Jan of 2009 and Jun of 2015\n",
    "3. 95% percentile of distance traveled for all hired trips during July 2013\n",
    "4. Top 10 days with the highest number of hired rides for 2009 and the average distance for each day\n",
    "5. 10 days in 2014 were the windiest on average and number of hired trips were made on those days\n",
    "6. Number of trips were taken each hour hourly precipitation and sustained windspeed NYC received during Hurricane Sandy in NYC (Oct 29-30, 2012) plus the week leading up and the week after (entry for every single hour, even if no rides were taken, no precipitation was measured, or there was no wind)\n",
    "    \n",
    "\n",
    "`Visualizations:` \n",
    "\n",
    "1. Appropriate visualizations to show for the aforementioned insights\n",
    "2. Average distance traveled per month for both taxis and Ubers combined with 90% confidence interval \n",
    "3. Lat/long coordinate boxes around the three major New York airports: LGA, JFK, and EWR with visualization that compares what day of the week was most popular for drop offs for each airport\n",
    "4. A heatmap of all hired trips over a map of the area\n",
    "5. A scatter plot that compares tip amount versus distance for Yellow Taxi rides\n",
    "6. A scatter plot that compares tip amount versus precipitation amount for Yellow Taxi rides\n",
    "7. 3 additional insights and one visualization to answer each question"
   ]
  },
  {
   "cell_type": "markdown",
   "id": "d7157a63",
   "metadata": {},
   "source": [
    "#### Importing all dependencies required for the project as follows "
   ]
  },
  {
   "cell_type": "code",
   "execution_count": 2,
   "id": "3b3e5a85",
   "metadata": {},
   "outputs": [],
   "source": [
    "import pandas as pd\n",
    "import requests\n",
    "import re\n",
    "from tqdm import tqdm\n",
    "import time\n",
    "import os\n",
    "import glob\n",
    "import math\n",
    "from keplergl import KeplerGl\n",
    "import matplotlib.pyplot as plt\n",
    "import seaborn as sns\n",
    "import numpy as np\n",
    "from bs4 import BeautifulSoup\n",
    "from sqlalchemy import create_engine\n",
    "import logging\n",
    "import pytest"
   ]
  },
  {
   "cell_type": "markdown",
   "id": "a2246a25",
   "metadata": {},
   "source": [
    "##### Sidenote:\n",
    "`The following are the constants that will be used to define the coordinates of three major New York airports that will be later used for data visualizations`"
   ]
  },
  {
   "cell_type": "code",
   "execution_count": 3,
   "id": "be10428e",
   "metadata": {},
   "outputs": [],
   "source": [
    "#Constants\n",
    "\n",
    "URL = \"https://www1.nyc.gov/site/tlc/about/tlc-trip-record-data.page\"\n",
    "pattern = r\"(?P<prefix>.*)(?P<tripdata>tripdata_)(?P<year>[0-9]{4})-(?P<month>[0-9]{2})(?P<rest>.*)\"\n",
    "\n",
    "newark_box=[-74.205780,40.661560,-74.146042,40.711833]\n",
    "laguardia_box=[-73.901854,40.754908,-73.847694,40.789443]\n",
    "jfk_box=[-73.839455,40.618057,-73.736458,40.679565]"
   ]
  },
  {
   "cell_type": "markdown",
   "id": "49637296",
   "metadata": {},
   "source": [
    "#### This line below generates a requirement.txt file with all the dependencies of the project"
   ]
  },
  {
   "cell_type": "code",
   "execution_count": 4,
   "id": "3efb1822",
   "metadata": {},
   "outputs": [],
   "source": [
    "!pip3 freeze > requirements.txt"
   ]
  },
  {
   "cell_type": "markdown",
   "id": "0b3c483e",
   "metadata": {},
   "source": [
    "# 1. Data Preprocessing"
   ]
  },
  {
   "cell_type": "markdown",
   "id": "7802747b",
   "metadata": {},
   "source": [
    "## 1.1. Preliminary Data Fetching"
   ]
  },
  {
   "cell_type": "markdown",
   "id": "07104f9d",
   "metadata": {},
   "source": [
    "### Download all of the yellow taxi data from the URL provided`\n",
    "\n",
    "### BeautifulSoup is used to scrape all the links for all Yellow Taxi rides data on the website`"
   ]
  },
  {
   "cell_type": "code",
   "execution_count": 5,
   "id": "4094eb6f",
   "metadata": {},
   "outputs": [],
   "source": [
    "r = requests.get(URL)\n",
    "soup = BeautifulSoup(r.content, 'html5lib') "
   ]
  },
  {
   "cell_type": "code",
   "execution_count": 153,
   "id": "c52724c0",
   "metadata": {},
   "outputs": [],
   "source": [
    "soup = BeautifulSoup(r.content)\n",
    "table = soup.find_all('a',title=\"Yellow Taxi Trip Records\")"
   ]
  },
  {
   "cell_type": "code",
   "execution_count": 155,
   "id": "8478b85b",
   "metadata": {},
   "outputs": [],
   "source": [
    "links=[]\n",
    "for row in table:\n",
    "    match = re.search(r'href=[\\'\"]?([^\\'\" >]+)', str(row))\n",
    "    if match:\n",
    "        links.append(str(match.group(1)))"
   ]
  },
  {
   "cell_type": "markdown",
   "id": "d4a53ff2",
   "metadata": {},
   "source": [
    "### Regular expression (Regex) is used to filter only the files which we need to analyze the datasets between Jan of 2009 and Jun of 2015"
   ]
  },
  {
   "cell_type": "code",
   "execution_count": 157,
   "id": "b8989fa0",
   "metadata": {},
   "outputs": [],
   "source": [
    "newlinks=[]\n",
    "for eachlink in links:\n",
    "    match=re.search(pattern,eachlink)\n",
    "    year=int(match.group(\"year\"))\n",
    "    month=int(match.group(\"month\"))\n",
    "    \n",
    "    if (year>=2009) and (year<2015):\n",
    "        newlinks.append(eachlink)\n",
    "    elif (year==2015) and (month<=6):\n",
    "        newlinks.append(eachlink)"
   ]
  },
  {
   "cell_type": "markdown",
   "id": "e6bd3449",
   "metadata": {},
   "source": [
    "### Populate the links that have been successfully extracted after removing any unneccesary and invalid data from each of the HTML table data elements`"
   ]
  },
  {
   "cell_type": "code",
   "execution_count": 159,
   "id": "8522ef2b",
   "metadata": {
    "scrolled": true
   },
   "outputs": [
    {
     "data": {
      "text/plain": [
       "['https://s3.amazonaws.com/nyc-tlc/trip+data/yellow_tripdata_2015-01.csv',\n",
       " 'https://s3.amazonaws.com/nyc-tlc/trip+data/yellow_tripdata_2015-02.csv',\n",
       " 'https://s3.amazonaws.com/nyc-tlc/trip+data/yellow_tripdata_2015-03.csv',\n",
       " 'https://s3.amazonaws.com/nyc-tlc/trip+data/yellow_tripdata_2015-04.csv',\n",
       " 'https://s3.amazonaws.com/nyc-tlc/trip+data/yellow_tripdata_2015-05.csv',\n",
       " 'https://s3.amazonaws.com/nyc-tlc/trip+data/yellow_tripdata_2015-06.csv',\n",
       " 'https://s3.amazonaws.com/nyc-tlc/trip+data/yellow_tripdata_2014-01.csv',\n",
       " 'https://s3.amazonaws.com/nyc-tlc/trip+data/yellow_tripdata_2014-02.csv',\n",
       " 'https://s3.amazonaws.com/nyc-tlc/trip+data/yellow_tripdata_2014-03.csv',\n",
       " 'https://s3.amazonaws.com/nyc-tlc/trip+data/yellow_tripdata_2014-04.csv',\n",
       " 'https://s3.amazonaws.com/nyc-tlc/trip+data/yellow_tripdata_2014-05.csv',\n",
       " 'https://s3.amazonaws.com/nyc-tlc/trip+data/yellow_tripdata_2014-06.csv',\n",
       " 'https://s3.amazonaws.com/nyc-tlc/trip+data/yellow_tripdata_2014-07.csv',\n",
       " 'https://s3.amazonaws.com/nyc-tlc/trip+data/yellow_tripdata_2014-08.csv',\n",
       " 'https://s3.amazonaws.com/nyc-tlc/trip+data/yellow_tripdata_2014-09.csv',\n",
       " 'https://s3.amazonaws.com/nyc-tlc/trip+data/yellow_tripdata_2014-10.csv',\n",
       " 'https://s3.amazonaws.com/nyc-tlc/trip+data/yellow_tripdata_2014-11.csv',\n",
       " 'https://s3.amazonaws.com/nyc-tlc/trip+data/yellow_tripdata_2014-12.csv',\n",
       " 'https://s3.amazonaws.com/nyc-tlc/trip+data/yellow_tripdata_2013-01.csv',\n",
       " 'https://s3.amazonaws.com/nyc-tlc/trip+data/yellow_tripdata_2013-02.csv',\n",
       " 'https://s3.amazonaws.com/nyc-tlc/trip+data/yellow_tripdata_2013-03.csv',\n",
       " 'https://s3.amazonaws.com/nyc-tlc/trip+data/yellow_tripdata_2013-04.csv',\n",
       " 'https://s3.amazonaws.com/nyc-tlc/trip+data/yellow_tripdata_2013-05.csv',\n",
       " 'https://s3.amazonaws.com/nyc-tlc/trip+data/yellow_tripdata_2013-06.csv',\n",
       " 'https://s3.amazonaws.com/nyc-tlc/trip+data/yellow_tripdata_2013-07.csv',\n",
       " 'https://s3.amazonaws.com/nyc-tlc/trip+data/yellow_tripdata_2013-08.csv',\n",
       " 'https://s3.amazonaws.com/nyc-tlc/trip+data/yellow_tripdata_2013-09.csv',\n",
       " 'https://s3.amazonaws.com/nyc-tlc/trip+data/yellow_tripdata_2013-10.csv',\n",
       " 'https://s3.amazonaws.com/nyc-tlc/trip+data/yellow_tripdata_2013-11.csv',\n",
       " 'https://s3.amazonaws.com/nyc-tlc/trip+data/yellow_tripdata_2013-12.csv',\n",
       " 'https://s3.amazonaws.com/nyc-tlc/trip+data/yellow_tripdata_2012-01.csv',\n",
       " 'https://s3.amazonaws.com/nyc-tlc/trip+data/yellow_tripdata_2012-02.csv',\n",
       " 'https://s3.amazonaws.com/nyc-tlc/trip+data/yellow_tripdata_2012-03.csv',\n",
       " 'https://s3.amazonaws.com/nyc-tlc/trip+data/yellow_tripdata_2012-04.csv',\n",
       " 'https://s3.amazonaws.com/nyc-tlc/trip+data/yellow_tripdata_2012-05.csv',\n",
       " 'https://s3.amazonaws.com/nyc-tlc/trip+data/yellow_tripdata_2012-06.csv',\n",
       " 'https://s3.amazonaws.com/nyc-tlc/trip+data/yellow_tripdata_2012-07.csv',\n",
       " 'https://s3.amazonaws.com/nyc-tlc/trip+data/yellow_tripdata_2012-08.csv',\n",
       " 'https://s3.amazonaws.com/nyc-tlc/trip+data/yellow_tripdata_2012-09.csv',\n",
       " 'https://s3.amazonaws.com/nyc-tlc/trip+data/yellow_tripdata_2012-10.csv',\n",
       " 'https://s3.amazonaws.com/nyc-tlc/trip+data/yellow_tripdata_2012-11.csv',\n",
       " 'https://s3.amazonaws.com/nyc-tlc/trip+data/yellow_tripdata_2012-12.csv',\n",
       " 'https://s3.amazonaws.com/nyc-tlc/trip+data/yellow_tripdata_2011-01.csv',\n",
       " 'https://s3.amazonaws.com/nyc-tlc/trip+data/yellow_tripdata_2011-02.csv',\n",
       " 'https://s3.amazonaws.com/nyc-tlc/trip+data/yellow_tripdata_2011-03.csv',\n",
       " 'https://s3.amazonaws.com/nyc-tlc/trip+data/yellow_tripdata_2011-04.csv',\n",
       " 'https://s3.amazonaws.com/nyc-tlc/trip+data/yellow_tripdata_2011-05.csv',\n",
       " 'https://s3.amazonaws.com/nyc-tlc/trip+data/yellow_tripdata_2011-06.csv',\n",
       " 'https://s3.amazonaws.com/nyc-tlc/trip+data/yellow_tripdata_2011-07.csv',\n",
       " 'https://s3.amazonaws.com/nyc-tlc/trip+data/yellow_tripdata_2011-08.csv',\n",
       " 'https://s3.amazonaws.com/nyc-tlc/trip+data/yellow_tripdata_2011-09.csv',\n",
       " 'https://s3.amazonaws.com/nyc-tlc/trip+data/yellow_tripdata_2011-10.csv',\n",
       " 'https://s3.amazonaws.com/nyc-tlc/trip+data/yellow_tripdata_2011-11.csv',\n",
       " 'https://s3.amazonaws.com/nyc-tlc/trip+data/yellow_tripdata_2011-12.csv',\n",
       " 'https://s3.amazonaws.com/nyc-tlc/trip+data/yellow_tripdata_2010-01.csv',\n",
       " 'https://s3.amazonaws.com/nyc-tlc/trip+data/yellow_tripdata_2010-02.csv',\n",
       " 'https://s3.amazonaws.com/nyc-tlc/trip+data/yellow_tripdata_2010-03.csv',\n",
       " 'https://s3.amazonaws.com/nyc-tlc/trip+data/yellow_tripdata_2010-04.csv',\n",
       " 'https://s3.amazonaws.com/nyc-tlc/trip+data/yellow_tripdata_2010-05.csv',\n",
       " 'https://s3.amazonaws.com/nyc-tlc/trip+data/yellow_tripdata_2010-06.csv',\n",
       " 'https://s3.amazonaws.com/nyc-tlc/trip+data/yellow_tripdata_2010-07.csv',\n",
       " 'https://s3.amazonaws.com/nyc-tlc/trip+data/yellow_tripdata_2010-08.csv',\n",
       " 'https://s3.amazonaws.com/nyc-tlc/trip+data/yellow_tripdata_2010-09.csv',\n",
       " 'https://s3.amazonaws.com/nyc-tlc/trip+data/yellow_tripdata_2010-10.csv',\n",
       " 'https://s3.amazonaws.com/nyc-tlc/trip+data/yellow_tripdata_2010-11.csv',\n",
       " 'https://s3.amazonaws.com/nyc-tlc/trip+data/yellow_tripdata_2010-12.csv',\n",
       " 'https://s3.amazonaws.com/nyc-tlc/trip+data/yellow_tripdata_2009-01.csv',\n",
       " 'https://s3.amazonaws.com/nyc-tlc/trip+data/yellow_tripdata_2009-02.csv',\n",
       " 'https://s3.amazonaws.com/nyc-tlc/trip+data/yellow_tripdata_2009-03.csv',\n",
       " 'https://s3.amazonaws.com/nyc-tlc/trip+data/yellow_tripdata_2009-04.csv',\n",
       " 'https://s3.amazonaws.com/nyc-tlc/trip+data/yellow_tripdata_2009-05.csv',\n",
       " 'https://s3.amazonaws.com/nyc-tlc/trip+data/yellow_tripdata_2009-06.csv',\n",
       " 'https://s3.amazonaws.com/nyc-tlc/trip+data/yellow_tripdata_2009-07.csv',\n",
       " 'https://s3.amazonaws.com/nyc-tlc/trip+data/yellow_tripdata_2009-08.csv',\n",
       " 'https://s3.amazonaws.com/nyc-tlc/trip+data/yellow_tripdata_2009-09.csv',\n",
       " 'https://s3.amazonaws.com/nyc-tlc/trip+data/yellow_tripdata_2009-10.csv',\n",
       " 'https://s3.amazonaws.com/nyc-tlc/trip+data/yellow_tripdata_2009-11.csv',\n",
       " 'https://s3.amazonaws.com/nyc-tlc/trip+data/yellow_tripdata_2009-12.csv']"
      ]
     },
     "execution_count": 159,
     "metadata": {},
     "output_type": "execute_result"
    }
   ],
   "source": [
    "newlinks"
   ]
  },
  {
   "cell_type": "markdown",
   "id": "d8e795cc",
   "metadata": {},
   "source": [
    "### Create a function that downloads any file to the local computer with the URL link provided to it in the parameter`\n",
    "\n",
    "#### Sidenote: \n",
    "    We need to change the chunk size for writing the file because the csv files are huge and this is necessary for improving performance"
   ]
  },
  {
   "cell_type": "code",
   "execution_count": 10,
   "id": "70cf2cd0",
   "metadata": {},
   "outputs": [],
   "source": [
    "def download_file(url):\n",
    "    if not(os.path.exists(\"data\")):\n",
    "        os.mkdir(\"data\")\n",
    "    local_filename = url.split('/')[-1]\n",
    "    local_filename=\"data\\\\\"+local_filename\n",
    "    with requests.get(url, stream=True) as r:\n",
    "        r.raise_for_status()\n",
    "        with open(local_filename, 'wb') as f:\n",
    "            for chunk in r.iter_content(chunk_size=8192): \n",
    "                f.write(chunk)\n",
    "    return local_filename"
   ]
  },
  {
   "cell_type": "markdown",
   "id": "f8317841",
   "metadata": {},
   "source": [
    "### Create the following block of code that calls the download function for each of the links we had extracted`\n",
    "\n",
    "##### Sidenote: \n",
    "!!! Kindly be advised that running this will take a lot of time and disturb all of the other codes if only run partially as this will overwrite the existing csv files"
   ]
  },
  {
   "cell_type": "code",
   "execution_count": 59,
   "id": "5135164c",
   "metadata": {},
   "outputs": [
    {
     "name": "stderr",
     "output_type": "stream",
     "text": [
      "100%|████████████████████████████████████████████████████████████████████████████████| 78/78 [1:31:52<00:00, 70.67s/it]\n"
     ]
    }
   ],
   "source": [
    "for i in tqdm(range(len(newlinks))):\n",
    "    eachlink=newlinks[i]\n",
    "    download_file(eachlink)"
   ]
  },
  {
   "cell_type": "code",
   "execution_count": 144,
   "id": "7c3f418b",
   "metadata": {},
   "outputs": [],
   "source": [
    "path = \"data\"\n",
    "csv_files = glob.glob(os.path.join(path, \"*.csv\"))"
   ]
  },
  {
   "cell_type": "markdown",
   "id": "1216b920",
   "metadata": {},
   "source": [
    "### Set the column names for our Yellow Taxi data dataframe for more organized data structure`"
   ]
  },
  {
   "cell_type": "code",
   "execution_count": 145,
   "id": "ef11ea64",
   "metadata": {},
   "outputs": [],
   "source": [
    "subset=pd.read_csv(\"start.csv\",on_bad_lines='skip')\n",
    "df=pd.DataFrame()\n",
    "mapping = {subset.columns[0]: 'vendor_name', \n",
    "           subset.columns[1]: 'Trip_Pickup_DateTime', \n",
    "           subset.columns[2]: 'Trip_Dropoff_DateTime', \n",
    "           subset.columns[3]: 'Passenger_Count',\n",
    "           subset.columns[4]:'Trip_Distance', \n",
    "           subset.columns[5]:'Start_Lon', \n",
    "           subset.columns[6]:'Start_Lat',\n",
    "           subset.columns[7]:'Rate_Code',\n",
    "           subset.columns[8]:'store_and_forward',\n",
    "           subset.columns[9]:'End_Lon',\n",
    "           subset.columns[10]:'End_Lat',\n",
    "           subset.columns[11]:'Payment_Type',\n",
    "           subset.columns[12]:'Fare_Amt',\n",
    "           subset.columns[13]:'surcharge',\n",
    "           subset.columns[14]:'mta_tax',\n",
    "           subset.columns[15]:'Tip_Amt',\n",
    "           subset.columns[16]:'Tolls_Amt',\n",
    "           subset.columns[17]:'Total_Amt'}"
   ]
  },
  {
   "cell_type": "markdown",
   "id": "3acd221f",
   "metadata": {},
   "source": [
    "### Extract sample size (amount of rows) from Yellow Taxi dataset that are roughly equal to those from Uber dataset (200,000 rows). Thus, 3000 rows from each monthly Yellow Taxi data are taken to generate equal number of entries for both datasets"
   ]
  },
  {
   "cell_type": "code",
   "execution_count": 29,
   "id": "d5c826c1",
   "metadata": {},
   "outputs": [
    {
     "name": "stderr",
     "output_type": "stream",
     "text": [
      "100%|██████████████████████████████████████████████████████████████████████████████████| 78/78 [41:19<00:00, 31.79s/it]\n"
     ]
    }
   ],
   "source": [
    "masterdf=pd.DataFrame()\n",
    "for i in tqdm(range(len(csv_files))):\n",
    "    df = df[0:0]   \n",
    "    df = pd.read_csv(csv_files[i],on_bad_lines='skip')\n",
    "    subset=df.sample(n=3000)\n",
    "    if len(subset.columns)>18:\n",
    "        subset=subset.drop(columns=[\"improvement_surcharge\"],errors='ignore')\n",
    "    tempdf=subset\n",
    "    tempdf.columns=mapping\n",
    "    masterdf=masterdf.append(tempdf,ignore_index=True)\n",
    "    subset.to_csv(r\"sample\\subset\" +str(i)+ \".csv\",index=False)"
   ]
  },
  {
   "cell_type": "code",
   "execution_count": 31,
   "id": "3d7e1db3",
   "metadata": {},
   "outputs": [],
   "source": [
    "masterdf.to_csv(\"masterdf.csv\",index=False)"
   ]
  },
  {
   "cell_type": "code",
   "execution_count": 22,
   "id": "991c3179",
   "metadata": {},
   "outputs": [],
   "source": [
    "masterdf.columns=['name', 'vendor_name', 'Trip_Pickup_DateTime',\n",
    "       'Trip_Dropoff_DateTime', 'Passenger_Count', 'Trip_Distance',\n",
    "       'Start_Lon', 'Start_Lat', 'Rate_Code', 'store_and_forward', 'End_Lon',\n",
    "       'End_Lat', 'Payment_Type', 'Fare_Amt', 'surcharge', 'mta_tax',\n",
    "       'Tip_Amt', 'Tolls_Amt']"
   ]
  },
  {
   "cell_type": "code",
   "execution_count": 23,
   "id": "01fc5dac",
   "metadata": {},
   "outputs": [
    {
     "data": {
      "text/plain": [
       "Index(['name', 'vendor_name', 'Trip_Pickup_DateTime', 'Trip_Dropoff_DateTime',\n",
       "       'Passenger_Count', 'Trip_Distance', 'Start_Lon', 'Start_Lat',\n",
       "       'Rate_Code', 'store_and_forward', 'End_Lon', 'End_Lat', 'Payment_Type',\n",
       "       'Fare_Amt', 'surcharge', 'mta_tax', 'Tip_Amt', 'Tolls_Amt'],\n",
       "      dtype='object')"
      ]
     },
     "execution_count": 23,
     "metadata": {},
     "output_type": "execute_result"
    }
   ],
   "source": [
    "masterdf.columns"
   ]
  },
  {
   "cell_type": "markdown",
   "id": "efb5d3ad",
   "metadata": {},
   "source": [
    "### Write this sampled Yellow Taxi data locally as masterdf.csv to avoid opening and processing a huge data of Yellow Taxi everytime the rest of the codes should be re-run`"
   ]
  },
  {
   "cell_type": "markdown",
   "id": "4f77b844",
   "metadata": {},
   "source": [
    "# Distance function"
   ]
  },
  {
   "cell_type": "markdown",
   "id": "e0562ff0",
   "metadata": {},
   "source": [
    "### Calculate distance between pickup and drop location using math module from the standard library"
   ]
  },
  {
   "cell_type": "code",
   "execution_count": 78,
   "id": "c7e74dd4",
   "metadata": {},
   "outputs": [],
   "source": [
    "def distance(series):\n",
    "    \n",
    "    if series.empty:\n",
    "        return False\n",
    "    \n",
    "    lat1, lon1 = float(series[\"Start_Lat\"]),float(series[\"Start_Lon\"])\n",
    "    lat2, lon2 = float(series[\"End_Lat\"]),float(series[\"End_Lon\"])\n",
    "    radius = 6371  # km\n",
    "\n",
    "    dlat = math.radians(lat2 - lat1)\n",
    "    dlon = math.radians(lon2 - lon1)\n",
    "    a = (math.sin(dlat / 2) * math.sin(dlat / 2) +\n",
    "         math.cos(math.radians(lat1)) * math.cos(math.radians(lat2)) *\n",
    "         math.sin(dlon / 2) * math.sin(dlon / 2))\n",
    "    c = 2 * math.atan2(math.sqrt(a), math.sqrt(1 - a))\n",
    "    d = radius * c\n",
    "\n",
    "    return d"
   ]
  },
  {
   "cell_type": "markdown",
   "id": "0be3dee4",
   "metadata": {},
   "source": [
    " ### Unit test created to test the distance calculation function. Specifically, it tests whether the function breaks when it provides an empty series. Ideally, it should return False`"
   ]
  },
  {
   "cell_type": "code",
   "execution_count": 79,
   "id": "9b6935ac",
   "metadata": {},
   "outputs": [],
   "source": [
    "def test_distance():\n",
    "    testdata=pd.DataFrame()\n",
    "    dist=distance(testdata)\n",
    "    assert dist == False"
   ]
  },
  {
   "cell_type": "code",
   "execution_count": 80,
   "id": "17b8c4cf",
   "metadata": {},
   "outputs": [],
   "source": [
    "test_distance()"
   ]
  },
  {
   "cell_type": "markdown",
   "id": "f50b0f4b",
   "metadata": {},
   "source": [
    "# Outside Area Trip Removal Function "
   ]
  },
  {
   "cell_type": "markdown",
   "id": "0f727be8",
   "metadata": {},
   "source": [
    "### Remove trips that start and/or end outside of the areas of interest which are outside the latitude/longitude coordinate boxes of (40.560445, -74.242330) and (40.908524, -73.717047)"
   ]
  },
  {
   "cell_type": "code",
   "execution_count": 81,
   "id": "edaab556",
   "metadata": {},
   "outputs": [],
   "source": [
    "def outside(dataframe):\n",
    "    dataframe = dataframe[ (dataframe['Start_Lat'] >= 40.560445) & (dataframe['Start_Lat'] <= 40.908524)]\n",
    "    dataframe = dataframe[ (dataframe['End_Lat'] >= 40.560445) & (dataframe['End_Lat'] <= 40.908524)]\n",
    "    dataframe = dataframe[ (dataframe['Start_Lon'] >= -74.242330) & (dataframe['Start_Lon'] <= -73.717047)]\n",
    "    dataframe = dataframe[ (dataframe['End_Lon'] >= -74.242330) & (dataframe['End_Lon'] <= -73.717047)]\n",
    "    return dataframe"
   ]
  },
  {
   "cell_type": "markdown",
   "id": "58c1d0a4",
   "metadata": {},
   "source": [
    "# Data Cleaning"
   ]
  },
  {
   "cell_type": "markdown",
   "id": "b3ed308a",
   "metadata": {},
   "source": [
    "### Fetch the Yellow Taxi data which had been downloaded and sampled earlier"
   ]
  },
  {
   "cell_type": "code",
   "execution_count": 82,
   "id": "8d0d9ad9",
   "metadata": {
    "scrolled": true
   },
   "outputs": [
    {
     "name": "stderr",
     "output_type": "stream",
     "text": [
      "C:\\Users\\Kunal\\AppData\\Local\\Temp\\ipykernel_15352\\2527313409.py:1: DtypeWarning: Columns (0,8,11) have mixed types. Specify dtype option on import or set low_memory=False.\n",
      "  yellowdf=pd.read_csv(\"masterdf.csv\")\n"
     ]
    }
   ],
   "source": [
    "yellowdf=pd.read_csv(\"masterdf.csv\")"
   ]
  },
  {
   "cell_type": "code",
   "execution_count": 83,
   "id": "121003b2",
   "metadata": {
    "scrolled": true
   },
   "outputs": [
    {
     "data": {
      "text/html": [
       "<div>\n",
       "<style scoped>\n",
       "    .dataframe tbody tr th:only-of-type {\n",
       "        vertical-align: middle;\n",
       "    }\n",
       "\n",
       "    .dataframe tbody tr th {\n",
       "        vertical-align: top;\n",
       "    }\n",
       "\n",
       "    .dataframe thead th {\n",
       "        text-align: right;\n",
       "    }\n",
       "</style>\n",
       "<table border=\"1\" class=\"dataframe\">\n",
       "  <thead>\n",
       "    <tr style=\"text-align: right;\">\n",
       "      <th></th>\n",
       "      <th>vendor_name</th>\n",
       "      <th>Trip_Pickup_DateTime</th>\n",
       "      <th>Trip_Dropoff_DateTime</th>\n",
       "      <th>Passenger_Count</th>\n",
       "      <th>Trip_Distance</th>\n",
       "      <th>Start_Lon</th>\n",
       "      <th>Start_Lat</th>\n",
       "      <th>Rate_Code</th>\n",
       "      <th>store_and_forward</th>\n",
       "      <th>End_Lon</th>\n",
       "      <th>End_Lat</th>\n",
       "      <th>Payment_Type</th>\n",
       "      <th>Fare_Amt</th>\n",
       "      <th>surcharge</th>\n",
       "      <th>mta_tax</th>\n",
       "      <th>Tip_Amt</th>\n",
       "      <th>Tolls_Amt</th>\n",
       "      <th>Total_Amt</th>\n",
       "    </tr>\n",
       "  </thead>\n",
       "  <tbody>\n",
       "    <tr>\n",
       "      <th>0</th>\n",
       "      <td>CMT</td>\n",
       "      <td>2009-01-13 07:54:28</td>\n",
       "      <td>2009-01-13 08:00:10</td>\n",
       "      <td>2</td>\n",
       "      <td>0.60</td>\n",
       "      <td>-73.961570</td>\n",
       "      <td>40.768545</td>\n",
       "      <td>NaN</td>\n",
       "      <td>NaN</td>\n",
       "      <td>-73.963642</td>\n",
       "      <td>40.774218</td>\n",
       "      <td>Cash</td>\n",
       "      <td>4.9</td>\n",
       "      <td>0.0</td>\n",
       "      <td>NaN</td>\n",
       "      <td>0.0</td>\n",
       "      <td>0.00</td>\n",
       "      <td>4.90</td>\n",
       "    </tr>\n",
       "    <tr>\n",
       "      <th>1</th>\n",
       "      <td>CMT</td>\n",
       "      <td>2009-01-22 09:02:19</td>\n",
       "      <td>2009-01-22 09:45:48</td>\n",
       "      <td>1</td>\n",
       "      <td>21.10</td>\n",
       "      <td>-73.914399</td>\n",
       "      <td>40.746171</td>\n",
       "      <td>NaN</td>\n",
       "      <td>NaN</td>\n",
       "      <td>-73.816812</td>\n",
       "      <td>40.703619</td>\n",
       "      <td>Cash</td>\n",
       "      <td>49.3</td>\n",
       "      <td>0.0</td>\n",
       "      <td>NaN</td>\n",
       "      <td>0.0</td>\n",
       "      <td>0.00</td>\n",
       "      <td>49.30</td>\n",
       "    </tr>\n",
       "    <tr>\n",
       "      <th>2</th>\n",
       "      <td>CMT</td>\n",
       "      <td>2009-01-23 23:52:45</td>\n",
       "      <td>2009-01-24 00:13:43</td>\n",
       "      <td>1</td>\n",
       "      <td>10.70</td>\n",
       "      <td>-73.874395</td>\n",
       "      <td>40.774010</td>\n",
       "      <td>NaN</td>\n",
       "      <td>NaN</td>\n",
       "      <td>-73.981739</td>\n",
       "      <td>40.765671</td>\n",
       "      <td>Cash</td>\n",
       "      <td>25.8</td>\n",
       "      <td>0.0</td>\n",
       "      <td>NaN</td>\n",
       "      <td>0.0</td>\n",
       "      <td>4.15</td>\n",
       "      <td>29.95</td>\n",
       "    </tr>\n",
       "    <tr>\n",
       "      <th>3</th>\n",
       "      <td>CMT</td>\n",
       "      <td>2009-01-06 18:34:58</td>\n",
       "      <td>2009-01-06 18:43:57</td>\n",
       "      <td>1</td>\n",
       "      <td>3.60</td>\n",
       "      <td>-73.957687</td>\n",
       "      <td>40.765477</td>\n",
       "      <td>NaN</td>\n",
       "      <td>NaN</td>\n",
       "      <td>-73.977345</td>\n",
       "      <td>40.729237</td>\n",
       "      <td>Credit</td>\n",
       "      <td>11.1</td>\n",
       "      <td>0.0</td>\n",
       "      <td>NaN</td>\n",
       "      <td>1.0</td>\n",
       "      <td>0.00</td>\n",
       "      <td>12.10</td>\n",
       "    </tr>\n",
       "    <tr>\n",
       "      <th>4</th>\n",
       "      <td>VTS</td>\n",
       "      <td>2009-01-02 09:52:00</td>\n",
       "      <td>2009-01-02 10:02:00</td>\n",
       "      <td>1</td>\n",
       "      <td>2.02</td>\n",
       "      <td>-74.000105</td>\n",
       "      <td>40.761962</td>\n",
       "      <td>NaN</td>\n",
       "      <td>NaN</td>\n",
       "      <td>-73.971110</td>\n",
       "      <td>40.759072</td>\n",
       "      <td>Credit</td>\n",
       "      <td>7.7</td>\n",
       "      <td>0.0</td>\n",
       "      <td>NaN</td>\n",
       "      <td>2.0</td>\n",
       "      <td>0.00</td>\n",
       "      <td>9.70</td>\n",
       "    </tr>\n",
       "  </tbody>\n",
       "</table>\n",
       "</div>"
      ],
      "text/plain": [
       "  vendor_name Trip_Pickup_DateTime Trip_Dropoff_DateTime  Passenger_Count  \\\n",
       "0         CMT  2009-01-13 07:54:28   2009-01-13 08:00:10                2   \n",
       "1         CMT  2009-01-22 09:02:19   2009-01-22 09:45:48                1   \n",
       "2         CMT  2009-01-23 23:52:45   2009-01-24 00:13:43                1   \n",
       "3         CMT  2009-01-06 18:34:58   2009-01-06 18:43:57                1   \n",
       "4         VTS  2009-01-02 09:52:00   2009-01-02 10:02:00                1   \n",
       "\n",
       "   Trip_Distance  Start_Lon  Start_Lat  Rate_Code store_and_forward  \\\n",
       "0           0.60 -73.961570  40.768545        NaN               NaN   \n",
       "1          21.10 -73.914399  40.746171        NaN               NaN   \n",
       "2          10.70 -73.874395  40.774010        NaN               NaN   \n",
       "3           3.60 -73.957687  40.765477        NaN               NaN   \n",
       "4           2.02 -74.000105  40.761962        NaN               NaN   \n",
       "\n",
       "     End_Lon    End_Lat Payment_Type  Fare_Amt  surcharge  mta_tax  Tip_Amt  \\\n",
       "0 -73.963642  40.774218         Cash       4.9        0.0      NaN      0.0   \n",
       "1 -73.816812  40.703619         Cash      49.3        0.0      NaN      0.0   \n",
       "2 -73.981739  40.765671         Cash      25.8        0.0      NaN      0.0   \n",
       "3 -73.977345  40.729237       Credit      11.1        0.0      NaN      1.0   \n",
       "4 -73.971110  40.759072       Credit       7.7        0.0      NaN      2.0   \n",
       "\n",
       "   Tolls_Amt  Total_Amt  \n",
       "0       0.00       4.90  \n",
       "1       0.00      49.30  \n",
       "2       4.15      29.95  \n",
       "3       0.00      12.10  \n",
       "4       0.00       9.70  "
      ]
     },
     "execution_count": 83,
     "metadata": {},
     "output_type": "execute_result"
    }
   ],
   "source": [
    "yellowdf.head()"
   ]
  },
  {
   "cell_type": "markdown",
   "id": "53f2e15d",
   "metadata": {},
   "source": [
    "## Clean Yellow Taxi: \n",
    "#### Standardize the Date column to conform to datetime format so that it is easier for manipulations\n",
    "#### Apply the distance function using the .apply() to our yellow taxi dataframe\n",
    "#### Drop all the irrelevant columns we dont need for our analysis in the sql or the visualization part\n",
    "#### Remove rows with very high distance and 0 distance (outliers)\n",
    "#### Remove trips outside latitude/longitude box using the outside function defined as earlier"
   ]
  },
  {
   "cell_type": "code",
   "execution_count": 84,
   "id": "41a385d2",
   "metadata": {},
   "outputs": [],
   "source": [
    "def clean_yellow(yellowdf):\n",
    "    \n",
    "    yellowdf[\"Date\"] = yellowdf[\"Trip_Pickup_DateTime\"].astype(\"datetime64\")\n",
    "    yellowdf[\"Distance\"]=yellowdf.apply(distance,axis=1)\n",
    "    \n",
    "    yellowdf.drop(columns=[\"vendor_name\",\"Passenger_Count\",\"Rate_Code\",\"store_and_forward\",\"Payment_Type\",\"Fare_Amt\",\"surcharge\",\"mta_tax\",\"Tolls_Amt\",\"Trip_Dropoff_DateTime\",\"Trip_Distance\"],errors=\"ignore\",inplace=True)\n",
    "    \n",
    "    yellowdf = yellowdf[yellowdf['Distance'] <= 50]\n",
    "    yellowdf = yellowdf[yellowdf['Distance'] != 0]\n",
    "    \n",
    "    #removing trips with 0 longitude or 0 longitude\n",
    "\n",
    "    yellowdf = yellowdf[yellowdf['Start_Lon'] != 0]\n",
    "    yellowdf = yellowdf[yellowdf['Start_Lat'] != 0]\n",
    "    yellowdf = yellowdf[yellowdf['End_Lon'] != 0]\n",
    "    yellowdf = yellowdf[yellowdf['End_Lat'] != 0]\n",
    "\n",
    "    #removing trips with 0 total amount\n",
    "\n",
    "    yellowdf = yellowdf[yellowdf['Total_Amt'] != 0]\n",
    "    \n",
    "    yellowdf=outside(yellowdf)\n",
    "    \n",
    "    yellowdf=yellowdf.assign(Date=yellowdf.Date.dt.round('H'))\n",
    "    \n",
    "    return yellowdf"
   ]
  },
  {
   "cell_type": "markdown",
   "id": "ee1f840a",
   "metadata": {},
   "source": [
    "### Calling the Clean Up Function"
   ]
  },
  {
   "cell_type": "code",
   "execution_count": 85,
   "id": "51df5157",
   "metadata": {},
   "outputs": [
    {
     "data": {
      "text/html": [
       "<div>\n",
       "<style scoped>\n",
       "    .dataframe tbody tr th:only-of-type {\n",
       "        vertical-align: middle;\n",
       "    }\n",
       "\n",
       "    .dataframe tbody tr th {\n",
       "        vertical-align: top;\n",
       "    }\n",
       "\n",
       "    .dataframe thead th {\n",
       "        text-align: right;\n",
       "    }\n",
       "</style>\n",
       "<table border=\"1\" class=\"dataframe\">\n",
       "  <thead>\n",
       "    <tr style=\"text-align: right;\">\n",
       "      <th></th>\n",
       "      <th>Trip_Pickup_DateTime</th>\n",
       "      <th>Start_Lon</th>\n",
       "      <th>Start_Lat</th>\n",
       "      <th>End_Lon</th>\n",
       "      <th>End_Lat</th>\n",
       "      <th>Tip_Amt</th>\n",
       "      <th>Total_Amt</th>\n",
       "      <th>Date</th>\n",
       "      <th>Distance</th>\n",
       "    </tr>\n",
       "  </thead>\n",
       "  <tbody>\n",
       "    <tr>\n",
       "      <th>0</th>\n",
       "      <td>2009-01-13 07:54:28</td>\n",
       "      <td>-73.961570</td>\n",
       "      <td>40.768545</td>\n",
       "      <td>-73.963642</td>\n",
       "      <td>40.774218</td>\n",
       "      <td>0.0</td>\n",
       "      <td>4.90</td>\n",
       "      <td>2009-01-13 08:00:00</td>\n",
       "      <td>0.654495</td>\n",
       "    </tr>\n",
       "    <tr>\n",
       "      <th>1</th>\n",
       "      <td>2009-01-22 09:02:19</td>\n",
       "      <td>-73.914399</td>\n",
       "      <td>40.746171</td>\n",
       "      <td>-73.816812</td>\n",
       "      <td>40.703619</td>\n",
       "      <td>0.0</td>\n",
       "      <td>49.30</td>\n",
       "      <td>2009-01-22 09:00:00</td>\n",
       "      <td>9.487619</td>\n",
       "    </tr>\n",
       "    <tr>\n",
       "      <th>2</th>\n",
       "      <td>2009-01-23 23:52:45</td>\n",
       "      <td>-73.874395</td>\n",
       "      <td>40.774010</td>\n",
       "      <td>-73.981739</td>\n",
       "      <td>40.765671</td>\n",
       "      <td>0.0</td>\n",
       "      <td>29.95</td>\n",
       "      <td>2009-01-24 00:00:00</td>\n",
       "      <td>9.087111</td>\n",
       "    </tr>\n",
       "    <tr>\n",
       "      <th>3</th>\n",
       "      <td>2009-01-06 18:34:58</td>\n",
       "      <td>-73.957687</td>\n",
       "      <td>40.765477</td>\n",
       "      <td>-73.977345</td>\n",
       "      <td>40.729237</td>\n",
       "      <td>1.0</td>\n",
       "      <td>12.10</td>\n",
       "      <td>2009-01-06 19:00:00</td>\n",
       "      <td>4.356703</td>\n",
       "    </tr>\n",
       "    <tr>\n",
       "      <th>4</th>\n",
       "      <td>2009-01-02 09:52:00</td>\n",
       "      <td>-74.000105</td>\n",
       "      <td>40.761962</td>\n",
       "      <td>-73.971110</td>\n",
       "      <td>40.759072</td>\n",
       "      <td>2.0</td>\n",
       "      <td>9.70</td>\n",
       "      <td>2009-01-02 10:00:00</td>\n",
       "      <td>2.463129</td>\n",
       "    </tr>\n",
       "  </tbody>\n",
       "</table>\n",
       "</div>"
      ],
      "text/plain": [
       "  Trip_Pickup_DateTime  Start_Lon  Start_Lat    End_Lon    End_Lat  Tip_Amt  \\\n",
       "0  2009-01-13 07:54:28 -73.961570  40.768545 -73.963642  40.774218      0.0   \n",
       "1  2009-01-22 09:02:19 -73.914399  40.746171 -73.816812  40.703619      0.0   \n",
       "2  2009-01-23 23:52:45 -73.874395  40.774010 -73.981739  40.765671      0.0   \n",
       "3  2009-01-06 18:34:58 -73.957687  40.765477 -73.977345  40.729237      1.0   \n",
       "4  2009-01-02 09:52:00 -74.000105  40.761962 -73.971110  40.759072      2.0   \n",
       "\n",
       "   Total_Amt                Date  Distance  \n",
       "0       4.90 2009-01-13 08:00:00  0.654495  \n",
       "1      49.30 2009-01-22 09:00:00  9.487619  \n",
       "2      29.95 2009-01-24 00:00:00  9.087111  \n",
       "3      12.10 2009-01-06 19:00:00  4.356703  \n",
       "4       9.70 2009-01-02 10:00:00  2.463129  "
      ]
     },
     "execution_count": 85,
     "metadata": {},
     "output_type": "execute_result"
    }
   ],
   "source": [
    "yellowdf=clean_yellow(yellowdf)\n",
    "yellowdf.head()"
   ]
  },
  {
   "cell_type": "code",
   "execution_count": 86,
   "id": "702c43f1",
   "metadata": {},
   "outputs": [
    {
     "name": "stdout",
     "output_type": "stream",
     "text": [
      "3.344135578783831\n",
      "226373\n"
     ]
    }
   ],
   "source": [
    "print(yellowdf[\"Distance\"].mean())\n",
    "print(len(yellowdf))"
   ]
  },
  {
   "cell_type": "markdown",
   "id": "6889beb5",
   "metadata": {},
   "source": [
    "# Importing Uber Data\n"
   ]
  },
  {
   "cell_type": "markdown",
   "id": "99445a0c",
   "metadata": {},
   "source": [
    "### We are provided this data and we need to manually download and save it our machine and then we import into a dataframe"
   ]
  },
  {
   "cell_type": "code",
   "execution_count": 87,
   "id": "e35a9136",
   "metadata": {},
   "outputs": [],
   "source": [
    "uberdf=pd.read_csv(\"uber_rides_sample.csv\")"
   ]
  },
  {
   "cell_type": "code",
   "execution_count": 88,
   "id": "678723f0",
   "metadata": {},
   "outputs": [
    {
     "data": {
      "text/html": [
       "<div>\n",
       "<style scoped>\n",
       "    .dataframe tbody tr th:only-of-type {\n",
       "        vertical-align: middle;\n",
       "    }\n",
       "\n",
       "    .dataframe tbody tr th {\n",
       "        vertical-align: top;\n",
       "    }\n",
       "\n",
       "    .dataframe thead th {\n",
       "        text-align: right;\n",
       "    }\n",
       "</style>\n",
       "<table border=\"1\" class=\"dataframe\">\n",
       "  <thead>\n",
       "    <tr style=\"text-align: right;\">\n",
       "      <th></th>\n",
       "      <th>Unnamed: 0</th>\n",
       "      <th>key</th>\n",
       "      <th>fare_amount</th>\n",
       "      <th>pickup_datetime</th>\n",
       "      <th>pickup_longitude</th>\n",
       "      <th>pickup_latitude</th>\n",
       "      <th>dropoff_longitude</th>\n",
       "      <th>dropoff_latitude</th>\n",
       "      <th>passenger_count</th>\n",
       "    </tr>\n",
       "  </thead>\n",
       "  <tbody>\n",
       "    <tr>\n",
       "      <th>0</th>\n",
       "      <td>24238194</td>\n",
       "      <td>2015-05-07 19:52:06.0000003</td>\n",
       "      <td>7.5</td>\n",
       "      <td>2015-05-07 19:52:06 UTC</td>\n",
       "      <td>-73.999817</td>\n",
       "      <td>40.738354</td>\n",
       "      <td>-73.999512</td>\n",
       "      <td>40.723217</td>\n",
       "      <td>1</td>\n",
       "    </tr>\n",
       "    <tr>\n",
       "      <th>1</th>\n",
       "      <td>27835199</td>\n",
       "      <td>2009-07-17 20:04:56.0000002</td>\n",
       "      <td>7.7</td>\n",
       "      <td>2009-07-17 20:04:56 UTC</td>\n",
       "      <td>-73.994355</td>\n",
       "      <td>40.728225</td>\n",
       "      <td>-73.994710</td>\n",
       "      <td>40.750325</td>\n",
       "      <td>1</td>\n",
       "    </tr>\n",
       "    <tr>\n",
       "      <th>2</th>\n",
       "      <td>44984355</td>\n",
       "      <td>2009-08-24 21:45:00.00000061</td>\n",
       "      <td>12.9</td>\n",
       "      <td>2009-08-24 21:45:00 UTC</td>\n",
       "      <td>-74.005043</td>\n",
       "      <td>40.740770</td>\n",
       "      <td>-73.962565</td>\n",
       "      <td>40.772647</td>\n",
       "      <td>1</td>\n",
       "    </tr>\n",
       "    <tr>\n",
       "      <th>3</th>\n",
       "      <td>25894730</td>\n",
       "      <td>2009-06-26 08:22:21.0000001</td>\n",
       "      <td>5.3</td>\n",
       "      <td>2009-06-26 08:22:21 UTC</td>\n",
       "      <td>-73.976124</td>\n",
       "      <td>40.790844</td>\n",
       "      <td>-73.965316</td>\n",
       "      <td>40.803349</td>\n",
       "      <td>3</td>\n",
       "    </tr>\n",
       "    <tr>\n",
       "      <th>4</th>\n",
       "      <td>17610152</td>\n",
       "      <td>2014-08-28 17:47:00.000000188</td>\n",
       "      <td>16.0</td>\n",
       "      <td>2014-08-28 17:47:00 UTC</td>\n",
       "      <td>-73.925023</td>\n",
       "      <td>40.744085</td>\n",
       "      <td>-73.973082</td>\n",
       "      <td>40.761247</td>\n",
       "      <td>5</td>\n",
       "    </tr>\n",
       "  </tbody>\n",
       "</table>\n",
       "</div>"
      ],
      "text/plain": [
       "   Unnamed: 0                            key  fare_amount  \\\n",
       "0    24238194    2015-05-07 19:52:06.0000003          7.5   \n",
       "1    27835199    2009-07-17 20:04:56.0000002          7.7   \n",
       "2    44984355   2009-08-24 21:45:00.00000061         12.9   \n",
       "3    25894730    2009-06-26 08:22:21.0000001          5.3   \n",
       "4    17610152  2014-08-28 17:47:00.000000188         16.0   \n",
       "\n",
       "           pickup_datetime  pickup_longitude  pickup_latitude  \\\n",
       "0  2015-05-07 19:52:06 UTC        -73.999817        40.738354   \n",
       "1  2009-07-17 20:04:56 UTC        -73.994355        40.728225   \n",
       "2  2009-08-24 21:45:00 UTC        -74.005043        40.740770   \n",
       "3  2009-06-26 08:22:21 UTC        -73.976124        40.790844   \n",
       "4  2014-08-28 17:47:00 UTC        -73.925023        40.744085   \n",
       "\n",
       "   dropoff_longitude  dropoff_latitude  passenger_count  \n",
       "0         -73.999512         40.723217                1  \n",
       "1         -73.994710         40.750325                1  \n",
       "2         -73.962565         40.772647                1  \n",
       "3         -73.965316         40.803349                3  \n",
       "4         -73.973082         40.761247                5  "
      ]
     },
     "execution_count": 88,
     "metadata": {},
     "output_type": "execute_result"
    }
   ],
   "source": [
    "uberdf.head()"
   ]
  },
  {
   "cell_type": "markdown",
   "id": "cea36bd9",
   "metadata": {},
   "source": [
    "### Initial clean up:\n",
    "###  We rename the columns to have homogenous labels with the yellow taxi data\n",
    "### Dropping unnecessary columns\n",
    "### Calculating the distance with latitude/longitude using the function defined as earlier"
   ]
  },
  {
   "cell_type": "code",
   "execution_count": 89,
   "id": "899ce7e6",
   "metadata": {},
   "outputs": [],
   "source": [
    "def initial_clean_uber(uberdf):\n",
    "    \n",
    "    uberdf=uberdf.drop(columns=[\"Unnamed: 0\",\"passenger_count\",\"key\"],errors=\"ignore\")\n",
    "\n",
    "    uberdf.rename(columns = {'pickup_latitude' : 'Start_Lat', \n",
    "                             'pickup_longitude' : 'Start_Lon', \n",
    "                             'dropoff_latitude' : 'End_Lat' ,\n",
    "                             'dropoff_longitude' : 'End_Lon' , \n",
    "                             'fare_amount' : 'Total_Amt',\n",
    "                             'pickup_datetime' : 'Trip_Pickup_DateTime'}, \n",
    "                  inplace = True,errors=\"ignore\")\n",
    "    uberdf[\"Date\"] = uberdf[\"Trip_Pickup_DateTime\"].astype(\"datetime64\")\n",
    "\n",
    "\n",
    "    uberdf[\"Distance\"]=uberdf.apply(distance,axis=1)\n",
    "\n",
    "    return uberdf"
   ]
  },
  {
   "cell_type": "markdown",
   "id": "f81d224c",
   "metadata": {},
   "source": [
    "### Calling the Clean Up Function"
   ]
  },
  {
   "cell_type": "code",
   "execution_count": 90,
   "id": "9c1691e4",
   "metadata": {},
   "outputs": [],
   "source": [
    "uberdf=initial_clean_uber(uberdf)"
   ]
  },
  {
   "cell_type": "code",
   "execution_count": 91,
   "id": "150c7934",
   "metadata": {},
   "outputs": [
    {
     "data": {
      "text/html": [
       "<div>\n",
       "<style scoped>\n",
       "    .dataframe tbody tr th:only-of-type {\n",
       "        vertical-align: middle;\n",
       "    }\n",
       "\n",
       "    .dataframe tbody tr th {\n",
       "        vertical-align: top;\n",
       "    }\n",
       "\n",
       "    .dataframe thead th {\n",
       "        text-align: right;\n",
       "    }\n",
       "</style>\n",
       "<table border=\"1\" class=\"dataframe\">\n",
       "  <thead>\n",
       "    <tr style=\"text-align: right;\">\n",
       "      <th></th>\n",
       "      <th>Total_Amt</th>\n",
       "      <th>Trip_Pickup_DateTime</th>\n",
       "      <th>Start_Lon</th>\n",
       "      <th>Start_Lat</th>\n",
       "      <th>End_Lon</th>\n",
       "      <th>End_Lat</th>\n",
       "      <th>Date</th>\n",
       "      <th>Distance</th>\n",
       "    </tr>\n",
       "  </thead>\n",
       "  <tbody>\n",
       "    <tr>\n",
       "      <th>0</th>\n",
       "      <td>7.5</td>\n",
       "      <td>2015-05-07 19:52:06 UTC</td>\n",
       "      <td>-73.999817</td>\n",
       "      <td>40.738354</td>\n",
       "      <td>-73.999512</td>\n",
       "      <td>40.723217</td>\n",
       "      <td>2015-05-07 19:52:06</td>\n",
       "      <td>1.683323</td>\n",
       "    </tr>\n",
       "    <tr>\n",
       "      <th>1</th>\n",
       "      <td>7.7</td>\n",
       "      <td>2009-07-17 20:04:56 UTC</td>\n",
       "      <td>-73.994355</td>\n",
       "      <td>40.728225</td>\n",
       "      <td>-73.994710</td>\n",
       "      <td>40.750325</td>\n",
       "      <td>2009-07-17 20:04:56</td>\n",
       "      <td>2.457590</td>\n",
       "    </tr>\n",
       "    <tr>\n",
       "      <th>2</th>\n",
       "      <td>12.9</td>\n",
       "      <td>2009-08-24 21:45:00 UTC</td>\n",
       "      <td>-74.005043</td>\n",
       "      <td>40.740770</td>\n",
       "      <td>-73.962565</td>\n",
       "      <td>40.772647</td>\n",
       "      <td>2009-08-24 21:45:00</td>\n",
       "      <td>5.036377</td>\n",
       "    </tr>\n",
       "    <tr>\n",
       "      <th>3</th>\n",
       "      <td>5.3</td>\n",
       "      <td>2009-06-26 08:22:21 UTC</td>\n",
       "      <td>-73.976124</td>\n",
       "      <td>40.790844</td>\n",
       "      <td>-73.965316</td>\n",
       "      <td>40.803349</td>\n",
       "      <td>2009-06-26 08:22:21</td>\n",
       "      <td>1.661683</td>\n",
       "    </tr>\n",
       "    <tr>\n",
       "      <th>4</th>\n",
       "      <td>16.0</td>\n",
       "      <td>2014-08-28 17:47:00 UTC</td>\n",
       "      <td>-73.925023</td>\n",
       "      <td>40.744085</td>\n",
       "      <td>-73.973082</td>\n",
       "      <td>40.761247</td>\n",
       "      <td>2014-08-28 17:47:00</td>\n",
       "      <td>4.475450</td>\n",
       "    </tr>\n",
       "  </tbody>\n",
       "</table>\n",
       "</div>"
      ],
      "text/plain": [
       "   Total_Amt     Trip_Pickup_DateTime  Start_Lon  Start_Lat    End_Lon  \\\n",
       "0        7.5  2015-05-07 19:52:06 UTC -73.999817  40.738354 -73.999512   \n",
       "1        7.7  2009-07-17 20:04:56 UTC -73.994355  40.728225 -73.994710   \n",
       "2       12.9  2009-08-24 21:45:00 UTC -74.005043  40.740770 -73.962565   \n",
       "3        5.3  2009-06-26 08:22:21 UTC -73.976124  40.790844 -73.965316   \n",
       "4       16.0  2014-08-28 17:47:00 UTC -73.925023  40.744085 -73.973082   \n",
       "\n",
       "     End_Lat                Date  Distance  \n",
       "0  40.723217 2015-05-07 19:52:06  1.683323  \n",
       "1  40.750325 2009-07-17 20:04:56  2.457590  \n",
       "2  40.772647 2009-08-24 21:45:00  5.036377  \n",
       "3  40.803349 2009-06-26 08:22:21  1.661683  \n",
       "4  40.761247 2014-08-28 17:47:00  4.475450  "
      ]
     },
     "execution_count": 91,
     "metadata": {},
     "output_type": "execute_result"
    }
   ],
   "source": [
    "uberdf.head()"
   ]
  },
  {
   "cell_type": "code",
   "execution_count": 92,
   "id": "6561467c",
   "metadata": {
    "scrolled": true
   },
   "outputs": [
    {
     "data": {
      "text/plain": [
       "<AxesSubplot:xlabel='Date'>"
      ]
     },
     "execution_count": 92,
     "metadata": {},
     "output_type": "execute_result"
    },
    {
     "data": {
      "image/png": "[encoded data removed]",
      "text/plain": [
       "<Figure size 432x288 with 1 Axes>"
      ]
     },
     "metadata": {
      "needs_background": "light"
     },
     "output_type": "display_data"
    }
   ],
   "source": [
    "uberdf[\"Distance\"].groupby(uberdf[\"Date\"].dt.weekday).count().plot(kind=\"bar\")"
   ]
  },
  {
   "cell_type": "markdown",
   "id": "63a7fbbc",
   "metadata": {},
   "source": [
    "## Removing Rows with very high distance and 0 distance (outliers)"
   ]
  },
  {
   "cell_type": "code",
   "execution_count": 93,
   "id": "a6463ef4",
   "metadata": {},
   "outputs": [
    {
     "name": "stdout",
     "output_type": "stream",
     "text": [
      "20.855349825361202\n",
      "200000\n"
     ]
    }
   ],
   "source": [
    "print(uberdf[\"Distance\"].mean())\n",
    "print(len(uberdf))"
   ]
  },
  {
   "cell_type": "code",
   "execution_count": 94,
   "id": "5cad3d26",
   "metadata": {},
   "outputs": [],
   "source": [
    "uberdf = uberdf[uberdf['Distance'] <= 50]\n",
    "uberdf = uberdf[uberdf['Distance'] != 0]"
   ]
  },
  {
   "cell_type": "code",
   "execution_count": 95,
   "id": "4a0ab715",
   "metadata": {},
   "outputs": [],
   "source": [
    "#removing trips with 0 longitude or 0 longitude\n",
    "\n",
    "uberdf = uberdf[uberdf['Start_Lon'] != 0]\n",
    "uberdf = uberdf[uberdf['Start_Lat'] != 0]\n",
    "uberdf = uberdf[uberdf['End_Lon'] != 0]\n",
    "uberdf = uberdf[uberdf['End_Lat'] != 0]\n",
    "\n",
    "#removing trips with 0 total amount\n",
    "\n",
    "uberdf = uberdf[uberdf['Total_Amt'] != 0]"
   ]
  },
  {
   "cell_type": "markdown",
   "id": "ba9e32ef",
   "metadata": {},
   "source": [
    "### Removing trips outside latitude/longitude box using the outside function defined as earlier"
   ]
  },
  {
   "cell_type": "code",
   "execution_count": 96,
   "id": "7e9cad3f",
   "metadata": {},
   "outputs": [],
   "source": [
    "uberdf=outside(uberdf)"
   ]
  },
  {
   "cell_type": "code",
   "execution_count": 97,
   "id": "97eac869",
   "metadata": {},
   "outputs": [
    {
     "name": "stdout",
     "output_type": "stream",
     "text": [
      "3.33772817297078\n",
      "193512\n"
     ]
    }
   ],
   "source": [
    "print(uberdf[\"Distance\"].mean())\n",
    "print(len(uberdf))"
   ]
  },
  {
   "cell_type": "code",
   "execution_count": 98,
   "id": "3a6df653",
   "metadata": {},
   "outputs": [],
   "source": [
    "uberdf=uberdf.assign(Date=uberdf.Date.dt.round('H'))"
   ]
  },
  {
   "cell_type": "markdown",
   "id": "882fcef2",
   "metadata": {},
   "source": [
    "# Creating dataframe combining yellow taxi and uber data"
   ]
  },
  {
   "cell_type": "markdown",
   "id": "db2804d2",
   "metadata": {},
   "source": [
    "#Adding a column 'Type' to identify whether Taxi was Uber or Yellow"
   ]
  },
  {
   "cell_type": "code",
   "execution_count": 99,
   "id": "24f5c0eb",
   "metadata": {},
   "outputs": [],
   "source": [
    "\n",
    "uberdf_flag=uberdf\n",
    "uberdf_flag[\"Type\"]=\"Uber\"\n",
    "\n",
    "yellowdf_flag=yellowdf\n",
    "yellowdf_flag[\"Type\"]=\"Yellow\"\n",
    "\n",
    "\n",
    "df_list = [uberdf_flag[['Total_Amt', 'Trip_Pickup_DateTime', 'Start_Lon', 'Start_Lat',\n",
    "       'End_Lon', 'End_Lat', 'Date', 'Distance','Type']],yellowdf_flag[['Total_Amt', 'Trip_Pickup_DateTime', 'Start_Lon', 'Start_Lat',\n",
    "       'End_Lon', 'End_Lat', 'Date', 'Distance','Type']]]\n",
    "tdf=pd.concat(df_list, ignore_index=True)"
   ]
  },
  {
   "cell_type": "code",
   "execution_count": 100,
   "id": "7efab17c",
   "metadata": {},
   "outputs": [],
   "source": [
    "tdf=tdf.assign(Date=tdf.Date.dt.round('H'))"
   ]
  },
  {
   "cell_type": "code",
   "execution_count": 101,
   "id": "06091717",
   "metadata": {},
   "outputs": [
    {
     "data": {
      "text/html": [
       "<div>\n",
       "<style scoped>\n",
       "    .dataframe tbody tr th:only-of-type {\n",
       "        vertical-align: middle;\n",
       "    }\n",
       "\n",
       "    .dataframe tbody tr th {\n",
       "        vertical-align: top;\n",
       "    }\n",
       "\n",
       "    .dataframe thead th {\n",
       "        text-align: right;\n",
       "    }\n",
       "</style>\n",
       "<table border=\"1\" class=\"dataframe\">\n",
       "  <thead>\n",
       "    <tr style=\"text-align: right;\">\n",
       "      <th></th>\n",
       "      <th>Total_Amt</th>\n",
       "      <th>Trip_Pickup_DateTime</th>\n",
       "      <th>Start_Lon</th>\n",
       "      <th>Start_Lat</th>\n",
       "      <th>End_Lon</th>\n",
       "      <th>End_Lat</th>\n",
       "      <th>Date</th>\n",
       "      <th>Distance</th>\n",
       "      <th>Type</th>\n",
       "    </tr>\n",
       "  </thead>\n",
       "  <tbody>\n",
       "    <tr>\n",
       "      <th>243935</th>\n",
       "      <td>5.1</td>\n",
       "      <td>2010-06-06 21:08:00</td>\n",
       "      <td>-73.989122</td>\n",
       "      <td>40.749957</td>\n",
       "      <td>-73.990367</td>\n",
       "      <td>40.756377</td>\n",
       "      <td>2010-06-06 21:00:00</td>\n",
       "      <td>0.721533</td>\n",
       "      <td>Yellow</td>\n",
       "    </tr>\n",
       "    <tr>\n",
       "      <th>39652</th>\n",
       "      <td>5.5</td>\n",
       "      <td>2014-01-08 18:44:00 UTC</td>\n",
       "      <td>-73.945140</td>\n",
       "      <td>40.778750</td>\n",
       "      <td>-73.939417</td>\n",
       "      <td>40.790485</td>\n",
       "      <td>2014-01-08 19:00:00</td>\n",
       "      <td>1.390993</td>\n",
       "      <td>Uber</td>\n",
       "    </tr>\n",
       "    <tr>\n",
       "      <th>153691</th>\n",
       "      <td>18.5</td>\n",
       "      <td>2014-08-06 19:23:00 UTC</td>\n",
       "      <td>-73.981150</td>\n",
       "      <td>40.759102</td>\n",
       "      <td>-74.010115</td>\n",
       "      <td>40.720382</td>\n",
       "      <td>2014-08-06 19:00:00</td>\n",
       "      <td>4.948957</td>\n",
       "      <td>Uber</td>\n",
       "    </tr>\n",
       "    <tr>\n",
       "      <th>140040</th>\n",
       "      <td>5.5</td>\n",
       "      <td>2013-03-31 01:55:00 UTC</td>\n",
       "      <td>-74.002105</td>\n",
       "      <td>40.739512</td>\n",
       "      <td>-74.005377</td>\n",
       "      <td>40.743625</td>\n",
       "      <td>2013-03-31 02:00:00</td>\n",
       "      <td>0.533997</td>\n",
       "      <td>Uber</td>\n",
       "    </tr>\n",
       "    <tr>\n",
       "      <th>232468</th>\n",
       "      <td>6.2</td>\n",
       "      <td>2010-02-15 17:21:00</td>\n",
       "      <td>-73.970482</td>\n",
       "      <td>40.761905</td>\n",
       "      <td>-73.981718</td>\n",
       "      <td>40.773573</td>\n",
       "      <td>2010-02-15 17:00:00</td>\n",
       "      <td>1.605825</td>\n",
       "      <td>Yellow</td>\n",
       "    </tr>\n",
       "    <tr>\n",
       "      <th>325182</th>\n",
       "      <td>7.0</td>\n",
       "      <td>2012-10-15 08:41:08</td>\n",
       "      <td>-73.960474</td>\n",
       "      <td>40.797567</td>\n",
       "      <td>-73.961378</td>\n",
       "      <td>40.806233</td>\n",
       "      <td>2012-10-15 09:00:00</td>\n",
       "      <td>0.966615</td>\n",
       "      <td>Yellow</td>\n",
       "    </tr>\n",
       "    <tr>\n",
       "      <th>239105</th>\n",
       "      <td>15.6</td>\n",
       "      <td>2010-04-27 10:32:00</td>\n",
       "      <td>-73.987957</td>\n",
       "      <td>40.743462</td>\n",
       "      <td>-73.963800</td>\n",
       "      <td>40.775265</td>\n",
       "      <td>2010-04-27 11:00:00</td>\n",
       "      <td>4.079876</td>\n",
       "      <td>Yellow</td>\n",
       "    </tr>\n",
       "    <tr>\n",
       "      <th>313159</th>\n",
       "      <td>11.8</td>\n",
       "      <td>2012-06-26 15:33:37</td>\n",
       "      <td>-73.986460</td>\n",
       "      <td>40.721861</td>\n",
       "      <td>-73.984837</td>\n",
       "      <td>40.753711</td>\n",
       "      <td>2012-06-26 16:00:00</td>\n",
       "      <td>3.544197</td>\n",
       "      <td>Yellow</td>\n",
       "    </tr>\n",
       "    <tr>\n",
       "      <th>355771</th>\n",
       "      <td>13.0</td>\n",
       "      <td>2013-09-12 20:20:00</td>\n",
       "      <td>-73.956965</td>\n",
       "      <td>40.780437</td>\n",
       "      <td>-73.959497</td>\n",
       "      <td>40.760202</td>\n",
       "      <td>2013-09-12 20:00:00</td>\n",
       "      <td>2.260110</td>\n",
       "      <td>Yellow</td>\n",
       "    </tr>\n",
       "    <tr>\n",
       "      <th>411376</th>\n",
       "      <td>8.3</td>\n",
       "      <td>2015-04-18 17:35:06</td>\n",
       "      <td>-73.991806</td>\n",
       "      <td>40.743614</td>\n",
       "      <td>-74.004089</td>\n",
       "      <td>40.752682</td>\n",
       "      <td>2015-04-18 18:00:00</td>\n",
       "      <td>1.444746</td>\n",
       "      <td>Yellow</td>\n",
       "    </tr>\n",
       "  </tbody>\n",
       "</table>\n",
       "</div>"
      ],
      "text/plain": [
       "        Total_Amt     Trip_Pickup_DateTime  Start_Lon  Start_Lat    End_Lon  \\\n",
       "243935        5.1      2010-06-06 21:08:00 -73.989122  40.749957 -73.990367   \n",
       "39652         5.5  2014-01-08 18:44:00 UTC -73.945140  40.778750 -73.939417   \n",
       "153691       18.5  2014-08-06 19:23:00 UTC -73.981150  40.759102 -74.010115   \n",
       "140040        5.5  2013-03-31 01:55:00 UTC -74.002105  40.739512 -74.005377   \n",
       "232468        6.2      2010-02-15 17:21:00 -73.970482  40.761905 -73.981718   \n",
       "325182        7.0      2012-10-15 08:41:08 -73.960474  40.797567 -73.961378   \n",
       "239105       15.6      2010-04-27 10:32:00 -73.987957  40.743462 -73.963800   \n",
       "313159       11.8      2012-06-26 15:33:37 -73.986460  40.721861 -73.984837   \n",
       "355771       13.0      2013-09-12 20:20:00 -73.956965  40.780437 -73.959497   \n",
       "411376        8.3      2015-04-18 17:35:06 -73.991806  40.743614 -74.004089   \n",
       "\n",
       "          End_Lat                Date  Distance    Type  \n",
       "243935  40.756377 2010-06-06 21:00:00  0.721533  Yellow  \n",
       "39652   40.790485 2014-01-08 19:00:00  1.390993    Uber  \n",
       "153691  40.720382 2014-08-06 19:00:00  4.948957    Uber  \n",
       "140040  40.743625 2013-03-31 02:00:00  0.533997    Uber  \n",
       "232468  40.773573 2010-02-15 17:00:00  1.605825  Yellow  \n",
       "325182  40.806233 2012-10-15 09:00:00  0.966615  Yellow  \n",
       "239105  40.775265 2010-04-27 11:00:00  4.079876  Yellow  \n",
       "313159  40.753711 2012-06-26 16:00:00  3.544197  Yellow  \n",
       "355771  40.760202 2013-09-12 20:00:00  2.260110  Yellow  \n",
       "411376  40.752682 2015-04-18 18:00:00  1.444746  Yellow  "
      ]
     },
     "execution_count": 101,
     "metadata": {},
     "output_type": "execute_result"
    }
   ],
   "source": [
    "tdf.sample(n=10)"
   ]
  },
  {
   "cell_type": "markdown",
   "id": "07719e49",
   "metadata": {},
   "source": [
    "# Weather Dataset"
   ]
  },
  {
   "cell_type": "markdown",
   "id": "ad3940fe",
   "metadata": {},
   "source": [
    "### We are given the weather data but we need to programatically load each and every csv file "
   ]
  },
  {
   "cell_type": "code",
   "execution_count": 102,
   "id": "82ee1923",
   "metadata": {},
   "outputs": [
    {
     "name": "stderr",
     "output_type": "stream",
     "text": [
      "C:\\Users\\Kunal\\AppData\\Local\\Temp\\ipykernel_15352\\1334377732.py:8: DtypeWarning: Columns (9,13) have mixed types. Specify dtype option on import or set low_memory=False.\n",
      "  eachweatherdf = pd.read_csv(filename, index_col=None, header=0)\n",
      "C:\\Users\\Kunal\\AppData\\Local\\Temp\\ipykernel_15352\\1334377732.py:8: DtypeWarning: Columns (8,9,10,17) have mixed types. Specify dtype option on import or set low_memory=False.\n",
      "  eachweatherdf = pd.read_csv(filename, index_col=None, header=0)\n",
      "C:\\Users\\Kunal\\AppData\\Local\\Temp\\ipykernel_15352\\1334377732.py:8: DtypeWarning: Columns (10) have mixed types. Specify dtype option on import or set low_memory=False.\n",
      "  eachweatherdf = pd.read_csv(filename, index_col=None, header=0)\n",
      "C:\\Users\\Kunal\\AppData\\Local\\Temp\\ipykernel_15352\\1334377732.py:8: DtypeWarning: Columns (7,8,9,10,17,18,42,65) have mixed types. Specify dtype option on import or set low_memory=False.\n",
      "  eachweatherdf = pd.read_csv(filename, index_col=None, header=0)\n",
      "C:\\Users\\Kunal\\AppData\\Local\\Temp\\ipykernel_15352\\1334377732.py:8: DtypeWarning: Columns (17,78) have mixed types. Specify dtype option on import or set low_memory=False.\n",
      "  eachweatherdf = pd.read_csv(filename, index_col=None, header=0)\n",
      "C:\\Users\\Kunal\\AppData\\Local\\Temp\\ipykernel_15352\\1334377732.py:8: DtypeWarning: Columns (8,9,17,18,78) have mixed types. Specify dtype option on import or set low_memory=False.\n",
      "  eachweatherdf = pd.read_csv(filename, index_col=None, header=0)\n",
      "C:\\Users\\Kunal\\AppData\\Local\\Temp\\ipykernel_15352\\1334377732.py:8: DtypeWarning: Columns (10,41,78) have mixed types. Specify dtype option on import or set low_memory=False.\n",
      "  eachweatherdf = pd.read_csv(filename, index_col=None, header=0)\n"
     ]
    }
   ],
   "source": [
    "#Load all weather csv into one dataframe\n",
    "path = r'weather' \n",
    "all_files = glob.glob(path + \"/*.csv\")\n",
    "\n",
    "li = []\n",
    "\n",
    "for filename in all_files:\n",
    "    eachweatherdf = pd.read_csv(filename, index_col=None, header=0)\n",
    "    li.append(eachweatherdf)\n",
    "\n",
    "weatherdf = pd.concat(li, axis=0, ignore_index=True)"
   ]
  },
  {
   "cell_type": "code",
   "execution_count": 103,
   "id": "04f76a4a",
   "metadata": {},
   "outputs": [],
   "source": [
    "weatherdf[\"DATE\"]=weatherdf[\"DATE\"].astype(\"datetime64\")"
   ]
  },
  {
   "cell_type": "markdown",
   "id": "ffb684b7",
   "metadata": {},
   "source": [
    "### Removing Dates after 2015 June"
   ]
  },
  {
   "cell_type": "code",
   "execution_count": 104,
   "id": "96000177",
   "metadata": {},
   "outputs": [],
   "source": [
    "weatherdf = weatherdf[ (weatherdf['DATE'].dt.year < 2015) | (weatherdf['DATE'].dt.month <= 6) ]"
   ]
  },
  {
   "cell_type": "markdown",
   "id": "77f815c2",
   "metadata": {},
   "source": [
    "### Creating Dataframe with daily and hourly weather data"
   ]
  },
  {
   "cell_type": "code",
   "execution_count": 105,
   "id": "00cd190c",
   "metadata": {},
   "outputs": [
    {
     "name": "stderr",
     "output_type": "stream",
     "text": [
      "C:\\Users\\Kunal\\AppData\\Local\\Temp\\ipykernel_15352\\3935078564.py:3: SettingWithCopyWarning: \n",
      "A value is trying to be set on a copy of a slice from a DataFrame.\n",
      "Try using .loc[row_indexer,col_indexer] = value instead\n",
      "\n",
      "See the caveats in the documentation: https://pandas.pydata.org/pandas-docs/stable/user_guide/indexing.html#returning-a-view-versus-a-copy\n",
      "  dayweather['day'] = dayweather.DATE.dt.date\n"
     ]
    }
   ],
   "source": [
    "dayweather=pd.DataFrame()\n",
    "dayweather=weatherdf[weatherdf['HourlyDryBulbTemperature'].notna() & weatherdf['HourlyWindSpeed'].notna()]\n",
    "dayweather['day'] = dayweather.DATE.dt.date\n",
    "# dayweather.set_index(\"DATE\")"
   ]
  },
  {
   "cell_type": "code",
   "execution_count": 106,
   "id": "c4790ed3",
   "metadata": {},
   "outputs": [
    {
     "name": "stderr",
     "output_type": "stream",
     "text": [
      "C:\\Users\\Kunal\\AppData\\Local\\Temp\\ipykernel_15352\\1676369403.py:2: SettingWithCopyWarning: \n",
      "A value is trying to be set on a copy of a slice from a DataFrame.\n",
      "Try using .loc[row_indexer,col_indexer] = value instead\n",
      "\n",
      "See the caveats in the documentation: https://pandas.pydata.org/pandas-docs/stable/user_guide/indexing.html#returning-a-view-versus-a-copy\n",
      "  dayweather['HourlyDryBulbTemperature']=pd.to_numeric(dayweather['HourlyDryBulbTemperature'], errors='coerce')\n",
      "C:\\Users\\Kunal\\AppData\\Local\\Temp\\ipykernel_15352\\1676369403.py:3: SettingWithCopyWarning: \n",
      "A value is trying to be set on a copy of a slice from a DataFrame.\n",
      "Try using .loc[row_indexer,col_indexer] = value instead\n",
      "\n",
      "See the caveats in the documentation: https://pandas.pydata.org/pandas-docs/stable/user_guide/indexing.html#returning-a-view-versus-a-copy\n",
      "  dayweather['HourlyWindSpeed']=pd.to_numeric(dayweather['HourlyWindSpeed'], errors='coerce')\n",
      "C:\\Users\\Kunal\\AppData\\Local\\Temp\\ipykernel_15352\\1676369403.py:4: SettingWithCopyWarning: \n",
      "A value is trying to be set on a copy of a slice from a DataFrame\n",
      "\n",
      "See the caveats in the documentation: https://pandas.pydata.org/pandas-docs/stable/user_guide/indexing.html#returning-a-view-versus-a-copy\n",
      "  dayweather.rename(columns={\"HourlyWindSpeed\":\"DailyAvgWindSpeed\",\"HourlyDryBulbTemperature\":\"DailyTemperature\"},inplace=True)\n"
     ]
    }
   ],
   "source": [
    "dayweather=dayweather[[\"DATE\",\"HourlyDryBulbTemperature\",\"HourlyWindSpeed\"]]\n",
    "dayweather['HourlyDryBulbTemperature']=pd.to_numeric(dayweather['HourlyDryBulbTemperature'], errors='coerce')\n",
    "dayweather['HourlyWindSpeed']=pd.to_numeric(dayweather['HourlyWindSpeed'], errors='coerce')\n",
    "dayweather.rename(columns={\"HourlyWindSpeed\":\"DailyAvgWindSpeed\",\"HourlyDryBulbTemperature\":\"DailyTemperature\"},inplace=True)"
   ]
  },
  {
   "cell_type": "code",
   "execution_count": 107,
   "id": "0b2ed843",
   "metadata": {},
   "outputs": [
    {
     "data": {
      "text/html": [
       "<div>\n",
       "<style scoped>\n",
       "    .dataframe tbody tr th:only-of-type {\n",
       "        vertical-align: middle;\n",
       "    }\n",
       "\n",
       "    .dataframe tbody tr th {\n",
       "        vertical-align: top;\n",
       "    }\n",
       "\n",
       "    .dataframe thead th {\n",
       "        text-align: right;\n",
       "    }\n",
       "</style>\n",
       "<table border=\"1\" class=\"dataframe\">\n",
       "  <thead>\n",
       "    <tr style=\"text-align: right;\">\n",
       "      <th></th>\n",
       "      <th>DATE</th>\n",
       "      <th>DailyTemperature</th>\n",
       "      <th>DailyAvgWindSpeed</th>\n",
       "    </tr>\n",
       "  </thead>\n",
       "  <tbody>\n",
       "    <tr>\n",
       "      <th>0</th>\n",
       "      <td>2009-01-01 00:51:00</td>\n",
       "      <td>18.0</td>\n",
       "      <td>18.0</td>\n",
       "    </tr>\n",
       "    <tr>\n",
       "      <th>1</th>\n",
       "      <td>2009-01-01 01:51:00</td>\n",
       "      <td>18.0</td>\n",
       "      <td>18.0</td>\n",
       "    </tr>\n",
       "    <tr>\n",
       "      <th>2</th>\n",
       "      <td>2009-01-01 02:51:00</td>\n",
       "      <td>18.0</td>\n",
       "      <td>18.0</td>\n",
       "    </tr>\n",
       "    <tr>\n",
       "      <th>3</th>\n",
       "      <td>2009-01-01 03:51:00</td>\n",
       "      <td>18.0</td>\n",
       "      <td>8.0</td>\n",
       "    </tr>\n",
       "    <tr>\n",
       "      <th>4</th>\n",
       "      <td>2009-01-01 04:51:00</td>\n",
       "      <td>18.0</td>\n",
       "      <td>11.0</td>\n",
       "    </tr>\n",
       "  </tbody>\n",
       "</table>\n",
       "</div>"
      ],
      "text/plain": [
       "                 DATE  DailyTemperature  DailyAvgWindSpeed\n",
       "0 2009-01-01 00:51:00              18.0               18.0\n",
       "1 2009-01-01 01:51:00              18.0               18.0\n",
       "2 2009-01-01 02:51:00              18.0               18.0\n",
       "3 2009-01-01 03:51:00              18.0                8.0\n",
       "4 2009-01-01 04:51:00              18.0               11.0"
      ]
     },
     "execution_count": 107,
     "metadata": {},
     "output_type": "execute_result"
    }
   ],
   "source": [
    "dayweather.head()"
   ]
  },
  {
   "cell_type": "markdown",
   "id": "edfe5ad7",
   "metadata": {},
   "source": [
    "### Now we are creating a daily weather dataframe for the daily weather we will created from the use of the hourly weather data made available"
   ]
  },
  {
   "cell_type": "code",
   "execution_count": 108,
   "id": "71f094a3",
   "metadata": {},
   "outputs": [],
   "source": [
    "daydf = dayweather.groupby([dayweather['DATE'].dt.date]).mean()"
   ]
  },
  {
   "cell_type": "code",
   "execution_count": 109,
   "id": "ac254d4e",
   "metadata": {},
   "outputs": [
    {
     "data": {
      "text/html": [
       "<div>\n",
       "<style scoped>\n",
       "    .dataframe tbody tr th:only-of-type {\n",
       "        vertical-align: middle;\n",
       "    }\n",
       "\n",
       "    .dataframe tbody tr th {\n",
       "        vertical-align: top;\n",
       "    }\n",
       "\n",
       "    .dataframe thead th {\n",
       "        text-align: right;\n",
       "    }\n",
       "</style>\n",
       "<table border=\"1\" class=\"dataframe\">\n",
       "  <thead>\n",
       "    <tr style=\"text-align: right;\">\n",
       "      <th></th>\n",
       "      <th>DailyTemperature</th>\n",
       "      <th>DailyAvgWindSpeed</th>\n",
       "    </tr>\n",
       "    <tr>\n",
       "      <th>DATE</th>\n",
       "      <th></th>\n",
       "      <th></th>\n",
       "    </tr>\n",
       "  </thead>\n",
       "  <tbody>\n",
       "    <tr>\n",
       "      <th>2010-10-31</th>\n",
       "      <td>49.958333</td>\n",
       "      <td>8.458333</td>\n",
       "    </tr>\n",
       "    <tr>\n",
       "      <th>2011-03-30</th>\n",
       "      <td>43.095238</td>\n",
       "      <td>4.428571</td>\n",
       "    </tr>\n",
       "    <tr>\n",
       "      <th>2012-08-20</th>\n",
       "      <td>71.500000</td>\n",
       "      <td>1.125000</td>\n",
       "    </tr>\n",
       "    <tr>\n",
       "      <th>2009-12-26</th>\n",
       "      <td>43.200000</td>\n",
       "      <td>11.940000</td>\n",
       "    </tr>\n",
       "    <tr>\n",
       "      <th>2013-04-10</th>\n",
       "      <td>60.781250</td>\n",
       "      <td>4.781250</td>\n",
       "    </tr>\n",
       "    <tr>\n",
       "      <th>2013-07-05</th>\n",
       "      <td>82.040000</td>\n",
       "      <td>5.000000</td>\n",
       "    </tr>\n",
       "    <tr>\n",
       "      <th>2014-01-27</th>\n",
       "      <td>33.043478</td>\n",
       "      <td>8.173913</td>\n",
       "    </tr>\n",
       "    <tr>\n",
       "      <th>2013-01-12</th>\n",
       "      <td>44.021277</td>\n",
       "      <td>3.617021</td>\n",
       "    </tr>\n",
       "    <tr>\n",
       "      <th>2012-01-27</th>\n",
       "      <td>49.680000</td>\n",
       "      <td>7.360000</td>\n",
       "    </tr>\n",
       "    <tr>\n",
       "      <th>2010-02-08</th>\n",
       "      <td>29.291667</td>\n",
       "      <td>9.666667</td>\n",
       "    </tr>\n",
       "  </tbody>\n",
       "</table>\n",
       "</div>"
      ],
      "text/plain": [
       "            DailyTemperature  DailyAvgWindSpeed\n",
       "DATE                                           \n",
       "2010-10-31         49.958333           8.458333\n",
       "2011-03-30         43.095238           4.428571\n",
       "2012-08-20         71.500000           1.125000\n",
       "2009-12-26         43.200000          11.940000\n",
       "2013-04-10         60.781250           4.781250\n",
       "2013-07-05         82.040000           5.000000\n",
       "2014-01-27         33.043478           8.173913\n",
       "2013-01-12         44.021277           3.617021\n",
       "2012-01-27         49.680000           7.360000\n",
       "2010-02-08         29.291667           9.666667"
      ]
     },
     "execution_count": 109,
     "metadata": {},
     "output_type": "execute_result"
    }
   ],
   "source": [
    "daydf.sample(10)"
   ]
  },
  {
   "cell_type": "markdown",
   "id": "4ecace62",
   "metadata": {},
   "source": [
    "### Hourly data"
   ]
  },
  {
   "cell_type": "code",
   "execution_count": 110,
   "id": "b23a219c",
   "metadata": {},
   "outputs": [],
   "source": [
    "hourweather=pd.DataFrame()\n",
    "hourweather=weatherdf\n",
    "hourweather['day'] = hourweather.DATE.dt.date"
   ]
  },
  {
   "cell_type": "code",
   "execution_count": 111,
   "id": "7efbdd87",
   "metadata": {},
   "outputs": [
    {
     "name": "stderr",
     "output_type": "stream",
     "text": [
      "C:\\Users\\Kunal\\AppData\\Local\\Temp\\ipykernel_15352\\127846862.py:2: SettingWithCopyWarning: \n",
      "A value is trying to be set on a copy of a slice from a DataFrame.\n",
      "Try using .loc[row_indexer,col_indexer] = value instead\n",
      "\n",
      "See the caveats in the documentation: https://pandas.pydata.org/pandas-docs/stable/user_guide/indexing.html#returning-a-view-versus-a-copy\n",
      "  hourweather['HourlyDryBulbTemperature']=pd.to_numeric(hourweather['HourlyDryBulbTemperature'], errors='coerce')\n",
      "C:\\Users\\Kunal\\AppData\\Local\\Temp\\ipykernel_15352\\127846862.py:3: SettingWithCopyWarning: \n",
      "A value is trying to be set on a copy of a slice from a DataFrame.\n",
      "Try using .loc[row_indexer,col_indexer] = value instead\n",
      "\n",
      "See the caveats in the documentation: https://pandas.pydata.org/pandas-docs/stable/user_guide/indexing.html#returning-a-view-versus-a-copy\n",
      "  hourweather['HourlyWindSpeed']=pd.to_numeric(hourweather['HourlyWindSpeed'], errors='coerce')\n",
      "C:\\Users\\Kunal\\AppData\\Local\\Temp\\ipykernel_15352\\127846862.py:4: SettingWithCopyWarning: \n",
      "A value is trying to be set on a copy of a slice from a DataFrame.\n",
      "Try using .loc[row_indexer,col_indexer] = value instead\n",
      "\n",
      "See the caveats in the documentation: https://pandas.pydata.org/pandas-docs/stable/user_guide/indexing.html#returning-a-view-versus-a-copy\n",
      "  hourweather['HourlyPrecipitation']=pd.to_numeric(hourweather['HourlyPrecipitation'], errors='coerce')\n",
      "C:\\Users\\Kunal\\AppData\\Local\\Temp\\ipykernel_15352\\127846862.py:5: SettingWithCopyWarning: \n",
      "A value is trying to be set on a copy of a slice from a DataFrame\n",
      "\n",
      "See the caveats in the documentation: https://pandas.pydata.org/pandas-docs/stable/user_guide/indexing.html#returning-a-view-versus-a-copy\n",
      "  hourweather.rename(columns={\"HourlyDryBulbTemperature\":\"HourlyTemperature\"},inplace=True)\n"
     ]
    }
   ],
   "source": [
    "hourweather=hourweather[[\"DATE\",\"HourlyDryBulbTemperature\",\"HourlyWindSpeed\",\"HourlyPrecipitation\"]]\n",
    "hourweather['HourlyDryBulbTemperature']=pd.to_numeric(hourweather['HourlyDryBulbTemperature'], errors='coerce')\n",
    "hourweather['HourlyWindSpeed']=pd.to_numeric(hourweather['HourlyWindSpeed'], errors='coerce')\n",
    "hourweather['HourlyPrecipitation']=pd.to_numeric(hourweather['HourlyPrecipitation'], errors='coerce')\n",
    "hourweather.rename(columns={\"HourlyDryBulbTemperature\":\"HourlyTemperature\"},inplace=True)"
   ]
  },
  {
   "cell_type": "code",
   "execution_count": 112,
   "id": "abb0e7ef",
   "metadata": {},
   "outputs": [
    {
     "data": {
      "text/html": [
       "<div>\n",
       "<style scoped>\n",
       "    .dataframe tbody tr th:only-of-type {\n",
       "        vertical-align: middle;\n",
       "    }\n",
       "\n",
       "    .dataframe tbody tr th {\n",
       "        vertical-align: top;\n",
       "    }\n",
       "\n",
       "    .dataframe thead th {\n",
       "        text-align: right;\n",
       "    }\n",
       "</style>\n",
       "<table border=\"1\" class=\"dataframe\">\n",
       "  <thead>\n",
       "    <tr style=\"text-align: right;\">\n",
       "      <th></th>\n",
       "      <th>DATE</th>\n",
       "      <th>HourlyTemperature</th>\n",
       "      <th>HourlyWindSpeed</th>\n",
       "      <th>HourlyPrecipitation</th>\n",
       "    </tr>\n",
       "  </thead>\n",
       "  <tbody>\n",
       "    <tr>\n",
       "      <th>0</th>\n",
       "      <td>2009-01-01 00:51:00</td>\n",
       "      <td>18.0</td>\n",
       "      <td>18.0</td>\n",
       "      <td>NaN</td>\n",
       "    </tr>\n",
       "    <tr>\n",
       "      <th>1</th>\n",
       "      <td>2009-01-01 01:51:00</td>\n",
       "      <td>18.0</td>\n",
       "      <td>18.0</td>\n",
       "      <td>NaN</td>\n",
       "    </tr>\n",
       "    <tr>\n",
       "      <th>2</th>\n",
       "      <td>2009-01-01 02:51:00</td>\n",
       "      <td>18.0</td>\n",
       "      <td>18.0</td>\n",
       "      <td>NaN</td>\n",
       "    </tr>\n",
       "    <tr>\n",
       "      <th>3</th>\n",
       "      <td>2009-01-01 03:51:00</td>\n",
       "      <td>18.0</td>\n",
       "      <td>8.0</td>\n",
       "      <td>NaN</td>\n",
       "    </tr>\n",
       "    <tr>\n",
       "      <th>4</th>\n",
       "      <td>2009-01-01 04:51:00</td>\n",
       "      <td>18.0</td>\n",
       "      <td>11.0</td>\n",
       "      <td>NaN</td>\n",
       "    </tr>\n",
       "  </tbody>\n",
       "</table>\n",
       "</div>"
      ],
      "text/plain": [
       "                 DATE  HourlyTemperature  HourlyWindSpeed  HourlyPrecipitation\n",
       "0 2009-01-01 00:51:00               18.0             18.0                  NaN\n",
       "1 2009-01-01 01:51:00               18.0             18.0                  NaN\n",
       "2 2009-01-01 02:51:00               18.0             18.0                  NaN\n",
       "3 2009-01-01 03:51:00               18.0              8.0                  NaN\n",
       "4 2009-01-01 04:51:00               18.0             11.0                  NaN"
      ]
     },
     "execution_count": 112,
     "metadata": {},
     "output_type": "execute_result"
    }
   ],
   "source": [
    "hourweather.head()"
   ]
  },
  {
   "cell_type": "code",
   "execution_count": 113,
   "id": "956bc070",
   "metadata": {},
   "outputs": [],
   "source": [
    "hourweather=hourweather.assign(DATE=hourweather.DATE.dt.round('H'))"
   ]
  },
  {
   "cell_type": "code",
   "execution_count": 114,
   "id": "fdda6abf",
   "metadata": {},
   "outputs": [],
   "source": [
    "hourdf = hourweather.groupby([hourweather['DATE']]).mean()"
   ]
  },
  {
   "cell_type": "code",
   "execution_count": 115,
   "id": "83f57d5b",
   "metadata": {},
   "outputs": [
    {
     "data": {
      "text/html": [
       "<div>\n",
       "<style scoped>\n",
       "    .dataframe tbody tr th:only-of-type {\n",
       "        vertical-align: middle;\n",
       "    }\n",
       "\n",
       "    .dataframe tbody tr th {\n",
       "        vertical-align: top;\n",
       "    }\n",
       "\n",
       "    .dataframe thead th {\n",
       "        text-align: right;\n",
       "    }\n",
       "</style>\n",
       "<table border=\"1\" class=\"dataframe\">\n",
       "  <thead>\n",
       "    <tr style=\"text-align: right;\">\n",
       "      <th></th>\n",
       "      <th>HourlyTemperature</th>\n",
       "      <th>HourlyWindSpeed</th>\n",
       "      <th>HourlyPrecipitation</th>\n",
       "    </tr>\n",
       "    <tr>\n",
       "      <th>DATE</th>\n",
       "      <th></th>\n",
       "      <th></th>\n",
       "      <th></th>\n",
       "    </tr>\n",
       "  </thead>\n",
       "  <tbody>\n",
       "    <tr>\n",
       "      <th>2009-01-01 01:00:00</th>\n",
       "      <td>18.0</td>\n",
       "      <td>18.0</td>\n",
       "      <td>NaN</td>\n",
       "    </tr>\n",
       "    <tr>\n",
       "      <th>2009-01-01 02:00:00</th>\n",
       "      <td>18.0</td>\n",
       "      <td>18.0</td>\n",
       "      <td>NaN</td>\n",
       "    </tr>\n",
       "    <tr>\n",
       "      <th>2009-01-01 03:00:00</th>\n",
       "      <td>18.0</td>\n",
       "      <td>18.0</td>\n",
       "      <td>NaN</td>\n",
       "    </tr>\n",
       "    <tr>\n",
       "      <th>2009-01-01 04:00:00</th>\n",
       "      <td>18.0</td>\n",
       "      <td>8.0</td>\n",
       "      <td>NaN</td>\n",
       "    </tr>\n",
       "    <tr>\n",
       "      <th>2009-01-01 05:00:00</th>\n",
       "      <td>18.0</td>\n",
       "      <td>11.0</td>\n",
       "      <td>NaN</td>\n",
       "    </tr>\n",
       "  </tbody>\n",
       "</table>\n",
       "</div>"
      ],
      "text/plain": [
       "                     HourlyTemperature  HourlyWindSpeed  HourlyPrecipitation\n",
       "DATE                                                                        \n",
       "2009-01-01 01:00:00               18.0             18.0                  NaN\n",
       "2009-01-01 02:00:00               18.0             18.0                  NaN\n",
       "2009-01-01 03:00:00               18.0             18.0                  NaN\n",
       "2009-01-01 04:00:00               18.0              8.0                  NaN\n",
       "2009-01-01 05:00:00               18.0             11.0                  NaN"
      ]
     },
     "execution_count": 115,
     "metadata": {},
     "output_type": "execute_result"
    }
   ],
   "source": [
    "hourdf.head()"
   ]
  },
  {
   "cell_type": "code",
   "execution_count": 116,
   "id": "3039537f",
   "metadata": {},
   "outputs": [
    {
     "data": {
      "text/html": [
       "<div>\n",
       "<style scoped>\n",
       "    .dataframe tbody tr th:only-of-type {\n",
       "        vertical-align: middle;\n",
       "    }\n",
       "\n",
       "    .dataframe tbody tr th {\n",
       "        vertical-align: top;\n",
       "    }\n",
       "\n",
       "    .dataframe thead th {\n",
       "        text-align: right;\n",
       "    }\n",
       "</style>\n",
       "<table border=\"1\" class=\"dataframe\">\n",
       "  <thead>\n",
       "    <tr style=\"text-align: right;\">\n",
       "      <th></th>\n",
       "      <th>HourlyTemperature</th>\n",
       "      <th>HourlyWindSpeed</th>\n",
       "      <th>HourlyPrecipitation</th>\n",
       "    </tr>\n",
       "    <tr>\n",
       "      <th>DATE</th>\n",
       "      <th></th>\n",
       "      <th></th>\n",
       "      <th></th>\n",
       "    </tr>\n",
       "  </thead>\n",
       "  <tbody>\n",
       "    <tr>\n",
       "      <th>2013-10-31 07:00:00</th>\n",
       "      <td>58.0</td>\n",
       "      <td>3.0</td>\n",
       "      <td>0.0</td>\n",
       "    </tr>\n",
       "    <tr>\n",
       "      <th>2011-04-16 03:00:00</th>\n",
       "      <td>41.0</td>\n",
       "      <td>7.0</td>\n",
       "      <td>NaN</td>\n",
       "    </tr>\n",
       "    <tr>\n",
       "      <th>2013-09-15 10:00:00</th>\n",
       "      <td>62.0</td>\n",
       "      <td>3.0</td>\n",
       "      <td>0.0</td>\n",
       "    </tr>\n",
       "    <tr>\n",
       "      <th>2010-04-07 02:00:00</th>\n",
       "      <td>57.0</td>\n",
       "      <td>5.0</td>\n",
       "      <td>NaN</td>\n",
       "    </tr>\n",
       "    <tr>\n",
       "      <th>2011-10-22 11:00:00</th>\n",
       "      <td>57.0</td>\n",
       "      <td>5.0</td>\n",
       "      <td>NaN</td>\n",
       "    </tr>\n",
       "    <tr>\n",
       "      <th>2009-01-12 15:00:00</th>\n",
       "      <td>32.0</td>\n",
       "      <td>9.0</td>\n",
       "      <td>NaN</td>\n",
       "    </tr>\n",
       "    <tr>\n",
       "      <th>2010-03-20 07:00:00</th>\n",
       "      <td>55.0</td>\n",
       "      <td>0.0</td>\n",
       "      <td>NaN</td>\n",
       "    </tr>\n",
       "    <tr>\n",
       "      <th>2010-01-14 14:00:00</th>\n",
       "      <td>39.0</td>\n",
       "      <td>8.0</td>\n",
       "      <td>NaN</td>\n",
       "    </tr>\n",
       "    <tr>\n",
       "      <th>2009-01-04 11:00:00</th>\n",
       "      <td>30.0</td>\n",
       "      <td>10.0</td>\n",
       "      <td>NaN</td>\n",
       "    </tr>\n",
       "    <tr>\n",
       "      <th>2014-10-29 14:00:00</th>\n",
       "      <td>68.0</td>\n",
       "      <td>6.0</td>\n",
       "      <td>0.0</td>\n",
       "    </tr>\n",
       "  </tbody>\n",
       "</table>\n",
       "</div>"
      ],
      "text/plain": [
       "                     HourlyTemperature  HourlyWindSpeed  HourlyPrecipitation\n",
       "DATE                                                                        \n",
       "2013-10-31 07:00:00               58.0              3.0                  0.0\n",
       "2011-04-16 03:00:00               41.0              7.0                  NaN\n",
       "2013-09-15 10:00:00               62.0              3.0                  0.0\n",
       "2010-04-07 02:00:00               57.0              5.0                  NaN\n",
       "2011-10-22 11:00:00               57.0              5.0                  NaN\n",
       "2009-01-12 15:00:00               32.0              9.0                  NaN\n",
       "2010-03-20 07:00:00               55.0              0.0                  NaN\n",
       "2010-01-14 14:00:00               39.0              8.0                  NaN\n",
       "2009-01-04 11:00:00               30.0             10.0                  NaN\n",
       "2014-10-29 14:00:00               68.0              6.0                  0.0"
      ]
     },
     "execution_count": 116,
     "metadata": {},
     "output_type": "execute_result"
    }
   ],
   "source": [
    "hourdf.sample(10)"
   ]
  },
  {
   "cell_type": "code",
   "execution_count": null,
   "id": "08b742c3",
   "metadata": {},
   "outputs": [],
   "source": []
  },
  {
   "cell_type": "markdown",
   "id": "74469437",
   "metadata": {},
   "source": [
    "# Part 2 - SQL - Storing Data"
   ]
  },
  {
   "cell_type": "code",
   "execution_count": 117,
   "id": "d39ad5af",
   "metadata": {},
   "outputs": [],
   "source": [
    "# first create a connection - we'll create a new database \n",
    "engine = create_engine(f\"sqlite:///taxidata.db\", echo=True)\n",
    "dbname=\"taxidata.db\""
   ]
  },
  {
   "cell_type": "code",
   "execution_count": 118,
   "id": "3b46fd27",
   "metadata": {},
   "outputs": [],
   "source": [
    "# changing the format of the log messages that sqlalchemy will\n",
    "# now print out, just for easier reading;\n",
    "# we also do this after we create an engine since the \n",
    "# logger doesn't exist beforehand\n",
    "\n",
    "sqllogger = logging.getLogger(\"sqlalchemy.engine.Engine\")\n",
    "formatter = logging.Formatter(\"[sqlalchemy] %(message)s\")\n",
    "sqllogger.handlers[0].setFormatter(formatter)"
   ]
  },
  {
   "cell_type": "code",
   "execution_count": 119,
   "id": "626fd4a5",
   "metadata": {},
   "outputs": [],
   "source": [
    "create_uber='''CREATE TABLE IF NOT EXISTS uber (\n",
    "\"index\" BIGINT, \n",
    "\"Total_Amt\" FLOAT, \n",
    "\"Trip_Pickup_DateTime\" TEXT, \n",
    "\"Start_Lon\" FLOAT, \n",
    "\"Start_Lat\" FLOAT, \n",
    "\"End_Lon\" FLOAT, \n",
    "\"End_Lat\" FLOAT, \n",
    "\"Date\" DATETIME, \n",
    "\"Distance\" FLOAT, \n",
    "\"Type\" TEXT\n",
    ");\n",
    "\n",
    "'''\n",
    "create_yellow='''\n",
    "CREATE TABLE IF NOT EXISTS yellow (\n",
    "\"index\" BIGINT, \n",
    "\"Trip_Pickup_DateTime\" TEXT, \n",
    "\"Start_Lon\" FLOAT, \n",
    "\"Start_Lat\" FLOAT, \n",
    "\"End_Lon\" FLOAT, \n",
    "\"End_Lat\" FLOAT, \n",
    "\"Tip_Amt\" FLOAT,\n",
    "\"Total_Amt\" FLOAT, \n",
    "\"Date\" DATETIME, \n",
    "\"Distance\" FLOAT, \n",
    "\"Type\" TEXT\n",
    ");\n",
    "\n",
    "'''\n",
    "\n",
    "create_hour_weather='''CREATE TABLE hourtable (\n",
    "\"DATE\" DATETIME, \n",
    "\"HourlyTemperature\" FLOAT, \n",
    "\"HourlyWindSpeed\" FLOAT, \n",
    "\"HourlyPrecipitation\" FLOAT\n",
    ");\n",
    "\n",
    "'''\n",
    "create_day_weather='''CREATE TABLE daytable (\n",
    "\"DATE\" DATE, \n",
    "\"DailyTemperature\" FLOAT, \n",
    "\"DailyAvgWindSpeed\" FLOAT\n",
    ");\n",
    "\n",
    "'''\n",
    "\n",
    "\n",
    "create_view_sandy='''CREATE VIEW IF NOT EXISTS HurricaneSandy3 AS\n",
    "    SELECT Date,\n",
    "           Count( * ) Number_of_Rides\n",
    "      FROM (\n",
    "               SELECT Date,\n",
    "                      Distance\n",
    "                 FROM (\n",
    "                          SELECT Date,\n",
    "                                 Distance\n",
    "                            FROM uber\n",
    "                          UNION ALL\n",
    "                          SELECT Date,\n",
    "                                 Distance\n",
    "                            FROM yellow\n",
    "                      )\n",
    "                WHERE Date >= '2012-10-21' AND \n",
    "                      Date <= '2012-11-03'\n",
    "           )\n",
    "     GROUP BY Date;\n",
    "     \n",
    "     '''"
   ]
  },
  {
   "cell_type": "code",
   "execution_count": 120,
   "id": "d99ea6bc",
   "metadata": {},
   "outputs": [],
   "source": [
    "with open(\"schema.sql\", \"w\") as f:\n",
    "    f.write(create_uber)\n",
    "    f.write(create_yellow)\n",
    "    f.write(create_hour_weather)\n",
    "    f.write(create_day_weather)\n",
    "    f.write(create_view_sandy)"
   ]
  },
  {
   "cell_type": "code",
   "execution_count": 121,
   "id": "6548db62",
   "metadata": {},
   "outputs": [
    {
     "name": "stderr",
     "output_type": "stream",
     "text": [
      "Parse error near line 29: table hourtable already exists\n",
      "  CREATE TABLE hourtable ( \"DATE\" DATETIME,  \"HourlyTemperature\" FLOAT,  \"Hourly\n",
      "               ^--- error here\n",
      "Parse error near line 36: table daytable already exists\n",
      "  CREATE TABLE daytable ( \"DATE\" DATE,  \"DailyTemperature\" FLOAT,  \"DailyAvgWind\n",
      "               ^--- error here\n"
     ]
    }
   ],
   "source": [
    "!sqlite3 $dbname < schema.sql"
   ]
  },
  {
   "cell_type": "markdown",
   "id": "3ed631ae",
   "metadata": {},
   "source": [
    "### We are now writing each of the dataframes we preprocessed in the earlier section to our database with the help of sql alcehmy. We have already created the tables in the database with the schema.sql file"
   ]
  },
  {
   "cell_type": "code",
   "execution_count": 122,
   "id": "5a7a681d",
   "metadata": {},
   "outputs": [
    {
     "name": "stdout",
     "output_type": "stream",
     "text": [
      "[sqlalchemy] PRAGMA main.table_info(\"uber\")\n",
      "[sqlalchemy] [raw sql] ()\n",
      "[sqlalchemy] BEGIN (implicit)\n",
      "[sqlalchemy] INSERT INTO uber (\"index\", \"Total_Amt\", \"Trip_Pickup_DateTime\", \"Start_Lon\", \"Start_Lat\", \"End_Lon\", \"End_Lat\", \"Date\", \"Distance\", \"Type\") VALUES (?, ?, ?, ?, ?, ?, ?, ?, ?, ?)\n",
      "[sqlalchemy] [generated in 1.05557s] ((0, 7.5, '2015-05-07 19:52:06 UTC', -73.99981689453125, 40.73835372924805, -73.99951171875, 40.72321701049805, '2015-05-07 20:00:00.000000', 1.6833227524029715, 'Uber'), (1, 7.7, '2009-07-17 20:04:56 UTC', -73.994355, 40.728225, -73.99471, 40.750325, '2009-07-17 20:00:00.000000', 2.4575898837790673, 'Uber'), (2, 12.9, '2009-08-24 21:45:00 UTC', -74.005043, 40.74077, -73.962565, 40.772647, '2009-08-24 22:00:00.000000', 5.036377190242826, 'Uber'), (3, 5.3, '2009-06-26 08:22:21 UTC', -73.976124, 40.790844, -73.965316, 40.803349, '2009-06-26 08:00:00.000000', 1.6616834584355225, 'Uber'), (4, 16.0, '2014-08-28 17:47:00 UTC', -73.925023, 40.744085, -73.97308199999999, 40.761247, '2014-08-28 18:00:00.000000', 4.475449963028309, 'Uber'), (6, 24.5, '2014-10-12 07:04:00 UTC', -73.96144699999999, 40.693965000000006, -73.871195, 40.774297, '2014-10-12 07:00:00.000000', 11.731014883538833, 'Uber'), (8, 9.7, '2012-02-17 09:32:00 UTC', -73.975187, 40.745767, -74.00272, 40.743537, '2012-02-17 10:00:00.000000', 2.332711009340228, 'Uber'), (9, 12.5, '2012-03-29 19:06:00 UTC', -74.001065, 40.741787, -73.96304, 40.775012, '2012-03-29 19:00:00.000000', 4.889416888104309, 'Uber')  ... displaying 10 of 193512 total bound parameter sets ...  (199998, 14.5, '2015-05-20 14:56:25 UTC', -73.99712371826173, 40.7254524230957, -73.98321533203125, 40.69541549682617, '2015-05-20 15:00:00.000000', 3.5397154517444913, 'Uber'), (199999, 14.1, '2010-05-15 04:08:00 UTC', -73.98439499999999, 40.720077, -73.985508, 40.768793, '2010-05-15 04:00:00.000000', 5.417783481057187, 'Uber'))\n",
      "[sqlalchemy] COMMIT\n"
     ]
    },
    {
     "data": {
      "text/plain": [
       "193512"
      ]
     },
     "execution_count": 122,
     "metadata": {},
     "output_type": "execute_result"
    }
   ],
   "source": [
    "uberdf.to_sql(\"uber\",con=engine,if_exists='append')"
   ]
  },
  {
   "cell_type": "code",
   "execution_count": 123,
   "id": "2b145dbb",
   "metadata": {},
   "outputs": [
    {
     "name": "stdout",
     "output_type": "stream",
     "text": [
      "[sqlalchemy] PRAGMA main.table_info(\"yellow\")\n",
      "[sqlalchemy] [raw sql] ()\n",
      "[sqlalchemy] BEGIN (implicit)\n",
      "[sqlalchemy] INSERT INTO yellow (\"index\", \"Trip_Pickup_DateTime\", \"Start_Lon\", \"Start_Lat\", \"End_Lon\", \"End_Lat\", \"Tip_Amt\", \"Total_Amt\", \"Date\", \"Distance\", \"Type\") VALUES (?, ?, ?, ?, ?, ?, ?, ?, ?, ?, ?)\n",
      "[sqlalchemy] [generated in 1.48278s] ((0, '2009-01-13 07:54:28', -73.96156999999998, 40.768545, -73.96364199999998, 40.774218, 0.0, 4.9, '2009-01-13 08:00:00.000000', 0.654495481292893, 'Yellow'), (1, '2009-01-22 09:02:19', -73.914399, 40.746171, -73.816812, 40.703619, 0.0, 49.3, '2009-01-22 09:00:00.000000', 9.487618881241971, 'Yellow'), (2, '2009-01-23 23:52:45', -73.874395, 40.77401, -73.981739, 40.765671, 0.0, 29.95, '2009-01-24 00:00:00.000000', 9.087111076641122, 'Yellow'), (3, '2009-01-06 18:34:58', -73.957687, 40.765477, -73.977345, 40.729237, 1.0, 12.1, '2009-01-06 19:00:00.000000', 4.356703498069769, 'Yellow'), (4, '2009-01-02 09:52:00', -74.000105, 40.761962, -73.97110999999998, 40.759072, 2.0, 9.7, '2009-01-02 10:00:00.000000', 2.463129286514783, 'Yellow'), (5, '2009-01-08 08:35:00', -73.923145, 40.74386, -73.96824499999998, 40.7514, 2.0, 12.5, '2009-01-08 09:00:00.000000', 3.890651039766242, 'Yellow'), (6, '2009-01-31 05:49:00', -73.91029, 40.761565, -73.95053799999998, 40.777337, 0.0, 15.4, '2009-01-31 06:00:00.000000', 3.8162402191936495, 'Yellow'), (7, '2009-01-21 10:06:26', -74.010729, 40.714148, -74.010986, 40.714739, 4.87, 37.37, '2009-01-21 10:00:00.000000', 0.0691939293734059, 'Yellow')  ... displaying 10 of 226373 total bound parameter sets ...  (233998, '2015-06-05 23:37:25', -73.98947143554686, 40.75696563720703, -73.9832763671875, 40.77132415771485, 0.0, 7.8, '2015-06-06 00:00:00.000000', 1.6796822916581127, 'Yellow'), (233999, '2015-06-18 22:57:15', -73.99291229248048, 40.74864196777344, -73.94766235351561, 40.83001327514648, 4.96, 29.76, '2015-06-18 23:00:00.000000', 9.81732283412083, 'Yellow'))\n",
      "[sqlalchemy] COMMIT\n"
     ]
    },
    {
     "data": {
      "text/plain": [
       "226373"
      ]
     },
     "execution_count": 123,
     "metadata": {},
     "output_type": "execute_result"
    }
   ],
   "source": [
    "yellowdf.to_sql(\"yellow\",con=engine,if_exists='append')"
   ]
  },
  {
   "cell_type": "code",
   "execution_count": 124,
   "id": "5c9d5d44",
   "metadata": {},
   "outputs": [
    {
     "name": "stdout",
     "output_type": "stream",
     "text": [
      "[sqlalchemy] PRAGMA main.table_info(\"hourweather\")\n",
      "[sqlalchemy] [raw sql] ()\n",
      "[sqlalchemy] PRAGMA temp.table_info(\"hourweather\")\n",
      "[sqlalchemy] [raw sql] ()\n",
      "[sqlalchemy] BEGIN (implicit)\n",
      "[sqlalchemy] \n",
      "CREATE TABLE hourweather (\n",
      "\t\"DATE\" DATETIME, \n",
      "\t\"HourlyTemperature\" FLOAT, \n",
      "\t\"HourlyWindSpeed\" FLOAT, \n",
      "\t\"HourlyPrecipitation\" FLOAT\n",
      ")\n",
      "\n",
      "\n",
      "[sqlalchemy] [no key 0.00026s] ()\n",
      "[sqlalchemy] CREATE INDEX \"ix_hourweather_DATE\" ON hourweather (\"DATE\")\n",
      "[sqlalchemy] [no key 0.00038s] ()\n",
      "[sqlalchemy] COMMIT\n",
      "[sqlalchemy] BEGIN (implicit)\n",
      "[sqlalchemy] INSERT INTO hourweather (\"DATE\", \"HourlyTemperature\", \"HourlyWindSpeed\", \"HourlyPrecipitation\") VALUES (?, ?, ?, ?)\n",
      "[sqlalchemy] [generated in 0.17196s] (('2009-01-01 01:00:00.000000', 18.0, 18.0, None), ('2009-01-01 02:00:00.000000', 18.0, 18.0, None), ('2009-01-01 03:00:00.000000', 18.0, 18.0, None), ('2009-01-01 04:00:00.000000', 18.0, 8.0, None), ('2009-01-01 05:00:00.000000', 18.0, 11.0, None), ('2009-01-01 06:00:00.000000', 16.0, 18.0, None), ('2009-01-01 07:00:00.000000', 16.0, 14.0, None), ('2009-01-01 08:00:00.000000', 16.0, 8.0, None)  ... displaying 10 of 56048 total bound parameter sets ...  ('2015-06-30 23:00:00.000000', 74.0, 6.0, 0.0), ('2015-07-01 00:00:00.000000', 73.0, 6.0, 0.04))\n",
      "[sqlalchemy] COMMIT\n"
     ]
    },
    {
     "data": {
      "text/plain": [
       "56048"
      ]
     },
     "execution_count": 124,
     "metadata": {},
     "output_type": "execute_result"
    }
   ],
   "source": [
    "hourdf.to_sql(\"hourweather\",con=engine,if_exists='append')"
   ]
  },
  {
   "cell_type": "code",
   "execution_count": 125,
   "id": "4c4babd9",
   "metadata": {},
   "outputs": [
    {
     "name": "stdout",
     "output_type": "stream",
     "text": [
      "[sqlalchemy] PRAGMA main.table_info(\"dayweather\")\n",
      "[sqlalchemy] [raw sql] ()\n",
      "[sqlalchemy] PRAGMA temp.table_info(\"dayweather\")\n",
      "[sqlalchemy] [raw sql] ()\n",
      "[sqlalchemy] BEGIN (implicit)\n",
      "[sqlalchemy] \n",
      "CREATE TABLE dayweather (\n",
      "\t\"DATE\" DATE, \n",
      "\t\"DailyTemperature\" FLOAT, \n",
      "\t\"DailyAvgWindSpeed\" FLOAT\n",
      ")\n",
      "\n",
      "\n",
      "[sqlalchemy] [no key 0.00024s] ()\n",
      "[sqlalchemy] CREATE INDEX \"ix_dayweather_DATE\" ON dayweather (\"DATE\")\n",
      "[sqlalchemy] [no key 0.00041s] ()\n",
      "[sqlalchemy] COMMIT\n",
      "[sqlalchemy] BEGIN (implicit)\n",
      "[sqlalchemy] INSERT INTO dayweather (\"DATE\", \"DailyTemperature\", \"DailyAvgWindSpeed\") VALUES (?, ?, ?)\n",
      "[sqlalchemy] [generated in 0.00592s] (('2009-01-01', 20.75, 11.041666666666666), ('2009-01-02', 31.322580645161292, 6.806451612903226), ('2009-01-03', 32.833333333333336, 9.875), ('2009-01-04', 33.888888888888886, 7.37037037037037), ('2009-01-05', 41.2962962962963, 6.925925925925926), ('2009-01-06', 32.62068965517241, 7.137931034482759), ('2009-01-07', 35.68421052631579, 9.842105263157896), ('2009-01-08', 34.80769230769231, 11.192307692307692)  ... displaying 10 of 2359 total bound parameter sets ...  ('2015-06-29', 70.68181818181819, 4.863636363636363), ('2015-06-30', 74.10714285714286, 5.25))\n",
      "[sqlalchemy] COMMIT\n"
     ]
    },
    {
     "data": {
      "text/plain": [
       "2359"
      ]
     },
     "execution_count": 125,
     "metadata": {},
     "output_type": "execute_result"
    }
   ],
   "source": [
    "daydf.to_sql(\"dayweather\",con=engine,if_exists='append')"
   ]
  },
  {
   "cell_type": "markdown",
   "id": "decfe91b",
   "metadata": {},
   "source": [
    "# Part 3 - SQL Queries - Understanding Data"
   ]
  },
  {
   "cell_type": "markdown",
   "id": "e4417c0c",
   "metadata": {},
   "source": [
    "### This function executes the query and saves it in a file in the sql folder"
   ]
  },
  {
   "cell_type": "code",
   "execution_count": 126,
   "id": "1a7b9e11",
   "metadata": {},
   "outputs": [],
   "source": [
    "def execute_and_write_query(query,name):\n",
    "    \n",
    "    f=open(r\"sql\\query_\" +str(name)+ \".sql\",\"w\")\n",
    "    f.write(query)\n",
    "    f.close()\n",
    "    \n",
    "    return engine.execute(query).fetchall()"
   ]
  },
  {
   "cell_type": "markdown",
   "id": "dad93379",
   "metadata": {},
   "source": [
    "### 1.   For 01-2009 through 06-2015, what hour of the day was the most popular to take a Yellow Taxi? The result should have 24 bins."
   ]
  },
  {
   "cell_type": "code",
   "execution_count": 127,
   "id": "94b1e8d1",
   "metadata": {},
   "outputs": [],
   "source": [
    "query1='''\n",
    "SELECT  strftime('%H', Date) hour,COUNT(*) total_yellow_rides\n",
    "FROM yellow\n",
    "GROUP BY hour\n",
    "ORDER BY COUNT(*) DESC'''"
   ]
  },
  {
   "cell_type": "code",
   "execution_count": 128,
   "id": "af648a0b",
   "metadata": {},
   "outputs": [
    {
     "name": "stdout",
     "output_type": "stream",
     "text": [
      "[sqlalchemy] \n",
      "SELECT  strftime('%H', Date) hour,COUNT(*) total_yellow_rides\n",
      "FROM yellow\n",
      "GROUP BY hour\n",
      "ORDER BY COUNT(*) DESC\n",
      "[sqlalchemy] [raw sql] ()\n"
     ]
    },
    {
     "data": {
      "text/plain": [
       "[('19', 28570),\n",
       " ('20', 27868),\n",
       " ('21', 25968),\n",
       " ('22', 25490),\n",
       " ('18', 25358),\n",
       " ('23', 24118),\n",
       " ('15', 22684),\n",
       " ('14', 22446),\n",
       " ('12', 22334),\n",
       " ('13', 21646),\n",
       " ('09', 21060),\n",
       " ('10', 20726),\n",
       " ('16', 20386),\n",
       " ('00', 20372),\n",
       " ('11', 20234),\n",
       " ('17', 19586),\n",
       " ('08', 18954),\n",
       " ('01', 15490),\n",
       " ('07', 13084),\n",
       " ('02', 11530),\n",
       " ('03', 8382),\n",
       " ('04', 6642),\n",
       " ('06', 5894),\n",
       " ('05', 3924)]"
      ]
     },
     "execution_count": 128,
     "metadata": {},
     "output_type": "execute_result"
    }
   ],
   "source": [
    "execute_and_write_query(query1,\"1_Most_Popular_Hour\")"
   ]
  },
  {
   "cell_type": "markdown",
   "id": "92f00b94",
   "metadata": {},
   "source": [
    "### 2. For the same time frame, what day of the week was the most popular to take an Uber? The result should have 7 bins."
   ]
  },
  {
   "cell_type": "code",
   "execution_count": 129,
   "id": "a7b1e499",
   "metadata": {},
   "outputs": [],
   "source": [
    "query2='''\n",
    "SELECT COUNT(*) Total_Uber_Rides, strftime('%w', Date) Day_of_Week\n",
    "FROM uber\n",
    "GROUP BY Day_of_Week\n",
    "ORDER BY COUNT(*) DESC'''"
   ]
  },
  {
   "cell_type": "code",
   "execution_count": 130,
   "id": "7b8a840a",
   "metadata": {},
   "outputs": [
    {
     "name": "stdout",
     "output_type": "stream",
     "text": [
      "[sqlalchemy] \n",
      "SELECT COUNT(*) Total_Uber_Rides, strftime('%w', Date) Day_of_Week\n",
      "FROM uber\n",
      "GROUP BY Day_of_Week\n",
      "ORDER BY COUNT(*) DESC\n",
      "[sqlalchemy] [raw sql] ()\n"
     ]
    },
    {
     "data": {
      "text/plain": [
       "[(59518, '5'),\n",
       " (58454, '6'),\n",
       " (57846, '4'),\n",
       " (56056, '3'),\n",
       " (54266, '2'),\n",
       " (52142, '0'),\n",
       " (48742, '1')]"
      ]
     },
     "execution_count": 130,
     "metadata": {},
     "output_type": "execute_result"
    }
   ],
   "source": [
    "#0-6 represent days from Sunday to Saturday\n",
    "execute_and_write_query(query2,\"2_Most_Popular_Day_Uber\")"
   ]
  },
  {
   "cell_type": "markdown",
   "id": "1b4bf161",
   "metadata": {},
   "source": [
    "### 3.What is the 95% percentile of distance traveled for all hired trips during July 2013?"
   ]
  },
  {
   "cell_type": "code",
   "execution_count": 131,
   "id": "94891d43",
   "metadata": {},
   "outputs": [],
   "source": [
    "query3='''\n",
    "WITH p AS (\n",
    "    SELECT Distance,\n",
    "           NTILE(100) OVER (ORDER BY Distance) AS percentile_bucket\n",
    "      FROM (\n",
    "               SELECT Distance\n",
    "                 FROM uber\n",
    "                WHERE Date >= '2013-07' AND \n",
    "                      Date <= '2013-08'\n",
    "               UNION ALL\n",
    "               SELECT Distance\n",
    "                 FROM yellow\n",
    "                WHERE Date >= '2013-07' AND \n",
    "                      Date <= '2013-08'\n",
    "           )\n",
    ")\n",
    "SELECT MAX(Distance) AS Distance\n",
    "  FROM p\n",
    " WHERE percentile_bucket = 95;'''"
   ]
  },
  {
   "cell_type": "code",
   "execution_count": 132,
   "id": "c27a3d03",
   "metadata": {},
   "outputs": [
    {
     "name": "stdout",
     "output_type": "stream",
     "text": [
      "[sqlalchemy] \n",
      "WITH p AS (\n",
      "    SELECT Distance,\n",
      "           NTILE(100) OVER (ORDER BY Distance) AS percentile_bucket\n",
      "      FROM (\n",
      "               SELECT Distance\n",
      "                 FROM uber\n",
      "                WHERE Date >= '2013-07' AND \n",
      "                      Date <= '2013-08'\n",
      "               UNION ALL\n",
      "               SELECT Distance\n",
      "                 FROM yellow\n",
      "                WHERE Date >= '2013-07' AND \n",
      "                      Date <= '2013-08'\n",
      "           )\n",
      ")\n",
      "SELECT MAX(Distance) AS Distance\n",
      "  FROM p\n",
      " WHERE percentile_bucket = 95;\n",
      "[sqlalchemy] [raw sql] ()\n"
     ]
    },
    {
     "data": {
      "text/plain": [
       "[(10.179511923885926,)]"
      ]
     },
     "execution_count": 132,
     "metadata": {},
     "output_type": "execute_result"
    }
   ],
   "source": [
    "#Dividing the data in 20 buckets with each having 5 %ile \n",
    "#The 19th bucket will correspond to 95 %ile\n",
    "execute_and_write_query(query3,\"3_95_Percentile\")"
   ]
  },
  {
   "cell_type": "markdown",
   "id": "8d81a405",
   "metadata": {},
   "source": [
    "### 4.What were the top 10 days with the highest number of hired rides for 2009, and what was the average distance for each day?"
   ]
  },
  {
   "cell_type": "code",
   "execution_count": 133,
   "id": "bccb768e",
   "metadata": {},
   "outputs": [],
   "source": [
    "query4='''\n",
    "Select COUNT(Distance) Rides,AVG(Distance) Average_Distance,strftime('%Y-%m-%d', Date) Date\n",
    "from (SELECT Distance,Date FROM uber WHERE strftime('%Y', Date) IN('2009') UNION ALL \n",
    "SELECT Distance,Date FROM yellow WHERE strftime('%Y', Date) IN('2009')) \n",
    "GROUP BY strftime('%Y-%m-%d', Date) ORDER BY Rides DESC LIMIT 10\n",
    "'''"
   ]
  },
  {
   "cell_type": "code",
   "execution_count": 134,
   "id": "129b287c",
   "metadata": {
    "scrolled": true
   },
   "outputs": [
    {
     "name": "stdout",
     "output_type": "stream",
     "text": [
      "[sqlalchemy] \n",
      "Select COUNT(Distance) Rides,AVG(Distance) Average_Distance,strftime('%Y-%m-%d', Date) Date\n",
      "from (SELECT Distance,Date FROM uber WHERE strftime('%Y', Date) IN('2009') UNION ALL \n",
      "SELECT Distance,Date FROM yellow WHERE strftime('%Y', Date) IN('2009')) \n",
      "GROUP BY strftime('%Y-%m-%d', Date) ORDER BY Rides DESC LIMIT 10\n",
      "\n",
      "[sqlalchemy] [raw sql] ()\n"
     ]
    },
    {
     "data": {
      "text/plain": [
       "[(518, 3.360097368003686, '2009-12-11'),\n",
       " (464, 2.792622867915957, '2009-01-24'),\n",
       " (458, 3.0433766790373453, '2009-11-07'),\n",
       " (456, 2.660259009401888, '2009-02-20'),\n",
       " (452, 2.4596836859930717, '2009-02-12'),\n",
       " (450, 3.416746570280425, '2009-11-06'),\n",
       " (446, 3.3236647207557306, '2009-09-12'),\n",
       " (444, 3.507321072353881, '2009-04-18'),\n",
       " (444, 2.9437161248518517, '2009-01-09'),\n",
       " (442, 3.4108612558827973, '2009-07-09')]"
      ]
     },
     "execution_count": 134,
     "metadata": {},
     "output_type": "execute_result"
    }
   ],
   "source": [
    "execute_and_write_query(query4,\"4_Average_Distance_2009\")"
   ]
  },
  {
   "cell_type": "markdown",
   "id": "022486b7",
   "metadata": {},
   "source": [
    "### 5. Which 10 days in 2014 were the windiest on average, and how many hired trips were made on those days?"
   ]
  },
  {
   "cell_type": "code",
   "execution_count": 135,
   "id": "d5075a8c",
   "metadata": {},
   "outputs": [],
   "source": [
    "query5='''\n",
    "SELECT COUNT(*) Number_of_Rides,Date as Windiest_Dates from (SELECT Distance,strftime('%Y-%m-%d', Date) Date from uber UNION ALL Select Distance,strftime('%Y-%m-%d', Date) Date from yellow) WHERE Date\n",
    "IN(SELECT strftime('%Y-%m-%d', Date) Day \n",
    "from dayweather ORDER BY DailyAvgWindSpeed DESC LIMIT 10) GROUP BY Date;\n",
    "'''"
   ]
  },
  {
   "cell_type": "code",
   "execution_count": 136,
   "id": "f90ed20c",
   "metadata": {},
   "outputs": [
    {
     "name": "stdout",
     "output_type": "stream",
     "text": [
      "[sqlalchemy] \n",
      "SELECT COUNT(*) Number_of_Rides,Date as Windiest_Dates from (SELECT Distance,strftime('%Y-%m-%d', Date) Date from uber UNION ALL Select Distance,strftime('%Y-%m-%d', Date) Date from yellow) WHERE Date\n",
      "IN(SELECT strftime('%Y-%m-%d', Date) Day \n",
      "from dayweather ORDER BY DailyAvgWindSpeed DESC LIMIT 10) GROUP BY Date;\n",
      "\n",
      "[sqlalchemy] [raw sql] ()\n"
     ]
    },
    {
     "data": {
      "text/plain": [
       "[(440, '2009-04-04'),\n",
       " (396, '2009-11-13'),\n",
       " (212, '2010-02-06'),\n",
       " (508, '2010-03-13'),\n",
       " (48, '2010-12-27'),\n",
       " (474, '2011-02-19'),\n",
       " (362, '2012-02-25'),\n",
       " (88, '2012-10-29'),\n",
       " (316, '2012-12-26'),\n",
       " (390, '2013-03-06')]"
      ]
     },
     "execution_count": 136,
     "metadata": {},
     "output_type": "execute_result"
    }
   ],
   "source": [
    "execute_and_write_query(query5,\"5_Windiest_Days\")"
   ]
  },
  {
   "cell_type": "markdown",
   "id": "9abfa5e7",
   "metadata": {},
   "source": [
    "### 6. During Hurricane Sandy in NYC (Oct 29-30, 2012), plus the week leading up and the week after, how many trips were taken each hour, and for each hour, how much precipitation did NYC receive and what was the sustained wind speed? There should be an entry for every single hour, even if no rides were taken, no precipitation was measured, or there was no wind."
   ]
  },
  {
   "cell_type": "markdown",
   "id": "562b9f85",
   "metadata": {},
   "source": [
    "- We use the VIEW HurricaneSandy3 we created earlier in the schema.sql which was as below\n",
    "\n",
    "``` mysql\n",
    "CREATE VIEW IF NOT EXISTS HurricaneSandy3 AS\n",
    "    SELECT Date,\n",
    "           Count( * ) Number_of_Rides\n",
    "      FROM (\n",
    "               SELECT Date,\n",
    "                      Distance\n",
    "                 FROM (\n",
    "                          SELECT Date,\n",
    "                                 Distance\n",
    "                            FROM uber\n",
    "                          UNION ALL\n",
    "                          SELECT Date,\n",
    "                                 Distance\n",
    "                            FROM yellow\n",
    "                      )\n",
    "                WHERE Date >= '2012-10-21' AND \n",
    "                      Date <= '2012-11-03'\n",
    "           )\n",
    "     GROUP BY Date;\n",
    "```"
   ]
  },
  {
   "cell_type": "code",
   "execution_count": 137,
   "id": "ac8c5f7e",
   "metadata": {},
   "outputs": [],
   "source": [
    "query6='''\n",
    "SELECT strftime('%Y-%m-%d Hour %H', HurricaneSandy3.Date) Date_Hour,\n",
    "       Number_of_Rides,\n",
    "       hourweather.HourlyWindSpeed AS Sustained_Wind_Speed,\n",
    "       hourweather.HourlyPrecipitation AS Hourly_Precipitation\n",
    "  FROM HurricaneSandy3\n",
    "       LEFT JOIN\n",
    "       hourweather ON hourweather.DATE = HurricaneSandy3.Date;\n",
    "'''"
   ]
  },
  {
   "cell_type": "code",
   "execution_count": 138,
   "id": "4b8a4d53",
   "metadata": {},
   "outputs": [
    {
     "name": "stdout",
     "output_type": "stream",
     "text": [
      "[sqlalchemy] \n",
      "SELECT strftime('%Y-%m-%d Hour %H', HurricaneSandy3.Date) Date_Hour,\n",
      "       Number_of_Rides,\n",
      "       hourweather.HourlyWindSpeed AS Sustained_Wind_Speed,\n",
      "       hourweather.HourlyPrecipitation AS Hourly_Precipitation\n",
      "  FROM HurricaneSandy3\n",
      "       LEFT JOIN\n",
      "       hourweather ON hourweather.DATE = HurricaneSandy3.Date;\n",
      "\n",
      "[sqlalchemy] [raw sql] ()\n"
     ]
    },
    {
     "data": {
      "text/plain": [
       "[('2012-10-21 Hour 00', 26, None, 0.0),\n",
       " ('2012-10-21 Hour 01', 34, 5.0, 0.0),\n",
       " ('2012-10-21 Hour 02', 28, 6.0, 0.0),\n",
       " ('2012-10-21 Hour 03', 14, 6.0, 0.0),\n",
       " ('2012-10-21 Hour 04', 10, 6.0, 0.0),\n",
       " ('2012-10-21 Hour 05', 4, 6.0, 0.0),\n",
       " ('2012-10-21 Hour 06', 2, 6.0, 0.0),\n",
       " ('2012-10-21 Hour 07', 6, 0.0, 0.0),\n",
       " ('2012-10-21 Hour 08', 4, 5.0, 0.0),\n",
       " ('2012-10-21 Hour 09', 8, 8.0, 0.0),\n",
       " ('2012-10-21 Hour 10', 6, 8.0, 0.0),\n",
       " ('2012-10-21 Hour 11', 26, 8.0, 0.0),\n",
       " ('2012-10-21 Hour 12', 16, 9.0, 0.0),\n",
       " ('2012-10-21 Hour 13', 20, None, 0.0),\n",
       " ('2012-10-21 Hour 14', 22, 5.0, 0.0),\n",
       " ('2012-10-21 Hour 15', 20, 9.0, 0.0),\n",
       " ('2012-10-21 Hour 16', 22, 5.0, 0.0),\n",
       " ('2012-10-21 Hour 17', 14, None, 0.0),\n",
       " ('2012-10-21 Hour 18', 22, 3.0, 0.0),\n",
       " ('2012-10-21 Hour 19', 24, 7.0, 0.0),\n",
       " ('2012-10-21 Hour 20', 20, 5.0, 0.0),\n",
       " ('2012-10-21 Hour 21', 12, 7.0, 0.0),\n",
       " ('2012-10-21 Hour 22', 10, 9.0, 0.0),\n",
       " ('2012-10-21 Hour 23', 8, 5.0, 0.0),\n",
       " ('2012-10-22 Hour 00', 8, 5.0, 0.0),\n",
       " ('2012-10-22 Hour 01', 2, 7.0, 0.0),\n",
       " ('2012-10-22 Hour 02', 4, 5.0, 0.0),\n",
       " ('2012-10-22 Hour 03', 4, 7.0, 0.0),\n",
       " ('2012-10-22 Hour 04', 4, 0.0, 0.0),\n",
       " ('2012-10-22 Hour 05', 2, 0.0, 0.0),\n",
       " ('2012-10-22 Hour 06', 6, 0.0, 0.0),\n",
       " ('2012-10-22 Hour 07', 14, 5.0, 0.0),\n",
       " ('2012-10-22 Hour 08', 18, 3.0, 0.0),\n",
       " ('2012-10-22 Hour 09', 14, 3.0, 0.0),\n",
       " ('2012-10-22 Hour 10', 8, 5.0, 0.0),\n",
       " ('2012-10-22 Hour 11', 10, None, 0.0),\n",
       " ('2012-10-22 Hour 12', 24, None, 0.0),\n",
       " ('2012-10-22 Hour 13', 14, 11.0, 0.0),\n",
       " ('2012-10-22 Hour 14', 24, None, 0.0),\n",
       " ('2012-10-22 Hour 15', 14, 7.0, 0.0),\n",
       " ('2012-10-22 Hour 16', 14, 6.0, 0.0),\n",
       " ('2012-10-22 Hour 17', 14, 3.0, 0.0),\n",
       " ('2012-10-22 Hour 18', 28, 7.0, 0.0),\n",
       " ('2012-10-22 Hour 19', 20, 5.0, 0.0),\n",
       " ('2012-10-22 Hour 20', 12, 5.0, 0.0),\n",
       " ('2012-10-22 Hour 21', 20, 3.0, 0.0),\n",
       " ('2012-10-22 Hour 22', 18, 0.0, 0.0),\n",
       " ('2012-10-22 Hour 23', 8, 3.0, 0.0),\n",
       " ('2012-10-23 Hour 00', 8, 3.0, 0.0),\n",
       " ('2012-10-23 Hour 01', 2, 3.0, None),\n",
       " ('2012-10-23 Hour 02', 2, 0.0, None),\n",
       " ('2012-10-23 Hour 03', 2, 3.0, None),\n",
       " ('2012-10-23 Hour 05', 2, 3.0, None),\n",
       " ('2012-10-23 Hour 06', 12, 0.0, None),\n",
       " ('2012-10-23 Hour 07', 16, 0.0, None),\n",
       " ('2012-10-23 Hour 08', 44, 0.0, None),\n",
       " ('2012-10-23 Hour 09', 20, 0.0, None),\n",
       " ('2012-10-23 Hour 10', 16, 3.0, None),\n",
       " ('2012-10-23 Hour 11', 28, 0.0, None),\n",
       " ('2012-10-23 Hour 12', 30, 3.0, None),\n",
       " ('2012-10-23 Hour 13', 12, 0.0, None),\n",
       " ('2012-10-23 Hour 14', 30, None, None),\n",
       " ('2012-10-23 Hour 15', 22, None, None),\n",
       " ('2012-10-23 Hour 16', 24, None, None),\n",
       " ('2012-10-23 Hour 17', 16, 3.0, None),\n",
       " ('2012-10-23 Hour 18', 30, None, None),\n",
       " ('2012-10-23 Hour 19', 22, 5.0, None),\n",
       " ('2012-10-23 Hour 20', 22, 0.0, None),\n",
       " ('2012-10-23 Hour 21', 30, 0.0, 0.02),\n",
       " ('2012-10-23 Hour 22', 20, 5.0, None),\n",
       " ('2012-10-23 Hour 23', 20, 0.0, 0.01),\n",
       " ('2012-10-24 Hour 00', 4, 5.0, None),\n",
       " ('2012-10-24 Hour 01', 2, 3.0, 0.0),\n",
       " ('2012-10-24 Hour 02', 4, 5.333333333333333, 0.0),\n",
       " ('2012-10-24 Hour 03', 8, 6.0, 0.0),\n",
       " ('2012-10-24 Hour 04', 2, 7.0, 0.0),\n",
       " ('2012-10-24 Hour 05', 4, 7.0, 0.0),\n",
       " ('2012-10-24 Hour 06', 2, 6.0, 0.0),\n",
       " ('2012-10-24 Hour 07', 8, 4.333333333333333, 0.0),\n",
       " ('2012-10-24 Hour 08', 10, 0.0, None),\n",
       " ('2012-10-24 Hour 09', 10, 0.0, None),\n",
       " ('2012-10-24 Hour 10', 22, 3.0, None),\n",
       " ('2012-10-24 Hour 11', 12, 7.0, 0.0),\n",
       " ('2012-10-24 Hour 12', 16, 7.5, 0.0),\n",
       " ('2012-10-24 Hour 13', 26, 7.0, None),\n",
       " ('2012-10-24 Hour 14', 14, 7.0, 0.0),\n",
       " ('2012-10-24 Hour 15', 8, 7.0, 0.0),\n",
       " ('2012-10-24 Hour 16', 12, 7.0, 0.0),\n",
       " ('2012-10-24 Hour 17', 16, 8.0, 0.0),\n",
       " ('2012-10-24 Hour 18', 26, 5.0, 0.0),\n",
       " ('2012-10-24 Hour 19', 20, 7.0, 0.0),\n",
       " ('2012-10-24 Hour 20', 40, 8.0, 0.0),\n",
       " ('2012-10-24 Hour 21', 30, 1.5, 0.0),\n",
       " ('2012-10-24 Hour 22', 18, 4.333333333333333, 0.0),\n",
       " ('2012-10-24 Hour 23', 20, 6.0, 0.0),\n",
       " ('2012-10-25 Hour 00', 24, 3.0, 0.0),\n",
       " ('2012-10-25 Hour 01', 14, 3.0, 0.0),\n",
       " ('2012-10-25 Hour 02', 6, 3.0, 0.0),\n",
       " ('2012-10-25 Hour 04', 4, 7.0, 0.0),\n",
       " ('2012-10-25 Hour 05', 4, 6.0, 0.0),\n",
       " ('2012-10-25 Hour 06', 6, 0.0, 0.0),\n",
       " ('2012-10-25 Hour 07', 8, 5.0, 0.0),\n",
       " ('2012-10-25 Hour 08', 24, 6.0, 0.0),\n",
       " ('2012-10-25 Hour 09', 20, 5.0, 0.0),\n",
       " ('2012-10-25 Hour 10', 14, 3.0, 0.0),\n",
       " ('2012-10-25 Hour 11', 24, 6.0, 0.0),\n",
       " ('2012-10-25 Hour 12', 30, 0.0, 0.0),\n",
       " ('2012-10-25 Hour 13', 10, 6.0, 0.0),\n",
       " ('2012-10-25 Hour 14', 30, 0.0, 0.0),\n",
       " ('2012-10-25 Hour 15', 8, 5.0, 0.0),\n",
       " ('2012-10-25 Hour 16', 8, 5.0, 0.0),\n",
       " ('2012-10-25 Hour 17', 8, 0.0, 0.0),\n",
       " ('2012-10-25 Hour 18', 18, 3.0, 0.0),\n",
       " ('2012-10-25 Hour 19', 20, 0.0, 0.0),\n",
       " ('2012-10-25 Hour 20', 40, 0.0, 0.0),\n",
       " ('2012-10-25 Hour 21', 26, 3.0, 0.0),\n",
       " ('2012-10-25 Hour 22', 28, 3.0, 0.0),\n",
       " ('2012-10-25 Hour 23', 18, 3.0, 0.0),\n",
       " ('2012-10-26 Hour 00', 12, 0.0, 0.0),\n",
       " ('2012-10-26 Hour 01', 8, 4.0, 0.0),\n",
       " ('2012-10-26 Hour 02', 12, 0.0, 0.0),\n",
       " ('2012-10-26 Hour 03', 10, 0.0, 0.0),\n",
       " ('2012-10-26 Hour 04', 6, 3.0, 0.0),\n",
       " ('2012-10-26 Hour 05', 4, 0.0, 0.0),\n",
       " ('2012-10-26 Hour 07', 12, 0.0, 0.0),\n",
       " ('2012-10-26 Hour 08', 14, 3.0, 0.0),\n",
       " ('2012-10-26 Hour 09', 14, 3.0, 0.0),\n",
       " ('2012-10-26 Hour 10', 16, 3.0, 0.0),\n",
       " ('2012-10-26 Hour 11', 20, 3.0, 0.0),\n",
       " ('2012-10-26 Hour 12', 14, 3.0, 0.0),\n",
       " ('2012-10-26 Hour 13', 18, 0.0, 0.0),\n",
       " ('2012-10-26 Hour 14', 20, 3.0, 0.0),\n",
       " ('2012-10-26 Hour 15', 22, 3.0, 0.0),\n",
       " ('2012-10-26 Hour 16', 12, 0.0, 0.0),\n",
       " ('2012-10-26 Hour 17', 14, 0.0, 0.0),\n",
       " ('2012-10-26 Hour 18', 18, 0.0, 0.0),\n",
       " ('2012-10-26 Hour 19', 32, 0.0, 0.0),\n",
       " ('2012-10-26 Hour 20', 30, 0.0, 0.0),\n",
       " ('2012-10-26 Hour 21', 18, 3.0, 0.0),\n",
       " ('2012-10-26 Hour 22', 34, 3.0, 0.0),\n",
       " ('2012-10-26 Hour 23', 30, 0.0, 0.0),\n",
       " ('2012-10-27 Hour 00', 14, 0.0, 0.0),\n",
       " ('2012-10-27 Hour 01', 30, 3.0, 0.0),\n",
       " ('2012-10-27 Hour 02', 18, 0.0, 0.0),\n",
       " ('2012-10-27 Hour 03', 16, 3.0, 0.0),\n",
       " ('2012-10-27 Hour 04', 8, 0.0, 0.0),\n",
       " ('2012-10-27 Hour 05', 4, 6.0, 0.0),\n",
       " ('2012-10-27 Hour 06', 2, 6.0, 0.0),\n",
       " ('2012-10-27 Hour 07', 10, 5.5, 0.0),\n",
       " ('2012-10-27 Hour 09', 8, 8.0, 0.0),\n",
       " ('2012-10-27 Hour 10', 12, 6.0, 0.0),\n",
       " ('2012-10-27 Hour 11', 8, 6.5, 0.0),\n",
       " ('2012-10-27 Hour 12', 22, 6.5, 0.0),\n",
       " ('2012-10-27 Hour 13', 20, 8.0, 0.0),\n",
       " ('2012-10-27 Hour 14', 8, 8.0, 0.0),\n",
       " ('2012-10-27 Hour 15', 14, 10.0, 0.0),\n",
       " ('2012-10-27 Hour 16', 14, 10.0, 0.0),\n",
       " ('2012-10-27 Hour 17', 20, 7.0, 0.0),\n",
       " ('2012-10-27 Hour 18', 38, 7.0, 0.0),\n",
       " ('2012-10-27 Hour 19', 20, 7.333333333333333, 0.0),\n",
       " ('2012-10-27 Hour 20', 24, 9.0, 0.0),\n",
       " ('2012-10-27 Hour 21', 36, 7.0, 0.0),\n",
       " ('2012-10-27 Hour 22', 20, 9.0, 0.0),\n",
       " ('2012-10-27 Hour 23', 36, 9.0, 0.0),\n",
       " ('2012-10-28 Hour 00', 32, 8.0, 0.0),\n",
       " ('2012-10-28 Hour 01', 26, 11.0, 0.0),\n",
       " ('2012-10-28 Hour 02', 26, 8.0, 0.0),\n",
       " ('2012-10-28 Hour 03', 20, 8.0, 0.0),\n",
       " ('2012-10-28 Hour 04', 20, 9.0, 0.0),\n",
       " ('2012-10-28 Hour 05', 8, 10.0, 0.0),\n",
       " ('2012-10-28 Hour 06', 6, 10.5, 0.0),\n",
       " ('2012-10-28 Hour 07', 4, 10.0, 0.0),\n",
       " ('2012-10-28 Hour 08', 6, 11.0, 0.0),\n",
       " ('2012-10-28 Hour 09', 8, 11.0, 0.0),\n",
       " ('2012-10-28 Hour 10', 18, 11.0, 0.0),\n",
       " ('2012-10-28 Hour 11', 24, 10.0, 0.0),\n",
       " ('2012-10-28 Hour 12', 22, 8.0, 0.0),\n",
       " ('2012-10-28 Hour 13', 20, 7.0, 0.0),\n",
       " ('2012-10-28 Hour 14', 14, 13.0, 0.0),\n",
       " ('2012-10-28 Hour 15', 24, 13.0, 0.0),\n",
       " ('2012-10-28 Hour 16', 16, 13.0, 0.0),\n",
       " ('2012-10-28 Hour 17', 24, 16.0, 0.0),\n",
       " ('2012-10-28 Hour 18', 14, 11.0, 0.0),\n",
       " ('2012-10-28 Hour 19', 16, 15.0, 0.0),\n",
       " ('2012-10-28 Hour 20', 10, 14.0, 0.0),\n",
       " ('2012-10-28 Hour 21', 8, 16.0, 0.0),\n",
       " ('2012-10-28 Hour 22', 14, 14.0, 0.0),\n",
       " ('2012-10-28 Hour 23', 10, 16.0, 0.0),\n",
       " ('2012-10-29 Hour 00', 2, 14.0, 0.0),\n",
       " ('2012-10-29 Hour 01', 2, 16.0, 0.0),\n",
       " ('2012-10-29 Hour 02', 2, 11.0, 0.0),\n",
       " ('2012-10-29 Hour 03', 2, 13.0, 0.0),\n",
       " ('2012-10-29 Hour 05', 2, 15.0, 0.0),\n",
       " ('2012-10-29 Hour 07', 4, 16.0, 0.02),\n",
       " ('2012-10-29 Hour 08', 8, 17.0, 0.02),\n",
       " ('2012-10-29 Hour 09', 10, 21.0, None),\n",
       " ('2012-10-29 Hour 10', 2, 16.0, 0.0),\n",
       " ('2012-10-29 Hour 11', 6, 18.0, 0.015),\n",
       " ('2012-10-29 Hour 12', 14, 17.6, 0.035),\n",
       " ('2012-10-29 Hour 13', 4, 21.0, 0.055),\n",
       " ('2012-10-29 Hour 14', 6, 26.666666666666668, 0.03),\n",
       " ('2012-10-29 Hour 15', 4, 26.75, 0.03333333333333333),\n",
       " ('2012-10-29 Hour 16', 4, 25.0, 0.09),\n",
       " ('2012-10-29 Hour 17', 4, 24.2, 0.078),\n",
       " ('2012-10-29 Hour 18', 6, 21.333333333333332, 0.049999999999999996),\n",
       " ('2012-10-29 Hour 21', 4, 17.0, None),\n",
       " ('2012-10-29 Hour 22', 2, 15.0, 0.0),\n",
       " ('2012-10-30 Hour 00', 2, 11.666666666666666, 0.075),\n",
       " ('2012-10-30 Hour 04', 2, 17.0, 0.04),\n",
       " ('2012-10-30 Hour 07', 2, 7.0, 0.01),\n",
       " ('2012-10-30 Hour 08', 2, 8.5, 0.030000000000000002),\n",
       " ('2012-10-30 Hour 09', 4, None, 0.05),\n",
       " ('2012-10-30 Hour 10', 6, 10.8, 0.039999999999999994),\n",
       " ('2012-10-30 Hour 11', 18, 6.0, 0.02),\n",
       " ('2012-10-30 Hour 12', 8, 7.0, 0.0),\n",
       " ('2012-10-30 Hour 13', 10, 7.666666666666667, 0.0),\n",
       " ('2012-10-30 Hour 14', 6, 5.5, 0.0),\n",
       " ('2012-10-30 Hour 15', 12, None, None),\n",
       " ('2012-10-30 Hour 16', 6, 3.0, 0.01),\n",
       " ('2012-10-30 Hour 17', 8, 5.666666666666667, 0.01),\n",
       " ('2012-10-30 Hour 18', 12, 5.0, 0.0),\n",
       " ('2012-10-30 Hour 19', 18, 5.0, 0.0),\n",
       " ('2012-10-30 Hour 20', 8, 1.5, 0.0),\n",
       " ('2012-10-30 Hour 21', 6, 7.0, 0.0),\n",
       " ('2012-10-30 Hour 22', 10, 5.0, 0.0),\n",
       " ('2012-10-30 Hour 23', 10, 6.0, 0.0),\n",
       " ('2012-10-31 Hour 00', 4, 9.0, 0.0),\n",
       " ('2012-10-31 Hour 02', 4, 5.0, 0.01),\n",
       " ('2012-10-31 Hour 03', 4, 0.0, None),\n",
       " ('2012-10-31 Hour 06', 8, 0.0, 0.0),\n",
       " ('2012-10-31 Hour 07', 14, 6.0, 0.0),\n",
       " ('2012-10-31 Hour 08', 2, 7.0, 0.0),\n",
       " ('2012-10-31 Hour 09', 8, 8.5, 0.0),\n",
       " ('2012-10-31 Hour 10', 10, 7.0, 0.0),\n",
       " ('2012-10-31 Hour 11', 18, 4.0, 0.0),\n",
       " ('2012-10-31 Hour 12', 14, 7.0, 0.0),\n",
       " ('2012-10-31 Hour 13', 6, 3.0, 0.0),\n",
       " ('2012-10-31 Hour 14', 16, 6.0, 0.0),\n",
       " ('2012-10-31 Hour 15', 16, 5.0, 0.0),\n",
       " ('2012-10-31 Hour 16', 10, 3.0, 0.0),\n",
       " ('2012-10-31 Hour 17', 20, 5.0, 0.0),\n",
       " ('2012-10-31 Hour 18', 12, 5.0, 0.0),\n",
       " ('2012-10-31 Hour 19', 12, 3.0, 0.0),\n",
       " ('2012-10-31 Hour 20', 12, 9.0, 0.0),\n",
       " ('2012-10-31 Hour 21', 12, 7.0, 0.0),\n",
       " ('2012-10-31 Hour 22', 16, 7.0, 0.0),\n",
       " ('2012-10-31 Hour 23', 6, 6.0, 0.0),\n",
       " ('2012-11-01 Hour 00', 2, 3.0, 0.0),\n",
       " ('2012-11-01 Hour 01', 8, 3.0, 0.0),\n",
       " ('2012-11-01 Hour 02', 2, 3.0, 0.0),\n",
       " ('2012-11-01 Hour 03', 4, 3.0, 0.0),\n",
       " ('2012-11-01 Hour 05', 6, 7.0, 0.0),\n",
       " ('2012-11-01 Hour 07', 6, 13.0, 0.0),\n",
       " ('2012-11-01 Hour 08', 4, None, 0.0),\n",
       " ('2012-11-01 Hour 09', 10, 7.0, 0.0),\n",
       " ('2012-11-01 Hour 10', 12, 3.0, 0.0),\n",
       " ('2012-11-01 Hour 11', 12, 6.0, 0.0),\n",
       " ('2012-11-01 Hour 12', 26, 6.0, 0.0),\n",
       " ('2012-11-01 Hour 13', 14, 11.0, 0.0),\n",
       " ('2012-11-01 Hour 14', 12, 8.0, 0.0),\n",
       " ('2012-11-01 Hour 15', 8, 8.0, 0.0),\n",
       " ('2012-11-01 Hour 16', 8, None, 0.0),\n",
       " ('2012-11-01 Hour 17', 14, 5.0, 0.0),\n",
       " ('2012-11-01 Hour 18', 10, 5.0, 0.0),\n",
       " ('2012-11-01 Hour 19', 24, 9.0, 0.0),\n",
       " ('2012-11-01 Hour 20', 10, 3.0, 0.0),\n",
       " ('2012-11-01 Hour 21', 16, 5.0, 0.0),\n",
       " ('2012-11-01 Hour 22', 4, 8.0, 0.0),\n",
       " ('2012-11-01 Hour 23', 14, 5.0, 0.0),\n",
       " ('2012-11-02 Hour 00', 14, 0.0, 0.0),\n",
       " ('2012-11-02 Hour 01', 8, 5.0, 0.0),\n",
       " ('2012-11-02 Hour 02', 2, 7.0, 0.0),\n",
       " ('2012-11-02 Hour 03', 4, 3.0, 0.0),\n",
       " ('2012-11-02 Hour 04', 2, 3.0, 0.0),\n",
       " ('2012-11-02 Hour 05', 6, 5.0, 0.0),\n",
       " ('2012-11-02 Hour 06', 4, 5.0, 0.0),\n",
       " ('2012-11-02 Hour 07', 2, 6.0, 0.0),\n",
       " ('2012-11-02 Hour 08', 18, None, 0.0),\n",
       " ('2012-11-02 Hour 09', 10, 5.0, 0.0),\n",
       " ('2012-11-02 Hour 10', 4, 7.0, 0.0),\n",
       " ('2012-11-02 Hour 11', 8, 9.0, 0.0),\n",
       " ('2012-11-02 Hour 12', 14, 7.0, 0.0),\n",
       " ('2012-11-02 Hour 13', 10, 7.0, 0.0),\n",
       " ('2012-11-02 Hour 14', 14, 6.0, 0.0),\n",
       " ('2012-11-02 Hour 15', 14, 6.0, 0.0),\n",
       " ('2012-11-02 Hour 16', 10, 5.0, 0.0),\n",
       " ('2012-11-02 Hour 17', 16, 11.0, 0.0),\n",
       " ('2012-11-02 Hour 18', 8, 8.0, 0.0),\n",
       " ('2012-11-02 Hour 19', 18, 9.0, 0.0),\n",
       " ('2012-11-02 Hour 20', 16, 7.0, 0.0),\n",
       " ('2012-11-02 Hour 21', 18, 9.0, 0.0),\n",
       " ('2012-11-02 Hour 22', 18, 7.0, 0.0),\n",
       " ('2012-11-02 Hour 23', 14, 8.0, 0.0)]"
      ]
     },
     "execution_count": 138,
     "metadata": {},
     "output_type": "execute_result"
    }
   ],
   "source": [
    "execute_and_write_query(query6,\"6_Hurricane_Sandy\")"
   ]
  },
  {
   "cell_type": "markdown",
   "id": "b1b6d5f0",
   "metadata": {},
   "source": [
    "# Part 4: Visualizing the Data"
   ]
  },
  {
   "cell_type": "markdown",
   "id": "53ac2903",
   "metadata": {},
   "source": [
    "### 1. Creating an appropriate visualization for 01-2009 through 06-2015, what hour of the day was the most popular to take a Yellow Taxi? The result should have 24 bins."
   ]
  },
  {
   "cell_type": "code",
   "execution_count": 139,
   "id": "9cacaca9",
   "metadata": {},
   "outputs": [],
   "source": [
    "query1='''\n",
    "SELECT  strftime('%H', Date) hour,COUNT(*) total_yellow_rides\n",
    "FROM yellow\n",
    "GROUP BY hour\n",
    "ORDER BY COUNT(*) DESC'''"
   ]
  },
  {
   "cell_type": "code",
   "execution_count": 140,
   "id": "ab5b7d11",
   "metadata": {},
   "outputs": [
    {
     "name": "stdout",
     "output_type": "stream",
     "text": [
      "[sqlalchemy] PRAGMA main.table_info(\"\n",
      "SELECT  strftime('%H', Date) hour,COUNT(*) total_yellow_rides\n",
      "FROM yellow\n",
      "GROUP BY hour\n",
      "ORDER BY COUNT(*) DESC\")\n",
      "[sqlalchemy] [raw sql] ()\n",
      "[sqlalchemy] PRAGMA temp.table_info(\"\n",
      "SELECT  strftime('%H', Date) hour,COUNT(*) total_yellow_rides\n",
      "FROM yellow\n",
      "GROUP BY hour\n",
      "ORDER BY COUNT(*) DESC\")\n",
      "[sqlalchemy] [raw sql] ()\n",
      "[sqlalchemy] \n",
      "SELECT  strftime('%H', Date) hour,COUNT(*) total_yellow_rides\n",
      "FROM yellow\n",
      "GROUP BY hour\n",
      "ORDER BY COUNT(*) DESC\n",
      "[sqlalchemy] [raw sql] ()\n"
     ]
    }
   ],
   "source": [
    "dfvis1=pd.read_sql(query1,con=engine)"
   ]
  },
  {
   "cell_type": "code",
   "execution_count": 141,
   "id": "510830bc",
   "metadata": {},
   "outputs": [],
   "source": [
    "def plot_visual_1(dfvis1):\n",
    "\n",
    "    fig, ax = plt.subplots(figsize=(15, 10))\n",
    "    hours = dfvis1[\"hour\"]\n",
    "    rides = dfvis1[\"total_yellow_rides\"]\n",
    "    ax.bar(hours,rides)\n",
    "    plt.xticks(fontsize=14)\n",
    "    plt.yticks(fontsize=14)\n",
    "    ax.set_xlabel('Hour',fontsize=18)\n",
    "    ax.set_ylabel('Number of Rides',fontsize=18)\n",
    "    ax.set_title(\"Bar Chart showing hours of the day with most yellow taxi rides in descending order\",fontsize=18)\n",
    "    plt.show()"
   ]
  },
  {
   "cell_type": "code",
   "execution_count": 142,
   "id": "e3428877",
   "metadata": {},
   "outputs": [
    {
     "data": {
      "image/png": "[encoded data removed]",
      "text/plain": [
       "<Figure size 1080x720 with 1 Axes>"
      ]
     },
     "metadata": {
      "needs_background": "light"
     },
     "output_type": "display_data"
    }
   ],
   "source": [
    "plot_visual_1(dfvis1)"
   ]
  },
  {
   "cell_type": "markdown",
   "id": "3193b197",
   "metadata": {},
   "source": [
    "### 2. Create a visualization that shows the average distance traveled per month (regardless of year - so group by each month) for both taxis and Ubers combined. Include the 90% confidence interval around the mean in the visualization.\n"
   ]
  },
  {
   "cell_type": "code",
   "execution_count": 143,
   "id": "5439e889",
   "metadata": {},
   "outputs": [
    {
     "name": "stdout",
     "output_type": "stream",
     "text": [
      "[sqlalchemy] PRAGMA main.table_info(\"Select Distance,Date from uber\")\n",
      "[sqlalchemy] [raw sql] ()\n",
      "[sqlalchemy] PRAGMA temp.table_info(\"Select Distance,Date from uber\")\n",
      "[sqlalchemy] [raw sql] ()\n",
      "[sqlalchemy] Select Distance,Date from uber\n",
      "[sqlalchemy] [raw sql] ()\n",
      "[sqlalchemy] PRAGMA main.table_info(\"Select Distance,Date from yellow\")\n",
      "[sqlalchemy] [raw sql] ()\n",
      "[sqlalchemy] PRAGMA temp.table_info(\"Select Distance,Date from yellow\")\n",
      "[sqlalchemy] [raw sql] ()\n",
      "[sqlalchemy] Select Distance,Date from yellow\n",
      "[sqlalchemy] [raw sql] ()\n"
     ]
    },
    {
     "name": "stderr",
     "output_type": "stream",
     "text": [
      "C:\\Users\\Kunal\\AppData\\Local\\Temp\\ipykernel_15352\\3810796568.py:3: FutureWarning: The frame.append method is deprecated and will be removed from pandas in a future version. Use pandas.concat instead.\n",
      "  df_combined=df_uber.append(df_yellow)\n"
     ]
    }
   ],
   "source": [
    "df_uber=pd.read_sql(\"Select Distance,Date from uber\",con=engine)\n",
    "df_yellow=pd.read_sql(\"Select Distance,Date from yellow\",con=engine)\n",
    "df_combined=df_uber.append(df_yellow)"
   ]
  },
  {
   "cell_type": "code",
   "execution_count": 144,
   "id": "430efeec",
   "metadata": {},
   "outputs": [],
   "source": [
    "def plot_visual_2(df_combined):\n",
    "\n",
    "    \n",
    "    dfvis2=df_combined[[\"Distance\",\"Date\"]]\n",
    "\n",
    "    dfvis2[\"Date\"]=dfvis2[\"Date\"].astype('datetime64')\n",
    "    dfvis2=dfvis2[[\"Distance\",\"Date\"]].groupby(dfvis2.Date.dt.month).mean()\n",
    "\n",
    "    fig, ax = plt.subplots(figsize=(15, 10))\n",
    "    x = [\"Jan\", \"Feb\", \"Mar\", \"Apr\", \"May\", \"Jun\", \"Jul\", \"Aug\", \"Sep\", \"Oct\", \"Nov\", \"Dec\"]\n",
    "    y = dfvis2[\"Distance\"]\n",
    "    # Define the confidence interval\n",
    "    ci = 0.1 * np.std(y) / np.mean(y)\n",
    "    # Plot the sinus function\n",
    "    plt.plot(x, y,color='blue',label=\"Average Distance(mean)\")\n",
    "    # Plot the confidence interval\n",
    "    plt.fill_between(x, (y-ci), (y+ci), color='red', alpha=0.9,label=\"90% Confidence Interval from the Average\")\n",
    "\n",
    "    plt.xticks(fontsize=14)\n",
    "    plt.yticks(fontsize=14)\n",
    "    ax.set_xlabel('Month',fontsize=18)\n",
    "    ax.set_ylabel('Average Distance',fontsize=18)\n",
    "    ax.set_title(\"Average Distance for Each Month with 90% Confidence Interval\",fontsize=18)\n",
    "\n",
    "\n",
    "    plt.legend(loc=\"upper left\",fontsize=11)\n",
    "\n",
    "\n",
    "    plt.show()"
   ]
  },
  {
   "cell_type": "code",
   "execution_count": 145,
   "id": "12e48a93",
   "metadata": {},
   "outputs": [
    {
     "data": {
      "image/png": "[encoded data removed]",
      "text/plain": [
       "<Figure size 1080x720 with 1 Axes>"
      ]
     },
     "metadata": {
      "needs_background": "light"
     },
     "output_type": "display_data"
    }
   ],
   "source": [
    "plot_visual_2(df_combined)"
   ]
  },
  {
   "cell_type": "markdown",
   "id": "75c51327",
   "metadata": {},
   "source": [
    "### 3. Define three lat/long coordinate boxes around the three major New York airports: LGA, JFK, and EWR (you can use bboxfinder to help). Create a visualization that compares what day of the week was most popular for drop offs for each airport."
   ]
  },
  {
   "cell_type": "code",
   "execution_count": 146,
   "id": "2e2e06a4",
   "metadata": {},
   "outputs": [],
   "source": [
    "def inside_airport(dataframe,airport_box):\n",
    "    dataframe = dataframe[ (dataframe['End_Lat'] >= airport_box[1]) & (dataframe['End_Lat'] <= airport_box[3])]\n",
    "    dataframe = dataframe[ (dataframe['End_Lon'] >= airport_box[0]) & (dataframe['End_Lon'] <= airport_box[2])]\n",
    "    return dataframe"
   ]
  },
  {
   "cell_type": "code",
   "execution_count": 147,
   "id": "fe92ec7b",
   "metadata": {},
   "outputs": [],
   "source": [
    "def clean_airport_data(df_airport):\n",
    "    df_airport['Date']=df_airport['Date'].astype('datetime64')\n",
    "    df_airport=df_airport.groupby(df_airport.Date.dt.dayofweek).count()\n",
    "    df_airport[\"Day_Of_Week\"]=df_airport.index\n",
    "    df_airport[\"Count\"]=df_airport[\"Date\"]\n",
    "    df_airport.drop(columns=[\"Date\",\"Start_Lon\",\"Start_Lat\",\"End_Lon\",\"End_Lat\"],inplace=True)\n",
    "    return df_airport   "
   ]
  },
  {
   "cell_type": "code",
   "execution_count": null,
   "id": "4525785b",
   "metadata": {},
   "outputs": [
    {
     "name": "stdout",
     "output_type": "stream",
     "text": [
      "[sqlalchemy] PRAGMA main.table_info(\"Select Date,Start_Lon,Start_Lat,End_Lon,End_Lat from uber\")\n",
      "[sqlalchemy] [raw sql] ()\n",
      "[sqlalchemy] PRAGMA temp.table_info(\"Select Date,Start_Lon,Start_Lat,End_Lon,End_Lat from uber\")\n",
      "[sqlalchemy] [raw sql] ()\n",
      "[sqlalchemy] Select Date,Start_Lon,Start_Lat,End_Lon,End_Lat from uber\n",
      "[sqlalchemy] [raw sql] ()\n"
     ]
    }
   ],
   "source": [
    "df_uber=pd.read_sql(\"Select Date,Start_Lon,Start_Lat,End_Lon,End_Lat from uber\",con=engine)\n",
    "df_yellow=pd.read_sql(\"Select Date,Start_Lon,Start_Lat,End_Lon,End_Lat from yellow\",con=engine)\n",
    "df_combined=df_uber.append(df_yellow)"
   ]
  },
  {
   "cell_type": "code",
   "execution_count": null,
   "id": "7bc73588",
   "metadata": {},
   "outputs": [],
   "source": [
    "def plot_visual_3(df_combined):\n",
    "\n",
    "    \n",
    "    df_vis3_temp=df_combined\n",
    "    df_newark=inside_airport(df_vis3_temp,newark_box)\n",
    "    df_laguardia=inside_airport(df_vis3_temp,laguardia_box)\n",
    "    df_jfk=inside_airport(df_vis3_temp,jfk_box)\n",
    "\n",
    "    df_jfk=clean_airport_data(df_jfk)\n",
    "    df_newark=clean_airport_data(df_newark)\n",
    "    df_laguardia=clean_airport_data(df_laguardia)\n",
    "\n",
    "    tags = [\"Sun\",\"Mon\",\"Tue\",\"Wed\",\"Thu\",\"Fri\",\"Sat\"]\n",
    "    df = pd.DataFrame({\"Newark\": tuple(df_newark[\"Count\"]), \"Laguardia\": tuple(df_laguardia['Count']), \"JFK\": tuple(df_jfk['Count'])}, index=tags)\n",
    "    df.plot.bar(rot=0, figsize=(12, 5),xlabel='Day of Week', ylabel='Number of Rides', title='Daywise Number of Rides ending at each airport')\n",
    "    plt.tight_layout() \n",
    "    plt.show()"
   ]
  },
  {
   "cell_type": "code",
   "execution_count": null,
   "id": "097a18a0",
   "metadata": {},
   "outputs": [],
   "source": [
    "plot_visual_3(df_combined)"
   ]
  },
  {
   "cell_type": "markdown",
   "id": "a84331a2",
   "metadata": {},
   "source": [
    "### 4. Create a heatmap of all hired trips over a map of the area. Consider using KeplerGL or another library that helps generate geospatial visualizations.\n"
   ]
  },
  {
   "cell_type": "code",
   "execution_count": null,
   "id": "870806e8",
   "metadata": {},
   "outputs": [],
   "source": [
    "# !pip install keplergl\n",
    "# !jupyter nbextension install --py --sys-prefix keplergl\n",
    "# !jupyter nbextension enable --py --sys-prefix keplergl"
   ]
  },
  {
   "cell_type": "code",
   "execution_count": null,
   "id": "aa07aeb4",
   "metadata": {},
   "outputs": [],
   "source": [
    "len(df_combined)"
   ]
  },
  {
   "cell_type": "code",
   "execution_count": null,
   "id": "b201b40d",
   "metadata": {},
   "outputs": [],
   "source": [
    "df_uber=pd.read_sql(\"Select Date,Start_Lon,Start_Lat,End_Lon,End_Lat  from uber\",con=engine)\n",
    "df_yellow=pd.read_sql(\"Select Date,Start_Lon,Start_Lat,End_Lon,End_Lat  from yellow\",con=engine)\n",
    "df_combined=df_uber.append(df_yellow)"
   ]
  },
  {
   "cell_type": "code",
   "execution_count": null,
   "id": "c81a8f83",
   "metadata": {},
   "outputs": [],
   "source": [
    "config1={'version': 'v1',\n",
    " 'config': {'visState': {'filters': [],\n",
    "   'layers': [{'id': '5ubthn',\n",
    "     'type': 'heatmap',\n",
    "     'config': {'dataId': 'New York City Taxi Trips',\n",
    "      'label': 'start',\n",
    "      'color': [18, 147, 154],\n",
    "      'highlightColor': [252, 242, 26, 255],\n",
    "      'columns': {'lat': 'Start_Lat', 'lng': 'Start_Lon'},\n",
    "      'isVisible': True,\n",
    "      'visConfig': {'opacity': 0.8,\n",
    "       'colorRange': {'name': 'Global Warming',\n",
    "        'type': 'sequential',\n",
    "        'category': 'Uber',\n",
    "        'colors': ['#5A1846',\n",
    "         '#900C3F',\n",
    "         '#C70039',\n",
    "         '#E3611C',\n",
    "         '#F1920E',\n",
    "         '#FFC300']},\n",
    "       'radius': 10},\n",
    "      'hidden': False,\n",
    "      'textLabel': [{'field': None,\n",
    "        'color': [255, 255, 255],\n",
    "        'size': 18,\n",
    "        'offset': [0, 0],\n",
    "        'anchor': 'start',\n",
    "        'alignment': 'center'}]},\n",
    "     'visualChannels': {'weightField': None, 'weightScale': 'linear'}},\n",
    "    {'id': '61sipgk',\n",
    "     'type': 'point',\n",
    "     'config': {'dataId': 'New York City Taxi Trips',\n",
    "      'label': 'end',\n",
    "      'color': [221, 178, 124],\n",
    "      'highlightColor': [252, 242, 26, 255],\n",
    "      'columns': {'lat': 'End_Lat', 'lng': 'End_Lon', 'altitude': None},\n",
    "      'isVisible': False,\n",
    "      'visConfig': {'radius': 10,\n",
    "       'fixedRadius': False,\n",
    "       'opacity': 0.8,\n",
    "       'outline': False,\n",
    "       'thickness': 2,\n",
    "       'strokeColor': None,\n",
    "       'colorRange': {'name': 'Global Warming',\n",
    "        'type': 'sequential',\n",
    "        'category': 'Uber',\n",
    "        'colors': ['#5A1846',\n",
    "         '#900C3F',\n",
    "         '#C70039',\n",
    "         '#E3611C',\n",
    "         '#F1920E',\n",
    "         '#FFC300']},\n",
    "       'strokeColorRange': {'name': 'Global Warming',\n",
    "        'type': 'sequential',\n",
    "        'category': 'Uber',\n",
    "        'colors': ['#5A1846',\n",
    "         '#900C3F',\n",
    "         '#C70039',\n",
    "         '#E3611C',\n",
    "         '#F1920E',\n",
    "         '#FFC300']},\n",
    "       'radiusRange': [0, 50],\n",
    "       'filled': True},\n",
    "      'hidden': False,\n",
    "      'textLabel': [{'field': None,\n",
    "        'color': [255, 255, 255],\n",
    "        'size': 18,\n",
    "        'offset': [0, 0],\n",
    "        'anchor': 'start',\n",
    "        'alignment': 'center'}]},\n",
    "     'visualChannels': {'colorField': None,\n",
    "      'colorScale': 'quantile',\n",
    "      'strokeColorField': None,\n",
    "      'strokeColorScale': 'quantile',\n",
    "      'sizeField': None,\n",
    "      'sizeScale': 'linear'}},\n",
    "    {'id': '1qcteg',\n",
    "     'type': 'arc',\n",
    "     'config': {'dataId': 'New York City Taxi Trips',\n",
    "      'label': 'start -> end arc',\n",
    "      'color': [146, 38, 198],\n",
    "      'highlightColor': [252, 242, 26, 255],\n",
    "      'columns': {'lat0': 'Start_Lat',\n",
    "       'lng0': 'Start_Lon',\n",
    "       'lat1': 'End_Lat',\n",
    "       'lng1': 'End_Lon'},\n",
    "      'isVisible': False,\n",
    "      'visConfig': {'opacity': 0.8,\n",
    "       'thickness': 2,\n",
    "       'colorRange': {'name': 'Global Warming',\n",
    "        'type': 'sequential',\n",
    "        'category': 'Uber',\n",
    "        'colors': ['#5A1846',\n",
    "         '#900C3F',\n",
    "         '#C70039',\n",
    "         '#E3611C',\n",
    "         '#F1920E',\n",
    "         '#FFC300']},\n",
    "       'sizeRange': [0, 10],\n",
    "       'targetColor': None},\n",
    "      'hidden': False,\n",
    "      'textLabel': [{'field': None,\n",
    "        'color': [255, 255, 255],\n",
    "        'size': 18,\n",
    "        'offset': [0, 0],\n",
    "        'anchor': 'start',\n",
    "        'alignment': 'center'}]},\n",
    "     'visualChannels': {'colorField': None,\n",
    "      'colorScale': 'quantile',\n",
    "      'sizeField': None,\n",
    "      'sizeScale': 'linear'}},\n",
    "    {'id': 'e57dwbw',\n",
    "     'type': 'line',\n",
    "     'config': {'dataId': 'New York City Taxi Trips',\n",
    "      'label': 'start -> end line',\n",
    "      'color': [136, 87, 44],\n",
    "      'highlightColor': [252, 242, 26, 255],\n",
    "      'columns': {'lat0': 'Start_Lat',\n",
    "       'lng0': 'Start_Lon',\n",
    "       'lat1': 'End_Lat',\n",
    "       'lng1': 'End_Lon',\n",
    "       'alt0': None,\n",
    "       'alt1': None},\n",
    "      'isVisible': False,\n",
    "      'visConfig': {'opacity': 0.8,\n",
    "       'thickness': 2,\n",
    "       'colorRange': {'name': 'Global Warming',\n",
    "        'type': 'sequential',\n",
    "        'category': 'Uber',\n",
    "        'colors': ['#5A1846',\n",
    "         '#900C3F',\n",
    "         '#C70039',\n",
    "         '#E3611C',\n",
    "         '#F1920E',\n",
    "         '#FFC300']},\n",
    "       'sizeRange': [0, 10],\n",
    "       'targetColor': None,\n",
    "       'elevationScale': 1},\n",
    "      'hidden': False,\n",
    "      'textLabel': [{'field': None,\n",
    "        'color': [255, 255, 255],\n",
    "        'size': 18,\n",
    "        'offset': [0, 0],\n",
    "        'anchor': 'start',\n",
    "        'alignment': 'center'}]},\n",
    "     'visualChannels': {'colorField': None,\n",
    "      'colorScale': 'quantile',\n",
    "      'sizeField': None,\n",
    "      'sizeScale': 'linear'}}],\n",
    "   'interactionConfig': {'tooltip': {'fieldsToShow': {'New York City Taxi Trips': [{'name': 'Date',\n",
    "        'format': None},\n",
    "       {'name': 'Start_Lon', 'format': None},\n",
    "       {'name': 'Start_Lat', 'format': None},\n",
    "       {'name': 'End_Lon', 'format': None},\n",
    "       {'name': 'End_Lat', 'format': None}]},\n",
    "     'compareMode': False,\n",
    "     'compareType': 'absolute',\n",
    "     'enabled': True},\n",
    "    'brush': {'size': 0.5, 'enabled': False},\n",
    "    'geocoder': {'enabled': False},\n",
    "    'coordinate': {'enabled': False}},\n",
    "   'layerBlending': 'normal',\n",
    "   'splitMaps': [],\n",
    "   'animationConfig': {'currentTime': None, 'speed': 1}},\n",
    "  'mapState': {'bearing': 0,\n",
    "   'dragRotate': False,\n",
    "   'latitude': 40.7535153683857,\n",
    "   'longitude': -73.92178320729087,\n",
    "   'pitch': 0,\n",
    "   'zoom': 11.273086327374635,\n",
    "   'isSplit': False},\n",
    "  'mapStyle': {'styleType': 'dark',\n",
    "   'topLayerGroups': {},\n",
    "   'visibleLayerGroups': {'label': True,\n",
    "    'road': True,\n",
    "    'border': False,\n",
    "    'building': True,\n",
    "    'water': True,\n",
    "    'land': True,\n",
    "    '3d building': False},\n",
    "   'threeDBuildingColor': [9.665468314072013,\n",
    "    17.18305478057247,\n",
    "    31.1442867897876],\n",
    "   'mapStyles': {}}}}"
   ]
  },
  {
   "cell_type": "code",
   "execution_count": null,
   "id": "396ed800",
   "metadata": {},
   "outputs": [],
   "source": [
    "def plot_visual_4(config1,df_combined):\n",
    "\n",
    "    map_1 = KeplerGl(height=700,config=config1)\n",
    "    dfkepler=pd.read_csv(\"keplertestdata.csv\")\n",
    "    df_combined_sub=df_combined.sample(10000)\n",
    "    map_1.add_data(data=df_combined_sub,name='New York City Taxi Trips')\n",
    "    return map_1"
   ]
  },
  {
   "cell_type": "code",
   "execution_count": null,
   "id": "cba9334b",
   "metadata": {},
   "outputs": [],
   "source": [
    "plot_visual_4(config1,df_combined)"
   ]
  },
  {
   "cell_type": "markdown",
   "id": "89d788a3",
   "metadata": {},
   "source": [
    "### 5. Create a scatter plot that compares tip amount versus distance for Yellow Taxi rides. You may remove any outliers how you see fit."
   ]
  },
  {
   "cell_type": "code",
   "execution_count": null,
   "id": "6f8ecb6b",
   "metadata": {},
   "outputs": [],
   "source": [
    "dfvis5=pd.read_sql(\"Select * from yellow\",con=engine)"
   ]
  },
  {
   "cell_type": "code",
   "execution_count": null,
   "id": "344dc554",
   "metadata": {},
   "outputs": [],
   "source": [
    "def plot_visual_5(dfvis5):\n",
    "\n",
    "\n",
    "    dfvis5=dfvis5[dfvis5[\"Tip_Amt\"]!=0]\n",
    "    dfvis5=dfvis5[dfvis5[\"Tip_Amt\"]<=15]\n",
    "    dfvis5=dfvis5[dfvis5[\"Distance\"]!=0]\n",
    "    dfvis5=dfvis5[dfvis5[\"Distance\"] <= 25]\n",
    "    dfvis5=dfvis5\n",
    "\n",
    "    dfvis5sample=dfvis5\n",
    "    fig, ax = plt.subplots(figsize=(15, 10))\n",
    "    x = dfvis5sample[\"Distance\"]\n",
    "    y = dfvis5sample[\"Tip_Amt\"]\n",
    "\n",
    "    plt.xticks(fontsize=14)\n",
    "    plt.yticks(fontsize=14)\n",
    "    ax.set_xlabel('Distance(in km)',fontsize=18)\n",
    "    ax.set_ylabel('Tip Amount(in USD)',fontsize=18)\n",
    "    ax.set_title(\"Tip Amount v/s Distance\",fontsize=18)\n",
    "\n",
    "\n",
    "    plt.scatter(x, y)\n",
    "\n",
    "    plt.show()"
   ]
  },
  {
   "cell_type": "code",
   "execution_count": null,
   "id": "e2b80ddc",
   "metadata": {},
   "outputs": [],
   "source": [
    "plot_visual_5(dfvis5)"
   ]
  },
  {
   "cell_type": "markdown",
   "id": "5827ea01",
   "metadata": {},
   "source": [
    "### 6. Create another scatter plot that compares tip amount versus precipitation amount for Yellow Taxi rides. You may remove any outliers how you see fit."
   ]
  },
  {
   "cell_type": "code",
   "execution_count": null,
   "id": "3564bca7",
   "metadata": {},
   "outputs": [],
   "source": [
    "df_yellow=pd.read_sql(\"Select * from yellow\",con=engine)\n",
    "df_hourly=pd.read_sql(\"Select * from hourweather\",con=engine)"
   ]
  },
  {
   "cell_type": "code",
   "execution_count": null,
   "id": "3d535d2a",
   "metadata": {},
   "outputs": [],
   "source": [
    "def plot_visual_6(df_yellow, df_hourly):\n",
    "\n",
    "    df_yellow=df_yellow[[\"Date\",\"Tip_Amt\",\"Distance\"]]\n",
    "    dfvis6 = pd.merge(df_yellow, df_hourly, how='inner', left_on = 'Date', right_on = 'DATE')\n",
    "    dfvis6=dfvis6[dfvis6[\"Tip_Amt\"]!=0]\n",
    "    dfvis6=dfvis6[dfvis6[\"HourlyPrecipitation\"]!=0]\n",
    "    dfvis6=dfvis6[dfvis6[\"HourlyPrecipitation\"]<=0.5]\n",
    "    dfvis6=dfvis6[dfvis6[\"Tip_Amt\"]<=15]\n",
    "    dfvis6=dfvis6[dfvis6[\"Distance\"]!=0]\n",
    "    dfvis6=dfvis6[dfvis6[\"Distance\"] <= 25]\n",
    "\n",
    "\n",
    "    dfvis6sample=dfvis6\n",
    "    fig, ax = plt.subplots(figsize=(15, 10))\n",
    "    x = dfvis6sample[\"HourlyPrecipitation\"]\n",
    "    y = dfvis6sample[\"Tip_Amt\"]\n",
    "\n",
    "    plt.xticks(fontsize=14)\n",
    "    plt.yticks(fontsize=14)\n",
    "    ax.set_xlabel('HourlyPrecipitation',fontsize=18)\n",
    "    ax.set_ylabel('Tip Amount',fontsize=18)\n",
    "    ax.set_title(\"Tip Amount v/s Hourly Precipitation\",fontsize=18)\n",
    "\n",
    "\n",
    "    plt.scatter(x, y)\n",
    "\n",
    "    plt.show()"
   ]
  },
  {
   "cell_type": "code",
   "execution_count": null,
   "id": "b2865932",
   "metadata": {},
   "outputs": [],
   "source": [
    "plot_visual_6(df_yellow, df_hourly)"
   ]
  },
  {
   "cell_type": "markdown",
   "id": "41d250a8",
   "metadata": {},
   "source": [
    "### 7. Come up with 3 questions on your own that can be answered based on the data in the 4 tables. Create at least one visualization to answer each question. At least one visualization should require data from at least 3 tables.\n"
   ]
  },
  {
   "cell_type": "markdown",
   "id": "35a30d1d",
   "metadata": {},
   "source": [
    "### 7.1 Creating scatter plot that compares Total amount versus Distance for Uber Taxi rides."
   ]
  },
  {
   "cell_type": "code",
   "execution_count": null,
   "id": "f9032bd8",
   "metadata": {},
   "outputs": [],
   "source": [
    "df_uber=pd.read_sql(\"Select Distance,Total_Amt from uber\",con=engine)"
   ]
  },
  {
   "cell_type": "code",
   "execution_count": null,
   "id": "b7674be7",
   "metadata": {},
   "outputs": [],
   "source": [
    "def plot_visual_7_1(df_uber):\n",
    "    \n",
    "    df_uber=df_uber[df_uber[\"Total_Amt\"]!=0]\n",
    "    df_uber=df_uber[df_uber[\"Total_Amt\"]>=0]\n",
    "    df_uber=df_uber[df_uber[\"Total_Amt\"]<=100]\n",
    "\n",
    "    fig, ax = plt.subplots(figsize=(12, 10))\n",
    "    x = df_uber[\"Distance\"]\n",
    "    y = df_uber[\"Total_Amt\"]\n",
    "    plt.scatter(x, y)\n",
    "    plt.show()"
   ]
  },
  {
   "cell_type": "code",
   "execution_count": null,
   "id": "390f32f6",
   "metadata": {},
   "outputs": [],
   "source": [
    "plot_visual_7_1(df_uber)"
   ]
  },
  {
   "cell_type": "markdown",
   "id": "2028b61d",
   "metadata": {},
   "source": [
    "### 7.2 Visualize growth of average taxi fares over the years"
   ]
  },
  {
   "cell_type": "code",
   "execution_count": null,
   "id": "c944e7c4",
   "metadata": {},
   "outputs": [],
   "source": [
    "df_uber=pd.read_sql(\"Select Date,Total_Amt from uber\",con=engine)\n",
    "df_yellow=pd.read_sql(\"Select Date,Total_Amt  from yellow\",con=engine)\n",
    "df_combined=df_uber.append(df_yellow)"
   ]
  },
  {
   "cell_type": "code",
   "execution_count": null,
   "id": "640fb6b6",
   "metadata": {},
   "outputs": [],
   "source": [
    "df_combined.head()"
   ]
  },
  {
   "cell_type": "code",
   "execution_count": null,
   "id": "6241e63b",
   "metadata": {},
   "outputs": [],
   "source": [
    "def plot_visual_7_2(df_uber, df_yellow,df_combined):\n",
    "\n",
    "    df_uber[\"Date\"]=df_uber[\"Date\"].astype('datetime64')\n",
    "    df_uber=df_uber[[\"Date\",\"Total_Amt\"]].groupby(df_uber.Date.dt.year).mean()\n",
    "    df_uber[\"Date\"]=df_uber.index    \n",
    "\n",
    "    df_yellow[\"Date\"]=df_yellow[\"Date\"].astype('datetime64')\n",
    "    df_yellow=df_yellow[[\"Date\",\"Total_Amt\"]].groupby(df_yellow.Date.dt.year).mean()\n",
    "    df_yellow[\"Date\"]=df_yellow.index\n",
    "\n",
    "    fig, ax = plt.subplots(figsize=(12, 10))\n",
    "    plt.xticks(fontsize=14)\n",
    "    plt.yticks(fontsize=14)\n",
    "    ax.set_xlabel('Year',fontsize=18)\n",
    "    ax.set_ylabel('Average Total Amount',fontsize=18)\n",
    "    ax.set_title(\"Average Fare of Uber and Yellow Taxi over the years\",fontsize=18)\n",
    "    plt.plot(df_uber[\"Total_Amt\"],color='blue',label=\"Average Uber Fare\",alpha=1)\n",
    "    plt.plot(df_yellow[\"Total_Amt\"],color='yellow',label=\"Average Yellow Taxi Fare\",alpha=1)\n",
    "\n",
    "    plt.show()"
   ]
  },
  {
   "cell_type": "code",
   "execution_count": null,
   "id": "0d21a4d3",
   "metadata": {},
   "outputs": [],
   "source": [
    "plot_visual_7_2(df_uber, df_yellow,df_combined)"
   ]
  },
  {
   "cell_type": "markdown",
   "id": "ff151e5f",
   "metadata": {},
   "source": [
    "### 7.3 Pie Chart describing Percentage of total Uber and Yellow Taxi Rides according to temperature in 30 degree increments"
   ]
  },
  {
   "cell_type": "markdown",
   "id": "6061bb49",
   "metadata": {},
   "source": [
    "- This visualization uses data from 3 tables"
   ]
  },
  {
   "cell_type": "code",
   "execution_count": null,
   "id": "6ff59246",
   "metadata": {},
   "outputs": [],
   "source": [
    "df_uber=pd.read_sql(\"Select Date,Distance from uber\",con=engine)\n",
    "df_yellow=pd.read_sql(\"Select Date,Distance from yellow\",con=engine)\n",
    "df_daily=pd.read_sql(\"Select * from dayweather\",con=engine)\n",
    "\n",
    "df_combined=df_uber.append(df_yellow)"
   ]
  },
  {
   "cell_type": "code",
   "execution_count": null,
   "id": "08a316fb",
   "metadata": {},
   "outputs": [],
   "source": [
    "def plot_visual_7_3(df_daily,df_combined):\n",
    "\n",
    "    df_combined[\"Date\"]=df_combined[\"Date\"].astype('datetime64')\n",
    "    df_combined=df_combined[[\"Date\",\"Distance\"]].groupby(df_combined.Date.dt.date).count()\n",
    "    df_combined[\"Date\"]=df_combined.index\n",
    "    df_combined[\"Date\"]=df_combined[\"Date\"].astype('datetime64')\n",
    "\n",
    "    df_combined.reset_index(drop=True,inplace=True)\n",
    "    df_daily[\"DATE\"]=df_daily[\"DATE\"].astype('datetime64')\n",
    "    df_daily.drop(columns=[\"DailyAvgWindSpeed\"],inplace=True)\n",
    "    df_daily = pd.merge(df_daily, df_combined, how='inner', left_on = 'DATE', right_on = 'Date')    \n",
    "    df_daily.rename(columns={\"Distance\":\"Count\"},inplace=True) \n",
    "    df_daily.drop(columns=[\"DATE\"],inplace=True)    \n",
    "    \n",
    "    \n",
    "    \n",
    "    df_0to30=df_daily[(df_daily[\"DailyTemperature\"]>=0) & (df_daily[\"DailyTemperature\"]<=30)]\n",
    "    df_30to60=df_daily[(df_daily[\"DailyTemperature\"]>=30) & (df_daily[\"DailyTemperature\"]<=60)]\n",
    "    df_60to90=df_daily[(df_daily[\"DailyTemperature\"]>=60) & (df_daily[\"DailyTemperature\"]<=90)]    \n",
    "    fig, ax = plt.subplots(figsize=(12, 10))\n",
    "    temp = ['0 to 30 degrees', '30 to 60 degrees', '60 to 90 degrees']\n",
    "    data = [len(df_0to30),len(df_30to60),len(df_60to90)]\n",
    "    plt.pie(data, labels = temp,autopct='%1.2f%%',textprops={'fontsize': 18})\n",
    "    plt.title(\"Percentage of total Uber and Yellow Taxi Rides according to temperature in 30 degree increments\", fontsize=18)\n",
    "    \n",
    "    plt.show()"
   ]
  },
  {
   "cell_type": "code",
   "execution_count": null,
   "id": "809bb925",
   "metadata": {},
   "outputs": [],
   "source": [
    "plot_visual_7_3(df_daily,df_combined)"
   ]
  }
 ],
 "metadata": {
  "kernelspec": {
   "display_name": "Python 3 (ipykernel)",
   "language": "python",
   "name": "python3"
  },
  "language_info": {
   "codemirror_mode": {
    "name": "ipython",
    "version": 3
   },
   "file_extension": ".py",
   "mimetype": "text/x-python",
   "name": "python",
   "nbconvert_exporter": "python",
   "pygments_lexer": "ipython3",
   "version": "3.9.7"
  }
 },
 "nbformat": 4,
 "nbformat_minor": 5
}
