{
 "cells": [
  {
   "cell_type": "markdown",
   "id": "75ee76fc",
   "metadata": {},
   "source": [
    "# Getting Data from MTA Yellow Taxi"
   ]
  },
  {
   "cell_type": "code",
   "execution_count": 111,
   "id": "3b3e5a85",
   "metadata": {},
   "outputs": [],
   "source": [
    "import pandas as pd\n",
    "import requests\n",
    "import re\n",
    "from tqdm import tqdm\n",
    "import time\n",
    "import os\n",
    "import glob\n",
    "import math\n",
    "from keplergl import KeplerGl"
   ]
  },
  {
   "cell_type": "code",
   "execution_count": 285,
   "id": "4094eb6f",
   "metadata": {},
   "outputs": [],
   "source": [
    "\n",
    "from bs4 import BeautifulSoup\n",
    "  \n",
    "URL = \"https://www1.nyc.gov/site/tlc/about/tlc-trip-record-data.page\"\n",
    "r = requests.get(URL)\n",
    "  \n",
    "soup = BeautifulSoup(r.content, 'html5lib') \n",
    "# print(soup.prettify())"
   ]
  },
  {
   "cell_type": "code",
   "execution_count": 3,
   "id": "c52724c0",
   "metadata": {},
   "outputs": [],
   "source": [
    "soup = BeautifulSoup(r.content)\n",
    "table = soup.find_all('a',title=\"Yellow Taxi Trip Records\")"
   ]
  },
  {
   "cell_type": "code",
   "execution_count": 286,
   "id": "14573178",
   "metadata": {},
   "outputs": [],
   "source": [
    "# table"
   ]
  },
  {
   "cell_type": "code",
   "execution_count": 5,
   "id": "18b1ca53",
   "metadata": {},
   "outputs": [
    {
     "data": {
      "text/plain": [
       "bs4.element.ResultSet"
      ]
     },
     "execution_count": 5,
     "metadata": {},
     "output_type": "execute_result"
    }
   ],
   "source": [
    "type(table)"
   ]
  },
  {
   "cell_type": "code",
   "execution_count": 6,
   "id": "8478b85b",
   "metadata": {},
   "outputs": [],
   "source": [
    "\n",
    "links=[]\n",
    "for row in table:\n",
    "    match = re.search(r'href=[\\'\"]?([^\\'\" >]+)', str(row))\n",
    "    if match:\n",
    "        links.append(str(match.group(1)))"
   ]
  },
  {
   "cell_type": "code",
   "execution_count": 287,
   "id": "e390e5b5",
   "metadata": {},
   "outputs": [],
   "source": [
    "# links"
   ]
  },
  {
   "cell_type": "code",
   "execution_count": 8,
   "id": "b8989fa0",
   "metadata": {},
   "outputs": [],
   "source": [
    "pattern = r\"(?P<prefix>.*)(?P<tripdata>tripdata_)(?P<year>[0-9]{4})-(?P<month>[0-9]{2})(?P<rest>.*)\"\n",
    "newlinks=[]\n",
    "for eachlink in links:\n",
    "    match=re.search(pattern,eachlink)\n",
    "    year=int(match.group(\"year\"))\n",
    "    month=int(match.group(\"month\"))\n",
    "    \n",
    "    if (year>=2009) and (year<2015):\n",
    "        newlinks.append(eachlink)\n",
    "    elif (year==2015) and (month<=6):\n",
    "        newlinks.append(eachlink)"
   ]
  },
  {
   "cell_type": "code",
   "execution_count": 9,
   "id": "8522ef2b",
   "metadata": {
    "scrolled": true
   },
   "outputs": [
    {
     "data": {
      "text/plain": [
       "['https://s3.amazonaws.com/nyc-tlc/trip+data/yellow_tripdata_2015-01.csv',\n",
       " 'https://s3.amazonaws.com/nyc-tlc/trip+data/yellow_tripdata_2015-02.csv',\n",
       " 'https://s3.amazonaws.com/nyc-tlc/trip+data/yellow_tripdata_2015-03.csv',\n",
       " 'https://s3.amazonaws.com/nyc-tlc/trip+data/yellow_tripdata_2015-04.csv',\n",
       " 'https://s3.amazonaws.com/nyc-tlc/trip+data/yellow_tripdata_2015-05.csv',\n",
       " 'https://s3.amazonaws.com/nyc-tlc/trip+data/yellow_tripdata_2015-06.csv',\n",
       " 'https://s3.amazonaws.com/nyc-tlc/trip+data/yellow_tripdata_2014-01.csv',\n",
       " 'https://s3.amazonaws.com/nyc-tlc/trip+data/yellow_tripdata_2014-02.csv',\n",
       " 'https://s3.amazonaws.com/nyc-tlc/trip+data/yellow_tripdata_2014-03.csv',\n",
       " 'https://s3.amazonaws.com/nyc-tlc/trip+data/yellow_tripdata_2014-04.csv',\n",
       " 'https://s3.amazonaws.com/nyc-tlc/trip+data/yellow_tripdata_2014-05.csv',\n",
       " 'https://s3.amazonaws.com/nyc-tlc/trip+data/yellow_tripdata_2014-06.csv',\n",
       " 'https://s3.amazonaws.com/nyc-tlc/trip+data/yellow_tripdata_2014-07.csv',\n",
       " 'https://s3.amazonaws.com/nyc-tlc/trip+data/yellow_tripdata_2014-08.csv',\n",
       " 'https://s3.amazonaws.com/nyc-tlc/trip+data/yellow_tripdata_2014-09.csv',\n",
       " 'https://s3.amazonaws.com/nyc-tlc/trip+data/yellow_tripdata_2014-10.csv',\n",
       " 'https://s3.amazonaws.com/nyc-tlc/trip+data/yellow_tripdata_2014-11.csv',\n",
       " 'https://s3.amazonaws.com/nyc-tlc/trip+data/yellow_tripdata_2014-12.csv',\n",
       " 'https://s3.amazonaws.com/nyc-tlc/trip+data/yellow_tripdata_2013-01.csv',\n",
       " 'https://s3.amazonaws.com/nyc-tlc/trip+data/yellow_tripdata_2013-02.csv',\n",
       " 'https://s3.amazonaws.com/nyc-tlc/trip+data/yellow_tripdata_2013-03.csv',\n",
       " 'https://s3.amazonaws.com/nyc-tlc/trip+data/yellow_tripdata_2013-04.csv',\n",
       " 'https://s3.amazonaws.com/nyc-tlc/trip+data/yellow_tripdata_2013-05.csv',\n",
       " 'https://s3.amazonaws.com/nyc-tlc/trip+data/yellow_tripdata_2013-06.csv',\n",
       " 'https://s3.amazonaws.com/nyc-tlc/trip+data/yellow_tripdata_2013-07.csv',\n",
       " 'https://s3.amazonaws.com/nyc-tlc/trip+data/yellow_tripdata_2013-08.csv',\n",
       " 'https://s3.amazonaws.com/nyc-tlc/trip+data/yellow_tripdata_2013-09.csv',\n",
       " 'https://s3.amazonaws.com/nyc-tlc/trip+data/yellow_tripdata_2013-10.csv',\n",
       " 'https://s3.amazonaws.com/nyc-tlc/trip+data/yellow_tripdata_2013-11.csv',\n",
       " 'https://s3.amazonaws.com/nyc-tlc/trip+data/yellow_tripdata_2013-12.csv',\n",
       " 'https://s3.amazonaws.com/nyc-tlc/trip+data/yellow_tripdata_2012-01.csv',\n",
       " 'https://s3.amazonaws.com/nyc-tlc/trip+data/yellow_tripdata_2012-02.csv',\n",
       " 'https://s3.amazonaws.com/nyc-tlc/trip+data/yellow_tripdata_2012-03.csv',\n",
       " 'https://s3.amazonaws.com/nyc-tlc/trip+data/yellow_tripdata_2012-04.csv',\n",
       " 'https://s3.amazonaws.com/nyc-tlc/trip+data/yellow_tripdata_2012-05.csv',\n",
       " 'https://s3.amazonaws.com/nyc-tlc/trip+data/yellow_tripdata_2012-06.csv',\n",
       " 'https://s3.amazonaws.com/nyc-tlc/trip+data/yellow_tripdata_2012-07.csv',\n",
       " 'https://s3.amazonaws.com/nyc-tlc/trip+data/yellow_tripdata_2012-08.csv',\n",
       " 'https://s3.amazonaws.com/nyc-tlc/trip+data/yellow_tripdata_2012-09.csv',\n",
       " 'https://s3.amazonaws.com/nyc-tlc/trip+data/yellow_tripdata_2012-10.csv',\n",
       " 'https://s3.amazonaws.com/nyc-tlc/trip+data/yellow_tripdata_2012-11.csv',\n",
       " 'https://s3.amazonaws.com/nyc-tlc/trip+data/yellow_tripdata_2012-12.csv',\n",
       " 'https://s3.amazonaws.com/nyc-tlc/trip+data/yellow_tripdata_2011-01.csv',\n",
       " 'https://s3.amazonaws.com/nyc-tlc/trip+data/yellow_tripdata_2011-02.csv',\n",
       " 'https://s3.amazonaws.com/nyc-tlc/trip+data/yellow_tripdata_2011-03.csv',\n",
       " 'https://s3.amazonaws.com/nyc-tlc/trip+data/yellow_tripdata_2011-04.csv',\n",
       " 'https://s3.amazonaws.com/nyc-tlc/trip+data/yellow_tripdata_2011-05.csv',\n",
       " 'https://s3.amazonaws.com/nyc-tlc/trip+data/yellow_tripdata_2011-06.csv',\n",
       " 'https://s3.amazonaws.com/nyc-tlc/trip+data/yellow_tripdata_2011-07.csv',\n",
       " 'https://s3.amazonaws.com/nyc-tlc/trip+data/yellow_tripdata_2011-08.csv',\n",
       " 'https://s3.amazonaws.com/nyc-tlc/trip+data/yellow_tripdata_2011-09.csv',\n",
       " 'https://s3.amazonaws.com/nyc-tlc/trip+data/yellow_tripdata_2011-10.csv',\n",
       " 'https://s3.amazonaws.com/nyc-tlc/trip+data/yellow_tripdata_2011-11.csv',\n",
       " 'https://s3.amazonaws.com/nyc-tlc/trip+data/yellow_tripdata_2011-12.csv',\n",
       " 'https://s3.amazonaws.com/nyc-tlc/trip+data/yellow_tripdata_2010-01.csv',\n",
       " 'https://s3.amazonaws.com/nyc-tlc/trip+data/yellow_tripdata_2010-02.csv',\n",
       " 'https://s3.amazonaws.com/nyc-tlc/trip+data/yellow_tripdata_2010-03.csv',\n",
       " 'https://s3.amazonaws.com/nyc-tlc/trip+data/yellow_tripdata_2010-04.csv',\n",
       " 'https://s3.amazonaws.com/nyc-tlc/trip+data/yellow_tripdata_2010-05.csv',\n",
       " 'https://s3.amazonaws.com/nyc-tlc/trip+data/yellow_tripdata_2010-06.csv',\n",
       " 'https://s3.amazonaws.com/nyc-tlc/trip+data/yellow_tripdata_2010-07.csv',\n",
       " 'https://s3.amazonaws.com/nyc-tlc/trip+data/yellow_tripdata_2010-08.csv',\n",
       " 'https://s3.amazonaws.com/nyc-tlc/trip+data/yellow_tripdata_2010-09.csv',\n",
       " 'https://s3.amazonaws.com/nyc-tlc/trip+data/yellow_tripdata_2010-10.csv',\n",
       " 'https://s3.amazonaws.com/nyc-tlc/trip+data/yellow_tripdata_2010-11.csv',\n",
       " 'https://s3.amazonaws.com/nyc-tlc/trip+data/yellow_tripdata_2010-12.csv',\n",
       " 'https://s3.amazonaws.com/nyc-tlc/trip+data/yellow_tripdata_2009-01.csv',\n",
       " 'https://s3.amazonaws.com/nyc-tlc/trip+data/yellow_tripdata_2009-02.csv',\n",
       " 'https://s3.amazonaws.com/nyc-tlc/trip+data/yellow_tripdata_2009-03.csv',\n",
       " 'https://s3.amazonaws.com/nyc-tlc/trip+data/yellow_tripdata_2009-04.csv',\n",
       " 'https://s3.amazonaws.com/nyc-tlc/trip+data/yellow_tripdata_2009-05.csv',\n",
       " 'https://s3.amazonaws.com/nyc-tlc/trip+data/yellow_tripdata_2009-06.csv',\n",
       " 'https://s3.amazonaws.com/nyc-tlc/trip+data/yellow_tripdata_2009-07.csv',\n",
       " 'https://s3.amazonaws.com/nyc-tlc/trip+data/yellow_tripdata_2009-08.csv',\n",
       " 'https://s3.amazonaws.com/nyc-tlc/trip+data/yellow_tripdata_2009-09.csv',\n",
       " 'https://s3.amazonaws.com/nyc-tlc/trip+data/yellow_tripdata_2009-10.csv',\n",
       " 'https://s3.amazonaws.com/nyc-tlc/trip+data/yellow_tripdata_2009-11.csv',\n",
       " 'https://s3.amazonaws.com/nyc-tlc/trip+data/yellow_tripdata_2009-12.csv']"
      ]
     },
     "execution_count": 9,
     "metadata": {},
     "output_type": "execute_result"
    }
   ],
   "source": [
    "newlinks"
   ]
  },
  {
   "cell_type": "code",
   "execution_count": 10,
   "id": "70cf2cd0",
   "metadata": {},
   "outputs": [],
   "source": [
    "def download_file(url):\n",
    "    if not(os.path.exists(\"data\")):\n",
    "        os.mkdir(\"data\")\n",
    "    local_filename = url.split('/')[-1]\n",
    "    local_filename=\"C:\\\\Users\\\\Kunal\\\\Desktop\\\\TFA\\\\data\\\\\"+local_filename\n",
    "    with requests.get(url, stream=True) as r:\n",
    "        r.raise_for_status()\n",
    "        with open(local_filename, 'wb') as f:\n",
    "            for chunk in r.iter_content(chunk_size=8192): \n",
    "                f.write(chunk)\n",
    "    return local_filename"
   ]
  },
  {
   "cell_type": "code",
   "execution_count": null,
   "id": "43d1a70d",
   "metadata": {},
   "outputs": [],
   "source": []
  },
  {
   "cell_type": "code",
   "execution_count": 59,
   "id": "5135164c",
   "metadata": {},
   "outputs": [
    {
     "name": "stderr",
     "output_type": "stream",
     "text": [
      "100%|████████████████████████████████████████████████████████████████████████████████| 78/78 [1:31:52<00:00, 70.67s/it]\n"
     ]
    }
   ],
   "source": [
    "# #DO NOT RUN-----------------------------------------------------------\n",
    "# for i in tqdm(range(len(newlinks))):\n",
    "#     eachlink=newlinks[i]\n",
    "#     download_file(eachlink)\n",
    "    \n",
    "    "
   ]
  },
  {
   "cell_type": "code",
   "execution_count": 11,
   "id": "7c3f418b",
   "metadata": {},
   "outputs": [],
   "source": [
    "path = \"C:\\\\Users\\\\Kunal\\\\Desktop\\\\TFA\\\\data\"\n",
    "csv_files = glob.glob(os.path.join(path, \"*.csv\"))"
   ]
  },
  {
   "cell_type": "code",
   "execution_count": 25,
   "id": "ef11ea64",
   "metadata": {},
   "outputs": [],
   "source": [
    "subset=pd.read_csv(\"C:\\\\Users\\\\Kunal\\\\Desktop\\\\TFA\\\\start.csv\",on_bad_lines='skip')\n",
    "df=pd.DataFrame()\n",
    "mapping = {subset.columns[0]: 'vendor_name', \n",
    "           subset.columns[1]: 'Trip_Pickup_DateTime', \n",
    "           subset.columns[2]: 'Trip_Dropoff_DateTime', \n",
    "           subset.columns[3]: 'Passenger_Count',\n",
    "           subset.columns[4]:'Trip_Distance', \n",
    "           subset.columns[5]:'Start_Lon', \n",
    "           subset.columns[6]:'Start_Lat',\n",
    "           subset.columns[7]:'Rate_Code',\n",
    "           subset.columns[8]:'store_and_forward',\n",
    "           subset.columns[9]:'End_Lon',\n",
    "           subset.columns[10]:'End_Lat',\n",
    "           subset.columns[11]:'Payment_Type',\n",
    "           subset.columns[12]:'Fare_Amt',\n",
    "           subset.columns[13]:'surcharge',\n",
    "           subset.columns[14]:'mta_tax',\n",
    "           subset.columns[15]:'Tip_Amt',\n",
    "           subset.columns[16]:'Tolls_Amt',\n",
    "           subset.columns[17]:'Total_Amt'}"
   ]
  },
  {
   "cell_type": "code",
   "execution_count": 29,
   "id": "d5c826c1",
   "metadata": {},
   "outputs": [
    {
     "name": "stderr",
     "output_type": "stream",
     "text": [
      "100%|██████████████████████████████████████████████████████████████████████████████████| 78/78 [41:19<00:00, 31.79s/it]\n"
     ]
    }
   ],
   "source": [
    "masterdf=pd.DataFrame()\n",
    "for i in tqdm(range(len(csv_files))):\n",
    "#     print(csv_files[i])\n",
    "#     if(i<11):\n",
    "#         continue\n",
    "    df = df[0:0]   \n",
    "    df = pd.read_csv(csv_files[i],on_bad_lines='skip')\n",
    "    subset=df.sample(n=3000)\n",
    "    if len(subset.columns)>18:\n",
    "        subset=subset.drop(columns=[\"improvement_surcharge\"],errors='ignore')\n",
    "#         print(\"here\")\n",
    "    tempdf=subset\n",
    "    tempdf.columns=mapping\n",
    "    masterdf=masterdf.append(tempdf,ignore_index=True)\n",
    "    subset.to_csv(r\"C:\\Users\\Kunal\\Desktop\\TFA\\sample\\subset\" +str(i)+ \".csv\",index=False)"
   ]
  },
  {
   "cell_type": "code",
   "execution_count": 30,
   "id": "639a8c7a",
   "metadata": {},
   "outputs": [
    {
     "data": {
      "text/plain": [
       "234000"
      ]
     },
     "execution_count": 30,
     "metadata": {},
     "output_type": "execute_result"
    }
   ],
   "source": [
    "len(masterdf)"
   ]
  },
  {
   "cell_type": "code",
   "execution_count": 31,
   "id": "3d7e1db3",
   "metadata": {},
   "outputs": [],
   "source": [
    "masterdf.to_csv(\"masterdf.csv\",index=False)"
   ]
  },
  {
   "cell_type": "code",
   "execution_count": 22,
   "id": "991c3179",
   "metadata": {},
   "outputs": [],
   "source": [
    "masterdf.columns=['name', 'vendor_name', 'Trip_Pickup_DateTime',\n",
    "       'Trip_Dropoff_DateTime', 'Passenger_Count', 'Trip_Distance',\n",
    "       'Start_Lon', 'Start_Lat', 'Rate_Code', 'store_and_forward', 'End_Lon',\n",
    "       'End_Lat', 'Payment_Type', 'Fare_Amt', 'surcharge', 'mta_tax',\n",
    "       'Tip_Amt', 'Tolls_Amt']"
   ]
  },
  {
   "cell_type": "code",
   "execution_count": 23,
   "id": "01fc5dac",
   "metadata": {},
   "outputs": [
    {
     "data": {
      "text/plain": [
       "Index(['name', 'vendor_name', 'Trip_Pickup_DateTime', 'Trip_Dropoff_DateTime',\n",
       "       'Passenger_Count', 'Trip_Distance', 'Start_Lon', 'Start_Lat',\n",
       "       'Rate_Code', 'store_and_forward', 'End_Lon', 'End_Lat', 'Payment_Type',\n",
       "       'Fare_Amt', 'surcharge', 'mta_tax', 'Tip_Amt', 'Tolls_Amt'],\n",
       "      dtype='object')"
      ]
     },
     "execution_count": 23,
     "metadata": {},
     "output_type": "execute_result"
    }
   ],
   "source": [
    "masterdf.columns"
   ]
  },
  {
   "cell_type": "markdown",
   "id": "4f77b844",
   "metadata": {},
   "source": [
    "# Distance function"
   ]
  },
  {
   "cell_type": "markdown",
   "id": "e0562ff0",
   "metadata": {},
   "source": [
    "* Calculate distance between pickup and drop location using math module"
   ]
  },
  {
   "cell_type": "code",
   "execution_count": 1,
   "id": "c7e74dd4",
   "metadata": {},
   "outputs": [],
   "source": [
    "def distance(series):\n",
    "    lat1, lon1 = float(series[\"Start_Lat\"]),float(series[\"Start_Lon\"])\n",
    "    lat2, lon2 = float(series[\"End_Lat\"]),float(series[\"End_Lon\"])\n",
    "    radius = 6371  # km\n",
    "\n",
    "    dlat = math.radians(lat2 - lat1)\n",
    "    dlon = math.radians(lon2 - lon1)\n",
    "    a = (math.sin(dlat / 2) * math.sin(dlat / 2) +\n",
    "         math.cos(math.radians(lat1)) * math.cos(math.radians(lat2)) *\n",
    "         math.sin(dlon / 2) * math.sin(dlon / 2))\n",
    "    c = 2 * math.atan2(math.sqrt(a), math.sqrt(1 - a))\n",
    "    d = radius * c\n",
    "\n",
    "    return d"
   ]
  },
  {
   "cell_type": "markdown",
   "id": "f50b0f4b",
   "metadata": {},
   "source": [
    "# Outside Area Trip Removal Function "
   ]
  },
  {
   "cell_type": "markdown",
   "id": "0f727be8",
   "metadata": {},
   "source": [
    "* Remove trips that start and/or end outside of the latitude/longitude coordinate box: (40.560445, -74.242330) and (40.908524, -73.717047). "
   ]
  },
  {
   "cell_type": "code",
   "execution_count": 2,
   "id": "edaab556",
   "metadata": {},
   "outputs": [],
   "source": [
    "def outside(dataframe):\n",
    "    dataframe = dataframe[ (dataframe['Start_Lat'] >= 40.560445) & (dataframe['Start_Lat'] <= 40.908524)]\n",
    "    dataframe = dataframe[ (dataframe['End_Lat'] >= 40.560445) & (dataframe['End_Lat'] <= 40.908524)]\n",
    "    dataframe = dataframe[ (dataframe['Start_Lon'] >= -74.242330) & (dataframe['Start_Lon'] <= -73.717047)]\n",
    "    dataframe = dataframe[ (dataframe['End_Lon'] >= -74.242330) & (dataframe['End_Lon'] <= -73.717047)]\n",
    "    return dataframe\n",
    "    "
   ]
  },
  {
   "cell_type": "markdown",
   "id": "58c1d0a4",
   "metadata": {},
   "source": [
    "# Data Cleaning"
   ]
  },
  {
   "cell_type": "markdown",
   "id": "b3ed308a",
   "metadata": {},
   "source": [
    "-  __Yellow Taxi Data__"
   ]
  },
  {
   "cell_type": "code",
   "execution_count": 5,
   "id": "8d0d9ad9",
   "metadata": {
    "scrolled": true
   },
   "outputs": [
    {
     "name": "stderr",
     "output_type": "stream",
     "text": [
      "C:\\Users\\Kunal\\AppData\\Local\\Temp\\ipykernel_11820\\2527313409.py:1: DtypeWarning: Columns (0,8,11) have mixed types. Specify dtype option on import or set low_memory=False.\n",
      "  yellowdf=pd.read_csv(\"masterdf.csv\")\n"
     ]
    }
   ],
   "source": [
    "yellowdf=pd.read_csv(\"masterdf.csv\")"
   ]
  },
  {
   "cell_type": "code",
   "execution_count": 6,
   "id": "121003b2",
   "metadata": {
    "scrolled": true
   },
   "outputs": [
    {
     "data": {
      "text/html": [
       "<div>\n",
       "<style scoped>\n",
       "    .dataframe tbody tr th:only-of-type {\n",
       "        vertical-align: middle;\n",
       "    }\n",
       "\n",
       "    .dataframe tbody tr th {\n",
       "        vertical-align: top;\n",
       "    }\n",
       "\n",
       "    .dataframe thead th {\n",
       "        text-align: right;\n",
       "    }\n",
       "</style>\n",
       "<table border=\"1\" class=\"dataframe\">\n",
       "  <thead>\n",
       "    <tr style=\"text-align: right;\">\n",
       "      <th></th>\n",
       "      <th>vendor_name</th>\n",
       "      <th>Trip_Pickup_DateTime</th>\n",
       "      <th>Trip_Dropoff_DateTime</th>\n",
       "      <th>Passenger_Count</th>\n",
       "      <th>Trip_Distance</th>\n",
       "      <th>Start_Lon</th>\n",
       "      <th>Start_Lat</th>\n",
       "      <th>Rate_Code</th>\n",
       "      <th>store_and_forward</th>\n",
       "      <th>End_Lon</th>\n",
       "      <th>End_Lat</th>\n",
       "      <th>Payment_Type</th>\n",
       "      <th>Fare_Amt</th>\n",
       "      <th>surcharge</th>\n",
       "      <th>mta_tax</th>\n",
       "      <th>Tip_Amt</th>\n",
       "      <th>Tolls_Amt</th>\n",
       "      <th>Total_Amt</th>\n",
       "    </tr>\n",
       "  </thead>\n",
       "  <tbody>\n",
       "    <tr>\n",
       "      <th>0</th>\n",
       "      <td>CMT</td>\n",
       "      <td>2009-01-13 07:54:28</td>\n",
       "      <td>2009-01-13 08:00:10</td>\n",
       "      <td>2</td>\n",
       "      <td>0.60</td>\n",
       "      <td>-73.961570</td>\n",
       "      <td>40.768545</td>\n",
       "      <td>NaN</td>\n",
       "      <td>NaN</td>\n",
       "      <td>-73.963642</td>\n",
       "      <td>40.774218</td>\n",
       "      <td>Cash</td>\n",
       "      <td>4.9</td>\n",
       "      <td>0.0</td>\n",
       "      <td>NaN</td>\n",
       "      <td>0.0</td>\n",
       "      <td>0.00</td>\n",
       "      <td>4.90</td>\n",
       "    </tr>\n",
       "    <tr>\n",
       "      <th>1</th>\n",
       "      <td>CMT</td>\n",
       "      <td>2009-01-22 09:02:19</td>\n",
       "      <td>2009-01-22 09:45:48</td>\n",
       "      <td>1</td>\n",
       "      <td>21.10</td>\n",
       "      <td>-73.914399</td>\n",
       "      <td>40.746171</td>\n",
       "      <td>NaN</td>\n",
       "      <td>NaN</td>\n",
       "      <td>-73.816812</td>\n",
       "      <td>40.703619</td>\n",
       "      <td>Cash</td>\n",
       "      <td>49.3</td>\n",
       "      <td>0.0</td>\n",
       "      <td>NaN</td>\n",
       "      <td>0.0</td>\n",
       "      <td>0.00</td>\n",
       "      <td>49.30</td>\n",
       "    </tr>\n",
       "    <tr>\n",
       "      <th>2</th>\n",
       "      <td>CMT</td>\n",
       "      <td>2009-01-23 23:52:45</td>\n",
       "      <td>2009-01-24 00:13:43</td>\n",
       "      <td>1</td>\n",
       "      <td>10.70</td>\n",
       "      <td>-73.874395</td>\n",
       "      <td>40.774010</td>\n",
       "      <td>NaN</td>\n",
       "      <td>NaN</td>\n",
       "      <td>-73.981739</td>\n",
       "      <td>40.765671</td>\n",
       "      <td>Cash</td>\n",
       "      <td>25.8</td>\n",
       "      <td>0.0</td>\n",
       "      <td>NaN</td>\n",
       "      <td>0.0</td>\n",
       "      <td>4.15</td>\n",
       "      <td>29.95</td>\n",
       "    </tr>\n",
       "    <tr>\n",
       "      <th>3</th>\n",
       "      <td>CMT</td>\n",
       "      <td>2009-01-06 18:34:58</td>\n",
       "      <td>2009-01-06 18:43:57</td>\n",
       "      <td>1</td>\n",
       "      <td>3.60</td>\n",
       "      <td>-73.957687</td>\n",
       "      <td>40.765477</td>\n",
       "      <td>NaN</td>\n",
       "      <td>NaN</td>\n",
       "      <td>-73.977345</td>\n",
       "      <td>40.729237</td>\n",
       "      <td>Credit</td>\n",
       "      <td>11.1</td>\n",
       "      <td>0.0</td>\n",
       "      <td>NaN</td>\n",
       "      <td>1.0</td>\n",
       "      <td>0.00</td>\n",
       "      <td>12.10</td>\n",
       "    </tr>\n",
       "    <tr>\n",
       "      <th>4</th>\n",
       "      <td>VTS</td>\n",
       "      <td>2009-01-02 09:52:00</td>\n",
       "      <td>2009-01-02 10:02:00</td>\n",
       "      <td>1</td>\n",
       "      <td>2.02</td>\n",
       "      <td>-74.000105</td>\n",
       "      <td>40.761962</td>\n",
       "      <td>NaN</td>\n",
       "      <td>NaN</td>\n",
       "      <td>-73.971110</td>\n",
       "      <td>40.759072</td>\n",
       "      <td>Credit</td>\n",
       "      <td>7.7</td>\n",
       "      <td>0.0</td>\n",
       "      <td>NaN</td>\n",
       "      <td>2.0</td>\n",
       "      <td>0.00</td>\n",
       "      <td>9.70</td>\n",
       "    </tr>\n",
       "  </tbody>\n",
       "</table>\n",
       "</div>"
      ],
      "text/plain": [
       "  vendor_name Trip_Pickup_DateTime Trip_Dropoff_DateTime  Passenger_Count  \\\n",
       "0         CMT  2009-01-13 07:54:28   2009-01-13 08:00:10                2   \n",
       "1         CMT  2009-01-22 09:02:19   2009-01-22 09:45:48                1   \n",
       "2         CMT  2009-01-23 23:52:45   2009-01-24 00:13:43                1   \n",
       "3         CMT  2009-01-06 18:34:58   2009-01-06 18:43:57                1   \n",
       "4         VTS  2009-01-02 09:52:00   2009-01-02 10:02:00                1   \n",
       "\n",
       "   Trip_Distance  Start_Lon  Start_Lat  Rate_Code store_and_forward  \\\n",
       "0           0.60 -73.961570  40.768545        NaN               NaN   \n",
       "1          21.10 -73.914399  40.746171        NaN               NaN   \n",
       "2          10.70 -73.874395  40.774010        NaN               NaN   \n",
       "3           3.60 -73.957687  40.765477        NaN               NaN   \n",
       "4           2.02 -74.000105  40.761962        NaN               NaN   \n",
       "\n",
       "     End_Lon    End_Lat Payment_Type  Fare_Amt  surcharge  mta_tax  Tip_Amt  \\\n",
       "0 -73.963642  40.774218         Cash       4.9        0.0      NaN      0.0   \n",
       "1 -73.816812  40.703619         Cash      49.3        0.0      NaN      0.0   \n",
       "2 -73.981739  40.765671         Cash      25.8        0.0      NaN      0.0   \n",
       "3 -73.977345  40.729237       Credit      11.1        0.0      NaN      1.0   \n",
       "4 -73.971110  40.759072       Credit       7.7        0.0      NaN      2.0   \n",
       "\n",
       "   Tolls_Amt  Total_Amt  \n",
       "0       0.00       4.90  \n",
       "1       0.00      49.30  \n",
       "2       4.15      29.95  \n",
       "3       0.00      12.10  \n",
       "4       0.00       9.70  "
      ]
     },
     "execution_count": 6,
     "metadata": {},
     "output_type": "execute_result"
    }
   ],
   "source": [
    "yellowdf.head()"
   ]
  },
  {
   "cell_type": "code",
   "execution_count": 7,
   "id": "77b67c29",
   "metadata": {},
   "outputs": [],
   "source": [
    "yellowdf[\"Date\"] = yellowdf[\"Trip_Pickup_DateTime\"].astype(\"datetime64\")"
   ]
  },
  {
   "cell_type": "code",
   "execution_count": 8,
   "id": "51df5157",
   "metadata": {},
   "outputs": [
    {
     "data": {
      "text/html": [
       "<div>\n",
       "<style scoped>\n",
       "    .dataframe tbody tr th:only-of-type {\n",
       "        vertical-align: middle;\n",
       "    }\n",
       "\n",
       "    .dataframe tbody tr th {\n",
       "        vertical-align: top;\n",
       "    }\n",
       "\n",
       "    .dataframe thead th {\n",
       "        text-align: right;\n",
       "    }\n",
       "</style>\n",
       "<table border=\"1\" class=\"dataframe\">\n",
       "  <thead>\n",
       "    <tr style=\"text-align: right;\">\n",
       "      <th></th>\n",
       "      <th>vendor_name</th>\n",
       "      <th>Trip_Pickup_DateTime</th>\n",
       "      <th>Trip_Dropoff_DateTime</th>\n",
       "      <th>Passenger_Count</th>\n",
       "      <th>Trip_Distance</th>\n",
       "      <th>Start_Lon</th>\n",
       "      <th>Start_Lat</th>\n",
       "      <th>Rate_Code</th>\n",
       "      <th>store_and_forward</th>\n",
       "      <th>End_Lon</th>\n",
       "      <th>End_Lat</th>\n",
       "      <th>Payment_Type</th>\n",
       "      <th>Fare_Amt</th>\n",
       "      <th>surcharge</th>\n",
       "      <th>mta_tax</th>\n",
       "      <th>Tip_Amt</th>\n",
       "      <th>Tolls_Amt</th>\n",
       "      <th>Total_Amt</th>\n",
       "      <th>Date</th>\n",
       "    </tr>\n",
       "  </thead>\n",
       "  <tbody>\n",
       "    <tr>\n",
       "      <th>0</th>\n",
       "      <td>CMT</td>\n",
       "      <td>2009-01-13 07:54:28</td>\n",
       "      <td>2009-01-13 08:00:10</td>\n",
       "      <td>2</td>\n",
       "      <td>0.60</td>\n",
       "      <td>-73.961570</td>\n",
       "      <td>40.768545</td>\n",
       "      <td>NaN</td>\n",
       "      <td>NaN</td>\n",
       "      <td>-73.963642</td>\n",
       "      <td>40.774218</td>\n",
       "      <td>Cash</td>\n",
       "      <td>4.9</td>\n",
       "      <td>0.0</td>\n",
       "      <td>NaN</td>\n",
       "      <td>0.0</td>\n",
       "      <td>0.00</td>\n",
       "      <td>4.90</td>\n",
       "      <td>2009-01-13 07:54:28</td>\n",
       "    </tr>\n",
       "    <tr>\n",
       "      <th>1</th>\n",
       "      <td>CMT</td>\n",
       "      <td>2009-01-22 09:02:19</td>\n",
       "      <td>2009-01-22 09:45:48</td>\n",
       "      <td>1</td>\n",
       "      <td>21.10</td>\n",
       "      <td>-73.914399</td>\n",
       "      <td>40.746171</td>\n",
       "      <td>NaN</td>\n",
       "      <td>NaN</td>\n",
       "      <td>-73.816812</td>\n",
       "      <td>40.703619</td>\n",
       "      <td>Cash</td>\n",
       "      <td>49.3</td>\n",
       "      <td>0.0</td>\n",
       "      <td>NaN</td>\n",
       "      <td>0.0</td>\n",
       "      <td>0.00</td>\n",
       "      <td>49.30</td>\n",
       "      <td>2009-01-22 09:02:19</td>\n",
       "    </tr>\n",
       "    <tr>\n",
       "      <th>2</th>\n",
       "      <td>CMT</td>\n",
       "      <td>2009-01-23 23:52:45</td>\n",
       "      <td>2009-01-24 00:13:43</td>\n",
       "      <td>1</td>\n",
       "      <td>10.70</td>\n",
       "      <td>-73.874395</td>\n",
       "      <td>40.774010</td>\n",
       "      <td>NaN</td>\n",
       "      <td>NaN</td>\n",
       "      <td>-73.981739</td>\n",
       "      <td>40.765671</td>\n",
       "      <td>Cash</td>\n",
       "      <td>25.8</td>\n",
       "      <td>0.0</td>\n",
       "      <td>NaN</td>\n",
       "      <td>0.0</td>\n",
       "      <td>4.15</td>\n",
       "      <td>29.95</td>\n",
       "      <td>2009-01-23 23:52:45</td>\n",
       "    </tr>\n",
       "    <tr>\n",
       "      <th>3</th>\n",
       "      <td>CMT</td>\n",
       "      <td>2009-01-06 18:34:58</td>\n",
       "      <td>2009-01-06 18:43:57</td>\n",
       "      <td>1</td>\n",
       "      <td>3.60</td>\n",
       "      <td>-73.957687</td>\n",
       "      <td>40.765477</td>\n",
       "      <td>NaN</td>\n",
       "      <td>NaN</td>\n",
       "      <td>-73.977345</td>\n",
       "      <td>40.729237</td>\n",
       "      <td>Credit</td>\n",
       "      <td>11.1</td>\n",
       "      <td>0.0</td>\n",
       "      <td>NaN</td>\n",
       "      <td>1.0</td>\n",
       "      <td>0.00</td>\n",
       "      <td>12.10</td>\n",
       "      <td>2009-01-06 18:34:58</td>\n",
       "    </tr>\n",
       "    <tr>\n",
       "      <th>4</th>\n",
       "      <td>VTS</td>\n",
       "      <td>2009-01-02 09:52:00</td>\n",
       "      <td>2009-01-02 10:02:00</td>\n",
       "      <td>1</td>\n",
       "      <td>2.02</td>\n",
       "      <td>-74.000105</td>\n",
       "      <td>40.761962</td>\n",
       "      <td>NaN</td>\n",
       "      <td>NaN</td>\n",
       "      <td>-73.971110</td>\n",
       "      <td>40.759072</td>\n",
       "      <td>Credit</td>\n",
       "      <td>7.7</td>\n",
       "      <td>0.0</td>\n",
       "      <td>NaN</td>\n",
       "      <td>2.0</td>\n",
       "      <td>0.00</td>\n",
       "      <td>9.70</td>\n",
       "      <td>2009-01-02 09:52:00</td>\n",
       "    </tr>\n",
       "  </tbody>\n",
       "</table>\n",
       "</div>"
      ],
      "text/plain": [
       "  vendor_name Trip_Pickup_DateTime Trip_Dropoff_DateTime  Passenger_Count  \\\n",
       "0         CMT  2009-01-13 07:54:28   2009-01-13 08:00:10                2   \n",
       "1         CMT  2009-01-22 09:02:19   2009-01-22 09:45:48                1   \n",
       "2         CMT  2009-01-23 23:52:45   2009-01-24 00:13:43                1   \n",
       "3         CMT  2009-01-06 18:34:58   2009-01-06 18:43:57                1   \n",
       "4         VTS  2009-01-02 09:52:00   2009-01-02 10:02:00                1   \n",
       "\n",
       "   Trip_Distance  Start_Lon  Start_Lat  Rate_Code store_and_forward  \\\n",
       "0           0.60 -73.961570  40.768545        NaN               NaN   \n",
       "1          21.10 -73.914399  40.746171        NaN               NaN   \n",
       "2          10.70 -73.874395  40.774010        NaN               NaN   \n",
       "3           3.60 -73.957687  40.765477        NaN               NaN   \n",
       "4           2.02 -74.000105  40.761962        NaN               NaN   \n",
       "\n",
       "     End_Lon    End_Lat Payment_Type  Fare_Amt  surcharge  mta_tax  Tip_Amt  \\\n",
       "0 -73.963642  40.774218         Cash       4.9        0.0      NaN      0.0   \n",
       "1 -73.816812  40.703619         Cash      49.3        0.0      NaN      0.0   \n",
       "2 -73.981739  40.765671         Cash      25.8        0.0      NaN      0.0   \n",
       "3 -73.977345  40.729237       Credit      11.1        0.0      NaN      1.0   \n",
       "4 -73.971110  40.759072       Credit       7.7        0.0      NaN      2.0   \n",
       "\n",
       "   Tolls_Amt  Total_Amt                Date  \n",
       "0       0.00       4.90 2009-01-13 07:54:28  \n",
       "1       0.00      49.30 2009-01-22 09:02:19  \n",
       "2       4.15      29.95 2009-01-23 23:52:45  \n",
       "3       0.00      12.10 2009-01-06 18:34:58  \n",
       "4       0.00       9.70 2009-01-02 09:52:00  "
      ]
     },
     "execution_count": 8,
     "metadata": {},
     "output_type": "execute_result"
    }
   ],
   "source": [
    "yellowdf.head()"
   ]
  },
  {
   "cell_type": "code",
   "execution_count": 9,
   "id": "7126ea22",
   "metadata": {},
   "outputs": [],
   "source": [
    "yellowdf[\"Distance\"]=yellowdf.apply(distance,axis=1)"
   ]
  },
  {
   "cell_type": "code",
   "execution_count": 10,
   "id": "26f9106a",
   "metadata": {
    "scrolled": true
   },
   "outputs": [
    {
     "data": {
      "text/plain": [
       "vendor_name                      object\n",
       "Trip_Pickup_DateTime             object\n",
       "Trip_Dropoff_DateTime            object\n",
       "Passenger_Count                   int64\n",
       "Trip_Distance                   float64\n",
       "Start_Lon                       float64\n",
       "Start_Lat                       float64\n",
       "Rate_Code                       float64\n",
       "store_and_forward                object\n",
       "End_Lon                         float64\n",
       "End_Lat                         float64\n",
       "Payment_Type                     object\n",
       "Fare_Amt                        float64\n",
       "surcharge                       float64\n",
       "mta_tax                         float64\n",
       "Tip_Amt                         float64\n",
       "Tolls_Amt                       float64\n",
       "Total_Amt                       float64\n",
       "Date                     datetime64[ns]\n",
       "Distance                        float64\n",
       "dtype: object"
      ]
     },
     "execution_count": 10,
     "metadata": {},
     "output_type": "execute_result"
    }
   ],
   "source": [
    "yellowdf.dtypes"
   ]
  },
  {
   "cell_type": "code",
   "execution_count": 11,
   "id": "ef63767f",
   "metadata": {},
   "outputs": [
    {
     "data": {
      "text/html": [
       "<div>\n",
       "<style scoped>\n",
       "    .dataframe tbody tr th:only-of-type {\n",
       "        vertical-align: middle;\n",
       "    }\n",
       "\n",
       "    .dataframe tbody tr th {\n",
       "        vertical-align: top;\n",
       "    }\n",
       "\n",
       "    .dataframe thead th {\n",
       "        text-align: right;\n",
       "    }\n",
       "</style>\n",
       "<table border=\"1\" class=\"dataframe\">\n",
       "  <thead>\n",
       "    <tr style=\"text-align: right;\">\n",
       "      <th></th>\n",
       "      <th>Trip_Pickup_DateTime</th>\n",
       "      <th>Start_Lon</th>\n",
       "      <th>Start_Lat</th>\n",
       "      <th>End_Lon</th>\n",
       "      <th>End_Lat</th>\n",
       "      <th>Tip_Amt</th>\n",
       "      <th>Total_Amt</th>\n",
       "      <th>Date</th>\n",
       "      <th>Distance</th>\n",
       "    </tr>\n",
       "  </thead>\n",
       "  <tbody>\n",
       "    <tr>\n",
       "      <th>0</th>\n",
       "      <td>2009-01-13 07:54:28</td>\n",
       "      <td>-73.961570</td>\n",
       "      <td>40.768545</td>\n",
       "      <td>-73.963642</td>\n",
       "      <td>40.774218</td>\n",
       "      <td>0.0</td>\n",
       "      <td>4.90</td>\n",
       "      <td>2009-01-13 07:54:28</td>\n",
       "      <td>0.654495</td>\n",
       "    </tr>\n",
       "    <tr>\n",
       "      <th>1</th>\n",
       "      <td>2009-01-22 09:02:19</td>\n",
       "      <td>-73.914399</td>\n",
       "      <td>40.746171</td>\n",
       "      <td>-73.816812</td>\n",
       "      <td>40.703619</td>\n",
       "      <td>0.0</td>\n",
       "      <td>49.30</td>\n",
       "      <td>2009-01-22 09:02:19</td>\n",
       "      <td>9.487619</td>\n",
       "    </tr>\n",
       "    <tr>\n",
       "      <th>2</th>\n",
       "      <td>2009-01-23 23:52:45</td>\n",
       "      <td>-73.874395</td>\n",
       "      <td>40.774010</td>\n",
       "      <td>-73.981739</td>\n",
       "      <td>40.765671</td>\n",
       "      <td>0.0</td>\n",
       "      <td>29.95</td>\n",
       "      <td>2009-01-23 23:52:45</td>\n",
       "      <td>9.087111</td>\n",
       "    </tr>\n",
       "    <tr>\n",
       "      <th>3</th>\n",
       "      <td>2009-01-06 18:34:58</td>\n",
       "      <td>-73.957687</td>\n",
       "      <td>40.765477</td>\n",
       "      <td>-73.977345</td>\n",
       "      <td>40.729237</td>\n",
       "      <td>1.0</td>\n",
       "      <td>12.10</td>\n",
       "      <td>2009-01-06 18:34:58</td>\n",
       "      <td>4.356703</td>\n",
       "    </tr>\n",
       "    <tr>\n",
       "      <th>4</th>\n",
       "      <td>2009-01-02 09:52:00</td>\n",
       "      <td>-74.000105</td>\n",
       "      <td>40.761962</td>\n",
       "      <td>-73.971110</td>\n",
       "      <td>40.759072</td>\n",
       "      <td>2.0</td>\n",
       "      <td>9.70</td>\n",
       "      <td>2009-01-02 09:52:00</td>\n",
       "      <td>2.463129</td>\n",
       "    </tr>\n",
       "  </tbody>\n",
       "</table>\n",
       "</div>"
      ],
      "text/plain": [
       "  Trip_Pickup_DateTime  Start_Lon  Start_Lat    End_Lon    End_Lat  Tip_Amt  \\\n",
       "0  2009-01-13 07:54:28 -73.961570  40.768545 -73.963642  40.774218      0.0   \n",
       "1  2009-01-22 09:02:19 -73.914399  40.746171 -73.816812  40.703619      0.0   \n",
       "2  2009-01-23 23:52:45 -73.874395  40.774010 -73.981739  40.765671      0.0   \n",
       "3  2009-01-06 18:34:58 -73.957687  40.765477 -73.977345  40.729237      1.0   \n",
       "4  2009-01-02 09:52:00 -74.000105  40.761962 -73.971110  40.759072      2.0   \n",
       "\n",
       "   Total_Amt                Date  Distance  \n",
       "0       4.90 2009-01-13 07:54:28  0.654495  \n",
       "1      49.30 2009-01-22 09:02:19  9.487619  \n",
       "2      29.95 2009-01-23 23:52:45  9.087111  \n",
       "3      12.10 2009-01-06 18:34:58  4.356703  \n",
       "4       9.70 2009-01-02 09:52:00  2.463129  "
      ]
     },
     "execution_count": 11,
     "metadata": {},
     "output_type": "execute_result"
    }
   ],
   "source": [
    "yellowdf.drop(columns=[\"vendor_name\",\"Passenger_Count\",\"Rate_Code\",\"store_and_forward\",\"Payment_Type\",\"Fare_Amt\",\"surcharge\",\"mta_tax\",\"Tolls_Amt\",\"Trip_Dropoff_DateTime\",\"Trip_Distance\"],errors=\"ignore\",inplace=True)\n",
    "yellowdf.head()"
   ]
  },
  {
   "cell_type": "code",
   "execution_count": null,
   "id": "1605c44b",
   "metadata": {},
   "outputs": [],
   "source": []
  },
  {
   "cell_type": "markdown",
   "id": "3d304a31",
   "metadata": {},
   "source": [
    "## Removing Rows with very high distance and 0 distance (outliers)"
   ]
  },
  {
   "cell_type": "code",
   "execution_count": 12,
   "id": "cfcaeda3",
   "metadata": {},
   "outputs": [
    {
     "name": "stdout",
     "output_type": "stream",
     "text": [
      "20.438946381021086\n",
      "234000\n"
     ]
    }
   ],
   "source": [
    "print(yellowdf[\"Distance\"].mean())\n",
    "print(len(yellowdf))"
   ]
  },
  {
   "cell_type": "code",
   "execution_count": 13,
   "id": "d482bdd1",
   "metadata": {},
   "outputs": [],
   "source": [
    "yellowdf = yellowdf[yellowdf['Distance'] <= 50]\n",
    "yellowdf = yellowdf[yellowdf['Distance'] != 0]"
   ]
  },
  {
   "cell_type": "code",
   "execution_count": 14,
   "id": "d8217ae5",
   "metadata": {},
   "outputs": [],
   "source": [
    "#removing trips with 0 longitude or 0 longitude\n",
    "\n",
    "yellowdf = yellowdf[yellowdf['Start_Lon'] != 0]\n",
    "yellowdf = yellowdf[yellowdf['Start_Lat'] != 0]\n",
    "yellowdf = yellowdf[yellowdf['End_Lon'] != 0]\n",
    "yellowdf = yellowdf[yellowdf['End_Lat'] != 0]\n",
    "\n",
    "#removing trips with 0 total amount\n",
    "\n",
    "yellowdf = yellowdf[yellowdf['Total_Amt'] != 0]"
   ]
  },
  {
   "cell_type": "markdown",
   "id": "11eec1c6",
   "metadata": {},
   "source": [
    "* Removing trips outside latitude/longitude box"
   ]
  },
  {
   "cell_type": "code",
   "execution_count": 15,
   "id": "278e1a1a",
   "metadata": {},
   "outputs": [],
   "source": [
    "yellowdf=outside(yellowdf)"
   ]
  },
  {
   "cell_type": "code",
   "execution_count": null,
   "id": "18d89006",
   "metadata": {},
   "outputs": [],
   "source": []
  },
  {
   "cell_type": "code",
   "execution_count": 16,
   "id": "702c43f1",
   "metadata": {},
   "outputs": [
    {
     "name": "stdout",
     "output_type": "stream",
     "text": [
      "3.344135578783831\n",
      "226373\n"
     ]
    }
   ],
   "source": [
    "print(yellowdf[\"Distance\"].mean())\n",
    "print(len(yellowdf))"
   ]
  },
  {
   "cell_type": "code",
   "execution_count": 17,
   "id": "e8d3a98c",
   "metadata": {},
   "outputs": [],
   "source": [
    "yellowdf=yellowdf.assign(Date=yellowdf.Date.dt.round('H'))"
   ]
  },
  {
   "cell_type": "markdown",
   "id": "6889beb5",
   "metadata": {},
   "source": [
    "# Importing Uber Data"
   ]
  },
  {
   "cell_type": "code",
   "execution_count": 18,
   "id": "e35a9136",
   "metadata": {},
   "outputs": [],
   "source": [
    "uberdf=pd.read_csv(\"uber_rides_sample.csv\")"
   ]
  },
  {
   "cell_type": "code",
   "execution_count": 19,
   "id": "678723f0",
   "metadata": {},
   "outputs": [
    {
     "data": {
      "text/html": [
       "<div>\n",
       "<style scoped>\n",
       "    .dataframe tbody tr th:only-of-type {\n",
       "        vertical-align: middle;\n",
       "    }\n",
       "\n",
       "    .dataframe tbody tr th {\n",
       "        vertical-align: top;\n",
       "    }\n",
       "\n",
       "    .dataframe thead th {\n",
       "        text-align: right;\n",
       "    }\n",
       "</style>\n",
       "<table border=\"1\" class=\"dataframe\">\n",
       "  <thead>\n",
       "    <tr style=\"text-align: right;\">\n",
       "      <th></th>\n",
       "      <th>Unnamed: 0</th>\n",
       "      <th>key</th>\n",
       "      <th>fare_amount</th>\n",
       "      <th>pickup_datetime</th>\n",
       "      <th>pickup_longitude</th>\n",
       "      <th>pickup_latitude</th>\n",
       "      <th>dropoff_longitude</th>\n",
       "      <th>dropoff_latitude</th>\n",
       "      <th>passenger_count</th>\n",
       "    </tr>\n",
       "  </thead>\n",
       "  <tbody>\n",
       "    <tr>\n",
       "      <th>0</th>\n",
       "      <td>24238194</td>\n",
       "      <td>2015-05-07 19:52:06.0000003</td>\n",
       "      <td>7.5</td>\n",
       "      <td>2015-05-07 19:52:06 UTC</td>\n",
       "      <td>-73.999817</td>\n",
       "      <td>40.738354</td>\n",
       "      <td>-73.999512</td>\n",
       "      <td>40.723217</td>\n",
       "      <td>1</td>\n",
       "    </tr>\n",
       "    <tr>\n",
       "      <th>1</th>\n",
       "      <td>27835199</td>\n",
       "      <td>2009-07-17 20:04:56.0000002</td>\n",
       "      <td>7.7</td>\n",
       "      <td>2009-07-17 20:04:56 UTC</td>\n",
       "      <td>-73.994355</td>\n",
       "      <td>40.728225</td>\n",
       "      <td>-73.994710</td>\n",
       "      <td>40.750325</td>\n",
       "      <td>1</td>\n",
       "    </tr>\n",
       "    <tr>\n",
       "      <th>2</th>\n",
       "      <td>44984355</td>\n",
       "      <td>2009-08-24 21:45:00.00000061</td>\n",
       "      <td>12.9</td>\n",
       "      <td>2009-08-24 21:45:00 UTC</td>\n",
       "      <td>-74.005043</td>\n",
       "      <td>40.740770</td>\n",
       "      <td>-73.962565</td>\n",
       "      <td>40.772647</td>\n",
       "      <td>1</td>\n",
       "    </tr>\n",
       "    <tr>\n",
       "      <th>3</th>\n",
       "      <td>25894730</td>\n",
       "      <td>2009-06-26 08:22:21.0000001</td>\n",
       "      <td>5.3</td>\n",
       "      <td>2009-06-26 08:22:21 UTC</td>\n",
       "      <td>-73.976124</td>\n",
       "      <td>40.790844</td>\n",
       "      <td>-73.965316</td>\n",
       "      <td>40.803349</td>\n",
       "      <td>3</td>\n",
       "    </tr>\n",
       "    <tr>\n",
       "      <th>4</th>\n",
       "      <td>17610152</td>\n",
       "      <td>2014-08-28 17:47:00.000000188</td>\n",
       "      <td>16.0</td>\n",
       "      <td>2014-08-28 17:47:00 UTC</td>\n",
       "      <td>-73.925023</td>\n",
       "      <td>40.744085</td>\n",
       "      <td>-73.973082</td>\n",
       "      <td>40.761247</td>\n",
       "      <td>5</td>\n",
       "    </tr>\n",
       "  </tbody>\n",
       "</table>\n",
       "</div>"
      ],
      "text/plain": [
       "   Unnamed: 0                            key  fare_amount  \\\n",
       "0    24238194    2015-05-07 19:52:06.0000003          7.5   \n",
       "1    27835199    2009-07-17 20:04:56.0000002          7.7   \n",
       "2    44984355   2009-08-24 21:45:00.00000061         12.9   \n",
       "3    25894730    2009-06-26 08:22:21.0000001          5.3   \n",
       "4    17610152  2014-08-28 17:47:00.000000188         16.0   \n",
       "\n",
       "           pickup_datetime  pickup_longitude  pickup_latitude  \\\n",
       "0  2015-05-07 19:52:06 UTC        -73.999817        40.738354   \n",
       "1  2009-07-17 20:04:56 UTC        -73.994355        40.728225   \n",
       "2  2009-08-24 21:45:00 UTC        -74.005043        40.740770   \n",
       "3  2009-06-26 08:22:21 UTC        -73.976124        40.790844   \n",
       "4  2014-08-28 17:47:00 UTC        -73.925023        40.744085   \n",
       "\n",
       "   dropoff_longitude  dropoff_latitude  passenger_count  \n",
       "0         -73.999512         40.723217                1  \n",
       "1         -73.994710         40.750325                1  \n",
       "2         -73.962565         40.772647                1  \n",
       "3         -73.965316         40.803349                3  \n",
       "4         -73.973082         40.761247                5  "
      ]
     },
     "execution_count": 19,
     "metadata": {},
     "output_type": "execute_result"
    }
   ],
   "source": [
    "uberdf.head()"
   ]
  },
  {
   "cell_type": "code",
   "execution_count": 20,
   "id": "82f12bf6",
   "metadata": {
    "scrolled": true
   },
   "outputs": [
    {
     "data": {
      "text/html": [
       "<div>\n",
       "<style scoped>\n",
       "    .dataframe tbody tr th:only-of-type {\n",
       "        vertical-align: middle;\n",
       "    }\n",
       "\n",
       "    .dataframe tbody tr th {\n",
       "        vertical-align: top;\n",
       "    }\n",
       "\n",
       "    .dataframe thead th {\n",
       "        text-align: right;\n",
       "    }\n",
       "</style>\n",
       "<table border=\"1\" class=\"dataframe\">\n",
       "  <thead>\n",
       "    <tr style=\"text-align: right;\">\n",
       "      <th></th>\n",
       "      <th>fare_amount</th>\n",
       "      <th>pickup_datetime</th>\n",
       "      <th>pickup_longitude</th>\n",
       "      <th>pickup_latitude</th>\n",
       "      <th>dropoff_longitude</th>\n",
       "      <th>dropoff_latitude</th>\n",
       "    </tr>\n",
       "  </thead>\n",
       "  <tbody>\n",
       "    <tr>\n",
       "      <th>0</th>\n",
       "      <td>7.5</td>\n",
       "      <td>2015-05-07 19:52:06 UTC</td>\n",
       "      <td>-73.999817</td>\n",
       "      <td>40.738354</td>\n",
       "      <td>-73.999512</td>\n",
       "      <td>40.723217</td>\n",
       "    </tr>\n",
       "    <tr>\n",
       "      <th>1</th>\n",
       "      <td>7.7</td>\n",
       "      <td>2009-07-17 20:04:56 UTC</td>\n",
       "      <td>-73.994355</td>\n",
       "      <td>40.728225</td>\n",
       "      <td>-73.994710</td>\n",
       "      <td>40.750325</td>\n",
       "    </tr>\n",
       "    <tr>\n",
       "      <th>2</th>\n",
       "      <td>12.9</td>\n",
       "      <td>2009-08-24 21:45:00 UTC</td>\n",
       "      <td>-74.005043</td>\n",
       "      <td>40.740770</td>\n",
       "      <td>-73.962565</td>\n",
       "      <td>40.772647</td>\n",
       "    </tr>\n",
       "    <tr>\n",
       "      <th>3</th>\n",
       "      <td>5.3</td>\n",
       "      <td>2009-06-26 08:22:21 UTC</td>\n",
       "      <td>-73.976124</td>\n",
       "      <td>40.790844</td>\n",
       "      <td>-73.965316</td>\n",
       "      <td>40.803349</td>\n",
       "    </tr>\n",
       "    <tr>\n",
       "      <th>4</th>\n",
       "      <td>16.0</td>\n",
       "      <td>2014-08-28 17:47:00 UTC</td>\n",
       "      <td>-73.925023</td>\n",
       "      <td>40.744085</td>\n",
       "      <td>-73.973082</td>\n",
       "      <td>40.761247</td>\n",
       "    </tr>\n",
       "  </tbody>\n",
       "</table>\n",
       "</div>"
      ],
      "text/plain": [
       "   fare_amount          pickup_datetime  pickup_longitude  pickup_latitude  \\\n",
       "0          7.5  2015-05-07 19:52:06 UTC        -73.999817        40.738354   \n",
       "1          7.7  2009-07-17 20:04:56 UTC        -73.994355        40.728225   \n",
       "2         12.9  2009-08-24 21:45:00 UTC        -74.005043        40.740770   \n",
       "3          5.3  2009-06-26 08:22:21 UTC        -73.976124        40.790844   \n",
       "4         16.0  2014-08-28 17:47:00 UTC        -73.925023        40.744085   \n",
       "\n",
       "   dropoff_longitude  dropoff_latitude  \n",
       "0         -73.999512         40.723217  \n",
       "1         -73.994710         40.750325  \n",
       "2         -73.962565         40.772647  \n",
       "3         -73.965316         40.803349  \n",
       "4         -73.973082         40.761247  "
      ]
     },
     "execution_count": 20,
     "metadata": {},
     "output_type": "execute_result"
    }
   ],
   "source": [
    "uberdf=uberdf.drop(columns=[\"Unnamed: 0\",\"passenger_count\",\"key\"],errors=\"ignore\")\n",
    "uberdf.head()"
   ]
  },
  {
   "cell_type": "code",
   "execution_count": 21,
   "id": "979a36b5",
   "metadata": {},
   "outputs": [
    {
     "data": {
      "text/html": [
       "<div>\n",
       "<style scoped>\n",
       "    .dataframe tbody tr th:only-of-type {\n",
       "        vertical-align: middle;\n",
       "    }\n",
       "\n",
       "    .dataframe tbody tr th {\n",
       "        vertical-align: top;\n",
       "    }\n",
       "\n",
       "    .dataframe thead th {\n",
       "        text-align: right;\n",
       "    }\n",
       "</style>\n",
       "<table border=\"1\" class=\"dataframe\">\n",
       "  <thead>\n",
       "    <tr style=\"text-align: right;\">\n",
       "      <th></th>\n",
       "      <th>Total_Amt</th>\n",
       "      <th>Trip_Pickup_DateTime</th>\n",
       "      <th>Start_Lon</th>\n",
       "      <th>Start_Lat</th>\n",
       "      <th>End_Lon</th>\n",
       "      <th>End_Lat</th>\n",
       "    </tr>\n",
       "  </thead>\n",
       "  <tbody>\n",
       "    <tr>\n",
       "      <th>0</th>\n",
       "      <td>7.5</td>\n",
       "      <td>2015-05-07 19:52:06 UTC</td>\n",
       "      <td>-73.999817</td>\n",
       "      <td>40.738354</td>\n",
       "      <td>-73.999512</td>\n",
       "      <td>40.723217</td>\n",
       "    </tr>\n",
       "    <tr>\n",
       "      <th>1</th>\n",
       "      <td>7.7</td>\n",
       "      <td>2009-07-17 20:04:56 UTC</td>\n",
       "      <td>-73.994355</td>\n",
       "      <td>40.728225</td>\n",
       "      <td>-73.994710</td>\n",
       "      <td>40.750325</td>\n",
       "    </tr>\n",
       "    <tr>\n",
       "      <th>2</th>\n",
       "      <td>12.9</td>\n",
       "      <td>2009-08-24 21:45:00 UTC</td>\n",
       "      <td>-74.005043</td>\n",
       "      <td>40.740770</td>\n",
       "      <td>-73.962565</td>\n",
       "      <td>40.772647</td>\n",
       "    </tr>\n",
       "    <tr>\n",
       "      <th>3</th>\n",
       "      <td>5.3</td>\n",
       "      <td>2009-06-26 08:22:21 UTC</td>\n",
       "      <td>-73.976124</td>\n",
       "      <td>40.790844</td>\n",
       "      <td>-73.965316</td>\n",
       "      <td>40.803349</td>\n",
       "    </tr>\n",
       "    <tr>\n",
       "      <th>4</th>\n",
       "      <td>16.0</td>\n",
       "      <td>2014-08-28 17:47:00 UTC</td>\n",
       "      <td>-73.925023</td>\n",
       "      <td>40.744085</td>\n",
       "      <td>-73.973082</td>\n",
       "      <td>40.761247</td>\n",
       "    </tr>\n",
       "  </tbody>\n",
       "</table>\n",
       "</div>"
      ],
      "text/plain": [
       "   Total_Amt     Trip_Pickup_DateTime  Start_Lon  Start_Lat    End_Lon  \\\n",
       "0        7.5  2015-05-07 19:52:06 UTC -73.999817  40.738354 -73.999512   \n",
       "1        7.7  2009-07-17 20:04:56 UTC -73.994355  40.728225 -73.994710   \n",
       "2       12.9  2009-08-24 21:45:00 UTC -74.005043  40.740770 -73.962565   \n",
       "3        5.3  2009-06-26 08:22:21 UTC -73.976124  40.790844 -73.965316   \n",
       "4       16.0  2014-08-28 17:47:00 UTC -73.925023  40.744085 -73.973082   \n",
       "\n",
       "     End_Lat  \n",
       "0  40.723217  \n",
       "1  40.750325  \n",
       "2  40.772647  \n",
       "3  40.803349  \n",
       "4  40.761247  "
      ]
     },
     "execution_count": 21,
     "metadata": {},
     "output_type": "execute_result"
    }
   ],
   "source": [
    "uberdf.rename(columns = {'pickup_latitude' : 'Start_Lat', \n",
    "                         'pickup_longitude' : 'Start_Lon', \n",
    "                         'dropoff_latitude' : 'End_Lat' ,\n",
    "                         'dropoff_longitude' : 'End_Lon' , \n",
    "                         'fare_amount' : 'Total_Amt',\n",
    "                         'pickup_datetime' : 'Trip_Pickup_DateTime'}, \n",
    "              inplace = True,errors=\"ignore\")\n",
    "uberdf.head()"
   ]
  },
  {
   "cell_type": "code",
   "execution_count": 22,
   "id": "e6d283d7",
   "metadata": {
    "scrolled": true
   },
   "outputs": [],
   "source": [
    "uberdf[\"Date\"] = uberdf[\"Trip_Pickup_DateTime\"].astype(\"datetime64\")"
   ]
  },
  {
   "cell_type": "code",
   "execution_count": 23,
   "id": "9c4ad9a2",
   "metadata": {},
   "outputs": [],
   "source": [
    "uberdf[\"Distance\"]=uberdf.apply(distance,axis=1)"
   ]
  },
  {
   "cell_type": "code",
   "execution_count": 24,
   "id": "150c7934",
   "metadata": {},
   "outputs": [
    {
     "data": {
      "text/html": [
       "<div>\n",
       "<style scoped>\n",
       "    .dataframe tbody tr th:only-of-type {\n",
       "        vertical-align: middle;\n",
       "    }\n",
       "\n",
       "    .dataframe tbody tr th {\n",
       "        vertical-align: top;\n",
       "    }\n",
       "\n",
       "    .dataframe thead th {\n",
       "        text-align: right;\n",
       "    }\n",
       "</style>\n",
       "<table border=\"1\" class=\"dataframe\">\n",
       "  <thead>\n",
       "    <tr style=\"text-align: right;\">\n",
       "      <th></th>\n",
       "      <th>Total_Amt</th>\n",
       "      <th>Trip_Pickup_DateTime</th>\n",
       "      <th>Start_Lon</th>\n",
       "      <th>Start_Lat</th>\n",
       "      <th>End_Lon</th>\n",
       "      <th>End_Lat</th>\n",
       "      <th>Date</th>\n",
       "      <th>Distance</th>\n",
       "    </tr>\n",
       "  </thead>\n",
       "  <tbody>\n",
       "    <tr>\n",
       "      <th>0</th>\n",
       "      <td>7.5</td>\n",
       "      <td>2015-05-07 19:52:06 UTC</td>\n",
       "      <td>-73.999817</td>\n",
       "      <td>40.738354</td>\n",
       "      <td>-73.999512</td>\n",
       "      <td>40.723217</td>\n",
       "      <td>2015-05-07 19:52:06</td>\n",
       "      <td>1.683323</td>\n",
       "    </tr>\n",
       "    <tr>\n",
       "      <th>1</th>\n",
       "      <td>7.7</td>\n",
       "      <td>2009-07-17 20:04:56 UTC</td>\n",
       "      <td>-73.994355</td>\n",
       "      <td>40.728225</td>\n",
       "      <td>-73.994710</td>\n",
       "      <td>40.750325</td>\n",
       "      <td>2009-07-17 20:04:56</td>\n",
       "      <td>2.457590</td>\n",
       "    </tr>\n",
       "    <tr>\n",
       "      <th>2</th>\n",
       "      <td>12.9</td>\n",
       "      <td>2009-08-24 21:45:00 UTC</td>\n",
       "      <td>-74.005043</td>\n",
       "      <td>40.740770</td>\n",
       "      <td>-73.962565</td>\n",
       "      <td>40.772647</td>\n",
       "      <td>2009-08-24 21:45:00</td>\n",
       "      <td>5.036377</td>\n",
       "    </tr>\n",
       "    <tr>\n",
       "      <th>3</th>\n",
       "      <td>5.3</td>\n",
       "      <td>2009-06-26 08:22:21 UTC</td>\n",
       "      <td>-73.976124</td>\n",
       "      <td>40.790844</td>\n",
       "      <td>-73.965316</td>\n",
       "      <td>40.803349</td>\n",
       "      <td>2009-06-26 08:22:21</td>\n",
       "      <td>1.661683</td>\n",
       "    </tr>\n",
       "    <tr>\n",
       "      <th>4</th>\n",
       "      <td>16.0</td>\n",
       "      <td>2014-08-28 17:47:00 UTC</td>\n",
       "      <td>-73.925023</td>\n",
       "      <td>40.744085</td>\n",
       "      <td>-73.973082</td>\n",
       "      <td>40.761247</td>\n",
       "      <td>2014-08-28 17:47:00</td>\n",
       "      <td>4.475450</td>\n",
       "    </tr>\n",
       "  </tbody>\n",
       "</table>\n",
       "</div>"
      ],
      "text/plain": [
       "   Total_Amt     Trip_Pickup_DateTime  Start_Lon  Start_Lat    End_Lon  \\\n",
       "0        7.5  2015-05-07 19:52:06 UTC -73.999817  40.738354 -73.999512   \n",
       "1        7.7  2009-07-17 20:04:56 UTC -73.994355  40.728225 -73.994710   \n",
       "2       12.9  2009-08-24 21:45:00 UTC -74.005043  40.740770 -73.962565   \n",
       "3        5.3  2009-06-26 08:22:21 UTC -73.976124  40.790844 -73.965316   \n",
       "4       16.0  2014-08-28 17:47:00 UTC -73.925023  40.744085 -73.973082   \n",
       "\n",
       "     End_Lat                Date  Distance  \n",
       "0  40.723217 2015-05-07 19:52:06  1.683323  \n",
       "1  40.750325 2009-07-17 20:04:56  2.457590  \n",
       "2  40.772647 2009-08-24 21:45:00  5.036377  \n",
       "3  40.803349 2009-06-26 08:22:21  1.661683  \n",
       "4  40.761247 2014-08-28 17:47:00  4.475450  "
      ]
     },
     "execution_count": 24,
     "metadata": {},
     "output_type": "execute_result"
    }
   ],
   "source": [
    "uberdf.head()"
   ]
  },
  {
   "cell_type": "code",
   "execution_count": 25,
   "id": "6561467c",
   "metadata": {
    "scrolled": true
   },
   "outputs": [
    {
     "data": {
      "text/plain": [
       "<AxesSubplot:xlabel='Date'>"
      ]
     },
     "execution_count": 25,
     "metadata": {},
     "output_type": "execute_result"
    },
    {
     "data": {
      "image/png": "[encoded data removed]",
      "text/plain": [
       "<Figure size 432x288 with 1 Axes>"
      ]
     },
     "metadata": {
      "needs_background": "light"
     },
     "output_type": "display_data"
    }
   ],
   "source": [
    "uberdf[\"Distance\"].groupby(uberdf[\"Date\"].dt.weekday).count().plot(kind=\"bar\")"
   ]
  },
  {
   "cell_type": "code",
   "execution_count": null,
   "id": "0ff0b10e",
   "metadata": {},
   "outputs": [],
   "source": []
  },
  {
   "cell_type": "markdown",
   "id": "63a7fbbc",
   "metadata": {},
   "source": [
    "## Removing Rows with very high distance and 0 distance (outliers)"
   ]
  },
  {
   "cell_type": "raw",
   "id": "d75ce492",
   "metadata": {},
   "source": []
  },
  {
   "cell_type": "code",
   "execution_count": 26,
   "id": "a6463ef4",
   "metadata": {},
   "outputs": [
    {
     "name": "stdout",
     "output_type": "stream",
     "text": [
      "20.855349825361202\n",
      "200000\n"
     ]
    }
   ],
   "source": [
    "print(uberdf[\"Distance\"].mean())\n",
    "print(len(uberdf))"
   ]
  },
  {
   "cell_type": "code",
   "execution_count": 27,
   "id": "5cad3d26",
   "metadata": {},
   "outputs": [],
   "source": [
    "uberdf = uberdf[uberdf['Distance'] <= 50]\n",
    "uberdf = uberdf[uberdf['Distance'] != 0]"
   ]
  },
  {
   "cell_type": "code",
   "execution_count": 28,
   "id": "4a0ab715",
   "metadata": {},
   "outputs": [],
   "source": [
    "#removing trips with 0 longitude or 0 longitude\n",
    "\n",
    "uberdf = uberdf[uberdf['Start_Lon'] != 0]\n",
    "uberdf = uberdf[uberdf['Start_Lat'] != 0]\n",
    "uberdf = uberdf[uberdf['End_Lon'] != 0]\n",
    "uberdf = uberdf[uberdf['End_Lat'] != 0]\n",
    "\n",
    "#removing trips with 0 total amount\n",
    "\n",
    "uberdf = uberdf[uberdf['Total_Amt'] != 0]"
   ]
  },
  {
   "cell_type": "markdown",
   "id": "ba9e32ef",
   "metadata": {},
   "source": [
    "* Removing trips outside latitude/longitude box"
   ]
  },
  {
   "cell_type": "code",
   "execution_count": 29,
   "id": "7e9cad3f",
   "metadata": {},
   "outputs": [],
   "source": [
    "uberdf=outside(uberdf)"
   ]
  },
  {
   "cell_type": "code",
   "execution_count": null,
   "id": "7672cc5c",
   "metadata": {},
   "outputs": [],
   "source": []
  },
  {
   "cell_type": "code",
   "execution_count": 30,
   "id": "97eac869",
   "metadata": {},
   "outputs": [
    {
     "name": "stdout",
     "output_type": "stream",
     "text": [
      "3.33772817297078\n",
      "193512\n"
     ]
    }
   ],
   "source": [
    "print(uberdf[\"Distance\"].mean())\n",
    "print(len(uberdf))"
   ]
  },
  {
   "cell_type": "code",
   "execution_count": 31,
   "id": "3a6df653",
   "metadata": {},
   "outputs": [],
   "source": [
    "uberdf=uberdf.assign(Date=uberdf.Date.dt.round('H'))"
   ]
  },
  {
   "cell_type": "markdown",
   "id": "882fcef2",
   "metadata": {},
   "source": [
    "# Creating dataframe combining yellow taxi and uber data"
   ]
  },
  {
   "cell_type": "code",
   "execution_count": 32,
   "id": "24f5c0eb",
   "metadata": {},
   "outputs": [],
   "source": [
    "#Adding a column 'Type' to identify whether Taxi was Uber or Yellow\n",
    "\n",
    "uberdf_flag=uberdf\n",
    "uberdf_flag[\"Type\"]=\"Uber\"\n",
    "\n",
    "yellowdf_flag=yellowdf\n",
    "yellowdf_flag[\"Type\"]=\"Yellow\"\n",
    "\n",
    "\n",
    "df_list = [uberdf_flag[['Total_Amt', 'Trip_Pickup_DateTime', 'Start_Lon', 'Start_Lat',\n",
    "       'End_Lon', 'End_Lat', 'Date', 'Distance','Type']],yellowdf_flag[['Total_Amt', 'Trip_Pickup_DateTime', 'Start_Lon', 'Start_Lat',\n",
    "       'End_Lon', 'End_Lat', 'Date', 'Distance','Type']]]\n",
    "tdf=pd.concat(df_list, ignore_index=True)"
   ]
  },
  {
   "cell_type": "code",
   "execution_count": 33,
   "id": "7efab17c",
   "metadata": {},
   "outputs": [],
   "source": [
    "tdf=tdf.assign(Date=tdf.Date.dt.round('H'))"
   ]
  },
  {
   "cell_type": "code",
   "execution_count": 34,
   "id": "06091717",
   "metadata": {},
   "outputs": [
    {
     "data": {
      "text/html": [
       "<div>\n",
       "<style scoped>\n",
       "    .dataframe tbody tr th:only-of-type {\n",
       "        vertical-align: middle;\n",
       "    }\n",
       "\n",
       "    .dataframe tbody tr th {\n",
       "        vertical-align: top;\n",
       "    }\n",
       "\n",
       "    .dataframe thead th {\n",
       "        text-align: right;\n",
       "    }\n",
       "</style>\n",
       "<table border=\"1\" class=\"dataframe\">\n",
       "  <thead>\n",
       "    <tr style=\"text-align: right;\">\n",
       "      <th></th>\n",
       "      <th>Total_Amt</th>\n",
       "      <th>Trip_Pickup_DateTime</th>\n",
       "      <th>Start_Lon</th>\n",
       "      <th>Start_Lat</th>\n",
       "      <th>End_Lon</th>\n",
       "      <th>End_Lat</th>\n",
       "      <th>Date</th>\n",
       "      <th>Distance</th>\n",
       "      <th>Type</th>\n",
       "    </tr>\n",
       "  </thead>\n",
       "  <tbody>\n",
       "    <tr>\n",
       "      <th>237961</th>\n",
       "      <td>8.20</td>\n",
       "      <td>2010-04-01 14:02:07</td>\n",
       "      <td>-74.000271</td>\n",
       "      <td>40.717757</td>\n",
       "      <td>-73.982694</td>\n",
       "      <td>40.692402</td>\n",
       "      <td>2010-04-01 14:00:00</td>\n",
       "      <td>3.184961</td>\n",
       "      <td>Yellow</td>\n",
       "    </tr>\n",
       "    <tr>\n",
       "      <th>382482</th>\n",
       "      <td>10.00</td>\n",
       "      <td>2014-06-28 17:38:00</td>\n",
       "      <td>-73.989868</td>\n",
       "      <td>40.718648</td>\n",
       "      <td>-73.997565</td>\n",
       "      <td>40.733558</td>\n",
       "      <td>2014-06-28 18:00:00</td>\n",
       "      <td>1.780275</td>\n",
       "      <td>Yellow</td>\n",
       "    </tr>\n",
       "    <tr>\n",
       "      <th>60274</th>\n",
       "      <td>9.70</td>\n",
       "      <td>2012-04-23 10:50:05 UTC</td>\n",
       "      <td>-74.012061</td>\n",
       "      <td>40.706471</td>\n",
       "      <td>-74.006639</td>\n",
       "      <td>40.741483</td>\n",
       "      <td>2012-04-23 11:00:00</td>\n",
       "      <td>3.919878</td>\n",
       "      <td>Uber</td>\n",
       "    </tr>\n",
       "    <tr>\n",
       "      <th>217731</th>\n",
       "      <td>37.64</td>\n",
       "      <td>2009-09-18 16:52:39</td>\n",
       "      <td>-73.958273</td>\n",
       "      <td>40.760169</td>\n",
       "      <td>-73.872198</td>\n",
       "      <td>40.774416</td>\n",
       "      <td>2009-09-18 17:00:00</td>\n",
       "      <td>7.419936</td>\n",
       "      <td>Yellow</td>\n",
       "    </tr>\n",
       "    <tr>\n",
       "      <th>80442</th>\n",
       "      <td>13.70</td>\n",
       "      <td>2010-11-03 23:33:30 UTC</td>\n",
       "      <td>-73.975045</td>\n",
       "      <td>40.754919</td>\n",
       "      <td>-74.008957</td>\n",
       "      <td>40.712401</td>\n",
       "      <td>2010-11-04 00:00:00</td>\n",
       "      <td>5.524171</td>\n",
       "      <td>Uber</td>\n",
       "    </tr>\n",
       "    <tr>\n",
       "      <th>68270</th>\n",
       "      <td>14.50</td>\n",
       "      <td>2014-08-31 16:55:08 UTC</td>\n",
       "      <td>-74.005480</td>\n",
       "      <td>40.706539</td>\n",
       "      <td>-73.982797</td>\n",
       "      <td>40.739313</td>\n",
       "      <td>2014-08-31 17:00:00</td>\n",
       "      <td>4.115204</td>\n",
       "      <td>Uber</td>\n",
       "    </tr>\n",
       "    <tr>\n",
       "      <th>94045</th>\n",
       "      <td>6.50</td>\n",
       "      <td>2011-08-02 13:11:00 UTC</td>\n",
       "      <td>-73.985048</td>\n",
       "      <td>40.747988</td>\n",
       "      <td>-74.000820</td>\n",
       "      <td>40.747278</td>\n",
       "      <td>2011-08-02 13:00:00</td>\n",
       "      <td>1.330983</td>\n",
       "      <td>Uber</td>\n",
       "    </tr>\n",
       "    <tr>\n",
       "      <th>30198</th>\n",
       "      <td>8.00</td>\n",
       "      <td>2012-10-06 10:27:00 UTC</td>\n",
       "      <td>-73.971507</td>\n",
       "      <td>40.748000</td>\n",
       "      <td>-73.985692</td>\n",
       "      <td>40.727770</td>\n",
       "      <td>2012-10-06 10:00:00</td>\n",
       "      <td>2.547244</td>\n",
       "      <td>Uber</td>\n",
       "    </tr>\n",
       "    <tr>\n",
       "      <th>344092</th>\n",
       "      <td>18.00</td>\n",
       "      <td>2013-05-03 17:02:25</td>\n",
       "      <td>-73.958521</td>\n",
       "      <td>40.781494</td>\n",
       "      <td>-73.986886</td>\n",
       "      <td>40.755752</td>\n",
       "      <td>2013-05-03 17:00:00</td>\n",
       "      <td>3.728166</td>\n",
       "      <td>Yellow</td>\n",
       "    </tr>\n",
       "    <tr>\n",
       "      <th>123557</th>\n",
       "      <td>8.00</td>\n",
       "      <td>2014-04-01 21:06:37 UTC</td>\n",
       "      <td>-73.974539</td>\n",
       "      <td>40.761991</td>\n",
       "      <td>-73.994254</td>\n",
       "      <td>40.754952</td>\n",
       "      <td>2014-04-01 21:00:00</td>\n",
       "      <td>1.835749</td>\n",
       "      <td>Uber</td>\n",
       "    </tr>\n",
       "  </tbody>\n",
       "</table>\n",
       "</div>"
      ],
      "text/plain": [
       "        Total_Amt     Trip_Pickup_DateTime  Start_Lon  Start_Lat    End_Lon  \\\n",
       "237961       8.20      2010-04-01 14:02:07 -74.000271  40.717757 -73.982694   \n",
       "382482      10.00      2014-06-28 17:38:00 -73.989868  40.718648 -73.997565   \n",
       "60274        9.70  2012-04-23 10:50:05 UTC -74.012061  40.706471 -74.006639   \n",
       "217731      37.64      2009-09-18 16:52:39 -73.958273  40.760169 -73.872198   \n",
       "80442       13.70  2010-11-03 23:33:30 UTC -73.975045  40.754919 -74.008957   \n",
       "68270       14.50  2014-08-31 16:55:08 UTC -74.005480  40.706539 -73.982797   \n",
       "94045        6.50  2011-08-02 13:11:00 UTC -73.985048  40.747988 -74.000820   \n",
       "30198        8.00  2012-10-06 10:27:00 UTC -73.971507  40.748000 -73.985692   \n",
       "344092      18.00      2013-05-03 17:02:25 -73.958521  40.781494 -73.986886   \n",
       "123557       8.00  2014-04-01 21:06:37 UTC -73.974539  40.761991 -73.994254   \n",
       "\n",
       "          End_Lat                Date  Distance    Type  \n",
       "237961  40.692402 2010-04-01 14:00:00  3.184961  Yellow  \n",
       "382482  40.733558 2014-06-28 18:00:00  1.780275  Yellow  \n",
       "60274   40.741483 2012-04-23 11:00:00  3.919878    Uber  \n",
       "217731  40.774416 2009-09-18 17:00:00  7.419936  Yellow  \n",
       "80442   40.712401 2010-11-04 00:00:00  5.524171    Uber  \n",
       "68270   40.739313 2014-08-31 17:00:00  4.115204    Uber  \n",
       "94045   40.747278 2011-08-02 13:00:00  1.330983    Uber  \n",
       "30198   40.727770 2012-10-06 10:00:00  2.547244    Uber  \n",
       "344092  40.755752 2013-05-03 17:00:00  3.728166  Yellow  \n",
       "123557  40.754952 2014-04-01 21:00:00  1.835749    Uber  "
      ]
     },
     "execution_count": 34,
     "metadata": {},
     "output_type": "execute_result"
    }
   ],
   "source": [
    "tdf.sample(n=10)"
   ]
  },
  {
   "cell_type": "markdown",
   "id": "07719e49",
   "metadata": {},
   "source": [
    "# Weather Dataset"
   ]
  },
  {
   "cell_type": "markdown",
   "id": "ad3940fe",
   "metadata": {},
   "source": [
    "* Loading and processing weather dataset"
   ]
  },
  {
   "cell_type": "code",
   "execution_count": 35,
   "id": "82ee1923",
   "metadata": {},
   "outputs": [
    {
     "name": "stderr",
     "output_type": "stream",
     "text": [
      "C:\\Users\\Kunal\\AppData\\Local\\Temp\\ipykernel_11820\\1334377732.py:8: DtypeWarning: Columns (9,13) have mixed types. Specify dtype option on import or set low_memory=False.\n",
      "  eachweatherdf = pd.read_csv(filename, index_col=None, header=0)\n",
      "C:\\Users\\Kunal\\AppData\\Local\\Temp\\ipykernel_11820\\1334377732.py:8: DtypeWarning: Columns (8,9,10,17) have mixed types. Specify dtype option on import or set low_memory=False.\n",
      "  eachweatherdf = pd.read_csv(filename, index_col=None, header=0)\n",
      "C:\\Users\\Kunal\\AppData\\Local\\Temp\\ipykernel_11820\\1334377732.py:8: DtypeWarning: Columns (10) have mixed types. Specify dtype option on import or set low_memory=False.\n",
      "  eachweatherdf = pd.read_csv(filename, index_col=None, header=0)\n",
      "C:\\Users\\Kunal\\AppData\\Local\\Temp\\ipykernel_11820\\1334377732.py:8: DtypeWarning: Columns (7,8,9,10,17,18,42,65) have mixed types. Specify dtype option on import or set low_memory=False.\n",
      "  eachweatherdf = pd.read_csv(filename, index_col=None, header=0)\n",
      "C:\\Users\\Kunal\\AppData\\Local\\Temp\\ipykernel_11820\\1334377732.py:8: DtypeWarning: Columns (17,78) have mixed types. Specify dtype option on import or set low_memory=False.\n",
      "  eachweatherdf = pd.read_csv(filename, index_col=None, header=0)\n",
      "C:\\Users\\Kunal\\AppData\\Local\\Temp\\ipykernel_11820\\1334377732.py:8: DtypeWarning: Columns (8,9,17,18,78) have mixed types. Specify dtype option on import or set low_memory=False.\n",
      "  eachweatherdf = pd.read_csv(filename, index_col=None, header=0)\n",
      "C:\\Users\\Kunal\\AppData\\Local\\Temp\\ipykernel_11820\\1334377732.py:8: DtypeWarning: Columns (10,41,78) have mixed types. Specify dtype option on import or set low_memory=False.\n",
      "  eachweatherdf = pd.read_csv(filename, index_col=None, header=0)\n"
     ]
    }
   ],
   "source": [
    "#Load all weather csv into one dataframe\n",
    "path = r'weather' \n",
    "all_files = glob.glob(path + \"/*.csv\")\n",
    "\n",
    "li = []\n",
    "\n",
    "for filename in all_files:\n",
    "    eachweatherdf = pd.read_csv(filename, index_col=None, header=0)\n",
    "    li.append(eachweatherdf)\n",
    "\n",
    "weatherdf = pd.concat(li, axis=0, ignore_index=True)"
   ]
  },
  {
   "cell_type": "code",
   "execution_count": 36,
   "id": "04f76a4a",
   "metadata": {},
   "outputs": [],
   "source": [
    "weatherdf[\"DATE\"]=weatherdf[\"DATE\"].astype(\"datetime64\")"
   ]
  },
  {
   "cell_type": "markdown",
   "id": "ffb684b7",
   "metadata": {},
   "source": [
    "* Removing Dates after 2015 June"
   ]
  },
  {
   "cell_type": "code",
   "execution_count": 37,
   "id": "96000177",
   "metadata": {},
   "outputs": [],
   "source": [
    "weatherdf = weatherdf[ (weatherdf['DATE'].dt.year < 2015) | (weatherdf['DATE'].dt.month <= 6) ]"
   ]
  },
  {
   "cell_type": "markdown",
   "id": "77f815c2",
   "metadata": {},
   "source": [
    "### Creating Dataframe with daily and hourly weather data"
   ]
  },
  {
   "cell_type": "code",
   "execution_count": 38,
   "id": "00cd190c",
   "metadata": {},
   "outputs": [
    {
     "name": "stderr",
     "output_type": "stream",
     "text": [
      "C:\\Users\\Kunal\\AppData\\Local\\Temp\\ipykernel_11820\\3935078564.py:3: SettingWithCopyWarning: \n",
      "A value is trying to be set on a copy of a slice from a DataFrame.\n",
      "Try using .loc[row_indexer,col_indexer] = value instead\n",
      "\n",
      "See the caveats in the documentation: https://pandas.pydata.org/pandas-docs/stable/user_guide/indexing.html#returning-a-view-versus-a-copy\n",
      "  dayweather['day'] = dayweather.DATE.dt.date\n"
     ]
    }
   ],
   "source": [
    "dayweather=pd.DataFrame()\n",
    "dayweather=weatherdf[weatherdf['HourlyDryBulbTemperature'].notna() & weatherdf['HourlyWindSpeed'].notna()]\n",
    "dayweather['day'] = dayweather.DATE.dt.date\n",
    "# dayweather.set_index(\"DATE\")"
   ]
  },
  {
   "cell_type": "code",
   "execution_count": 39,
   "id": "c4790ed3",
   "metadata": {},
   "outputs": [
    {
     "name": "stderr",
     "output_type": "stream",
     "text": [
      "C:\\Users\\Kunal\\AppData\\Local\\Temp\\ipykernel_11820\\1676369403.py:2: SettingWithCopyWarning: \n",
      "A value is trying to be set on a copy of a slice from a DataFrame.\n",
      "Try using .loc[row_indexer,col_indexer] = value instead\n",
      "\n",
      "See the caveats in the documentation: https://pandas.pydata.org/pandas-docs/stable/user_guide/indexing.html#returning-a-view-versus-a-copy\n",
      "  dayweather['HourlyDryBulbTemperature']=pd.to_numeric(dayweather['HourlyDryBulbTemperature'], errors='coerce')\n",
      "C:\\Users\\Kunal\\AppData\\Local\\Temp\\ipykernel_11820\\1676369403.py:3: SettingWithCopyWarning: \n",
      "A value is trying to be set on a copy of a slice from a DataFrame.\n",
      "Try using .loc[row_indexer,col_indexer] = value instead\n",
      "\n",
      "See the caveats in the documentation: https://pandas.pydata.org/pandas-docs/stable/user_guide/indexing.html#returning-a-view-versus-a-copy\n",
      "  dayweather['HourlyWindSpeed']=pd.to_numeric(dayweather['HourlyWindSpeed'], errors='coerce')\n",
      "C:\\Users\\Kunal\\AppData\\Local\\Temp\\ipykernel_11820\\1676369403.py:4: SettingWithCopyWarning: \n",
      "A value is trying to be set on a copy of a slice from a DataFrame\n",
      "\n",
      "See the caveats in the documentation: https://pandas.pydata.org/pandas-docs/stable/user_guide/indexing.html#returning-a-view-versus-a-copy\n",
      "  dayweather.rename(columns={\"HourlyWindSpeed\":\"DailyAvgWindSpeed\",\"HourlyDryBulbTemperature\":\"DailyTemperature\"},inplace=True)\n"
     ]
    }
   ],
   "source": [
    "dayweather=dayweather[[\"DATE\",\"HourlyDryBulbTemperature\",\"HourlyWindSpeed\"]]\n",
    "dayweather['HourlyDryBulbTemperature']=pd.to_numeric(dayweather['HourlyDryBulbTemperature'], errors='coerce')\n",
    "dayweather['HourlyWindSpeed']=pd.to_numeric(dayweather['HourlyWindSpeed'], errors='coerce')\n",
    "dayweather.rename(columns={\"HourlyWindSpeed\":\"DailyAvgWindSpeed\",\"HourlyDryBulbTemperature\":\"DailyTemperature\"},inplace=True)"
   ]
  },
  {
   "cell_type": "code",
   "execution_count": 40,
   "id": "0b2ed843",
   "metadata": {},
   "outputs": [
    {
     "data": {
      "text/html": [
       "<div>\n",
       "<style scoped>\n",
       "    .dataframe tbody tr th:only-of-type {\n",
       "        vertical-align: middle;\n",
       "    }\n",
       "\n",
       "    .dataframe tbody tr th {\n",
       "        vertical-align: top;\n",
       "    }\n",
       "\n",
       "    .dataframe thead th {\n",
       "        text-align: right;\n",
       "    }\n",
       "</style>\n",
       "<table border=\"1\" class=\"dataframe\">\n",
       "  <thead>\n",
       "    <tr style=\"text-align: right;\">\n",
       "      <th></th>\n",
       "      <th>DATE</th>\n",
       "      <th>DailyTemperature</th>\n",
       "      <th>DailyAvgWindSpeed</th>\n",
       "    </tr>\n",
       "  </thead>\n",
       "  <tbody>\n",
       "    <tr>\n",
       "      <th>0</th>\n",
       "      <td>2009-01-01 00:51:00</td>\n",
       "      <td>18.0</td>\n",
       "      <td>18.0</td>\n",
       "    </tr>\n",
       "    <tr>\n",
       "      <th>1</th>\n",
       "      <td>2009-01-01 01:51:00</td>\n",
       "      <td>18.0</td>\n",
       "      <td>18.0</td>\n",
       "    </tr>\n",
       "    <tr>\n",
       "      <th>2</th>\n",
       "      <td>2009-01-01 02:51:00</td>\n",
       "      <td>18.0</td>\n",
       "      <td>18.0</td>\n",
       "    </tr>\n",
       "    <tr>\n",
       "      <th>3</th>\n",
       "      <td>2009-01-01 03:51:00</td>\n",
       "      <td>18.0</td>\n",
       "      <td>8.0</td>\n",
       "    </tr>\n",
       "    <tr>\n",
       "      <th>4</th>\n",
       "      <td>2009-01-01 04:51:00</td>\n",
       "      <td>18.0</td>\n",
       "      <td>11.0</td>\n",
       "    </tr>\n",
       "  </tbody>\n",
       "</table>\n",
       "</div>"
      ],
      "text/plain": [
       "                 DATE  DailyTemperature  DailyAvgWindSpeed\n",
       "0 2009-01-01 00:51:00              18.0               18.0\n",
       "1 2009-01-01 01:51:00              18.0               18.0\n",
       "2 2009-01-01 02:51:00              18.0               18.0\n",
       "3 2009-01-01 03:51:00              18.0                8.0\n",
       "4 2009-01-01 04:51:00              18.0               11.0"
      ]
     },
     "execution_count": 40,
     "metadata": {},
     "output_type": "execute_result"
    }
   ],
   "source": [
    "dayweather.head()"
   ]
  },
  {
   "cell_type": "code",
   "execution_count": 41,
   "id": "71f094a3",
   "metadata": {},
   "outputs": [],
   "source": [
    "daydf = dayweather.groupby([dayweather['DATE'].dt.date]).mean()"
   ]
  },
  {
   "cell_type": "code",
   "execution_count": 42,
   "id": "ac254d4e",
   "metadata": {},
   "outputs": [
    {
     "data": {
      "text/html": [
       "<div>\n",
       "<style scoped>\n",
       "    .dataframe tbody tr th:only-of-type {\n",
       "        vertical-align: middle;\n",
       "    }\n",
       "\n",
       "    .dataframe tbody tr th {\n",
       "        vertical-align: top;\n",
       "    }\n",
       "\n",
       "    .dataframe thead th {\n",
       "        text-align: right;\n",
       "    }\n",
       "</style>\n",
       "<table border=\"1\" class=\"dataframe\">\n",
       "  <thead>\n",
       "    <tr style=\"text-align: right;\">\n",
       "      <th></th>\n",
       "      <th>DailyTemperature</th>\n",
       "      <th>DailyAvgWindSpeed</th>\n",
       "    </tr>\n",
       "    <tr>\n",
       "      <th>DATE</th>\n",
       "      <th></th>\n",
       "      <th></th>\n",
       "    </tr>\n",
       "  </thead>\n",
       "  <tbody>\n",
       "    <tr>\n",
       "      <th>2014-07-30</th>\n",
       "      <td>71.416667</td>\n",
       "      <td>2.875000</td>\n",
       "    </tr>\n",
       "    <tr>\n",
       "      <th>2012-11-24</th>\n",
       "      <td>40.727273</td>\n",
       "      <td>10.136364</td>\n",
       "    </tr>\n",
       "    <tr>\n",
       "      <th>2015-02-04</th>\n",
       "      <td>34.833333</td>\n",
       "      <td>4.250000</td>\n",
       "    </tr>\n",
       "    <tr>\n",
       "      <th>2015-02-20</th>\n",
       "      <td>10.791667</td>\n",
       "      <td>10.291667</td>\n",
       "    </tr>\n",
       "    <tr>\n",
       "      <th>2014-04-18</th>\n",
       "      <td>41.928571</td>\n",
       "      <td>5.428571</td>\n",
       "    </tr>\n",
       "    <tr>\n",
       "      <th>2010-09-10</th>\n",
       "      <td>66.166667</td>\n",
       "      <td>5.625000</td>\n",
       "    </tr>\n",
       "    <tr>\n",
       "      <th>2010-04-09</th>\n",
       "      <td>55.593750</td>\n",
       "      <td>6.562500</td>\n",
       "    </tr>\n",
       "    <tr>\n",
       "      <th>2009-12-11</th>\n",
       "      <td>25.850000</td>\n",
       "      <td>12.650000</td>\n",
       "    </tr>\n",
       "    <tr>\n",
       "      <th>2010-04-08</th>\n",
       "      <td>71.041667</td>\n",
       "      <td>6.166667</td>\n",
       "    </tr>\n",
       "    <tr>\n",
       "      <th>2010-10-24</th>\n",
       "      <td>59.666667</td>\n",
       "      <td>3.291667</td>\n",
       "    </tr>\n",
       "  </tbody>\n",
       "</table>\n",
       "</div>"
      ],
      "text/plain": [
       "            DailyTemperature  DailyAvgWindSpeed\n",
       "DATE                                           \n",
       "2014-07-30         71.416667           2.875000\n",
       "2012-11-24         40.727273          10.136364\n",
       "2015-02-04         34.833333           4.250000\n",
       "2015-02-20         10.791667          10.291667\n",
       "2014-04-18         41.928571           5.428571\n",
       "2010-09-10         66.166667           5.625000\n",
       "2010-04-09         55.593750           6.562500\n",
       "2009-12-11         25.850000          12.650000\n",
       "2010-04-08         71.041667           6.166667\n",
       "2010-10-24         59.666667           3.291667"
      ]
     },
     "execution_count": 42,
     "metadata": {},
     "output_type": "execute_result"
    }
   ],
   "source": [
    "daydf.sample(10)"
   ]
  },
  {
   "cell_type": "markdown",
   "id": "4ecace62",
   "metadata": {},
   "source": [
    "### Hourly data"
   ]
  },
  {
   "cell_type": "code",
   "execution_count": 43,
   "id": "b23a219c",
   "metadata": {},
   "outputs": [],
   "source": [
    "hourweather=pd.DataFrame()\n",
    "hourweather=weatherdf\n",
    "hourweather['day'] = hourweather.DATE.dt.date\n",
    "# dayweather.set_index(\"DATE\")"
   ]
  },
  {
   "cell_type": "code",
   "execution_count": 44,
   "id": "7efbdd87",
   "metadata": {},
   "outputs": [
    {
     "name": "stderr",
     "output_type": "stream",
     "text": [
      "C:\\Users\\Kunal\\AppData\\Local\\Temp\\ipykernel_11820\\127846862.py:2: SettingWithCopyWarning: \n",
      "A value is trying to be set on a copy of a slice from a DataFrame.\n",
      "Try using .loc[row_indexer,col_indexer] = value instead\n",
      "\n",
      "See the caveats in the documentation: https://pandas.pydata.org/pandas-docs/stable/user_guide/indexing.html#returning-a-view-versus-a-copy\n",
      "  hourweather['HourlyDryBulbTemperature']=pd.to_numeric(hourweather['HourlyDryBulbTemperature'], errors='coerce')\n",
      "C:\\Users\\Kunal\\AppData\\Local\\Temp\\ipykernel_11820\\127846862.py:3: SettingWithCopyWarning: \n",
      "A value is trying to be set on a copy of a slice from a DataFrame.\n",
      "Try using .loc[row_indexer,col_indexer] = value instead\n",
      "\n",
      "See the caveats in the documentation: https://pandas.pydata.org/pandas-docs/stable/user_guide/indexing.html#returning-a-view-versus-a-copy\n",
      "  hourweather['HourlyWindSpeed']=pd.to_numeric(hourweather['HourlyWindSpeed'], errors='coerce')\n",
      "C:\\Users\\Kunal\\AppData\\Local\\Temp\\ipykernel_11820\\127846862.py:4: SettingWithCopyWarning: \n",
      "A value is trying to be set on a copy of a slice from a DataFrame.\n",
      "Try using .loc[row_indexer,col_indexer] = value instead\n",
      "\n",
      "See the caveats in the documentation: https://pandas.pydata.org/pandas-docs/stable/user_guide/indexing.html#returning-a-view-versus-a-copy\n",
      "  hourweather['HourlyPrecipitation']=pd.to_numeric(hourweather['HourlyPrecipitation'], errors='coerce')\n",
      "C:\\Users\\Kunal\\AppData\\Local\\Temp\\ipykernel_11820\\127846862.py:5: SettingWithCopyWarning: \n",
      "A value is trying to be set on a copy of a slice from a DataFrame\n",
      "\n",
      "See the caveats in the documentation: https://pandas.pydata.org/pandas-docs/stable/user_guide/indexing.html#returning-a-view-versus-a-copy\n",
      "  hourweather.rename(columns={\"HourlyDryBulbTemperature\":\"HourlyTemperature\"},inplace=True)\n"
     ]
    }
   ],
   "source": [
    "hourweather=hourweather[[\"DATE\",\"HourlyDryBulbTemperature\",\"HourlyWindSpeed\",\"HourlyPrecipitation\"]]\n",
    "hourweather['HourlyDryBulbTemperature']=pd.to_numeric(hourweather['HourlyDryBulbTemperature'], errors='coerce')\n",
    "hourweather['HourlyWindSpeed']=pd.to_numeric(hourweather['HourlyWindSpeed'], errors='coerce')\n",
    "hourweather['HourlyPrecipitation']=pd.to_numeric(hourweather['HourlyPrecipitation'], errors='coerce')\n",
    "hourweather.rename(columns={\"HourlyDryBulbTemperature\":\"HourlyTemperature\"},inplace=True)"
   ]
  },
  {
   "cell_type": "code",
   "execution_count": 45,
   "id": "abb0e7ef",
   "metadata": {},
   "outputs": [
    {
     "data": {
      "text/html": [
       "<div>\n",
       "<style scoped>\n",
       "    .dataframe tbody tr th:only-of-type {\n",
       "        vertical-align: middle;\n",
       "    }\n",
       "\n",
       "    .dataframe tbody tr th {\n",
       "        vertical-align: top;\n",
       "    }\n",
       "\n",
       "    .dataframe thead th {\n",
       "        text-align: right;\n",
       "    }\n",
       "</style>\n",
       "<table border=\"1\" class=\"dataframe\">\n",
       "  <thead>\n",
       "    <tr style=\"text-align: right;\">\n",
       "      <th></th>\n",
       "      <th>DATE</th>\n",
       "      <th>HourlyTemperature</th>\n",
       "      <th>HourlyWindSpeed</th>\n",
       "      <th>HourlyPrecipitation</th>\n",
       "    </tr>\n",
       "  </thead>\n",
       "  <tbody>\n",
       "    <tr>\n",
       "      <th>0</th>\n",
       "      <td>2009-01-01 00:51:00</td>\n",
       "      <td>18.0</td>\n",
       "      <td>18.0</td>\n",
       "      <td>NaN</td>\n",
       "    </tr>\n",
       "    <tr>\n",
       "      <th>1</th>\n",
       "      <td>2009-01-01 01:51:00</td>\n",
       "      <td>18.0</td>\n",
       "      <td>18.0</td>\n",
       "      <td>NaN</td>\n",
       "    </tr>\n",
       "    <tr>\n",
       "      <th>2</th>\n",
       "      <td>2009-01-01 02:51:00</td>\n",
       "      <td>18.0</td>\n",
       "      <td>18.0</td>\n",
       "      <td>NaN</td>\n",
       "    </tr>\n",
       "    <tr>\n",
       "      <th>3</th>\n",
       "      <td>2009-01-01 03:51:00</td>\n",
       "      <td>18.0</td>\n",
       "      <td>8.0</td>\n",
       "      <td>NaN</td>\n",
       "    </tr>\n",
       "    <tr>\n",
       "      <th>4</th>\n",
       "      <td>2009-01-01 04:51:00</td>\n",
       "      <td>18.0</td>\n",
       "      <td>11.0</td>\n",
       "      <td>NaN</td>\n",
       "    </tr>\n",
       "  </tbody>\n",
       "</table>\n",
       "</div>"
      ],
      "text/plain": [
       "                 DATE  HourlyTemperature  HourlyWindSpeed  HourlyPrecipitation\n",
       "0 2009-01-01 00:51:00               18.0             18.0                  NaN\n",
       "1 2009-01-01 01:51:00               18.0             18.0                  NaN\n",
       "2 2009-01-01 02:51:00               18.0             18.0                  NaN\n",
       "3 2009-01-01 03:51:00               18.0              8.0                  NaN\n",
       "4 2009-01-01 04:51:00               18.0             11.0                  NaN"
      ]
     },
     "execution_count": 45,
     "metadata": {},
     "output_type": "execute_result"
    }
   ],
   "source": [
    "hourweather.head()"
   ]
  },
  {
   "cell_type": "code",
   "execution_count": 46,
   "id": "956bc070",
   "metadata": {},
   "outputs": [],
   "source": [
    "hourweather=hourweather.assign(DATE=hourweather.DATE.dt.round('H'))"
   ]
  },
  {
   "cell_type": "code",
   "execution_count": 47,
   "id": "fdda6abf",
   "metadata": {},
   "outputs": [],
   "source": [
    "hourdf = hourweather.groupby([hourweather['DATE']]).mean()"
   ]
  },
  {
   "cell_type": "code",
   "execution_count": 48,
   "id": "83f57d5b",
   "metadata": {},
   "outputs": [
    {
     "data": {
      "text/html": [
       "<div>\n",
       "<style scoped>\n",
       "    .dataframe tbody tr th:only-of-type {\n",
       "        vertical-align: middle;\n",
       "    }\n",
       "\n",
       "    .dataframe tbody tr th {\n",
       "        vertical-align: top;\n",
       "    }\n",
       "\n",
       "    .dataframe thead th {\n",
       "        text-align: right;\n",
       "    }\n",
       "</style>\n",
       "<table border=\"1\" class=\"dataframe\">\n",
       "  <thead>\n",
       "    <tr style=\"text-align: right;\">\n",
       "      <th></th>\n",
       "      <th>HourlyTemperature</th>\n",
       "      <th>HourlyWindSpeed</th>\n",
       "      <th>HourlyPrecipitation</th>\n",
       "    </tr>\n",
       "    <tr>\n",
       "      <th>DATE</th>\n",
       "      <th></th>\n",
       "      <th></th>\n",
       "      <th></th>\n",
       "    </tr>\n",
       "  </thead>\n",
       "  <tbody>\n",
       "    <tr>\n",
       "      <th>2009-01-01 01:00:00</th>\n",
       "      <td>18.0</td>\n",
       "      <td>18.0</td>\n",
       "      <td>NaN</td>\n",
       "    </tr>\n",
       "    <tr>\n",
       "      <th>2009-01-01 02:00:00</th>\n",
       "      <td>18.0</td>\n",
       "      <td>18.0</td>\n",
       "      <td>NaN</td>\n",
       "    </tr>\n",
       "    <tr>\n",
       "      <th>2009-01-01 03:00:00</th>\n",
       "      <td>18.0</td>\n",
       "      <td>18.0</td>\n",
       "      <td>NaN</td>\n",
       "    </tr>\n",
       "    <tr>\n",
       "      <th>2009-01-01 04:00:00</th>\n",
       "      <td>18.0</td>\n",
       "      <td>8.0</td>\n",
       "      <td>NaN</td>\n",
       "    </tr>\n",
       "    <tr>\n",
       "      <th>2009-01-01 05:00:00</th>\n",
       "      <td>18.0</td>\n",
       "      <td>11.0</td>\n",
       "      <td>NaN</td>\n",
       "    </tr>\n",
       "  </tbody>\n",
       "</table>\n",
       "</div>"
      ],
      "text/plain": [
       "                     HourlyTemperature  HourlyWindSpeed  HourlyPrecipitation\n",
       "DATE                                                                        \n",
       "2009-01-01 01:00:00               18.0             18.0                  NaN\n",
       "2009-01-01 02:00:00               18.0             18.0                  NaN\n",
       "2009-01-01 03:00:00               18.0             18.0                  NaN\n",
       "2009-01-01 04:00:00               18.0              8.0                  NaN\n",
       "2009-01-01 05:00:00               18.0             11.0                  NaN"
      ]
     },
     "execution_count": 48,
     "metadata": {},
     "output_type": "execute_result"
    }
   ],
   "source": [
    "hourdf.head()"
   ]
  },
  {
   "cell_type": "code",
   "execution_count": 49,
   "id": "3039537f",
   "metadata": {},
   "outputs": [
    {
     "data": {
      "text/html": [
       "<div>\n",
       "<style scoped>\n",
       "    .dataframe tbody tr th:only-of-type {\n",
       "        vertical-align: middle;\n",
       "    }\n",
       "\n",
       "    .dataframe tbody tr th {\n",
       "        vertical-align: top;\n",
       "    }\n",
       "\n",
       "    .dataframe thead th {\n",
       "        text-align: right;\n",
       "    }\n",
       "</style>\n",
       "<table border=\"1\" class=\"dataframe\">\n",
       "  <thead>\n",
       "    <tr style=\"text-align: right;\">\n",
       "      <th></th>\n",
       "      <th>HourlyTemperature</th>\n",
       "      <th>HourlyWindSpeed</th>\n",
       "      <th>HourlyPrecipitation</th>\n",
       "    </tr>\n",
       "    <tr>\n",
       "      <th>DATE</th>\n",
       "      <th></th>\n",
       "      <th></th>\n",
       "      <th></th>\n",
       "    </tr>\n",
       "  </thead>\n",
       "  <tbody>\n",
       "    <tr>\n",
       "      <th>2013-12-27 16:00:00</th>\n",
       "      <td>40.0</td>\n",
       "      <td>NaN</td>\n",
       "      <td>0.0</td>\n",
       "    </tr>\n",
       "    <tr>\n",
       "      <th>2014-05-01 09:00:00</th>\n",
       "      <td>61.5</td>\n",
       "      <td>6.0</td>\n",
       "      <td>NaN</td>\n",
       "    </tr>\n",
       "    <tr>\n",
       "      <th>2013-08-31 16:00:00</th>\n",
       "      <td>84.0</td>\n",
       "      <td>6.0</td>\n",
       "      <td>0.0</td>\n",
       "    </tr>\n",
       "    <tr>\n",
       "      <th>2009-10-26 01:00:00</th>\n",
       "      <td>52.0</td>\n",
       "      <td>5.0</td>\n",
       "      <td>NaN</td>\n",
       "    </tr>\n",
       "    <tr>\n",
       "      <th>2009-07-28 20:00:00</th>\n",
       "      <td>75.0</td>\n",
       "      <td>5.0</td>\n",
       "      <td>NaN</td>\n",
       "    </tr>\n",
       "    <tr>\n",
       "      <th>2013-06-13 15:00:00</th>\n",
       "      <td>63.0</td>\n",
       "      <td>6.0</td>\n",
       "      <td>0.0</td>\n",
       "    </tr>\n",
       "    <tr>\n",
       "      <th>2013-10-21 05:00:00</th>\n",
       "      <td>51.0</td>\n",
       "      <td>0.0</td>\n",
       "      <td>0.0</td>\n",
       "    </tr>\n",
       "    <tr>\n",
       "      <th>2012-11-22 21:00:00</th>\n",
       "      <td>48.0</td>\n",
       "      <td>0.0</td>\n",
       "      <td>0.0</td>\n",
       "    </tr>\n",
       "    <tr>\n",
       "      <th>2012-04-10 15:00:00</th>\n",
       "      <td>59.0</td>\n",
       "      <td>7.0</td>\n",
       "      <td>NaN</td>\n",
       "    </tr>\n",
       "    <tr>\n",
       "      <th>2011-12-16 07:00:00</th>\n",
       "      <td>51.0</td>\n",
       "      <td>19.0</td>\n",
       "      <td>NaN</td>\n",
       "    </tr>\n",
       "  </tbody>\n",
       "</table>\n",
       "</div>"
      ],
      "text/plain": [
       "                     HourlyTemperature  HourlyWindSpeed  HourlyPrecipitation\n",
       "DATE                                                                        \n",
       "2013-12-27 16:00:00               40.0              NaN                  0.0\n",
       "2014-05-01 09:00:00               61.5              6.0                  NaN\n",
       "2013-08-31 16:00:00               84.0              6.0                  0.0\n",
       "2009-10-26 01:00:00               52.0              5.0                  NaN\n",
       "2009-07-28 20:00:00               75.0              5.0                  NaN\n",
       "2013-06-13 15:00:00               63.0              6.0                  0.0\n",
       "2013-10-21 05:00:00               51.0              0.0                  0.0\n",
       "2012-11-22 21:00:00               48.0              0.0                  0.0\n",
       "2012-04-10 15:00:00               59.0              7.0                  NaN\n",
       "2011-12-16 07:00:00               51.0             19.0                  NaN"
      ]
     },
     "execution_count": 49,
     "metadata": {},
     "output_type": "execute_result"
    }
   ],
   "source": [
    "hourdf.sample(10)"
   ]
  },
  {
   "cell_type": "code",
   "execution_count": null,
   "id": "08b742c3",
   "metadata": {},
   "outputs": [],
   "source": []
  },
  {
   "cell_type": "markdown",
   "id": "74469437",
   "metadata": {},
   "source": [
    "# Part 2 - SQL - Storing Data"
   ]
  },
  {
   "cell_type": "code",
   "execution_count": 50,
   "id": "d39ad5af",
   "metadata": {},
   "outputs": [],
   "source": [
    "# first create a connection - we'll create a new database \n",
    "from sqlalchemy import create_engine\n",
    "\n",
    "engine = create_engine(f\"sqlite:///f2.db\", echo=True)\n",
    "dbname=\"f2.db\""
   ]
  },
  {
   "cell_type": "code",
   "execution_count": 51,
   "id": "3b46fd27",
   "metadata": {},
   "outputs": [],
   "source": [
    "# changing the format of the log messages that sqlalchemy will\n",
    "# now print out, just for easier reading;\n",
    "# we also do this after we create an engine since the \n",
    "# logger doesn't exist beforehand\n",
    "import logging\n",
    "sqllogger = logging.getLogger(\"sqlalchemy.engine.Engine\")\n",
    "formatter = logging.Formatter(\"[sqlalchemy] %(message)s\")\n",
    "sqllogger.handlers[0].setFormatter(formatter)"
   ]
  },
  {
   "cell_type": "code",
   "execution_count": 52,
   "id": "fec32b4e",
   "metadata": {},
   "outputs": [
    {
     "name": "stdout",
     "output_type": "stream",
     "text": [
      "-- creates tables\n",
      "\n",
      "CREATE TABLE IF NOT EXISTS uber (\n",
      "\t\"index\" BIGINT, \n",
      "\t\"Total_Amt\" FLOAT, \n",
      "\t\"Trip_Pickup_DateTime\" TEXT, \n",
      "\t\"Start_Lon\" FLOAT, \n",
      "\t\"Start_Lat\" FLOAT, \n",
      "\t\"End_Lon\" FLOAT, \n",
      "\t\"End_Lat\" FLOAT, \n",
      "\t\"Date\" DATETIME, \n",
      "\t\"Distance\" FLOAT, \n",
      "\t\"Type\" TEXT\n",
      ");\n",
      "\n",
      "CREATE TABLE IF NOT EXISTS yellow (\n",
      "\t\"index\" BIGINT, \n",
      "\t\"Trip_Pickup_DateTime\" TEXT, \n",
      "\t\"Start_Lon\" FLOAT, \n",
      "\t\"Start_Lat\" FLOAT, \n",
      "\t\"End_Lon\" FLOAT, \n",
      "\t\"End_Lat\" FLOAT, \n",
      "\t\"Tip_Amt\" FLOAT,\n",
      "\t\"Total_Amt\" FLOAT, \n",
      "\t\"Date\" DATETIME, \n",
      "\t\"Distance\" FLOAT, \n",
      "\t\"Type\" TEXT\n",
      ");\n",
      "\n",
      "CREATE TABLE hourtable (\n",
      "\t\"DATE\" DATETIME, \n",
      "\t\"HourlyTemperature\" FLOAT, \n",
      "\t\"HourlyWindSpeed\" FLOAT, \n",
      "\t\"HourlyPrecipitation\" FLOAT\n",
      ");\n",
      "\n",
      "CREATE TABLE daytable (\n",
      "\t\"DATE\" DATE, \n",
      "\t\"DailyTemperature\" FLOAT, \n",
      "\t\"DailyAvgWindSpeed\" FLOAT\n",
      ");\n",
      "\n",
      "CREATE VIEW IF NOT EXISTS HurricaneSandy3 AS\n",
      "    SELECT Date,\n",
      "           Count( * ) Number_of_Rides\n",
      "      FROM (\n",
      "               SELECT Date,\n",
      "                      Distance\n",
      "                 FROM (\n",
      "                          SELECT Date,\n",
      "                                 Distance\n",
      "                            FROM uber\n",
      "                          UNION ALL\n",
      "                          SELECT Date,\n",
      "                                 Distance\n",
      "                            FROM yellow\n",
      "                      )\n",
      "                WHERE Date >= '2012-10-21' AND \n",
      "                      Date <= '2012-11-03'\n",
      "           )\n",
      "     GROUP BY Date;\n"
     ]
    },
    {
     "data": {
      "text/plain": [
       "<function TextIOWrapper.close()>"
      ]
     },
     "execution_count": 52,
     "metadata": {},
     "output_type": "execute_result"
    }
   ],
   "source": [
    "f=open(\"schema.sql\",\"r\")\n",
    "query=f.read()\n",
    "print(query)\n",
    "f.close"
   ]
  },
  {
   "cell_type": "code",
   "execution_count": 53,
   "id": "6548db62",
   "metadata": {},
   "outputs": [
    {
     "name": "stderr",
     "output_type": "stream",
     "text": [
      "Parse error near line 30: table hourtable already exists\n",
      "  CREATE TABLE hourtable (  \"DATE\" DATETIME,   \"HourlyTemperature\" FLOAT,   \"Hou\n",
      "               ^--- error here\n",
      "Parse error near line 37: table daytable already exists\n",
      "  CREATE TABLE daytable (  \"DATE\" DATE,   \"DailyTemperature\" FLOAT,   \"DailyAvgW\n",
      "               ^--- error here\n"
     ]
    }
   ],
   "source": [
    "!sqlite3 $dbname < schema.sql"
   ]
  },
  {
   "cell_type": "code",
   "execution_count": 54,
   "id": "09beab30",
   "metadata": {},
   "outputs": [
    {
     "name": "stdout",
     "output_type": "stream",
     "text": [
      "[sqlalchemy] PRAGMA main.table_info(\"uber\")\n",
      "[sqlalchemy] [raw sql] ()\n",
      "[sqlalchemy] BEGIN (implicit)\n",
      "[sqlalchemy] INSERT INTO uber (\"index\", \"Total_Amt\", \"Trip_Pickup_DateTime\", \"Start_Lon\", \"Start_Lat\", \"End_Lon\", \"End_Lat\", \"Date\", \"Distance\", \"Type\") VALUES (?, ?, ?, ?, ?, ?, ?, ?, ?, ?)\n",
      "[sqlalchemy] [generated in 1.01150s] ((0, 7.5, '2015-05-07 19:52:06 UTC', -73.99981689453125, 40.73835372924805, -73.99951171875, 40.72321701049805, '2015-05-07 20:00:00.000000', 1.6833227524029715, 'Uber'), (1, 7.7, '2009-07-17 20:04:56 UTC', -73.994355, 40.728225, -73.99471, 40.750325, '2009-07-17 20:00:00.000000', 2.4575898837790673, 'Uber'), (2, 12.9, '2009-08-24 21:45:00 UTC', -74.005043, 40.74077, -73.962565, 40.772647, '2009-08-24 22:00:00.000000', 5.036377190242826, 'Uber'), (3, 5.3, '2009-06-26 08:22:21 UTC', -73.976124, 40.790844, -73.965316, 40.803349, '2009-06-26 08:00:00.000000', 1.6616834584355225, 'Uber'), (4, 16.0, '2014-08-28 17:47:00 UTC', -73.925023, 40.744085, -73.97308199999999, 40.761247, '2014-08-28 18:00:00.000000', 4.475449963028309, 'Uber'), (6, 24.5, '2014-10-12 07:04:00 UTC', -73.96144699999999, 40.693965000000006, -73.871195, 40.774297, '2014-10-12 07:00:00.000000', 11.731014883538833, 'Uber'), (8, 9.7, '2012-02-17 09:32:00 UTC', -73.975187, 40.745767, -74.00272, 40.743537, '2012-02-17 10:00:00.000000', 2.332711009340228, 'Uber'), (9, 12.5, '2012-03-29 19:06:00 UTC', -74.001065, 40.741787, -73.96304, 40.775012, '2012-03-29 19:00:00.000000', 4.889416888104309, 'Uber')  ... displaying 10 of 193512 total bound parameter sets ...  (199998, 14.5, '2015-05-20 14:56:25 UTC', -73.99712371826173, 40.7254524230957, -73.98321533203125, 40.69541549682617, '2015-05-20 15:00:00.000000', 3.5397154517444913, 'Uber'), (199999, 14.1, '2010-05-15 04:08:00 UTC', -73.98439499999999, 40.720077, -73.985508, 40.768793, '2010-05-15 04:00:00.000000', 5.417783481057187, 'Uber'))\n",
      "[sqlalchemy] COMMIT\n"
     ]
    },
    {
     "data": {
      "text/plain": [
       "193512"
      ]
     },
     "execution_count": 54,
     "metadata": {},
     "output_type": "execute_result"
    }
   ],
   "source": [
    "uberdf.to_sql(\"uber\",con=engine,if_exists='append')"
   ]
  },
  {
   "cell_type": "code",
   "execution_count": 55,
   "id": "2b145dbb",
   "metadata": {},
   "outputs": [
    {
     "name": "stdout",
     "output_type": "stream",
     "text": [
      "[sqlalchemy] PRAGMA main.table_info(\"yellow\")\n",
      "[sqlalchemy] [raw sql] ()\n",
      "[sqlalchemy] BEGIN (implicit)\n",
      "[sqlalchemy] INSERT INTO yellow (\"index\", \"Trip_Pickup_DateTime\", \"Start_Lon\", \"Start_Lat\", \"End_Lon\", \"End_Lat\", \"Tip_Amt\", \"Total_Amt\", \"Date\", \"Distance\", \"Type\") VALUES (?, ?, ?, ?, ?, ?, ?, ?, ?, ?, ?)\n",
      "[sqlalchemy] [generated in 1.46889s] ((0, '2009-01-13 07:54:28', -73.96156999999998, 40.768545, -73.96364199999998, 40.774218, 0.0, 4.9, '2009-01-13 08:00:00.000000', 0.654495481292893, 'Yellow'), (1, '2009-01-22 09:02:19', -73.914399, 40.746171, -73.816812, 40.703619, 0.0, 49.3, '2009-01-22 09:00:00.000000', 9.487618881241971, 'Yellow'), (2, '2009-01-23 23:52:45', -73.874395, 40.77401, -73.981739, 40.765671, 0.0, 29.95, '2009-01-24 00:00:00.000000', 9.087111076641122, 'Yellow'), (3, '2009-01-06 18:34:58', -73.957687, 40.765477, -73.977345, 40.729237, 1.0, 12.1, '2009-01-06 19:00:00.000000', 4.356703498069769, 'Yellow'), (4, '2009-01-02 09:52:00', -74.000105, 40.761962, -73.97110999999998, 40.759072, 2.0, 9.7, '2009-01-02 10:00:00.000000', 2.463129286514783, 'Yellow'), (5, '2009-01-08 08:35:00', -73.923145, 40.74386, -73.96824499999998, 40.7514, 2.0, 12.5, '2009-01-08 09:00:00.000000', 3.890651039766242, 'Yellow'), (6, '2009-01-31 05:49:00', -73.91029, 40.761565, -73.95053799999998, 40.777337, 0.0, 15.4, '2009-01-31 06:00:00.000000', 3.8162402191936495, 'Yellow'), (7, '2009-01-21 10:06:26', -74.010729, 40.714148, -74.010986, 40.714739, 4.87, 37.37, '2009-01-21 10:00:00.000000', 0.0691939293734059, 'Yellow')  ... displaying 10 of 226373 total bound parameter sets ...  (233998, '2015-06-05 23:37:25', -73.98947143554686, 40.75696563720703, -73.9832763671875, 40.77132415771485, 0.0, 7.8, '2015-06-06 00:00:00.000000', 1.6796822916581127, 'Yellow'), (233999, '2015-06-18 22:57:15', -73.99291229248048, 40.74864196777344, -73.94766235351561, 40.83001327514648, 4.96, 29.76, '2015-06-18 23:00:00.000000', 9.81732283412083, 'Yellow'))\n",
      "[sqlalchemy] COMMIT\n"
     ]
    },
    {
     "data": {
      "text/plain": [
       "226373"
      ]
     },
     "execution_count": 55,
     "metadata": {},
     "output_type": "execute_result"
    }
   ],
   "source": [
    "yellowdf.to_sql(\"yellow\",con=engine,if_exists='append')"
   ]
  },
  {
   "cell_type": "code",
   "execution_count": 56,
   "id": "5c9d5d44",
   "metadata": {},
   "outputs": [
    {
     "name": "stdout",
     "output_type": "stream",
     "text": [
      "[sqlalchemy] PRAGMA main.table_info(\"hourweather\")\n",
      "[sqlalchemy] [raw sql] ()\n",
      "[sqlalchemy] BEGIN (implicit)\n",
      "[sqlalchemy] INSERT INTO hourweather (\"DATE\", \"HourlyTemperature\", \"HourlyWindSpeed\", \"HourlyPrecipitation\") VALUES (?, ?, ?, ?)\n",
      "[sqlalchemy] [generated in 0.17443s] (('2009-01-01 01:00:00.000000', 18.0, 18.0, None), ('2009-01-01 02:00:00.000000', 18.0, 18.0, None), ('2009-01-01 03:00:00.000000', 18.0, 18.0, None), ('2009-01-01 04:00:00.000000', 18.0, 8.0, None), ('2009-01-01 05:00:00.000000', 18.0, 11.0, None), ('2009-01-01 06:00:00.000000', 16.0, 18.0, None), ('2009-01-01 07:00:00.000000', 16.0, 14.0, None), ('2009-01-01 08:00:00.000000', 16.0, 8.0, None)  ... displaying 10 of 56048 total bound parameter sets ...  ('2015-06-30 23:00:00.000000', 74.0, 6.0, 0.0), ('2015-07-01 00:00:00.000000', 73.0, 6.0, 0.04))\n",
      "[sqlalchemy] COMMIT\n"
     ]
    },
    {
     "data": {
      "text/plain": [
       "56048"
      ]
     },
     "execution_count": 56,
     "metadata": {},
     "output_type": "execute_result"
    }
   ],
   "source": [
    "hourdf.to_sql(\"hourweather\",con=engine,if_exists='append')"
   ]
  },
  {
   "cell_type": "code",
   "execution_count": 57,
   "id": "4c4babd9",
   "metadata": {},
   "outputs": [
    {
     "name": "stdout",
     "output_type": "stream",
     "text": [
      "[sqlalchemy] PRAGMA main.table_info(\"dayweather\")\n",
      "[sqlalchemy] [raw sql] ()\n",
      "[sqlalchemy] BEGIN (implicit)\n",
      "[sqlalchemy] INSERT INTO dayweather (\"DATE\", \"DailyTemperature\", \"DailyAvgWindSpeed\") VALUES (?, ?, ?)\n",
      "[sqlalchemy] [generated in 0.00594s] (('2009-01-01', 20.75, 11.041666666666666), ('2009-01-02', 31.322580645161292, 6.806451612903226), ('2009-01-03', 32.833333333333336, 9.875), ('2009-01-04', 33.888888888888886, 7.37037037037037), ('2009-01-05', 41.2962962962963, 6.925925925925926), ('2009-01-06', 32.62068965517241, 7.137931034482759), ('2009-01-07', 35.68421052631579, 9.842105263157896), ('2009-01-08', 34.80769230769231, 11.192307692307692)  ... displaying 10 of 2359 total bound parameter sets ...  ('2015-06-29', 70.68181818181819, 4.863636363636363), ('2015-06-30', 74.10714285714286, 5.25))\n",
      "[sqlalchemy] COMMIT\n"
     ]
    },
    {
     "data": {
      "text/plain": [
       "2359"
      ]
     },
     "execution_count": 57,
     "metadata": {},
     "output_type": "execute_result"
    }
   ],
   "source": [
    "daydf.to_sql(\"dayweather\",con=engine,if_exists='append')"
   ]
  },
  {
   "cell_type": "markdown",
   "id": "decfe91b",
   "metadata": {},
   "source": [
    "# Part 3 - SQL Queries - Understanding Data"
   ]
  },
  {
   "cell_type": "code",
   "execution_count": null,
   "id": "1a7b9e11",
   "metadata": {},
   "outputs": [],
   "source": []
  },
  {
   "cell_type": "markdown",
   "id": "dad93379",
   "metadata": {},
   "source": [
    "### 1.   For 01-2009 through 06-2015, what hour of the day was the most popular to take a Yellow Taxi? The result should have 24 bins."
   ]
  },
  {
   "cell_type": "code",
   "execution_count": 58,
   "id": "94b1e8d1",
   "metadata": {},
   "outputs": [],
   "source": [
    "query1='''\n",
    "SELECT COUNT(*) total_yellow_rides, strftime('%H', Date) hour\n",
    "FROM yellow\n",
    "GROUP BY hour\n",
    "ORDER BY COUNT(*) DESC'''"
   ]
  },
  {
   "cell_type": "code",
   "execution_count": 59,
   "id": "151ad469",
   "metadata": {},
   "outputs": [],
   "source": [
    "f = open(\"sql/query1.sql\", \"w\")\n",
    "f.write(query1)\n",
    "f.close()"
   ]
  },
  {
   "cell_type": "code",
   "execution_count": 60,
   "id": "c8790234",
   "metadata": {},
   "outputs": [],
   "source": [
    "# !sqlite3 $dbname < sql/q1.sql"
   ]
  },
  {
   "cell_type": "code",
   "execution_count": 61,
   "id": "10d89d35",
   "metadata": {},
   "outputs": [
    {
     "name": "stdout",
     "output_type": "stream",
     "text": [
      "[sqlalchemy] \n",
      "SELECT COUNT(*) total_yellow_rides, strftime('%H', Date) hour\n",
      "FROM yellow\n",
      "GROUP BY hour\n",
      "ORDER BY COUNT(*) DESC\n",
      "[sqlalchemy] [raw sql] ()\n"
     ]
    },
    {
     "data": {
      "text/plain": [
       "[(42855, '19'),\n",
       " (41802, '20'),\n",
       " (38952, '21'),\n",
       " (38235, '22'),\n",
       " (38037, '18'),\n",
       " (36177, '23'),\n",
       " (34026, '15'),\n",
       " (33669, '14'),\n",
       " (33501, '12'),\n",
       " (32469, '13'),\n",
       " (31590, '09'),\n",
       " (31089, '10'),\n",
       " (30579, '16'),\n",
       " (30558, '00'),\n",
       " (30351, '11'),\n",
       " (29379, '17'),\n",
       " (28431, '08'),\n",
       " (23235, '01'),\n",
       " (19626, '07'),\n",
       " (17295, '02'),\n",
       " (12573, '03'),\n",
       " (9963, '04'),\n",
       " (8841, '06'),\n",
       " (5886, '05')]"
      ]
     },
     "execution_count": 61,
     "metadata": {},
     "output_type": "execute_result"
    }
   ],
   "source": [
    "engine.execute(query1).fetchall()"
   ]
  },
  {
   "cell_type": "code",
   "execution_count": 62,
   "id": "5546ed98",
   "metadata": {},
   "outputs": [],
   "source": [
    "f = open(\"sql/query1.sql\", \"w\")\n",
    "f.write(query1)\n",
    "f.close()"
   ]
  },
  {
   "cell_type": "markdown",
   "id": "92f00b94",
   "metadata": {},
   "source": [
    "### 2. For the same time frame, what day of the week was the most popular to take an Uber? The result should have 7 bins."
   ]
  },
  {
   "cell_type": "code",
   "execution_count": 63,
   "id": "a7b1e499",
   "metadata": {},
   "outputs": [],
   "source": [
    "query2='''\n",
    "SELECT COUNT(*) Total_Uber_Rides, strftime('%w', Date) Day_of_Week\n",
    "FROM uber\n",
    "GROUP BY Day_of_Week\n",
    "ORDER BY COUNT(*) DESC'''"
   ]
  },
  {
   "cell_type": "code",
   "execution_count": 64,
   "id": "60526b1d",
   "metadata": {
    "scrolled": true
   },
   "outputs": [],
   "source": [
    "\n",
    "# !sqlite3 $dbname < sql/q2.sql"
   ]
  },
  {
   "cell_type": "code",
   "execution_count": 65,
   "id": "505ed8a1",
   "metadata": {},
   "outputs": [
    {
     "name": "stdout",
     "output_type": "stream",
     "text": [
      "[sqlalchemy] \n",
      "SELECT COUNT(*) Total_Uber_Rides, strftime('%w', Date) Day_of_Week\n",
      "FROM uber\n",
      "GROUP BY Day_of_Week\n",
      "ORDER BY COUNT(*) DESC\n",
      "[sqlalchemy] [raw sql] ()\n"
     ]
    },
    {
     "data": {
      "text/plain": [
       "[(89277, '5'),\n",
       " (87681, '6'),\n",
       " (86769, '4'),\n",
       " (84084, '3'),\n",
       " (81399, '2'),\n",
       " (78213, '0'),\n",
       " (73113, '1')]"
      ]
     },
     "execution_count": 65,
     "metadata": {},
     "output_type": "execute_result"
    }
   ],
   "source": [
    "#day of week 0-6 with Sunday==0\n",
    "engine.execute(query2).fetchall()"
   ]
  },
  {
   "cell_type": "code",
   "execution_count": 66,
   "id": "147d1ae9",
   "metadata": {},
   "outputs": [],
   "source": [
    "f = open(\"sql/query2.sql\", \"w\")\n",
    "f.write(query2)\n",
    "f.close()"
   ]
  },
  {
   "cell_type": "markdown",
   "id": "1b4bf161",
   "metadata": {},
   "source": [
    "### 3.What is the 95% percentile of distance traveled for all hired trips during July 2013?"
   ]
  },
  {
   "cell_type": "code",
   "execution_count": 67,
   "id": "94891d43",
   "metadata": {},
   "outputs": [],
   "source": [
    "query3='''\n",
    "WITH p AS (\n",
    "    SELECT Distance,\n",
    "           NTILE(100) OVER (ORDER BY Distance) AS percentile_bucket\n",
    "      FROM (\n",
    "               SELECT Distance\n",
    "                 FROM uber\n",
    "                WHERE Date >= '2013-07' AND \n",
    "                      Date <= '2013-08'\n",
    "               UNION ALL\n",
    "               SELECT Distance\n",
    "                 FROM yellow\n",
    "                WHERE Date >= '2013-07' AND \n",
    "                      Date <= '2013-08'\n",
    "           )\n",
    ")\n",
    "SELECT MAX(Distance) AS Distance\n",
    "  FROM p\n",
    " WHERE percentile_bucket = 95;'''"
   ]
  },
  {
   "cell_type": "code",
   "execution_count": 68,
   "id": "c6fd1af0",
   "metadata": {},
   "outputs": [],
   "source": [
    "# !sqlite3 $dbname < sql/q3.sql"
   ]
  },
  {
   "cell_type": "code",
   "execution_count": 69,
   "id": "c27a3d03",
   "metadata": {},
   "outputs": [
    {
     "name": "stdout",
     "output_type": "stream",
     "text": [
      "[sqlalchemy] \n",
      "WITH p AS (\n",
      "    SELECT Distance,\n",
      "           NTILE(100) OVER (ORDER BY Distance) AS percentile_bucket\n",
      "      FROM (\n",
      "               SELECT Distance\n",
      "                 FROM uber\n",
      "                WHERE Date >= '2013-07' AND \n",
      "                      Date <= '2013-08'\n",
      "               UNION ALL\n",
      "               SELECT Distance\n",
      "                 FROM yellow\n",
      "                WHERE Date >= '2013-07' AND \n",
      "                      Date <= '2013-08'\n",
      "           )\n",
      ")\n",
      "SELECT MAX(Distance) AS Distance\n",
      "  FROM p\n",
      " WHERE percentile_bucket = 95;\n",
      "[sqlalchemy] [raw sql] ()\n"
     ]
    },
    {
     "data": {
      "text/plain": [
       "[(10.179511923885926,)]"
      ]
     },
     "execution_count": 69,
     "metadata": {},
     "output_type": "execute_result"
    }
   ],
   "source": [
    "#Dividing the data in 20 buckets with each having 5 %ile \n",
    "#The 19th bucket will correspond to 95 %ile\n",
    "engine.execute(query3).fetchall()"
   ]
  },
  {
   "cell_type": "code",
   "execution_count": 70,
   "id": "8088b91b",
   "metadata": {},
   "outputs": [],
   "source": [
    "f = open(\"sql/query3.sql\", \"w\")\n",
    "f.write(query3)\n",
    "f.close()"
   ]
  },
  {
   "cell_type": "markdown",
   "id": "8d81a405",
   "metadata": {},
   "source": [
    "### 4.What were the top 10 days with the highest number of hired rides for 2009, and what was the average distance for each day?"
   ]
  },
  {
   "cell_type": "code",
   "execution_count": 71,
   "id": "bccb768e",
   "metadata": {},
   "outputs": [],
   "source": [
    "query4='''\n",
    "Select COUNT(Distance) Rides,AVG(Distance) Average_Distance,strftime('%Y-%m-%d', Date) Date\n",
    "from (SELECT Distance,Date FROM uber WHERE strftime('%Y', Date) IN('2009') UNION ALL \n",
    "SELECT Distance,Date FROM yellow WHERE strftime('%Y', Date) IN('2009')) \n",
    "GROUP BY strftime('%Y-%m-%d', Date) ORDER BY Rides DESC LIMIT 10\n",
    "'''"
   ]
  },
  {
   "cell_type": "code",
   "execution_count": 72,
   "id": "129b287c",
   "metadata": {
    "scrolled": true
   },
   "outputs": [],
   "source": [
    "# !sqlite3 $dbname < sql/q4.sql"
   ]
  },
  {
   "cell_type": "code",
   "execution_count": 73,
   "id": "cb6bd462",
   "metadata": {},
   "outputs": [
    {
     "name": "stdout",
     "output_type": "stream",
     "text": [
      "[sqlalchemy] \n",
      "Select COUNT(Distance) Rides,AVG(Distance) Average_Distance,strftime('%Y-%m-%d', Date) Date\n",
      "from (SELECT Distance,Date FROM uber WHERE strftime('%Y', Date) IN('2009') UNION ALL \n",
      "SELECT Distance,Date FROM yellow WHERE strftime('%Y', Date) IN('2009')) \n",
      "GROUP BY strftime('%Y-%m-%d', Date) ORDER BY Rides DESC LIMIT 10\n",
      "\n",
      "[sqlalchemy] [raw sql] ()\n"
     ]
    },
    {
     "data": {
      "text/plain": [
       "[(777, 3.360097368003685, '2009-12-11'),\n",
       " (696, 2.792622867915957, '2009-01-24'),\n",
       " (687, 3.0433766790373444, '2009-11-07'),\n",
       " (684, 2.6602590094018868, '2009-02-20'),\n",
       " (678, 2.4596836859930717, '2009-02-12'),\n",
       " (675, 3.416746570280423, '2009-11-06'),\n",
       " (669, 3.3236647207557315, '2009-09-12'),\n",
       " (666, 3.507321072353882, '2009-04-18'),\n",
       " (666, 2.9437161248518553, '2009-01-09'),\n",
       " (663, 3.410861255882798, '2009-07-09')]"
      ]
     },
     "execution_count": 73,
     "metadata": {},
     "output_type": "execute_result"
    }
   ],
   "source": [
    "engine.execute(query4).fetchall()"
   ]
  },
  {
   "cell_type": "code",
   "execution_count": 74,
   "id": "1dd8d94c",
   "metadata": {},
   "outputs": [],
   "source": [
    "f = open(\"sql/query4.sql\", \"w\")\n",
    "f.write(query4)\n",
    "f.close()"
   ]
  },
  {
   "cell_type": "code",
   "execution_count": null,
   "id": "3847108b",
   "metadata": {},
   "outputs": [],
   "source": []
  },
  {
   "cell_type": "markdown",
   "id": "022486b7",
   "metadata": {},
   "source": [
    "### 5. Which 10 days in 2014 were the windiest on average, and how many hired trips were made on those days?"
   ]
  },
  {
   "cell_type": "code",
   "execution_count": null,
   "id": "046c3019",
   "metadata": {},
   "outputs": [],
   "source": []
  },
  {
   "cell_type": "code",
   "execution_count": 75,
   "id": "d5075a8c",
   "metadata": {},
   "outputs": [],
   "source": [
    "query5='''\n",
    "SELECT COUNT(*) Number_of_Rides,Date as Windiest_Dates from (SELECT Distance,strftime('%Y-%m-%d', Date) Date from uber UNION ALL Select Distance,strftime('%Y-%m-%d', Date) Date from yellow) WHERE Date\n",
    "IN(SELECT strftime('%Y-%m-%d', Date) Day \n",
    "from dayweather ORDER BY DailyAvgWindSpeed DESC LIMIT 10) GROUP BY Date;\n",
    "'''"
   ]
  },
  {
   "cell_type": "code",
   "execution_count": 76,
   "id": "54b2c25c",
   "metadata": {
    "scrolled": true
   },
   "outputs": [],
   "source": [
    "# !sqlite3 $dbname < sql/q5.sql"
   ]
  },
  {
   "cell_type": "code",
   "execution_count": 77,
   "id": "f90ed20c",
   "metadata": {},
   "outputs": [
    {
     "name": "stdout",
     "output_type": "stream",
     "text": [
      "[sqlalchemy] \n",
      "SELECT COUNT(*) Number_of_Rides,Date as Windiest_Dates from (SELECT Distance,strftime('%Y-%m-%d', Date) Date from uber UNION ALL Select Distance,strftime('%Y-%m-%d', Date) Date from yellow) WHERE Date\n",
      "IN(SELECT strftime('%Y-%m-%d', Date) Day \n",
      "from dayweather ORDER BY DailyAvgWindSpeed DESC LIMIT 10) GROUP BY Date;\n",
      "\n",
      "[sqlalchemy] [raw sql] ()\n"
     ]
    },
    {
     "data": {
      "text/plain": [
       "[(762, '2010-03-13'),\n",
       " (72, '2010-12-27'),\n",
       " (132, '2012-10-29'),\n",
       " (474, '2012-12-26')]"
      ]
     },
     "execution_count": 77,
     "metadata": {},
     "output_type": "execute_result"
    }
   ],
   "source": [
    "engine.execute(query5).fetchall()"
   ]
  },
  {
   "cell_type": "code",
   "execution_count": 78,
   "id": "e67a2bc9",
   "metadata": {},
   "outputs": [],
   "source": [
    "f = open(\"sql/query5.sql\", \"w\")\n",
    "f.write(query5)\n",
    "f.close()"
   ]
  },
  {
   "cell_type": "markdown",
   "id": "9abfa5e7",
   "metadata": {},
   "source": [
    "### 6. During Hurricane Sandy in NYC (Oct 29-30, 2012), plus the week leading up and the week after, how many trips were taken each hour, and for each hour, how much precipitation did NYC receive and what was the sustained wind speed? There should be an entry for every single hour, even if no rides were taken, no precipitation was measured, or there was no wind."
   ]
  },
  {
   "cell_type": "markdown",
   "id": "562b9f85",
   "metadata": {},
   "source": [
    "- We use the VIEW HurricaneSandy3 we created earlier in the schema.sql which was as below\n",
    "\n",
    "``` mysql\n",
    "CREATE VIEW IF NOT EXISTS HurricaneSandy3 AS\n",
    "    SELECT Date,\n",
    "           Count( * ) Number_of_Rides\n",
    "      FROM (\n",
    "               SELECT Date,\n",
    "                      Distance\n",
    "                 FROM (\n",
    "                          SELECT Date,\n",
    "                                 Distance\n",
    "                            FROM uber\n",
    "                          UNION ALL\n",
    "                          SELECT Date,\n",
    "                                 Distance\n",
    "                            FROM yellow\n",
    "                      )\n",
    "                WHERE Date >= '2012-10-21' AND \n",
    "                      Date <= '2012-11-03'\n",
    "           )\n",
    "     GROUP BY Date;\n",
    "```"
   ]
  },
  {
   "cell_type": "code",
   "execution_count": 79,
   "id": "ac8c5f7e",
   "metadata": {},
   "outputs": [],
   "source": [
    "query6='''\n",
    "SELECT strftime('%Y-%m-%d Hour %H', HurricaneSandy3.Date) Date_Hour,\n",
    "       Number_of_Rides,\n",
    "       hourweather.HourlyWindSpeed AS Sustained_Wind_Speed,\n",
    "       hourweather.HourlyPrecipitation AS Hourly_Precipitation\n",
    "  FROM HurricaneSandy3\n",
    "       LEFT JOIN\n",
    "       hourweather ON hourweather.DATE = HurricaneSandy3.Date;\n",
    "'''"
   ]
  },
  {
   "cell_type": "code",
   "execution_count": 80,
   "id": "4b8a4d53",
   "metadata": {},
   "outputs": [
    {
     "name": "stdout",
     "output_type": "stream",
     "text": [
      "[sqlalchemy] \n",
      "SELECT strftime('%Y-%m-%d Hour %H', HurricaneSandy3.Date) Date_Hour,\n",
      "       Number_of_Rides,\n",
      "       hourweather.HourlyWindSpeed AS Sustained_Wind_Speed,\n",
      "       hourweather.HourlyPrecipitation AS Hourly_Precipitation\n",
      "  FROM HurricaneSandy3\n",
      "       LEFT JOIN\n",
      "       hourweather ON hourweather.DATE = HurricaneSandy3.Date;\n",
      "\n",
      "[sqlalchemy] [raw sql] ()\n"
     ]
    },
    {
     "data": {
      "text/plain": [
       "[('2012-10-21 Hour 00', 39, None, 0.0),\n",
       " ('2012-10-21 Hour 00', 39, None, 0.0),\n",
       " ('2012-10-21 Hour 00', 39, None, 0.0),\n",
       " ('2012-10-21 Hour 01', 51, 5.0, 0.0),\n",
       " ('2012-10-21 Hour 01', 51, 5.0, 0.0),\n",
       " ('2012-10-21 Hour 01', 51, 5.0, 0.0),\n",
       " ('2012-10-21 Hour 02', 42, 6.0, 0.0),\n",
       " ('2012-10-21 Hour 02', 42, 6.0, 0.0),\n",
       " ('2012-10-21 Hour 02', 42, 6.0, 0.0),\n",
       " ('2012-10-21 Hour 03', 21, 6.0, 0.0),\n",
       " ('2012-10-21 Hour 03', 21, 6.0, 0.0),\n",
       " ('2012-10-21 Hour 03', 21, 6.0, 0.0),\n",
       " ('2012-10-21 Hour 04', 15, 6.0, 0.0),\n",
       " ('2012-10-21 Hour 04', 15, 6.0, 0.0),\n",
       " ('2012-10-21 Hour 04', 15, 6.0, 0.0),\n",
       " ('2012-10-21 Hour 05', 6, 6.0, 0.0),\n",
       " ('2012-10-21 Hour 05', 6, 6.0, 0.0),\n",
       " ('2012-10-21 Hour 05', 6, 6.0, 0.0),\n",
       " ('2012-10-21 Hour 06', 3, 6.0, 0.0),\n",
       " ('2012-10-21 Hour 06', 3, 6.0, 0.0),\n",
       " ('2012-10-21 Hour 06', 3, 6.0, 0.0),\n",
       " ('2012-10-21 Hour 07', 9, 0.0, 0.0),\n",
       " ('2012-10-21 Hour 07', 9, 0.0, 0.0),\n",
       " ('2012-10-21 Hour 07', 9, 0.0, 0.0),\n",
       " ('2012-10-21 Hour 08', 6, 5.0, 0.0),\n",
       " ('2012-10-21 Hour 08', 6, 5.0, 0.0),\n",
       " ('2012-10-21 Hour 08', 6, 5.0, 0.0),\n",
       " ('2012-10-21 Hour 09', 12, 8.0, 0.0),\n",
       " ('2012-10-21 Hour 09', 12, 8.0, 0.0),\n",
       " ('2012-10-21 Hour 09', 12, 8.0, 0.0),\n",
       " ('2012-10-21 Hour 10', 9, 8.0, 0.0),\n",
       " ('2012-10-21 Hour 10', 9, 8.0, 0.0),\n",
       " ('2012-10-21 Hour 10', 9, 8.0, 0.0),\n",
       " ('2012-10-21 Hour 11', 39, 8.0, 0.0),\n",
       " ('2012-10-21 Hour 11', 39, 8.0, 0.0),\n",
       " ('2012-10-21 Hour 11', 39, 8.0, 0.0),\n",
       " ('2012-10-21 Hour 12', 24, 9.0, 0.0),\n",
       " ('2012-10-21 Hour 12', 24, 9.0, 0.0),\n",
       " ('2012-10-21 Hour 12', 24, 9.0, 0.0),\n",
       " ('2012-10-21 Hour 13', 30, None, 0.0),\n",
       " ('2012-10-21 Hour 13', 30, None, 0.0),\n",
       " ('2012-10-21 Hour 13', 30, None, 0.0),\n",
       " ('2012-10-21 Hour 14', 33, 5.0, 0.0),\n",
       " ('2012-10-21 Hour 14', 33, 5.0, 0.0),\n",
       " ('2012-10-21 Hour 14', 33, 5.0, 0.0),\n",
       " ('2012-10-21 Hour 15', 30, 9.0, 0.0),\n",
       " ('2012-10-21 Hour 15', 30, 9.0, 0.0),\n",
       " ('2012-10-21 Hour 15', 30, 9.0, 0.0),\n",
       " ('2012-10-21 Hour 16', 33, 5.0, 0.0),\n",
       " ('2012-10-21 Hour 16', 33, 5.0, 0.0),\n",
       " ('2012-10-21 Hour 16', 33, 5.0, 0.0),\n",
       " ('2012-10-21 Hour 17', 21, None, 0.0),\n",
       " ('2012-10-21 Hour 17', 21, None, 0.0),\n",
       " ('2012-10-21 Hour 17', 21, None, 0.0),\n",
       " ('2012-10-21 Hour 18', 33, 3.0, 0.0),\n",
       " ('2012-10-21 Hour 18', 33, 3.0, 0.0),\n",
       " ('2012-10-21 Hour 18', 33, 3.0, 0.0),\n",
       " ('2012-10-21 Hour 19', 36, 7.0, 0.0),\n",
       " ('2012-10-21 Hour 19', 36, 7.0, 0.0),\n",
       " ('2012-10-21 Hour 19', 36, 7.0, 0.0),\n",
       " ('2012-10-21 Hour 20', 30, 5.0, 0.0),\n",
       " ('2012-10-21 Hour 20', 30, 5.0, 0.0),\n",
       " ('2012-10-21 Hour 20', 30, 5.0, 0.0),\n",
       " ('2012-10-21 Hour 21', 18, 7.0, 0.0),\n",
       " ('2012-10-21 Hour 21', 18, 7.0, 0.0),\n",
       " ('2012-10-21 Hour 21', 18, 7.0, 0.0),\n",
       " ('2012-10-21 Hour 22', 15, 9.0, 0.0),\n",
       " ('2012-10-21 Hour 22', 15, 9.0, 0.0),\n",
       " ('2012-10-21 Hour 22', 15, 9.0, 0.0),\n",
       " ('2012-10-21 Hour 23', 12, 5.0, 0.0),\n",
       " ('2012-10-21 Hour 23', 12, 5.0, 0.0),\n",
       " ('2012-10-21 Hour 23', 12, 5.0, 0.0),\n",
       " ('2012-10-22 Hour 00', 12, 5.0, 0.0),\n",
       " ('2012-10-22 Hour 00', 12, 5.0, 0.0),\n",
       " ('2012-10-22 Hour 00', 12, 5.0, 0.0),\n",
       " ('2012-10-22 Hour 01', 3, 7.0, 0.0),\n",
       " ('2012-10-22 Hour 01', 3, 7.0, 0.0),\n",
       " ('2012-10-22 Hour 01', 3, 7.0, 0.0),\n",
       " ('2012-10-22 Hour 02', 6, 5.0, 0.0),\n",
       " ('2012-10-22 Hour 02', 6, 5.0, 0.0),\n",
       " ('2012-10-22 Hour 02', 6, 5.0, 0.0),\n",
       " ('2012-10-22 Hour 03', 6, 7.0, 0.0),\n",
       " ('2012-10-22 Hour 03', 6, 7.0, 0.0),\n",
       " ('2012-10-22 Hour 03', 6, 7.0, 0.0),\n",
       " ('2012-10-22 Hour 04', 6, 0.0, 0.0),\n",
       " ('2012-10-22 Hour 04', 6, 0.0, 0.0),\n",
       " ('2012-10-22 Hour 04', 6, 0.0, 0.0),\n",
       " ('2012-10-22 Hour 05', 3, 0.0, 0.0),\n",
       " ('2012-10-22 Hour 05', 3, 0.0, 0.0),\n",
       " ('2012-10-22 Hour 05', 3, 0.0, 0.0),\n",
       " ('2012-10-22 Hour 06', 9, 0.0, 0.0),\n",
       " ('2012-10-22 Hour 06', 9, 0.0, 0.0),\n",
       " ('2012-10-22 Hour 06', 9, 0.0, 0.0),\n",
       " ('2012-10-22 Hour 07', 21, 5.0, 0.0),\n",
       " ('2012-10-22 Hour 07', 21, 5.0, 0.0),\n",
       " ('2012-10-22 Hour 07', 21, 5.0, 0.0),\n",
       " ('2012-10-22 Hour 08', 27, 3.0, 0.0),\n",
       " ('2012-10-22 Hour 08', 27, 3.0, 0.0),\n",
       " ('2012-10-22 Hour 08', 27, 3.0, 0.0),\n",
       " ('2012-10-22 Hour 09', 21, 3.0, 0.0),\n",
       " ('2012-10-22 Hour 09', 21, 3.0, 0.0),\n",
       " ('2012-10-22 Hour 09', 21, 3.0, 0.0),\n",
       " ('2012-10-22 Hour 10', 12, 5.0, 0.0),\n",
       " ('2012-10-22 Hour 10', 12, 5.0, 0.0),\n",
       " ('2012-10-22 Hour 10', 12, 5.0, 0.0),\n",
       " ('2012-10-22 Hour 11', 15, None, 0.0),\n",
       " ('2012-10-22 Hour 11', 15, None, 0.0),\n",
       " ('2012-10-22 Hour 11', 15, None, 0.0),\n",
       " ('2012-10-22 Hour 12', 36, None, 0.0),\n",
       " ('2012-10-22 Hour 12', 36, None, 0.0),\n",
       " ('2012-10-22 Hour 12', 36, None, 0.0),\n",
       " ('2012-10-22 Hour 13', 21, 11.0, 0.0),\n",
       " ('2012-10-22 Hour 13', 21, 11.0, 0.0),\n",
       " ('2012-10-22 Hour 13', 21, 11.0, 0.0),\n",
       " ('2012-10-22 Hour 14', 36, None, 0.0),\n",
       " ('2012-10-22 Hour 14', 36, None, 0.0),\n",
       " ('2012-10-22 Hour 14', 36, None, 0.0),\n",
       " ('2012-10-22 Hour 15', 21, 7.0, 0.0),\n",
       " ('2012-10-22 Hour 15', 21, 7.0, 0.0),\n",
       " ('2012-10-22 Hour 15', 21, 7.0, 0.0),\n",
       " ('2012-10-22 Hour 16', 21, 6.0, 0.0),\n",
       " ('2012-10-22 Hour 16', 21, 6.0, 0.0),\n",
       " ('2012-10-22 Hour 16', 21, 6.0, 0.0),\n",
       " ('2012-10-22 Hour 17', 21, 3.0, 0.0),\n",
       " ('2012-10-22 Hour 17', 21, 3.0, 0.0),\n",
       " ('2012-10-22 Hour 17', 21, 3.0, 0.0),\n",
       " ('2012-10-22 Hour 18', 42, 7.0, 0.0),\n",
       " ('2012-10-22 Hour 18', 42, 7.0, 0.0),\n",
       " ('2012-10-22 Hour 18', 42, 7.0, 0.0),\n",
       " ('2012-10-22 Hour 19', 30, 5.0, 0.0),\n",
       " ('2012-10-22 Hour 19', 30, 5.0, 0.0),\n",
       " ('2012-10-22 Hour 19', 30, 5.0, 0.0),\n",
       " ('2012-10-22 Hour 20', 18, 5.0, 0.0),\n",
       " ('2012-10-22 Hour 20', 18, 5.0, 0.0),\n",
       " ('2012-10-22 Hour 20', 18, 5.0, 0.0),\n",
       " ('2012-10-22 Hour 21', 30, 3.0, 0.0),\n",
       " ('2012-10-22 Hour 21', 30, 3.0, 0.0),\n",
       " ('2012-10-22 Hour 21', 30, 3.0, 0.0),\n",
       " ('2012-10-22 Hour 22', 27, 0.0, 0.0),\n",
       " ('2012-10-22 Hour 22', 27, 0.0, 0.0),\n",
       " ('2012-10-22 Hour 22', 27, 0.0, 0.0),\n",
       " ('2012-10-22 Hour 23', 12, 3.0, 0.0),\n",
       " ('2012-10-22 Hour 23', 12, 3.0, 0.0),\n",
       " ('2012-10-22 Hour 23', 12, 3.0, 0.0),\n",
       " ('2012-10-23 Hour 00', 12, 3.0, 0.0),\n",
       " ('2012-10-23 Hour 00', 12, 3.0, 0.0),\n",
       " ('2012-10-23 Hour 00', 12, 3.0, 0.0),\n",
       " ('2012-10-23 Hour 01', 3, 3.0, None),\n",
       " ('2012-10-23 Hour 01', 3, 3.0, None),\n",
       " ('2012-10-23 Hour 01', 3, 3.0, None),\n",
       " ('2012-10-23 Hour 02', 3, 0.0, None),\n",
       " ('2012-10-23 Hour 02', 3, 0.0, None),\n",
       " ('2012-10-23 Hour 02', 3, 0.0, None),\n",
       " ('2012-10-23 Hour 03', 3, 3.0, None),\n",
       " ('2012-10-23 Hour 03', 3, 3.0, None),\n",
       " ('2012-10-23 Hour 03', 3, 3.0, None),\n",
       " ('2012-10-23 Hour 05', 3, 3.0, None),\n",
       " ('2012-10-23 Hour 05', 3, 3.0, None),\n",
       " ('2012-10-23 Hour 05', 3, 3.0, None),\n",
       " ('2012-10-23 Hour 06', 18, 0.0, None),\n",
       " ('2012-10-23 Hour 06', 18, 0.0, None),\n",
       " ('2012-10-23 Hour 06', 18, 0.0, None),\n",
       " ('2012-10-23 Hour 07', 24, 0.0, None),\n",
       " ('2012-10-23 Hour 07', 24, 0.0, None),\n",
       " ('2012-10-23 Hour 07', 24, 0.0, None),\n",
       " ('2012-10-23 Hour 08', 66, 0.0, None),\n",
       " ('2012-10-23 Hour 08', 66, 0.0, None),\n",
       " ('2012-10-23 Hour 08', 66, 0.0, None),\n",
       " ('2012-10-23 Hour 09', 30, 0.0, None),\n",
       " ('2012-10-23 Hour 09', 30, 0.0, None),\n",
       " ('2012-10-23 Hour 09', 30, 0.0, None),\n",
       " ('2012-10-23 Hour 10', 24, 3.0, None),\n",
       " ('2012-10-23 Hour 10', 24, 3.0, None),\n",
       " ('2012-10-23 Hour 10', 24, 3.0, None),\n",
       " ('2012-10-23 Hour 11', 42, 0.0, None),\n",
       " ('2012-10-23 Hour 11', 42, 0.0, None),\n",
       " ('2012-10-23 Hour 11', 42, 0.0, None),\n",
       " ('2012-10-23 Hour 12', 45, 3.0, None),\n",
       " ('2012-10-23 Hour 12', 45, 3.0, None),\n",
       " ('2012-10-23 Hour 12', 45, 3.0, None),\n",
       " ('2012-10-23 Hour 13', 18, 0.0, None),\n",
       " ('2012-10-23 Hour 13', 18, 0.0, None),\n",
       " ('2012-10-23 Hour 13', 18, 0.0, None),\n",
       " ('2012-10-23 Hour 14', 45, None, None),\n",
       " ('2012-10-23 Hour 14', 45, None, None),\n",
       " ('2012-10-23 Hour 14', 45, None, None),\n",
       " ('2012-10-23 Hour 15', 33, None, None),\n",
       " ('2012-10-23 Hour 15', 33, None, None),\n",
       " ('2012-10-23 Hour 15', 33, None, None),\n",
       " ('2012-10-23 Hour 16', 36, None, None),\n",
       " ('2012-10-23 Hour 16', 36, None, None),\n",
       " ('2012-10-23 Hour 16', 36, None, None),\n",
       " ('2012-10-23 Hour 17', 24, 3.0, None),\n",
       " ('2012-10-23 Hour 17', 24, 3.0, None),\n",
       " ('2012-10-23 Hour 17', 24, 3.0, None),\n",
       " ('2012-10-23 Hour 18', 45, None, None),\n",
       " ('2012-10-23 Hour 19', 33, 5.0, None),\n",
       " ('2012-10-23 Hour 19', 33, 5.0, None),\n",
       " ('2012-10-23 Hour 19', 33, 5.0, None),\n",
       " ('2012-10-23 Hour 20', 33, 0.0, None),\n",
       " ('2012-10-23 Hour 20', 33, 0.0, None),\n",
       " ('2012-10-23 Hour 20', 33, 0.0, None),\n",
       " ('2012-10-23 Hour 21', 45, 0.0, 0.02),\n",
       " ('2012-10-23 Hour 21', 45, 0.0, 0.02),\n",
       " ('2012-10-23 Hour 21', 45, 0.0, 0.02),\n",
       " ('2012-10-23 Hour 22', 30, 5.0, None),\n",
       " ('2012-10-23 Hour 22', 30, 5.0, None),\n",
       " ('2012-10-23 Hour 22', 30, 5.0, None),\n",
       " ('2012-10-23 Hour 23', 30, 0.0, 0.01),\n",
       " ('2012-10-23 Hour 23', 30, 0.0, 0.01),\n",
       " ('2012-10-23 Hour 23', 30, 0.0, 0.01),\n",
       " ('2012-10-24 Hour 00', 6, 5.0, None),\n",
       " ('2012-10-24 Hour 00', 6, 5.0, None),\n",
       " ('2012-10-24 Hour 00', 6, 5.0, None),\n",
       " ('2012-10-24 Hour 01', 3, 3.0, 0.0),\n",
       " ('2012-10-24 Hour 01', 3, 3.0, 0.0),\n",
       " ('2012-10-24 Hour 01', 3, 3.0, 0.0),\n",
       " ('2012-10-24 Hour 02', 6, 5.333333333333333, 0.0),\n",
       " ('2012-10-24 Hour 02', 6, 5.333333333333333, 0.0),\n",
       " ('2012-10-24 Hour 02', 6, 5.333333333333333, 0.0),\n",
       " ('2012-10-24 Hour 03', 12, 6.0, 0.0),\n",
       " ('2012-10-24 Hour 03', 12, 6.0, 0.0),\n",
       " ('2012-10-24 Hour 03', 12, 6.0, 0.0),\n",
       " ('2012-10-24 Hour 04', 3, 7.0, 0.0),\n",
       " ('2012-10-24 Hour 04', 3, 7.0, 0.0),\n",
       " ('2012-10-24 Hour 04', 3, 7.0, 0.0),\n",
       " ('2012-10-24 Hour 05', 6, 7.0, 0.0),\n",
       " ('2012-10-24 Hour 05', 6, 7.0, 0.0),\n",
       " ('2012-10-24 Hour 05', 6, 7.0, 0.0),\n",
       " ('2012-10-24 Hour 06', 3, 6.0, 0.0),\n",
       " ('2012-10-24 Hour 06', 3, 6.0, 0.0),\n",
       " ('2012-10-24 Hour 06', 3, 6.0, 0.0),\n",
       " ('2012-10-24 Hour 07', 12, 4.333333333333333, 0.0),\n",
       " ('2012-10-24 Hour 07', 12, 4.333333333333333, 0.0),\n",
       " ('2012-10-24 Hour 07', 12, 4.333333333333333, 0.0),\n",
       " ('2012-10-24 Hour 08', 15, 0.0, None),\n",
       " ('2012-10-24 Hour 08', 15, 0.0, None),\n",
       " ('2012-10-24 Hour 08', 15, 0.0, None),\n",
       " ('2012-10-24 Hour 09', 15, 0.0, None),\n",
       " ('2012-10-24 Hour 09', 15, 0.0, None),\n",
       " ('2012-10-24 Hour 09', 15, 0.0, None),\n",
       " ('2012-10-24 Hour 10', 33, 3.0, None),\n",
       " ('2012-10-24 Hour 10', 33, 3.0, None),\n",
       " ('2012-10-24 Hour 10', 33, 3.0, None),\n",
       " ('2012-10-24 Hour 11', 18, 7.0, 0.0),\n",
       " ('2012-10-24 Hour 11', 18, 7.0, 0.0),\n",
       " ('2012-10-24 Hour 11', 18, 7.0, 0.0),\n",
       " ('2012-10-24 Hour 12', 24, 7.5, 0.0),\n",
       " ('2012-10-24 Hour 12', 24, 7.5, 0.0),\n",
       " ('2012-10-24 Hour 12', 24, 7.5, 0.0),\n",
       " ('2012-10-24 Hour 13', 39, 7.0, None),\n",
       " ('2012-10-24 Hour 13', 39, 7.0, None),\n",
       " ('2012-10-24 Hour 13', 39, 7.0, None),\n",
       " ('2012-10-24 Hour 14', 21, 7.0, 0.0),\n",
       " ('2012-10-24 Hour 14', 21, 7.0, 0.0),\n",
       " ('2012-10-24 Hour 14', 21, 7.0, 0.0),\n",
       " ('2012-10-24 Hour 15', 12, 7.0, 0.0),\n",
       " ('2012-10-24 Hour 15', 12, 7.0, 0.0),\n",
       " ('2012-10-24 Hour 15', 12, 7.0, 0.0),\n",
       " ('2012-10-24 Hour 16', 18, 7.0, 0.0),\n",
       " ('2012-10-24 Hour 16', 18, 7.0, 0.0),\n",
       " ('2012-10-24 Hour 16', 18, 7.0, 0.0),\n",
       " ('2012-10-24 Hour 17', 24, 8.0, 0.0),\n",
       " ('2012-10-24 Hour 17', 24, 8.0, 0.0),\n",
       " ('2012-10-24 Hour 17', 24, 8.0, 0.0),\n",
       " ('2012-10-24 Hour 18', 39, 5.0, 0.0),\n",
       " ('2012-10-24 Hour 18', 39, 5.0, 0.0),\n",
       " ('2012-10-24 Hour 18', 39, 5.0, 0.0),\n",
       " ('2012-10-24 Hour 19', 30, 7.0, 0.0),\n",
       " ('2012-10-24 Hour 19', 30, 7.0, 0.0),\n",
       " ('2012-10-24 Hour 19', 30, 7.0, 0.0),\n",
       " ('2012-10-24 Hour 20', 60, 8.0, 0.0),\n",
       " ('2012-10-24 Hour 20', 60, 8.0, 0.0),\n",
       " ('2012-10-24 Hour 20', 60, 8.0, 0.0),\n",
       " ('2012-10-24 Hour 21', 45, 1.5, 0.0),\n",
       " ('2012-10-24 Hour 21', 45, 1.5, 0.0),\n",
       " ('2012-10-24 Hour 21', 45, 1.5, 0.0),\n",
       " ('2012-10-24 Hour 22', 27, 4.333333333333333, 0.0),\n",
       " ('2012-10-24 Hour 22', 27, 4.333333333333333, 0.0),\n",
       " ('2012-10-24 Hour 22', 27, 4.333333333333333, 0.0),\n",
       " ('2012-10-24 Hour 23', 30, 6.0, 0.0),\n",
       " ('2012-10-24 Hour 23', 30, 6.0, 0.0),\n",
       " ('2012-10-24 Hour 23', 30, 6.0, 0.0),\n",
       " ('2012-10-25 Hour 00', 36, 3.0, 0.0),\n",
       " ('2012-10-25 Hour 00', 36, 3.0, 0.0),\n",
       " ('2012-10-25 Hour 00', 36, 3.0, 0.0),\n",
       " ('2012-10-25 Hour 01', 21, 3.0, 0.0),\n",
       " ('2012-10-25 Hour 01', 21, 3.0, 0.0),\n",
       " ('2012-10-25 Hour 01', 21, 3.0, 0.0),\n",
       " ('2012-10-25 Hour 02', 9, 3.0, 0.0),\n",
       " ('2012-10-25 Hour 02', 9, 3.0, 0.0),\n",
       " ('2012-10-25 Hour 02', 9, 3.0, 0.0),\n",
       " ('2012-10-25 Hour 04', 6, 7.0, 0.0),\n",
       " ('2012-10-25 Hour 04', 6, 7.0, 0.0),\n",
       " ('2012-10-25 Hour 04', 6, 7.0, 0.0),\n",
       " ('2012-10-25 Hour 05', 6, 6.0, 0.0),\n",
       " ('2012-10-25 Hour 05', 6, 6.0, 0.0),\n",
       " ('2012-10-25 Hour 05', 6, 6.0, 0.0),\n",
       " ('2012-10-25 Hour 06', 9, 0.0, 0.0),\n",
       " ('2012-10-25 Hour 06', 9, 0.0, 0.0),\n",
       " ('2012-10-25 Hour 06', 9, 0.0, 0.0),\n",
       " ('2012-10-25 Hour 07', 12, 5.0, 0.0),\n",
       " ('2012-10-25 Hour 07', 12, 5.0, 0.0),\n",
       " ('2012-10-25 Hour 07', 12, 5.0, 0.0),\n",
       " ('2012-10-25 Hour 08', 36, 6.0, 0.0),\n",
       " ('2012-10-25 Hour 08', 36, 6.0, 0.0),\n",
       " ('2012-10-25 Hour 08', 36, 6.0, 0.0),\n",
       " ('2012-10-25 Hour 09', 30, 5.0, 0.0),\n",
       " ('2012-10-25 Hour 09', 30, 5.0, 0.0),\n",
       " ('2012-10-25 Hour 09', 30, 5.0, 0.0),\n",
       " ('2012-10-25 Hour 10', 21, 3.0, 0.0),\n",
       " ('2012-10-25 Hour 10', 21, 3.0, 0.0),\n",
       " ('2012-10-25 Hour 10', 21, 3.0, 0.0),\n",
       " ('2012-10-25 Hour 11', 36, 6.0, 0.0),\n",
       " ('2012-10-25 Hour 11', 36, 6.0, 0.0),\n",
       " ('2012-10-25 Hour 11', 36, 6.0, 0.0),\n",
       " ('2012-10-25 Hour 12', 45, 0.0, 0.0),\n",
       " ('2012-10-25 Hour 12', 45, 0.0, 0.0),\n",
       " ('2012-10-25 Hour 12', 45, 0.0, 0.0),\n",
       " ('2012-10-25 Hour 13', 15, 6.0, 0.0),\n",
       " ('2012-10-25 Hour 13', 15, 6.0, 0.0),\n",
       " ('2012-10-25 Hour 13', 15, 6.0, 0.0),\n",
       " ('2012-10-25 Hour 14', 45, 0.0, 0.0),\n",
       " ('2012-10-25 Hour 14', 45, 0.0, 0.0),\n",
       " ('2012-10-25 Hour 14', 45, 0.0, 0.0),\n",
       " ('2012-10-25 Hour 15', 12, 5.0, 0.0),\n",
       " ('2012-10-25 Hour 15', 12, 5.0, 0.0),\n",
       " ('2012-10-25 Hour 15', 12, 5.0, 0.0),\n",
       " ('2012-10-25 Hour 16', 12, 5.0, 0.0),\n",
       " ('2012-10-25 Hour 16', 12, 5.0, 0.0),\n",
       " ('2012-10-25 Hour 16', 12, 5.0, 0.0),\n",
       " ('2012-10-25 Hour 17', 12, 0.0, 0.0),\n",
       " ('2012-10-25 Hour 17', 12, 0.0, 0.0),\n",
       " ('2012-10-25 Hour 17', 12, 0.0, 0.0),\n",
       " ('2012-10-25 Hour 18', 27, 3.0, 0.0),\n",
       " ('2012-10-25 Hour 18', 27, 3.0, 0.0),\n",
       " ('2012-10-25 Hour 18', 27, 3.0, 0.0),\n",
       " ('2012-10-25 Hour 19', 30, 0.0, 0.0),\n",
       " ('2012-10-25 Hour 19', 30, 0.0, 0.0),\n",
       " ('2012-10-25 Hour 19', 30, 0.0, 0.0),\n",
       " ('2012-10-25 Hour 20', 60, 0.0, 0.0),\n",
       " ('2012-10-25 Hour 20', 60, 0.0, 0.0),\n",
       " ('2012-10-25 Hour 20', 60, 0.0, 0.0),\n",
       " ('2012-10-25 Hour 21', 39, 3.0, 0.0),\n",
       " ('2012-10-25 Hour 21', 39, 3.0, 0.0),\n",
       " ('2012-10-25 Hour 21', 39, 3.0, 0.0),\n",
       " ('2012-10-25 Hour 22', 42, 3.0, 0.0),\n",
       " ('2012-10-25 Hour 22', 42, 3.0, 0.0),\n",
       " ('2012-10-25 Hour 22', 42, 3.0, 0.0),\n",
       " ('2012-10-25 Hour 23', 27, 3.0, 0.0),\n",
       " ('2012-10-25 Hour 23', 27, 3.0, 0.0),\n",
       " ('2012-10-25 Hour 23', 27, 3.0, 0.0),\n",
       " ('2012-10-26 Hour 00', 18, 0.0, 0.0),\n",
       " ('2012-10-26 Hour 00', 18, 0.0, 0.0),\n",
       " ('2012-10-26 Hour 00', 18, 0.0, 0.0),\n",
       " ('2012-10-26 Hour 01', 12, 4.0, 0.0),\n",
       " ('2012-10-26 Hour 01', 12, 4.0, 0.0),\n",
       " ('2012-10-26 Hour 01', 12, 4.0, 0.0),\n",
       " ('2012-10-26 Hour 02', 18, 0.0, 0.0),\n",
       " ('2012-10-26 Hour 02', 18, 0.0, 0.0),\n",
       " ('2012-10-26 Hour 02', 18, 0.0, 0.0),\n",
       " ('2012-10-26 Hour 03', 15, 0.0, 0.0),\n",
       " ('2012-10-26 Hour 03', 15, 0.0, 0.0),\n",
       " ('2012-10-26 Hour 03', 15, 0.0, 0.0),\n",
       " ('2012-10-26 Hour 04', 9, 3.0, 0.0),\n",
       " ('2012-10-26 Hour 04', 9, 3.0, 0.0),\n",
       " ('2012-10-26 Hour 04', 9, 3.0, 0.0),\n",
       " ('2012-10-26 Hour 05', 6, 0.0, 0.0),\n",
       " ('2012-10-26 Hour 05', 6, 0.0, 0.0),\n",
       " ('2012-10-26 Hour 05', 6, 0.0, 0.0),\n",
       " ('2012-10-26 Hour 07', 18, 0.0, 0.0),\n",
       " ('2012-10-26 Hour 07', 18, 0.0, 0.0),\n",
       " ('2012-10-26 Hour 07', 18, 0.0, 0.0),\n",
       " ('2012-10-26 Hour 08', 21, 3.0, 0.0),\n",
       " ('2012-10-26 Hour 08', 21, 3.0, 0.0),\n",
       " ('2012-10-26 Hour 08', 21, 3.0, 0.0),\n",
       " ('2012-10-26 Hour 09', 21, 3.0, 0.0),\n",
       " ('2012-10-26 Hour 09', 21, 3.0, 0.0),\n",
       " ('2012-10-26 Hour 09', 21, 3.0, 0.0),\n",
       " ('2012-10-26 Hour 10', 24, 3.0, 0.0),\n",
       " ('2012-10-26 Hour 10', 24, 3.0, 0.0),\n",
       " ('2012-10-26 Hour 10', 24, 3.0, 0.0),\n",
       " ('2012-10-26 Hour 11', 30, 3.0, 0.0),\n",
       " ('2012-10-26 Hour 11', 30, 3.0, 0.0),\n",
       " ('2012-10-26 Hour 11', 30, 3.0, 0.0),\n",
       " ('2012-10-26 Hour 12', 21, 3.0, 0.0),\n",
       " ('2012-10-26 Hour 12', 21, 3.0, 0.0),\n",
       " ('2012-10-26 Hour 12', 21, 3.0, 0.0),\n",
       " ('2012-10-26 Hour 13', 27, 0.0, 0.0),\n",
       " ('2012-10-26 Hour 13', 27, 0.0, 0.0),\n",
       " ('2012-10-26 Hour 13', 27, 0.0, 0.0),\n",
       " ('2012-10-26 Hour 14', 30, 3.0, 0.0),\n",
       " ('2012-10-26 Hour 14', 30, 3.0, 0.0),\n",
       " ('2012-10-26 Hour 14', 30, 3.0, 0.0),\n",
       " ('2012-10-26 Hour 15', 33, 3.0, 0.0),\n",
       " ('2012-10-26 Hour 15', 33, 3.0, 0.0),\n",
       " ('2012-10-26 Hour 15', 33, 3.0, 0.0),\n",
       " ('2012-10-26 Hour 16', 18, 0.0, 0.0),\n",
       " ('2012-10-26 Hour 16', 18, 0.0, 0.0),\n",
       " ('2012-10-26 Hour 16', 18, 0.0, 0.0),\n",
       " ('2012-10-26 Hour 17', 21, 0.0, 0.0),\n",
       " ('2012-10-26 Hour 17', 21, 0.0, 0.0),\n",
       " ('2012-10-26 Hour 17', 21, 0.0, 0.0),\n",
       " ('2012-10-26 Hour 18', 27, 0.0, 0.0),\n",
       " ('2012-10-26 Hour 18', 27, 0.0, 0.0),\n",
       " ('2012-10-26 Hour 18', 27, 0.0, 0.0),\n",
       " ('2012-10-26 Hour 19', 48, 0.0, 0.0),\n",
       " ('2012-10-26 Hour 19', 48, 0.0, 0.0),\n",
       " ('2012-10-26 Hour 19', 48, 0.0, 0.0),\n",
       " ('2012-10-26 Hour 20', 45, 0.0, 0.0),\n",
       " ('2012-10-26 Hour 20', 45, 0.0, 0.0),\n",
       " ('2012-10-26 Hour 20', 45, 0.0, 0.0),\n",
       " ('2012-10-26 Hour 21', 27, 3.0, 0.0),\n",
       " ('2012-10-26 Hour 21', 27, 3.0, 0.0),\n",
       " ('2012-10-26 Hour 21', 27, 3.0, 0.0),\n",
       " ('2012-10-26 Hour 22', 51, 3.0, 0.0),\n",
       " ('2012-10-26 Hour 22', 51, 3.0, 0.0),\n",
       " ('2012-10-26 Hour 22', 51, 3.0, 0.0),\n",
       " ('2012-10-26 Hour 23', 45, 0.0, 0.0),\n",
       " ('2012-10-26 Hour 23', 45, 0.0, 0.0),\n",
       " ('2012-10-26 Hour 23', 45, 0.0, 0.0),\n",
       " ('2012-10-27 Hour 00', 21, 0.0, 0.0),\n",
       " ('2012-10-27 Hour 00', 21, 0.0, 0.0),\n",
       " ('2012-10-27 Hour 00', 21, 0.0, 0.0),\n",
       " ('2012-10-27 Hour 01', 45, 3.0, 0.0),\n",
       " ('2012-10-27 Hour 01', 45, 3.0, 0.0),\n",
       " ('2012-10-27 Hour 01', 45, 3.0, 0.0),\n",
       " ('2012-10-27 Hour 02', 27, 0.0, 0.0),\n",
       " ('2012-10-27 Hour 02', 27, 0.0, 0.0),\n",
       " ('2012-10-27 Hour 02', 27, 0.0, 0.0),\n",
       " ('2012-10-27 Hour 03', 24, 3.0, 0.0),\n",
       " ('2012-10-27 Hour 03', 24, 3.0, 0.0),\n",
       " ('2012-10-27 Hour 03', 24, 3.0, 0.0),\n",
       " ('2012-10-27 Hour 04', 12, 0.0, 0.0),\n",
       " ('2012-10-27 Hour 04', 12, 0.0, 0.0),\n",
       " ('2012-10-27 Hour 04', 12, 0.0, 0.0),\n",
       " ('2012-10-27 Hour 05', 6, 6.0, 0.0),\n",
       " ('2012-10-27 Hour 05', 6, 6.0, 0.0),\n",
       " ('2012-10-27 Hour 05', 6, 6.0, 0.0),\n",
       " ('2012-10-27 Hour 06', 3, 6.0, 0.0),\n",
       " ('2012-10-27 Hour 06', 3, 6.0, 0.0),\n",
       " ('2012-10-27 Hour 06', 3, 6.0, 0.0),\n",
       " ('2012-10-27 Hour 07', 15, 5.5, 0.0),\n",
       " ('2012-10-27 Hour 07', 15, 5.5, 0.0),\n",
       " ('2012-10-27 Hour 07', 15, 5.5, 0.0),\n",
       " ('2012-10-27 Hour 09', 12, 8.0, 0.0),\n",
       " ('2012-10-27 Hour 09', 12, 8.0, 0.0),\n",
       " ('2012-10-27 Hour 09', 12, 8.0, 0.0),\n",
       " ('2012-10-27 Hour 10', 18, 6.0, 0.0),\n",
       " ('2012-10-27 Hour 10', 18, 6.0, 0.0),\n",
       " ('2012-10-27 Hour 10', 18, 6.0, 0.0),\n",
       " ('2012-10-27 Hour 11', 12, 6.5, 0.0),\n",
       " ('2012-10-27 Hour 11', 12, 6.5, 0.0),\n",
       " ('2012-10-27 Hour 11', 12, 6.5, 0.0),\n",
       " ('2012-10-27 Hour 12', 33, 6.5, 0.0),\n",
       " ('2012-10-27 Hour 12', 33, 6.5, 0.0),\n",
       " ('2012-10-27 Hour 12', 33, 6.5, 0.0),\n",
       " ('2012-10-27 Hour 13', 30, 8.0, 0.0),\n",
       " ('2012-10-27 Hour 13', 30, 8.0, 0.0),\n",
       " ('2012-10-27 Hour 13', 30, 8.0, 0.0),\n",
       " ('2012-10-27 Hour 14', 12, 8.0, 0.0),\n",
       " ('2012-10-27 Hour 14', 12, 8.0, 0.0),\n",
       " ('2012-10-27 Hour 14', 12, 8.0, 0.0),\n",
       " ('2012-10-27 Hour 15', 21, 10.0, 0.0),\n",
       " ('2012-10-27 Hour 15', 21, 10.0, 0.0),\n",
       " ('2012-10-27 Hour 15', 21, 10.0, 0.0),\n",
       " ('2012-10-27 Hour 16', 21, 10.0, 0.0),\n",
       " ('2012-10-27 Hour 16', 21, 10.0, 0.0),\n",
       " ('2012-10-27 Hour 16', 21, 10.0, 0.0),\n",
       " ('2012-10-27 Hour 17', 30, 7.0, 0.0),\n",
       " ('2012-10-27 Hour 17', 30, 7.0, 0.0),\n",
       " ('2012-10-27 Hour 17', 30, 7.0, 0.0),\n",
       " ('2012-10-27 Hour 18', 57, 7.0, 0.0),\n",
       " ('2012-10-27 Hour 18', 57, 7.0, 0.0),\n",
       " ('2012-10-27 Hour 18', 57, 7.0, 0.0),\n",
       " ('2012-10-27 Hour 19', 30, 7.333333333333333, 0.0),\n",
       " ('2012-10-27 Hour 19', 30, 7.333333333333333, 0.0),\n",
       " ('2012-10-27 Hour 19', 30, 7.333333333333333, 0.0),\n",
       " ('2012-10-27 Hour 20', 36, 9.0, 0.0),\n",
       " ('2012-10-27 Hour 20', 36, 9.0, 0.0),\n",
       " ('2012-10-27 Hour 20', 36, 9.0, 0.0),\n",
       " ('2012-10-27 Hour 21', 54, 7.0, 0.0),\n",
       " ('2012-10-27 Hour 21', 54, 7.0, 0.0),\n",
       " ('2012-10-27 Hour 21', 54, 7.0, 0.0),\n",
       " ('2012-10-27 Hour 22', 30, 9.0, 0.0),\n",
       " ('2012-10-27 Hour 22', 30, 9.0, 0.0),\n",
       " ('2012-10-27 Hour 22', 30, 9.0, 0.0),\n",
       " ('2012-10-27 Hour 23', 54, 9.0, 0.0),\n",
       " ('2012-10-27 Hour 23', 54, 9.0, 0.0),\n",
       " ('2012-10-27 Hour 23', 54, 9.0, 0.0),\n",
       " ('2012-10-28 Hour 00', 48, 8.0, 0.0),\n",
       " ('2012-10-28 Hour 00', 48, 8.0, 0.0),\n",
       " ('2012-10-28 Hour 00', 48, 8.0, 0.0),\n",
       " ('2012-10-28 Hour 01', 39, 11.0, 0.0),\n",
       " ('2012-10-28 Hour 01', 39, 11.0, 0.0),\n",
       " ('2012-10-28 Hour 01', 39, 11.0, 0.0),\n",
       " ('2012-10-28 Hour 02', 39, 8.0, 0.0),\n",
       " ('2012-10-28 Hour 02', 39, 8.0, 0.0),\n",
       " ('2012-10-28 Hour 02', 39, 8.0, 0.0),\n",
       " ('2012-10-28 Hour 03', 30, 8.0, 0.0),\n",
       " ('2012-10-28 Hour 03', 30, 8.0, 0.0),\n",
       " ('2012-10-28 Hour 03', 30, 8.0, 0.0),\n",
       " ('2012-10-28 Hour 04', 30, 9.0, 0.0),\n",
       " ('2012-10-28 Hour 04', 30, 9.0, 0.0),\n",
       " ('2012-10-28 Hour 04', 30, 9.0, 0.0),\n",
       " ('2012-10-28 Hour 05', 12, 10.0, 0.0),\n",
       " ('2012-10-28 Hour 05', 12, 10.0, 0.0),\n",
       " ('2012-10-28 Hour 05', 12, 10.0, 0.0),\n",
       " ('2012-10-28 Hour 06', 9, 10.5, 0.0),\n",
       " ('2012-10-28 Hour 06', 9, 10.5, 0.0),\n",
       " ('2012-10-28 Hour 06', 9, 10.5, 0.0),\n",
       " ('2012-10-28 Hour 07', 6, 10.0, 0.0),\n",
       " ('2012-10-28 Hour 07', 6, 10.0, 0.0),\n",
       " ('2012-10-28 Hour 07', 6, 10.0, 0.0),\n",
       " ('2012-10-28 Hour 08', 9, 11.0, 0.0),\n",
       " ('2012-10-28 Hour 08', 9, 11.0, 0.0),\n",
       " ('2012-10-28 Hour 08', 9, 11.0, 0.0),\n",
       " ('2012-10-28 Hour 09', 12, 11.0, 0.0),\n",
       " ('2012-10-28 Hour 09', 12, 11.0, 0.0),\n",
       " ('2012-10-28 Hour 09', 12, 11.0, 0.0),\n",
       " ('2012-10-28 Hour 10', 27, 11.0, 0.0),\n",
       " ('2012-10-28 Hour 10', 27, 11.0, 0.0),\n",
       " ('2012-10-28 Hour 10', 27, 11.0, 0.0),\n",
       " ('2012-10-28 Hour 11', 36, 10.0, 0.0),\n",
       " ('2012-10-28 Hour 11', 36, 10.0, 0.0),\n",
       " ('2012-10-28 Hour 11', 36, 10.0, 0.0),\n",
       " ('2012-10-28 Hour 12', 33, 8.0, 0.0),\n",
       " ('2012-10-28 Hour 12', 33, 8.0, 0.0),\n",
       " ('2012-10-28 Hour 12', 33, 8.0, 0.0),\n",
       " ('2012-10-28 Hour 13', 30, 7.0, 0.0),\n",
       " ('2012-10-28 Hour 13', 30, 7.0, 0.0),\n",
       " ('2012-10-28 Hour 13', 30, 7.0, 0.0),\n",
       " ('2012-10-28 Hour 14', 21, 13.0, 0.0),\n",
       " ('2012-10-28 Hour 14', 21, 13.0, 0.0),\n",
       " ('2012-10-28 Hour 14', 21, 13.0, 0.0),\n",
       " ('2012-10-28 Hour 15', 36, 13.0, 0.0),\n",
       " ('2012-10-28 Hour 15', 36, 13.0, 0.0),\n",
       " ('2012-10-28 Hour 15', 36, 13.0, 0.0),\n",
       " ('2012-10-28 Hour 16', 24, 13.0, 0.0),\n",
       " ('2012-10-28 Hour 16', 24, 13.0, 0.0),\n",
       " ('2012-10-28 Hour 16', 24, 13.0, 0.0),\n",
       " ('2012-10-28 Hour 17', 36, 16.0, 0.0),\n",
       " ('2012-10-28 Hour 17', 36, 16.0, 0.0),\n",
       " ('2012-10-28 Hour 17', 36, 16.0, 0.0),\n",
       " ('2012-10-28 Hour 18', 21, 11.0, 0.0),\n",
       " ('2012-10-28 Hour 18', 21, 11.0, 0.0),\n",
       " ('2012-10-28 Hour 18', 21, 11.0, 0.0),\n",
       " ('2012-10-28 Hour 19', 24, 15.0, 0.0),\n",
       " ('2012-10-28 Hour 19', 24, 15.0, 0.0),\n",
       " ('2012-10-28 Hour 19', 24, 15.0, 0.0),\n",
       " ('2012-10-28 Hour 20', 15, 14.0, 0.0),\n",
       " ('2012-10-28 Hour 20', 15, 14.0, 0.0),\n",
       " ('2012-10-28 Hour 20', 15, 14.0, 0.0),\n",
       " ('2012-10-28 Hour 21', 12, 16.0, 0.0),\n",
       " ('2012-10-28 Hour 21', 12, 16.0, 0.0),\n",
       " ('2012-10-28 Hour 21', 12, 16.0, 0.0),\n",
       " ('2012-10-28 Hour 22', 21, 14.0, 0.0),\n",
       " ('2012-10-28 Hour 22', 21, 14.0, 0.0),\n",
       " ('2012-10-28 Hour 22', 21, 14.0, 0.0),\n",
       " ('2012-10-28 Hour 23', 15, 16.0, 0.0),\n",
       " ('2012-10-28 Hour 23', 15, 16.0, 0.0),\n",
       " ('2012-10-28 Hour 23', 15, 16.0, 0.0),\n",
       " ('2012-10-29 Hour 00', 3, 14.0, 0.0),\n",
       " ('2012-10-29 Hour 00', 3, 14.0, 0.0),\n",
       " ('2012-10-29 Hour 00', 3, 14.0, 0.0),\n",
       " ('2012-10-29 Hour 01', 3, 16.0, 0.0),\n",
       " ('2012-10-29 Hour 01', 3, 16.0, 0.0),\n",
       " ('2012-10-29 Hour 01', 3, 16.0, 0.0),\n",
       " ('2012-10-29 Hour 02', 3, 11.0, 0.0),\n",
       " ('2012-10-29 Hour 02', 3, 11.0, 0.0),\n",
       " ('2012-10-29 Hour 02', 3, 11.0, 0.0),\n",
       " ('2012-10-29 Hour 03', 3, 13.0, 0.0),\n",
       " ('2012-10-29 Hour 03', 3, 13.0, 0.0),\n",
       " ('2012-10-29 Hour 03', 3, 13.0, 0.0),\n",
       " ('2012-10-29 Hour 05', 3, 15.0, 0.0),\n",
       " ('2012-10-29 Hour 05', 3, 15.0, 0.0),\n",
       " ('2012-10-29 Hour 05', 3, 15.0, 0.0),\n",
       " ('2012-10-29 Hour 07', 6, 16.0, 0.02),\n",
       " ('2012-10-29 Hour 07', 6, 16.0, 0.02),\n",
       " ('2012-10-29 Hour 07', 6, 16.0, 0.02),\n",
       " ('2012-10-29 Hour 08', 12, 17.0, 0.02),\n",
       " ('2012-10-29 Hour 08', 12, 17.0, 0.02),\n",
       " ('2012-10-29 Hour 08', 12, 17.0, 0.02),\n",
       " ('2012-10-29 Hour 09', 15, 21.0, None),\n",
       " ('2012-10-29 Hour 09', 15, 21.0, None),\n",
       " ('2012-10-29 Hour 09', 15, 21.0, None),\n",
       " ('2012-10-29 Hour 10', 3, 16.0, 0.0),\n",
       " ('2012-10-29 Hour 10', 3, 16.0, 0.0),\n",
       " ('2012-10-29 Hour 10', 3, 16.0, 0.0),\n",
       " ('2012-10-29 Hour 11', 9, 18.0, 0.015),\n",
       " ('2012-10-29 Hour 11', 9, 18.0, 0.015),\n",
       " ('2012-10-29 Hour 11', 9, 18.0, 0.015),\n",
       " ('2012-10-29 Hour 12', 21, 17.6, 0.035),\n",
       " ('2012-10-29 Hour 12', 21, 17.6, 0.035),\n",
       " ('2012-10-29 Hour 12', 21, 17.6, 0.035),\n",
       " ('2012-10-29 Hour 13', 6, 21.0, 0.055),\n",
       " ('2012-10-29 Hour 13', 6, 21.0, 0.055),\n",
       " ('2012-10-29 Hour 13', 6, 21.0, 0.055),\n",
       " ('2012-10-29 Hour 14', 9, 26.666666666666668, 0.03),\n",
       " ('2012-10-29 Hour 14', 9, 26.666666666666668, 0.03),\n",
       " ('2012-10-29 Hour 14', 9, 26.666666666666668, 0.03),\n",
       " ('2012-10-29 Hour 15', 6, 26.75, 0.03333333333333333),\n",
       " ('2012-10-29 Hour 15', 6, 26.75, 0.03333333333333333),\n",
       " ('2012-10-29 Hour 15', 6, 26.75, 0.03333333333333333),\n",
       " ('2012-10-29 Hour 16', 6, 25.0, 0.09),\n",
       " ('2012-10-29 Hour 16', 6, 25.0, 0.09),\n",
       " ('2012-10-29 Hour 16', 6, 25.0, 0.09),\n",
       " ('2012-10-29 Hour 17', 6, 24.2, 0.078),\n",
       " ('2012-10-29 Hour 17', 6, 24.2, 0.078),\n",
       " ('2012-10-29 Hour 17', 6, 24.2, 0.078),\n",
       " ('2012-10-29 Hour 18', 9, 21.333333333333332, 0.049999999999999996),\n",
       " ('2012-10-29 Hour 18', 9, 21.333333333333332, 0.049999999999999996),\n",
       " ('2012-10-29 Hour 18', 9, 21.333333333333332, 0.049999999999999996),\n",
       " ('2012-10-29 Hour 21', 6, 17.0, None),\n",
       " ('2012-10-29 Hour 21', 6, 17.0, None),\n",
       " ('2012-10-29 Hour 21', 6, 17.0, None),\n",
       " ('2012-10-29 Hour 22', 3, 15.0, 0.0),\n",
       " ('2012-10-29 Hour 22', 3, 15.0, 0.0),\n",
       " ('2012-10-29 Hour 22', 3, 15.0, 0.0),\n",
       " ('2012-10-30 Hour 00', 3, 11.666666666666666, 0.075),\n",
       " ('2012-10-30 Hour 00', 3, 11.666666666666666, 0.075),\n",
       " ('2012-10-30 Hour 00', 3, 11.666666666666666, 0.075),\n",
       " ('2012-10-30 Hour 04', 3, 17.0, 0.04),\n",
       " ('2012-10-30 Hour 04', 3, 17.0, 0.04),\n",
       " ('2012-10-30 Hour 04', 3, 17.0, 0.04),\n",
       " ('2012-10-30 Hour 07', 3, 7.0, 0.01),\n",
       " ('2012-10-30 Hour 07', 3, 7.0, 0.01),\n",
       " ('2012-10-30 Hour 07', 3, 7.0, 0.01),\n",
       " ('2012-10-30 Hour 08', 3, 8.5, 0.030000000000000002),\n",
       " ('2012-10-30 Hour 08', 3, 8.5, 0.030000000000000002),\n",
       " ('2012-10-30 Hour 08', 3, 8.5, 0.030000000000000002),\n",
       " ('2012-10-30 Hour 09', 6, None, 0.05),\n",
       " ('2012-10-30 Hour 09', 6, None, 0.05),\n",
       " ('2012-10-30 Hour 09', 6, None, 0.05),\n",
       " ('2012-10-30 Hour 10', 9, 10.8, 0.039999999999999994),\n",
       " ('2012-10-30 Hour 10', 9, 10.8, 0.039999999999999994),\n",
       " ('2012-10-30 Hour 10', 9, 10.8, 0.039999999999999994),\n",
       " ('2012-10-30 Hour 11', 27, 6.0, 0.02),\n",
       " ('2012-10-30 Hour 11', 27, 6.0, 0.02),\n",
       " ('2012-10-30 Hour 11', 27, 6.0, 0.02),\n",
       " ('2012-10-30 Hour 12', 12, 7.0, 0.0),\n",
       " ('2012-10-30 Hour 12', 12, 7.0, 0.0),\n",
       " ('2012-10-30 Hour 12', 12, 7.0, 0.0),\n",
       " ('2012-10-30 Hour 13', 15, 7.666666666666667, 0.0),\n",
       " ('2012-10-30 Hour 13', 15, 7.666666666666667, 0.0),\n",
       " ('2012-10-30 Hour 13', 15, 7.666666666666667, 0.0),\n",
       " ('2012-10-30 Hour 14', 9, 5.5, 0.0),\n",
       " ('2012-10-30 Hour 14', 9, 5.5, 0.0),\n",
       " ('2012-10-30 Hour 14', 9, 5.5, 0.0),\n",
       " ('2012-10-30 Hour 15', 18, None, None),\n",
       " ('2012-10-30 Hour 15', 18, None, None),\n",
       " ('2012-10-30 Hour 15', 18, None, None),\n",
       " ('2012-10-30 Hour 16', 9, 3.0, 0.01),\n",
       " ('2012-10-30 Hour 16', 9, 3.0, 0.01),\n",
       " ('2012-10-30 Hour 16', 9, 3.0, 0.01),\n",
       " ('2012-10-30 Hour 17', 12, 5.666666666666667, 0.01),\n",
       " ('2012-10-30 Hour 17', 12, 5.666666666666667, 0.01),\n",
       " ('2012-10-30 Hour 17', 12, 5.666666666666667, 0.01),\n",
       " ('2012-10-30 Hour 18', 18, 5.0, 0.0),\n",
       " ('2012-10-30 Hour 18', 18, 5.0, 0.0),\n",
       " ('2012-10-30 Hour 18', 18, 5.0, 0.0),\n",
       " ('2012-10-30 Hour 19', 27, 5.0, 0.0),\n",
       " ('2012-10-30 Hour 19', 27, 5.0, 0.0),\n",
       " ('2012-10-30 Hour 19', 27, 5.0, 0.0),\n",
       " ('2012-10-30 Hour 20', 12, 1.5, 0.0),\n",
       " ('2012-10-30 Hour 20', 12, 1.5, 0.0),\n",
       " ('2012-10-30 Hour 20', 12, 1.5, 0.0),\n",
       " ('2012-10-30 Hour 21', 9, 7.0, 0.0),\n",
       " ('2012-10-30 Hour 21', 9, 7.0, 0.0),\n",
       " ('2012-10-30 Hour 21', 9, 7.0, 0.0),\n",
       " ('2012-10-30 Hour 22', 15, 5.0, 0.0),\n",
       " ('2012-10-30 Hour 22', 15, 5.0, 0.0),\n",
       " ('2012-10-30 Hour 22', 15, 5.0, 0.0),\n",
       " ('2012-10-30 Hour 23', 15, 6.0, 0.0),\n",
       " ('2012-10-30 Hour 23', 15, 6.0, 0.0),\n",
       " ('2012-10-30 Hour 23', 15, 6.0, 0.0),\n",
       " ('2012-10-31 Hour 00', 6, 9.0, 0.0),\n",
       " ('2012-10-31 Hour 00', 6, 9.0, 0.0),\n",
       " ('2012-10-31 Hour 00', 6, 9.0, 0.0),\n",
       " ('2012-10-31 Hour 02', 6, 5.0, 0.01),\n",
       " ('2012-10-31 Hour 02', 6, 5.0, 0.01),\n",
       " ('2012-10-31 Hour 02', 6, 5.0, 0.01),\n",
       " ('2012-10-31 Hour 03', 6, 0.0, None),\n",
       " ('2012-10-31 Hour 03', 6, 0.0, None),\n",
       " ('2012-10-31 Hour 03', 6, 0.0, None),\n",
       " ('2012-10-31 Hour 06', 12, 0.0, 0.0),\n",
       " ('2012-10-31 Hour 06', 12, 0.0, 0.0),\n",
       " ('2012-10-31 Hour 06', 12, 0.0, 0.0),\n",
       " ('2012-10-31 Hour 07', 21, 6.0, 0.0),\n",
       " ('2012-10-31 Hour 07', 21, 6.0, 0.0),\n",
       " ('2012-10-31 Hour 07', 21, 6.0, 0.0),\n",
       " ('2012-10-31 Hour 08', 3, 7.0, 0.0),\n",
       " ('2012-10-31 Hour 08', 3, 7.0, 0.0),\n",
       " ('2012-10-31 Hour 08', 3, 7.0, 0.0),\n",
       " ('2012-10-31 Hour 09', 12, 8.5, 0.0),\n",
       " ('2012-10-31 Hour 09', 12, 8.5, 0.0),\n",
       " ('2012-10-31 Hour 09', 12, 8.5, 0.0),\n",
       " ('2012-10-31 Hour 10', 15, 7.0, 0.0),\n",
       " ('2012-10-31 Hour 10', 15, 7.0, 0.0),\n",
       " ('2012-10-31 Hour 10', 15, 7.0, 0.0),\n",
       " ('2012-10-31 Hour 11', 27, 4.0, 0.0),\n",
       " ('2012-10-31 Hour 11', 27, 4.0, 0.0),\n",
       " ('2012-10-31 Hour 11', 27, 4.0, 0.0),\n",
       " ('2012-10-31 Hour 12', 21, 7.0, 0.0),\n",
       " ('2012-10-31 Hour 12', 21, 7.0, 0.0),\n",
       " ('2012-10-31 Hour 12', 21, 7.0, 0.0),\n",
       " ('2012-10-31 Hour 13', 9, 3.0, 0.0),\n",
       " ('2012-10-31 Hour 13', 9, 3.0, 0.0),\n",
       " ('2012-10-31 Hour 13', 9, 3.0, 0.0),\n",
       " ('2012-10-31 Hour 14', 24, 6.0, 0.0),\n",
       " ('2012-10-31 Hour 14', 24, 6.0, 0.0),\n",
       " ('2012-10-31 Hour 14', 24, 6.0, 0.0),\n",
       " ('2012-10-31 Hour 15', 24, 5.0, 0.0),\n",
       " ('2012-10-31 Hour 15', 24, 5.0, 0.0),\n",
       " ('2012-10-31 Hour 15', 24, 5.0, 0.0),\n",
       " ('2012-10-31 Hour 16', 15, 3.0, 0.0),\n",
       " ('2012-10-31 Hour 16', 15, 3.0, 0.0),\n",
       " ('2012-10-31 Hour 16', 15, 3.0, 0.0),\n",
       " ('2012-10-31 Hour 17', 30, 5.0, 0.0),\n",
       " ('2012-10-31 Hour 17', 30, 5.0, 0.0),\n",
       " ('2012-10-31 Hour 17', 30, 5.0, 0.0),\n",
       " ('2012-10-31 Hour 18', 18, 5.0, 0.0),\n",
       " ('2012-10-31 Hour 18', 18, 5.0, 0.0),\n",
       " ('2012-10-31 Hour 18', 18, 5.0, 0.0),\n",
       " ('2012-10-31 Hour 19', 18, 3.0, 0.0),\n",
       " ('2012-10-31 Hour 19', 18, 3.0, 0.0),\n",
       " ('2012-10-31 Hour 19', 18, 3.0, 0.0),\n",
       " ('2012-10-31 Hour 20', 18, 9.0, 0.0),\n",
       " ('2012-10-31 Hour 20', 18, 9.0, 0.0),\n",
       " ('2012-10-31 Hour 20', 18, 9.0, 0.0),\n",
       " ('2012-10-31 Hour 21', 18, 7.0, 0.0),\n",
       " ('2012-10-31 Hour 21', 18, 7.0, 0.0),\n",
       " ('2012-10-31 Hour 21', 18, 7.0, 0.0),\n",
       " ('2012-10-31 Hour 22', 24, 7.0, 0.0),\n",
       " ('2012-10-31 Hour 22', 24, 7.0, 0.0),\n",
       " ('2012-10-31 Hour 22', 24, 7.0, 0.0),\n",
       " ('2012-10-31 Hour 23', 9, 6.0, 0.0),\n",
       " ('2012-10-31 Hour 23', 9, 6.0, 0.0),\n",
       " ('2012-10-31 Hour 23', 9, 6.0, 0.0),\n",
       " ('2012-11-01 Hour 00', 3, 3.0, 0.0),\n",
       " ('2012-11-01 Hour 00', 3, 3.0, 0.0),\n",
       " ('2012-11-01 Hour 00', 3, 3.0, 0.0),\n",
       " ('2012-11-01 Hour 01', 12, 3.0, 0.0),\n",
       " ('2012-11-01 Hour 01', 12, 3.0, 0.0),\n",
       " ('2012-11-01 Hour 01', 12, 3.0, 0.0),\n",
       " ('2012-11-01 Hour 02', 3, 3.0, 0.0),\n",
       " ('2012-11-01 Hour 02', 3, 3.0, 0.0),\n",
       " ('2012-11-01 Hour 02', 3, 3.0, 0.0),\n",
       " ('2012-11-01 Hour 03', 6, 3.0, 0.0),\n",
       " ('2012-11-01 Hour 03', 6, 3.0, 0.0),\n",
       " ('2012-11-01 Hour 03', 6, 3.0, 0.0),\n",
       " ('2012-11-01 Hour 05', 9, 7.0, 0.0),\n",
       " ('2012-11-01 Hour 05', 9, 7.0, 0.0),\n",
       " ('2012-11-01 Hour 05', 9, 7.0, 0.0),\n",
       " ('2012-11-01 Hour 07', 9, 13.0, 0.0),\n",
       " ('2012-11-01 Hour 07', 9, 13.0, 0.0),\n",
       " ('2012-11-01 Hour 07', 9, 13.0, 0.0),\n",
       " ('2012-11-01 Hour 08', 6, None, 0.0),\n",
       " ('2012-11-01 Hour 08', 6, None, 0.0),\n",
       " ('2012-11-01 Hour 08', 6, None, 0.0),\n",
       " ('2012-11-01 Hour 09', 15, 7.0, 0.0),\n",
       " ('2012-11-01 Hour 09', 15, 7.0, 0.0),\n",
       " ('2012-11-01 Hour 09', 15, 7.0, 0.0),\n",
       " ('2012-11-01 Hour 10', 18, 3.0, 0.0),\n",
       " ('2012-11-01 Hour 10', 18, 3.0, 0.0),\n",
       " ('2012-11-01 Hour 10', 18, 3.0, 0.0),\n",
       " ('2012-11-01 Hour 11', 18, 6.0, 0.0),\n",
       " ('2012-11-01 Hour 11', 18, 6.0, 0.0),\n",
       " ('2012-11-01 Hour 11', 18, 6.0, 0.0),\n",
       " ('2012-11-01 Hour 12', 39, 6.0, 0.0),\n",
       " ('2012-11-01 Hour 12', 39, 6.0, 0.0),\n",
       " ('2012-11-01 Hour 12', 39, 6.0, 0.0),\n",
       " ('2012-11-01 Hour 13', 21, 11.0, 0.0),\n",
       " ('2012-11-01 Hour 13', 21, 11.0, 0.0),\n",
       " ('2012-11-01 Hour 13', 21, 11.0, 0.0),\n",
       " ('2012-11-01 Hour 14', 18, 8.0, 0.0),\n",
       " ('2012-11-01 Hour 14', 18, 8.0, 0.0),\n",
       " ('2012-11-01 Hour 14', 18, 8.0, 0.0),\n",
       " ('2012-11-01 Hour 15', 12, 8.0, 0.0),\n",
       " ('2012-11-01 Hour 15', 12, 8.0, 0.0),\n",
       " ('2012-11-01 Hour 15', 12, 8.0, 0.0),\n",
       " ('2012-11-01 Hour 16', 12, None, 0.0),\n",
       " ('2012-11-01 Hour 16', 12, None, 0.0),\n",
       " ('2012-11-01 Hour 16', 12, None, 0.0),\n",
       " ('2012-11-01 Hour 17', 21, 5.0, 0.0),\n",
       " ('2012-11-01 Hour 17', 21, 5.0, 0.0),\n",
       " ('2012-11-01 Hour 17', 21, 5.0, 0.0),\n",
       " ('2012-11-01 Hour 18', 15, 5.0, 0.0),\n",
       " ('2012-11-01 Hour 18', 15, 5.0, 0.0),\n",
       " ('2012-11-01 Hour 18', 15, 5.0, 0.0),\n",
       " ('2012-11-01 Hour 19', 36, 9.0, 0.0),\n",
       " ('2012-11-01 Hour 19', 36, 9.0, 0.0),\n",
       " ('2012-11-01 Hour 19', 36, 9.0, 0.0),\n",
       " ('2012-11-01 Hour 20', 15, 3.0, 0.0),\n",
       " ('2012-11-01 Hour 20', 15, 3.0, 0.0),\n",
       " ('2012-11-01 Hour 20', 15, 3.0, 0.0),\n",
       " ('2012-11-01 Hour 21', 24, 5.0, 0.0),\n",
       " ('2012-11-01 Hour 21', 24, 5.0, 0.0),\n",
       " ('2012-11-01 Hour 21', 24, 5.0, 0.0),\n",
       " ('2012-11-01 Hour 22', 6, 8.0, 0.0),\n",
       " ('2012-11-01 Hour 22', 6, 8.0, 0.0),\n",
       " ('2012-11-01 Hour 22', 6, 8.0, 0.0),\n",
       " ('2012-11-01 Hour 23', 21, 5.0, 0.0),\n",
       " ('2012-11-01 Hour 23', 21, 5.0, 0.0),\n",
       " ('2012-11-01 Hour 23', 21, 5.0, 0.0),\n",
       " ('2012-11-02 Hour 00', 21, 0.0, 0.0),\n",
       " ('2012-11-02 Hour 00', 21, 0.0, 0.0),\n",
       " ('2012-11-02 Hour 00', 21, 0.0, 0.0),\n",
       " ('2012-11-02 Hour 01', 12, 5.0, 0.0),\n",
       " ('2012-11-02 Hour 01', 12, 5.0, 0.0),\n",
       " ('2012-11-02 Hour 01', 12, 5.0, 0.0),\n",
       " ('2012-11-02 Hour 02', 3, 7.0, 0.0),\n",
       " ('2012-11-02 Hour 02', 3, 7.0, 0.0),\n",
       " ('2012-11-02 Hour 02', 3, 7.0, 0.0),\n",
       " ('2012-11-02 Hour 03', 6, 3.0, 0.0),\n",
       " ('2012-11-02 Hour 03', 6, 3.0, 0.0),\n",
       " ('2012-11-02 Hour 03', 6, 3.0, 0.0),\n",
       " ('2012-11-02 Hour 04', 3, 3.0, 0.0),\n",
       " ('2012-11-02 Hour 04', 3, 3.0, 0.0),\n",
       " ('2012-11-02 Hour 04', 3, 3.0, 0.0),\n",
       " ('2012-11-02 Hour 05', 9, 5.0, 0.0),\n",
       " ('2012-11-02 Hour 05', 9, 5.0, 0.0),\n",
       " ('2012-11-02 Hour 05', 9, 5.0, 0.0),\n",
       " ('2012-11-02 Hour 06', 6, 5.0, 0.0),\n",
       " ('2012-11-02 Hour 06', 6, 5.0, 0.0),\n",
       " ('2012-11-02 Hour 06', 6, 5.0, 0.0),\n",
       " ('2012-11-02 Hour 07', 3, 6.0, 0.0),\n",
       " ('2012-11-02 Hour 07', 3, 6.0, 0.0),\n",
       " ('2012-11-02 Hour 07', 3, 6.0, 0.0),\n",
       " ('2012-11-02 Hour 08', 27, None, 0.0),\n",
       " ('2012-11-02 Hour 08', 27, None, 0.0),\n",
       " ('2012-11-02 Hour 08', 27, None, 0.0),\n",
       " ('2012-11-02 Hour 09', 15, 5.0, 0.0),\n",
       " ('2012-11-02 Hour 09', 15, 5.0, 0.0),\n",
       " ('2012-11-02 Hour 09', 15, 5.0, 0.0),\n",
       " ('2012-11-02 Hour 10', 6, 7.0, 0.0),\n",
       " ('2012-11-02 Hour 10', 6, 7.0, 0.0),\n",
       " ('2012-11-02 Hour 10', 6, 7.0, 0.0),\n",
       " ('2012-11-02 Hour 11', 12, 9.0, 0.0),\n",
       " ('2012-11-02 Hour 11', 12, 9.0, 0.0),\n",
       " ('2012-11-02 Hour 11', 12, 9.0, 0.0),\n",
       " ('2012-11-02 Hour 12', 21, 7.0, 0.0),\n",
       " ('2012-11-02 Hour 12', 21, 7.0, 0.0),\n",
       " ('2012-11-02 Hour 12', 21, 7.0, 0.0),\n",
       " ('2012-11-02 Hour 13', 15, 7.0, 0.0),\n",
       " ('2012-11-02 Hour 13', 15, 7.0, 0.0),\n",
       " ('2012-11-02 Hour 13', 15, 7.0, 0.0),\n",
       " ('2012-11-02 Hour 14', 21, 6.0, 0.0),\n",
       " ('2012-11-02 Hour 14', 21, 6.0, 0.0),\n",
       " ('2012-11-02 Hour 14', 21, 6.0, 0.0),\n",
       " ('2012-11-02 Hour 15', 21, 6.0, 0.0),\n",
       " ('2012-11-02 Hour 15', 21, 6.0, 0.0),\n",
       " ('2012-11-02 Hour 15', 21, 6.0, 0.0),\n",
       " ('2012-11-02 Hour 16', 15, 5.0, 0.0),\n",
       " ('2012-11-02 Hour 16', 15, 5.0, 0.0),\n",
       " ('2012-11-02 Hour 16', 15, 5.0, 0.0),\n",
       " ('2012-11-02 Hour 17', 24, 11.0, 0.0),\n",
       " ('2012-11-02 Hour 17', 24, 11.0, 0.0),\n",
       " ('2012-11-02 Hour 17', 24, 11.0, 0.0),\n",
       " ('2012-11-02 Hour 18', 12, 8.0, 0.0),\n",
       " ('2012-11-02 Hour 18', 12, 8.0, 0.0),\n",
       " ('2012-11-02 Hour 18', 12, 8.0, 0.0),\n",
       " ('2012-11-02 Hour 19', 27, 9.0, 0.0),\n",
       " ('2012-11-02 Hour 19', 27, 9.0, 0.0),\n",
       " ('2012-11-02 Hour 19', 27, 9.0, 0.0),\n",
       " ('2012-11-02 Hour 20', 24, 7.0, 0.0),\n",
       " ('2012-11-02 Hour 20', 24, 7.0, 0.0),\n",
       " ('2012-11-02 Hour 20', 24, 7.0, 0.0),\n",
       " ('2012-11-02 Hour 21', 27, 9.0, 0.0),\n",
       " ('2012-11-02 Hour 21', 27, 9.0, 0.0),\n",
       " ('2012-11-02 Hour 21', 27, 9.0, 0.0),\n",
       " ('2012-11-02 Hour 22', 27, 7.0, 0.0),\n",
       " ('2012-11-02 Hour 22', 27, 7.0, 0.0),\n",
       " ('2012-11-02 Hour 22', 27, 7.0, 0.0),\n",
       " ('2012-11-02 Hour 23', 21, 8.0, 0.0),\n",
       " ('2012-11-02 Hour 23', 21, 8.0, 0.0),\n",
       " ('2012-11-02 Hour 23', 21, 8.0, 0.0)]"
      ]
     },
     "execution_count": 80,
     "metadata": {},
     "output_type": "execute_result"
    }
   ],
   "source": [
    "engine.execute(query6).fetchall()"
   ]
  },
  {
   "cell_type": "code",
   "execution_count": 81,
   "id": "60609f53",
   "metadata": {},
   "outputs": [],
   "source": [
    "f = open(\"sql/query6.sql\", \"w\")\n",
    "f.write(query5)\n",
    "f.close()"
   ]
  },
  {
   "cell_type": "markdown",
   "id": "b1b6d5f0",
   "metadata": {},
   "source": [
    "# Part 4: Visualizing the Data"
   ]
  },
  {
   "cell_type": "code",
   "execution_count": 82,
   "id": "95311811",
   "metadata": {},
   "outputs": [],
   "source": [
    "import matplotlib.pyplot as plt\n",
    "import seaborn as sns\n",
    "import numpy as np"
   ]
  },
  {
   "cell_type": "markdown",
   "id": "53ac2903",
   "metadata": {},
   "source": [
    "### 1. Create an appropriate visualization for the first query/question in part 3"
   ]
  },
  {
   "cell_type": "code",
   "execution_count": 83,
   "id": "ab5b7d11",
   "metadata": {},
   "outputs": [
    {
     "name": "stdout",
     "output_type": "stream",
     "text": [
      "[sqlalchemy] PRAGMA main.table_info(\"\n",
      "SELECT COUNT(*) total_yellow_rides, strftime('%H', Date) hour\n",
      "FROM yellow\n",
      "GROUP BY hour\n",
      "ORDER BY COUNT(*) DESC\")\n",
      "[sqlalchemy] [raw sql] ()\n",
      "[sqlalchemy] PRAGMA temp.table_info(\"\n",
      "SELECT COUNT(*) total_yellow_rides, strftime('%H', Date) hour\n",
      "FROM yellow\n",
      "GROUP BY hour\n",
      "ORDER BY COUNT(*) DESC\")\n",
      "[sqlalchemy] [raw sql] ()\n",
      "[sqlalchemy] \n",
      "SELECT COUNT(*) total_yellow_rides, strftime('%H', Date) hour\n",
      "FROM yellow\n",
      "GROUP BY hour\n",
      "ORDER BY COUNT(*) DESC\n",
      "[sqlalchemy] [raw sql] ()\n"
     ]
    }
   ],
   "source": [
    "dfvis1=pd.read_sql(query1,con=engine)"
   ]
  },
  {
   "cell_type": "code",
   "execution_count": 84,
   "id": "be255bb4",
   "metadata": {},
   "outputs": [
    {
     "data": {
      "text/html": [
       "<div>\n",
       "<style scoped>\n",
       "    .dataframe tbody tr th:only-of-type {\n",
       "        vertical-align: middle;\n",
       "    }\n",
       "\n",
       "    .dataframe tbody tr th {\n",
       "        vertical-align: top;\n",
       "    }\n",
       "\n",
       "    .dataframe thead th {\n",
       "        text-align: right;\n",
       "    }\n",
       "</style>\n",
       "<table border=\"1\" class=\"dataframe\">\n",
       "  <thead>\n",
       "    <tr style=\"text-align: right;\">\n",
       "      <th></th>\n",
       "      <th>total_yellow_rides</th>\n",
       "      <th>hour</th>\n",
       "    </tr>\n",
       "  </thead>\n",
       "  <tbody>\n",
       "    <tr>\n",
       "      <th>0</th>\n",
       "      <td>42855</td>\n",
       "      <td>19</td>\n",
       "    </tr>\n",
       "    <tr>\n",
       "      <th>1</th>\n",
       "      <td>41802</td>\n",
       "      <td>20</td>\n",
       "    </tr>\n",
       "    <tr>\n",
       "      <th>2</th>\n",
       "      <td>38952</td>\n",
       "      <td>21</td>\n",
       "    </tr>\n",
       "    <tr>\n",
       "      <th>3</th>\n",
       "      <td>38235</td>\n",
       "      <td>22</td>\n",
       "    </tr>\n",
       "    <tr>\n",
       "      <th>4</th>\n",
       "      <td>38037</td>\n",
       "      <td>18</td>\n",
       "    </tr>\n",
       "    <tr>\n",
       "      <th>5</th>\n",
       "      <td>36177</td>\n",
       "      <td>23</td>\n",
       "    </tr>\n",
       "    <tr>\n",
       "      <th>6</th>\n",
       "      <td>34026</td>\n",
       "      <td>15</td>\n",
       "    </tr>\n",
       "    <tr>\n",
       "      <th>7</th>\n",
       "      <td>33669</td>\n",
       "      <td>14</td>\n",
       "    </tr>\n",
       "    <tr>\n",
       "      <th>8</th>\n",
       "      <td>33501</td>\n",
       "      <td>12</td>\n",
       "    </tr>\n",
       "    <tr>\n",
       "      <th>9</th>\n",
       "      <td>32469</td>\n",
       "      <td>13</td>\n",
       "    </tr>\n",
       "    <tr>\n",
       "      <th>10</th>\n",
       "      <td>31590</td>\n",
       "      <td>09</td>\n",
       "    </tr>\n",
       "    <tr>\n",
       "      <th>11</th>\n",
       "      <td>31089</td>\n",
       "      <td>10</td>\n",
       "    </tr>\n",
       "    <tr>\n",
       "      <th>12</th>\n",
       "      <td>30579</td>\n",
       "      <td>16</td>\n",
       "    </tr>\n",
       "    <tr>\n",
       "      <th>13</th>\n",
       "      <td>30558</td>\n",
       "      <td>00</td>\n",
       "    </tr>\n",
       "    <tr>\n",
       "      <th>14</th>\n",
       "      <td>30351</td>\n",
       "      <td>11</td>\n",
       "    </tr>\n",
       "    <tr>\n",
       "      <th>15</th>\n",
       "      <td>29379</td>\n",
       "      <td>17</td>\n",
       "    </tr>\n",
       "    <tr>\n",
       "      <th>16</th>\n",
       "      <td>28431</td>\n",
       "      <td>08</td>\n",
       "    </tr>\n",
       "    <tr>\n",
       "      <th>17</th>\n",
       "      <td>23235</td>\n",
       "      <td>01</td>\n",
       "    </tr>\n",
       "    <tr>\n",
       "      <th>18</th>\n",
       "      <td>19626</td>\n",
       "      <td>07</td>\n",
       "    </tr>\n",
       "    <tr>\n",
       "      <th>19</th>\n",
       "      <td>17295</td>\n",
       "      <td>02</td>\n",
       "    </tr>\n",
       "    <tr>\n",
       "      <th>20</th>\n",
       "      <td>12573</td>\n",
       "      <td>03</td>\n",
       "    </tr>\n",
       "    <tr>\n",
       "      <th>21</th>\n",
       "      <td>9963</td>\n",
       "      <td>04</td>\n",
       "    </tr>\n",
       "    <tr>\n",
       "      <th>22</th>\n",
       "      <td>8841</td>\n",
       "      <td>06</td>\n",
       "    </tr>\n",
       "    <tr>\n",
       "      <th>23</th>\n",
       "      <td>5886</td>\n",
       "      <td>05</td>\n",
       "    </tr>\n",
       "  </tbody>\n",
       "</table>\n",
       "</div>"
      ],
      "text/plain": [
       "    total_yellow_rides hour\n",
       "0                42855   19\n",
       "1                41802   20\n",
       "2                38952   21\n",
       "3                38235   22\n",
       "4                38037   18\n",
       "5                36177   23\n",
       "6                34026   15\n",
       "7                33669   14\n",
       "8                33501   12\n",
       "9                32469   13\n",
       "10               31590   09\n",
       "11               31089   10\n",
       "12               30579   16\n",
       "13               30558   00\n",
       "14               30351   11\n",
       "15               29379   17\n",
       "16               28431   08\n",
       "17               23235   01\n",
       "18               19626   07\n",
       "19               17295   02\n",
       "20               12573   03\n",
       "21                9963   04\n",
       "22                8841   06\n",
       "23                5886   05"
      ]
     },
     "execution_count": 84,
     "metadata": {},
     "output_type": "execute_result"
    }
   ],
   "source": [
    "dfvis1"
   ]
  },
  {
   "cell_type": "code",
   "execution_count": 85,
   "id": "510830bc",
   "metadata": {},
   "outputs": [
    {
     "data": {
      "image/png": "[encoded data removed]",
      "text/plain": [
       "<Figure size 1080x720 with 1 Axes>"
      ]
     },
     "metadata": {
      "needs_background": "light"
     },
     "output_type": "display_data"
    }
   ],
   "source": [
    "fig, ax = plt.subplots(figsize=(15, 10))\n",
    "hours = dfvis1[\"hour\"]\n",
    "rides = dfvis1[\"total_yellow_rides\"]\n",
    "ax.bar(hours,rides)\n",
    "plt.xticks(fontsize=14)\n",
    "plt.yticks(fontsize=14)\n",
    "ax.set_xlabel('Hour',fontsize=18)\n",
    "ax.set_ylabel('Number of Rides',fontsize=18)\n",
    "ax.set_title(\"Which hour of the day was the most popular to take a Yellow Taxi? The result should have 24 bins\",fontsize=18)\n",
    "plt.show()"
   ]
  },
  {
   "cell_type": "markdown",
   "id": "3193b197",
   "metadata": {},
   "source": [
    "### 2. Create a visualization that shows the average distance traveled per month (regardless of year - so group by each month) for both taxis and Ubers combined. Include the 90% confidence interval around the mean in the visualization.\n"
   ]
  },
  {
   "cell_type": "code",
   "execution_count": 86,
   "id": "5439e889",
   "metadata": {},
   "outputs": [
    {
     "name": "stdout",
     "output_type": "stream",
     "text": [
      "[sqlalchemy] PRAGMA main.table_info(\"Select Distance,Date from uber\")\n",
      "[sqlalchemy] [raw sql] ()\n",
      "[sqlalchemy] PRAGMA temp.table_info(\"Select Distance,Date from uber\")\n",
      "[sqlalchemy] [raw sql] ()\n",
      "[sqlalchemy] Select Distance,Date from uber\n",
      "[sqlalchemy] [raw sql] ()\n",
      "[sqlalchemy] PRAGMA main.table_info(\"Select Distance,Date from yellow\")\n",
      "[sqlalchemy] [raw sql] ()\n",
      "[sqlalchemy] PRAGMA temp.table_info(\"Select Distance,Date from yellow\")\n",
      "[sqlalchemy] [raw sql] ()\n",
      "[sqlalchemy] Select Distance,Date from yellow\n",
      "[sqlalchemy] [raw sql] ()\n"
     ]
    },
    {
     "name": "stderr",
     "output_type": "stream",
     "text": [
      "C:\\Users\\Kunal\\AppData\\Local\\Temp\\ipykernel_11820\\3810796568.py:3: FutureWarning: The frame.append method is deprecated and will be removed from pandas in a future version. Use pandas.concat instead.\n",
      "  df_combined=df_uber.append(df_yellow)\n"
     ]
    }
   ],
   "source": [
    "df_uber=pd.read_sql(\"Select Distance,Date from uber\",con=engine)\n",
    "df_yellow=pd.read_sql(\"Select Distance,Date from yellow\",con=engine)\n",
    "df_combined=df_uber.append(df_yellow)"
   ]
  },
  {
   "cell_type": "code",
   "execution_count": 87,
   "id": "28c739fb",
   "metadata": {},
   "outputs": [
    {
     "data": {
      "text/plain": [
       "1259655"
      ]
     },
     "execution_count": 87,
     "metadata": {},
     "output_type": "execute_result"
    }
   ],
   "source": [
    "len(df_combined)"
   ]
  },
  {
   "cell_type": "code",
   "execution_count": 88,
   "id": "563d2474",
   "metadata": {},
   "outputs": [],
   "source": [
    "dfvis2=df_combined[[\"Distance\",\"Date\"]]"
   ]
  },
  {
   "cell_type": "code",
   "execution_count": 89,
   "id": "007f0b44",
   "metadata": {},
   "outputs": [
    {
     "data": {
      "text/html": [
       "<div>\n",
       "<style scoped>\n",
       "    .dataframe tbody tr th:only-of-type {\n",
       "        vertical-align: middle;\n",
       "    }\n",
       "\n",
       "    .dataframe tbody tr th {\n",
       "        vertical-align: top;\n",
       "    }\n",
       "\n",
       "    .dataframe thead th {\n",
       "        text-align: right;\n",
       "    }\n",
       "</style>\n",
       "<table border=\"1\" class=\"dataframe\">\n",
       "  <thead>\n",
       "    <tr style=\"text-align: right;\">\n",
       "      <th></th>\n",
       "      <th>Distance</th>\n",
       "      <th>Date</th>\n",
       "    </tr>\n",
       "  </thead>\n",
       "  <tbody>\n",
       "    <tr>\n",
       "      <th>0</th>\n",
       "      <td>1.683323</td>\n",
       "      <td>2015-05-07 20:00:00.000000</td>\n",
       "    </tr>\n",
       "    <tr>\n",
       "      <th>1</th>\n",
       "      <td>2.457590</td>\n",
       "      <td>2009-07-17 20:00:00.000000</td>\n",
       "    </tr>\n",
       "    <tr>\n",
       "      <th>2</th>\n",
       "      <td>5.036377</td>\n",
       "      <td>2009-08-24 22:00:00.000000</td>\n",
       "    </tr>\n",
       "    <tr>\n",
       "      <th>3</th>\n",
       "      <td>1.661683</td>\n",
       "      <td>2009-06-26 08:00:00.000000</td>\n",
       "    </tr>\n",
       "    <tr>\n",
       "      <th>4</th>\n",
       "      <td>4.475450</td>\n",
       "      <td>2014-08-28 18:00:00.000000</td>\n",
       "    </tr>\n",
       "  </tbody>\n",
       "</table>\n",
       "</div>"
      ],
      "text/plain": [
       "   Distance                        Date\n",
       "0  1.683323  2015-05-07 20:00:00.000000\n",
       "1  2.457590  2009-07-17 20:00:00.000000\n",
       "2  5.036377  2009-08-24 22:00:00.000000\n",
       "3  1.661683  2009-06-26 08:00:00.000000\n",
       "4  4.475450  2014-08-28 18:00:00.000000"
      ]
     },
     "execution_count": 89,
     "metadata": {},
     "output_type": "execute_result"
    }
   ],
   "source": [
    "dfvis2.head()"
   ]
  },
  {
   "cell_type": "code",
   "execution_count": 90,
   "id": "92caef11",
   "metadata": {},
   "outputs": [],
   "source": [
    "dfvis2=tdf[[\"Distance\",\"Date\"]].groupby(tdf.Date.dt.month)['Distance'].mean()"
   ]
  },
  {
   "cell_type": "code",
   "execution_count": 91,
   "id": "04d5f495",
   "metadata": {},
   "outputs": [
    {
     "data": {
      "text/plain": [
       "Date\n",
       "1     3.177195\n",
       "2     3.213851\n",
       "3     3.310184\n",
       "4     3.347576\n",
       "5     3.438803\n",
       "6     3.398810\n",
       "7     3.382849\n",
       "8     3.417610\n",
       "9     3.367912\n",
       "10    3.385765\n",
       "11    3.373499\n",
       "12    3.302147\n",
       "Name: Distance, dtype: float64"
      ]
     },
     "execution_count": 91,
     "metadata": {},
     "output_type": "execute_result"
    }
   ],
   "source": [
    "dfvis2"
   ]
  },
  {
   "cell_type": "code",
   "execution_count": 92,
   "id": "430efeec",
   "metadata": {},
   "outputs": [
    {
     "data": {
      "image/png": "[encoded data removed]",
      "text/plain": [
       "<Figure size 1080x720 with 1 Axes>"
      ]
     },
     "metadata": {
      "needs_background": "light"
     },
     "output_type": "display_data"
    }
   ],
   "source": [
    "fig, ax = plt.subplots(figsize=(15, 10))\n",
    "x = [\"Jan\", \"Feb\", \"Mar\", \"Apr\", \"May\", \"Jun\", \"Jul\", \"Aug\", \"Sep\", \"Oct\", \"Nov\", \"Dec\"]\n",
    "y = dfvis2\n",
    "# Define the confidence interval\n",
    "ci = 0.05 * np.std(y) / np.mean(y)\n",
    "# Plot the sinus function\n",
    "plt.plot(x, y,color='blue')\n",
    "# Plot the confidence interval\n",
    "plt.fill_between(x, (y-ci), (y+ci), color='red', alpha=0.1)\n",
    "plt.fill_between(x, (y-2*ci), (y+2*ci), color='red', alpha=0.1)\n",
    "plt.show()"
   ]
  },
  {
   "cell_type": "markdown",
   "id": "a84331a2",
   "metadata": {},
   "source": [
    "### 4. Create a heatmap of all hired trips over a map of the area. Consider using KeplerGL or another library that helps generate geospatial visualizations.\n"
   ]
  },
  {
   "cell_type": "code",
   "execution_count": 93,
   "id": "870806e8",
   "metadata": {},
   "outputs": [],
   "source": [
    "# !pip install keplergl"
   ]
  },
  {
   "cell_type": "code",
   "execution_count": 126,
   "id": "2d0f17ad",
   "metadata": {},
   "outputs": [
    {
     "data": {
      "text/plain": [
       "419885"
      ]
     },
     "execution_count": 126,
     "metadata": {},
     "output_type": "execute_result"
    }
   ],
   "source": [
    "len(df_combined)"
   ]
  },
  {
   "cell_type": "code",
   "execution_count": 127,
   "id": "b201b40d",
   "metadata": {},
   "outputs": [
    {
     "name": "stdout",
     "output_type": "stream",
     "text": [
      "[sqlalchemy] PRAGMA main.table_info(\"Select Date,Start_Lon,Start_Lat,End_Lon,End_Lat  from uber\")\n",
      "[sqlalchemy] [raw sql] ()\n",
      "[sqlalchemy] PRAGMA temp.table_info(\"Select Date,Start_Lon,Start_Lat,End_Lon,End_Lat  from uber\")\n",
      "[sqlalchemy] [raw sql] ()\n",
      "[sqlalchemy] Select Date,Start_Lon,Start_Lat,End_Lon,End_Lat  from uber\n",
      "[sqlalchemy] [raw sql] ()\n",
      "[sqlalchemy] PRAGMA main.table_info(\"Select Date,Start_Lon,Start_Lat,End_Lon,End_Lat  from yellow\")\n",
      "[sqlalchemy] [raw sql] ()\n",
      "[sqlalchemy] PRAGMA temp.table_info(\"Select Date,Start_Lon,Start_Lat,End_Lon,End_Lat  from yellow\")\n",
      "[sqlalchemy] [raw sql] ()\n",
      "[sqlalchemy] Select Date,Start_Lon,Start_Lat,End_Lon,End_Lat  from yellow\n",
      "[sqlalchemy] [raw sql] ()\n"
     ]
    },
    {
     "name": "stderr",
     "output_type": "stream",
     "text": [
      "C:\\Users\\Kunal\\AppData\\Local\\Temp\\ipykernel_11820\\2269989058.py:3: FutureWarning: The frame.append method is deprecated and will be removed from pandas in a future version. Use pandas.concat instead.\n",
      "  df_combined=df_uber.append(df_yellow)\n"
     ]
    }
   ],
   "source": [
    "df_uber=pd.read_sql(\"Select Date,Start_Lon,Start_Lat,End_Lon,End_Lat  from uber\",con=engine)\n",
    "df_yellow=pd.read_sql(\"Select Date,Start_Lon,Start_Lat,End_Lon,End_Lat  from yellow\",con=engine)\n",
    "df_combined=df_uber.append(df_yellow)"
   ]
  },
  {
   "cell_type": "code",
   "execution_count": 128,
   "id": "c81a8f83",
   "metadata": {},
   "outputs": [],
   "source": [
    "config1={'version': 'v1',\n",
    " 'config': {'visState': {'filters': [],\n",
    "   'layers': [{'id': '5ubthn',\n",
    "     'type': 'heatmap',\n",
    "     'config': {'dataId': 'New York City Taxi Trips',\n",
    "      'label': 'start',\n",
    "      'color': [18, 147, 154],\n",
    "      'highlightColor': [252, 242, 26, 255],\n",
    "      'columns': {'lat': 'Start_Lat', 'lng': 'Start_Lon'},\n",
    "      'isVisible': True,\n",
    "      'visConfig': {'opacity': 0.8,\n",
    "       'colorRange': {'name': 'Global Warming',\n",
    "        'type': 'sequential',\n",
    "        'category': 'Uber',\n",
    "        'colors': ['#5A1846',\n",
    "         '#900C3F',\n",
    "         '#C70039',\n",
    "         '#E3611C',\n",
    "         '#F1920E',\n",
    "         '#FFC300']},\n",
    "       'radius': 10},\n",
    "      'hidden': False,\n",
    "      'textLabel': [{'field': None,\n",
    "        'color': [255, 255, 255],\n",
    "        'size': 18,\n",
    "        'offset': [0, 0],\n",
    "        'anchor': 'start',\n",
    "        'alignment': 'center'}]},\n",
    "     'visualChannels': {'weightField': None, 'weightScale': 'linear'}},\n",
    "    {'id': '61sipgk',\n",
    "     'type': 'point',\n",
    "     'config': {'dataId': 'New York City Taxi Trips',\n",
    "      'label': 'end',\n",
    "      'color': [221, 178, 124],\n",
    "      'highlightColor': [252, 242, 26, 255],\n",
    "      'columns': {'lat': 'End_Lat', 'lng': 'End_Lon', 'altitude': None},\n",
    "      'isVisible': False,\n",
    "      'visConfig': {'radius': 10,\n",
    "       'fixedRadius': False,\n",
    "       'opacity': 0.8,\n",
    "       'outline': False,\n",
    "       'thickness': 2,\n",
    "       'strokeColor': None,\n",
    "       'colorRange': {'name': 'Global Warming',\n",
    "        'type': 'sequential',\n",
    "        'category': 'Uber',\n",
    "        'colors': ['#5A1846',\n",
    "         '#900C3F',\n",
    "         '#C70039',\n",
    "         '#E3611C',\n",
    "         '#F1920E',\n",
    "         '#FFC300']},\n",
    "       'strokeColorRange': {'name': 'Global Warming',\n",
    "        'type': 'sequential',\n",
    "        'category': 'Uber',\n",
    "        'colors': ['#5A1846',\n",
    "         '#900C3F',\n",
    "         '#C70039',\n",
    "         '#E3611C',\n",
    "         '#F1920E',\n",
    "         '#FFC300']},\n",
    "       'radiusRange': [0, 50],\n",
    "       'filled': True},\n",
    "      'hidden': False,\n",
    "      'textLabel': [{'field': None,\n",
    "        'color': [255, 255, 255],\n",
    "        'size': 18,\n",
    "        'offset': [0, 0],\n",
    "        'anchor': 'start',\n",
    "        'alignment': 'center'}]},\n",
    "     'visualChannels': {'colorField': None,\n",
    "      'colorScale': 'quantile',\n",
    "      'strokeColorField': None,\n",
    "      'strokeColorScale': 'quantile',\n",
    "      'sizeField': None,\n",
    "      'sizeScale': 'linear'}},\n",
    "    {'id': '1qcteg',\n",
    "     'type': 'arc',\n",
    "     'config': {'dataId': 'New York City Taxi Trips',\n",
    "      'label': 'start -> end arc',\n",
    "      'color': [146, 38, 198],\n",
    "      'highlightColor': [252, 242, 26, 255],\n",
    "      'columns': {'lat0': 'Start_Lat',\n",
    "       'lng0': 'Start_Lon',\n",
    "       'lat1': 'End_Lat',\n",
    "       'lng1': 'End_Lon'},\n",
    "      'isVisible': False,\n",
    "      'visConfig': {'opacity': 0.8,\n",
    "       'thickness': 2,\n",
    "       'colorRange': {'name': 'Global Warming',\n",
    "        'type': 'sequential',\n",
    "        'category': 'Uber',\n",
    "        'colors': ['#5A1846',\n",
    "         '#900C3F',\n",
    "         '#C70039',\n",
    "         '#E3611C',\n",
    "         '#F1920E',\n",
    "         '#FFC300']},\n",
    "       'sizeRange': [0, 10],\n",
    "       'targetColor': None},\n",
    "      'hidden': False,\n",
    "      'textLabel': [{'field': None,\n",
    "        'color': [255, 255, 255],\n",
    "        'size': 18,\n",
    "        'offset': [0, 0],\n",
    "        'anchor': 'start',\n",
    "        'alignment': 'center'}]},\n",
    "     'visualChannels': {'colorField': None,\n",
    "      'colorScale': 'quantile',\n",
    "      'sizeField': None,\n",
    "      'sizeScale': 'linear'}},\n",
    "    {'id': 'e57dwbw',\n",
    "     'type': 'line',\n",
    "     'config': {'dataId': 'New York City Taxi Trips',\n",
    "      'label': 'start -> end line',\n",
    "      'color': [136, 87, 44],\n",
    "      'highlightColor': [252, 242, 26, 255],\n",
    "      'columns': {'lat0': 'Start_Lat',\n",
    "       'lng0': 'Start_Lon',\n",
    "       'lat1': 'End_Lat',\n",
    "       'lng1': 'End_Lon',\n",
    "       'alt0': None,\n",
    "       'alt1': None},\n",
    "      'isVisible': False,\n",
    "      'visConfig': {'opacity': 0.8,\n",
    "       'thickness': 2,\n",
    "       'colorRange': {'name': 'Global Warming',\n",
    "        'type': 'sequential',\n",
    "        'category': 'Uber',\n",
    "        'colors': ['#5A1846',\n",
    "         '#900C3F',\n",
    "         '#C70039',\n",
    "         '#E3611C',\n",
    "         '#F1920E',\n",
    "         '#FFC300']},\n",
    "       'sizeRange': [0, 10],\n",
    "       'targetColor': None,\n",
    "       'elevationScale': 1},\n",
    "      'hidden': False,\n",
    "      'textLabel': [{'field': None,\n",
    "        'color': [255, 255, 255],\n",
    "        'size': 18,\n",
    "        'offset': [0, 0],\n",
    "        'anchor': 'start',\n",
    "        'alignment': 'center'}]},\n",
    "     'visualChannels': {'colorField': None,\n",
    "      'colorScale': 'quantile',\n",
    "      'sizeField': None,\n",
    "      'sizeScale': 'linear'}}],\n",
    "   'interactionConfig': {'tooltip': {'fieldsToShow': {'New York City Taxi Trips': [{'name': 'Date',\n",
    "        'format': None},\n",
    "       {'name': 'Start_Lon', 'format': None},\n",
    "       {'name': 'Start_Lat', 'format': None},\n",
    "       {'name': 'End_Lon', 'format': None},\n",
    "       {'name': 'End_Lat', 'format': None}]},\n",
    "     'compareMode': False,\n",
    "     'compareType': 'absolute',\n",
    "     'enabled': True},\n",
    "    'brush': {'size': 0.5, 'enabled': False},\n",
    "    'geocoder': {'enabled': False},\n",
    "    'coordinate': {'enabled': False}},\n",
    "   'layerBlending': 'normal',\n",
    "   'splitMaps': [],\n",
    "   'animationConfig': {'currentTime': None, 'speed': 1}},\n",
    "  'mapState': {'bearing': 0,\n",
    "   'dragRotate': False,\n",
    "   'latitude': 40.7535153683857,\n",
    "   'longitude': -73.92178320729087,\n",
    "   'pitch': 0,\n",
    "   'zoom': 11.273086327374635,\n",
    "   'isSplit': False},\n",
    "  'mapStyle': {'styleType': 'dark',\n",
    "   'topLayerGroups': {},\n",
    "   'visibleLayerGroups': {'label': True,\n",
    "    'road': True,\n",
    "    'border': False,\n",
    "    'building': True,\n",
    "    'water': True,\n",
    "    'land': True,\n",
    "    '3d building': False},\n",
    "   'threeDBuildingColor': [9.665468314072013,\n",
    "    17.18305478057247,\n",
    "    31.1442867897876],\n",
    "   'mapStyles': {}}}}"
   ]
  },
  {
   "cell_type": "code",
   "execution_count": 129,
   "id": "396ed800",
   "metadata": {},
   "outputs": [
    {
     "name": "stdout",
     "output_type": "stream",
     "text": [
      "User Guide: https://docs.kepler.gl/docs/keplergl-jupyter\n",
      "Map saved to mapadist.html!\n"
     ]
    },
    {
     "data": {
      "application/vnd.jupyter.widget-view+json": {
       "model_id": "d31fc94438304f65a0d091ce67fef6a1",
       "version_major": 2,
       "version_minor": 0
      },
      "text/plain": [
       "KeplerGl(config={'version': 'v1', 'config': {'visState': {'filters': [], 'layers': [{'id': '5ubthn', 'type': '…"
      ]
     },
     "metadata": {},
     "output_type": "display_data"
    }
   ],
   "source": [
    "map_1 = KeplerGl(height=700,config=config1)\n",
    "dfkepler=pd.read_csv(\"keplertestdata.csv\")\n",
    "df_combined_sub=df_combined.sample(100000)\n",
    "map_1.add_data(data=df_combined_sub,name='New York City Taxi Trips')\n",
    "map_1.save_to_html(file_name='mapadist.html',read_only=True)\n",
    "map_1"
   ]
  },
  {
   "cell_type": "code",
   "execution_count": null,
   "id": "baa5d616",
   "metadata": {},
   "outputs": [],
   "source": []
  },
  {
   "cell_type": "markdown",
   "id": "89d788a3",
   "metadata": {},
   "source": [
    "### 5. Create a scatter plot that compares tip amount versus distance for Yellow Taxi rides. You may remove any outliers how you see fit."
   ]
  },
  {
   "cell_type": "code",
   "execution_count": 130,
   "id": "6f8ecb6b",
   "metadata": {},
   "outputs": [
    {
     "name": "stdout",
     "output_type": "stream",
     "text": [
      "[sqlalchemy] PRAGMA main.table_info(\"Select * from yellow\")\n",
      "[sqlalchemy] [raw sql] ()\n",
      "[sqlalchemy] PRAGMA temp.table_info(\"Select * from yellow\")\n",
      "[sqlalchemy] [raw sql] ()\n",
      "[sqlalchemy] Select * from yellow\n",
      "[sqlalchemy] [raw sql] ()\n"
     ]
    }
   ],
   "source": [
    "dfvis5=pd.read_sql(\"Select * from yellow\",con=engine)"
   ]
  },
  {
   "cell_type": "code",
   "execution_count": 131,
   "id": "53869212",
   "metadata": {},
   "outputs": [],
   "source": [
    "dfvis5=dfvis5[dfvis5[\"Tip_Amt\"]!=0]\n",
    "dfvis5=dfvis5[dfvis5[\"Tip_Amt\"]<=15]\n",
    "dfvis5=dfvis5[dfvis5[\"Distance\"]!=0]\n",
    "dfvis5=dfvis5[dfvis5[\"Distance\"] <= 25]"
   ]
  },
  {
   "cell_type": "code",
   "execution_count": 132,
   "id": "18dad147",
   "metadata": {},
   "outputs": [
    {
     "data": {
      "text/html": [
       "<div>\n",
       "<style scoped>\n",
       "    .dataframe tbody tr th:only-of-type {\n",
       "        vertical-align: middle;\n",
       "    }\n",
       "\n",
       "    .dataframe tbody tr th {\n",
       "        vertical-align: top;\n",
       "    }\n",
       "\n",
       "    .dataframe thead th {\n",
       "        text-align: right;\n",
       "    }\n",
       "</style>\n",
       "<table border=\"1\" class=\"dataframe\">\n",
       "  <thead>\n",
       "    <tr style=\"text-align: right;\">\n",
       "      <th></th>\n",
       "      <th>index</th>\n",
       "      <th>Trip_Pickup_DateTime</th>\n",
       "      <th>Start_Lon</th>\n",
       "      <th>Start_Lat</th>\n",
       "      <th>End_Lon</th>\n",
       "      <th>End_Lat</th>\n",
       "      <th>Tip_Amt</th>\n",
       "      <th>Total_Amt</th>\n",
       "      <th>Date</th>\n",
       "      <th>Distance</th>\n",
       "      <th>Type</th>\n",
       "    </tr>\n",
       "  </thead>\n",
       "  <tbody>\n",
       "    <tr>\n",
       "      <th>3</th>\n",
       "      <td>3</td>\n",
       "      <td>2009-01-06 18:34:58</td>\n",
       "      <td>-73.957687</td>\n",
       "      <td>40.765477</td>\n",
       "      <td>-73.977345</td>\n",
       "      <td>40.729237</td>\n",
       "      <td>1.00</td>\n",
       "      <td>12.10</td>\n",
       "      <td>2009-01-06 19:00:00.000000</td>\n",
       "      <td>4.356703</td>\n",
       "      <td>Yellow</td>\n",
       "    </tr>\n",
       "    <tr>\n",
       "      <th>4</th>\n",
       "      <td>4</td>\n",
       "      <td>2009-01-02 09:52:00</td>\n",
       "      <td>-74.000105</td>\n",
       "      <td>40.761962</td>\n",
       "      <td>-73.971110</td>\n",
       "      <td>40.759072</td>\n",
       "      <td>2.00</td>\n",
       "      <td>9.70</td>\n",
       "      <td>2009-01-02 10:00:00.000000</td>\n",
       "      <td>2.463129</td>\n",
       "      <td>Yellow</td>\n",
       "    </tr>\n",
       "    <tr>\n",
       "      <th>5</th>\n",
       "      <td>5</td>\n",
       "      <td>2009-01-08 08:35:00</td>\n",
       "      <td>-73.923145</td>\n",
       "      <td>40.743860</td>\n",
       "      <td>-73.968245</td>\n",
       "      <td>40.751400</td>\n",
       "      <td>2.00</td>\n",
       "      <td>12.50</td>\n",
       "      <td>2009-01-08 09:00:00.000000</td>\n",
       "      <td>3.890651</td>\n",
       "      <td>Yellow</td>\n",
       "    </tr>\n",
       "    <tr>\n",
       "      <th>7</th>\n",
       "      <td>7</td>\n",
       "      <td>2009-01-21 10:06:26</td>\n",
       "      <td>-74.010729</td>\n",
       "      <td>40.714148</td>\n",
       "      <td>-74.010986</td>\n",
       "      <td>40.714739</td>\n",
       "      <td>4.87</td>\n",
       "      <td>37.37</td>\n",
       "      <td>2009-01-21 10:00:00.000000</td>\n",
       "      <td>0.069194</td>\n",
       "      <td>Yellow</td>\n",
       "    </tr>\n",
       "    <tr>\n",
       "      <th>23</th>\n",
       "      <td>23</td>\n",
       "      <td>2009-01-26 03:09:46</td>\n",
       "      <td>-73.985112</td>\n",
       "      <td>40.759521</td>\n",
       "      <td>-73.993492</td>\n",
       "      <td>40.758876</td>\n",
       "      <td>1.15</td>\n",
       "      <td>5.75</td>\n",
       "      <td>2009-01-26 03:00:00.000000</td>\n",
       "      <td>0.709446</td>\n",
       "      <td>Yellow</td>\n",
       "    </tr>\n",
       "  </tbody>\n",
       "</table>\n",
       "</div>"
      ],
      "text/plain": [
       "    index Trip_Pickup_DateTime  Start_Lon  Start_Lat    End_Lon    End_Lat  \\\n",
       "3       3  2009-01-06 18:34:58 -73.957687  40.765477 -73.977345  40.729237   \n",
       "4       4  2009-01-02 09:52:00 -74.000105  40.761962 -73.971110  40.759072   \n",
       "5       5  2009-01-08 08:35:00 -73.923145  40.743860 -73.968245  40.751400   \n",
       "7       7  2009-01-21 10:06:26 -74.010729  40.714148 -74.010986  40.714739   \n",
       "23     23  2009-01-26 03:09:46 -73.985112  40.759521 -73.993492  40.758876   \n",
       "\n",
       "    Tip_Amt  Total_Amt                        Date  Distance    Type  \n",
       "3      1.00      12.10  2009-01-06 19:00:00.000000  4.356703  Yellow  \n",
       "4      2.00       9.70  2009-01-02 10:00:00.000000  2.463129  Yellow  \n",
       "5      2.00      12.50  2009-01-08 09:00:00.000000  3.890651  Yellow  \n",
       "7      4.87      37.37  2009-01-21 10:00:00.000000  0.069194  Yellow  \n",
       "23     1.15       5.75  2009-01-26 03:00:00.000000  0.709446  Yellow  "
      ]
     },
     "execution_count": 132,
     "metadata": {},
     "output_type": "execute_result"
    }
   ],
   "source": [
    "dfvis5.head()"
   ]
  },
  {
   "cell_type": "code",
   "execution_count": 133,
   "id": "344dc554",
   "metadata": {},
   "outputs": [
    {
     "data": {
      "image/png": "[encoded data removed]",
      "text/plain": [
       "<Figure size 1080x720 with 1 Axes>"
      ]
     },
     "metadata": {
      "needs_background": "light"
     },
     "output_type": "display_data"
    }
   ],
   "source": [
    "dfvis5sample=dfvis5.sample(1000)\n",
    "fig, ax = plt.subplots(figsize=(15, 10))\n",
    "x = dfvis5sample[\"Distance\"]\n",
    "y = dfvis5sample[\"Tip_Amt\"]\n",
    "\n",
    "plt.scatter(x, y)\n",
    "plt.show()"
   ]
  },
  {
   "cell_type": "markdown",
   "id": "5827ea01",
   "metadata": {},
   "source": [
    "### 6. Create another scatter plot that compares tip amount versus precipitation amount for Yellow Taxi rides. You may remove any outliers how you see fit."
   ]
  },
  {
   "cell_type": "code",
   "execution_count": null,
   "id": "3564bca7",
   "metadata": {},
   "outputs": [],
   "source": [
    "df_yellow=pd.read_sql(\"Select * from yellow\",con=engine)"
   ]
  },
  {
   "cell_type": "code",
   "execution_count": null,
   "id": "073c3bf2",
   "metadata": {},
   "outputs": [],
   "source": [
    "df_hourly=pd.read_sql(\"Select * from hourweather\",con=engine)"
   ]
  },
  {
   "cell_type": "code",
   "execution_count": null,
   "id": "9f5809d5",
   "metadata": {},
   "outputs": [],
   "source": [
    "df_hourly.head()"
   ]
  },
  {
   "cell_type": "code",
   "execution_count": null,
   "id": "9c7966c4",
   "metadata": {},
   "outputs": [],
   "source": [
    "df_yellow=df_yellow[[\"Date\",\"Tip_Amt\",\"Distance\"]]"
   ]
  },
  {
   "cell_type": "code",
   "execution_count": null,
   "id": "9407f65a",
   "metadata": {},
   "outputs": [],
   "source": []
  },
  {
   "cell_type": "code",
   "execution_count": null,
   "id": "2aa93ff2",
   "metadata": {},
   "outputs": [],
   "source": [
    "dfvis6 = pd.merge(df_yellow, df_hourly, how='inner', left_on = 'Date', right_on = 'DATE')\n",
    "dfvis6=dfvis6[dfvis6[\"Tip_Amt\"]!=0]\n",
    "dfvis6=dfvis6[dfvis6[\"HourlyPrecipitation\"]!=0]\n",
    "dfvis6=dfvis6[dfvis6[\"HourlyPrecipitation\"]<=0.5]\n",
    "dfvis6=dfvis6[dfvis6[\"Tip_Amt\"]<=15]\n",
    "dfvis6=dfvis6[dfvis6[\"Distance\"]!=0]\n",
    "dfvis6=dfvis6[dfvis6[\"Distance\"] <= 25]"
   ]
  },
  {
   "cell_type": "code",
   "execution_count": null,
   "id": "496a520d",
   "metadata": {},
   "outputs": [],
   "source": [
    "dfvis6.tail()"
   ]
  },
  {
   "cell_type": "code",
   "execution_count": null,
   "id": "3d535d2a",
   "metadata": {},
   "outputs": [],
   "source": [
    "dfvis6sample=dfvis6.sample(1000)\n",
    "fig, ax = plt.subplots(figsize=(15, 10))\n",
    "x = dfvis6sample[\"HourlyPrecipitation\"]\n",
    "y = dfvis6sample[\"Tip_Amt\"]\n",
    "\n",
    "plt.scatter(x, y)\n",
    "plt.show()"
   ]
  },
  {
   "cell_type": "code",
   "execution_count": null,
   "id": "5bf46e14",
   "metadata": {},
   "outputs": [],
   "source": []
  }
 ],
 "metadata": {
  "kernelspec": {
   "display_name": "Python 3 (ipykernel)",
   "language": "python",
   "name": "python3"
  },
  "language_info": {
   "codemirror_mode": {
    "name": "ipython",
    "version": 3
   },
   "file_extension": ".py",
   "mimetype": "text/x-python",
   "name": "python",
   "nbconvert_exporter": "python",
   "pygments_lexer": "ipython3",
   "version": "3.9.7"
  }
 },
 "nbformat": 4,
 "nbformat_minor": 5
}
